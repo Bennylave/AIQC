{
 "cells": [
  {
   "cell_type": "code",
   "execution_count": 1,
   "id": "waiting-oasis",
   "metadata": {},
   "outputs": [],
   "source": [
    "import aiqc"
   ]
  },
  {
   "cell_type": "code",
   "execution_count": 2,
   "id": "gentle-portland",
   "metadata": {},
   "outputs": [],
   "source": [
    "from aiqc import tests"
   ]
  },
  {
   "cell_type": "code",
   "execution_count": 3,
   "id": "frequent-energy",
   "metadata": {},
   "outputs": [
    {
     "name": "stdout",
     "output_type": "stream",
     "text": [
      "\n",
      "___/ featurecoder_index: 0 \\_________\n",
      "\n",
      "=> The column(s) below matched your filter(s) and were ran through a test-encoding successfully.\n",
      "['a',\n",
      " 'b',\n",
      " 'c',\n",
      " 'd',\n",
      " 'e',\n",
      " 'f',\n",
      " 'g',\n",
      " 'h',\n",
      " 'i',\n",
      " 'j',\n",
      " 'k',\n",
      " 'l',\n",
      " 'm',\n",
      " 'n',\n",
      " 'o',\n",
      " 'p',\n",
      " 'q',\n",
      " 'r',\n",
      " 's',\n",
      " 't',\n",
      " 'u',\n",
      " 'v',\n",
      " 'w',\n",
      " 'x',\n",
      " 'y',\n",
      " 'z',\n",
      " 'aa',\n",
      " 'ab',\n",
      " 'ac',\n",
      " 'ad',\n",
      " 'ae',\n",
      " 'af',\n",
      " 'ag',\n",
      " 'ah',\n",
      " 'ai',\n",
      " 'aj',\n",
      " 'ak',\n",
      " 'al',\n",
      " 'am',\n",
      " 'an',\n",
      " 'ao',\n",
      " 'ap',\n",
      " 'aq',\n",
      " 'ar',\n",
      " 'as',\n",
      " 'at',\n",
      " 'au',\n",
      " 'av',\n",
      " 'aw',\n",
      " 'ax',\n",
      " 'ay',\n",
      " 'az',\n",
      " 'ba',\n",
      " 'bb',\n",
      " 'bc',\n",
      " 'bd',\n",
      " 'be',\n",
      " 'bf',\n",
      " 'bg',\n",
      " 'bh']\n",
      "\n",
      "=> Nice! Now all feature column(s) have encoder(s) associated with them.\n",
      "No more Featurecoders can be added to this Encoderset.\n",
      "\n"
     ]
    }
   ],
   "source": [
    "batch = tests.make_test_batch(\"binary\")"
   ]
  },
  {
   "cell_type": "code",
   "execution_count": 4,
   "id": "qualified-sentence",
   "metadata": {},
   "outputs": [
    {
     "name": "stderr",
     "output_type": "stream",
     "text": [
      "🔮 Training Models 🔮:  25%|██████████▌                               | 1/4 [00:08<00:25,  8.61s/it]\n"
     ]
    },
    {
     "name": "stdout",
     "output_type": "stream",
     "text": [
      "\n",
      "Queue was gracefully interrupted.\n",
      "\n"
     ]
    }
   ],
   "source": [
    "batch.run_jobs()"
   ]
  }
 ],
 "metadata": {
  "kernelspec": {
   "display_name": "Python 3",
   "language": "python",
   "name": "python3"
  },
  "language_info": {
   "codemirror_mode": {
    "name": "ipython",
    "version": 3
   },
   "file_extension": ".py",
   "mimetype": "text/x-python",
   "name": "python",
   "nbconvert_exporter": "python",
   "pygments_lexer": "ipython3",
   "version": "3.8.7"
  }
 },
 "nbformat": 4,
 "nbformat_minor": 5
}
