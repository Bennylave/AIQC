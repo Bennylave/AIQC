{
 "cells": [
  {
   "cell_type": "code",
   "execution_count": 6,
   "id": "prime-queue",
   "metadata": {},
   "outputs": [],
   "source": [
    "import sys, os, platform"
   ]
  },
  {
   "cell_type": "code",
   "execution_count": 8,
   "id": "comprehensive-phrase",
   "metadata": {},
   "outputs": [
    {
     "data": {
      "text/plain": [
       "'CPython'"
      ]
     },
     "execution_count": 8,
     "metadata": {},
     "output_type": "execute_result"
    }
   ],
   "source": [
    "platform.python_implementation()"
   ]
  },
  {
   "cell_type": "code",
   "execution_count": 3,
   "id": "united-despite",
   "metadata": {},
   "outputs": [
    {
     "data": {
      "text/plain": [
       "'3.8.7 (default, Jan 28 2021, 17:14:59) \\n[Clang 12.0.0 (clang-1200.0.31.1)]'"
      ]
     },
     "execution_count": 3,
     "metadata": {},
     "output_type": "execute_result"
    }
   ],
   "source": [
    "sys.version"
   ]
  },
  {
   "cell_type": "code",
   "execution_count": 7,
   "id": "central-restaurant",
   "metadata": {},
   "outputs": [
    {
     "data": {
      "text/plain": [
       "'Darwin Kernel Version 20.3.0: Thu Jan 21 00:07:06 PST 2021; root:xnu-7195.81.3~1/RELEASE_X86_64'"
      ]
     },
     "execution_count": 7,
     "metadata": {},
     "output_type": "execute_result"
    }
   ],
   "source": [
    "platform.version()"
   ]
  },
  {
   "cell_type": "code",
   "execution_count": 12,
   "id": "respective-single",
   "metadata": {},
   "outputs": [
    {
     "name": "stdout",
     "output_type": "stream",
     "text": [
      "JupyterLab v3.0.9\n",
      "/Users/layne/.pyenv/versions/3.8.7/envs/jupyterlab3/share/jupyter/labextensions\n",
      "        @jupyter-widgets/jupyterlab-manager v3.0.0 \u001b[32menabled\u001b[0m \u001b[32mOK\u001b[0m (python, jupyterlab_widgets)\n",
      "\n",
      "Other labextensions (built into JupyterLab)\n",
      "   app dir: /Users/layne/.pyenv/versions/3.8.7/envs/jupyterlab3/share/jupyter/lab\n",
      "        @jupyterlab/debugger v3.0.7 \u001b[32menabled\u001b[0m \u001b[32mOK\u001b[0m\n",
      "        jupyterlab-plotly v4.14.3 \u001b[32menabled\u001b[0m \u001b[32mOK\u001b[0m\n",
      "\n"
     ]
    }
   ],
   "source": [
    "!jupyter labextension list"
   ]
  },
  {
   "cell_type": "code",
   "execution_count": 9,
   "id": "wrong-investigation",
   "metadata": {},
   "outputs": [
    {
     "name": "stdout",
     "output_type": "stream",
     "text": [
      "Package                       Version\n",
      "----------------------------- ---------\n",
      "absl-py                       0.11.0\n",
      "alabaster                     0.7.12\n",
      "anyio                         2.0.2\n",
      "appdirs                       1.4.4\n",
      "appnope                       0.1.2\n",
      "argon2-cffi                   20.1.0\n",
      "astunparse                    1.6.3\n",
      "async-generator               1.10\n",
      "attrs                         20.3.0\n",
      "Babel                         2.9.0\n",
      "backcall                      0.2.0\n",
      "bleach                        3.2.3\n",
      "cachetools                    4.2.1\n",
      "certifi                       2020.12.5\n",
      "cffi                          1.14.4\n",
      "chardet                       4.0.0\n",
      "cloudpickle                   1.6.0\n",
      "colorama                      0.4.4\n",
      "cycler                        0.10.0\n",
      "decorator                     4.4.2\n",
      "defusedxml                    0.6.0\n",
      "dill                          0.3.3\n",
      "docutils                      0.16\n",
      "entrypoints                   0.3\n",
      "flatbuffers                   1.12\n",
      "fsspec                        0.9.0\n",
      "gast                          0.3.3\n",
      "google-auth                   1.24.0\n",
      "google-auth-oauthlib          0.4.2\n",
      "google-pasta                  0.2.0\n",
      "grpcio                        1.32.0\n",
      "h5py                          2.10.0\n",
      "idna                          2.10\n",
      "imagesize                     1.2.0\n",
      "ipykernel                     5.4.3\n",
      "ipython                       7.19.0\n",
      "ipython-genutils              0.2.0\n",
      "ipywidgets                    7.6.3\n",
      "jedi                          0.17.2\n",
      "Jinja2                        2.11.2\n",
      "joblib                        1.0.0\n",
      "json5                         0.9.5\n",
      "jsonschema                    3.2.0\n",
      "jupyter-client                6.1.11\n",
      "jupyter-core                  4.7.0\n",
      "jupyter-packaging             0.7.12\n",
      "jupyter-server                1.4.1\n",
      "jupyterlab                    3.0.9\n",
      "jupyterlab-pygments           0.1.2\n",
      "jupyterlab-server             2.3.0\n",
      "jupyterlab-widgets            1.0.0\n",
      "Keras                         2.4.3\n",
      "Keras-Preprocessing           1.1.2\n",
      "keyring                       22.0.1\n",
      "kiwisolver                    1.3.1\n",
      "locket                        0.2.1\n",
      "Markdown                      3.3.3\n",
      "MarkupSafe                    1.1.1\n",
      "matplotlib                    3.3.4\n",
      "mistune                       0.8.4\n",
      "natsort                       7.1.1\n",
      "nbclassic                     0.2.6\n",
      "nbclient                      0.5.1\n",
      "nbconvert                     6.0.7\n",
      "nbformat                      5.1.2\n",
      "nbsphinx                      0.8.0\n",
      "nest-asyncio                  1.5.1\n",
      "notebook                      6.2.0\n",
      "numexpr                       2.7.2\n",
      "numpy                         1.19.5\n",
      "oauthlib                      3.1.0\n",
      "opt-einsum                    3.3.0\n",
      "packaging                     20.8\n",
      "pandas                        1.2.3\n",
      "pandocfilters                 1.4.3\n",
      "parso                         0.7.1\n",
      "partd                         1.1.0\n",
      "peewee                        3.14.3\n",
      "pexpect                       4.8.0\n",
      "pickleshare                   0.7.5\n",
      "Pillow                        8.1.2\n",
      "pip                           21.0\n",
      "pkginfo                       1.7.0\n",
      "plotly                        4.14.3\n",
      "pluggy                        0.13.1\n",
      "prometheus-client             0.9.0\n",
      "prompt-toolkit                3.0.14\n",
      "protobuf                      3.14.0\n",
      "ptyprocess                    0.7.0\n",
      "pyarrow                       3.0.0\n",
      "pyasn1                        0.4.8\n",
      "pyasn1-modules                0.2.8\n",
      "pycparser                     2.20\n",
      "Pygments                      2.7.4\n",
      "pyparsing                     2.4.7\n",
      "pyrsistent                    0.17.3\n",
      "python-dateutil               2.8.1\n",
      "python-jsonrpc-server         0.4.0\n",
      "python-language-server        0.36.2\n",
      "pytz                          2020.5\n",
      "PyYAML                        5.4.1\n",
      "pyzmq                         22.0.0\n",
      "readme-renderer               28.0\n",
      "requests                      2.25.1\n",
      "requests-oauthlib             1.3.0\n",
      "requests-toolbelt             0.9.1\n",
      "retrying                      1.3.3\n",
      "rfc3986                       1.4.0\n",
      "rsa                           4.7\n",
      "scikit-learn                  0.24.1\n",
      "scipy                         1.6.0\n",
      "Send2Trash                    1.5.0\n",
      "setuptools                    49.2.1\n",
      "six                           1.15.0\n",
      "sniffio                       1.2.0\n",
      "snowballstemmer               2.1.0\n",
      "Sphinx                        3.4.3\n",
      "sphinx-copybutton             0.3.1\n",
      "sphinx-rtd-theme              0.5.0\n",
      "sphinxcontrib-applehelp       1.0.2\n",
      "sphinxcontrib-devhelp         1.0.2\n",
      "sphinxcontrib-htmlhelp        1.0.3\n",
      "sphinxcontrib-jsmath          1.0.1\n",
      "sphinxcontrib-qthelp          1.0.3\n",
      "sphinxcontrib-serializinghtml 1.1.4\n",
      "sphinxext-opengraph           0.4.1\n",
      "tables                        3.6.1\n",
      "tensorboard                   2.4.1\n",
      "tensorboard-plugin-wit        1.8.0\n",
      "tensorflow                    2.4.1\n",
      "tensorflow-estimator          2.4.0\n",
      "termcolor                     1.1.0\n",
      "terminado                     0.9.2\n",
      "testpath                      0.4.4\n",
      "threadpoolctl                 2.1.0\n",
      "toolz                         0.11.1\n",
      "torch                         1.8.1\n",
      "torchmetrics                  0.2.0\n",
      "tornado                       6.1\n",
      "tqdm                          4.59.0\n",
      "traitlets                     5.0.5\n",
      "twine                         3.3.0\n",
      "typing-extensions             3.7.4.3\n",
      "ujson                         4.0.2\n",
      "urllib3                       1.26.3\n",
      "validators                    0.18.2\n",
      "wcwidth                       0.2.5\n",
      "webencodings                  0.5.1\n",
      "Werkzeug                      1.0.1\n",
      "wheel                         0.36.2\n",
      "widgetsnbextension            3.5.1\n",
      "wrapt                         1.12.1\n",
      "\u001b[33mWARNING: You are using pip version 21.0; however, version 21.0.1 is available.\n",
      "You should consider upgrading via the '/Users/layne/.pyenv/versions/3.8.7/envs/jupyterlab3/bin/python3.8 -m pip install --upgrade pip' command.\u001b[0m\n",
      "Note: you may need to restart the kernel to use updated packages.\n"
     ]
    }
   ],
   "source": [
    "pip list"
   ]
  },
  {
   "cell_type": "code",
   "execution_count": 13,
   "id": "established-dublin",
   "metadata": {},
   "outputs": [
    {
     "data": {
      "text/plain": [
       "{'VIRTUALENVWRAPPER_SCRIPT': '/usr/local/bin/virtualenvwrapper.sh',\n",
       " 'TERM_PROGRAM': 'iTerm.app',\n",
       " 'PYENV_ROOT': '/Users/layne/.pyenv',\n",
       " 'TERM': 'xterm-color',\n",
       " 'SHELL': '/bin/zsh',\n",
       " 'TMPDIR': '/var/folders/px/s8tndwzx5qsd2qp58hbxz0tc0000gn/T/',\n",
       " 'TERM_PROGRAM_VERSION': '3.4.4',\n",
       " 'TERM_SESSION_ID': 'w0t1p0:336E9B4B-9D45-463A-A293-A6CDE199F1C7',\n",
       " 'PYENV_VERSION': 'jupyterlab3',\n",
       " 'ZSH': '/Users/layne/.oh-my-zsh',\n",
       " 'USER': 'layne',\n",
       " 'COMMAND_MODE': 'unix2003',\n",
       " 'SSH_AUTH_SOCK': '/private/tmp/com.apple.launchd.UjjpHi76am/Listeners',\n",
       " 'PYENV_DIR': '/Users/layne/desktop/aiqc',\n",
       " '__CF_USER_TEXT_ENCODING': '0x1F5:0x0:0x0',\n",
       " 'PYENV_VIRTUALENV_INIT': '1',\n",
       " 'VIRTUAL_ENV': '/Users/layne/.pyenv/versions/3.8.7/envs/jupyterlab3',\n",
       " 'VIRTUAL_ENV_DISABLE_PROMPT': '1',\n",
       " 'PAGER': 'cat',\n",
       " 'PYENV_VIRTUAL_ENV': '/Users/layne/.pyenv/versions/3.8.7/envs/jupyterlab3',\n",
       " 'LSCOLORS': 'Gxfxcxdxbxegedabagacad',\n",
       " 'PATH': '/Users/layne/.pyenv/versions/jupyterlab3/bin:/usr/local/Cellar/pyenv/1.2.23/libexec:/usr/local/Cellar/pyenv/1.2.23/plugins/python-build/bin:/usr/local/Cellar/pyenv-virtualenv/1.1.5/shims:/Users/layne/.pyenv/shims:/usr/local/bin:/usr/local/sbin:/usr/local/Cellar/pyenv-virtualenv/1.1.5/shims:/Users/layne/.pyenv/shims:/usr/local/bin:/usr/bin:/bin:/usr/sbin:/sbin:/Users/layne/Library/Python/3.7/bin',\n",
       " '__CFBundleIdentifier': 'com.googlecode.iterm2',\n",
       " 'PWD': '/Users/layne/desktop/aiqc',\n",
       " 'P9K_SSH': '0',\n",
       " 'P9K_TTY': 'old',\n",
       " 'LANG': 'en_US.UTF-8',\n",
       " 'ITERM_PROFILE': 'Default',\n",
       " 'PYENV_HOOK_PATH': '/Users/layne/.pyenv/pyenv.d:/usr/local/Cellar/pyenv/1.2.23/pyenv.d:/usr/local/etc/pyenv.d:/etc/pyenv.d:/usr/lib/pyenv/hooks',\n",
       " 'XPC_FLAGS': '0x0',\n",
       " 'XPC_SERVICE_NAME': '0',\n",
       " 'PYENV_SHELL': 'zsh',\n",
       " 'SHLVL': '1',\n",
       " 'HOME': '/Users/layne',\n",
       " 'COLORFGBG': '15;0',\n",
       " '_VIRTUALENVWRAPPER_API': ' mkvirtualenv rmvirtualenv lsvirtualenv showvirtualenv workon add2virtualenv cdsitepackages cdvirtualenv lssitepackages toggleglobalsitepackages cpvirtualenv setvirtualenvproject mkproject cdproject mktmpenv wipeenv allvirtualenv',\n",
       " 'LC_TERMINAL_VERSION': '3.4.4',\n",
       " 'ITERM_SESSION_ID': 'w0t1p0:336E9B4B-9D45-463A-A293-A6CDE199F1C7',\n",
       " 'LESS': '-R',\n",
       " 'LOGNAME': 'layne',\n",
       " 'LC_TERMINAL': 'iTerm2',\n",
       " 'PYENV_ACTIVATE_SHELL': '1',\n",
       " 'COLORTERM': 'truecolor',\n",
       " 'JPY_PARENT_PID': '12953',\n",
       " 'CLICOLOR': '1',\n",
       " 'GIT_PAGER': 'cat',\n",
       " 'MPLBACKEND': 'module://ipykernel.pylab.backend_inline'}"
      ]
     },
     "execution_count": 13,
     "metadata": {},
     "output_type": "execute_result"
    }
   ],
   "source": [
    "%env"
   ]
  },
  {
   "cell_type": "code",
   "execution_count": null,
   "id": "stock-circle",
   "metadata": {},
   "outputs": [],
   "source": []
  }
 ],
 "metadata": {
  "kernelspec": {
   "display_name": "Python 3",
   "language": "python",
   "name": "python3"
  },
  "language_info": {
   "codemirror_mode": {
    "name": "ipython",
    "version": 3
   },
   "file_extension": ".py",
   "mimetype": "text/x-python",
   "name": "python",
   "nbconvert_exporter": "python",
   "pygments_lexer": "ipython3",
   "version": "3.8.7"
  }
 },
 "nbformat": 4,
 "nbformat_minor": 5
}
