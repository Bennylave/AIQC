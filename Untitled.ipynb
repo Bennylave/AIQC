{
 "cells": [
  {
   "cell_type": "code",
   "execution_count": 1,
   "id": "recovered-vietnamese",
   "metadata": {},
   "outputs": [],
   "source": [
    "from sklearn.preprocessing import OneHotEncoder"
   ]
  },
  {
   "cell_type": "code",
   "execution_count": 2,
   "id": "appreciated-casino",
   "metadata": {},
   "outputs": [],
   "source": [
    "import numpy as np"
   ]
  },
  {
   "cell_type": "code",
   "execution_count": 3,
   "id": "helpful-asian",
   "metadata": {},
   "outputs": [],
   "source": [
    "arr = [\n",
    "    [\"a\", \"b\", \"c\", \"d\", \"e\"],\n",
    "    [1,2,3,4,5]\n",
    "]"
   ]
  },
  {
   "cell_type": "code",
   "execution_count": 4,
   "id": "valued-madison",
   "metadata": {},
   "outputs": [],
   "source": [
    "arr = np.array(arr)"
   ]
  },
  {
   "cell_type": "code",
   "execution_count": 5,
   "id": "related-volume",
   "metadata": {},
   "outputs": [
    {
     "data": {
      "text/plain": [
       "array([['a', 'b', 'c', 'd', 'e'],\n",
       "       ['1', '2', '3', '4', '5']], dtype='<U1')"
      ]
     },
     "execution_count": 5,
     "metadata": {},
     "output_type": "execute_result"
    }
   ],
   "source": [
    "arr"
   ]
  },
  {
   "cell_type": "code",
   "execution_count": 6,
   "id": "illegal-superintendent",
   "metadata": {},
   "outputs": [],
   "source": [
    "encoded_arr = np.array([\n",
    "    [\"b\", \"c\", \"e\", \"d\", \"a\"],\n",
    "    [2,3,5,4,1]\n",
    "])"
   ]
  },
  {
   "cell_type": "code",
   "execution_count": 7,
   "id": "quarterly-million",
   "metadata": {},
   "outputs": [],
   "source": [
    "original_columns = ['a','b','c','d','e']"
   ]
  },
  {
   "cell_type": "code",
   "execution_count": 8,
   "id": "heard-wales",
   "metadata": {},
   "outputs": [],
   "source": [
    "original_dict = {}"
   ]
  },
  {
   "cell_type": "code",
   "execution_count": 9,
   "id": "passive-personal",
   "metadata": {},
   "outputs": [],
   "source": [
    "for i, name in enumerate(original_columns):\n",
    "    original_dict[i] = name"
   ]
  },
  {
   "cell_type": "code",
   "execution_count": 10,
   "id": "mysterious-tourism",
   "metadata": {},
   "outputs": [
    {
     "data": {
      "text/plain": [
       "{0: 'a', 1: 'b', 2: 'c', 3: 'd', 4: 'e'}"
      ]
     },
     "execution_count": 10,
     "metadata": {},
     "output_type": "execute_result"
    }
   ],
   "source": [
    "original_dict"
   ]
  },
  {
   "cell_type": "code",
   "execution_count": 11,
   "id": "dietary-dragon",
   "metadata": {},
   "outputs": [],
   "source": [
    "encoded_columns = [\"b\", \"c\", \"e\", \"d\", \"a\"]"
   ]
  },
  {
   "cell_type": "code",
   "execution_count": 12,
   "id": "executed-single",
   "metadata": {},
   "outputs": [],
   "source": [
    "encoded_indices = []"
   ]
  },
  {
   "cell_type": "code",
   "execution_count": 76,
   "id": "demonstrated-variance",
   "metadata": {},
   "outputs": [],
   "source": [
    "for name in encoded_columns:\n",
    "    for idx, n in original_dict.items():\n",
    "        if (name == n):\n",
    "            encoded_indices.append(idx)\n",
    "            break"
   ]
  },
  {
   "cell_type": "code",
   "execution_count": 77,
   "id": "straight-statistics",
   "metadata": {},
   "outputs": [
    {
     "data": {
      "text/plain": [
       "[1, 2, 4, 3, 0]"
      ]
     },
     "execution_count": 77,
     "metadata": {},
     "output_type": "execute_result"
    }
   ],
   "source": [
    "encoded_indices"
   ]
  },
  {
   "cell_type": "code",
   "execution_count": 78,
   "id": "amino-confirmation",
   "metadata": {},
   "outputs": [],
   "source": [
    "decoder_mapping = {}"
   ]
  },
  {
   "cell_type": "code",
   "execution_count": 79,
   "id": "plastic-industry",
   "metadata": {},
   "outputs": [],
   "source": [
    "for i, ec in enumerate(encoded_columns):\n",
    "    for idx, oc in original_dict.items():\n",
    "        if (ec == oc):\n",
    "            decoder_mapping[i] = idx\n",
    "            break"
   ]
  },
  {
   "cell_type": "code",
   "execution_count": 80,
   "id": "meaning-price",
   "metadata": {},
   "outputs": [
    {
     "data": {
      "text/plain": [
       "{0: 1, 1: 2, 2: 4, 3: 3, 4: 0}"
      ]
     },
     "execution_count": 80,
     "metadata": {},
     "output_type": "execute_result"
    }
   ],
   "source": [
    "decoder_mapping"
   ]
  },
  {
   "cell_type": "code",
   "execution_count": 81,
   "id": "surprising-management",
   "metadata": {},
   "outputs": [],
   "source": [
    "placeholder = np.empty_like(encoded_indices)\n",
    "placeholder[encoded_indices] = np.arange(len(encoded_indices))\n",
    "encoded_arr = encoded_arr[:, placeholder]"
   ]
  },
  {
   "cell_type": "code",
   "execution_count": 13,
   "id": "classical-upset",
   "metadata": {},
   "outputs": [
    {
     "data": {
      "text/plain": [
       "array([['b', 'c', 'e', 'd', 'a'],\n",
       "       ['2', '3', '5', '4', '1']], dtype='<U1')"
      ]
     },
     "execution_count": 13,
     "metadata": {},
     "output_type": "execute_result"
    }
   ],
   "source": [
    "encoded_arr"
   ]
  },
  {
   "cell_type": "code",
   "execution_count": 14,
   "id": "thorough-presence",
   "metadata": {},
   "outputs": [
    {
     "data": {
      "text/plain": [
       "array([['c', 'e', 'd', 'a'],\n",
       "       ['3', '5', '4', '1']], dtype='<U1')"
      ]
     },
     "execution_count": 14,
     "metadata": {},
     "output_type": "execute_result"
    }
   ],
   "source": [
    "np.delete(encoded_arr, np.s_[0:1], axis=1)"
   ]
  },
  {
   "cell_type": "code",
   "execution_count": 15,
   "id": "chronic-longitude",
   "metadata": {},
   "outputs": [
    {
     "data": {
      "text/plain": [
       "array([['b', 'c', 'e', 'd', 'a'],\n",
       "       ['2', '3', '5', '4', '1']], dtype='<U1')"
      ]
     },
     "execution_count": 15,
     "metadata": {},
     "output_type": "execute_result"
    }
   ],
   "source": [
    "encoded_arr"
   ]
  },
  {
   "cell_type": "code",
   "execution_count": 2,
   "id": "level-greene",
   "metadata": {},
   "outputs": [],
   "source": [
    "import numpy as np"
   ]
  },
  {
   "cell_type": "code",
   "execution_count": 4,
   "id": "czech-provider",
   "metadata": {},
   "outputs": [
    {
     "name": "stderr",
     "output_type": "stream",
     "text": [
      "<ipython-input-4-c5a382d986fb>:1: VisibleDeprecationWarning: Creating an ndarray from ragged nested sequences (which is a list-or-tuple of lists-or-tuples-or ndarrays with different lengths or shapes) is deprecated. If you meant to do this, you must specify 'dtype=object' when creating the ndarray\n",
      "  np.array(\n"
     ]
    },
    {
     "data": {
      "text/plain": [
       "numpy.ndarray"
      ]
     },
     "execution_count": 4,
     "metadata": {},
     "output_type": "execute_result"
    }
   ],
   "source": [
    "np.array(\n",
    "[\n",
    "    ['a','b','c'],\n",
    "    [1,2]\n",
    "]\n",
    ").__class__"
   ]
  },
  {
   "cell_type": "code",
   "execution_count": 5,
   "id": "accepted-following",
   "metadata": {},
   "outputs": [],
   "source": [
    "lzt = [0,1,2,3,4]"
   ]
  },
  {
   "cell_type": "code",
   "execution_count": 6,
   "id": "printable-lewis",
   "metadata": {},
   "outputs": [
    {
     "data": {
      "text/plain": [
       "[0, 1]"
      ]
     },
     "execution_count": 6,
     "metadata": {},
     "output_type": "execute_result"
    }
   ],
   "source": [
    "lzt[0:2]"
   ]
  },
  {
   "cell_type": "code",
   "execution_count": 7,
   "id": "verbal-advocate",
   "metadata": {},
   "outputs": [
    {
     "data": {
      "text/plain": [
       "[1]"
      ]
     },
     "execution_count": 7,
     "metadata": {},
     "output_type": "execute_result"
    }
   ],
   "source": [
    "lzt[1:2]"
   ]
  },
  {
   "cell_type": "code",
   "execution_count": 73,
   "id": "chicken-teacher",
   "metadata": {},
   "outputs": [],
   "source": [
    "file_count = 15\n",
    "window_count = 4\n",
    "size_window=3\n",
    "size_shift=2\n",
    "\n",
    "prune_unshifted_lead = file_count - (window_count * size_window) - size_shift\n",
    "prune_shifted_lead = prune_unshifted_lead + size_shift\n",
    "\n",
    "\n",
    "file_indices = list(range(file_count))\n",
    "window_indices = list(range(window_count))\n",
    "\n",
    "\n",
    "samples_unshifted = []\n",
    "samples_shifted = []\n",
    "\n",
    "for i in window_indices:\n",
    "    unshifted_start = prune_unshifted_lead + (i*size_window)\n",
    "    unshifted_stop = prune_unshifted_lead + ((i+1)*size_window)\n",
    "\n",
    "    shifted_start = prune_shifted_lead + (i*size_window)\n",
    "    shifted_stop = prune_shifted_lead + ((i+1)*size_window)\n",
    "\n",
    "    unshifted_samples = file_indices[unshifted_start:unshifted_stop]\n",
    "    shifted_samples = file_indices[shifted_start:shifted_stop]\n",
    "\n",
    "    samples_unshifted.append(unshifted_samples)\n",
    "    samples_shifted.append(shifted_samples)"
   ]
  },
  {
   "cell_type": "code",
   "execution_count": 74,
   "id": "vocational-voluntary",
   "metadata": {
    "tags": []
   },
   "outputs": [
    {
     "data": {
      "text/plain": [
       "[0, 1, 2, 3]"
      ]
     },
     "execution_count": 74,
     "metadata": {},
     "output_type": "execute_result"
    }
   ],
   "source": [
    "window_indices"
   ]
  },
  {
   "cell_type": "code",
   "execution_count": 75,
   "id": "endless-absence",
   "metadata": {},
   "outputs": [
    {
     "data": {
      "text/plain": [
       "4"
      ]
     },
     "execution_count": 75,
     "metadata": {},
     "output_type": "execute_result"
    }
   ],
   "source": [
    "len(samples_unshifted)"
   ]
  },
  {
   "cell_type": "code",
   "execution_count": 76,
   "id": "revolutionary-nitrogen",
   "metadata": {},
   "outputs": [
    {
     "data": {
      "text/plain": [
       "3"
      ]
     },
     "execution_count": 76,
     "metadata": {},
     "output_type": "execute_result"
    }
   ],
   "source": [
    "len(samples_unshifted[0])"
   ]
  },
  {
   "cell_type": "code",
   "execution_count": 77,
   "id": "fewer-oracle",
   "metadata": {},
   "outputs": [
    {
     "data": {
      "text/plain": [
       "3"
      ]
     },
     "execution_count": 77,
     "metadata": {},
     "output_type": "execute_result"
    }
   ],
   "source": [
    "len(samples_shifted[0])"
   ]
  },
  {
   "cell_type": "code",
   "execution_count": 78,
   "id": "subjective-height",
   "metadata": {},
   "outputs": [
    {
     "data": {
      "text/plain": [
       "[10, 11, 12]"
      ]
     },
     "execution_count": 78,
     "metadata": {},
     "output_type": "execute_result"
    }
   ],
   "source": [
    "samples_unshifted[3]"
   ]
  },
  {
   "cell_type": "code",
   "execution_count": 79,
   "id": "talented-quantum",
   "metadata": {},
   "outputs": [
    {
     "data": {
      "text/plain": [
       "[12, 13, 14]"
      ]
     },
     "execution_count": 79,
     "metadata": {},
     "output_type": "execute_result"
    }
   ],
   "source": [
    "samples_shifted[3]"
   ]
  },
  {
   "cell_type": "code",
   "execution_count": null,
   "id": "dying-organic",
   "metadata": {},
   "outputs": [],
   "source": []
  }
 ],
 "metadata": {
  "kernelspec": {
   "display_name": "Python 3",
   "language": "python",
   "name": "python3"
  },
  "language_info": {
   "codemirror_mode": {
    "name": "ipython",
    "version": 3
   },
   "file_extension": ".py",
   "mimetype": "text/x-python",
   "name": "python",
   "nbconvert_exporter": "python",
   "pygments_lexer": "ipython3",
   "version": "3.8.7"
  }
 },
 "nbformat": 4,
 "nbformat_minor": 5
}
