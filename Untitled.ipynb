{
 "cells": [
  {
   "cell_type": "markdown",
   "id": "vocational-learning",
   "metadata": {},
   "source": [
    "# cell\n",
    "# cell\n",
    "# cell\n",
    "# cell\n",
    "# cell"
   ]
  },
  {
   "cell_type": "code",
   "execution_count": 1,
   "id": "binding-sailing",
   "metadata": {},
   "outputs": [],
   "source": [
    "kontainer =[]\n",
    "\n",
    "ltrs = ['a','b','c']\n",
    "for l in ltrs:\n",
    "    kontainer.append(l)"
   ]
  },
  {
   "cell_type": "markdown",
   "id": "absent-powell",
   "metadata": {},
   "source": [
    "# cell\n",
    "# cell\n",
    "# cell\n",
    "# cell\n",
    "# cell"
   ]
  },
  {
   "cell_type": "markdown",
   "id": "seventh-creativity",
   "metadata": {},
   "source": [
    "# cell\n",
    "# cell\n",
    "# cell\n",
    "# cell\n",
    "# cell"
   ]
  },
  {
   "cell_type": "code",
   "execution_count": null,
   "id": "false-mileage",
   "metadata": {},
   "outputs": [],
   "source": []
  },
  {
   "cell_type": "markdown",
   "id": "educated-project",
   "metadata": {},
   "source": [
    "# cell\n",
    "# cell\n",
    "# cell\n",
    "# cell\n",
    "# cell"
   ]
  },
  {
   "cell_type": "markdown",
   "id": "hybrid-possible",
   "metadata": {},
   "source": [
    "# cell\n",
    "# cell\n",
    "# cell\n",
    "# cell\n",
    "# cell"
   ]
  },
  {
   "cell_type": "markdown",
   "id": "impaired-monroe",
   "metadata": {},
   "source": [
    "# cell\n",
    "# cell\n",
    "# cell\n",
    "# cell\n",
    "# cell"
   ]
  },
  {
   "cell_type": "code",
   "execution_count": null,
   "id": "governing-ocean",
   "metadata": {},
   "outputs": [],
   "source": []
  }
 ],
 "metadata": {
  "kernelspec": {
   "display_name": "Python 3",
   "language": "python",
   "name": "python3"
  },
  "language_info": {
   "codemirror_mode": {
    "name": "ipython",
    "version": 3
   },
   "file_extension": ".py",
   "mimetype": "text/x-python",
   "name": "python",
   "nbconvert_exporter": "python",
   "pygments_lexer": "ipython3",
   "version": "3.8.7"
  }
 },
 "nbformat": 4,
 "nbformat_minor": 5
}
