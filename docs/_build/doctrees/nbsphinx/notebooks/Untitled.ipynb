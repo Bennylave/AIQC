{
 "cells": [
  {
   "cell_type": "code",
   "execution_count": 2,
   "id": "white-white",
   "metadata": {},
   "outputs": [],
   "source": [
    "import aiqc"
   ]
  },
  {
   "cell_type": "code",
   "execution_count": 7,
   "id": "agricultural-brighton",
   "metadata": {},
   "outputs": [
    {
     "data": {
      "text/plain": [
       "{'include_2nd_dense': True,\n",
       " 'neuron_multiply': 1.0,\n",
       " 'epoch_count': 300,\n",
       " 'learning_rate': 0.01,\n",
       " 'pool_size': 2,\n",
       " 'dropout': 0.4,\n",
       " 'batch_size': 8,\n",
       " 'kernel_size': 3,\n",
       " 'dense_neurons': 64,\n",
       " '2nd_dense_neurons': 24,\n",
       " 'cnn_init': 'he_normal'}"
      ]
     },
     "execution_count": 7,
     "metadata": {},
     "output_type": "execute_result"
    }
   ],
   "source": [
    "aiqc.Batch.get_by_id(1).jobs[0].hyperparamcombo.hyperparameters"
   ]
  }
 ],
 "metadata": {
  "kernelspec": {
   "display_name": "Python 3",
   "language": "python",
   "name": "python3"
  },
  "language_info": {
   "codemirror_mode": {
    "name": "ipython",
    "version": 3
   },
   "file_extension": ".py",
   "mimetype": "text/x-python",
   "name": "python",
   "nbconvert_exporter": "python",
   "pygments_lexer": "ipython3",
   "version": "3.8.7"
  }
 },
 "nbformat": 4,
 "nbformat_minor": 5
}
