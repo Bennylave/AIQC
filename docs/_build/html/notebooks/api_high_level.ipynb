{
 "cells": [
  {
   "cell_type": "markdown",
   "metadata": {},
   "source": [
    "# High-Level API"
   ]
  },
  {
   "cell_type": "markdown",
   "metadata": {},
   "source": [
    "These are the main objects used in the high-level API to create models, intelligently feed samples into them, and experiment with hyperparameters."
   ]
  },
  {
   "cell_type": "markdown",
   "metadata": {},
   "source": [
    "| High-level object |                    Groups together the following objects                   |\n",
    "|:-----------------:|:--------------------------------------------------------------------------:|\n",
    "|    `Algorithm`    | Functions to build, train, predict, and evaluate a machine learning model. |\n",
    "|   `DataPipeline`  |      Dataset, Label, Featureset, Splitset, Foldset, Folds, Preprocess.     |\n",
    "|    `Experiment`   |    Algorithm, Hyperparamset, Hyperparamcombos, DataPipeline, Batch, Job.   |"
   ]
  },
  {
   "cell_type": "markdown",
   "metadata": {},
   "source": [
    "In this way, the high-level API abstracts the lower-level API to make things easier for the user."
   ]
  },
  {
   "cell_type": "markdown",
   "metadata": {},
   "source": [
    "## Prerequisites\n",
    "If you've already completed the instructions on the **Installation** page, then let's get started."
   ]
  },
  {
   "cell_type": "code",
   "execution_count": 1,
   "metadata": {},
   "outputs": [
    {
     "name": "stderr",
     "output_type": "stream",
     "text": [
      "/Users/layne/.pyenv/versions/3.7.6/envs/jupyterlab/lib/python3.7/site-packages/pandas/compat/__init__.py:120: UserWarning: Could not import the lzma module. Your installed Python is incomplete. Attempting to use lzma compression will result in a RuntimeError.\n",
      "  warnings.warn(msg)\n"
     ]
    }
   ],
   "source": [
    "import aiqc\n",
    "from aiqc import examples"
   ]
  },
  {
   "cell_type": "markdown",
   "metadata": {},
   "source": [
    "## Usage"
   ]
  },
  {
   "cell_type": "markdown",
   "metadata": {},
   "source": [
    "### 1. Algorithm"
   ]
  },
  {
   "cell_type": "markdown",
   "metadata": {},
   "source": [
    "An `Algorithm` is the ORM's codename for a machine learning model since *Model* is the most important *reserved word* for ORMs."
   ]
  },
  {
   "cell_type": "code",
   "execution_count": 2,
   "metadata": {},
   "outputs": [],
   "source": [
    "import keras\n",
    "from keras import metrics\n",
    "from keras.models import Sequential\n",
    "from keras.callbacks import History\n",
    "from keras.layers import Dense, Dropout"
   ]
  },
  {
   "cell_type": "markdown",
   "metadata": {},
   "source": [
    "You can name the functions below whatever you want, but do not change the predetermined `*args` (e.g. `**hyperparameters`, `model`, etc.).\n",
    "\n",
    "Put a placeholder anywhere you want to try out different hyperparameters: `hyperparameters['<some_variable_name>']`. You'll get a chance to define the hyperparameters in a minute."
   ]
  },
  {
   "cell_type": "code",
   "execution_count": 3,
   "metadata": {},
   "outputs": [],
   "source": [
    "def function_model_build(**hyperparameters):\n",
    "    model = Sequential()\n",
    "    model.add(Dense(hyperparameters['neuron_count'], input_shape=(4,), activation='relu', kernel_initializer='he_uniform'))\n",
    "    model.add(Dropout(hyperparameters['dropout_size']))\n",
    "    model.add(Dense(hyperparameters['neuron_count'], activation='relu', kernel_initializer='he_uniform'))\n",
    "    model.add(Dense(3, activation='softmax', name='output'))\n",
    "\n",
    "    model.compile(optimizer='adamax', loss='categorical_crossentropy', metrics=['accuracy'])\n",
    "    \n",
    "    return model"
   ]
  },
  {
   "cell_type": "code",
   "execution_count": 4,
   "metadata": {},
   "outputs": [],
   "source": [
    "def function_model_train(model, samples_train, samples_evaluate, **hyperparameters):\n",
    "    model.fit(\n",
    "        samples_train[\"features\"]\n",
    "        , samples_train[\"labels\"]\n",
    "        , validation_data = (\n",
    "            samples_evaluate[\"features\"]\n",
    "            , samples_evaluate[\"labels\"]\n",
    "        )\n",
    "        , verbose = 0\n",
    "        , batch_size = 3\n",
    "        , epochs = hyperparameters['epoch_count']\n",
    "        , callbacks=[History()]\n",
    "    )\n",
    "    return model"
   ]
  },
  {
   "cell_type": "markdown",
   "metadata": {},
   "source": [
    "Then pass these functions into the `Algorithm`.\n",
    "\n",
    "The `library` and `analysis_type` help handle the model and its output behind the scenes. Current analysis types include: 'classification_multi', 'classification_binary', and 'regression'."
   ]
  },
  {
   "cell_type": "code",
   "execution_count": 5,
   "metadata": {},
   "outputs": [],
   "source": [
    "algorithm = aiqc.Algorithm.make(\n",
    "\tlibrary = \"keras\"\n",
    "\t, analysis_type = \"classification_multi\"\n",
    "\t, function_model_build = function_model_build\n",
    "\t, function_model_train = function_model_train\n",
    ")"
   ]
  },
  {
   "cell_type": "markdown",
   "metadata": {},
   "source": [
    "#### Hyperparameters"
   ]
  },
  {
   "cell_type": "markdown",
   "metadata": {},
   "source": [
    "The `hyperparameters` below will be automatically fed into the functions above as `**kwargs` via the `**hyperparameters` argument we saw earlier.\n",
    "\n",
    "For example, wherever you see `hyperparameters['neuron_count']`, it will pull from the *key:value* pair `\"neuron_count\": [9, 12]` seen below. Where model A will have 9 neurons and model B will have 12 neurons."
   ]
  },
  {
   "cell_type": "code",
   "execution_count": 6,
   "metadata": {},
   "outputs": [],
   "source": [
    "hyperparameters = {\n",
    "\t\"neuron_count\": [9, 12]\n",
    "\t, \"dropout_size\": [0.10, 0.20]\n",
    "    , \"epoch_count\": [25, 50]\n",
    "}"
   ]
  },
  {
   "cell_type": "markdown",
   "metadata": {},
   "source": [
    "### 2. DataPipeline"
   ]
  },
  {
   "cell_type": "code",
   "execution_count": 7,
   "metadata": {},
   "outputs": [],
   "source": [
    "from sklearn.preprocessing import *"
   ]
  },
  {
   "cell_type": "code",
   "execution_count": 8,
   "metadata": {},
   "outputs": [],
   "source": [
    "file_path = examples.demo_file_to_pandas('iris.tsv')"
   ]
  },
  {
   "cell_type": "code",
   "execution_count": 9,
   "metadata": {},
   "outputs": [],
   "source": [
    "datapipeline = aiqc.DataPipeline.make(\n",
    "\tdataFrame_or_filePath = file_path\n",
    "\t, label_column = 'species'\n",
    "\t, size_test = 0.24\n",
    "\t, size_validation = 0.16\n",
    "\t, fold_count = None\n",
    "\t, encoder_features = StandardScaler()\n",
    "\t, encoder_labels = OneHotEncoder(sparse=False)\n",
    ")"
   ]
  },
  {
   "cell_type": "markdown",
   "metadata": {},
   "source": [
    "> Don't use `fold_count` unless your (total sample count / fold_count) still gives you an accurate representation of your sample population. You can try it with the 'iris_10x.tsv' demo_file.\n",
    ">\n",
    "> In the future, we'll turn the `encoder_*` attributes into customizable functions."
   ]
  },
  {
   "cell_type": "markdown",
   "metadata": {},
   "source": [
    "### 3. Experiment"
   ]
  },
  {
   "cell_type": "markdown",
   "metadata": {},
   "source": [
    "Now it's time to bring together the data and logic into an `Experiment`."
   ]
  },
  {
   "cell_type": "code",
   "execution_count": 10,
   "metadata": {},
   "outputs": [],
   "source": [
    "experiment = algorithm.make_experiment(\n",
    "\tdatapipeline_id = datapipeline.id\n",
    "\t, hyperparameters = hyperparameters\n",
    ")"
   ]
  },
  {
   "cell_type": "code",
   "execution_count": 11,
   "metadata": {},
   "outputs": [],
   "source": [
    "batch = experiment.batch"
   ]
  },
  {
   "cell_type": "code",
   "execution_count": 12,
   "metadata": {},
   "outputs": [
    {
     "name": "stderr",
     "output_type": "stream",
     "text": [
      "🔮 Training Models 🔮: 100%|██████████████████████████████████████████| 8/8 [00:18<00:00,  2.25s/it]\n"
     ]
    }
   ],
   "source": [
    "batch.run_jobs()"
   ]
  },
  {
   "cell_type": "code",
   "execution_count": 15,
   "metadata": {},
   "outputs": [
    {
     "data": {
      "text/html": [
       "<div>\n",
       "<style scoped>\n",
       "    .dataframe tbody tr th:only-of-type {\n",
       "        vertical-align: middle;\n",
       "    }\n",
       "\n",
       "    .dataframe tbody tr th {\n",
       "        vertical-align: top;\n",
       "    }\n",
       "\n",
       "    .dataframe thead th {\n",
       "        text-align: right;\n",
       "    }\n",
       "</style>\n",
       "<table border=\"1\" class=\"dataframe\">\n",
       "  <thead>\n",
       "    <tr style=\"text-align: right;\">\n",
       "      <th></th>\n",
       "      <th>job_id</th>\n",
       "      <th>split</th>\n",
       "      <th>roc_auc</th>\n",
       "      <th>accuracy</th>\n",
       "      <th>precision</th>\n",
       "      <th>recall</th>\n",
       "      <th>f1</th>\n",
       "      <th>loss</th>\n",
       "    </tr>\n",
       "  </thead>\n",
       "  <tbody>\n",
       "    <tr>\n",
       "      <th>0</th>\n",
       "      <td>41</td>\n",
       "      <td>test</td>\n",
       "      <td>0.991898</td>\n",
       "      <td>0.888889</td>\n",
       "      <td>0.907692</td>\n",
       "      <td>0.888889</td>\n",
       "      <td>0.882963</td>\n",
       "      <td>0.395283</td>\n",
       "    </tr>\n",
       "    <tr>\n",
       "      <th>1</th>\n",
       "      <td>41</td>\n",
       "      <td>validation</td>\n",
       "      <td>1.000000</td>\n",
       "      <td>0.840000</td>\n",
       "      <td>0.889231</td>\n",
       "      <td>0.840000</td>\n",
       "      <td>0.827879</td>\n",
       "      <td>0.390014</td>\n",
       "    </tr>\n",
       "    <tr>\n",
       "      <th>2</th>\n",
       "      <td>41</td>\n",
       "      <td>train</td>\n",
       "      <td>0.975395</td>\n",
       "      <td>0.831461</td>\n",
       "      <td>0.853385</td>\n",
       "      <td>0.831461</td>\n",
       "      <td>0.824202</td>\n",
       "      <td>0.445891</td>\n",
       "    </tr>\n",
       "    <tr>\n",
       "      <th>3</th>\n",
       "      <td>42</td>\n",
       "      <td>test</td>\n",
       "      <td>0.892361</td>\n",
       "      <td>0.805556</td>\n",
       "      <td>0.806527</td>\n",
       "      <td>0.805556</td>\n",
       "      <td>0.805217</td>\n",
       "      <td>0.486446</td>\n",
       "    </tr>\n",
       "    <tr>\n",
       "      <th>4</th>\n",
       "      <td>42</td>\n",
       "      <td>validation</td>\n",
       "      <td>0.944559</td>\n",
       "      <td>0.840000</td>\n",
       "      <td>0.840000</td>\n",
       "      <td>0.840000</td>\n",
       "      <td>0.840000</td>\n",
       "      <td>0.431892</td>\n",
       "    </tr>\n",
       "    <tr>\n",
       "      <th>5</th>\n",
       "      <td>42</td>\n",
       "      <td>train</td>\n",
       "      <td>0.911877</td>\n",
       "      <td>0.808989</td>\n",
       "      <td>0.810783</td>\n",
       "      <td>0.808989</td>\n",
       "      <td>0.808659</td>\n",
       "      <td>0.472854</td>\n",
       "    </tr>\n",
       "    <tr>\n",
       "      <th>6</th>\n",
       "      <td>43</td>\n",
       "      <td>test</td>\n",
       "      <td>0.921296</td>\n",
       "      <td>0.750000</td>\n",
       "      <td>0.781955</td>\n",
       "      <td>0.750000</td>\n",
       "      <td>0.736533</td>\n",
       "      <td>0.654026</td>\n",
       "    </tr>\n",
       "    <tr>\n",
       "      <th>7</th>\n",
       "      <td>43</td>\n",
       "      <td>validation</td>\n",
       "      <td>0.971765</td>\n",
       "      <td>0.760000</td>\n",
       "      <td>0.791429</td>\n",
       "      <td>0.760000</td>\n",
       "      <td>0.740406</td>\n",
       "      <td>0.559443</td>\n",
       "    </tr>\n",
       "    <tr>\n",
       "      <th>8</th>\n",
       "      <td>43</td>\n",
       "      <td>train</td>\n",
       "      <td>0.903771</td>\n",
       "      <td>0.674157</td>\n",
       "      <td>0.673975</td>\n",
       "      <td>0.674157</td>\n",
       "      <td>0.635896</td>\n",
       "      <td>0.684904</td>\n",
       "    </tr>\n",
       "    <tr>\n",
       "      <th>9</th>\n",
       "      <td>44</td>\n",
       "      <td>test</td>\n",
       "      <td>1.000000</td>\n",
       "      <td>0.916667</td>\n",
       "      <td>0.933333</td>\n",
       "      <td>0.916667</td>\n",
       "      <td>0.915344</td>\n",
       "      <td>0.365426</td>\n",
       "    </tr>\n",
       "    <tr>\n",
       "      <th>10</th>\n",
       "      <td>44</td>\n",
       "      <td>validation</td>\n",
       "      <td>1.000000</td>\n",
       "      <td>0.960000</td>\n",
       "      <td>0.964000</td>\n",
       "      <td>0.960000</td>\n",
       "      <td>0.959719</td>\n",
       "      <td>0.360211</td>\n",
       "    </tr>\n",
       "    <tr>\n",
       "      <th>11</th>\n",
       "      <td>44</td>\n",
       "      <td>train</td>\n",
       "      <td>0.993573</td>\n",
       "      <td>0.943820</td>\n",
       "      <td>0.952082</td>\n",
       "      <td>0.943820</td>\n",
       "      <td>0.943496</td>\n",
       "      <td>0.391472</td>\n",
       "    </tr>\n",
       "    <tr>\n",
       "      <th>12</th>\n",
       "      <td>45</td>\n",
       "      <td>test</td>\n",
       "      <td>0.987269</td>\n",
       "      <td>0.833333</td>\n",
       "      <td>0.876320</td>\n",
       "      <td>0.833333</td>\n",
       "      <td>0.818084</td>\n",
       "      <td>0.579135</td>\n",
       "    </tr>\n",
       "    <tr>\n",
       "      <th>13</th>\n",
       "      <td>45</td>\n",
       "      <td>validation</td>\n",
       "      <td>1.000000</td>\n",
       "      <td>0.880000</td>\n",
       "      <td>0.898990</td>\n",
       "      <td>0.880000</td>\n",
       "      <td>0.871330</td>\n",
       "      <td>0.517191</td>\n",
       "    </tr>\n",
       "    <tr>\n",
       "      <th>14</th>\n",
       "      <td>45</td>\n",
       "      <td>train</td>\n",
       "      <td>0.965768</td>\n",
       "      <td>0.752809</td>\n",
       "      <td>0.767505</td>\n",
       "      <td>0.752809</td>\n",
       "      <td>0.734817</td>\n",
       "      <td>0.594523</td>\n",
       "    </tr>\n",
       "    <tr>\n",
       "      <th>15</th>\n",
       "      <td>46</td>\n",
       "      <td>test</td>\n",
       "      <td>0.995370</td>\n",
       "      <td>0.888889</td>\n",
       "      <td>0.916667</td>\n",
       "      <td>0.888889</td>\n",
       "      <td>0.885714</td>\n",
       "      <td>0.302407</td>\n",
       "    </tr>\n",
       "    <tr>\n",
       "      <th>16</th>\n",
       "      <td>46</td>\n",
       "      <td>validation</td>\n",
       "      <td>0.997647</td>\n",
       "      <td>0.920000</td>\n",
       "      <td>0.934545</td>\n",
       "      <td>0.920000</td>\n",
       "      <td>0.918286</td>\n",
       "      <td>0.304320</td>\n",
       "    </tr>\n",
       "    <tr>\n",
       "      <th>17</th>\n",
       "      <td>46</td>\n",
       "      <td>train</td>\n",
       "      <td>0.979940</td>\n",
       "      <td>0.842697</td>\n",
       "      <td>0.866033</td>\n",
       "      <td>0.842697</td>\n",
       "      <td>0.838533</td>\n",
       "      <td>0.340107</td>\n",
       "    </tr>\n",
       "    <tr>\n",
       "      <th>18</th>\n",
       "      <td>47</td>\n",
       "      <td>test</td>\n",
       "      <td>0.870370</td>\n",
       "      <td>0.583333</td>\n",
       "      <td>0.484848</td>\n",
       "      <td>0.583333</td>\n",
       "      <td>0.514919</td>\n",
       "      <td>0.687662</td>\n",
       "    </tr>\n",
       "    <tr>\n",
       "      <th>19</th>\n",
       "      <td>47</td>\n",
       "      <td>validation</td>\n",
       "      <td>0.921029</td>\n",
       "      <td>0.760000</td>\n",
       "      <td>0.781538</td>\n",
       "      <td>0.760000</td>\n",
       "      <td>0.741818</td>\n",
       "      <td>0.611071</td>\n",
       "    </tr>\n",
       "    <tr>\n",
       "      <th>20</th>\n",
       "      <td>47</td>\n",
       "      <td>train</td>\n",
       "      <td>0.923811</td>\n",
       "      <td>0.685393</td>\n",
       "      <td>0.713869</td>\n",
       "      <td>0.685393</td>\n",
       "      <td>0.637581</td>\n",
       "      <td>0.631250</td>\n",
       "    </tr>\n",
       "    <tr>\n",
       "      <th>21</th>\n",
       "      <td>48</td>\n",
       "      <td>test</td>\n",
       "      <td>0.989583</td>\n",
       "      <td>0.944444</td>\n",
       "      <td>0.952381</td>\n",
       "      <td>0.944444</td>\n",
       "      <td>0.944056</td>\n",
       "      <td>0.366575</td>\n",
       "    </tr>\n",
       "    <tr>\n",
       "      <th>22</th>\n",
       "      <td>48</td>\n",
       "      <td>validation</td>\n",
       "      <td>0.963824</td>\n",
       "      <td>0.880000</td>\n",
       "      <td>0.883889</td>\n",
       "      <td>0.880000</td>\n",
       "      <td>0.880000</td>\n",
       "      <td>0.422384</td>\n",
       "    </tr>\n",
       "    <tr>\n",
       "      <th>23</th>\n",
       "      <td>48</td>\n",
       "      <td>train</td>\n",
       "      <td>0.933971</td>\n",
       "      <td>0.786517</td>\n",
       "      <td>0.786530</td>\n",
       "      <td>0.786517</td>\n",
       "      <td>0.786394</td>\n",
       "      <td>0.452266</td>\n",
       "    </tr>\n",
       "  </tbody>\n",
       "</table>\n",
       "</div>"
      ],
      "text/plain": [
       "    job_id       split   roc_auc  accuracy  precision    recall        f1  \\\n",
       "0       41        test  0.991898  0.888889   0.907692  0.888889  0.882963   \n",
       "1       41  validation  1.000000  0.840000   0.889231  0.840000  0.827879   \n",
       "2       41       train  0.975395  0.831461   0.853385  0.831461  0.824202   \n",
       "3       42        test  0.892361  0.805556   0.806527  0.805556  0.805217   \n",
       "4       42  validation  0.944559  0.840000   0.840000  0.840000  0.840000   \n",
       "5       42       train  0.911877  0.808989   0.810783  0.808989  0.808659   \n",
       "6       43        test  0.921296  0.750000   0.781955  0.750000  0.736533   \n",
       "7       43  validation  0.971765  0.760000   0.791429  0.760000  0.740406   \n",
       "8       43       train  0.903771  0.674157   0.673975  0.674157  0.635896   \n",
       "9       44        test  1.000000  0.916667   0.933333  0.916667  0.915344   \n",
       "10      44  validation  1.000000  0.960000   0.964000  0.960000  0.959719   \n",
       "11      44       train  0.993573  0.943820   0.952082  0.943820  0.943496   \n",
       "12      45        test  0.987269  0.833333   0.876320  0.833333  0.818084   \n",
       "13      45  validation  1.000000  0.880000   0.898990  0.880000  0.871330   \n",
       "14      45       train  0.965768  0.752809   0.767505  0.752809  0.734817   \n",
       "15      46        test  0.995370  0.888889   0.916667  0.888889  0.885714   \n",
       "16      46  validation  0.997647  0.920000   0.934545  0.920000  0.918286   \n",
       "17      46       train  0.979940  0.842697   0.866033  0.842697  0.838533   \n",
       "18      47        test  0.870370  0.583333   0.484848  0.583333  0.514919   \n",
       "19      47  validation  0.921029  0.760000   0.781538  0.760000  0.741818   \n",
       "20      47       train  0.923811  0.685393   0.713869  0.685393  0.637581   \n",
       "21      48        test  0.989583  0.944444   0.952381  0.944444  0.944056   \n",
       "22      48  validation  0.963824  0.880000   0.883889  0.880000  0.880000   \n",
       "23      48       train  0.933971  0.786517   0.786530  0.786517  0.786394   \n",
       "\n",
       "        loss  \n",
       "0   0.395283  \n",
       "1   0.390014  \n",
       "2   0.445891  \n",
       "3   0.486446  \n",
       "4   0.431892  \n",
       "5   0.472854  \n",
       "6   0.654026  \n",
       "7   0.559443  \n",
       "8   0.684904  \n",
       "9   0.365426  \n",
       "10  0.360211  \n",
       "11  0.391472  \n",
       "12  0.579135  \n",
       "13  0.517191  \n",
       "14  0.594523  \n",
       "15  0.302407  \n",
       "16  0.304320  \n",
       "17  0.340107  \n",
       "18  0.687662  \n",
       "19  0.611071  \n",
       "20  0.631250  \n",
       "21  0.366575  \n",
       "22  0.422384  \n",
       "23  0.452266  "
      ]
     },
     "execution_count": 15,
     "metadata": {},
     "output_type": "execute_result"
    }
   ],
   "source": [
    "batch.metrics_to_pandas()"
   ]
  },
  {
   "cell_type": "markdown",
   "metadata": {},
   "source": [
    "### Metrics & Visualization"
   ]
  },
  {
   "cell_type": "markdown",
   "metadata": {},
   "source": [
    "For more information of visualization of performance metrics, reference the **Visualization & Metrics** documentation."
   ]
  }
 ],
 "metadata": {
  "kernelspec": {
   "display_name": "Python 3",
   "language": "python",
   "name": "python3"
  },
  "language_info": {
   "codemirror_mode": {
    "name": "ipython",
    "version": 3
   },
   "file_extension": ".py",
   "mimetype": "text/x-python",
   "name": "python",
   "nbconvert_exporter": "python",
   "pygments_lexer": "ipython3",
   "version": "3.7.6"
  }
 },
 "nbformat": 4,
 "nbformat_minor": 4
}
