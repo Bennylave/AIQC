{
 "cells": [
  {
   "cell_type": "markdown",
   "metadata": {},
   "source": [
    "# Experiments"
   ]
  },
  {
   "cell_type": "markdown",
   "metadata": {},
   "source": [
    "Just to be clear, the following examples are for demonstration and testing purposes only. Users are not supposed to make their own dummy batches using their own data. Refer to the sections *[High-Level API](api_high_level.ipynb)* and/ or *[Low-Level API](api_low_level.ipnyb)* if you actually want to use the library. "
   ]
  },
  {
   "cell_type": "markdown",
   "metadata": {},
   "source": [
    "## Prerequisites\n",
    "* If you've already completed the *[Installation](installation.ipynb)* section, then let's get started.\n",
    "* This section makes use of the data in the *[Example Datasets](example_datasets.ipynb)* section."
   ]
  },
  {
   "cell_type": "code",
   "execution_count": 4,
   "metadata": {},
   "outputs": [
    {
     "name": "stderr",
     "output_type": "stream",
     "text": [
      "/Users/layne/.pyenv/versions/3.7.6/envs/jupyterlab/lib/python3.7/site-packages/pandas/compat/__init__.py:120: UserWarning: Could not import the lzma module. Your installed Python is incomplete. Attempting to use lzma compression will result in a RuntimeError.\n",
      "  warnings.warn(msg)\n"
     ]
    }
   ],
   "source": [
    "import aiqc\n",
    "from aiqc import examples"
   ]
  },
  {
   "cell_type": "markdown",
   "metadata": {},
   "source": [
    "## Dummy Experiments"
   ]
  },
  {
   "cell_type": "markdown",
   "metadata": {},
   "source": [
    "The `list_demo_batches()` method describes the predefined experiments that are available.\n",
    "\n",
    "> By default it returns a Pandas DataFrame, but you can `list_demo_files(format='list')` to change that."
   ]
  },
  {
   "cell_type": "code",
   "execution_count": 8,
   "metadata": {},
   "outputs": [
    {
     "data": {
      "text/html": [
       "<div>\n",
       "<style scoped>\n",
       "    .dataframe tbody tr th:only-of-type {\n",
       "        vertical-align: middle;\n",
       "    }\n",
       "\n",
       "    .dataframe tbody tr th {\n",
       "        vertical-align: top;\n",
       "    }\n",
       "\n",
       "    .dataframe thead th {\n",
       "        text-align: right;\n",
       "    }\n",
       "</style>\n",
       "<table border=\"1\" class=\"dataframe\">\n",
       "  <thead>\n",
       "    <tr style=\"text-align: right;\">\n",
       "      <th></th>\n",
       "      <th>batch_name</th>\n",
       "      <th>supervision</th>\n",
       "      <th>analysis</th>\n",
       "      <th>sub_analysis</th>\n",
       "      <th>validation</th>\n",
       "      <th>dataset</th>\n",
       "    </tr>\n",
       "  </thead>\n",
       "  <tbody>\n",
       "    <tr>\n",
       "      <th>0</th>\n",
       "      <td>multiclass</td>\n",
       "      <td>supervised</td>\n",
       "      <td>classification</td>\n",
       "      <td>multi label</td>\n",
       "      <td>validation split</td>\n",
       "      <td>iris.tsv</td>\n",
       "    </tr>\n",
       "    <tr>\n",
       "      <th>1</th>\n",
       "      <td>binary</td>\n",
       "      <td>supervised</td>\n",
       "      <td>classification</td>\n",
       "      <td>binary</td>\n",
       "      <td>validation split</td>\n",
       "      <td>sonar.csv</td>\n",
       "    </tr>\n",
       "    <tr>\n",
       "      <th>2</th>\n",
       "      <td>regression</td>\n",
       "      <td>supervised</td>\n",
       "      <td>regression</td>\n",
       "      <td>None</td>\n",
       "      <td>validation split</td>\n",
       "      <td>houses.csv</td>\n",
       "    </tr>\n",
       "    <tr>\n",
       "      <th>3</th>\n",
       "      <td>multiclass_folded</td>\n",
       "      <td>supervised</td>\n",
       "      <td>classification</td>\n",
       "      <td>multi label</td>\n",
       "      <td>cross-folds</td>\n",
       "      <td>iris_10x.tsv</td>\n",
       "    </tr>\n",
       "  </tbody>\n",
       "</table>\n",
       "</div>"
      ],
      "text/plain": [
       "          batch_name supervision        analysis sub_analysis  \\\n",
       "0         multiclass  supervised  classification  multi label   \n",
       "1             binary  supervised  classification       binary   \n",
       "2         regression  supervised      regression         None   \n",
       "3  multiclass_folded  supervised  classification  multi label   \n",
       "\n",
       "         validation       dataset  \n",
       "0  validation split      iris.tsv  \n",
       "1  validation split     sonar.csv  \n",
       "2  validation split    houses.csv  \n",
       "3       cross-folds  iris_10x.tsv  "
      ]
     },
     "execution_count": 8,
     "metadata": {},
     "output_type": "execute_result"
    }
   ],
   "source": [
    "examples.list_demo_batches()"
   ]
  },
  {
   "cell_type": "markdown",
   "metadata": {},
   "source": [
    "* Each `Batch` contains predefined training `Jobs` and a `Hyperparamset`.\n",
    "  * Each `Job` is comprised of:\n",
    "    * An `Algorithm` and a unique `Hyperparamcombo`.\n",
    "    * They gets fit to a `Datasets` made from a dummy data file seen above.\n",
    "      * More specifically, its `Labels, Featuresets` are sliced into `Splitsets, Foldsets`."
   ]
  },
  {
   "cell_type": "markdown",
   "metadata": {},
   "source": [
    "## Example: supervised regression"
   ]
  },
  {
   "cell_type": "markdown",
   "metadata": {},
   "source": [
    "The entries from the `name` column above, can be fed into the `make_demo_batch()` method."
   ]
  },
  {
   "cell_type": "code",
   "execution_count": 9,
   "metadata": {},
   "outputs": [],
   "source": [
    "batch = examples.make_demo_batch('regression')"
   ]
  },
  {
   "cell_type": "markdown",
   "metadata": {},
   "source": [
    "### ORM in action"
   ]
  },
  {
   "cell_type": "markdown",
   "metadata": {},
   "source": [
    "It's easy to dig into the Batches using the ORM to see how they are constructed."
   ]
  },
  {
   "cell_type": "code",
   "execution_count": 10,
   "metadata": {},
   "outputs": [
    {
     "data": {
      "text/plain": [
       "4"
      ]
     },
     "execution_count": 10,
     "metadata": {},
     "output_type": "execute_result"
    }
   ],
   "source": [
    "batch.job_count"
   ]
  },
  {
   "cell_type": "code",
   "execution_count": 11,
   "metadata": {},
   "outputs": [
    {
     "data": {
      "text/plain": [
       "{'neuron_count': 48, 'epochs': 75}"
      ]
     },
     "execution_count": 11,
     "metadata": {},
     "output_type": "execute_result"
    }
   ],
   "source": [
    "batch.jobs[3].hyperparamcombo.hyperparameters"
   ]
  },
  {
   "cell_type": "code",
   "execution_count": 12,
   "metadata": {},
   "outputs": [
    {
     "data": {
      "text/plain": [
       "{'rows': 506, 'columns': 13}"
      ]
     },
     "execution_count": 12,
     "metadata": {},
     "output_type": "execute_result"
    }
   ],
   "source": [
    "batch.splitset.featureset.dataset.shape"
   ]
  },
  {
   "cell_type": "code",
   "execution_count": 13,
   "metadata": {},
   "outputs": [
    {
     "data": {
      "text/plain": [
       "<function aiqc.examples.regression_model_train(model, samples_train, samples_evaluate, **hyperparameters)>"
      ]
     },
     "execution_count": 13,
     "metadata": {},
     "output_type": "execute_result"
    }
   ],
   "source": [
    "batch.algorithm.function_model_train"
   ]
  },
  {
   "cell_type": "markdown",
   "metadata": {},
   "source": [
    "### Hyperparameter tuning in action"
   ]
  },
  {
   "cell_type": "markdown",
   "metadata": {},
   "source": [
    "When you execute a Batch of Jobs, it will run the jobs on a background process, so you can continue to work in your Python shell.\n",
    "\n",
    "> It does this by spawning a `multiprocessing.Process` that lives until each Job is completed or the process is killed."
   ]
  },
  {
   "cell_type": "code",
   "execution_count": 14,
   "metadata": {},
   "outputs": [
    {
     "name": "stderr",
     "output_type": "stream",
     "text": [
      "🔮 Training Models 🔮:  50%|█████████████████████                     | 2/4 [00:13<00:12,  6.29s/it]"
     ]
    }
   ],
   "source": [
    "batch.run_jobs()"
   ]
  },
  {
   "cell_type": "markdown",
   "metadata": {},
   "source": [
    "The execution of the Jobs can easily be stopped, and then resumed at the Job that was previously running."
   ]
  },
  {
   "cell_type": "code",
   "execution_count": 15,
   "metadata": {},
   "outputs": [
    {
     "name": "stdout",
     "output_type": "stream",
     "text": [
      "\n",
      "Killed `multiprocessing.Process` 'aiqc_batch_9' spawned from Batch <id:9>\n",
      "\n"
     ]
    }
   ],
   "source": [
    "batch.stop_jobs()"
   ]
  },
  {
   "cell_type": "code",
   "execution_count": 16,
   "metadata": {},
   "outputs": [
    {
     "name": "stdout",
     "output_type": "stream",
     "text": [
      "\n",
      "Resuming jobs...\n",
      "\n"
     ]
    },
    {
     "name": "stderr",
     "output_type": "stream",
     "text": [
      "🔮 Training Models 🔮: 100%|██████████████████████████████████████████| 4/4 [00:13<00:00,  3.37s/it]\n"
     ]
    }
   ],
   "source": [
    "batch.run_jobs()"
   ]
  },
  {
   "cell_type": "markdown",
   "metadata": {},
   "source": [
    "### Inspecting the Result of an Individual Job"
   ]
  },
  {
   "cell_type": "markdown",
   "metadata": {},
   "source": [
    "When each Job completes, it will create a `Result` that contains `predictions` and `metrics` attributes for each split/ fold."
   ]
  },
  {
   "cell_type": "code",
   "execution_count": 17,
   "metadata": {},
   "outputs": [
    {
     "data": {
      "text/plain": [
       "{'test': {'r2': 0.6963792716428294,\n",
       "  'mse': 0.2951804864898259,\n",
       "  'explained_variance': 0.7063090130204511,\n",
       "  'loss': 0.29518043994903564},\n",
       " 'validation': {'r2': 0.7381085765314983,\n",
       "  'mse': 0.2410270741642624,\n",
       "  'explained_variance': 0.7466099877263364,\n",
       "  'loss': 0.2410270869731903},\n",
       " 'train': {'r2': 0.734697880657778,\n",
       "  'mse': 0.26530211934222203,\n",
       "  'explained_variance': 0.7404845093871112,\n",
       "  'loss': 0.2653021216392517}}"
      ]
     },
     "execution_count": 17,
     "metadata": {},
     "output_type": "execute_result"
    }
   ],
   "source": [
    "batch.jobs[3].results[0].metrics"
   ]
  },
  {
   "cell_type": "markdown",
   "metadata": {},
   "source": [
    "The JSON values of these attributes are interoperable with Python dictionaries."
   ]
  },
  {
   "cell_type": "code",
   "execution_count": 18,
   "metadata": {},
   "outputs": [
    {
     "data": {
      "text/plain": [
       "array([[-0.15168118],\n",
       "       [ 1.6077876 ],\n",
       "       [ 0.3561042 ],\n",
       "       [ 0.08792061],\n",
       "       [ 2.1205187 ],\n",
       "       [-0.22818494],\n",
       "       [-0.27557564],\n",
       "       [-0.44030523],\n",
       "       [-0.07237878],\n",
       "       [ 0.310706  ],\n",
       "       [ 0.28391394],\n",
       "       [ 0.0256266 ],\n",
       "       [ 0.9612344 ],\n",
       "       [ 1.6431339 ],\n",
       "       [-0.4306181 ],\n",
       "       [-0.31357193],\n",
       "       [ 0.3742989 ],\n",
       "       [ 0.19994563],\n",
       "       [-0.622221  ],\n",
       "       [-0.6667788 ],\n",
       "       [-0.43117243],\n",
       "       [ 0.25616717],\n",
       "       [-0.11828876],\n",
       "       [-0.24248827],\n",
       "       [-0.43472743],\n",
       "       [ 0.4519846 ],\n",
       "       [-0.3030482 ],\n",
       "       [ 0.78143   ],\n",
       "       [ 0.07700422],\n",
       "       [-0.11437604],\n",
       "       [-0.68678147],\n",
       "       [ 0.10900812],\n",
       "       [-0.22920918],\n",
       "       [-0.42426032],\n",
       "       [-0.39213717],\n",
       "       [ 2.0510547 ],\n",
       "       [ 0.8801753 ],\n",
       "       [ 0.8849825 ],\n",
       "       [ 0.26650494],\n",
       "       [-0.10267839],\n",
       "       [ 0.07201514],\n",
       "       [-0.20041507],\n",
       "       [ 0.16122897],\n",
       "       [ 0.16937049],\n",
       "       [ 0.05018368],\n",
       "       [-0.11809018],\n",
       "       [-0.6085579 ],\n",
       "       [-0.11699814],\n",
       "       [-1.2536042 ],\n",
       "       [-0.7915618 ],\n",
       "       [ 0.5479494 ],\n",
       "       [-1.2893813 ],\n",
       "       [ 0.10414179],\n",
       "       [-0.08231622],\n",
       "       [ 0.68587244],\n",
       "       [-0.17288744],\n",
       "       [-0.63224846],\n",
       "       [ 0.36024013],\n",
       "       [-0.17809182],\n",
       "       [ 0.32666472],\n",
       "       [-0.05707991],\n",
       "       [-0.09271279],\n",
       "       [-0.12722445],\n",
       "       [ 0.8241014 ],\n",
       "       [-0.05341268],\n",
       "       [-0.44490927],\n",
       "       [ 0.14057632],\n",
       "       [ 0.20208912],\n",
       "       [ 0.38894013],\n",
       "       [ 1.7808566 ],\n",
       "       [-0.44742465]], dtype=float32)"
      ]
     },
     "execution_count": 18,
     "metadata": {},
     "output_type": "execute_result"
    }
   ],
   "source": [
    "batch.jobs[3].results[0].predictions['validation']"
   ]
  },
  {
   "cell_type": "markdown",
   "metadata": {},
   "source": [
    "### Inspecting the metrics of the entire Batch"
   ]
  },
  {
   "cell_type": "code",
   "execution_count": 20,
   "metadata": {},
   "outputs": [
    {
     "data": {
      "text/html": [
       "<div>\n",
       "<style scoped>\n",
       "    .dataframe tbody tr th:only-of-type {\n",
       "        vertical-align: middle;\n",
       "    }\n",
       "\n",
       "    .dataframe tbody tr th {\n",
       "        vertical-align: top;\n",
       "    }\n",
       "\n",
       "    .dataframe thead th {\n",
       "        text-align: right;\n",
       "    }\n",
       "</style>\n",
       "<table border=\"1\" class=\"dataframe\">\n",
       "  <thead>\n",
       "    <tr style=\"text-align: right;\">\n",
       "      <th></th>\n",
       "      <th>job_id</th>\n",
       "      <th>split</th>\n",
       "      <th>r2</th>\n",
       "      <th>mse</th>\n",
       "      <th>explained_variance</th>\n",
       "      <th>loss</th>\n",
       "    </tr>\n",
       "  </thead>\n",
       "  <tbody>\n",
       "    <tr>\n",
       "      <th>0</th>\n",
       "      <td>33</td>\n",
       "      <td>test</td>\n",
       "      <td>0.664181</td>\n",
       "      <td>0.326484</td>\n",
       "      <td>0.766747</td>\n",
       "      <td>0.326484</td>\n",
       "    </tr>\n",
       "    <tr>\n",
       "      <th>1</th>\n",
       "      <td>33</td>\n",
       "      <td>validation</td>\n",
       "      <td>0.694890</td>\n",
       "      <td>0.280802</td>\n",
       "      <td>0.801747</td>\n",
       "      <td>0.280802</td>\n",
       "    </tr>\n",
       "    <tr>\n",
       "      <th>2</th>\n",
       "      <td>33</td>\n",
       "      <td>train</td>\n",
       "      <td>0.721822</td>\n",
       "      <td>0.278178</td>\n",
       "      <td>0.793746</td>\n",
       "      <td>0.278178</td>\n",
       "    </tr>\n",
       "    <tr>\n",
       "      <th>3</th>\n",
       "      <td>34</td>\n",
       "      <td>test</td>\n",
       "      <td>0.703963</td>\n",
       "      <td>0.287808</td>\n",
       "      <td>0.709323</td>\n",
       "      <td>0.287808</td>\n",
       "    </tr>\n",
       "    <tr>\n",
       "      <th>4</th>\n",
       "      <td>34</td>\n",
       "      <td>validation</td>\n",
       "      <td>0.719353</td>\n",
       "      <td>0.258289</td>\n",
       "      <td>0.729316</td>\n",
       "      <td>0.258289</td>\n",
       "    </tr>\n",
       "    <tr>\n",
       "      <th>5</th>\n",
       "      <td>34</td>\n",
       "      <td>train</td>\n",
       "      <td>0.722841</td>\n",
       "      <td>0.277159</td>\n",
       "      <td>0.738167</td>\n",
       "      <td>0.277159</td>\n",
       "    </tr>\n",
       "    <tr>\n",
       "      <th>6</th>\n",
       "      <td>35</td>\n",
       "      <td>test</td>\n",
       "      <td>0.734238</td>\n",
       "      <td>0.258374</td>\n",
       "      <td>0.734808</td>\n",
       "      <td>0.258374</td>\n",
       "    </tr>\n",
       "    <tr>\n",
       "      <th>7</th>\n",
       "      <td>35</td>\n",
       "      <td>validation</td>\n",
       "      <td>0.743797</td>\n",
       "      <td>0.235792</td>\n",
       "      <td>0.748372</td>\n",
       "      <td>0.235792</td>\n",
       "    </tr>\n",
       "    <tr>\n",
       "      <th>8</th>\n",
       "      <td>35</td>\n",
       "      <td>train</td>\n",
       "      <td>0.779638</td>\n",
       "      <td>0.220362</td>\n",
       "      <td>0.785239</td>\n",
       "      <td>0.220362</td>\n",
       "    </tr>\n",
       "    <tr>\n",
       "      <th>9</th>\n",
       "      <td>36</td>\n",
       "      <td>test</td>\n",
       "      <td>0.696379</td>\n",
       "      <td>0.295180</td>\n",
       "      <td>0.706309</td>\n",
       "      <td>0.295180</td>\n",
       "    </tr>\n",
       "    <tr>\n",
       "      <th>10</th>\n",
       "      <td>36</td>\n",
       "      <td>validation</td>\n",
       "      <td>0.738109</td>\n",
       "      <td>0.241027</td>\n",
       "      <td>0.746610</td>\n",
       "      <td>0.241027</td>\n",
       "    </tr>\n",
       "    <tr>\n",
       "      <th>11</th>\n",
       "      <td>36</td>\n",
       "      <td>train</td>\n",
       "      <td>0.734698</td>\n",
       "      <td>0.265302</td>\n",
       "      <td>0.740485</td>\n",
       "      <td>0.265302</td>\n",
       "    </tr>\n",
       "  </tbody>\n",
       "</table>\n",
       "</div>"
      ],
      "text/plain": [
       "    job_id       split        r2       mse  explained_variance      loss\n",
       "0       33        test  0.664181  0.326484            0.766747  0.326484\n",
       "1       33  validation  0.694890  0.280802            0.801747  0.280802\n",
       "2       33       train  0.721822  0.278178            0.793746  0.278178\n",
       "3       34        test  0.703963  0.287808            0.709323  0.287808\n",
       "4       34  validation  0.719353  0.258289            0.729316  0.258289\n",
       "5       34       train  0.722841  0.277159            0.738167  0.277159\n",
       "6       35        test  0.734238  0.258374            0.734808  0.258374\n",
       "7       35  validation  0.743797  0.235792            0.748372  0.235792\n",
       "8       35       train  0.779638  0.220362            0.785239  0.220362\n",
       "9       36        test  0.696379  0.295180            0.706309  0.295180\n",
       "10      36  validation  0.738109  0.241027            0.746610  0.241027\n",
       "11      36       train  0.734698  0.265302            0.740485  0.265302"
      ]
     },
     "execution_count": 20,
     "metadata": {},
     "output_type": "execute_result"
    }
   ],
   "source": [
    "batch.metrics_to_pandas()"
   ]
  },
  {
   "cell_type": "markdown",
   "metadata": {},
   "source": [
    "## Example: supervised multi-classification with cross-fold validation"
   ]
  },
  {
   "cell_type": "markdown",
   "metadata": {},
   "source": [
    "The following method uses *demo_file* 'iris_10x.tsv', so if you see duplicate samples that is why."
   ]
  },
  {
   "cell_type": "code",
   "execution_count": 22,
   "metadata": {},
   "outputs": [],
   "source": [
    "batch = examples.make_demo_batch('multiclass_folded')"
   ]
  },
  {
   "cell_type": "code",
   "execution_count": 23,
   "metadata": {},
   "outputs": [
    {
     "name": "stderr",
     "output_type": "stream",
     "text": [
      "🔮 Training Models 🔮: 100%|████████████████████████████████████████| 10/10 [00:51<00:00,  5.18s/it]\n"
     ]
    }
   ],
   "source": [
    "batch.run_jobs()"
   ]
  },
  {
   "cell_type": "code",
   "execution_count": 24,
   "metadata": {},
   "outputs": [
    {
     "data": {
      "text/plain": [
       "10"
      ]
     },
     "execution_count": 24,
     "metadata": {},
     "output_type": "execute_result"
    }
   ],
   "source": [
    "batch.job_count"
   ]
  },
  {
   "cell_type": "code",
   "execution_count": 25,
   "metadata": {},
   "outputs": [
    {
     "data": {
      "text/html": [
       "<div>\n",
       "<style scoped>\n",
       "    .dataframe tbody tr th:only-of-type {\n",
       "        vertical-align: middle;\n",
       "    }\n",
       "\n",
       "    .dataframe tbody tr th {\n",
       "        vertical-align: top;\n",
       "    }\n",
       "\n",
       "    .dataframe thead th {\n",
       "        text-align: right;\n",
       "    }\n",
       "</style>\n",
       "<table border=\"1\" class=\"dataframe\">\n",
       "  <thead>\n",
       "    <tr style=\"text-align: right;\">\n",
       "      <th></th>\n",
       "      <th>job_id</th>\n",
       "      <th>split</th>\n",
       "      <th>roc_auc</th>\n",
       "      <th>accuracy</th>\n",
       "      <th>precision</th>\n",
       "      <th>recall</th>\n",
       "      <th>f1</th>\n",
       "      <th>loss</th>\n",
       "    </tr>\n",
       "  </thead>\n",
       "  <tbody>\n",
       "    <tr>\n",
       "      <th>0</th>\n",
       "      <td>37</td>\n",
       "      <td>test</td>\n",
       "      <td>0.999822</td>\n",
       "      <td>0.995556</td>\n",
       "      <td>0.995614</td>\n",
       "      <td>0.995556</td>\n",
       "      <td>0.995555</td>\n",
       "      <td>0.027901</td>\n",
       "    </tr>\n",
       "    <tr>\n",
       "      <th>1</th>\n",
       "      <td>37</td>\n",
       "      <td>folds_train_combined</td>\n",
       "      <td>0.999638</td>\n",
       "      <td>0.994048</td>\n",
       "      <td>0.994151</td>\n",
       "      <td>0.994048</td>\n",
       "      <td>0.994047</td>\n",
       "      <td>0.034026</td>\n",
       "    </tr>\n",
       "    <tr>\n",
       "      <th>2</th>\n",
       "      <td>37</td>\n",
       "      <td>fold_validation</td>\n",
       "      <td>0.999460</td>\n",
       "      <td>0.990476</td>\n",
       "      <td>0.990752</td>\n",
       "      <td>0.990476</td>\n",
       "      <td>0.990478</td>\n",
       "      <td>0.037803</td>\n",
       "    </tr>\n",
       "    <tr>\n",
       "      <th>3</th>\n",
       "      <td>38</td>\n",
       "      <td>test</td>\n",
       "      <td>1.000000</td>\n",
       "      <td>0.997778</td>\n",
       "      <td>0.997792</td>\n",
       "      <td>0.997778</td>\n",
       "      <td>0.997778</td>\n",
       "      <td>0.015914</td>\n",
       "    </tr>\n",
       "    <tr>\n",
       "      <th>4</th>\n",
       "      <td>38</td>\n",
       "      <td>folds_train_combined</td>\n",
       "      <td>1.000000</td>\n",
       "      <td>0.992857</td>\n",
       "      <td>0.993008</td>\n",
       "      <td>0.992857</td>\n",
       "      <td>0.992857</td>\n",
       "      <td>0.021590</td>\n",
       "    </tr>\n",
       "    <tr>\n",
       "      <th>5</th>\n",
       "      <td>38</td>\n",
       "      <td>fold_validation</td>\n",
       "      <td>1.000000</td>\n",
       "      <td>0.995238</td>\n",
       "      <td>0.995304</td>\n",
       "      <td>0.995238</td>\n",
       "      <td>0.995237</td>\n",
       "      <td>0.023279</td>\n",
       "    </tr>\n",
       "    <tr>\n",
       "      <th>6</th>\n",
       "      <td>39</td>\n",
       "      <td>test</td>\n",
       "      <td>0.999793</td>\n",
       "      <td>0.940000</td>\n",
       "      <td>0.949153</td>\n",
       "      <td>0.940000</td>\n",
       "      <td>0.939510</td>\n",
       "      <td>0.089607</td>\n",
       "    </tr>\n",
       "    <tr>\n",
       "      <th>7</th>\n",
       "      <td>39</td>\n",
       "      <td>folds_train_combined</td>\n",
       "      <td>0.999669</td>\n",
       "      <td>0.938095</td>\n",
       "      <td>0.947880</td>\n",
       "      <td>0.938095</td>\n",
       "      <td>0.937595</td>\n",
       "      <td>0.100268</td>\n",
       "    </tr>\n",
       "    <tr>\n",
       "      <th>8</th>\n",
       "      <td>39</td>\n",
       "      <td>fold_validation</td>\n",
       "      <td>0.998013</td>\n",
       "      <td>0.947619</td>\n",
       "      <td>0.954478</td>\n",
       "      <td>0.947619</td>\n",
       "      <td>0.947186</td>\n",
       "      <td>0.123960</td>\n",
       "    </tr>\n",
       "    <tr>\n",
       "      <th>9</th>\n",
       "      <td>40</td>\n",
       "      <td>test</td>\n",
       "      <td>0.999837</td>\n",
       "      <td>0.957778</td>\n",
       "      <td>0.962525</td>\n",
       "      <td>0.957778</td>\n",
       "      <td>0.957608</td>\n",
       "      <td>0.063986</td>\n",
       "    </tr>\n",
       "    <tr>\n",
       "      <th>10</th>\n",
       "      <td>40</td>\n",
       "      <td>folds_train_combined</td>\n",
       "      <td>0.999733</td>\n",
       "      <td>0.952381</td>\n",
       "      <td>0.958390</td>\n",
       "      <td>0.952381</td>\n",
       "      <td>0.952160</td>\n",
       "      <td>0.072892</td>\n",
       "    </tr>\n",
       "    <tr>\n",
       "      <th>11</th>\n",
       "      <td>40</td>\n",
       "      <td>fold_validation</td>\n",
       "      <td>0.998561</td>\n",
       "      <td>0.957143</td>\n",
       "      <td>0.961847</td>\n",
       "      <td>0.957143</td>\n",
       "      <td>0.956892</td>\n",
       "      <td>0.089163</td>\n",
       "    </tr>\n",
       "    <tr>\n",
       "      <th>12</th>\n",
       "      <td>41</td>\n",
       "      <td>test</td>\n",
       "      <td>0.999926</td>\n",
       "      <td>0.991111</td>\n",
       "      <td>0.991342</td>\n",
       "      <td>0.991111</td>\n",
       "      <td>0.991110</td>\n",
       "      <td>0.035634</td>\n",
       "    </tr>\n",
       "    <tr>\n",
       "      <th>13</th>\n",
       "      <td>41</td>\n",
       "      <td>folds_train_combined</td>\n",
       "      <td>0.999761</td>\n",
       "      <td>0.984524</td>\n",
       "      <td>0.985201</td>\n",
       "      <td>0.984524</td>\n",
       "      <td>0.984513</td>\n",
       "      <td>0.045547</td>\n",
       "    </tr>\n",
       "    <tr>\n",
       "      <th>14</th>\n",
       "      <td>41</td>\n",
       "      <td>fold_validation</td>\n",
       "      <td>1.000000</td>\n",
       "      <td>0.995238</td>\n",
       "      <td>0.995309</td>\n",
       "      <td>0.995238</td>\n",
       "      <td>0.995239</td>\n",
       "      <td>0.038224</td>\n",
       "    </tr>\n",
       "    <tr>\n",
       "      <th>15</th>\n",
       "      <td>42</td>\n",
       "      <td>test</td>\n",
       "      <td>0.999970</td>\n",
       "      <td>0.997778</td>\n",
       "      <td>0.997792</td>\n",
       "      <td>0.997778</td>\n",
       "      <td>0.997778</td>\n",
       "      <td>0.020623</td>\n",
       "    </tr>\n",
       "    <tr>\n",
       "      <th>16</th>\n",
       "      <td>42</td>\n",
       "      <td>folds_train_combined</td>\n",
       "      <td>0.999821</td>\n",
       "      <td>0.991667</td>\n",
       "      <td>0.991867</td>\n",
       "      <td>0.991667</td>\n",
       "      <td>0.991665</td>\n",
       "      <td>0.027902</td>\n",
       "    </tr>\n",
       "    <tr>\n",
       "      <th>17</th>\n",
       "      <td>42</td>\n",
       "      <td>fold_validation</td>\n",
       "      <td>1.000000</td>\n",
       "      <td>1.000000</td>\n",
       "      <td>1.000000</td>\n",
       "      <td>1.000000</td>\n",
       "      <td>1.000000</td>\n",
       "      <td>0.013354</td>\n",
       "    </tr>\n",
       "    <tr>\n",
       "      <th>18</th>\n",
       "      <td>43</td>\n",
       "      <td>test</td>\n",
       "      <td>0.999970</td>\n",
       "      <td>0.995556</td>\n",
       "      <td>0.995614</td>\n",
       "      <td>0.995556</td>\n",
       "      <td>0.995555</td>\n",
       "      <td>0.014256</td>\n",
       "    </tr>\n",
       "    <tr>\n",
       "      <th>19</th>\n",
       "      <td>43</td>\n",
       "      <td>folds_train_combined</td>\n",
       "      <td>0.999873</td>\n",
       "      <td>0.992857</td>\n",
       "      <td>0.993006</td>\n",
       "      <td>0.992857</td>\n",
       "      <td>0.992856</td>\n",
       "      <td>0.020527</td>\n",
       "    </tr>\n",
       "    <tr>\n",
       "      <th>20</th>\n",
       "      <td>43</td>\n",
       "      <td>fold_validation</td>\n",
       "      <td>0.999862</td>\n",
       "      <td>0.995238</td>\n",
       "      <td>0.995306</td>\n",
       "      <td>0.995238</td>\n",
       "      <td>0.995239</td>\n",
       "      <td>0.019056</td>\n",
       "    </tr>\n",
       "    <tr>\n",
       "      <th>21</th>\n",
       "      <td>44</td>\n",
       "      <td>test</td>\n",
       "      <td>0.999881</td>\n",
       "      <td>0.993333</td>\n",
       "      <td>0.993348</td>\n",
       "      <td>0.993333</td>\n",
       "      <td>0.993333</td>\n",
       "      <td>0.019518</td>\n",
       "    </tr>\n",
       "    <tr>\n",
       "      <th>22</th>\n",
       "      <td>44</td>\n",
       "      <td>folds_train_combined</td>\n",
       "      <td>0.999593</td>\n",
       "      <td>0.986905</td>\n",
       "      <td>0.986908</td>\n",
       "      <td>0.986905</td>\n",
       "      <td>0.986905</td>\n",
       "      <td>0.028145</td>\n",
       "    </tr>\n",
       "    <tr>\n",
       "      <th>23</th>\n",
       "      <td>44</td>\n",
       "      <td>fold_validation</td>\n",
       "      <td>0.999656</td>\n",
       "      <td>0.985714</td>\n",
       "      <td>0.985771</td>\n",
       "      <td>0.985714</td>\n",
       "      <td>0.985710</td>\n",
       "      <td>0.027292</td>\n",
       "    </tr>\n",
       "    <tr>\n",
       "      <th>24</th>\n",
       "      <td>45</td>\n",
       "      <td>test</td>\n",
       "      <td>0.999733</td>\n",
       "      <td>0.984444</td>\n",
       "      <td>0.985138</td>\n",
       "      <td>0.984444</td>\n",
       "      <td>0.984436</td>\n",
       "      <td>0.032462</td>\n",
       "    </tr>\n",
       "    <tr>\n",
       "      <th>25</th>\n",
       "      <td>45</td>\n",
       "      <td>folds_train_combined</td>\n",
       "      <td>0.999639</td>\n",
       "      <td>0.979762</td>\n",
       "      <td>0.980940</td>\n",
       "      <td>0.979762</td>\n",
       "      <td>0.979753</td>\n",
       "      <td>0.040531</td>\n",
       "    </tr>\n",
       "    <tr>\n",
       "      <th>26</th>\n",
       "      <td>45</td>\n",
       "      <td>fold_validation</td>\n",
       "      <td>0.999453</td>\n",
       "      <td>0.980952</td>\n",
       "      <td>0.981917</td>\n",
       "      <td>0.980952</td>\n",
       "      <td>0.980902</td>\n",
       "      <td>0.044747</td>\n",
       "    </tr>\n",
       "    <tr>\n",
       "      <th>27</th>\n",
       "      <td>46</td>\n",
       "      <td>test</td>\n",
       "      <td>0.999970</td>\n",
       "      <td>0.997778</td>\n",
       "      <td>0.997792</td>\n",
       "      <td>0.997778</td>\n",
       "      <td>0.997778</td>\n",
       "      <td>0.017208</td>\n",
       "    </tr>\n",
       "    <tr>\n",
       "      <th>28</th>\n",
       "      <td>46</td>\n",
       "      <td>folds_train_combined</td>\n",
       "      <td>0.999851</td>\n",
       "      <td>0.991667</td>\n",
       "      <td>0.991867</td>\n",
       "      <td>0.991667</td>\n",
       "      <td>0.991664</td>\n",
       "      <td>0.028999</td>\n",
       "    </tr>\n",
       "    <tr>\n",
       "      <th>29</th>\n",
       "      <td>46</td>\n",
       "      <td>fold_validation</td>\n",
       "      <td>1.000000</td>\n",
       "      <td>1.000000</td>\n",
       "      <td>1.000000</td>\n",
       "      <td>1.000000</td>\n",
       "      <td>1.000000</td>\n",
       "      <td>0.017045</td>\n",
       "    </tr>\n",
       "  </tbody>\n",
       "</table>\n",
       "</div>"
      ],
      "text/plain": [
       "    job_id                 split   roc_auc  accuracy  precision    recall  \\\n",
       "0       37                  test  0.999822  0.995556   0.995614  0.995556   \n",
       "1       37  folds_train_combined  0.999638  0.994048   0.994151  0.994048   \n",
       "2       37       fold_validation  0.999460  0.990476   0.990752  0.990476   \n",
       "3       38                  test  1.000000  0.997778   0.997792  0.997778   \n",
       "4       38  folds_train_combined  1.000000  0.992857   0.993008  0.992857   \n",
       "5       38       fold_validation  1.000000  0.995238   0.995304  0.995238   \n",
       "6       39                  test  0.999793  0.940000   0.949153  0.940000   \n",
       "7       39  folds_train_combined  0.999669  0.938095   0.947880  0.938095   \n",
       "8       39       fold_validation  0.998013  0.947619   0.954478  0.947619   \n",
       "9       40                  test  0.999837  0.957778   0.962525  0.957778   \n",
       "10      40  folds_train_combined  0.999733  0.952381   0.958390  0.952381   \n",
       "11      40       fold_validation  0.998561  0.957143   0.961847  0.957143   \n",
       "12      41                  test  0.999926  0.991111   0.991342  0.991111   \n",
       "13      41  folds_train_combined  0.999761  0.984524   0.985201  0.984524   \n",
       "14      41       fold_validation  1.000000  0.995238   0.995309  0.995238   \n",
       "15      42                  test  0.999970  0.997778   0.997792  0.997778   \n",
       "16      42  folds_train_combined  0.999821  0.991667   0.991867  0.991667   \n",
       "17      42       fold_validation  1.000000  1.000000   1.000000  1.000000   \n",
       "18      43                  test  0.999970  0.995556   0.995614  0.995556   \n",
       "19      43  folds_train_combined  0.999873  0.992857   0.993006  0.992857   \n",
       "20      43       fold_validation  0.999862  0.995238   0.995306  0.995238   \n",
       "21      44                  test  0.999881  0.993333   0.993348  0.993333   \n",
       "22      44  folds_train_combined  0.999593  0.986905   0.986908  0.986905   \n",
       "23      44       fold_validation  0.999656  0.985714   0.985771  0.985714   \n",
       "24      45                  test  0.999733  0.984444   0.985138  0.984444   \n",
       "25      45  folds_train_combined  0.999639  0.979762   0.980940  0.979762   \n",
       "26      45       fold_validation  0.999453  0.980952   0.981917  0.980952   \n",
       "27      46                  test  0.999970  0.997778   0.997792  0.997778   \n",
       "28      46  folds_train_combined  0.999851  0.991667   0.991867  0.991667   \n",
       "29      46       fold_validation  1.000000  1.000000   1.000000  1.000000   \n",
       "\n",
       "          f1      loss  \n",
       "0   0.995555  0.027901  \n",
       "1   0.994047  0.034026  \n",
       "2   0.990478  0.037803  \n",
       "3   0.997778  0.015914  \n",
       "4   0.992857  0.021590  \n",
       "5   0.995237  0.023279  \n",
       "6   0.939510  0.089607  \n",
       "7   0.937595  0.100268  \n",
       "8   0.947186  0.123960  \n",
       "9   0.957608  0.063986  \n",
       "10  0.952160  0.072892  \n",
       "11  0.956892  0.089163  \n",
       "12  0.991110  0.035634  \n",
       "13  0.984513  0.045547  \n",
       "14  0.995239  0.038224  \n",
       "15  0.997778  0.020623  \n",
       "16  0.991665  0.027902  \n",
       "17  1.000000  0.013354  \n",
       "18  0.995555  0.014256  \n",
       "19  0.992856  0.020527  \n",
       "20  0.995239  0.019056  \n",
       "21  0.993333  0.019518  \n",
       "22  0.986905  0.028145  \n",
       "23  0.985710  0.027292  \n",
       "24  0.984436  0.032462  \n",
       "25  0.979753  0.040531  \n",
       "26  0.980902  0.044747  \n",
       "27  0.997778  0.017208  \n",
       "28  0.991664  0.028999  \n",
       "29  1.000000  0.017045  "
      ]
     },
     "execution_count": 25,
     "metadata": {},
     "output_type": "execute_result"
    }
   ],
   "source": [
    "batch.metrics_to_pandas()"
   ]
  },
  {
   "cell_type": "markdown",
   "metadata": {},
   "source": [
    "### API Details"
   ]
  },
  {
   "cell_type": "markdown",
   "metadata": {},
   "source": [
    "For more detailed information reference the *[Low-Level API](api_low_level.ipynb)* documentation."
   ]
  },
  {
   "cell_type": "markdown",
   "metadata": {},
   "source": [
    "### Metrics & Visualization"
   ]
  },
  {
   "cell_type": "markdown",
   "metadata": {},
   "source": [
    "For more information of visualization of performance metrics, reference the *[Visualization & Metrics](api_low_level.ipynb)* documentation."
   ]
  }
 ],
 "metadata": {
  "kernelspec": {
   "display_name": "Python 3",
   "language": "python",
   "name": "python3"
  },
  "language_info": {
   "codemirror_mode": {
    "name": "ipython",
    "version": 3
   },
   "file_extension": ".py",
   "mimetype": "text/x-python",
   "name": "python",
   "nbconvert_exporter": "python",
   "pygments_lexer": "ipython3",
   "version": "3.7.6"
  }
 },
 "nbformat": 4,
 "nbformat_minor": 4
}
