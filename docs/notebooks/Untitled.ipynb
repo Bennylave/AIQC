{
 "cells": [
  {
   "cell_type": "code",
   "execution_count": 2,
   "id": "alternative-basket",
   "metadata": {},
   "outputs": [
    {
     "name": "stdout",
     "output_type": "stream",
     "text": [
      "Name: torch\n",
      "Version: 1.8.1\n",
      "Summary: Tensors and Dynamic neural networks in Python with strong GPU acceleration\n",
      "Home-page: https://pytorch.org/\n",
      "Author: PyTorch Team\n",
      "Author-email: packages@pytorch.org\n",
      "License: BSD-3\n",
      "Location: /Users/layne/.pyenv/versions/3.8.7/envs/jupyterlab3/lib/python3.8/site-packages\n",
      "Requires: numpy, typing-extensions\n",
      "Required-by: torchmetrics\n",
      "Note: you may need to restart the kernel to use updated packages.\n"
     ]
    }
   ],
   "source": [
    "pip show torch"
   ]
  },
  {
   "cell_type": "code",
   "execution_count": 3,
   "id": "artistic-depth",
   "metadata": {},
   "outputs": [
    {
     "name": "stdout",
     "output_type": "stream",
     "text": [
      "Name: torchmetrics\n",
      "Version: 0.2.0\n",
      "Summary: PyTorch native Metrics\n",
      "Home-page: https://github.com/PyTorchLightning/metrics\n",
      "Author: PyTorchLightning et al.\n",
      "Author-email: name@pytorchlightning.ai\n",
      "License: Apache-2.0\n",
      "Location: /Users/layne/.pyenv/versions/3.8.7/envs/jupyterlab3/lib/python3.8/site-packages\n",
      "Requires: torch\n",
      "Required-by: \n",
      "Note: you may need to restart the kernel to use updated packages.\n"
     ]
    }
   ],
   "source": [
    "pip show torchmetrics"
   ]
  },
  {
   "cell_type": "code",
   "execution_count": null,
   "id": "artistic-panama",
   "metadata": {},
   "outputs": [],
   "source": []
  }
 ],
 "metadata": {
  "kernelspec": {
   "display_name": "Python 3",
   "language": "python",
   "name": "python3"
  },
  "language_info": {
   "codemirror_mode": {
    "name": "ipython",
    "version": 3
   },
   "file_extension": ".py",
   "mimetype": "text/x-python",
   "name": "python",
   "nbconvert_exporter": "python",
   "pygments_lexer": "ipython3",
   "version": "3.8.7"
  }
 },
 "nbformat": 4,
 "nbformat_minor": 5
}
