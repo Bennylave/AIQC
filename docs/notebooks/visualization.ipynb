{
 "cells": [
  {
   "cell_type": "markdown",
   "metadata": {},
   "source": [
    "# Visualization & Metrics"
   ]
  },
  {
   "cell_type": "markdown",
   "metadata": {},
   "source": [
    "## Prerequisites"
   ]
  },
  {
   "cell_type": "markdown",
   "metadata": {},
   "source": [
    "`Plotly` is used for all charts to provide an interactive experience: hover, toggle, and zoom. Reference the [Installation](installation.html#Plotting) notebook for information about configuring Plotly. However, static images are used in this notebook due to recent difficulty with 3rd party JS on the documentation portal."
   ]
  },
  {
   "cell_type": "markdown",
   "metadata": {},
   "source": [
    "## Overview"
   ]
  },
  {
   "cell_type": "markdown",
   "metadata": {},
   "source": [
    "As described in the [Low-Level Docs](api_low_level.html#10.-Assess-the-Results.), the `Predictor` and `Prediction` of each training `Job` are automatically populated with metrics for each split/ fold of samples evaluated against the model. The `Algorithm.analysis_type` determines which metrics and plots are prepared:\n",
    "\n",
    "* Although `'classification_multi'` and `'classification_binary'` share the same metrics and plots, they go about producing these artifacts differently. For example, ROC curves `roc_multi_class=None` vs `roc_multi_class='ovr'`.\n",
    "\n",
    "* `'regression'`, unlike the classification analyses, does not have an 'accuracy' metric, so we substitute 'r2', R^2 (coefficient of determination, for it. There are no regression-specific plots."
   ]
  },
  {
   "cell_type": "markdown",
   "metadata": {},
   "source": [
    "---"
   ]
  },
  {
   "cell_type": "markdown",
   "metadata": {},
   "source": [
    "We'll use the `datum` and `tests` modules to rapidly create some examples."
   ]
  },
  {
   "cell_type": "code",
   "execution_count": 4,
   "metadata": {},
   "outputs": [],
   "source": [
    "import aiqc\n",
    "from aiqc import datum\n",
    "from aiqc import tests"
   ]
  },
  {
   "cell_type": "markdown",
   "metadata": {},
   "source": [
    "---"
   ]
  },
  {
   "cell_type": "markdown",
   "metadata": {},
   "source": [
    "## Classification"
   ]
  },
  {
   "cell_type": "code",
   "execution_count": 5,
   "metadata": {},
   "outputs": [],
   "source": [
    "%%capture\n",
    "queue_multiclass = tests.make_test_queue('keras_multiclass')"
   ]
  },
  {
   "cell_type": "code",
   "execution_count": 6,
   "metadata": {},
   "outputs": [
    {
     "name": "stderr",
     "output_type": "stream",
     "text": [
      "🔮 Training Models 🔮: 100%|██████████████████████████████████████████| 8/8 [00:28<00:00,  3.54s/it]\n"
     ]
    }
   ],
   "source": [
    "queue_multiclass.run_jobs()"
   ]
  },
  {
   "cell_type": "markdown",
   "metadata": {},
   "source": [
    "### Individual Job Metrics"
   ]
  },
  {
   "cell_type": "markdown",
   "metadata": {},
   "source": [
    "Each training `Prediction` contains the following metrics."
   ]
  },
  {
   "cell_type": "code",
   "execution_count": 10,
   "metadata": {},
   "outputs": [
    {
     "name": "stdout",
     "output_type": "stream",
     "text": [
      "{'test': {'accuracy': 0.9629629629629629,\n",
      "          'f1': 0.9628482972136223,\n",
      "          'loss': 0.17958050966262817,\n",
      "          'precision': 0.9666666666666667,\n",
      "          'recall': 0.9629629629629629,\n",
      "          'roc_auc': 0.9876543209876543},\n",
      " 'train': {'accuracy': 0.9705882352941176,\n",
      "           'f1': 0.9705308775731311,\n",
      "           'loss': 0.13190817832946777,\n",
      "           'precision': 0.9729729729729729,\n",
      "           'recall': 0.9705882352941176,\n",
      "           'roc_auc': 0.9985582468281432},\n",
      " 'validation': {'accuracy': 1.0,\n",
      "                'f1': 1.0,\n",
      "                'loss': 0.15124531090259552,\n",
      "                'precision': 1.0,\n",
      "                'recall': 1.0,\n",
      "                'roc_auc': 1.0}}\n"
     ]
    }
   ],
   "source": [
    "from pprint import pprint as p\n",
    "p(\n",
    "    queue_multiclass.jobs[0].predictors[0].predictions[0].metrics\n",
    ")"
   ]
  },
  {
   "cell_type": "markdown",
   "metadata": {},
   "source": [
    "It also contains per-epoch `History` metrics calculated during model training."
   ]
  },
  {
   "cell_type": "code",
   "execution_count": 11,
   "metadata": {},
   "outputs": [
    {
     "data": {
      "text/plain": [
       "dict_keys(['loss', 'accuracy', 'val_loss', 'val_accuracy'])"
      ]
     },
     "execution_count": 11,
     "metadata": {},
     "output_type": "execute_result"
    }
   ],
   "source": [
    "queue_multiclass.jobs[0].predictors[0].history.keys()"
   ]
  },
  {
   "cell_type": "markdown",
   "metadata": {},
   "source": [
    "### Aggregate Queue Metrics"
   ]
  },
  {
   "cell_type": "markdown",
   "metadata": {},
   "source": [
    "* `selected_metrics:list` - If you get overwhelmed by the variety of metrics returned, then you can include the ones you want selectively by name.\n",
    "* `sort_by:str` - You can sort the dataframe by any column name.\n",
    "* `ascending:bool=False` - Descending if False."
   ]
  },
  {
   "cell_type": "code",
   "execution_count": 9,
   "metadata": {},
   "outputs": [
    {
     "data": {
      "text/html": [
       "<div>\n",
       "<style scoped>\n",
       "    .dataframe tbody tr th:only-of-type {\n",
       "        vertical-align: middle;\n",
       "    }\n",
       "\n",
       "    .dataframe tbody tr th {\n",
       "        vertical-align: top;\n",
       "    }\n",
       "\n",
       "    .dataframe thead th {\n",
       "        text-align: right;\n",
       "    }\n",
       "</style>\n",
       "<table border=\"1\" class=\"dataframe\">\n",
       "  <thead>\n",
       "    <tr style=\"text-align: right;\">\n",
       "      <th></th>\n",
       "      <th>hyperparamcombo_id</th>\n",
       "      <th>job_id</th>\n",
       "      <th>predictor_id</th>\n",
       "      <th>split</th>\n",
       "      <th>accuracy</th>\n",
       "      <th>f1</th>\n",
       "      <th>loss</th>\n",
       "      <th>precision</th>\n",
       "      <th>recall</th>\n",
       "      <th>roc_auc</th>\n",
       "    </tr>\n",
       "  </thead>\n",
       "  <tbody>\n",
       "    <tr>\n",
       "      <th>23</th>\n",
       "      <td>8</td>\n",
       "      <td>8</td>\n",
       "      <td>8</td>\n",
       "      <td>train</td>\n",
       "      <td>0.970588</td>\n",
       "      <td>0.970531</td>\n",
       "      <td>0.094776</td>\n",
       "      <td>0.972973</td>\n",
       "      <td>0.970588</td>\n",
       "      <td>0.999135</td>\n",
       "    </tr>\n",
       "    <tr>\n",
       "      <th>22</th>\n",
       "      <td>8</td>\n",
       "      <td>8</td>\n",
       "      <td>8</td>\n",
       "      <td>validation</td>\n",
       "      <td>1.000000</td>\n",
       "      <td>1.000000</td>\n",
       "      <td>0.059430</td>\n",
       "      <td>1.000000</td>\n",
       "      <td>1.000000</td>\n",
       "      <td>1.000000</td>\n",
       "    </tr>\n",
       "    <tr>\n",
       "      <th>21</th>\n",
       "      <td>8</td>\n",
       "      <td>8</td>\n",
       "      <td>8</td>\n",
       "      <td>test</td>\n",
       "      <td>0.888889</td>\n",
       "      <td>0.885714</td>\n",
       "      <td>0.158564</td>\n",
       "      <td>0.916667</td>\n",
       "      <td>0.888889</td>\n",
       "      <td>1.000000</td>\n",
       "    </tr>\n",
       "    <tr>\n",
       "      <th>20</th>\n",
       "      <td>7</td>\n",
       "      <td>7</td>\n",
       "      <td>7</td>\n",
       "      <td>train</td>\n",
       "      <td>0.941176</td>\n",
       "      <td>0.940715</td>\n",
       "      <td>0.140597</td>\n",
       "      <td>0.950000</td>\n",
       "      <td>0.941176</td>\n",
       "      <td>0.998414</td>\n",
       "    </tr>\n",
       "    <tr>\n",
       "      <th>19</th>\n",
       "      <td>7</td>\n",
       "      <td>7</td>\n",
       "      <td>7</td>\n",
       "      <td>validation</td>\n",
       "      <td>1.000000</td>\n",
       "      <td>1.000000</td>\n",
       "      <td>0.090078</td>\n",
       "      <td>1.000000</td>\n",
       "      <td>1.000000</td>\n",
       "      <td>1.000000</td>\n",
       "    </tr>\n",
       "    <tr>\n",
       "      <th>18</th>\n",
       "      <td>7</td>\n",
       "      <td>7</td>\n",
       "      <td>7</td>\n",
       "      <td>test</td>\n",
       "      <td>0.888889</td>\n",
       "      <td>0.885714</td>\n",
       "      <td>0.301731</td>\n",
       "      <td>0.916667</td>\n",
       "      <td>0.888889</td>\n",
       "      <td>1.000000</td>\n",
       "    </tr>\n",
       "    <tr>\n",
       "      <th>17</th>\n",
       "      <td>6</td>\n",
       "      <td>6</td>\n",
       "      <td>6</td>\n",
       "      <td>train</td>\n",
       "      <td>0.960784</td>\n",
       "      <td>0.960648</td>\n",
       "      <td>0.100677</td>\n",
       "      <td>0.964912</td>\n",
       "      <td>0.960784</td>\n",
       "      <td>0.999135</td>\n",
       "    </tr>\n",
       "    <tr>\n",
       "      <th>16</th>\n",
       "      <td>6</td>\n",
       "      <td>6</td>\n",
       "      <td>6</td>\n",
       "      <td>validation</td>\n",
       "      <td>1.000000</td>\n",
       "      <td>1.000000</td>\n",
       "      <td>0.101051</td>\n",
       "      <td>1.000000</td>\n",
       "      <td>1.000000</td>\n",
       "      <td>1.000000</td>\n",
       "    </tr>\n",
       "    <tr>\n",
       "      <th>15</th>\n",
       "      <td>6</td>\n",
       "      <td>6</td>\n",
       "      <td>6</td>\n",
       "      <td>test</td>\n",
       "      <td>0.888889</td>\n",
       "      <td>0.885714</td>\n",
       "      <td>0.205332</td>\n",
       "      <td>0.916667</td>\n",
       "      <td>0.888889</td>\n",
       "      <td>0.995885</td>\n",
       "    </tr>\n",
       "    <tr>\n",
       "      <th>13</th>\n",
       "      <td>5</td>\n",
       "      <td>5</td>\n",
       "      <td>5</td>\n",
       "      <td>validation</td>\n",
       "      <td>0.904762</td>\n",
       "      <td>0.902778</td>\n",
       "      <td>0.190586</td>\n",
       "      <td>0.925926</td>\n",
       "      <td>0.904762</td>\n",
       "      <td>1.000000</td>\n",
       "    </tr>\n",
       "    <tr>\n",
       "      <th>14</th>\n",
       "      <td>5</td>\n",
       "      <td>5</td>\n",
       "      <td>5</td>\n",
       "      <td>train</td>\n",
       "      <td>0.911765</td>\n",
       "      <td>0.910192</td>\n",
       "      <td>0.211756</td>\n",
       "      <td>0.930233</td>\n",
       "      <td>0.911765</td>\n",
       "      <td>0.992647</td>\n",
       "    </tr>\n",
       "    <tr>\n",
       "      <th>12</th>\n",
       "      <td>5</td>\n",
       "      <td>5</td>\n",
       "      <td>5</td>\n",
       "      <td>test</td>\n",
       "      <td>0.851852</td>\n",
       "      <td>0.844156</td>\n",
       "      <td>0.253303</td>\n",
       "      <td>0.897436</td>\n",
       "      <td>0.851852</td>\n",
       "      <td>0.995885</td>\n",
       "    </tr>\n",
       "    <tr>\n",
       "      <th>11</th>\n",
       "      <td>4</td>\n",
       "      <td>4</td>\n",
       "      <td>4</td>\n",
       "      <td>train</td>\n",
       "      <td>0.980392</td>\n",
       "      <td>0.980375</td>\n",
       "      <td>0.075605</td>\n",
       "      <td>0.981481</td>\n",
       "      <td>0.980392</td>\n",
       "      <td>0.998847</td>\n",
       "    </tr>\n",
       "    <tr>\n",
       "      <th>10</th>\n",
       "      <td>4</td>\n",
       "      <td>4</td>\n",
       "      <td>4</td>\n",
       "      <td>validation</td>\n",
       "      <td>1.000000</td>\n",
       "      <td>1.000000</td>\n",
       "      <td>0.037085</td>\n",
       "      <td>1.000000</td>\n",
       "      <td>1.000000</td>\n",
       "      <td>1.000000</td>\n",
       "    </tr>\n",
       "    <tr>\n",
       "      <th>9</th>\n",
       "      <td>4</td>\n",
       "      <td>4</td>\n",
       "      <td>4</td>\n",
       "      <td>test</td>\n",
       "      <td>0.888889</td>\n",
       "      <td>0.885714</td>\n",
       "      <td>0.113647</td>\n",
       "      <td>0.916667</td>\n",
       "      <td>0.888889</td>\n",
       "      <td>1.000000</td>\n",
       "    </tr>\n",
       "    <tr>\n",
       "      <th>8</th>\n",
       "      <td>3</td>\n",
       "      <td>3</td>\n",
       "      <td>3</td>\n",
       "      <td>train</td>\n",
       "      <td>0.941176</td>\n",
       "      <td>0.940715</td>\n",
       "      <td>0.152959</td>\n",
       "      <td>0.950000</td>\n",
       "      <td>0.941176</td>\n",
       "      <td>0.998847</td>\n",
       "    </tr>\n",
       "    <tr>\n",
       "      <th>7</th>\n",
       "      <td>3</td>\n",
       "      <td>3</td>\n",
       "      <td>3</td>\n",
       "      <td>validation</td>\n",
       "      <td>0.904762</td>\n",
       "      <td>0.902778</td>\n",
       "      <td>0.176098</td>\n",
       "      <td>0.925926</td>\n",
       "      <td>0.904762</td>\n",
       "      <td>1.000000</td>\n",
       "    </tr>\n",
       "    <tr>\n",
       "      <th>6</th>\n",
       "      <td>3</td>\n",
       "      <td>3</td>\n",
       "      <td>3</td>\n",
       "      <td>test</td>\n",
       "      <td>0.925926</td>\n",
       "      <td>0.925000</td>\n",
       "      <td>0.244709</td>\n",
       "      <td>0.939394</td>\n",
       "      <td>0.925926</td>\n",
       "      <td>0.981481</td>\n",
       "    </tr>\n",
       "    <tr>\n",
       "      <th>5</th>\n",
       "      <td>2</td>\n",
       "      <td>2</td>\n",
       "      <td>2</td>\n",
       "      <td>train</td>\n",
       "      <td>0.950980</td>\n",
       "      <td>0.950714</td>\n",
       "      <td>0.114393</td>\n",
       "      <td>0.957265</td>\n",
       "      <td>0.950980</td>\n",
       "      <td>0.998558</td>\n",
       "    </tr>\n",
       "    <tr>\n",
       "      <th>4</th>\n",
       "      <td>2</td>\n",
       "      <td>2</td>\n",
       "      <td>2</td>\n",
       "      <td>validation</td>\n",
       "      <td>1.000000</td>\n",
       "      <td>1.000000</td>\n",
       "      <td>0.080222</td>\n",
       "      <td>1.000000</td>\n",
       "      <td>1.000000</td>\n",
       "      <td>1.000000</td>\n",
       "    </tr>\n",
       "    <tr>\n",
       "      <th>3</th>\n",
       "      <td>2</td>\n",
       "      <td>2</td>\n",
       "      <td>2</td>\n",
       "      <td>test</td>\n",
       "      <td>0.888889</td>\n",
       "      <td>0.885714</td>\n",
       "      <td>0.186216</td>\n",
       "      <td>0.916667</td>\n",
       "      <td>0.888889</td>\n",
       "      <td>1.000000</td>\n",
       "    </tr>\n",
       "    <tr>\n",
       "      <th>1</th>\n",
       "      <td>1</td>\n",
       "      <td>1</td>\n",
       "      <td>1</td>\n",
       "      <td>validation</td>\n",
       "      <td>1.000000</td>\n",
       "      <td>1.000000</td>\n",
       "      <td>0.151245</td>\n",
       "      <td>1.000000</td>\n",
       "      <td>1.000000</td>\n",
       "      <td>1.000000</td>\n",
       "    </tr>\n",
       "    <tr>\n",
       "      <th>2</th>\n",
       "      <td>1</td>\n",
       "      <td>1</td>\n",
       "      <td>1</td>\n",
       "      <td>train</td>\n",
       "      <td>0.970588</td>\n",
       "      <td>0.970531</td>\n",
       "      <td>0.131908</td>\n",
       "      <td>0.972973</td>\n",
       "      <td>0.970588</td>\n",
       "      <td>0.998558</td>\n",
       "    </tr>\n",
       "    <tr>\n",
       "      <th>0</th>\n",
       "      <td>1</td>\n",
       "      <td>1</td>\n",
       "      <td>1</td>\n",
       "      <td>test</td>\n",
       "      <td>0.962963</td>\n",
       "      <td>0.962848</td>\n",
       "      <td>0.179581</td>\n",
       "      <td>0.966667</td>\n",
       "      <td>0.962963</td>\n",
       "      <td>0.987654</td>\n",
       "    </tr>\n",
       "  </tbody>\n",
       "</table>\n",
       "</div>"
      ],
      "text/plain": [
       "    hyperparamcombo_id  job_id  predictor_id       split  accuracy        f1  \\\n",
       "23                   8       8             8       train  0.970588  0.970531   \n",
       "22                   8       8             8  validation  1.000000  1.000000   \n",
       "21                   8       8             8        test  0.888889  0.885714   \n",
       "20                   7       7             7       train  0.941176  0.940715   \n",
       "19                   7       7             7  validation  1.000000  1.000000   \n",
       "18                   7       7             7        test  0.888889  0.885714   \n",
       "17                   6       6             6       train  0.960784  0.960648   \n",
       "16                   6       6             6  validation  1.000000  1.000000   \n",
       "15                   6       6             6        test  0.888889  0.885714   \n",
       "13                   5       5             5  validation  0.904762  0.902778   \n",
       "14                   5       5             5       train  0.911765  0.910192   \n",
       "12                   5       5             5        test  0.851852  0.844156   \n",
       "11                   4       4             4       train  0.980392  0.980375   \n",
       "10                   4       4             4  validation  1.000000  1.000000   \n",
       "9                    4       4             4        test  0.888889  0.885714   \n",
       "8                    3       3             3       train  0.941176  0.940715   \n",
       "7                    3       3             3  validation  0.904762  0.902778   \n",
       "6                    3       3             3        test  0.925926  0.925000   \n",
       "5                    2       2             2       train  0.950980  0.950714   \n",
       "4                    2       2             2  validation  1.000000  1.000000   \n",
       "3                    2       2             2        test  0.888889  0.885714   \n",
       "1                    1       1             1  validation  1.000000  1.000000   \n",
       "2                    1       1             1       train  0.970588  0.970531   \n",
       "0                    1       1             1        test  0.962963  0.962848   \n",
       "\n",
       "        loss  precision    recall   roc_auc  \n",
       "23  0.094776   0.972973  0.970588  0.999135  \n",
       "22  0.059430   1.000000  1.000000  1.000000  \n",
       "21  0.158564   0.916667  0.888889  1.000000  \n",
       "20  0.140597   0.950000  0.941176  0.998414  \n",
       "19  0.090078   1.000000  1.000000  1.000000  \n",
       "18  0.301731   0.916667  0.888889  1.000000  \n",
       "17  0.100677   0.964912  0.960784  0.999135  \n",
       "16  0.101051   1.000000  1.000000  1.000000  \n",
       "15  0.205332   0.916667  0.888889  0.995885  \n",
       "13  0.190586   0.925926  0.904762  1.000000  \n",
       "14  0.211756   0.930233  0.911765  0.992647  \n",
       "12  0.253303   0.897436  0.851852  0.995885  \n",
       "11  0.075605   0.981481  0.980392  0.998847  \n",
       "10  0.037085   1.000000  1.000000  1.000000  \n",
       "9   0.113647   0.916667  0.888889  1.000000  \n",
       "8   0.152959   0.950000  0.941176  0.998847  \n",
       "7   0.176098   0.925926  0.904762  1.000000  \n",
       "6   0.244709   0.939394  0.925926  0.981481  \n",
       "5   0.114393   0.957265  0.950980  0.998558  \n",
       "4   0.080222   1.000000  1.000000  1.000000  \n",
       "3   0.186216   0.916667  0.888889  1.000000  \n",
       "1   0.151245   1.000000  1.000000  1.000000  \n",
       "2   0.131908   0.972973  0.970588  0.998558  \n",
       "0   0.179581   0.966667  0.962963  0.987654  "
      ]
     },
     "execution_count": 9,
     "metadata": {},
     "output_type": "execute_result"
    }
   ],
   "source": [
    "queue_multiclass.metrics_to_pandas(\n",
    "    selected_metrics=None\n",
    "    , sort_by=None\n",
    "\t, ascending=False\n",
    ")"
   ]
  },
  {
   "cell_type": "markdown",
   "metadata": {},
   "source": [
    "### Aggregate Queue Visualization"
   ]
  },
  {
   "cell_type": "markdown",
   "metadata": {},
   "source": [
    "`plot_performance` aka the \"boomerang chart\" is unique to AIQC, and it really brings the benefits of the library to light. Each model from the Queue is evaluated against all splits/ folds."
   ]
  },
  {
   "cell_type": "markdown",
   "metadata": {},
   "source": [
    "When performing classification, the secondary training metric (non-loss) is 'accuracy'."
   ]
  },
  {
   "cell_type": "code",
   "execution_count": null,
   "metadata": {},
   "outputs": [],
   "source": [
    "queue_multiclass.plot_performance(\n",
    "    max_loss = 1.5, min_accuracy = 0.70\n",
    ")"
   ]
  },
  {
   "cell_type": "markdown",
   "metadata": {},
   "source": [
    "![Classify Boomerang](../images/plot_classify_boomerang.png)"
   ]
  },
  {
   "cell_type": "markdown",
   "metadata": {},
   "source": [
    "### Individual Job Visualization"
   ]
  },
  {
   "cell_type": "markdown",
   "metadata": {},
   "source": [
    "Loss values in the first few epochs can often be extremely high before they plummet and become more gradual. This really stretches out the graph and makes it hard to see if the evaluation set is diverging or not. The `loss_skip_15pct:bool` parameter skips displaying the first 15% of epochs so that figure is more useful."
   ]
  },
  {
   "cell_type": "code",
   "execution_count": null,
   "metadata": {},
   "outputs": [],
   "source": [
    "queue_multiclass.jobs[0].predictors[0].plot_learning_curve(loss_skip_15pct=True)"
   ]
  },
  {
   "cell_type": "markdown",
   "metadata": {},
   "source": [
    "![Classify Learn](../images/plot_classify_learn.png)"
   ]
  },
  {
   "cell_type": "markdown",
   "metadata": {},
   "source": [
    "These classification metrics are preformatted for plotting."
   ]
  },
  {
   "cell_type": "code",
   "execution_count": 13,
   "metadata": {},
   "outputs": [
    {
     "data": {
      "text/plain": [
       "dict_keys(['confusion_matrix', 'roc_curve', 'precision_recall_curve'])"
      ]
     },
     "execution_count": 13,
     "metadata": {},
     "output_type": "execute_result"
    }
   ],
   "source": [
    "queue_multiclass.jobs[0].predictors[0].predictions[0].plot_data['test'].keys()"
   ]
  },
  {
   "cell_type": "code",
   "execution_count": null,
   "metadata": {},
   "outputs": [],
   "source": [
    "queue_multiclass.jobs[0].predictors[0].predictions[0].plot_roc_curve()"
   ]
  },
  {
   "cell_type": "markdown",
   "metadata": {},
   "source": [
    "![Classify ROC](../images/plot_roc.png)"
   ]
  },
  {
   "cell_type": "code",
   "execution_count": null,
   "metadata": {},
   "outputs": [],
   "source": [
    "queue_multiclass.jobs[0].predictors[0].predictions[0].plot_confusion_matrix()"
   ]
  },
  {
   "cell_type": "markdown",
   "metadata": {},
   "source": [
    "![Plot Confusion](../images/plot_confusion_matrix.png)"
   ]
  },
  {
   "cell_type": "code",
   "execution_count": null,
   "metadata": {},
   "outputs": [],
   "source": [
    "queue_multiclass.jobs[0].predictors[0].predictions[0].plot_precision_recall()"
   ]
  },
  {
   "cell_type": "markdown",
   "metadata": {},
   "source": [
    "![Precision Recall](../images/plot_precision_recall.png)"
   ]
  },
  {
   "cell_type": "markdown",
   "metadata": {},
   "source": [
    "---"
   ]
  },
  {
   "cell_type": "markdown",
   "metadata": {},
   "source": [
    "## Regression"
   ]
  },
  {
   "cell_type": "code",
   "execution_count": 7,
   "metadata": {},
   "outputs": [],
   "source": [
    "%%capture\n",
    "queue_regression = tests.make_test_queue('keras_regression')"
   ]
  },
  {
   "cell_type": "code",
   "execution_count": 8,
   "metadata": {},
   "outputs": [
    {
     "name": "stderr",
     "output_type": "stream",
     "text": [
      "🔮 Training Models 🔮: 100%|██████████████████████████████████████████| 4/4 [00:32<00:00,  8.03s/it]\n"
     ]
    }
   ],
   "source": [
    "queue_regression.run_jobs()"
   ]
  },
  {
   "cell_type": "markdown",
   "metadata": {},
   "source": [
    "### Individual Job Metrics"
   ]
  },
  {
   "cell_type": "markdown",
   "metadata": {},
   "source": [
    "Each training `Prediction` contains the following metrics."
   ]
  },
  {
   "cell_type": "code",
   "execution_count": 12,
   "metadata": {},
   "outputs": [
    {
     "name": "stdout",
     "output_type": "stream",
     "text": [
      "{'test': {'explained_variance': 0.7894243409529155,\n",
      "          'loss': 0.3433103561401367,\n",
      "          'mse': 0.21202397973530798,\n",
      "          'r2': 0.7865474072073684},\n",
      " 'train': {'explained_variance': 0.7772334144881416,\n",
      "           'loss': 0.3257257640361786,\n",
      "           'mse': 0.22540750832130774,\n",
      "           'r2': 0.7745924916786923},\n",
      " 'validation': {'explained_variance': 0.70325979950094,\n",
      "                'loss': 0.40005412697792053,\n",
      "                'mse': 0.38639962177247694,\n",
      "                'r2': 0.6802937337531519}}\n"
     ]
    }
   ],
   "source": [
    "from pprint import pprint as p\n",
    "p(\n",
    "    queue_regression.jobs[0].predictors[0].predictions[0].metrics\n",
    ")"
   ]
  },
  {
   "cell_type": "markdown",
   "metadata": {},
   "source": [
    "It also contains per-epoch metrics calculated during model training."
   ]
  },
  {
   "cell_type": "code",
   "execution_count": 13,
   "metadata": {},
   "outputs": [
    {
     "data": {
      "text/plain": [
       "dict_keys(['loss', 'mean_squared_error', 'val_loss', 'val_mean_squared_error'])"
      ]
     },
     "execution_count": 13,
     "metadata": {},
     "output_type": "execute_result"
    }
   ],
   "source": [
    "queue_regression.jobs[0].predictors[0].history.keys()"
   ]
  },
  {
   "cell_type": "markdown",
   "metadata": {},
   "source": [
    "### Aggregate Queue Metrics"
   ]
  },
  {
   "cell_type": "code",
   "execution_count": 14,
   "metadata": {},
   "outputs": [
    {
     "data": {
      "text/html": [
       "<div>\n",
       "<style scoped>\n",
       "    .dataframe tbody tr th:only-of-type {\n",
       "        vertical-align: middle;\n",
       "    }\n",
       "\n",
       "    .dataframe tbody tr th {\n",
       "        vertical-align: top;\n",
       "    }\n",
       "\n",
       "    .dataframe thead th {\n",
       "        text-align: right;\n",
       "    }\n",
       "</style>\n",
       "<table border=\"1\" class=\"dataframe\">\n",
       "  <thead>\n",
       "    <tr style=\"text-align: right;\">\n",
       "      <th></th>\n",
       "      <th>hyperparamcombo_id</th>\n",
       "      <th>job_id</th>\n",
       "      <th>predictor_id</th>\n",
       "      <th>split</th>\n",
       "      <th>explained_variance</th>\n",
       "      <th>loss</th>\n",
       "      <th>mse</th>\n",
       "      <th>r2</th>\n",
       "    </tr>\n",
       "  </thead>\n",
       "  <tbody>\n",
       "    <tr>\n",
       "      <th>9</th>\n",
       "      <td>12</td>\n",
       "      <td>12</td>\n",
       "      <td>12</td>\n",
       "      <td>test</td>\n",
       "      <td>0.809494</td>\n",
       "      <td>0.423333</td>\n",
       "      <td>0.289514</td>\n",
       "      <td>0.708535</td>\n",
       "    </tr>\n",
       "    <tr>\n",
       "      <th>10</th>\n",
       "      <td>12</td>\n",
       "      <td>12</td>\n",
       "      <td>12</td>\n",
       "      <td>validation</td>\n",
       "      <td>0.722865</td>\n",
       "      <td>0.480268</td>\n",
       "      <td>0.521585</td>\n",
       "      <td>0.568441</td>\n",
       "    </tr>\n",
       "    <tr>\n",
       "      <th>11</th>\n",
       "      <td>12</td>\n",
       "      <td>12</td>\n",
       "      <td>12</td>\n",
       "      <td>train</td>\n",
       "      <td>0.795168</td>\n",
       "      <td>0.396511</td>\n",
       "      <td>0.321744</td>\n",
       "      <td>0.678256</td>\n",
       "    </tr>\n",
       "    <tr>\n",
       "      <th>6</th>\n",
       "      <td>11</td>\n",
       "      <td>11</td>\n",
       "      <td>11</td>\n",
       "      <td>test</td>\n",
       "      <td>0.779358</td>\n",
       "      <td>0.410134</td>\n",
       "      <td>0.274249</td>\n",
       "      <td>0.723904</td>\n",
       "    </tr>\n",
       "    <tr>\n",
       "      <th>7</th>\n",
       "      <td>11</td>\n",
       "      <td>11</td>\n",
       "      <td>11</td>\n",
       "      <td>validation</td>\n",
       "      <td>0.717331</td>\n",
       "      <td>0.432595</td>\n",
       "      <td>0.442124</td>\n",
       "      <td>0.634188</td>\n",
       "    </tr>\n",
       "    <tr>\n",
       "      <th>8</th>\n",
       "      <td>11</td>\n",
       "      <td>11</td>\n",
       "      <td>11</td>\n",
       "      <td>train</td>\n",
       "      <td>0.753201</td>\n",
       "      <td>0.379794</td>\n",
       "      <td>0.297251</td>\n",
       "      <td>0.702749</td>\n",
       "    </tr>\n",
       "    <tr>\n",
       "      <th>3</th>\n",
       "      <td>10</td>\n",
       "      <td>10</td>\n",
       "      <td>10</td>\n",
       "      <td>test</td>\n",
       "      <td>0.805824</td>\n",
       "      <td>0.353231</td>\n",
       "      <td>0.213114</td>\n",
       "      <td>0.785450</td>\n",
       "    </tr>\n",
       "    <tr>\n",
       "      <th>4</th>\n",
       "      <td>10</td>\n",
       "      <td>10</td>\n",
       "      <td>10</td>\n",
       "      <td>validation</td>\n",
       "      <td>0.733818</td>\n",
       "      <td>0.387297</td>\n",
       "      <td>0.368265</td>\n",
       "      <td>0.695298</td>\n",
       "    </tr>\n",
       "    <tr>\n",
       "      <th>5</th>\n",
       "      <td>10</td>\n",
       "      <td>10</td>\n",
       "      <td>10</td>\n",
       "      <td>train</td>\n",
       "      <td>0.784331</td>\n",
       "      <td>0.332360</td>\n",
       "      <td>0.234408</td>\n",
       "      <td>0.765592</td>\n",
       "    </tr>\n",
       "    <tr>\n",
       "      <th>0</th>\n",
       "      <td>9</td>\n",
       "      <td>9</td>\n",
       "      <td>9</td>\n",
       "      <td>test</td>\n",
       "      <td>0.789424</td>\n",
       "      <td>0.343310</td>\n",
       "      <td>0.212024</td>\n",
       "      <td>0.786547</td>\n",
       "    </tr>\n",
       "    <tr>\n",
       "      <th>1</th>\n",
       "      <td>9</td>\n",
       "      <td>9</td>\n",
       "      <td>9</td>\n",
       "      <td>validation</td>\n",
       "      <td>0.703260</td>\n",
       "      <td>0.400054</td>\n",
       "      <td>0.386400</td>\n",
       "      <td>0.680294</td>\n",
       "    </tr>\n",
       "    <tr>\n",
       "      <th>2</th>\n",
       "      <td>9</td>\n",
       "      <td>9</td>\n",
       "      <td>9</td>\n",
       "      <td>train</td>\n",
       "      <td>0.777233</td>\n",
       "      <td>0.325726</td>\n",
       "      <td>0.225408</td>\n",
       "      <td>0.774592</td>\n",
       "    </tr>\n",
       "  </tbody>\n",
       "</table>\n",
       "</div>"
      ],
      "text/plain": [
       "    hyperparamcombo_id  job_id  predictor_id       split  explained_variance  \\\n",
       "9                   12      12            12        test            0.809494   \n",
       "10                  12      12            12  validation            0.722865   \n",
       "11                  12      12            12       train            0.795168   \n",
       "6                   11      11            11        test            0.779358   \n",
       "7                   11      11            11  validation            0.717331   \n",
       "8                   11      11            11       train            0.753201   \n",
       "3                   10      10            10        test            0.805824   \n",
       "4                   10      10            10  validation            0.733818   \n",
       "5                   10      10            10       train            0.784331   \n",
       "0                    9       9             9        test            0.789424   \n",
       "1                    9       9             9  validation            0.703260   \n",
       "2                    9       9             9       train            0.777233   \n",
       "\n",
       "        loss       mse        r2  \n",
       "9   0.423333  0.289514  0.708535  \n",
       "10  0.480268  0.521585  0.568441  \n",
       "11  0.396511  0.321744  0.678256  \n",
       "6   0.410134  0.274249  0.723904  \n",
       "7   0.432595  0.442124  0.634188  \n",
       "8   0.379794  0.297251  0.702749  \n",
       "3   0.353231  0.213114  0.785450  \n",
       "4   0.387297  0.368265  0.695298  \n",
       "5   0.332360  0.234408  0.765592  \n",
       "0   0.343310  0.212024  0.786547  \n",
       "1   0.400054  0.386400  0.680294  \n",
       "2   0.325726  0.225408  0.774592  "
      ]
     },
     "execution_count": 14,
     "metadata": {},
     "output_type": "execute_result"
    }
   ],
   "source": [
    "queue_regression.metrics_to_pandas()"
   ]
  },
  {
   "cell_type": "markdown",
   "metadata": {},
   "source": [
    "### Aggregate Queue Visualization"
   ]
  },
  {
   "cell_type": "markdown",
   "metadata": {},
   "source": [
    "When performing regression, the secondary training metric (non-loss) is 'r2'."
   ]
  },
  {
   "cell_type": "code",
   "execution_count": null,
   "metadata": {},
   "outputs": [],
   "source": [
    "queue_regression.plot_performance(\n",
    "    max_loss=1.5, min_r2=0.65\n",
    ")"
   ]
  },
  {
   "cell_type": "markdown",
   "metadata": {},
   "source": [
    "![Regression Boomerang](../images/plot_regression_boomerang.png)"
   ]
  },
  {
   "cell_type": "markdown",
   "metadata": {},
   "source": [
    "### Individual Job Visualization"
   ]
  },
  {
   "cell_type": "code",
   "execution_count": null,
   "metadata": {},
   "outputs": [],
   "source": [
    "queue_regression.jobs[0].predictors[0].plot_learning_curve(loss_skip_15pct=True)"
   ]
  },
  {
   "cell_type": "markdown",
   "metadata": {},
   "source": [
    "![Regression Learn](../images/plot_regression_learn.png)"
   ]
  }
 ],
 "metadata": {
  "kernelspec": {
   "display_name": "Python 3",
   "language": "python",
   "name": "python3"
  },
  "language_info": {
   "codemirror_mode": {
    "name": "ipython",
    "version": 3
   },
   "file_extension": ".py",
   "mimetype": "text/x-python",
   "name": "python",
   "nbconvert_exporter": "python",
   "pygments_lexer": "ipython3",
   "version": "3.8.7"
  }
 },
 "nbformat": 4,
 "nbformat_minor": 4
}
