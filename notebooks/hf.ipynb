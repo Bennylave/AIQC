{
 "cells": [
  {
   "cell_type": "code",
   "execution_count": 1,
   "metadata": {},
   "outputs": [],
   "source": [
    "import os\n",
    "os.chdir(\"/Users/Layne/Desktop/aiqc\")"
   ]
  },
  {
   "cell_type": "code",
   "execution_count": 2,
   "metadata": {},
   "outputs": [
    {
     "name": "stderr",
     "output_type": "stream",
     "text": [
      "/Users/layne/.pyenv/versions/3.7.6/envs/jupyterlab/lib/python3.7/site-packages/pandas/compat/__init__.py:120: UserWarning: Could not import the lzma module. Your installed Python is incomplete. Attempting to use lzma compression will result in a RuntimeError.\n",
      "  warnings.warn(msg)\n"
     ]
    }
   ],
   "source": [
    "import aiqc\n",
    "from aiqc import examples"
   ]
  },
  {
   "cell_type": "code",
   "execution_count": 3,
   "metadata": {},
   "outputs": [],
   "source": [
    "hf_path = examples.get_demo_file_path('heart_failure.parquet')"
   ]
  },
  {
   "cell_type": "code",
   "execution_count": 4,
   "metadata": {},
   "outputs": [],
   "source": [
    "dataset = aiqc.Dataset.Tabular.from_path(hf_path, source_file_format='parquet')"
   ]
  },
  {
   "cell_type": "code",
   "execution_count": 21,
   "metadata": {},
   "outputs": [],
   "source": [
    "label = dataset.make_label(columns=['age'])"
   ]
  },
  {
   "cell_type": "code",
   "execution_count": 22,
   "metadata": {},
   "outputs": [],
   "source": [
    "featureset = dataset.make_featureset(exclude_columns=['age'])"
   ]
  },
  {
   "cell_type": "code",
   "execution_count": 23,
   "metadata": {},
   "outputs": [],
   "source": [
    "splitset = featureset.make_splitset(\n",
    "        label_id = label.id\n",
    "\t\t, size_test = 0.20\n",
    "        , bin_count = 3\n",
    ")"
   ]
  },
  {
   "cell_type": "markdown",
   "metadata": {},
   "source": [
    "---"
   ]
  },
  {
   "cell_type": "code",
   "execution_count": 24,
   "metadata": {},
   "outputs": [],
   "source": [
    "import keras\n",
    "from keras import metrics\n",
    "from keras.models import Sequential\n",
    "from keras.callbacks import Callback, History\n",
    "from keras.layers import Conv1D, Dense, Dropout\n",
    "from keras.constraints import maxnorm\n",
    "from keras.layers.convolutional import MaxPooling1D\n",
    "from keras.layers import Flatten"
   ]
  },
  {
   "cell_type": "code",
   "execution_count": 38,
   "metadata": {},
   "outputs": [],
   "source": [
    "def function_model_build(**hyperparameters):\n",
    "    model = Sequential()\n",
    "    \n",
    "    model.add(Dense(hyperparameters['neuron_count'], activation='relu'))\n",
    "    model.add(Dropout(0.2))\n",
    "    model.add(Dense(hyperparameters['neuron_count'], activation='relu'))\n",
    "    \n",
    "    if hyperparameters['third_dense']:\n",
    "        model.add(Dropout(0.2))\n",
    "        model.add(Dense(hyperparameters['neuron_count'], activation='relu'))\n",
    "\n",
    "    model.add(Dense(1, kernel_initializer='normal'))\n",
    "    \n",
    "    \n",
    "    opt = keras.optimizers.Adamax(hyperparameters['learning_rate'])\n",
    "    model.compile(\n",
    "\t\tloss='mean_squared_error'\n",
    "\t\t, optimizer=opt\n",
    "\t\t, metrics = ['mean_squared_error']\n",
    "\t)\n",
    "    return model"
   ]
  },
  {
   "cell_type": "code",
   "execution_count": 39,
   "metadata": {},
   "outputs": [],
   "source": [
    "def function_model_train(model, samples_train, samples_evaluate, **hyperparameters):   \n",
    "    \n",
    "    metrics_cuttoffs = [\n",
    "        {\"metric\":\"val_loss\", \"cutoff\":2, \"above_or_below\":\"below\"},\n",
    "        {\"metric\":\"loss\", \"cutoff\":2, \"above_or_below\":\"below\"}\n",
    "    ]\n",
    "    cutoffs = aiqc.TrainingCallback.Keras.MetricCutoff(metrics_cuttoffs)\n",
    "    \n",
    "    model.fit(\n",
    "        samples_train[\"features\"]\n",
    "        , samples_train[\"labels\"]\n",
    "        , validation_data = (\n",
    "            samples_evaluate[\"features\"]\n",
    "            , samples_evaluate[\"labels\"]\n",
    "        )\n",
    "        , verbose = 0\n",
    "        , batch_size = hyperparameters['batch_size']\n",
    "        , callbacks=[History(), cutoffs]\n",
    "        , epochs = hyperparameters['epoch_count']\n",
    "    )\n",
    "\n",
    "    return model"
   ]
  },
  {
   "cell_type": "code",
   "execution_count": 40,
   "metadata": {},
   "outputs": [],
   "source": [
    "algorithm = aiqc.Algorithm.make(\n",
    "    library = \"keras\"\n",
    "    , analysis_type = \"regression\"\n",
    "    , function_model_build = function_model_build\n",
    "    , function_model_train = function_model_train\n",
    ")"
   ]
  },
  {
   "cell_type": "code",
   "execution_count": 45,
   "metadata": {},
   "outputs": [],
   "source": [
    "hyperparameters = {\n",
    "    \"batch_size\": [3]\n",
    "    , \"third_dense\": [True, False]\n",
    "    , \"epoch_count\": [600, 1200]\n",
    "    , \"neuron_count\": [32,64,128]\n",
    "    , \"learning_rate\": [0.05, 0.01]\n",
    "}"
   ]
  },
  {
   "cell_type": "code",
   "execution_count": 46,
   "metadata": {},
   "outputs": [],
   "source": [
    "hyperparamset = aiqc.Hyperparamset.from_algorithm(\n",
    "    algorithm_id = algorithm.id\n",
    "    , hyperparameters = hyperparameters\n",
    ")"
   ]
  },
  {
   "cell_type": "code",
   "execution_count": 47,
   "metadata": {},
   "outputs": [],
   "source": [
    "batch = aiqc.Batch.from_algorithm(\n",
    "    algorithm_id = algorithm.id\n",
    "    , splitset_id = splitset.id\n",
    "    , hyperparamset_id = hyperparamset.id\n",
    ")"
   ]
  },
  {
   "cell_type": "code",
   "execution_count": 48,
   "metadata": {},
   "outputs": [
    {
     "name": "stderr",
     "output_type": "stream",
     "text": [
      "🔮 Training Models 🔮: 100%|█████████████████████████████████████| 24/24 [4:56:46<00:00, 741.95s/it]\n"
     ]
    }
   ],
   "source": [
    "batch.run_jobs()"
   ]
  },
  {
   "cell_type": "code",
   "execution_count": 50,
   "metadata": {},
   "outputs": [
    {
     "data": {
      "text/html": [
       "<style  type=\"text/css\" >\n",
       "</style><table id=\"T_4bb8e57e_479a_11eb_b716_985aeb8da1aa\" ><thead>    <tr>        <th class=\"col_heading level0 col0\" >job_id</th>        <th class=\"col_heading level0 col1\" >status</th>    </tr></thead><tbody>\n",
       "                <tr>\n",
       "                                <td id=\"T_4bb8e57e_479a_11eb_b716_985aeb8da1aarow0_col0\" class=\"data row0 col0\" >746</td>\n",
       "                        <td id=\"T_4bb8e57e_479a_11eb_b716_985aeb8da1aarow0_col1\" class=\"data row0 col1\" >Succeeded</td>\n",
       "            </tr>\n",
       "            <tr>\n",
       "                                <td id=\"T_4bb8e57e_479a_11eb_b716_985aeb8da1aarow1_col0\" class=\"data row1 col0\" >747</td>\n",
       "                        <td id=\"T_4bb8e57e_479a_11eb_b716_985aeb8da1aarow1_col1\" class=\"data row1 col1\" >Succeeded</td>\n",
       "            </tr>\n",
       "            <tr>\n",
       "                                <td id=\"T_4bb8e57e_479a_11eb_b716_985aeb8da1aarow2_col0\" class=\"data row2 col0\" >748</td>\n",
       "                        <td id=\"T_4bb8e57e_479a_11eb_b716_985aeb8da1aarow2_col1\" class=\"data row2 col1\" >Succeeded</td>\n",
       "            </tr>\n",
       "            <tr>\n",
       "                                <td id=\"T_4bb8e57e_479a_11eb_b716_985aeb8da1aarow3_col0\" class=\"data row3 col0\" >749</td>\n",
       "                        <td id=\"T_4bb8e57e_479a_11eb_b716_985aeb8da1aarow3_col1\" class=\"data row3 col1\" >Succeeded</td>\n",
       "            </tr>\n",
       "            <tr>\n",
       "                                <td id=\"T_4bb8e57e_479a_11eb_b716_985aeb8da1aarow4_col0\" class=\"data row4 col0\" >750</td>\n",
       "                        <td id=\"T_4bb8e57e_479a_11eb_b716_985aeb8da1aarow4_col1\" class=\"data row4 col1\" >Succeeded</td>\n",
       "            </tr>\n",
       "            <tr>\n",
       "                                <td id=\"T_4bb8e57e_479a_11eb_b716_985aeb8da1aarow5_col0\" class=\"data row5 col0\" >751</td>\n",
       "                        <td id=\"T_4bb8e57e_479a_11eb_b716_985aeb8da1aarow5_col1\" class=\"data row5 col1\" >Succeeded</td>\n",
       "            </tr>\n",
       "            <tr>\n",
       "                                <td id=\"T_4bb8e57e_479a_11eb_b716_985aeb8da1aarow6_col0\" class=\"data row6 col0\" >752</td>\n",
       "                        <td id=\"T_4bb8e57e_479a_11eb_b716_985aeb8da1aarow6_col1\" class=\"data row6 col1\" >Succeeded</td>\n",
       "            </tr>\n",
       "            <tr>\n",
       "                                <td id=\"T_4bb8e57e_479a_11eb_b716_985aeb8da1aarow7_col0\" class=\"data row7 col0\" >753</td>\n",
       "                        <td id=\"T_4bb8e57e_479a_11eb_b716_985aeb8da1aarow7_col1\" class=\"data row7 col1\" >Queued</td>\n",
       "            </tr>\n",
       "            <tr>\n",
       "                                <td id=\"T_4bb8e57e_479a_11eb_b716_985aeb8da1aarow8_col0\" class=\"data row8 col0\" >754</td>\n",
       "                        <td id=\"T_4bb8e57e_479a_11eb_b716_985aeb8da1aarow8_col1\" class=\"data row8 col1\" >Queued</td>\n",
       "            </tr>\n",
       "            <tr>\n",
       "                                <td id=\"T_4bb8e57e_479a_11eb_b716_985aeb8da1aarow9_col0\" class=\"data row9 col0\" >755</td>\n",
       "                        <td id=\"T_4bb8e57e_479a_11eb_b716_985aeb8da1aarow9_col1\" class=\"data row9 col1\" >Queued</td>\n",
       "            </tr>\n",
       "            <tr>\n",
       "                                <td id=\"T_4bb8e57e_479a_11eb_b716_985aeb8da1aarow10_col0\" class=\"data row10 col0\" >756</td>\n",
       "                        <td id=\"T_4bb8e57e_479a_11eb_b716_985aeb8da1aarow10_col1\" class=\"data row10 col1\" >Queued</td>\n",
       "            </tr>\n",
       "            <tr>\n",
       "                                <td id=\"T_4bb8e57e_479a_11eb_b716_985aeb8da1aarow11_col0\" class=\"data row11 col0\" >757</td>\n",
       "                        <td id=\"T_4bb8e57e_479a_11eb_b716_985aeb8da1aarow11_col1\" class=\"data row11 col1\" >Queued</td>\n",
       "            </tr>\n",
       "            <tr>\n",
       "                                <td id=\"T_4bb8e57e_479a_11eb_b716_985aeb8da1aarow12_col0\" class=\"data row12 col0\" >758</td>\n",
       "                        <td id=\"T_4bb8e57e_479a_11eb_b716_985aeb8da1aarow12_col1\" class=\"data row12 col1\" >Queued</td>\n",
       "            </tr>\n",
       "            <tr>\n",
       "                                <td id=\"T_4bb8e57e_479a_11eb_b716_985aeb8da1aarow13_col0\" class=\"data row13 col0\" >759</td>\n",
       "                        <td id=\"T_4bb8e57e_479a_11eb_b716_985aeb8da1aarow13_col1\" class=\"data row13 col1\" >Queued</td>\n",
       "            </tr>\n",
       "            <tr>\n",
       "                                <td id=\"T_4bb8e57e_479a_11eb_b716_985aeb8da1aarow14_col0\" class=\"data row14 col0\" >760</td>\n",
       "                        <td id=\"T_4bb8e57e_479a_11eb_b716_985aeb8da1aarow14_col1\" class=\"data row14 col1\" >Queued</td>\n",
       "            </tr>\n",
       "            <tr>\n",
       "                                <td id=\"T_4bb8e57e_479a_11eb_b716_985aeb8da1aarow15_col0\" class=\"data row15 col0\" >761</td>\n",
       "                        <td id=\"T_4bb8e57e_479a_11eb_b716_985aeb8da1aarow15_col1\" class=\"data row15 col1\" >Queued</td>\n",
       "            </tr>\n",
       "            <tr>\n",
       "                                <td id=\"T_4bb8e57e_479a_11eb_b716_985aeb8da1aarow16_col0\" class=\"data row16 col0\" >762</td>\n",
       "                        <td id=\"T_4bb8e57e_479a_11eb_b716_985aeb8da1aarow16_col1\" class=\"data row16 col1\" >Queued</td>\n",
       "            </tr>\n",
       "            <tr>\n",
       "                                <td id=\"T_4bb8e57e_479a_11eb_b716_985aeb8da1aarow17_col0\" class=\"data row17 col0\" >763</td>\n",
       "                        <td id=\"T_4bb8e57e_479a_11eb_b716_985aeb8da1aarow17_col1\" class=\"data row17 col1\" >Queued</td>\n",
       "            </tr>\n",
       "            <tr>\n",
       "                                <td id=\"T_4bb8e57e_479a_11eb_b716_985aeb8da1aarow18_col0\" class=\"data row18 col0\" >764</td>\n",
       "                        <td id=\"T_4bb8e57e_479a_11eb_b716_985aeb8da1aarow18_col1\" class=\"data row18 col1\" >Queued</td>\n",
       "            </tr>\n",
       "            <tr>\n",
       "                                <td id=\"T_4bb8e57e_479a_11eb_b716_985aeb8da1aarow19_col0\" class=\"data row19 col0\" >765</td>\n",
       "                        <td id=\"T_4bb8e57e_479a_11eb_b716_985aeb8da1aarow19_col1\" class=\"data row19 col1\" >Queued</td>\n",
       "            </tr>\n",
       "            <tr>\n",
       "                                <td id=\"T_4bb8e57e_479a_11eb_b716_985aeb8da1aarow20_col0\" class=\"data row20 col0\" >766</td>\n",
       "                        <td id=\"T_4bb8e57e_479a_11eb_b716_985aeb8da1aarow20_col1\" class=\"data row20 col1\" >Queued</td>\n",
       "            </tr>\n",
       "            <tr>\n",
       "                                <td id=\"T_4bb8e57e_479a_11eb_b716_985aeb8da1aarow21_col0\" class=\"data row21 col0\" >767</td>\n",
       "                        <td id=\"T_4bb8e57e_479a_11eb_b716_985aeb8da1aarow21_col1\" class=\"data row21 col1\" >Queued</td>\n",
       "            </tr>\n",
       "            <tr>\n",
       "                                <td id=\"T_4bb8e57e_479a_11eb_b716_985aeb8da1aarow22_col0\" class=\"data row22 col0\" >768</td>\n",
       "                        <td id=\"T_4bb8e57e_479a_11eb_b716_985aeb8da1aarow22_col1\" class=\"data row22 col1\" >Queued</td>\n",
       "            </tr>\n",
       "            <tr>\n",
       "                                <td id=\"T_4bb8e57e_479a_11eb_b716_985aeb8da1aarow23_col0\" class=\"data row23 col0\" >769</td>\n",
       "                        <td id=\"T_4bb8e57e_479a_11eb_b716_985aeb8da1aarow23_col1\" class=\"data row23 col1\" >Queued</td>\n",
       "            </tr>\n",
       "    </tbody></table>"
      ],
      "text/plain": [
       "<pandas.io.formats.style.Styler at 0x146feb1d0>"
      ]
     },
     "execution_count": 50,
     "metadata": {},
     "output_type": "execute_result"
    }
   ],
   "source": [
    "batch.statuses_to_pandas()"
   ]
  },
  {
   "cell_type": "code",
   "execution_count": 33,
   "metadata": {},
   "outputs": [
    {
     "data": {
      "text/html": [
       "<style  type=\"text/css\" >\n",
       "</style><table id=\"T_8bb94d96_4798_11eb_b716_985aeb8da1aa\" ><thead>    <tr>        <th class=\"col_heading level0 col0\" >job_id</th>        <th class=\"col_heading level0 col1\" >split</th>        <th class=\"col_heading level0 col2\" >explained_variance</th>        <th class=\"col_heading level0 col3\" >loss</th>        <th class=\"col_heading level0 col4\" >mse</th>        <th class=\"col_heading level0 col5\" >r2</th>    </tr></thead><tbody>\n",
       "                <tr>\n",
       "                                <td id=\"T_8bb94d96_4798_11eb_b716_985aeb8da1aarow0_col0\" class=\"data row0 col0\" >721</td>\n",
       "                        <td id=\"T_8bb94d96_4798_11eb_b716_985aeb8da1aarow0_col1\" class=\"data row0 col1\" >test</td>\n",
       "                        <td id=\"T_8bb94d96_4798_11eb_b716_985aeb8da1aarow0_col2\" class=\"data row0 col2\" >0.000000</td>\n",
       "                        <td id=\"T_8bb94d96_4798_11eb_b716_985aeb8da1aarow0_col3\" class=\"data row0 col3\" >130.574738</td>\n",
       "                        <td id=\"T_8bb94d96_4798_11eb_b716_985aeb8da1aarow0_col4\" class=\"data row0 col4\" >130.574738</td>\n",
       "                        <td id=\"T_8bb94d96_4798_11eb_b716_985aeb8da1aarow0_col5\" class=\"data row0 col5\" >-0.000192</td>\n",
       "            </tr>\n",
       "            <tr>\n",
       "                                <td id=\"T_8bb94d96_4798_11eb_b716_985aeb8da1aarow1_col0\" class=\"data row1 col0\" >721</td>\n",
       "                        <td id=\"T_8bb94d96_4798_11eb_b716_985aeb8da1aarow1_col1\" class=\"data row1 col1\" >train</td>\n",
       "                        <td id=\"T_8bb94d96_4798_11eb_b716_985aeb8da1aarow1_col2\" class=\"data row1 col2\" >0.000000</td>\n",
       "                        <td id=\"T_8bb94d96_4798_11eb_b716_985aeb8da1aarow1_col3\" class=\"data row1 col3\" >143.633926</td>\n",
       "                        <td id=\"T_8bb94d96_4798_11eb_b716_985aeb8da1aarow1_col4\" class=\"data row1 col4\" >143.633927</td>\n",
       "                        <td id=\"T_8bb94d96_4798_11eb_b716_985aeb8da1aarow1_col5\" class=\"data row1 col5\" >-0.000006</td>\n",
       "            </tr>\n",
       "    </tbody></table>"
      ],
      "text/plain": [
       "<pandas.io.formats.style.Styler at 0x146edc8d0>"
      ]
     },
     "execution_count": 33,
     "metadata": {},
     "output_type": "execute_result"
    }
   ],
   "source": [
    "batch.metrics_to_pandas()"
   ]
  },
  {
   "cell_type": "code",
   "execution_count": 34,
   "metadata": {},
   "outputs": [
    {
     "data": {
      "text/html": [
       "<style  type=\"text/css\" >\n",
       "</style><table id=\"T_8e2354aa_4798_11eb_b716_985aeb8da1aa\" ><thead>    <tr>        <th class=\"col_heading level0 col0\" >param</th>        <th class=\"col_heading level0 col1\" >value</th>    </tr></thead><tbody>\n",
       "                <tr>\n",
       "                                <td id=\"T_8e2354aa_4798_11eb_b716_985aeb8da1aarow0_col0\" class=\"data row0 col0\" >batch_size</td>\n",
       "                        <td id=\"T_8e2354aa_4798_11eb_b716_985aeb8da1aarow0_col1\" class=\"data row0 col1\" >3.000000</td>\n",
       "            </tr>\n",
       "            <tr>\n",
       "                                <td id=\"T_8e2354aa_4798_11eb_b716_985aeb8da1aarow1_col0\" class=\"data row1 col0\" >epoch_count</td>\n",
       "                        <td id=\"T_8e2354aa_4798_11eb_b716_985aeb8da1aarow1_col1\" class=\"data row1 col1\" >600.000000</td>\n",
       "            </tr>\n",
       "            <tr>\n",
       "                                <td id=\"T_8e2354aa_4798_11eb_b716_985aeb8da1aarow2_col0\" class=\"data row2 col0\" >neuron_count</td>\n",
       "                        <td id=\"T_8e2354aa_4798_11eb_b716_985aeb8da1aarow2_col1\" class=\"data row2 col1\" >64.000000</td>\n",
       "            </tr>\n",
       "            <tr>\n",
       "                                <td id=\"T_8e2354aa_4798_11eb_b716_985aeb8da1aarow3_col0\" class=\"data row3 col0\" >learning_rate</td>\n",
       "                        <td id=\"T_8e2354aa_4798_11eb_b716_985aeb8da1aarow3_col1\" class=\"data row3 col1\" >0.050000</td>\n",
       "            </tr>\n",
       "    </tbody></table>"
      ],
      "text/plain": [
       "<pandas.io.formats.style.Styler at 0x146eaf910>"
      ]
     },
     "execution_count": 34,
     "metadata": {},
     "output_type": "execute_result"
    }
   ],
   "source": [
    "aiqc.Job.get_by_id(720).hyperparamcombo.hyperparameters_to_pandas()"
   ]
  },
  {
   "cell_type": "code",
   "execution_count": 57,
   "metadata": {},
   "outputs": [],
   "source": [
    "aiqc.Job.get_by_id(720).results[0].probabilities"
   ]
  },
  {
   "cell_type": "code",
   "execution_count": 52,
   "metadata": {},
   "outputs": [
    {
     "data": {
      "application/vnd.plotly.v1+json": {
       "config": {
        "plotlyServerURL": "https://plot.ly"
       },
       "data": [
        {
         "customdata": [
          [
           746,
           "test",
           130.573,
           0
          ],
          [
           746,
           "train",
           143.634,
           0
          ]
         ],
         "hovertemplate": "job_id=%{customdata[0]}<br>loss=%{customdata[2]}<br>r2=%{customdata[3]}<br>split=%{customdata[1]}<extra></extra>",
         "legendgroup": "746",
         "line": {
          "color": "#636efa",
          "dash": "solid",
          "shape": "spline",
          "width": 2
         },
         "marker": {
          "line": {
           "color": "white",
           "width": 2
          },
          "size": 8
         },
         "mode": "markers+lines",
         "name": "746",
         "orientation": "v",
         "showlegend": true,
         "type": "scatter",
         "x": [
          130.573,
          143.634
         ],
         "xaxis": "x",
         "y": [
          0,
          0
         ],
         "yaxis": "y"
        },
        {
         "customdata": [
          [
           747,
           "test",
           131.72,
           -0.009
          ],
          [
           747,
           "train",
           142.461,
           0.008
          ]
         ],
         "hovertemplate": "job_id=%{customdata[0]}<br>loss=%{customdata[2]}<br>r2=%{customdata[3]}<br>split=%{customdata[1]}<extra></extra>",
         "legendgroup": "747",
         "line": {
          "color": "#EF553B",
          "dash": "solid",
          "shape": "spline",
          "width": 2
         },
         "marker": {
          "line": {
           "color": "white",
           "width": 2
          },
          "size": 8
         },
         "mode": "markers+lines",
         "name": "747",
         "orientation": "v",
         "showlegend": true,
         "type": "scatter",
         "x": [
          131.72,
          142.461
         ],
         "xaxis": "x",
         "y": [
          -0.009,
          0.008
         ],
         "yaxis": "y"
        },
        {
         "customdata": [
          [
           748,
           "test",
           130.579,
           0
          ],
          [
           748,
           "train",
           143.633,
           0
          ]
         ],
         "hovertemplate": "job_id=%{customdata[0]}<br>loss=%{customdata[2]}<br>r2=%{customdata[3]}<br>split=%{customdata[1]}<extra></extra>",
         "legendgroup": "748",
         "line": {
          "color": "#00cc96",
          "dash": "solid",
          "shape": "spline",
          "width": 2
         },
         "marker": {
          "line": {
           "color": "white",
           "width": 2
          },
          "size": 8
         },
         "mode": "markers+lines",
         "name": "748",
         "orientation": "v",
         "showlegend": true,
         "type": "scatter",
         "x": [
          130.579,
          143.633
         ],
         "xaxis": "x",
         "y": [
          0,
          0
         ],
         "yaxis": "y"
        },
        {
         "customdata": [
          [
           749,
           "test",
           131.111,
           -0.004
          ],
          [
           749,
           "train",
           142.166,
           0.01
          ]
         ],
         "hovertemplate": "job_id=%{customdata[0]}<br>loss=%{customdata[2]}<br>r2=%{customdata[3]}<br>split=%{customdata[1]}<extra></extra>",
         "legendgroup": "749",
         "line": {
          "color": "#ab63fa",
          "dash": "solid",
          "shape": "spline",
          "width": 2
         },
         "marker": {
          "line": {
           "color": "white",
           "width": 2
          },
          "size": 8
         },
         "mode": "markers+lines",
         "name": "749",
         "orientation": "v",
         "showlegend": true,
         "type": "scatter",
         "x": [
          131.111,
          142.166
         ],
         "xaxis": "x",
         "y": [
          -0.004,
          0.01
         ],
         "yaxis": "y"
        },
        {
         "customdata": [
          [
           750,
           "test",
           130.553,
           0
          ],
          [
           750,
           "train",
           143.694,
           0
          ]
         ],
         "hovertemplate": "job_id=%{customdata[0]}<br>loss=%{customdata[2]}<br>r2=%{customdata[3]}<br>split=%{customdata[1]}<extra></extra>",
         "legendgroup": "750",
         "line": {
          "color": "#FFA15A",
          "dash": "solid",
          "shape": "spline",
          "width": 2
         },
         "marker": {
          "line": {
           "color": "white",
           "width": 2
          },
          "size": 8
         },
         "mode": "markers+lines",
         "name": "750",
         "orientation": "v",
         "showlegend": true,
         "type": "scatter",
         "x": [
          130.553,
          143.694
         ],
         "xaxis": "x",
         "y": [
          0,
          0
         ],
         "yaxis": "y"
        },
        {
         "customdata": [
          [
           751,
           "test",
           130.475,
           0.001
          ],
          [
           751,
           "train",
           143.618,
           0
          ]
         ],
         "hovertemplate": "job_id=%{customdata[0]}<br>loss=%{customdata[2]}<br>r2=%{customdata[3]}<br>split=%{customdata[1]}<extra></extra>",
         "legendgroup": "751",
         "line": {
          "color": "#19d3f3",
          "dash": "solid",
          "shape": "spline",
          "width": 2
         },
         "marker": {
          "line": {
           "color": "white",
           "width": 2
          },
          "size": 8
         },
         "mode": "markers+lines",
         "name": "751",
         "orientation": "v",
         "showlegend": true,
         "type": "scatter",
         "x": [
          130.475,
          143.618
         ],
         "xaxis": "x",
         "y": [
          0.001,
          0
         ],
         "yaxis": "y"
        },
        {
         "customdata": [
          [
           752,
           "test",
           131.138,
           -0.005
          ],
          [
           752,
           "train",
           143.969,
           -0.002
          ]
         ],
         "hovertemplate": "job_id=%{customdata[0]}<br>loss=%{customdata[2]}<br>r2=%{customdata[3]}<br>split=%{customdata[1]}<extra></extra>",
         "legendgroup": "752",
         "line": {
          "color": "#FF6692",
          "dash": "solid",
          "shape": "spline",
          "width": 2
         },
         "marker": {
          "line": {
           "color": "white",
           "width": 2
          },
          "size": 8
         },
         "mode": "markers+lines",
         "name": "752",
         "orientation": "v",
         "showlegend": true,
         "type": "scatter",
         "x": [
          131.138,
          143.969
         ],
         "xaxis": "x",
         "y": [
          -0.005,
          -0.002
         ],
         "yaxis": "y"
        },
        {
         "customdata": [
          [
           753,
           "test",
           131.338,
           -0.006
          ],
          [
           753,
           "train",
           142.124,
           0.011
          ]
         ],
         "hovertemplate": "job_id=%{customdata[0]}<br>loss=%{customdata[2]}<br>r2=%{customdata[3]}<br>split=%{customdata[1]}<extra></extra>",
         "legendgroup": "753",
         "line": {
          "color": "#B6E880",
          "dash": "solid",
          "shape": "spline",
          "width": 2
         },
         "marker": {
          "line": {
           "color": "white",
           "width": 2
          },
          "size": 8
         },
         "mode": "markers+lines",
         "name": "753",
         "orientation": "v",
         "showlegend": true,
         "type": "scatter",
         "x": [
          131.338,
          142.124
         ],
         "xaxis": "x",
         "y": [
          -0.006,
          0.011
         ],
         "yaxis": "y"
        },
        {
         "customdata": [
          [
           754,
           "test",
           133.512,
           -0.023
          ],
          [
           754,
           "train",
           145.987,
           -0.016
          ]
         ],
         "hovertemplate": "job_id=%{customdata[0]}<br>loss=%{customdata[2]}<br>r2=%{customdata[3]}<br>split=%{customdata[1]}<extra></extra>",
         "legendgroup": "754",
         "line": {
          "color": "#FF97FF",
          "dash": "solid",
          "shape": "spline",
          "width": 2
         },
         "marker": {
          "line": {
           "color": "white",
           "width": 2
          },
          "size": 8
         },
         "mode": "markers+lines",
         "name": "754",
         "orientation": "v",
         "showlegend": true,
         "type": "scatter",
         "x": [
          133.512,
          145.987
         ],
         "xaxis": "x",
         "y": [
          -0.023,
          -0.016
         ],
         "yaxis": "y"
        },
        {
         "customdata": [
          [
           755,
           "test",
           130.761,
           -0.002
          ],
          [
           755,
           "train",
           143.654,
           0
          ]
         ],
         "hovertemplate": "job_id=%{customdata[0]}<br>loss=%{customdata[2]}<br>r2=%{customdata[3]}<br>split=%{customdata[1]}<extra></extra>",
         "legendgroup": "755",
         "line": {
          "color": "#FECB52",
          "dash": "solid",
          "shape": "spline",
          "width": 2
         },
         "marker": {
          "line": {
           "color": "white",
           "width": 2
          },
          "size": 8
         },
         "mode": "markers+lines",
         "name": "755",
         "orientation": "v",
         "showlegend": true,
         "type": "scatter",
         "x": [
          130.761,
          143.654
         ],
         "xaxis": "x",
         "y": [
          -0.002,
          0
         ],
         "yaxis": "y"
        },
        {
         "customdata": [
          [
           756,
           "test",
           131.58,
           -0.008
          ],
          [
           756,
           "train",
           145.078,
           -0.01
          ]
         ],
         "hovertemplate": "job_id=%{customdata[0]}<br>loss=%{customdata[2]}<br>r2=%{customdata[3]}<br>split=%{customdata[1]}<extra></extra>",
         "legendgroup": "756",
         "line": {
          "color": "#636efa",
          "dash": "solid",
          "shape": "spline",
          "width": 2
         },
         "marker": {
          "line": {
           "color": "white",
           "width": 2
          },
          "size": 8
         },
         "mode": "markers+lines",
         "name": "756",
         "orientation": "v",
         "showlegend": true,
         "type": "scatter",
         "x": [
          131.58,
          145.078
         ],
         "xaxis": "x",
         "y": [
          -0.008,
          -0.01
         ],
         "yaxis": "y"
        }
       ],
       "layout": {
        "autosize": true,
        "font": {
         "color": "#FAFAFA",
         "family": "Avenir"
        },
        "hoverlabel": {
         "bgcolor": "#0F0F0F",
         "font": {
          "family": "Avenir",
          "size": 15
         }
        },
        "legend": {
         "title": {
          "text": "job_id"
         },
         "tracegroupgap": 0
        },
        "paper_bgcolor": "#181B1E",
        "plot_bgcolor": "#181B1E",
        "template": {
         "data": {
          "bar": [
           {
            "error_x": {
             "color": "#2a3f5f"
            },
            "error_y": {
             "color": "#2a3f5f"
            },
            "marker": {
             "line": {
              "color": "#E5ECF6",
              "width": 0.5
             }
            },
            "type": "bar"
           }
          ],
          "barpolar": [
           {
            "marker": {
             "line": {
              "color": "#E5ECF6",
              "width": 0.5
             }
            },
            "type": "barpolar"
           }
          ],
          "carpet": [
           {
            "aaxis": {
             "endlinecolor": "#2a3f5f",
             "gridcolor": "white",
             "linecolor": "white",
             "minorgridcolor": "white",
             "startlinecolor": "#2a3f5f"
            },
            "baxis": {
             "endlinecolor": "#2a3f5f",
             "gridcolor": "white",
             "linecolor": "white",
             "minorgridcolor": "white",
             "startlinecolor": "#2a3f5f"
            },
            "type": "carpet"
           }
          ],
          "choropleth": [
           {
            "colorbar": {
             "outlinewidth": 0,
             "ticks": ""
            },
            "type": "choropleth"
           }
          ],
          "contour": [
           {
            "colorbar": {
             "outlinewidth": 0,
             "ticks": ""
            },
            "colorscale": [
             [
              0,
              "#0d0887"
             ],
             [
              0.1111111111111111,
              "#46039f"
             ],
             [
              0.2222222222222222,
              "#7201a8"
             ],
             [
              0.3333333333333333,
              "#9c179e"
             ],
             [
              0.4444444444444444,
              "#bd3786"
             ],
             [
              0.5555555555555556,
              "#d8576b"
             ],
             [
              0.6666666666666666,
              "#ed7953"
             ],
             [
              0.7777777777777778,
              "#fb9f3a"
             ],
             [
              0.8888888888888888,
              "#fdca26"
             ],
             [
              1,
              "#f0f921"
             ]
            ],
            "type": "contour"
           }
          ],
          "contourcarpet": [
           {
            "colorbar": {
             "outlinewidth": 0,
             "ticks": ""
            },
            "type": "contourcarpet"
           }
          ],
          "heatmap": [
           {
            "colorbar": {
             "outlinewidth": 0,
             "ticks": ""
            },
            "colorscale": [
             [
              0,
              "#0d0887"
             ],
             [
              0.1111111111111111,
              "#46039f"
             ],
             [
              0.2222222222222222,
              "#7201a8"
             ],
             [
              0.3333333333333333,
              "#9c179e"
             ],
             [
              0.4444444444444444,
              "#bd3786"
             ],
             [
              0.5555555555555556,
              "#d8576b"
             ],
             [
              0.6666666666666666,
              "#ed7953"
             ],
             [
              0.7777777777777778,
              "#fb9f3a"
             ],
             [
              0.8888888888888888,
              "#fdca26"
             ],
             [
              1,
              "#f0f921"
             ]
            ],
            "type": "heatmap"
           }
          ],
          "heatmapgl": [
           {
            "colorbar": {
             "outlinewidth": 0,
             "ticks": ""
            },
            "colorscale": [
             [
              0,
              "#0d0887"
             ],
             [
              0.1111111111111111,
              "#46039f"
             ],
             [
              0.2222222222222222,
              "#7201a8"
             ],
             [
              0.3333333333333333,
              "#9c179e"
             ],
             [
              0.4444444444444444,
              "#bd3786"
             ],
             [
              0.5555555555555556,
              "#d8576b"
             ],
             [
              0.6666666666666666,
              "#ed7953"
             ],
             [
              0.7777777777777778,
              "#fb9f3a"
             ],
             [
              0.8888888888888888,
              "#fdca26"
             ],
             [
              1,
              "#f0f921"
             ]
            ],
            "type": "heatmapgl"
           }
          ],
          "histogram": [
           {
            "marker": {
             "colorbar": {
              "outlinewidth": 0,
              "ticks": ""
             }
            },
            "type": "histogram"
           }
          ],
          "histogram2d": [
           {
            "colorbar": {
             "outlinewidth": 0,
             "ticks": ""
            },
            "colorscale": [
             [
              0,
              "#0d0887"
             ],
             [
              0.1111111111111111,
              "#46039f"
             ],
             [
              0.2222222222222222,
              "#7201a8"
             ],
             [
              0.3333333333333333,
              "#9c179e"
             ],
             [
              0.4444444444444444,
              "#bd3786"
             ],
             [
              0.5555555555555556,
              "#d8576b"
             ],
             [
              0.6666666666666666,
              "#ed7953"
             ],
             [
              0.7777777777777778,
              "#fb9f3a"
             ],
             [
              0.8888888888888888,
              "#fdca26"
             ],
             [
              1,
              "#f0f921"
             ]
            ],
            "type": "histogram2d"
           }
          ],
          "histogram2dcontour": [
           {
            "colorbar": {
             "outlinewidth": 0,
             "ticks": ""
            },
            "colorscale": [
             [
              0,
              "#0d0887"
             ],
             [
              0.1111111111111111,
              "#46039f"
             ],
             [
              0.2222222222222222,
              "#7201a8"
             ],
             [
              0.3333333333333333,
              "#9c179e"
             ],
             [
              0.4444444444444444,
              "#bd3786"
             ],
             [
              0.5555555555555556,
              "#d8576b"
             ],
             [
              0.6666666666666666,
              "#ed7953"
             ],
             [
              0.7777777777777778,
              "#fb9f3a"
             ],
             [
              0.8888888888888888,
              "#fdca26"
             ],
             [
              1,
              "#f0f921"
             ]
            ],
            "type": "histogram2dcontour"
           }
          ],
          "mesh3d": [
           {
            "colorbar": {
             "outlinewidth": 0,
             "ticks": ""
            },
            "type": "mesh3d"
           }
          ],
          "parcoords": [
           {
            "line": {
             "colorbar": {
              "outlinewidth": 0,
              "ticks": ""
             }
            },
            "type": "parcoords"
           }
          ],
          "pie": [
           {
            "automargin": true,
            "type": "pie"
           }
          ],
          "scatter": [
           {
            "marker": {
             "colorbar": {
              "outlinewidth": 0,
              "ticks": ""
             }
            },
            "type": "scatter"
           }
          ],
          "scatter3d": [
           {
            "line": {
             "colorbar": {
              "outlinewidth": 0,
              "ticks": ""
             }
            },
            "marker": {
             "colorbar": {
              "outlinewidth": 0,
              "ticks": ""
             }
            },
            "type": "scatter3d"
           }
          ],
          "scattercarpet": [
           {
            "marker": {
             "colorbar": {
              "outlinewidth": 0,
              "ticks": ""
             }
            },
            "type": "scattercarpet"
           }
          ],
          "scattergeo": [
           {
            "marker": {
             "colorbar": {
              "outlinewidth": 0,
              "ticks": ""
             }
            },
            "type": "scattergeo"
           }
          ],
          "scattergl": [
           {
            "marker": {
             "colorbar": {
              "outlinewidth": 0,
              "ticks": ""
             }
            },
            "type": "scattergl"
           }
          ],
          "scattermapbox": [
           {
            "marker": {
             "colorbar": {
              "outlinewidth": 0,
              "ticks": ""
             }
            },
            "type": "scattermapbox"
           }
          ],
          "scatterpolar": [
           {
            "marker": {
             "colorbar": {
              "outlinewidth": 0,
              "ticks": ""
             }
            },
            "type": "scatterpolar"
           }
          ],
          "scatterpolargl": [
           {
            "marker": {
             "colorbar": {
              "outlinewidth": 0,
              "ticks": ""
             }
            },
            "type": "scatterpolargl"
           }
          ],
          "scatterternary": [
           {
            "marker": {
             "colorbar": {
              "outlinewidth": 0,
              "ticks": ""
             }
            },
            "type": "scatterternary"
           }
          ],
          "surface": [
           {
            "colorbar": {
             "outlinewidth": 0,
             "ticks": ""
            },
            "colorscale": [
             [
              0,
              "#0d0887"
             ],
             [
              0.1111111111111111,
              "#46039f"
             ],
             [
              0.2222222222222222,
              "#7201a8"
             ],
             [
              0.3333333333333333,
              "#9c179e"
             ],
             [
              0.4444444444444444,
              "#bd3786"
             ],
             [
              0.5555555555555556,
              "#d8576b"
             ],
             [
              0.6666666666666666,
              "#ed7953"
             ],
             [
              0.7777777777777778,
              "#fb9f3a"
             ],
             [
              0.8888888888888888,
              "#fdca26"
             ],
             [
              1,
              "#f0f921"
             ]
            ],
            "type": "surface"
           }
          ],
          "table": [
           {
            "cells": {
             "fill": {
              "color": "#EBF0F8"
             },
             "line": {
              "color": "white"
             }
            },
            "header": {
             "fill": {
              "color": "#C8D4E3"
             },
             "line": {
              "color": "white"
             }
            },
            "type": "table"
           }
          ]
         },
         "layout": {
          "annotationdefaults": {
           "arrowcolor": "#2a3f5f",
           "arrowhead": 0,
           "arrowwidth": 1
          },
          "coloraxis": {
           "colorbar": {
            "outlinewidth": 0,
            "ticks": ""
           }
          },
          "colorscale": {
           "diverging": [
            [
             0,
             "#8e0152"
            ],
            [
             0.1,
             "#c51b7d"
            ],
            [
             0.2,
             "#de77ae"
            ],
            [
             0.3,
             "#f1b6da"
            ],
            [
             0.4,
             "#fde0ef"
            ],
            [
             0.5,
             "#f7f7f7"
            ],
            [
             0.6,
             "#e6f5d0"
            ],
            [
             0.7,
             "#b8e186"
            ],
            [
             0.8,
             "#7fbc41"
            ],
            [
             0.9,
             "#4d9221"
            ],
            [
             1,
             "#276419"
            ]
           ],
           "sequential": [
            [
             0,
             "#0d0887"
            ],
            [
             0.1111111111111111,
             "#46039f"
            ],
            [
             0.2222222222222222,
             "#7201a8"
            ],
            [
             0.3333333333333333,
             "#9c179e"
            ],
            [
             0.4444444444444444,
             "#bd3786"
            ],
            [
             0.5555555555555556,
             "#d8576b"
            ],
            [
             0.6666666666666666,
             "#ed7953"
            ],
            [
             0.7777777777777778,
             "#fb9f3a"
            ],
            [
             0.8888888888888888,
             "#fdca26"
            ],
            [
             1,
             "#f0f921"
            ]
           ],
           "sequentialminus": [
            [
             0,
             "#0d0887"
            ],
            [
             0.1111111111111111,
             "#46039f"
            ],
            [
             0.2222222222222222,
             "#7201a8"
            ],
            [
             0.3333333333333333,
             "#9c179e"
            ],
            [
             0.4444444444444444,
             "#bd3786"
            ],
            [
             0.5555555555555556,
             "#d8576b"
            ],
            [
             0.6666666666666666,
             "#ed7953"
            ],
            [
             0.7777777777777778,
             "#fb9f3a"
            ],
            [
             0.8888888888888888,
             "#fdca26"
            ],
            [
             1,
             "#f0f921"
            ]
           ]
          },
          "colorway": [
           "#636efa",
           "#EF553B",
           "#00cc96",
           "#ab63fa",
           "#FFA15A",
           "#19d3f3",
           "#FF6692",
           "#B6E880",
           "#FF97FF",
           "#FECB52"
          ],
          "font": {
           "color": "#2a3f5f"
          },
          "geo": {
           "bgcolor": "white",
           "lakecolor": "white",
           "landcolor": "#E5ECF6",
           "showlakes": true,
           "showland": true,
           "subunitcolor": "white"
          },
          "hoverlabel": {
           "align": "left"
          },
          "hovermode": "closest",
          "mapbox": {
           "style": "light"
          },
          "paper_bgcolor": "white",
          "plot_bgcolor": "#E5ECF6",
          "polar": {
           "angularaxis": {
            "gridcolor": "white",
            "linecolor": "white",
            "ticks": ""
           },
           "bgcolor": "#E5ECF6",
           "radialaxis": {
            "gridcolor": "white",
            "linecolor": "white",
            "ticks": ""
           }
          },
          "scene": {
           "xaxis": {
            "backgroundcolor": "#E5ECF6",
            "gridcolor": "white",
            "gridwidth": 2,
            "linecolor": "white",
            "showbackground": true,
            "ticks": "",
            "zerolinecolor": "white"
           },
           "yaxis": {
            "backgroundcolor": "#E5ECF6",
            "gridcolor": "white",
            "gridwidth": 2,
            "linecolor": "white",
            "showbackground": true,
            "ticks": "",
            "zerolinecolor": "white"
           },
           "zaxis": {
            "backgroundcolor": "#E5ECF6",
            "gridcolor": "white",
            "gridwidth": 2,
            "linecolor": "white",
            "showbackground": true,
            "ticks": "",
            "zerolinecolor": "white"
           }
          },
          "shapedefaults": {
           "line": {
            "color": "#2a3f5f"
           }
          },
          "ternary": {
           "aaxis": {
            "gridcolor": "white",
            "linecolor": "white",
            "ticks": ""
           },
           "baxis": {
            "gridcolor": "white",
            "linecolor": "white",
            "ticks": ""
           },
           "bgcolor": "#E5ECF6",
           "caxis": {
            "gridcolor": "white",
            "linecolor": "white",
            "ticks": ""
           }
          },
          "title": {
           "x": 0.05
          },
          "xaxis": {
           "automargin": true,
           "gridcolor": "white",
           "linecolor": "white",
           "ticks": "",
           "title": {
            "standoff": 15
           },
           "zerolinecolor": "white",
           "zerolinewidth": 2
          },
          "yaxis": {
           "automargin": true,
           "gridcolor": "white",
           "linecolor": "white",
           "ticks": "",
           "title": {
            "standoff": 15
           },
           "zerolinecolor": "white",
           "zerolinewidth": 2
          }
         }
        },
        "title": {
         "text": "<i>Models Metrics by Split</i>"
        },
        "xaxis": {
         "anchor": "y",
         "autorange": true,
         "domain": [
          0,
          1
         ],
         "gridcolor": "#262B2F",
         "range": [
          129.49091484530229,
          146.9710851546977
         ],
         "tickfont": {
          "color": "#818487"
         },
         "title": {
          "text": "Loss"
         },
         "type": "linear",
         "zeroline": false
        },
        "yaxis": {
         "anchor": "x",
         "autorange": true,
         "domain": [
          0,
          1
         ],
         "gridcolor": "#262B2F",
         "range": [
          -0.025402173913043478,
          0.013402173913043477
         ],
         "tickfont": {
          "color": "#818487"
         },
         "title": {
          "text": "R²"
         },
         "type": "linear",
         "zeroline": false
        }
       }
      },
      "image/png": "[encoded data removed]",
      "text/html": [
       "<div>\n",
       "        \n",
       "        \n",
       "            <div id=\"f827738e-fcfb-417d-8a87-9168d8501602\" class=\"plotly-graph-div\" style=\"height:600px; width:100%;\"></div>\n",
       "            <script type=\"text/javascript\">\n",
       "                require([\"plotly\"], function(Plotly) {\n",
       "                    window.PLOTLYENV=window.PLOTLYENV || {};\n",
       "                    \n",
       "                if (document.getElementById(\"f827738e-fcfb-417d-8a87-9168d8501602\")) {\n",
       "                    Plotly.newPlot(\n",
       "                        'f827738e-fcfb-417d-8a87-9168d8501602',\n",
       "                        [{\"customdata\": [[746, \"test\", 130.573, -0.0], [746, \"train\", 143.634, -0.0]], \"hovertemplate\": \"job_id=%{customdata[0]}<br>loss=%{customdata[2]}<br>r2=%{customdata[3]}<br>split=%{customdata[1]}<extra></extra>\", \"legendgroup\": \"746\", \"line\": {\"color\": \"#636efa\", \"dash\": \"solid\", \"shape\": \"spline\", \"width\": 2}, \"marker\": {\"line\": {\"color\": \"white\", \"width\": 2}, \"size\": 8}, \"mode\": \"markers+lines\", \"name\": \"746\", \"orientation\": \"v\", \"showlegend\": true, \"type\": \"scatter\", \"x\": [130.573, 143.634], \"xaxis\": \"x\", \"y\": [-0.0, -0.0], \"yaxis\": \"y\"}, {\"customdata\": [[747, \"test\", 131.72, -0.009], [747, \"train\", 142.461, 0.008]], \"hovertemplate\": \"job_id=%{customdata[0]}<br>loss=%{customdata[2]}<br>r2=%{customdata[3]}<br>split=%{customdata[1]}<extra></extra>\", \"legendgroup\": \"747\", \"line\": {\"color\": \"#EF553B\", \"dash\": \"solid\", \"shape\": \"spline\", \"width\": 2}, \"marker\": {\"line\": {\"color\": \"white\", \"width\": 2}, \"size\": 8}, \"mode\": \"markers+lines\", \"name\": \"747\", \"orientation\": \"v\", \"showlegend\": true, \"type\": \"scatter\", \"x\": [131.72, 142.461], \"xaxis\": \"x\", \"y\": [-0.009, 0.008], \"yaxis\": \"y\"}, {\"customdata\": [[748, \"test\", 130.579, -0.0], [748, \"train\", 143.633, -0.0]], \"hovertemplate\": \"job_id=%{customdata[0]}<br>loss=%{customdata[2]}<br>r2=%{customdata[3]}<br>split=%{customdata[1]}<extra></extra>\", \"legendgroup\": \"748\", \"line\": {\"color\": \"#00cc96\", \"dash\": \"solid\", \"shape\": \"spline\", \"width\": 2}, \"marker\": {\"line\": {\"color\": \"white\", \"width\": 2}, \"size\": 8}, \"mode\": \"markers+lines\", \"name\": \"748\", \"orientation\": \"v\", \"showlegend\": true, \"type\": \"scatter\", \"x\": [130.579, 143.633], \"xaxis\": \"x\", \"y\": [-0.0, -0.0], \"yaxis\": \"y\"}, {\"customdata\": [[749, \"test\", 131.111, -0.004], [749, \"train\", 142.166, 0.01]], \"hovertemplate\": \"job_id=%{customdata[0]}<br>loss=%{customdata[2]}<br>r2=%{customdata[3]}<br>split=%{customdata[1]}<extra></extra>\", \"legendgroup\": \"749\", \"line\": {\"color\": \"#ab63fa\", \"dash\": \"solid\", \"shape\": \"spline\", \"width\": 2}, \"marker\": {\"line\": {\"color\": \"white\", \"width\": 2}, \"size\": 8}, \"mode\": \"markers+lines\", \"name\": \"749\", \"orientation\": \"v\", \"showlegend\": true, \"type\": \"scatter\", \"x\": [131.111, 142.166], \"xaxis\": \"x\", \"y\": [-0.004, 0.01], \"yaxis\": \"y\"}, {\"customdata\": [[750, \"test\", 130.553, -0.0], [750, \"train\", 143.694, -0.0]], \"hovertemplate\": \"job_id=%{customdata[0]}<br>loss=%{customdata[2]}<br>r2=%{customdata[3]}<br>split=%{customdata[1]}<extra></extra>\", \"legendgroup\": \"750\", \"line\": {\"color\": \"#FFA15A\", \"dash\": \"solid\", \"shape\": \"spline\", \"width\": 2}, \"marker\": {\"line\": {\"color\": \"white\", \"width\": 2}, \"size\": 8}, \"mode\": \"markers+lines\", \"name\": \"750\", \"orientation\": \"v\", \"showlegend\": true, \"type\": \"scatter\", \"x\": [130.553, 143.694], \"xaxis\": \"x\", \"y\": [-0.0, -0.0], \"yaxis\": \"y\"}, {\"customdata\": [[751, \"test\", 130.475, 0.001], [751, \"train\", 143.618, 0.0]], \"hovertemplate\": \"job_id=%{customdata[0]}<br>loss=%{customdata[2]}<br>r2=%{customdata[3]}<br>split=%{customdata[1]}<extra></extra>\", \"legendgroup\": \"751\", \"line\": {\"color\": \"#19d3f3\", \"dash\": \"solid\", \"shape\": \"spline\", \"width\": 2}, \"marker\": {\"line\": {\"color\": \"white\", \"width\": 2}, \"size\": 8}, \"mode\": \"markers+lines\", \"name\": \"751\", \"orientation\": \"v\", \"showlegend\": true, \"type\": \"scatter\", \"x\": [130.475, 143.618], \"xaxis\": \"x\", \"y\": [0.001, 0.0], \"yaxis\": \"y\"}, {\"customdata\": [[752, \"test\", 131.138, -0.005], [752, \"train\", 143.969, -0.002]], \"hovertemplate\": \"job_id=%{customdata[0]}<br>loss=%{customdata[2]}<br>r2=%{customdata[3]}<br>split=%{customdata[1]}<extra></extra>\", \"legendgroup\": \"752\", \"line\": {\"color\": \"#FF6692\", \"dash\": \"solid\", \"shape\": \"spline\", \"width\": 2}, \"marker\": {\"line\": {\"color\": \"white\", \"width\": 2}, \"size\": 8}, \"mode\": \"markers+lines\", \"name\": \"752\", \"orientation\": \"v\", \"showlegend\": true, \"type\": \"scatter\", \"x\": [131.138, 143.969], \"xaxis\": \"x\", \"y\": [-0.005, -0.002], \"yaxis\": \"y\"}, {\"customdata\": [[753, \"test\", 131.338, -0.006], [753, \"train\", 142.124, 0.011]], \"hovertemplate\": \"job_id=%{customdata[0]}<br>loss=%{customdata[2]}<br>r2=%{customdata[3]}<br>split=%{customdata[1]}<extra></extra>\", \"legendgroup\": \"753\", \"line\": {\"color\": \"#B6E880\", \"dash\": \"solid\", \"shape\": \"spline\", \"width\": 2}, \"marker\": {\"line\": {\"color\": \"white\", \"width\": 2}, \"size\": 8}, \"mode\": \"markers+lines\", \"name\": \"753\", \"orientation\": \"v\", \"showlegend\": true, \"type\": \"scatter\", \"x\": [131.338, 142.124], \"xaxis\": \"x\", \"y\": [-0.006, 0.011], \"yaxis\": \"y\"}, {\"customdata\": [[754, \"test\", 133.512, -0.023], [754, \"train\", 145.987, -0.016]], \"hovertemplate\": \"job_id=%{customdata[0]}<br>loss=%{customdata[2]}<br>r2=%{customdata[3]}<br>split=%{customdata[1]}<extra></extra>\", \"legendgroup\": \"754\", \"line\": {\"color\": \"#FF97FF\", \"dash\": \"solid\", \"shape\": \"spline\", \"width\": 2}, \"marker\": {\"line\": {\"color\": \"white\", \"width\": 2}, \"size\": 8}, \"mode\": \"markers+lines\", \"name\": \"754\", \"orientation\": \"v\", \"showlegend\": true, \"type\": \"scatter\", \"x\": [133.512, 145.987], \"xaxis\": \"x\", \"y\": [-0.023, -0.016], \"yaxis\": \"y\"}, {\"customdata\": [[755, \"test\", 130.761, -0.002], [755, \"train\", 143.654, -0.0]], \"hovertemplate\": \"job_id=%{customdata[0]}<br>loss=%{customdata[2]}<br>r2=%{customdata[3]}<br>split=%{customdata[1]}<extra></extra>\", \"legendgroup\": \"755\", \"line\": {\"color\": \"#FECB52\", \"dash\": \"solid\", \"shape\": \"spline\", \"width\": 2}, \"marker\": {\"line\": {\"color\": \"white\", \"width\": 2}, \"size\": 8}, \"mode\": \"markers+lines\", \"name\": \"755\", \"orientation\": \"v\", \"showlegend\": true, \"type\": \"scatter\", \"x\": [130.761, 143.654], \"xaxis\": \"x\", \"y\": [-0.002, -0.0], \"yaxis\": \"y\"}, {\"customdata\": [[756, \"test\", 131.58, -0.008], [756, \"train\", 145.078, -0.01]], \"hovertemplate\": \"job_id=%{customdata[0]}<br>loss=%{customdata[2]}<br>r2=%{customdata[3]}<br>split=%{customdata[1]}<extra></extra>\", \"legendgroup\": \"756\", \"line\": {\"color\": \"#636efa\", \"dash\": \"solid\", \"shape\": \"spline\", \"width\": 2}, \"marker\": {\"line\": {\"color\": \"white\", \"width\": 2}, \"size\": 8}, \"mode\": \"markers+lines\", \"name\": \"756\", \"orientation\": \"v\", \"showlegend\": true, \"type\": \"scatter\", \"x\": [131.58, 145.078], \"xaxis\": \"x\", \"y\": [-0.008, -0.01], \"yaxis\": \"y\"}],\n",
       "                        {\"font\": {\"color\": \"#FAFAFA\", \"family\": \"Avenir\"}, \"height\": 600, \"hoverlabel\": {\"bgcolor\": \"#0F0F0F\", \"font\": {\"family\": \"Avenir\", \"size\": 15}}, \"legend\": {\"title\": {\"text\": \"job_id\"}, \"tracegroupgap\": 0}, \"paper_bgcolor\": \"#181B1E\", \"plot_bgcolor\": \"#181B1E\", \"template\": {\"data\": {\"bar\": [{\"error_x\": {\"color\": \"#2a3f5f\"}, \"error_y\": {\"color\": \"#2a3f5f\"}, \"marker\": {\"line\": {\"color\": \"#E5ECF6\", \"width\": 0.5}}, \"type\": \"bar\"}], \"barpolar\": [{\"marker\": {\"line\": {\"color\": \"#E5ECF6\", \"width\": 0.5}}, \"type\": \"barpolar\"}], \"carpet\": [{\"aaxis\": {\"endlinecolor\": \"#2a3f5f\", \"gridcolor\": \"white\", \"linecolor\": \"white\", \"minorgridcolor\": \"white\", \"startlinecolor\": \"#2a3f5f\"}, \"baxis\": {\"endlinecolor\": \"#2a3f5f\", \"gridcolor\": \"white\", \"linecolor\": \"white\", \"minorgridcolor\": \"white\", \"startlinecolor\": \"#2a3f5f\"}, \"type\": \"carpet\"}], \"choropleth\": [{\"colorbar\": {\"outlinewidth\": 0, \"ticks\": \"\"}, \"type\": \"choropleth\"}], \"contour\": [{\"colorbar\": {\"outlinewidth\": 0, \"ticks\": \"\"}, \"colorscale\": [[0.0, \"#0d0887\"], [0.1111111111111111, \"#46039f\"], [0.2222222222222222, \"#7201a8\"], [0.3333333333333333, \"#9c179e\"], [0.4444444444444444, \"#bd3786\"], [0.5555555555555556, \"#d8576b\"], [0.6666666666666666, \"#ed7953\"], [0.7777777777777778, \"#fb9f3a\"], [0.8888888888888888, \"#fdca26\"], [1.0, \"#f0f921\"]], \"type\": \"contour\"}], \"contourcarpet\": [{\"colorbar\": {\"outlinewidth\": 0, \"ticks\": \"\"}, \"type\": \"contourcarpet\"}], \"heatmap\": [{\"colorbar\": {\"outlinewidth\": 0, \"ticks\": \"\"}, \"colorscale\": [[0.0, \"#0d0887\"], [0.1111111111111111, \"#46039f\"], [0.2222222222222222, \"#7201a8\"], [0.3333333333333333, \"#9c179e\"], [0.4444444444444444, \"#bd3786\"], [0.5555555555555556, \"#d8576b\"], [0.6666666666666666, \"#ed7953\"], [0.7777777777777778, \"#fb9f3a\"], [0.8888888888888888, \"#fdca26\"], [1.0, \"#f0f921\"]], \"type\": \"heatmap\"}], \"heatmapgl\": [{\"colorbar\": {\"outlinewidth\": 0, \"ticks\": \"\"}, \"colorscale\": [[0.0, \"#0d0887\"], [0.1111111111111111, \"#46039f\"], [0.2222222222222222, \"#7201a8\"], [0.3333333333333333, \"#9c179e\"], [0.4444444444444444, \"#bd3786\"], [0.5555555555555556, \"#d8576b\"], [0.6666666666666666, \"#ed7953\"], [0.7777777777777778, \"#fb9f3a\"], [0.8888888888888888, \"#fdca26\"], [1.0, \"#f0f921\"]], \"type\": \"heatmapgl\"}], \"histogram\": [{\"marker\": {\"colorbar\": {\"outlinewidth\": 0, \"ticks\": \"\"}}, \"type\": \"histogram\"}], \"histogram2d\": [{\"colorbar\": {\"outlinewidth\": 0, \"ticks\": \"\"}, \"colorscale\": [[0.0, \"#0d0887\"], [0.1111111111111111, \"#46039f\"], [0.2222222222222222, \"#7201a8\"], [0.3333333333333333, \"#9c179e\"], [0.4444444444444444, \"#bd3786\"], [0.5555555555555556, \"#d8576b\"], [0.6666666666666666, \"#ed7953\"], [0.7777777777777778, \"#fb9f3a\"], [0.8888888888888888, \"#fdca26\"], [1.0, \"#f0f921\"]], \"type\": \"histogram2d\"}], \"histogram2dcontour\": [{\"colorbar\": {\"outlinewidth\": 0, \"ticks\": \"\"}, \"colorscale\": [[0.0, \"#0d0887\"], [0.1111111111111111, \"#46039f\"], [0.2222222222222222, \"#7201a8\"], [0.3333333333333333, \"#9c179e\"], [0.4444444444444444, \"#bd3786\"], [0.5555555555555556, \"#d8576b\"], [0.6666666666666666, \"#ed7953\"], [0.7777777777777778, \"#fb9f3a\"], [0.8888888888888888, \"#fdca26\"], [1.0, \"#f0f921\"]], \"type\": \"histogram2dcontour\"}], \"mesh3d\": [{\"colorbar\": {\"outlinewidth\": 0, \"ticks\": \"\"}, \"type\": \"mesh3d\"}], \"parcoords\": [{\"line\": {\"colorbar\": {\"outlinewidth\": 0, \"ticks\": \"\"}}, \"type\": \"parcoords\"}], \"pie\": [{\"automargin\": true, \"type\": \"pie\"}], \"scatter\": [{\"marker\": {\"colorbar\": {\"outlinewidth\": 0, \"ticks\": \"\"}}, \"type\": \"scatter\"}], \"scatter3d\": [{\"line\": {\"colorbar\": {\"outlinewidth\": 0, \"ticks\": \"\"}}, \"marker\": {\"colorbar\": {\"outlinewidth\": 0, \"ticks\": \"\"}}, \"type\": \"scatter3d\"}], \"scattercarpet\": [{\"marker\": {\"colorbar\": {\"outlinewidth\": 0, \"ticks\": \"\"}}, \"type\": \"scattercarpet\"}], \"scattergeo\": [{\"marker\": {\"colorbar\": {\"outlinewidth\": 0, \"ticks\": \"\"}}, \"type\": \"scattergeo\"}], \"scattergl\": [{\"marker\": {\"colorbar\": {\"outlinewidth\": 0, \"ticks\": \"\"}}, \"type\": \"scattergl\"}], \"scattermapbox\": [{\"marker\": {\"colorbar\": {\"outlinewidth\": 0, \"ticks\": \"\"}}, \"type\": \"scattermapbox\"}], \"scatterpolar\": [{\"marker\": {\"colorbar\": {\"outlinewidth\": 0, \"ticks\": \"\"}}, \"type\": \"scatterpolar\"}], \"scatterpolargl\": [{\"marker\": {\"colorbar\": {\"outlinewidth\": 0, \"ticks\": \"\"}}, \"type\": \"scatterpolargl\"}], \"scatterternary\": [{\"marker\": {\"colorbar\": {\"outlinewidth\": 0, \"ticks\": \"\"}}, \"type\": \"scatterternary\"}], \"surface\": [{\"colorbar\": {\"outlinewidth\": 0, \"ticks\": \"\"}, \"colorscale\": [[0.0, \"#0d0887\"], [0.1111111111111111, \"#46039f\"], [0.2222222222222222, \"#7201a8\"], [0.3333333333333333, \"#9c179e\"], [0.4444444444444444, \"#bd3786\"], [0.5555555555555556, \"#d8576b\"], [0.6666666666666666, \"#ed7953\"], [0.7777777777777778, \"#fb9f3a\"], [0.8888888888888888, \"#fdca26\"], [1.0, \"#f0f921\"]], \"type\": \"surface\"}], \"table\": [{\"cells\": {\"fill\": {\"color\": \"#EBF0F8\"}, \"line\": {\"color\": \"white\"}}, \"header\": {\"fill\": {\"color\": \"#C8D4E3\"}, \"line\": {\"color\": \"white\"}}, \"type\": \"table\"}]}, \"layout\": {\"annotationdefaults\": {\"arrowcolor\": \"#2a3f5f\", \"arrowhead\": 0, \"arrowwidth\": 1}, \"coloraxis\": {\"colorbar\": {\"outlinewidth\": 0, \"ticks\": \"\"}}, \"colorscale\": {\"diverging\": [[0, \"#8e0152\"], [0.1, \"#c51b7d\"], [0.2, \"#de77ae\"], [0.3, \"#f1b6da\"], [0.4, \"#fde0ef\"], [0.5, \"#f7f7f7\"], [0.6, \"#e6f5d0\"], [0.7, \"#b8e186\"], [0.8, \"#7fbc41\"], [0.9, \"#4d9221\"], [1, \"#276419\"]], \"sequential\": [[0.0, \"#0d0887\"], [0.1111111111111111, \"#46039f\"], [0.2222222222222222, \"#7201a8\"], [0.3333333333333333, \"#9c179e\"], [0.4444444444444444, \"#bd3786\"], [0.5555555555555556, \"#d8576b\"], [0.6666666666666666, \"#ed7953\"], [0.7777777777777778, \"#fb9f3a\"], [0.8888888888888888, \"#fdca26\"], [1.0, \"#f0f921\"]], \"sequentialminus\": [[0.0, \"#0d0887\"], [0.1111111111111111, \"#46039f\"], [0.2222222222222222, \"#7201a8\"], [0.3333333333333333, \"#9c179e\"], [0.4444444444444444, \"#bd3786\"], [0.5555555555555556, \"#d8576b\"], [0.6666666666666666, \"#ed7953\"], [0.7777777777777778, \"#fb9f3a\"], [0.8888888888888888, \"#fdca26\"], [1.0, \"#f0f921\"]]}, \"colorway\": [\"#636efa\", \"#EF553B\", \"#00cc96\", \"#ab63fa\", \"#FFA15A\", \"#19d3f3\", \"#FF6692\", \"#B6E880\", \"#FF97FF\", \"#FECB52\"], \"font\": {\"color\": \"#2a3f5f\"}, \"geo\": {\"bgcolor\": \"white\", \"lakecolor\": \"white\", \"landcolor\": \"#E5ECF6\", \"showlakes\": true, \"showland\": true, \"subunitcolor\": \"white\"}, \"hoverlabel\": {\"align\": \"left\"}, \"hovermode\": \"closest\", \"mapbox\": {\"style\": \"light\"}, \"paper_bgcolor\": \"white\", \"plot_bgcolor\": \"#E5ECF6\", \"polar\": {\"angularaxis\": {\"gridcolor\": \"white\", \"linecolor\": \"white\", \"ticks\": \"\"}, \"bgcolor\": \"#E5ECF6\", \"radialaxis\": {\"gridcolor\": \"white\", \"linecolor\": \"white\", \"ticks\": \"\"}}, \"scene\": {\"xaxis\": {\"backgroundcolor\": \"#E5ECF6\", \"gridcolor\": \"white\", \"gridwidth\": 2, \"linecolor\": \"white\", \"showbackground\": true, \"ticks\": \"\", \"zerolinecolor\": \"white\"}, \"yaxis\": {\"backgroundcolor\": \"#E5ECF6\", \"gridcolor\": \"white\", \"gridwidth\": 2, \"linecolor\": \"white\", \"showbackground\": true, \"ticks\": \"\", \"zerolinecolor\": \"white\"}, \"zaxis\": {\"backgroundcolor\": \"#E5ECF6\", \"gridcolor\": \"white\", \"gridwidth\": 2, \"linecolor\": \"white\", \"showbackground\": true, \"ticks\": \"\", \"zerolinecolor\": \"white\"}}, \"shapedefaults\": {\"line\": {\"color\": \"#2a3f5f\"}}, \"ternary\": {\"aaxis\": {\"gridcolor\": \"white\", \"linecolor\": \"white\", \"ticks\": \"\"}, \"baxis\": {\"gridcolor\": \"white\", \"linecolor\": \"white\", \"ticks\": \"\"}, \"bgcolor\": \"#E5ECF6\", \"caxis\": {\"gridcolor\": \"white\", \"linecolor\": \"white\", \"ticks\": \"\"}}, \"title\": {\"x\": 0.05}, \"xaxis\": {\"automargin\": true, \"gridcolor\": \"white\", \"linecolor\": \"white\", \"ticks\": \"\", \"title\": {\"standoff\": 15}, \"zerolinecolor\": \"white\", \"zerolinewidth\": 2}, \"yaxis\": {\"automargin\": true, \"gridcolor\": \"white\", \"linecolor\": \"white\", \"ticks\": \"\", \"title\": {\"standoff\": 15}, \"zerolinecolor\": \"white\", \"zerolinewidth\": 2}}}, \"title\": {\"text\": \"<i>Models Metrics by Split</i>\"}, \"xaxis\": {\"anchor\": \"y\", \"domain\": [0.0, 1.0], \"gridcolor\": \"#262B2F\", \"tickfont\": {\"color\": \"#818487\"}, \"title\": {\"text\": \"Loss\"}, \"zeroline\": false}, \"yaxis\": {\"anchor\": \"x\", \"domain\": [0.0, 1.0], \"gridcolor\": \"#262B2F\", \"tickfont\": {\"color\": \"#818487\"}, \"title\": {\"text\": \"R\\u00b2\"}, \"zeroline\": false}},\n",
       "                        {\"responsive\": true}\n",
       "                    ).then(function(){\n",
       "                            \n",
       "var gd = document.getElementById('f827738e-fcfb-417d-8a87-9168d8501602');\n",
       "var x = new MutationObserver(function (mutations, observer) {{\n",
       "        var display = window.getComputedStyle(gd).display;\n",
       "        if (!display || display === 'none') {{\n",
       "            console.log([gd, 'removed!']);\n",
       "            Plotly.purge(gd);\n",
       "            observer.disconnect();\n",
       "        }}\n",
       "}});\n",
       "\n",
       "// Listen for the removal of the full notebook cells\n",
       "var notebookContainer = gd.closest('#notebook-container');\n",
       "if (notebookContainer) {{\n",
       "    x.observe(notebookContainer, {childList: true});\n",
       "}}\n",
       "\n",
       "// Listen for the clearing of the current output cell\n",
       "var outputEl = gd.closest('.output');\n",
       "if (outputEl) {{\n",
       "    x.observe(outputEl, {childList: true});\n",
       "}}\n",
       "\n",
       "                        })\n",
       "                };\n",
       "                });\n",
       "            </script>\n",
       "        </div>"
      ]
     },
     "metadata": {},
     "output_type": "display_data"
    }
   ],
   "source": [
    "batch.plot_performance(max_loss=1000, min_metric_2=-1)"
   ]
  },
  {
   "cell_type": "code",
   "execution_count": 146,
   "metadata": {},
   "outputs": [
    {
     "data": {
      "application/vnd.plotly.v1+json": {
       "config": {
        "plotlyServerURL": "https://plot.ly"
       },
       "data": [
        {
         "hovertemplate": "variable=train_loss<br>index=%{x}<br>value=%{y}<extra></extra>",
         "legendgroup": "train_loss",
         "line": {
          "color": "#636efa",
          "dash": "solid",
          "shape": "linear"
         },
         "mode": "lines",
         "name": "train_loss",
         "showlegend": true,
         "type": "scattergl",
         "x": [
          90,
          91,
          92,
          93,
          94,
          95,
          96,
          97,
          98,
          99,
          100,
          101,
          102,
          103,
          104,
          105,
          106,
          107,
          108,
          109,
          110,
          111,
          112,
          113,
          114,
          115,
          116,
          117,
          118,
          119,
          120,
          121,
          122,
          123,
          124,
          125,
          126,
          127,
          128,
          129,
          130,
          131,
          132,
          133,
          134,
          135,
          136,
          137,
          138,
          139,
          140,
          141,
          142,
          143,
          144,
          145,
          146,
          147,
          148,
          149,
          150,
          151,
          152,
          153,
          154,
          155,
          156,
          157,
          158,
          159,
          160,
          161,
          162,
          163,
          164,
          165,
          166,
          167,
          168,
          169,
          170,
          171,
          172,
          173,
          174,
          175,
          176,
          177,
          178,
          179,
          180,
          181,
          182,
          183,
          184,
          185,
          186,
          187,
          188,
          189,
          190,
          191,
          192,
          193,
          194,
          195,
          196,
          197,
          198,
          199,
          200,
          201,
          202,
          203,
          204,
          205,
          206,
          207,
          208,
          209,
          210,
          211,
          212,
          213,
          214,
          215,
          216,
          217,
          218,
          219,
          220,
          221,
          222,
          223,
          224,
          225,
          226,
          227,
          228,
          229,
          230,
          231,
          232,
          233,
          234,
          235,
          236,
          237,
          238,
          239,
          240,
          241,
          242,
          243,
          244,
          245,
          246,
          247,
          248,
          249,
          250,
          251,
          252,
          253,
          254,
          255,
          256,
          257,
          258,
          259,
          260,
          261,
          262,
          263,
          264,
          265,
          266,
          267,
          268,
          269,
          270,
          271,
          272,
          273,
          274,
          275,
          276,
          277,
          278,
          279,
          280,
          281,
          282,
          283,
          284,
          285,
          286,
          287,
          288,
          289,
          290,
          291,
          292,
          293,
          294,
          295,
          296,
          297,
          298,
          299,
          300,
          301,
          302,
          303,
          304,
          305,
          306,
          307,
          308,
          309,
          310,
          311,
          312,
          313,
          314,
          315,
          316,
          317,
          318,
          319,
          320,
          321,
          322,
          323,
          324,
          325,
          326,
          327,
          328,
          329,
          330,
          331,
          332,
          333,
          334,
          335,
          336,
          337,
          338,
          339,
          340,
          341,
          342,
          343,
          344,
          345,
          346,
          347,
          348,
          349,
          350,
          351,
          352,
          353,
          354,
          355,
          356,
          357,
          358,
          359,
          360,
          361,
          362,
          363,
          364,
          365,
          366,
          367,
          368,
          369,
          370,
          371,
          372,
          373,
          374,
          375,
          376,
          377,
          378,
          379,
          380,
          381,
          382,
          383,
          384,
          385,
          386,
          387,
          388,
          389,
          390,
          391,
          392,
          393,
          394,
          395,
          396,
          397,
          398,
          399,
          400,
          401,
          402,
          403,
          404,
          405,
          406,
          407,
          408,
          409,
          410,
          411,
          412,
          413,
          414,
          415,
          416,
          417,
          418,
          419,
          420,
          421,
          422,
          423,
          424,
          425,
          426,
          427,
          428,
          429,
          430,
          431,
          432,
          433,
          434,
          435,
          436,
          437,
          438,
          439,
          440,
          441,
          442,
          443,
          444,
          445,
          446,
          447,
          448,
          449,
          450,
          451,
          452,
          453,
          454,
          455,
          456,
          457,
          458,
          459,
          460,
          461,
          462,
          463,
          464,
          465,
          466,
          467,
          468,
          469,
          470,
          471,
          472,
          473,
          474,
          475,
          476,
          477,
          478,
          479,
          480,
          481,
          482,
          483,
          484,
          485,
          486,
          487,
          488,
          489,
          490,
          491,
          492,
          493,
          494,
          495,
          496,
          497,
          498,
          499,
          500,
          501,
          502,
          503,
          504,
          505,
          506,
          507,
          508,
          509,
          510,
          511,
          512,
          513,
          514,
          515,
          516,
          517,
          518,
          519,
          520,
          521,
          522,
          523,
          524,
          525,
          526,
          527,
          528,
          529,
          530,
          531,
          532,
          533,
          534,
          535,
          536,
          537,
          538,
          539,
          540,
          541,
          542,
          543,
          544,
          545,
          546,
          547,
          548,
          549,
          550,
          551,
          552,
          553,
          554,
          555,
          556,
          557,
          558,
          559,
          560,
          561,
          562,
          563,
          564,
          565,
          566,
          567,
          568,
          569,
          570,
          571,
          572,
          573,
          574,
          575,
          576,
          577,
          578,
          579,
          580,
          581,
          582,
          583,
          584,
          585,
          586,
          587,
          588,
          589,
          590,
          591,
          592,
          593,
          594,
          595,
          596,
          597,
          598,
          599
         ],
         "xaxis": "x",
         "y": [
          286.541,
          256.781,
          317.059,
          326.129,
          289.767,
          241.563,
          282.256,
          275.476,
          262.03,
          283.061,
          282.03,
          257.536,
          261.23,
          288.155,
          269.005,
          269.009,
          220.877,
          221.349,
          211.901,
          197.872,
          199.819,
          184.104,
          184.991,
          175.317,
          178.671,
          168.678,
          163.663,
          161.902,
          162.079,
          164.319,
          166.716,
          166.606,
          173.417,
          177.469,
          158.184,
          165.102,
          165.732,
          157.922,
          158.346,
          150.704,
          172.243,
          170.986,
          162.157,
          157.671,
          183.046,
          153.955,
          157.312,
          155.717,
          152.399,
          163.389,
          159.612,
          175.084,
          193.508,
          186.482,
          140.816,
          138.989,
          139.228,
          139.369,
          138.98,
          140.556,
          141.833,
          139.937,
          139.189,
          140.406,
          140.377,
          141.32,
          140.561,
          140.312,
          139.442,
          139.17,
          140.657,
          141.944,
          139.539,
          139.809,
          139.949,
          140.312,
          138.958,
          140.847,
          140.2,
          141.132,
          139.404,
          139.38,
          139.86,
          140.21,
          139.719,
          140.692,
          140.814,
          138.866,
          140.628,
          141.018,
          142.333,
          141.971,
          141.926,
          142.489,
          142.159,
          143.571,
          140.868,
          139.193,
          143.042,
          140.534,
          141.29,
          139.421,
          140.407,
          140.018,
          142.37,
          140.33,
          141.424,
          141.968,
          141.052,
          142.327,
          139.979,
          140.473,
          142.14,
          140.121,
          139.111,
          143.288,
          140.784,
          144.73,
          139.616,
          139.683,
          143.144,
          143.569,
          139.881,
          142.875,
          142.253,
          139.545,
          142.472,
          139.783,
          139.15,
          139.999,
          137.883,
          141.01,
          141.827,
          140.273,
          140.698,
          139.893,
          141.571,
          140.051,
          139.807,
          141.209,
          141.145,
          139.98,
          139.086,
          139.943,
          139.156,
          140.531,
          140.074,
          140.265,
          141.657,
          141.03,
          139.477,
          141.318,
          141.97,
          139.301,
          138.867,
          141.226,
          141.012,
          139.072,
          138.295,
          141.1,
          140.634,
          139.917,
          140.469,
          139.612,
          139.935,
          139.056,
          140.782,
          138.23,
          140.806,
          140.965,
          140.265,
          138.401,
          142.142,
          139.492,
          139.997,
          138.661,
          141.352,
          139.255,
          140.057,
          138.909,
          142.316,
          140.554,
          139.483,
          138.609,
          140.543,
          138.356,
          141.577,
          142.721,
          137.982,
          141.316,
          141.253,
          140.54,
          139.755,
          140.526,
          142.799,
          139.877,
          139.599,
          139.943,
          139.329,
          138.877,
          141.976,
          139.215,
          139.3,
          139.343,
          138.594,
          140.914,
          139.532,
          141.741,
          139.991,
          141.019,
          140.453,
          138.845,
          139.837,
          139.928,
          139.35,
          140.332,
          138.527,
          141.467,
          141.048,
          140.358,
          139.509,
          141.437,
          138.809,
          139.13,
          139.553,
          139.207,
          139.142,
          140.008,
          140.633,
          140.576,
          139.142,
          141.235,
          139.433,
          141.641,
          140.948,
          138.789,
          140.132,
          140.035,
          139.061,
          140.609,
          138.978,
          140.873,
          140.482,
          138.466,
          140.425,
          139.708,
          139.827,
          140.38,
          139.525,
          141.749,
          140.46,
          139.344,
          139.01,
          139.085,
          139.049,
          141.473,
          139.792,
          138.9,
          139.53,
          139.547,
          140.455,
          140.339,
          138.964,
          139.618,
          139.929,
          139.816,
          138.778,
          139.319,
          138.246,
          139.597,
          140.512,
          139.36,
          141.41,
          139.546,
          138.968,
          139.321,
          139.264,
          139.914,
          140.55,
          138.585,
          139.34,
          139.846,
          140.187,
          140.316,
          139.947,
          138.878,
          139.376,
          137.582,
          141.926,
          139.337,
          140.077,
          140.833,
          140.222,
          139.01,
          139.083,
          140.619,
          139.407,
          139.857,
          139.306,
          139.953,
          139.888,
          140.117,
          138.989,
          139.493,
          140.448,
          139.967,
          139.765,
          139.247,
          138.842,
          141.342,
          138.467,
          138.925,
          140.132,
          141.43,
          140.129,
          139.1,
          140.155,
          139.084,
          139.346,
          142.674,
          139.317,
          139.039,
          139.551,
          139.392,
          141.457,
          138.66,
          140.071,
          139.22,
          139.08,
          138.792,
          138.836,
          139.406,
          139.665,
          138.964,
          139.129,
          138.621,
          140.428,
          140.65,
          138.885,
          139.4,
          138.776,
          141.572,
          139.632,
          138.231,
          141.228,
          140.703,
          139.291,
          138.832,
          138.973,
          138.367,
          139.613,
          140.996,
          139.379,
          140.029,
          139.243,
          139.809,
          140.463,
          139.459,
          139.566,
          140.229,
          139.639,
          139.797,
          141.985,
          138.754,
          140.789,
          139.315,
          138.848,
          140.527,
          139.404,
          139.072,
          139.125,
          139.723,
          140.142,
          138.972,
          139.216,
          140.849,
          138.712,
          139.364,
          139.093,
          139.262,
          139.209,
          138.638,
          139.284,
          139.366,
          138.717,
          139.096,
          138.651,
          139.775,
          141.732,
          139.441,
          139.305,
          139.082,
          138.719,
          138.559,
          139.118,
          138.569,
          140.134,
          139.066,
          139.057,
          139.301,
          140.818,
          138.942,
          140.686,
          139.144,
          139.041,
          140.916,
          139.668,
          139.176,
          138.967,
          139.663,
          139.314,
          139.296,
          139.305,
          139.013,
          139.252,
          140.169,
          138.649,
          139.584,
          139.634,
          139.239,
          139.655,
          138.98,
          139.475,
          138.87,
          139.362,
          139.92,
          138.742,
          139.282,
          140.64,
          139.946,
          138.694,
          138.885,
          139.694,
          139.023,
          139.746,
          138.851,
          141.093,
          138.754,
          139.03,
          139.401,
          139.224,
          139.95,
          138.625,
          139.006,
          140.234,
          139.576,
          139.114,
          139.746,
          138.985,
          140.806,
          140.318,
          139.723,
          141.452,
          139.546,
          139.867,
          139.2,
          139.069,
          138.845,
          139.231,
          140.166,
          140.346,
          138.958,
          139.45,
          139.003,
          139.265,
          139.678,
          139.203,
          139.914,
          139.065,
          138.908,
          138.718,
          140.199,
          139.733,
          138.412,
          140.124,
          139.126,
          139.982,
          138.902,
          139.29,
          139.252,
          138.776,
          139.208,
          139.271,
          139.827,
          139.044,
          138.958,
          138.966,
          139.025,
          138.852,
          138.93,
          138.906,
          138.763,
          140.459,
          139.762,
          139.476,
          138.759,
          140.14,
          139.119,
          138.596,
          139.631,
          138.601,
          139.078,
          138.759,
          138.885,
          138.681,
          139.635,
          138.95,
          140.377,
          139.382,
          139.065
         ],
         "yaxis": "y"
        },
        {
         "hovertemplate": "variable=validation_loss<br>index=%{x}<br>value=%{y}<extra></extra>",
         "legendgroup": "validation_loss",
         "line": {
          "color": "#EF553B",
          "dash": "solid",
          "shape": "linear"
         },
         "mode": "lines",
         "name": "validation_loss",
         "showlegend": true,
         "type": "scattergl",
         "x": [
          90,
          91,
          92,
          93,
          94,
          95,
          96,
          97,
          98,
          99,
          100,
          101,
          102,
          103,
          104,
          105,
          106,
          107,
          108,
          109,
          110,
          111,
          112,
          113,
          114,
          115,
          116,
          117,
          118,
          119,
          120,
          121,
          122,
          123,
          124,
          125,
          126,
          127,
          128,
          129,
          130,
          131,
          132,
          133,
          134,
          135,
          136,
          137,
          138,
          139,
          140,
          141,
          142,
          143,
          144,
          145,
          146,
          147,
          148,
          149,
          150,
          151,
          152,
          153,
          154,
          155,
          156,
          157,
          158,
          159,
          160,
          161,
          162,
          163,
          164,
          165,
          166,
          167,
          168,
          169,
          170,
          171,
          172,
          173,
          174,
          175,
          176,
          177,
          178,
          179,
          180,
          181,
          182,
          183,
          184,
          185,
          186,
          187,
          188,
          189,
          190,
          191,
          192,
          193,
          194,
          195,
          196,
          197,
          198,
          199,
          200,
          201,
          202,
          203,
          204,
          205,
          206,
          207,
          208,
          209,
          210,
          211,
          212,
          213,
          214,
          215,
          216,
          217,
          218,
          219,
          220,
          221,
          222,
          223,
          224,
          225,
          226,
          227,
          228,
          229,
          230,
          231,
          232,
          233,
          234,
          235,
          236,
          237,
          238,
          239,
          240,
          241,
          242,
          243,
          244,
          245,
          246,
          247,
          248,
          249,
          250,
          251,
          252,
          253,
          254,
          255,
          256,
          257,
          258,
          259,
          260,
          261,
          262,
          263,
          264,
          265,
          266,
          267,
          268,
          269,
          270,
          271,
          272,
          273,
          274,
          275,
          276,
          277,
          278,
          279,
          280,
          281,
          282,
          283,
          284,
          285,
          286,
          287,
          288,
          289,
          290,
          291,
          292,
          293,
          294,
          295,
          296,
          297,
          298,
          299,
          300,
          301,
          302,
          303,
          304,
          305,
          306,
          307,
          308,
          309,
          310,
          311,
          312,
          313,
          314,
          315,
          316,
          317,
          318,
          319,
          320,
          321,
          322,
          323,
          324,
          325,
          326,
          327,
          328,
          329,
          330,
          331,
          332,
          333,
          334,
          335,
          336,
          337,
          338,
          339,
          340,
          341,
          342,
          343,
          344,
          345,
          346,
          347,
          348,
          349,
          350,
          351,
          352,
          353,
          354,
          355,
          356,
          357,
          358,
          359,
          360,
          361,
          362,
          363,
          364,
          365,
          366,
          367,
          368,
          369,
          370,
          371,
          372,
          373,
          374,
          375,
          376,
          377,
          378,
          379,
          380,
          381,
          382,
          383,
          384,
          385,
          386,
          387,
          388,
          389,
          390,
          391,
          392,
          393,
          394,
          395,
          396,
          397,
          398,
          399,
          400,
          401,
          402,
          403,
          404,
          405,
          406,
          407,
          408,
          409,
          410,
          411,
          412,
          413,
          414,
          415,
          416,
          417,
          418,
          419,
          420,
          421,
          422,
          423,
          424,
          425,
          426,
          427,
          428,
          429,
          430,
          431,
          432,
          433,
          434,
          435,
          436,
          437,
          438,
          439,
          440,
          441,
          442,
          443,
          444,
          445,
          446,
          447,
          448,
          449,
          450,
          451,
          452,
          453,
          454,
          455,
          456,
          457,
          458,
          459,
          460,
          461,
          462,
          463,
          464,
          465,
          466,
          467,
          468,
          469,
          470,
          471,
          472,
          473,
          474,
          475,
          476,
          477,
          478,
          479,
          480,
          481,
          482,
          483,
          484,
          485,
          486,
          487,
          488,
          489,
          490,
          491,
          492,
          493,
          494,
          495,
          496,
          497,
          498,
          499,
          500,
          501,
          502,
          503,
          504,
          505,
          506,
          507,
          508,
          509,
          510,
          511,
          512,
          513,
          514,
          515,
          516,
          517,
          518,
          519,
          520,
          521,
          522,
          523,
          524,
          525,
          526,
          527,
          528,
          529,
          530,
          531,
          532,
          533,
          534,
          535,
          536,
          537,
          538,
          539,
          540,
          541,
          542,
          543,
          544,
          545,
          546,
          547,
          548,
          549,
          550,
          551,
          552,
          553,
          554,
          555,
          556,
          557,
          558,
          559,
          560,
          561,
          562,
          563,
          564,
          565,
          566,
          567,
          568,
          569,
          570,
          571,
          572,
          573,
          574,
          575,
          576,
          577,
          578,
          579,
          580,
          581,
          582,
          583,
          584,
          585,
          586,
          587,
          588,
          589,
          590,
          591,
          592,
          593,
          594,
          595,
          596,
          597,
          598,
          599
         ],
         "xaxis": "x",
         "y": [
          273.815,
          291.008,
          276.286,
          379.603,
          257.736,
          315.928,
          360.015,
          244.187,
          262.283,
          237.38,
          270.733,
          316.713,
          264.972,
          345.557,
          219.028,
          220.924,
          212.077,
          208.951,
          237.361,
          290.72,
          264.161,
          239.661,
          231.948,
          188.733,
          189.079,
          198.404,
          199.59,
          185.722,
          181.492,
          178.607,
          178.529,
          176.494,
          182.192,
          176.659,
          188.239,
          190.252,
          183.983,
          174.678,
          190.98,
          181.758,
          173.582,
          171.249,
          198.68,
          168.106,
          194.394,
          198.891,
          173.862,
          211.599,
          166.729,
          179.561,
          197.926,
          302.867,
          273.439,
          147.804,
          145.396,
          143.37,
          143.187,
          144.433,
          143.116,
          143.265,
          143.418,
          143.123,
          143.771,
          143.097,
          144.139,
          143.343,
          145.097,
          143.348,
          143.615,
          143.141,
          147.469,
          149.611,
          143.103,
          143.355,
          143.501,
          144.622,
          144.239,
          143.322,
          143.097,
          143.365,
          143.165,
          149.444,
          143.716,
          143.635,
          146.631,
          144.911,
          146.929,
          154.019,
          143.097,
          143.167,
          144.595,
          143.432,
          144.504,
          144.217,
          143.205,
          145.491,
          144.065,
          147.262,
          144.453,
          143.283,
          144.134,
          143.574,
          143.666,
          144.406,
          143.227,
          146.239,
          143.119,
          144.031,
          143.99,
          146.075,
          145.455,
          148.773,
          143.263,
          143.474,
          143.13,
          143.275,
          143.119,
          143.535,
          143.21,
          145.249,
          144.695,
          143.129,
          143.395,
          143.775,
          144.092,
          143.114,
          143.098,
          143.113,
          143.145,
          143.977,
          151.227,
          144.269,
          144.525,
          143.329,
          144.852,
          143.362,
          153.535,
          147.657,
          143.72,
          143.336,
          143.605,
          143.682,
          143.118,
          143.098,
          144.368,
          144.032,
          146.93,
          149.878,
          144.278,
          143.216,
          143.523,
          147.678,
          143.323,
          143.261,
          143.794,
          143.781,
          145.698,
          144.887,
          147.288,
          143.504,
          143.124,
          143.47,
          144.116,
          143.187,
          144.007,
          143.184,
          145.937,
          144.154,
          145.121,
          146.837,
          143.271,
          147.257,
          143.535,
          143.246,
          143.114,
          146.882,
          143.289,
          143.096,
          143.102,
          144.175,
          143.197,
          143.159,
          143.097,
          147.552,
          143.253,
          146.804,
          143.137,
          147.346,
          146.264,
          143.678,
          143.098,
          143.111,
          146.325,
          143.105,
          144.255,
          147.353,
          143.142,
          143.784,
          143.187,
          143.316,
          143.52,
          146.959,
          143.097,
          143.2,
          146.385,
          143.695,
          143.282,
          144.238,
          148.104,
          143.32,
          143.617,
          143.458,
          146.061,
          143.099,
          146.682,
          143.472,
          144.771,
          143.1,
          145.714,
          143.128,
          143.126,
          143.214,
          148.789,
          143.122,
          143.122,
          143.445,
          143.322,
          143.336,
          149.062,
          143.115,
          143.096,
          143.097,
          143.096,
          143.199,
          143.098,
          145.73,
          143.096,
          143.203,
          144.993,
          143.212,
          143.972,
          143.342,
          144.859,
          145.501,
          145.166,
          144.263,
          143.096,
          143.201,
          143.838,
          143.251,
          143.273,
          143.096,
          145.232,
          144.056,
          146.081,
          144.03,
          143.17,
          143.42,
          143.281,
          143.489,
          143.874,
          143.642,
          144.614,
          143.223,
          143.153,
          143.203,
          143.667,
          143.663,
          147.749,
          143.299,
          143.201,
          147.166,
          143.253,
          143.183,
          143.798,
          143.098,
          145.351,
          144.574,
          143.623,
          143.139,
          143.568,
          143.225,
          143.31,
          145.747,
          143.119,
          143.194,
          143.339,
          150.81,
          143.393,
          145.183,
          144.382,
          146.698,
          144.198,
          143.168,
          144.333,
          143.214,
          143.589,
          143.716,
          143.567,
          144.165,
          143.785,
          144.221,
          143.098,
          143.284,
          143.4,
          143.647,
          143.44,
          143.256,
          144.468,
          146.195,
          143.446,
          145.386,
          145.917,
          143.262,
          143.369,
          143.599,
          143.721,
          144.329,
          143.951,
          143.159,
          143.115,
          145.639,
          143.355,
          143.251,
          143.523,
          143.744,
          145.05,
          143.462,
          143.1,
          144.02,
          143.12,
          143.599,
          143.116,
          143.6,
          144.79,
          143.126,
          144.281,
          143.096,
          143.231,
          143.116,
          146.601,
          143.096,
          143.753,
          143.315,
          143.191,
          143.355,
          143.293,
          143.112,
          145.534,
          144.125,
          143.147,
          143.1,
          143.103,
          143.557,
          143.734,
          143.991,
          143.096,
          143.096,
          143.336,
          143.126,
          143.349,
          143.366,
          143.782,
          145.101,
          143.276,
          143.209,
          144.281,
          143.405,
          144.139,
          144.19,
          144.187,
          143.59,
          147.05,
          143.126,
          144.426,
          145.039,
          143.398,
          143.096,
          143.138,
          143.137,
          143.11,
          144.03,
          143.169,
          143.098,
          143.494,
          143.113,
          145.125,
          145.147,
          143.316,
          143.122,
          143.35,
          143.11,
          143.388,
          143.125,
          143.481,
          143.096,
          144.011,
          144.828,
          143.098,
          143.508,
          143.186,
          143.096,
          143.205,
          143.723,
          143.778,
          144.215,
          143.143,
          143.179,
          143.101,
          143.643,
          143.656,
          144.866,
          143.473,
          143.285,
          143.386,
          143.1,
          145.973,
          143.173,
          143.113,
          143.108,
          143.129,
          143.151,
          143.219,
          143.253,
          143.155,
          143.123,
          143.203,
          143.312,
          143.099,
          143.276,
          143.775,
          143.145,
          143.981,
          143.103,
          143.107,
          143.161,
          143.363,
          143.927,
          143.107,
          143.121,
          144.562,
          145.558,
          143.137,
          143.239,
          144.247,
          145.083,
          143.153,
          144.085,
          144.466,
          143.144,
          143.174,
          143.134,
          143.388,
          143.187,
          143.392,
          144.505,
          144.466,
          143.24,
          143.097,
          143.111,
          143.322,
          143.1,
          143.565,
          143.58,
          143.097,
          143.199,
          143.833,
          144.289,
          143.482,
          143.345,
          143.2,
          143.772,
          143.251,
          144.212,
          143.504,
          143.426,
          143.385,
          143.135,
          143.097,
          143.155,
          145.428,
          143.105,
          143.381,
          144.362,
          144.383,
          143.197,
          143.149,
          144.093,
          143.096,
          143.459,
          143.11,
          143.486,
          145.308,
          143.885,
          144.141,
          143.464,
          143.777,
          143.17,
          143.125,
          143.388,
          144.007,
          143.776,
          143.19,
          143.58,
          143.242,
          143.116,
          143.729,
          144.327,
          143.449,
          143.404
         ],
         "yaxis": "y"
        }
       ],
       "layout": {
        "autosize": true,
        "font": {
         "color": "#FAFAFA",
         "family": "Avenir"
        },
        "hoverlabel": {
         "bgcolor": "#0F0F0F",
         "font": {
          "family": "Avenir",
          "size": 15
         }
        },
        "legend": {
         "orientation": "h",
         "title": {},
         "tracegroupgap": 0,
         "x": 1,
         "xanchor": "right",
         "y": 1.02,
         "yanchor": "bottom"
        },
        "margin": {
         "b": 0,
         "t": 5
        },
        "paper_bgcolor": "#181B1E",
        "plot_bgcolor": "#181B1E",
        "template": {
         "data": {
          "bar": [
           {
            "error_x": {
             "color": "#2a3f5f"
            },
            "error_y": {
             "color": "#2a3f5f"
            },
            "marker": {
             "line": {
              "color": "#E5ECF6",
              "width": 0.5
             }
            },
            "type": "bar"
           }
          ],
          "barpolar": [
           {
            "marker": {
             "line": {
              "color": "#E5ECF6",
              "width": 0.5
             }
            },
            "type": "barpolar"
           }
          ],
          "carpet": [
           {
            "aaxis": {
             "endlinecolor": "#2a3f5f",
             "gridcolor": "white",
             "linecolor": "white",
             "minorgridcolor": "white",
             "startlinecolor": "#2a3f5f"
            },
            "baxis": {
             "endlinecolor": "#2a3f5f",
             "gridcolor": "white",
             "linecolor": "white",
             "minorgridcolor": "white",
             "startlinecolor": "#2a3f5f"
            },
            "type": "carpet"
           }
          ],
          "choropleth": [
           {
            "colorbar": {
             "outlinewidth": 0,
             "ticks": ""
            },
            "type": "choropleth"
           }
          ],
          "contour": [
           {
            "colorbar": {
             "outlinewidth": 0,
             "ticks": ""
            },
            "colorscale": [
             [
              0,
              "#0d0887"
             ],
             [
              0.1111111111111111,
              "#46039f"
             ],
             [
              0.2222222222222222,
              "#7201a8"
             ],
             [
              0.3333333333333333,
              "#9c179e"
             ],
             [
              0.4444444444444444,
              "#bd3786"
             ],
             [
              0.5555555555555556,
              "#d8576b"
             ],
             [
              0.6666666666666666,
              "#ed7953"
             ],
             [
              0.7777777777777778,
              "#fb9f3a"
             ],
             [
              0.8888888888888888,
              "#fdca26"
             ],
             [
              1,
              "#f0f921"
             ]
            ],
            "type": "contour"
           }
          ],
          "contourcarpet": [
           {
            "colorbar": {
             "outlinewidth": 0,
             "ticks": ""
            },
            "type": "contourcarpet"
           }
          ],
          "heatmap": [
           {
            "colorbar": {
             "outlinewidth": 0,
             "ticks": ""
            },
            "colorscale": [
             [
              0,
              "#0d0887"
             ],
             [
              0.1111111111111111,
              "#46039f"
             ],
             [
              0.2222222222222222,
              "#7201a8"
             ],
             [
              0.3333333333333333,
              "#9c179e"
             ],
             [
              0.4444444444444444,
              "#bd3786"
             ],
             [
              0.5555555555555556,
              "#d8576b"
             ],
             [
              0.6666666666666666,
              "#ed7953"
             ],
             [
              0.7777777777777778,
              "#fb9f3a"
             ],
             [
              0.8888888888888888,
              "#fdca26"
             ],
             [
              1,
              "#f0f921"
             ]
            ],
            "type": "heatmap"
           }
          ],
          "heatmapgl": [
           {
            "colorbar": {
             "outlinewidth": 0,
             "ticks": ""
            },
            "colorscale": [
             [
              0,
              "#0d0887"
             ],
             [
              0.1111111111111111,
              "#46039f"
             ],
             [
              0.2222222222222222,
              "#7201a8"
             ],
             [
              0.3333333333333333,
              "#9c179e"
             ],
             [
              0.4444444444444444,
              "#bd3786"
             ],
             [
              0.5555555555555556,
              "#d8576b"
             ],
             [
              0.6666666666666666,
              "#ed7953"
             ],
             [
              0.7777777777777778,
              "#fb9f3a"
             ],
             [
              0.8888888888888888,
              "#fdca26"
             ],
             [
              1,
              "#f0f921"
             ]
            ],
            "type": "heatmapgl"
           }
          ],
          "histogram": [
           {
            "marker": {
             "colorbar": {
              "outlinewidth": 0,
              "ticks": ""
             }
            },
            "type": "histogram"
           }
          ],
          "histogram2d": [
           {
            "colorbar": {
             "outlinewidth": 0,
             "ticks": ""
            },
            "colorscale": [
             [
              0,
              "#0d0887"
             ],
             [
              0.1111111111111111,
              "#46039f"
             ],
             [
              0.2222222222222222,
              "#7201a8"
             ],
             [
              0.3333333333333333,
              "#9c179e"
             ],
             [
              0.4444444444444444,
              "#bd3786"
             ],
             [
              0.5555555555555556,
              "#d8576b"
             ],
             [
              0.6666666666666666,
              "#ed7953"
             ],
             [
              0.7777777777777778,
              "#fb9f3a"
             ],
             [
              0.8888888888888888,
              "#fdca26"
             ],
             [
              1,
              "#f0f921"
             ]
            ],
            "type": "histogram2d"
           }
          ],
          "histogram2dcontour": [
           {
            "colorbar": {
             "outlinewidth": 0,
             "ticks": ""
            },
            "colorscale": [
             [
              0,
              "#0d0887"
             ],
             [
              0.1111111111111111,
              "#46039f"
             ],
             [
              0.2222222222222222,
              "#7201a8"
             ],
             [
              0.3333333333333333,
              "#9c179e"
             ],
             [
              0.4444444444444444,
              "#bd3786"
             ],
             [
              0.5555555555555556,
              "#d8576b"
             ],
             [
              0.6666666666666666,
              "#ed7953"
             ],
             [
              0.7777777777777778,
              "#fb9f3a"
             ],
             [
              0.8888888888888888,
              "#fdca26"
             ],
             [
              1,
              "#f0f921"
             ]
            ],
            "type": "histogram2dcontour"
           }
          ],
          "mesh3d": [
           {
            "colorbar": {
             "outlinewidth": 0,
             "ticks": ""
            },
            "type": "mesh3d"
           }
          ],
          "parcoords": [
           {
            "line": {
             "colorbar": {
              "outlinewidth": 0,
              "ticks": ""
             }
            },
            "type": "parcoords"
           }
          ],
          "pie": [
           {
            "automargin": true,
            "type": "pie"
           }
          ],
          "scatter": [
           {
            "marker": {
             "colorbar": {
              "outlinewidth": 0,
              "ticks": ""
             }
            },
            "type": "scatter"
           }
          ],
          "scatter3d": [
           {
            "line": {
             "colorbar": {
              "outlinewidth": 0,
              "ticks": ""
             }
            },
            "marker": {
             "colorbar": {
              "outlinewidth": 0,
              "ticks": ""
             }
            },
            "type": "scatter3d"
           }
          ],
          "scattercarpet": [
           {
            "marker": {
             "colorbar": {
              "outlinewidth": 0,
              "ticks": ""
             }
            },
            "type": "scattercarpet"
           }
          ],
          "scattergeo": [
           {
            "marker": {
             "colorbar": {
              "outlinewidth": 0,
              "ticks": ""
             }
            },
            "type": "scattergeo"
           }
          ],
          "scattergl": [
           {
            "marker": {
             "colorbar": {
              "outlinewidth": 0,
              "ticks": ""
             }
            },
            "type": "scattergl"
           }
          ],
          "scattermapbox": [
           {
            "marker": {
             "colorbar": {
              "outlinewidth": 0,
              "ticks": ""
             }
            },
            "type": "scattermapbox"
           }
          ],
          "scatterpolar": [
           {
            "marker": {
             "colorbar": {
              "outlinewidth": 0,
              "ticks": ""
             }
            },
            "type": "scatterpolar"
           }
          ],
          "scatterpolargl": [
           {
            "marker": {
             "colorbar": {
              "outlinewidth": 0,
              "ticks": ""
             }
            },
            "type": "scatterpolargl"
           }
          ],
          "scatterternary": [
           {
            "marker": {
             "colorbar": {
              "outlinewidth": 0,
              "ticks": ""
             }
            },
            "type": "scatterternary"
           }
          ],
          "surface": [
           {
            "colorbar": {
             "outlinewidth": 0,
             "ticks": ""
            },
            "colorscale": [
             [
              0,
              "#0d0887"
             ],
             [
              0.1111111111111111,
              "#46039f"
             ],
             [
              0.2222222222222222,
              "#7201a8"
             ],
             [
              0.3333333333333333,
              "#9c179e"
             ],
             [
              0.4444444444444444,
              "#bd3786"
             ],
             [
              0.5555555555555556,
              "#d8576b"
             ],
             [
              0.6666666666666666,
              "#ed7953"
             ],
             [
              0.7777777777777778,
              "#fb9f3a"
             ],
             [
              0.8888888888888888,
              "#fdca26"
             ],
             [
              1,
              "#f0f921"
             ]
            ],
            "type": "surface"
           }
          ],
          "table": [
           {
            "cells": {
             "fill": {
              "color": "#EBF0F8"
             },
             "line": {
              "color": "white"
             }
            },
            "header": {
             "fill": {
              "color": "#C8D4E3"
             },
             "line": {
              "color": "white"
             }
            },
            "type": "table"
           }
          ]
         },
         "layout": {
          "annotationdefaults": {
           "arrowcolor": "#2a3f5f",
           "arrowhead": 0,
           "arrowwidth": 1
          },
          "coloraxis": {
           "colorbar": {
            "outlinewidth": 0,
            "ticks": ""
           }
          },
          "colorscale": {
           "diverging": [
            [
             0,
             "#8e0152"
            ],
            [
             0.1,
             "#c51b7d"
            ],
            [
             0.2,
             "#de77ae"
            ],
            [
             0.3,
             "#f1b6da"
            ],
            [
             0.4,
             "#fde0ef"
            ],
            [
             0.5,
             "#f7f7f7"
            ],
            [
             0.6,
             "#e6f5d0"
            ],
            [
             0.7,
             "#b8e186"
            ],
            [
             0.8,
             "#7fbc41"
            ],
            [
             0.9,
             "#4d9221"
            ],
            [
             1,
             "#276419"
            ]
           ],
           "sequential": [
            [
             0,
             "#0d0887"
            ],
            [
             0.1111111111111111,
             "#46039f"
            ],
            [
             0.2222222222222222,
             "#7201a8"
            ],
            [
             0.3333333333333333,
             "#9c179e"
            ],
            [
             0.4444444444444444,
             "#bd3786"
            ],
            [
             0.5555555555555556,
             "#d8576b"
            ],
            [
             0.6666666666666666,
             "#ed7953"
            ],
            [
             0.7777777777777778,
             "#fb9f3a"
            ],
            [
             0.8888888888888888,
             "#fdca26"
            ],
            [
             1,
             "#f0f921"
            ]
           ],
           "sequentialminus": [
            [
             0,
             "#0d0887"
            ],
            [
             0.1111111111111111,
             "#46039f"
            ],
            [
             0.2222222222222222,
             "#7201a8"
            ],
            [
             0.3333333333333333,
             "#9c179e"
            ],
            [
             0.4444444444444444,
             "#bd3786"
            ],
            [
             0.5555555555555556,
             "#d8576b"
            ],
            [
             0.6666666666666666,
             "#ed7953"
            ],
            [
             0.7777777777777778,
             "#fb9f3a"
            ],
            [
             0.8888888888888888,
             "#fdca26"
            ],
            [
             1,
             "#f0f921"
            ]
           ]
          },
          "colorway": [
           "#636efa",
           "#EF553B",
           "#00cc96",
           "#ab63fa",
           "#FFA15A",
           "#19d3f3",
           "#FF6692",
           "#B6E880",
           "#FF97FF",
           "#FECB52"
          ],
          "font": {
           "color": "#2a3f5f"
          },
          "geo": {
           "bgcolor": "white",
           "lakecolor": "white",
           "landcolor": "#E5ECF6",
           "showlakes": true,
           "showland": true,
           "subunitcolor": "white"
          },
          "hoverlabel": {
           "align": "left"
          },
          "hovermode": "closest",
          "mapbox": {
           "style": "light"
          },
          "paper_bgcolor": "white",
          "plot_bgcolor": "#E5ECF6",
          "polar": {
           "angularaxis": {
            "gridcolor": "white",
            "linecolor": "white",
            "ticks": ""
           },
           "bgcolor": "#E5ECF6",
           "radialaxis": {
            "gridcolor": "white",
            "linecolor": "white",
            "ticks": ""
           }
          },
          "scene": {
           "xaxis": {
            "backgroundcolor": "#E5ECF6",
            "gridcolor": "white",
            "gridwidth": 2,
            "linecolor": "white",
            "showbackground": true,
            "ticks": "",
            "zerolinecolor": "white"
           },
           "yaxis": {
            "backgroundcolor": "#E5ECF6",
            "gridcolor": "white",
            "gridwidth": 2,
            "linecolor": "white",
            "showbackground": true,
            "ticks": "",
            "zerolinecolor": "white"
           },
           "zaxis": {
            "backgroundcolor": "#E5ECF6",
            "gridcolor": "white",
            "gridwidth": 2,
            "linecolor": "white",
            "showbackground": true,
            "ticks": "",
            "zerolinecolor": "white"
           }
          },
          "shapedefaults": {
           "line": {
            "color": "#2a3f5f"
           }
          },
          "ternary": {
           "aaxis": {
            "gridcolor": "white",
            "linecolor": "white",
            "ticks": ""
           },
           "baxis": {
            "gridcolor": "white",
            "linecolor": "white",
            "ticks": ""
           },
           "bgcolor": "#E5ECF6",
           "caxis": {
            "gridcolor": "white",
            "linecolor": "white",
            "ticks": ""
           }
          },
          "title": {
           "x": 0.05
          },
          "xaxis": {
           "automargin": true,
           "gridcolor": "white",
           "linecolor": "white",
           "ticks": "",
           "title": {
            "standoff": 15
           },
           "zerolinecolor": "white",
           "zerolinewidth": 2
          },
          "yaxis": {
           "automargin": true,
           "gridcolor": "white",
           "linecolor": "white",
           "ticks": "",
           "title": {
            "standoff": 15
           },
           "zerolinecolor": "white",
           "zerolinewidth": 2
          }
         }
        },
        "title": {
         "text": "<i>Training History: Loss</i>"
        },
        "xaxis": {
         "anchor": "y",
         "autorange": true,
         "domain": [
          0,
          1
         ],
         "gridcolor": "#262B2F",
         "range": [
          90,
          599
         ],
         "tickfont": {
          "color": "#818487"
         },
         "title": {
          "text": "Epochs"
         },
         "type": "linear",
         "zeroline": false
        },
        "yaxis": {
         "anchor": "x",
         "autorange": true,
         "domain": [
          0,
          1
         ],
         "gridcolor": "#262B2F",
         "nticks": 9,
         "range": [
          124.13638888888889,
          393.04861111111114
         ],
         "side": "right",
         "tick0": -1,
         "tickfont": {
          "color": "#818487"
         },
         "tickmode": "auto",
         "title": {
          "text": "Loss"
         },
         "type": "linear",
         "zeroline": false
        }
       }
      },
      "image/png": "[encoded data removed]",
      "text/html": [
       "<div>\n",
       "        \n",
       "        \n",
       "            <div id=\"e0ac00d9-6e18-4556-92d5-3a02bb1e3549\" class=\"plotly-graph-div\" style=\"height:400px; width:100%;\"></div>\n",
       "            <script type=\"text/javascript\">\n",
       "                require([\"plotly\"], function(Plotly) {\n",
       "                    window.PLOTLYENV=window.PLOTLYENV || {};\n",
       "                    \n",
       "                if (document.getElementById(\"e0ac00d9-6e18-4556-92d5-3a02bb1e3549\")) {\n",
       "                    Plotly.newPlot(\n",
       "                        'e0ac00d9-6e18-4556-92d5-3a02bb1e3549',\n",
       "                        [{\"hovertemplate\": \"variable=train_loss<br>index=%{x}<br>value=%{y}<extra></extra>\", \"legendgroup\": \"train_loss\", \"line\": {\"color\": \"#636efa\", \"dash\": \"solid\", \"shape\": \"linear\"}, \"mode\": \"lines\", \"name\": \"train_loss\", \"showlegend\": true, \"type\": \"scattergl\", \"x\": [90, 91, 92, 93, 94, 95, 96, 97, 98, 99, 100, 101, 102, 103, 104, 105, 106, 107, 108, 109, 110, 111, 112, 113, 114, 115, 116, 117, 118, 119, 120, 121, 122, 123, 124, 125, 126, 127, 128, 129, 130, 131, 132, 133, 134, 135, 136, 137, 138, 139, 140, 141, 142, 143, 144, 145, 146, 147, 148, 149, 150, 151, 152, 153, 154, 155, 156, 157, 158, 159, 160, 161, 162, 163, 164, 165, 166, 167, 168, 169, 170, 171, 172, 173, 174, 175, 176, 177, 178, 179, 180, 181, 182, 183, 184, 185, 186, 187, 188, 189, 190, 191, 192, 193, 194, 195, 196, 197, 198, 199, 200, 201, 202, 203, 204, 205, 206, 207, 208, 209, 210, 211, 212, 213, 214, 215, 216, 217, 218, 219, 220, 221, 222, 223, 224, 225, 226, 227, 228, 229, 230, 231, 232, 233, 234, 235, 236, 237, 238, 239, 240, 241, 242, 243, 244, 245, 246, 247, 248, 249, 250, 251, 252, 253, 254, 255, 256, 257, 258, 259, 260, 261, 262, 263, 264, 265, 266, 267, 268, 269, 270, 271, 272, 273, 274, 275, 276, 277, 278, 279, 280, 281, 282, 283, 284, 285, 286, 287, 288, 289, 290, 291, 292, 293, 294, 295, 296, 297, 298, 299, 300, 301, 302, 303, 304, 305, 306, 307, 308, 309, 310, 311, 312, 313, 314, 315, 316, 317, 318, 319, 320, 321, 322, 323, 324, 325, 326, 327, 328, 329, 330, 331, 332, 333, 334, 335, 336, 337, 338, 339, 340, 341, 342, 343, 344, 345, 346, 347, 348, 349, 350, 351, 352, 353, 354, 355, 356, 357, 358, 359, 360, 361, 362, 363, 364, 365, 366, 367, 368, 369, 370, 371, 372, 373, 374, 375, 376, 377, 378, 379, 380, 381, 382, 383, 384, 385, 386, 387, 388, 389, 390, 391, 392, 393, 394, 395, 396, 397, 398, 399, 400, 401, 402, 403, 404, 405, 406, 407, 408, 409, 410, 411, 412, 413, 414, 415, 416, 417, 418, 419, 420, 421, 422, 423, 424, 425, 426, 427, 428, 429, 430, 431, 432, 433, 434, 435, 436, 437, 438, 439, 440, 441, 442, 443, 444, 445, 446, 447, 448, 449, 450, 451, 452, 453, 454, 455, 456, 457, 458, 459, 460, 461, 462, 463, 464, 465, 466, 467, 468, 469, 470, 471, 472, 473, 474, 475, 476, 477, 478, 479, 480, 481, 482, 483, 484, 485, 486, 487, 488, 489, 490, 491, 492, 493, 494, 495, 496, 497, 498, 499, 500, 501, 502, 503, 504, 505, 506, 507, 508, 509, 510, 511, 512, 513, 514, 515, 516, 517, 518, 519, 520, 521, 522, 523, 524, 525, 526, 527, 528, 529, 530, 531, 532, 533, 534, 535, 536, 537, 538, 539, 540, 541, 542, 543, 544, 545, 546, 547, 548, 549, 550, 551, 552, 553, 554, 555, 556, 557, 558, 559, 560, 561, 562, 563, 564, 565, 566, 567, 568, 569, 570, 571, 572, 573, 574, 575, 576, 577, 578, 579, 580, 581, 582, 583, 584, 585, 586, 587, 588, 589, 590, 591, 592, 593, 594, 595, 596, 597, 598, 599], \"xaxis\": \"x\", \"y\": [286.541, 256.781, 317.059, 326.129, 289.767, 241.563, 282.256, 275.476, 262.03, 283.061, 282.03, 257.536, 261.23, 288.155, 269.005, 269.009, 220.877, 221.349, 211.901, 197.872, 199.819, 184.104, 184.991, 175.317, 178.671, 168.678, 163.663, 161.902, 162.079, 164.319, 166.716, 166.606, 173.417, 177.469, 158.184, 165.102, 165.732, 157.922, 158.346, 150.704, 172.243, 170.986, 162.157, 157.671, 183.046, 153.955, 157.312, 155.717, 152.399, 163.389, 159.612, 175.084, 193.508, 186.482, 140.816, 138.989, 139.228, 139.369, 138.98, 140.556, 141.833, 139.937, 139.189, 140.406, 140.377, 141.32, 140.561, 140.312, 139.442, 139.17, 140.657, 141.944, 139.539, 139.809, 139.949, 140.312, 138.958, 140.847, 140.2, 141.132, 139.404, 139.38, 139.86, 140.21, 139.719, 140.692, 140.814, 138.866, 140.628, 141.018, 142.333, 141.971, 141.926, 142.489, 142.159, 143.571, 140.868, 139.193, 143.042, 140.534, 141.29, 139.421, 140.407, 140.018, 142.37, 140.33, 141.424, 141.968, 141.052, 142.327, 139.979, 140.473, 142.14, 140.121, 139.111, 143.288, 140.784, 144.73, 139.616, 139.683, 143.144, 143.569, 139.881, 142.875, 142.253, 139.545, 142.472, 139.783, 139.15, 139.999, 137.883, 141.01, 141.827, 140.273, 140.698, 139.893, 141.571, 140.051, 139.807, 141.209, 141.145, 139.98, 139.086, 139.943, 139.156, 140.531, 140.074, 140.265, 141.657, 141.03, 139.477, 141.318, 141.97, 139.301, 138.867, 141.226, 141.012, 139.072, 138.295, 141.1, 140.634, 139.917, 140.469, 139.612, 139.935, 139.056, 140.782, 138.23, 140.806, 140.965, 140.265, 138.401, 142.142, 139.492, 139.997, 138.661, 141.352, 139.255, 140.057, 138.909, 142.316, 140.554, 139.483, 138.609, 140.543, 138.356, 141.577, 142.721, 137.982, 141.316, 141.253, 140.54, 139.755, 140.526, 142.799, 139.877, 139.599, 139.943, 139.329, 138.877, 141.976, 139.215, 139.3, 139.343, 138.594, 140.914, 139.532, 141.741, 139.991, 141.019, 140.453, 138.845, 139.837, 139.928, 139.35, 140.332, 138.527, 141.467, 141.048, 140.358, 139.509, 141.437, 138.809, 139.13, 139.553, 139.207, 139.142, 140.008, 140.633, 140.576, 139.142, 141.235, 139.433, 141.641, 140.948, 138.789, 140.132, 140.035, 139.061, 140.609, 138.978, 140.873, 140.482, 138.466, 140.425, 139.708, 139.827, 140.38, 139.525, 141.749, 140.46, 139.344, 139.01, 139.085, 139.049, 141.473, 139.792, 138.9, 139.53, 139.547, 140.455, 140.339, 138.964, 139.618, 139.929, 139.816, 138.778, 139.319, 138.246, 139.597, 140.512, 139.36, 141.41, 139.546, 138.968, 139.321, 139.264, 139.914, 140.55, 138.585, 139.34, 139.846, 140.187, 140.316, 139.947, 138.878, 139.376, 137.582, 141.926, 139.337, 140.077, 140.833, 140.222, 139.01, 139.083, 140.619, 139.407, 139.857, 139.306, 139.953, 139.888, 140.117, 138.989, 139.493, 140.448, 139.967, 139.765, 139.247, 138.842, 141.342, 138.467, 138.925, 140.132, 141.43, 140.129, 139.1, 140.155, 139.084, 139.346, 142.674, 139.317, 139.039, 139.551, 139.392, 141.457, 138.66, 140.071, 139.22, 139.08, 138.792, 138.836, 139.406, 139.665, 138.964, 139.129, 138.621, 140.428, 140.65, 138.885, 139.4, 138.776, 141.572, 139.632, 138.231, 141.228, 140.703, 139.291, 138.832, 138.973, 138.367, 139.613, 140.996, 139.379, 140.029, 139.243, 139.809, 140.463, 139.459, 139.566, 140.229, 139.639, 139.797, 141.985, 138.754, 140.789, 139.315, 138.848, 140.527, 139.404, 139.072, 139.125, 139.723, 140.142, 138.972, 139.216, 140.849, 138.712, 139.364, 139.093, 139.262, 139.209, 138.638, 139.284, 139.366, 138.717, 139.096, 138.651, 139.775, 141.732, 139.441, 139.305, 139.082, 138.719, 138.559, 139.118, 138.569, 140.134, 139.066, 139.057, 139.301, 140.818, 138.942, 140.686, 139.144, 139.041, 140.916, 139.668, 139.176, 138.967, 139.663, 139.314, 139.296, 139.305, 139.013, 139.252, 140.169, 138.649, 139.584, 139.634, 139.239, 139.655, 138.98, 139.475, 138.87, 139.362, 139.92, 138.742, 139.282, 140.64, 139.946, 138.694, 138.885, 139.694, 139.023, 139.746, 138.851, 141.093, 138.754, 139.03, 139.401, 139.224, 139.95, 138.625, 139.006, 140.234, 139.576, 139.114, 139.746, 138.985, 140.806, 140.318, 139.723, 141.452, 139.546, 139.867, 139.2, 139.069, 138.845, 139.231, 140.166, 140.346, 138.958, 139.45, 139.003, 139.265, 139.678, 139.203, 139.914, 139.065, 138.908, 138.718, 140.199, 139.733, 138.412, 140.124, 139.126, 139.982, 138.902, 139.29, 139.252, 138.776, 139.208, 139.271, 139.827, 139.044, 138.958, 138.966, 139.025, 138.852, 138.93, 138.906, 138.763, 140.459, 139.762, 139.476, 138.759, 140.14, 139.119, 138.596, 139.631, 138.601, 139.078, 138.759, 138.885, 138.681, 139.635, 138.95, 140.377, 139.382, 139.065], \"yaxis\": \"y\"}, {\"hovertemplate\": \"variable=validation_loss<br>index=%{x}<br>value=%{y}<extra></extra>\", \"legendgroup\": \"validation_loss\", \"line\": {\"color\": \"#EF553B\", \"dash\": \"solid\", \"shape\": \"linear\"}, \"mode\": \"lines\", \"name\": \"validation_loss\", \"showlegend\": true, \"type\": \"scattergl\", \"x\": [90, 91, 92, 93, 94, 95, 96, 97, 98, 99, 100, 101, 102, 103, 104, 105, 106, 107, 108, 109, 110, 111, 112, 113, 114, 115, 116, 117, 118, 119, 120, 121, 122, 123, 124, 125, 126, 127, 128, 129, 130, 131, 132, 133, 134, 135, 136, 137, 138, 139, 140, 141, 142, 143, 144, 145, 146, 147, 148, 149, 150, 151, 152, 153, 154, 155, 156, 157, 158, 159, 160, 161, 162, 163, 164, 165, 166, 167, 168, 169, 170, 171, 172, 173, 174, 175, 176, 177, 178, 179, 180, 181, 182, 183, 184, 185, 186, 187, 188, 189, 190, 191, 192, 193, 194, 195, 196, 197, 198, 199, 200, 201, 202, 203, 204, 205, 206, 207, 208, 209, 210, 211, 212, 213, 214, 215, 216, 217, 218, 219, 220, 221, 222, 223, 224, 225, 226, 227, 228, 229, 230, 231, 232, 233, 234, 235, 236, 237, 238, 239, 240, 241, 242, 243, 244, 245, 246, 247, 248, 249, 250, 251, 252, 253, 254, 255, 256, 257, 258, 259, 260, 261, 262, 263, 264, 265, 266, 267, 268, 269, 270, 271, 272, 273, 274, 275, 276, 277, 278, 279, 280, 281, 282, 283, 284, 285, 286, 287, 288, 289, 290, 291, 292, 293, 294, 295, 296, 297, 298, 299, 300, 301, 302, 303, 304, 305, 306, 307, 308, 309, 310, 311, 312, 313, 314, 315, 316, 317, 318, 319, 320, 321, 322, 323, 324, 325, 326, 327, 328, 329, 330, 331, 332, 333, 334, 335, 336, 337, 338, 339, 340, 341, 342, 343, 344, 345, 346, 347, 348, 349, 350, 351, 352, 353, 354, 355, 356, 357, 358, 359, 360, 361, 362, 363, 364, 365, 366, 367, 368, 369, 370, 371, 372, 373, 374, 375, 376, 377, 378, 379, 380, 381, 382, 383, 384, 385, 386, 387, 388, 389, 390, 391, 392, 393, 394, 395, 396, 397, 398, 399, 400, 401, 402, 403, 404, 405, 406, 407, 408, 409, 410, 411, 412, 413, 414, 415, 416, 417, 418, 419, 420, 421, 422, 423, 424, 425, 426, 427, 428, 429, 430, 431, 432, 433, 434, 435, 436, 437, 438, 439, 440, 441, 442, 443, 444, 445, 446, 447, 448, 449, 450, 451, 452, 453, 454, 455, 456, 457, 458, 459, 460, 461, 462, 463, 464, 465, 466, 467, 468, 469, 470, 471, 472, 473, 474, 475, 476, 477, 478, 479, 480, 481, 482, 483, 484, 485, 486, 487, 488, 489, 490, 491, 492, 493, 494, 495, 496, 497, 498, 499, 500, 501, 502, 503, 504, 505, 506, 507, 508, 509, 510, 511, 512, 513, 514, 515, 516, 517, 518, 519, 520, 521, 522, 523, 524, 525, 526, 527, 528, 529, 530, 531, 532, 533, 534, 535, 536, 537, 538, 539, 540, 541, 542, 543, 544, 545, 546, 547, 548, 549, 550, 551, 552, 553, 554, 555, 556, 557, 558, 559, 560, 561, 562, 563, 564, 565, 566, 567, 568, 569, 570, 571, 572, 573, 574, 575, 576, 577, 578, 579, 580, 581, 582, 583, 584, 585, 586, 587, 588, 589, 590, 591, 592, 593, 594, 595, 596, 597, 598, 599], \"xaxis\": \"x\", \"y\": [273.815, 291.008, 276.286, 379.603, 257.736, 315.928, 360.015, 244.187, 262.283, 237.38, 270.733, 316.713, 264.972, 345.557, 219.028, 220.924, 212.077, 208.951, 237.361, 290.72, 264.161, 239.661, 231.948, 188.733, 189.079, 198.404, 199.59, 185.722, 181.492, 178.607, 178.529, 176.494, 182.192, 176.659, 188.239, 190.252, 183.983, 174.678, 190.98, 181.758, 173.582, 171.249, 198.68, 168.106, 194.394, 198.891, 173.862, 211.599, 166.729, 179.561, 197.926, 302.867, 273.439, 147.804, 145.396, 143.37, 143.187, 144.433, 143.116, 143.265, 143.418, 143.123, 143.771, 143.097, 144.139, 143.343, 145.097, 143.348, 143.615, 143.141, 147.469, 149.611, 143.103, 143.355, 143.501, 144.622, 144.239, 143.322, 143.097, 143.365, 143.165, 149.444, 143.716, 143.635, 146.631, 144.911, 146.929, 154.019, 143.097, 143.167, 144.595, 143.432, 144.504, 144.217, 143.205, 145.491, 144.065, 147.262, 144.453, 143.283, 144.134, 143.574, 143.666, 144.406, 143.227, 146.239, 143.119, 144.031, 143.99, 146.075, 145.455, 148.773, 143.263, 143.474, 143.13, 143.275, 143.119, 143.535, 143.21, 145.249, 144.695, 143.129, 143.395, 143.775, 144.092, 143.114, 143.098, 143.113, 143.145, 143.977, 151.227, 144.269, 144.525, 143.329, 144.852, 143.362, 153.535, 147.657, 143.72, 143.336, 143.605, 143.682, 143.118, 143.098, 144.368, 144.032, 146.93, 149.878, 144.278, 143.216, 143.523, 147.678, 143.323, 143.261, 143.794, 143.781, 145.698, 144.887, 147.288, 143.504, 143.124, 143.47, 144.116, 143.187, 144.007, 143.184, 145.937, 144.154, 145.121, 146.837, 143.271, 147.257, 143.535, 143.246, 143.114, 146.882, 143.289, 143.096, 143.102, 144.175, 143.197, 143.159, 143.097, 147.552, 143.253, 146.804, 143.137, 147.346, 146.264, 143.678, 143.098, 143.111, 146.325, 143.105, 144.255, 147.353, 143.142, 143.784, 143.187, 143.316, 143.52, 146.959, 143.097, 143.2, 146.385, 143.695, 143.282, 144.238, 148.104, 143.32, 143.617, 143.458, 146.061, 143.099, 146.682, 143.472, 144.771, 143.1, 145.714, 143.128, 143.126, 143.214, 148.789, 143.122, 143.122, 143.445, 143.322, 143.336, 149.062, 143.115, 143.096, 143.097, 143.096, 143.199, 143.098, 145.73, 143.096, 143.203, 144.993, 143.212, 143.972, 143.342, 144.859, 145.501, 145.166, 144.263, 143.096, 143.201, 143.838, 143.251, 143.273, 143.096, 145.232, 144.056, 146.081, 144.03, 143.17, 143.42, 143.281, 143.489, 143.874, 143.642, 144.614, 143.223, 143.153, 143.203, 143.667, 143.663, 147.749, 143.299, 143.201, 147.166, 143.253, 143.183, 143.798, 143.098, 145.351, 144.574, 143.623, 143.139, 143.568, 143.225, 143.31, 145.747, 143.119, 143.194, 143.339, 150.81, 143.393, 145.183, 144.382, 146.698, 144.198, 143.168, 144.333, 143.214, 143.589, 143.716, 143.567, 144.165, 143.785, 144.221, 143.098, 143.284, 143.4, 143.647, 143.44, 143.256, 144.468, 146.195, 143.446, 145.386, 145.917, 143.262, 143.369, 143.599, 143.721, 144.329, 143.951, 143.159, 143.115, 145.639, 143.355, 143.251, 143.523, 143.744, 145.05, 143.462, 143.1, 144.02, 143.12, 143.599, 143.116, 143.6, 144.79, 143.126, 144.281, 143.096, 143.231, 143.116, 146.601, 143.096, 143.753, 143.315, 143.191, 143.355, 143.293, 143.112, 145.534, 144.125, 143.147, 143.1, 143.103, 143.557, 143.734, 143.991, 143.096, 143.096, 143.336, 143.126, 143.349, 143.366, 143.782, 145.101, 143.276, 143.209, 144.281, 143.405, 144.139, 144.19, 144.187, 143.59, 147.05, 143.126, 144.426, 145.039, 143.398, 143.096, 143.138, 143.137, 143.11, 144.03, 143.169, 143.098, 143.494, 143.113, 145.125, 145.147, 143.316, 143.122, 143.35, 143.11, 143.388, 143.125, 143.481, 143.096, 144.011, 144.828, 143.098, 143.508, 143.186, 143.096, 143.205, 143.723, 143.778, 144.215, 143.143, 143.179, 143.101, 143.643, 143.656, 144.866, 143.473, 143.285, 143.386, 143.1, 145.973, 143.173, 143.113, 143.108, 143.129, 143.151, 143.219, 143.253, 143.155, 143.123, 143.203, 143.312, 143.099, 143.276, 143.775, 143.145, 143.981, 143.103, 143.107, 143.161, 143.363, 143.927, 143.107, 143.121, 144.562, 145.558, 143.137, 143.239, 144.247, 145.083, 143.153, 144.085, 144.466, 143.144, 143.174, 143.134, 143.388, 143.187, 143.392, 144.505, 144.466, 143.24, 143.097, 143.111, 143.322, 143.1, 143.565, 143.58, 143.097, 143.199, 143.833, 144.289, 143.482, 143.345, 143.2, 143.772, 143.251, 144.212, 143.504, 143.426, 143.385, 143.135, 143.097, 143.155, 145.428, 143.105, 143.381, 144.362, 144.383, 143.197, 143.149, 144.093, 143.096, 143.459, 143.11, 143.486, 145.308, 143.885, 144.141, 143.464, 143.777, 143.17, 143.125, 143.388, 144.007, 143.776, 143.19, 143.58, 143.242, 143.116, 143.729, 144.327, 143.449, 143.404], \"yaxis\": \"y\"}],\n",
       "                        {\"font\": {\"color\": \"#FAFAFA\", \"family\": \"Avenir\"}, \"height\": 400, \"hoverlabel\": {\"bgcolor\": \"#0F0F0F\", \"font\": {\"family\": \"Avenir\", \"size\": 15}}, \"legend\": {\"orientation\": \"h\", \"title\": {}, \"tracegroupgap\": 0, \"x\": 1, \"xanchor\": \"right\", \"y\": 1.02, \"yanchor\": \"bottom\"}, \"margin\": {\"b\": 0, \"t\": 5}, \"paper_bgcolor\": \"#181B1E\", \"plot_bgcolor\": \"#181B1E\", \"template\": {\"data\": {\"bar\": [{\"error_x\": {\"color\": \"#2a3f5f\"}, \"error_y\": {\"color\": \"#2a3f5f\"}, \"marker\": {\"line\": {\"color\": \"#E5ECF6\", \"width\": 0.5}}, \"type\": \"bar\"}], \"barpolar\": [{\"marker\": {\"line\": {\"color\": \"#E5ECF6\", \"width\": 0.5}}, \"type\": \"barpolar\"}], \"carpet\": [{\"aaxis\": {\"endlinecolor\": \"#2a3f5f\", \"gridcolor\": \"white\", \"linecolor\": \"white\", \"minorgridcolor\": \"white\", \"startlinecolor\": \"#2a3f5f\"}, \"baxis\": {\"endlinecolor\": \"#2a3f5f\", \"gridcolor\": \"white\", \"linecolor\": \"white\", \"minorgridcolor\": \"white\", \"startlinecolor\": \"#2a3f5f\"}, \"type\": \"carpet\"}], \"choropleth\": [{\"colorbar\": {\"outlinewidth\": 0, \"ticks\": \"\"}, \"type\": \"choropleth\"}], \"contour\": [{\"colorbar\": {\"outlinewidth\": 0, \"ticks\": \"\"}, \"colorscale\": [[0.0, \"#0d0887\"], [0.1111111111111111, \"#46039f\"], [0.2222222222222222, \"#7201a8\"], [0.3333333333333333, \"#9c179e\"], [0.4444444444444444, \"#bd3786\"], [0.5555555555555556, \"#d8576b\"], [0.6666666666666666, \"#ed7953\"], [0.7777777777777778, \"#fb9f3a\"], [0.8888888888888888, \"#fdca26\"], [1.0, \"#f0f921\"]], \"type\": \"contour\"}], \"contourcarpet\": [{\"colorbar\": {\"outlinewidth\": 0, \"ticks\": \"\"}, \"type\": \"contourcarpet\"}], \"heatmap\": [{\"colorbar\": {\"outlinewidth\": 0, \"ticks\": \"\"}, \"colorscale\": [[0.0, \"#0d0887\"], [0.1111111111111111, \"#46039f\"], [0.2222222222222222, \"#7201a8\"], [0.3333333333333333, \"#9c179e\"], [0.4444444444444444, \"#bd3786\"], [0.5555555555555556, \"#d8576b\"], [0.6666666666666666, \"#ed7953\"], [0.7777777777777778, \"#fb9f3a\"], [0.8888888888888888, \"#fdca26\"], [1.0, \"#f0f921\"]], \"type\": \"heatmap\"}], \"heatmapgl\": [{\"colorbar\": {\"outlinewidth\": 0, \"ticks\": \"\"}, \"colorscale\": [[0.0, \"#0d0887\"], [0.1111111111111111, \"#46039f\"], [0.2222222222222222, \"#7201a8\"], [0.3333333333333333, \"#9c179e\"], [0.4444444444444444, \"#bd3786\"], [0.5555555555555556, \"#d8576b\"], [0.6666666666666666, \"#ed7953\"], [0.7777777777777778, \"#fb9f3a\"], [0.8888888888888888, \"#fdca26\"], [1.0, \"#f0f921\"]], \"type\": \"heatmapgl\"}], \"histogram\": [{\"marker\": {\"colorbar\": {\"outlinewidth\": 0, \"ticks\": \"\"}}, \"type\": \"histogram\"}], \"histogram2d\": [{\"colorbar\": {\"outlinewidth\": 0, \"ticks\": \"\"}, \"colorscale\": [[0.0, \"#0d0887\"], [0.1111111111111111, \"#46039f\"], [0.2222222222222222, \"#7201a8\"], [0.3333333333333333, \"#9c179e\"], [0.4444444444444444, \"#bd3786\"], [0.5555555555555556, \"#d8576b\"], [0.6666666666666666, \"#ed7953\"], [0.7777777777777778, \"#fb9f3a\"], [0.8888888888888888, \"#fdca26\"], [1.0, \"#f0f921\"]], \"type\": \"histogram2d\"}], \"histogram2dcontour\": [{\"colorbar\": {\"outlinewidth\": 0, \"ticks\": \"\"}, \"colorscale\": [[0.0, \"#0d0887\"], [0.1111111111111111, \"#46039f\"], [0.2222222222222222, \"#7201a8\"], [0.3333333333333333, \"#9c179e\"], [0.4444444444444444, \"#bd3786\"], [0.5555555555555556, \"#d8576b\"], [0.6666666666666666, \"#ed7953\"], [0.7777777777777778, \"#fb9f3a\"], [0.8888888888888888, \"#fdca26\"], [1.0, \"#f0f921\"]], \"type\": \"histogram2dcontour\"}], \"mesh3d\": [{\"colorbar\": {\"outlinewidth\": 0, \"ticks\": \"\"}, \"type\": \"mesh3d\"}], \"parcoords\": [{\"line\": {\"colorbar\": {\"outlinewidth\": 0, \"ticks\": \"\"}}, \"type\": \"parcoords\"}], \"pie\": [{\"automargin\": true, \"type\": \"pie\"}], \"scatter\": [{\"marker\": {\"colorbar\": {\"outlinewidth\": 0, \"ticks\": \"\"}}, \"type\": \"scatter\"}], \"scatter3d\": [{\"line\": {\"colorbar\": {\"outlinewidth\": 0, \"ticks\": \"\"}}, \"marker\": {\"colorbar\": {\"outlinewidth\": 0, \"ticks\": \"\"}}, \"type\": \"scatter3d\"}], \"scattercarpet\": [{\"marker\": {\"colorbar\": {\"outlinewidth\": 0, \"ticks\": \"\"}}, \"type\": \"scattercarpet\"}], \"scattergeo\": [{\"marker\": {\"colorbar\": {\"outlinewidth\": 0, \"ticks\": \"\"}}, \"type\": \"scattergeo\"}], \"scattergl\": [{\"marker\": {\"colorbar\": {\"outlinewidth\": 0, \"ticks\": \"\"}}, \"type\": \"scattergl\"}], \"scattermapbox\": [{\"marker\": {\"colorbar\": {\"outlinewidth\": 0, \"ticks\": \"\"}}, \"type\": \"scattermapbox\"}], \"scatterpolar\": [{\"marker\": {\"colorbar\": {\"outlinewidth\": 0, \"ticks\": \"\"}}, \"type\": \"scatterpolar\"}], \"scatterpolargl\": [{\"marker\": {\"colorbar\": {\"outlinewidth\": 0, \"ticks\": \"\"}}, \"type\": \"scatterpolargl\"}], \"scatterternary\": [{\"marker\": {\"colorbar\": {\"outlinewidth\": 0, \"ticks\": \"\"}}, \"type\": \"scatterternary\"}], \"surface\": [{\"colorbar\": {\"outlinewidth\": 0, \"ticks\": \"\"}, \"colorscale\": [[0.0, \"#0d0887\"], [0.1111111111111111, \"#46039f\"], [0.2222222222222222, \"#7201a8\"], [0.3333333333333333, \"#9c179e\"], [0.4444444444444444, \"#bd3786\"], [0.5555555555555556, \"#d8576b\"], [0.6666666666666666, \"#ed7953\"], [0.7777777777777778, \"#fb9f3a\"], [0.8888888888888888, \"#fdca26\"], [1.0, \"#f0f921\"]], \"type\": \"surface\"}], \"table\": [{\"cells\": {\"fill\": {\"color\": \"#EBF0F8\"}, \"line\": {\"color\": \"white\"}}, \"header\": {\"fill\": {\"color\": \"#C8D4E3\"}, \"line\": {\"color\": \"white\"}}, \"type\": \"table\"}]}, \"layout\": {\"annotationdefaults\": {\"arrowcolor\": \"#2a3f5f\", \"arrowhead\": 0, \"arrowwidth\": 1}, \"coloraxis\": {\"colorbar\": {\"outlinewidth\": 0, \"ticks\": \"\"}}, \"colorscale\": {\"diverging\": [[0, \"#8e0152\"], [0.1, \"#c51b7d\"], [0.2, \"#de77ae\"], [0.3, \"#f1b6da\"], [0.4, \"#fde0ef\"], [0.5, \"#f7f7f7\"], [0.6, \"#e6f5d0\"], [0.7, \"#b8e186\"], [0.8, \"#7fbc41\"], [0.9, \"#4d9221\"], [1, \"#276419\"]], \"sequential\": [[0.0, \"#0d0887\"], [0.1111111111111111, \"#46039f\"], [0.2222222222222222, \"#7201a8\"], [0.3333333333333333, \"#9c179e\"], [0.4444444444444444, \"#bd3786\"], [0.5555555555555556, \"#d8576b\"], [0.6666666666666666, \"#ed7953\"], [0.7777777777777778, \"#fb9f3a\"], [0.8888888888888888, \"#fdca26\"], [1.0, \"#f0f921\"]], \"sequentialminus\": [[0.0, \"#0d0887\"], [0.1111111111111111, \"#46039f\"], [0.2222222222222222, \"#7201a8\"], [0.3333333333333333, \"#9c179e\"], [0.4444444444444444, \"#bd3786\"], [0.5555555555555556, \"#d8576b\"], [0.6666666666666666, \"#ed7953\"], [0.7777777777777778, \"#fb9f3a\"], [0.8888888888888888, \"#fdca26\"], [1.0, \"#f0f921\"]]}, \"colorway\": [\"#636efa\", \"#EF553B\", \"#00cc96\", \"#ab63fa\", \"#FFA15A\", \"#19d3f3\", \"#FF6692\", \"#B6E880\", \"#FF97FF\", \"#FECB52\"], \"font\": {\"color\": \"#2a3f5f\"}, \"geo\": {\"bgcolor\": \"white\", \"lakecolor\": \"white\", \"landcolor\": \"#E5ECF6\", \"showlakes\": true, \"showland\": true, \"subunitcolor\": \"white\"}, \"hoverlabel\": {\"align\": \"left\"}, \"hovermode\": \"closest\", \"mapbox\": {\"style\": \"light\"}, \"paper_bgcolor\": \"white\", \"plot_bgcolor\": \"#E5ECF6\", \"polar\": {\"angularaxis\": {\"gridcolor\": \"white\", \"linecolor\": \"white\", \"ticks\": \"\"}, \"bgcolor\": \"#E5ECF6\", \"radialaxis\": {\"gridcolor\": \"white\", \"linecolor\": \"white\", \"ticks\": \"\"}}, \"scene\": {\"xaxis\": {\"backgroundcolor\": \"#E5ECF6\", \"gridcolor\": \"white\", \"gridwidth\": 2, \"linecolor\": \"white\", \"showbackground\": true, \"ticks\": \"\", \"zerolinecolor\": \"white\"}, \"yaxis\": {\"backgroundcolor\": \"#E5ECF6\", \"gridcolor\": \"white\", \"gridwidth\": 2, \"linecolor\": \"white\", \"showbackground\": true, \"ticks\": \"\", \"zerolinecolor\": \"white\"}, \"zaxis\": {\"backgroundcolor\": \"#E5ECF6\", \"gridcolor\": \"white\", \"gridwidth\": 2, \"linecolor\": \"white\", \"showbackground\": true, \"ticks\": \"\", \"zerolinecolor\": \"white\"}}, \"shapedefaults\": {\"line\": {\"color\": \"#2a3f5f\"}}, \"ternary\": {\"aaxis\": {\"gridcolor\": \"white\", \"linecolor\": \"white\", \"ticks\": \"\"}, \"baxis\": {\"gridcolor\": \"white\", \"linecolor\": \"white\", \"ticks\": \"\"}, \"bgcolor\": \"#E5ECF6\", \"caxis\": {\"gridcolor\": \"white\", \"linecolor\": \"white\", \"ticks\": \"\"}}, \"title\": {\"x\": 0.05}, \"xaxis\": {\"automargin\": true, \"gridcolor\": \"white\", \"linecolor\": \"white\", \"ticks\": \"\", \"title\": {\"standoff\": 15}, \"zerolinecolor\": \"white\", \"zerolinewidth\": 2}, \"yaxis\": {\"automargin\": true, \"gridcolor\": \"white\", \"linecolor\": \"white\", \"ticks\": \"\", \"title\": {\"standoff\": 15}, \"zerolinecolor\": \"white\", \"zerolinewidth\": 2}}}, \"title\": {\"text\": \"<i>Training History: Loss</i>\"}, \"xaxis\": {\"anchor\": \"y\", \"domain\": [0.0, 1.0], \"gridcolor\": \"#262B2F\", \"tickfont\": {\"color\": \"#818487\"}, \"title\": {\"text\": \"Epochs\"}, \"zeroline\": false}, \"yaxis\": {\"anchor\": \"x\", \"domain\": [0.0, 1.0], \"gridcolor\": \"#262B2F\", \"nticks\": 9, \"side\": \"right\", \"tick0\": -1, \"tickfont\": {\"color\": \"#818487\"}, \"tickmode\": \"auto\", \"title\": {\"text\": \"Loss\"}, \"zeroline\": false}},\n",
       "                        {\"responsive\": true}\n",
       "                    ).then(function(){\n",
       "                            \n",
       "var gd = document.getElementById('e0ac00d9-6e18-4556-92d5-3a02bb1e3549');\n",
       "var x = new MutationObserver(function (mutations, observer) {{\n",
       "        var display = window.getComputedStyle(gd).display;\n",
       "        if (!display || display === 'none') {{\n",
       "            console.log([gd, 'removed!']);\n",
       "            Plotly.purge(gd);\n",
       "            observer.disconnect();\n",
       "        }}\n",
       "}});\n",
       "\n",
       "// Listen for the removal of the full notebook cells\n",
       "var notebookContainer = gd.closest('#notebook-container');\n",
       "if (notebookContainer) {{\n",
       "    x.observe(notebookContainer, {childList: true});\n",
       "}}\n",
       "\n",
       "// Listen for the clearing of the current output cell\n",
       "var outputEl = gd.closest('.output');\n",
       "if (outputEl) {{\n",
       "    x.observe(outputEl, {childList: true});\n",
       "}}\n",
       "\n",
       "                        })\n",
       "                };\n",
       "                });\n",
       "            </script>\n",
       "        </div>"
      ]
     },
     "metadata": {},
     "output_type": "display_data"
    }
   ],
   "source": [
    "aiqc.Job.get_by_id(719).results[0].plot_learning_curve(loss_last_85pct=True)"
   ]
  },
  {
   "cell_type": "code",
   "execution_count": null,
   "metadata": {},
   "outputs": [],
   "source": []
  }
 ],
 "metadata": {
  "kernelspec": {
   "display_name": "Python 3",
   "language": "python",
   "name": "python3"
  },
  "language_info": {
   "codemirror_mode": {
    "name": "ipython",
    "version": 3
   },
   "file_extension": ".py",
   "mimetype": "text/x-python",
   "name": "python",
   "nbconvert_exporter": "python",
   "pygments_lexer": "ipython3",
   "version": "3.7.6"
  }
 },
 "nbformat": 4,
 "nbformat_minor": 4
}
