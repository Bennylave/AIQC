{
 "cells": [
  {
   "cell_type": "markdown",
   "metadata": {},
   "source": [
    "# Experiments"
   ]
  },
  {
   "cell_type": "markdown",
   "metadata": {},
   "source": [
    "Just to be clear, the following examples are for demonstration and testing purposes only. Users are not supposed to make their own dummy batches using their own data. Refer to the pages **High-Level API** and/ or **Low-Level API** if you actually want to use the library. "
   ]
  },
  {
   "cell_type": "markdown",
   "metadata": {},
   "source": [
    "## Prerequisites\n",
    "* If you've already completed the instructions on the **Installation** page, then let's get started.\n",
    "* This section makes use of the data in the **Example Datasets** page."
   ]
  },
  {
   "cell_type": "code",
   "execution_count": 1,
   "metadata": {},
   "outputs": [],
   "source": [
    "import os \n",
    "os.chdir('/Users/Layne/Desktop/aiqc')"
   ]
  },
  {
   "cell_type": "code",
   "execution_count": 2,
   "metadata": {},
   "outputs": [
    {
     "name": "stderr",
     "output_type": "stream",
     "text": [
      "/Users/layne/.pyenv/versions/3.7.6/envs/jupyterlab/lib/python3.7/site-packages/pandas/compat/__init__.py:120: UserWarning: Could not import the lzma module. Your installed Python is incomplete. Attempting to use lzma compression will result in a RuntimeError.\n",
      "  warnings.warn(msg)\n"
     ]
    }
   ],
   "source": [
    "import aiqc\n",
    "from aiqc import examples"
   ]
  },
  {
   "cell_type": "code",
   "execution_count": 3,
   "metadata": {},
   "outputs": [
    {
     "name": "stdout",
     "output_type": "stream",
     "text": [
      "\n",
      "=> Success - deleted database file at path:\n",
      "/Users/layne/Library/Application Support/aiqc/aiqc.sqlite3\n",
      "\n"
     ]
    }
   ],
   "source": [
    "#aiqc.delete_db(True)"
   ]
  },
  {
   "cell_type": "code",
   "execution_count": 4,
   "metadata": {},
   "outputs": [
    {
     "data": {
      "text/plain": [
       "<module 'aiqc' from '/Users/layne/Desktop/aiqc/aiqc/__init__.py'>"
      ]
     },
     "execution_count": 4,
     "metadata": {},
     "output_type": "execute_result"
    }
   ],
   "source": [
    "# from importlib import reload\n",
    "# reload(aiqc)"
   ]
  },
  {
   "cell_type": "code",
   "execution_count": 5,
   "metadata": {},
   "outputs": [
    {
     "name": "stdout",
     "output_type": "stream",
     "text": [
      "\n",
      "=> Success - created database file for machine learning metrics at path:\n",
      "/Users/layne/Library/Application Support/aiqc/aiqc.sqlite3\n",
      "\n",
      "\n",
      "=> Success - created the following tables within database:\n",
      "['algorithm', 'batch', 'datapipeline', 'dataset', 'experiment', 'featureset', 'file', 'fold', 'foldset', 'hyperparamcombo', 'hyperparamset', 'image', 'job', 'label', 'preprocess', 'result', 'splitset', 'tabular']\n",
      "\n"
     ]
    }
   ],
   "source": [
    "# aiqc.create_db()"
   ]
  },
  {
   "cell_type": "markdown",
   "metadata": {},
   "source": [
    "## Dummy Experiments"
   ]
  },
  {
   "cell_type": "markdown",
   "metadata": {},
   "source": [
    "The `list_demo_batches()` method describes the predefined experiments that are available.\n",
    "\n",
    "> By default it returns a Pandas DataFrame, but you can `list_demo_files(format='list')` to change that."
   ]
  },
  {
   "cell_type": "code",
   "execution_count": 20,
   "metadata": {},
   "outputs": [
    {
     "data": {
      "text/html": [
       "<div>\n",
       "<style scoped>\n",
       "    .dataframe tbody tr th:only-of-type {\n",
       "        vertical-align: middle;\n",
       "    }\n",
       "\n",
       "    .dataframe tbody tr th {\n",
       "        vertical-align: top;\n",
       "    }\n",
       "\n",
       "    .dataframe thead th {\n",
       "        text-align: right;\n",
       "    }\n",
       "</style>\n",
       "<table border=\"1\" class=\"dataframe\">\n",
       "  <thead>\n",
       "    <tr style=\"text-align: right;\">\n",
       "      <th></th>\n",
       "      <th>batch_name</th>\n",
       "      <th>data_type</th>\n",
       "      <th>supervision</th>\n",
       "      <th>analysis</th>\n",
       "      <th>sub_analysis</th>\n",
       "      <th>validation</th>\n",
       "      <th>fileset</th>\n",
       "    </tr>\n",
       "  </thead>\n",
       "  <tbody>\n",
       "    <tr>\n",
       "      <th>0</th>\n",
       "      <td>multiclass</td>\n",
       "      <td>tabular</td>\n",
       "      <td>supervised</td>\n",
       "      <td>classification</td>\n",
       "      <td>multi label</td>\n",
       "      <td>validation split</td>\n",
       "      <td>iris.tsv</td>\n",
       "    </tr>\n",
       "    <tr>\n",
       "      <th>1</th>\n",
       "      <td>binary</td>\n",
       "      <td>tabular</td>\n",
       "      <td>supervised</td>\n",
       "      <td>classification</td>\n",
       "      <td>binary</td>\n",
       "      <td>validation split</td>\n",
       "      <td>sonar.csv</td>\n",
       "    </tr>\n",
       "    <tr>\n",
       "      <th>2</th>\n",
       "      <td>continuous</td>\n",
       "      <td>tabular</td>\n",
       "      <td>supervised</td>\n",
       "      <td>regression</td>\n",
       "      <td>None</td>\n",
       "      <td>validation split</td>\n",
       "      <td>houses.csv</td>\n",
       "    </tr>\n",
       "    <tr>\n",
       "      <th>3</th>\n",
       "      <td>multiclass_folded</td>\n",
       "      <td>tabular</td>\n",
       "      <td>supervised</td>\n",
       "      <td>classification</td>\n",
       "      <td>multi label</td>\n",
       "      <td>cross-folds</td>\n",
       "      <td>iris_10x.tsv</td>\n",
       "    </tr>\n",
       "    <tr>\n",
       "      <th>4</th>\n",
       "      <td>continuous_folded</td>\n",
       "      <td>tabular</td>\n",
       "      <td>supervised</td>\n",
       "      <td>regression</td>\n",
       "      <td>None</td>\n",
       "      <td>cross-folds</td>\n",
       "      <td>houses.csv</td>\n",
       "    </tr>\n",
       "  </tbody>\n",
       "</table>\n",
       "</div>"
      ],
      "text/plain": [
       "          batch_name data_type supervision        analysis sub_analysis  \\\n",
       "0         multiclass   tabular  supervised  classification  multi label   \n",
       "1             binary   tabular  supervised  classification       binary   \n",
       "2         continuous   tabular  supervised      regression         None   \n",
       "3  multiclass_folded   tabular  supervised  classification  multi label   \n",
       "4  continuous_folded   tabular  supervised      regression         None   \n",
       "\n",
       "         validation       fileset  \n",
       "0  validation split      iris.tsv  \n",
       "1  validation split     sonar.csv  \n",
       "2  validation split    houses.csv  \n",
       "3       cross-folds  iris_10x.tsv  \n",
       "4       cross-folds    houses.csv  "
      ]
     },
     "execution_count": 20,
     "metadata": {},
     "output_type": "execute_result"
    }
   ],
   "source": [
    "examples.list_demo_batches()"
   ]
  },
  {
   "cell_type": "markdown",
   "metadata": {},
   "source": [
    "* Each `Batch` contains predefined training `Jobs` and a `Hyperparamset`.\n",
    "  * Each `Job` is comprised of:\n",
    "    * An `Algorithm` and a unique `Hyperparamcombo`.\n",
    "    * They gets fit to a `Datasets` made from a dummy data file seen above.\n",
    "      * More specifically, its `Labels, Featuresets` are sliced into `Splitsets, Foldsets`."
   ]
  },
  {
   "cell_type": "markdown",
   "metadata": {},
   "source": [
    "## Example: supervised regression"
   ]
  },
  {
   "cell_type": "markdown",
   "metadata": {},
   "source": [
    "The entries from the `name` column above, can be fed into the `make_demo_batch()` method."
   ]
  },
  {
   "cell_type": "code",
   "execution_count": 21,
   "metadata": {},
   "outputs": [
    {
     "ename": "ValueError",
     "evalue": "\nYikes - The 'name' you specified <regression> was not found.\nTip - Check the names in 'examples.list_demo_batches()'.\n",
     "output_type": "error",
     "traceback": [
      "\u001b[0;31m---------------------------------------------------------------------------\u001b[0m",
      "\u001b[0;31mValueError\u001b[0m                                Traceback (most recent call last)",
      "\u001b[0;32m<ipython-input-21-0295622e60d7>\u001b[0m in \u001b[0;36m<module>\u001b[0;34m\u001b[0m\n\u001b[0;32m----> 1\u001b[0;31m \u001b[0mbatch\u001b[0m \u001b[0;34m=\u001b[0m \u001b[0mexamples\u001b[0m\u001b[0;34m.\u001b[0m\u001b[0mmake_demo_batch\u001b[0m\u001b[0;34m(\u001b[0m\u001b[0;34m'regression'\u001b[0m\u001b[0;34m)\u001b[0m\u001b[0;34m\u001b[0m\u001b[0;34m\u001b[0m\u001b[0m\n\u001b[0m",
      "\u001b[0;32m~/Desktop/aiqc/aiqc/examples/__init__.py\u001b[0m in \u001b[0;36mmake_demo_batch\u001b[0;34m(name)\u001b[0m\n\u001b[1;32m    547\u001b[0m         \u001b[0mencoder_labels\u001b[0m \u001b[0;34m=\u001b[0m \u001b[0mStandardScaler\u001b[0m\u001b[0;34m(\u001b[0m\u001b[0;34m)\u001b[0m\u001b[0;34m\u001b[0m\u001b[0;34m\u001b[0m\u001b[0m\n\u001b[1;32m    548\u001b[0m \u001b[0;34m\u001b[0m\u001b[0m\n\u001b[0;32m--> 549\u001b[0;31m \tpreprocess = splitset.make_preprocess(\n\u001b[0m\u001b[1;32m    550\u001b[0m                 \u001b[0mencoder_features\u001b[0m \u001b[0;34m=\u001b[0m \u001b[0mencoder_features\u001b[0m\u001b[0;34m\u001b[0m\u001b[0;34m\u001b[0m\u001b[0m\n\u001b[1;32m    551\u001b[0m                 \u001b[0;34m,\u001b[0m \u001b[0mencoder_labels\u001b[0m \u001b[0;34m=\u001b[0m \u001b[0mencoder_labels\u001b[0m\u001b[0;34m\u001b[0m\u001b[0;34m\u001b[0m\u001b[0m\n",
      "\u001b[0;31mValueError\u001b[0m: \nYikes - The 'name' you specified <regression> was not found.\nTip - Check the names in 'examples.list_demo_batches()'.\n"
     ]
    }
   ],
   "source": [
    "batch = examples.make_demo_batch('regression')"
   ]
  },
  {
   "cell_type": "code",
   "execution_count": 8,
   "metadata": {},
   "outputs": [],
   "source": [
    "batch.splitset.label.unique_classes"
   ]
  },
  {
   "cell_type": "markdown",
   "metadata": {},
   "source": [
    "### ORM in action"
   ]
  },
  {
   "cell_type": "markdown",
   "metadata": {},
   "source": [
    "It's easy to dig into the Batches using the ORM to see how they are constructed."
   ]
  },
  {
   "cell_type": "code",
   "execution_count": 9,
   "metadata": {},
   "outputs": [
    {
     "data": {
      "text/plain": [
       "4"
      ]
     },
     "execution_count": 9,
     "metadata": {},
     "output_type": "execute_result"
    }
   ],
   "source": [
    "batch.job_count"
   ]
  },
  {
   "cell_type": "code",
   "execution_count": 10,
   "metadata": {},
   "outputs": [
    {
     "data": {
      "text/plain": [
       "{'neuron_count': 48, 'epochs': 75}"
      ]
     },
     "execution_count": 10,
     "metadata": {},
     "output_type": "execute_result"
    }
   ],
   "source": [
    "batch.jobs[3].hyperparamcombo.hyperparameters"
   ]
  },
  {
   "cell_type": "code",
   "execution_count": 11,
   "metadata": {},
   "outputs": [
    {
     "data": {
      "text/plain": [
       "'parquet'"
      ]
     },
     "execution_count": 11,
     "metadata": {},
     "output_type": "execute_result"
    }
   ],
   "source": [
    "batch.splitset.featureset.dataset.files[0].file_format"
   ]
  },
  {
   "cell_type": "code",
   "execution_count": 12,
   "metadata": {},
   "outputs": [
    {
     "data": {
      "text/plain": [
       "<function aiqc.examples.regression_model_train(model, samples_train, samples_evaluate, **hyperparameters)>"
      ]
     },
     "execution_count": 12,
     "metadata": {},
     "output_type": "execute_result"
    }
   ],
   "source": [
    "batch.algorithm.function_model_train"
   ]
  },
  {
   "cell_type": "markdown",
   "metadata": {},
   "source": [
    "### Hyperparameter tuning in action"
   ]
  },
  {
   "cell_type": "markdown",
   "metadata": {},
   "source": [
    "When you execute a Batch of Jobs, it will run the jobs on a background process, so you can continue to work in your Python shell.\n",
    "\n",
    "> It does this by spawning a `multiprocessing.Process` that lives until each Job is completed or the process is killed."
   ]
  },
  {
   "cell_type": "code",
   "execution_count": 13,
   "metadata": {},
   "outputs": [
    {
     "name": "stderr",
     "output_type": "stream",
     "text": [
      "🔮 Training Models 🔮:  25%|██████████▌                               | 1/4 [00:05<00:16,  5.64s/it]"
     ]
    }
   ],
   "source": [
    "batch.run_jobs()"
   ]
  },
  {
   "cell_type": "markdown",
   "metadata": {},
   "source": [
    "The execution of the Jobs can easily be stopped, and then resumed at the Job that was previously running."
   ]
  },
  {
   "cell_type": "code",
   "execution_count": 14,
   "metadata": {},
   "outputs": [
    {
     "name": "stdout",
     "output_type": "stream",
     "text": [
      "\n",
      "Killed `multiprocessing.Process` 'aiqc_batch_1' spawned from Batch <id:1>\n",
      "\n"
     ]
    }
   ],
   "source": [
    "batch.stop_jobs()"
   ]
  },
  {
   "cell_type": "code",
   "execution_count": 15,
   "metadata": {},
   "outputs": [
    {
     "name": "stdout",
     "output_type": "stream",
     "text": [
      "\n",
      "Resuming jobs...\n",
      "\n"
     ]
    },
    {
     "name": "stderr",
     "output_type": "stream",
     "text": [
      "🔮 Training Models 🔮: 100%|██████████████████████████████████████████| 4/4 [00:21<00:00,  5.43s/it]\n"
     ]
    }
   ],
   "source": [
    "batch.run_jobs()"
   ]
  },
  {
   "cell_type": "markdown",
   "metadata": {},
   "source": [
    "### Inspecting the Result of an Individual Job"
   ]
  },
  {
   "cell_type": "markdown",
   "metadata": {},
   "source": [
    "When each Job completes, it will create a `Result` that contains `predictions` and `metrics` attributes for each split/ fold."
   ]
  },
  {
   "cell_type": "code",
   "execution_count": 17,
   "metadata": {},
   "outputs": [
    {
     "data": {
      "text/plain": [
       "{'test': {'r2': 0.7028589262695772,\n",
       "  'mse': 0.2550449723629628,\n",
       "  'explained_variance': 0.7033104032731781,\n",
       "  'loss': 0.25504496693611145},\n",
       " 'validation': {'r2': 0.7586127539355636,\n",
       "  'mse': 0.2545659263091343,\n",
       "  'explained_variance': 0.7594164485666008,\n",
       "  'loss': 0.25456592440605164},\n",
       " 'train': {'r2': 0.755649536524687,\n",
       "  'mse': 0.24435046347531306,\n",
       "  'explained_variance': 0.7557585527324248,\n",
       "  'loss': 0.24435044825077057}}"
      ]
     },
     "execution_count": 17,
     "metadata": {},
     "output_type": "execute_result"
    }
   ],
   "source": [
    "batch.jobs[1].results[0].metrics"
   ]
  },
  {
   "cell_type": "markdown",
   "metadata": {},
   "source": [
    "The JSON values of these attributes are interoperable with Python dictionaries."
   ]
  },
  {
   "cell_type": "code",
   "execution_count": 20,
   "metadata": {
    "collapsed": true,
    "jupyter": {
     "outputs_hidden": true
    }
   },
   "outputs": [
    {
     "data": {
      "text/plain": [
       "array([[-0.60206497],\n",
       "       [ 0.8861952 ],\n",
       "       [ 0.6425036 ],\n",
       "       [ 0.00414339],\n",
       "       [ 0.5579922 ],\n",
       "       [-0.4399129 ],\n",
       "       [-0.00622949],\n",
       "       [-0.68307793],\n",
       "       [ 2.8606904 ],\n",
       "       [-0.13770762],\n",
       "       [-0.30969015],\n",
       "       [ 0.05348143],\n",
       "       [-0.21649757],\n",
       "       [ 0.80401444],\n",
       "       [ 0.9941528 ],\n",
       "       [ 1.2406036 ],\n",
       "       [-0.04374141],\n",
       "       [ 0.1065982 ],\n",
       "       [ 0.41903755],\n",
       "       [-0.76732457],\n",
       "       [-0.3254651 ],\n",
       "       [ 0.8148873 ],\n",
       "       [-0.0247415 ],\n",
       "       [-1.0226299 ],\n",
       "       [-0.96497047],\n",
       "       [-0.41967395],\n",
       "       [-0.28828695],\n",
       "       [-0.47470275],\n",
       "       [ 0.63171804],\n",
       "       [ 1.9143739 ],\n",
       "       [-0.64005864],\n",
       "       [-0.14083937],\n",
       "       [-0.01868173],\n",
       "       [-0.1530954 ],\n",
       "       [ 1.0661846 ],\n",
       "       [-0.44390264],\n",
       "       [ 1.6199763 ],\n",
       "       [-0.19630864],\n",
       "       [-0.99270356],\n",
       "       [-0.5327172 ],\n",
       "       [ 0.5426311 ],\n",
       "       [ 0.21416108],\n",
       "       [-0.34406623],\n",
       "       [ 1.5983316 ],\n",
       "       [ 0.49417928],\n",
       "       [-0.01697627],\n",
       "       [ 0.14941037],\n",
       "       [-0.16554633],\n",
       "       [ 0.19282387],\n",
       "       [ 0.15908535],\n",
       "       [-0.15669909],\n",
       "       [ 1.6151608 ],\n",
       "       [-0.03196326],\n",
       "       [-0.14867881],\n",
       "       [ 0.9954394 ],\n",
       "       [-0.0999839 ],\n",
       "       [-0.11335337],\n",
       "       [ 0.12506777],\n",
       "       [-0.20843843],\n",
       "       [-0.236038  ],\n",
       "       [-0.10175535],\n",
       "       [-0.31096587],\n",
       "       [ 0.52965   ],\n",
       "       [ 0.15175238],\n",
       "       [-0.28127053],\n",
       "       [ 2.5840375 ],\n",
       "       [ 0.18455668],\n",
       "       [-0.28339002],\n",
       "       [ 0.2836305 ],\n",
       "       [ 1.997574  ],\n",
       "       [ 0.00579038]], dtype=float32)"
      ]
     },
     "execution_count": 20,
     "metadata": {},
     "output_type": "execute_result"
    }
   ],
   "source": [
    "batch.jobs[3].results[0].predictions['validation']"
   ]
  },
  {
   "cell_type": "markdown",
   "metadata": {},
   "source": [
    "### Inspecting the metrics of the entire Batch"
   ]
  },
  {
   "cell_type": "code",
   "execution_count": 21,
   "metadata": {},
   "outputs": [
    {
     "data": {
      "text/html": [
       "<div>\n",
       "<style scoped>\n",
       "    .dataframe tbody tr th:only-of-type {\n",
       "        vertical-align: middle;\n",
       "    }\n",
       "\n",
       "    .dataframe tbody tr th {\n",
       "        vertical-align: top;\n",
       "    }\n",
       "\n",
       "    .dataframe thead th {\n",
       "        text-align: right;\n",
       "    }\n",
       "</style>\n",
       "<table border=\"1\" class=\"dataframe\">\n",
       "  <thead>\n",
       "    <tr style=\"text-align: right;\">\n",
       "      <th></th>\n",
       "      <th>job_id</th>\n",
       "      <th>split</th>\n",
       "      <th>r2</th>\n",
       "      <th>mse</th>\n",
       "      <th>explained_variance</th>\n",
       "      <th>loss</th>\n",
       "    </tr>\n",
       "  </thead>\n",
       "  <tbody>\n",
       "    <tr>\n",
       "      <th>0</th>\n",
       "      <td>1</td>\n",
       "      <td>test</td>\n",
       "      <td>0.712765</td>\n",
       "      <td>0.246542</td>\n",
       "      <td>0.714026</td>\n",
       "      <td>0.246542</td>\n",
       "    </tr>\n",
       "    <tr>\n",
       "      <th>1</th>\n",
       "      <td>1</td>\n",
       "      <td>validation</td>\n",
       "      <td>0.776292</td>\n",
       "      <td>0.235921</td>\n",
       "      <td>0.776550</td>\n",
       "      <td>0.235921</td>\n",
       "    </tr>\n",
       "    <tr>\n",
       "      <th>2</th>\n",
       "      <td>1</td>\n",
       "      <td>train</td>\n",
       "      <td>0.788742</td>\n",
       "      <td>0.211258</td>\n",
       "      <td>0.788925</td>\n",
       "      <td>0.211258</td>\n",
       "    </tr>\n",
       "    <tr>\n",
       "      <th>3</th>\n",
       "      <td>2</td>\n",
       "      <td>test</td>\n",
       "      <td>0.702859</td>\n",
       "      <td>0.255045</td>\n",
       "      <td>0.703310</td>\n",
       "      <td>0.255045</td>\n",
       "    </tr>\n",
       "    <tr>\n",
       "      <th>4</th>\n",
       "      <td>2</td>\n",
       "      <td>validation</td>\n",
       "      <td>0.758613</td>\n",
       "      <td>0.254566</td>\n",
       "      <td>0.759416</td>\n",
       "      <td>0.254566</td>\n",
       "    </tr>\n",
       "    <tr>\n",
       "      <th>5</th>\n",
       "      <td>2</td>\n",
       "      <td>train</td>\n",
       "      <td>0.755650</td>\n",
       "      <td>0.244350</td>\n",
       "      <td>0.755759</td>\n",
       "      <td>0.244350</td>\n",
       "    </tr>\n",
       "    <tr>\n",
       "      <th>6</th>\n",
       "      <td>3</td>\n",
       "      <td>test</td>\n",
       "      <td>0.727863</td>\n",
       "      <td>0.233584</td>\n",
       "      <td>0.763783</td>\n",
       "      <td>0.233584</td>\n",
       "    </tr>\n",
       "    <tr>\n",
       "      <th>7</th>\n",
       "      <td>3</td>\n",
       "      <td>validation</td>\n",
       "      <td>0.770581</td>\n",
       "      <td>0.241944</td>\n",
       "      <td>0.811797</td>\n",
       "      <td>0.241944</td>\n",
       "    </tr>\n",
       "    <tr>\n",
       "      <th>8</th>\n",
       "      <td>3</td>\n",
       "      <td>train</td>\n",
       "      <td>0.754616</td>\n",
       "      <td>0.245384</td>\n",
       "      <td>0.795402</td>\n",
       "      <td>0.245384</td>\n",
       "    </tr>\n",
       "    <tr>\n",
       "      <th>9</th>\n",
       "      <td>4</td>\n",
       "      <td>test</td>\n",
       "      <td>0.713577</td>\n",
       "      <td>0.245845</td>\n",
       "      <td>0.724897</td>\n",
       "      <td>0.245845</td>\n",
       "    </tr>\n",
       "    <tr>\n",
       "      <th>10</th>\n",
       "      <td>4</td>\n",
       "      <td>validation</td>\n",
       "      <td>0.780207</td>\n",
       "      <td>0.231793</td>\n",
       "      <td>0.794755</td>\n",
       "      <td>0.231793</td>\n",
       "    </tr>\n",
       "    <tr>\n",
       "      <th>11</th>\n",
       "      <td>4</td>\n",
       "      <td>train</td>\n",
       "      <td>0.764435</td>\n",
       "      <td>0.235565</td>\n",
       "      <td>0.779197</td>\n",
       "      <td>0.235565</td>\n",
       "    </tr>\n",
       "  </tbody>\n",
       "</table>\n",
       "</div>"
      ],
      "text/plain": [
       "    job_id       split        r2       mse  explained_variance      loss\n",
       "0        1        test  0.712765  0.246542            0.714026  0.246542\n",
       "1        1  validation  0.776292  0.235921            0.776550  0.235921\n",
       "2        1       train  0.788742  0.211258            0.788925  0.211258\n",
       "3        2        test  0.702859  0.255045            0.703310  0.255045\n",
       "4        2  validation  0.758613  0.254566            0.759416  0.254566\n",
       "5        2       train  0.755650  0.244350            0.755759  0.244350\n",
       "6        3        test  0.727863  0.233584            0.763783  0.233584\n",
       "7        3  validation  0.770581  0.241944            0.811797  0.241944\n",
       "8        3       train  0.754616  0.245384            0.795402  0.245384\n",
       "9        4        test  0.713577  0.245845            0.724897  0.245845\n",
       "10       4  validation  0.780207  0.231793            0.794755  0.231793\n",
       "11       4       train  0.764435  0.235565            0.779197  0.235565"
      ]
     },
     "execution_count": 21,
     "metadata": {},
     "output_type": "execute_result"
    }
   ],
   "source": [
    "batch.metrics_to_pandas()"
   ]
  },
  {
   "cell_type": "markdown",
   "metadata": {},
   "source": [
    "## Example: supervised multi-classification with cross-fold validation"
   ]
  },
  {
   "cell_type": "markdown",
   "metadata": {},
   "source": [
    "The following method uses *demo_file* 'iris_10x.tsv', so if you see duplicate samples that is why."
   ]
  },
  {
   "cell_type": "code",
   "execution_count": 4,
   "metadata": {},
   "outputs": [],
   "source": [
    "batch = examples.make_demo_batch('multiclass_folded')"
   ]
  },
  {
   "cell_type": "code",
   "execution_count": 23,
   "metadata": {},
   "outputs": [
    {
     "data": {
      "text/plain": [
       "[0, 1, 2]"
      ]
     },
     "execution_count": 23,
     "metadata": {},
     "output_type": "execute_result"
    }
   ],
   "source": [
    "batch.splitset.label.unique_classes"
   ]
  },
  {
   "cell_type": "code",
   "execution_count": 5,
   "metadata": {},
   "outputs": [
    {
     "name": "stderr",
     "output_type": "stream",
     "text": [
      "🔮 Training Models 🔮: 100%|████████████████████████████████████████| 10/10 [00:48<00:00,  4.88s/it]\n"
     ]
    }
   ],
   "source": [
    "batch.run_jobs()"
   ]
  },
  {
   "cell_type": "code",
   "execution_count": 6,
   "metadata": {},
   "outputs": [
    {
     "data": {
      "text/plain": [
       "10"
      ]
     },
     "execution_count": 6,
     "metadata": {},
     "output_type": "execute_result"
    }
   ],
   "source": [
    "batch.job_count"
   ]
  },
  {
   "cell_type": "code",
   "execution_count": 27,
   "metadata": {},
   "outputs": [
    {
     "data": {
      "text/html": [
       "<div>\n",
       "<style scoped>\n",
       "    .dataframe tbody tr th:only-of-type {\n",
       "        vertical-align: middle;\n",
       "    }\n",
       "\n",
       "    .dataframe tbody tr th {\n",
       "        vertical-align: top;\n",
       "    }\n",
       "\n",
       "    .dataframe thead th {\n",
       "        text-align: right;\n",
       "    }\n",
       "</style>\n",
       "<table border=\"1\" class=\"dataframe\">\n",
       "  <thead>\n",
       "    <tr style=\"text-align: right;\">\n",
       "      <th></th>\n",
       "      <th>job_id</th>\n",
       "      <th>split</th>\n",
       "      <th>roc_auc</th>\n",
       "      <th>accuracy</th>\n",
       "      <th>precision</th>\n",
       "      <th>recall</th>\n",
       "      <th>f1</th>\n",
       "      <th>loss</th>\n",
       "    </tr>\n",
       "  </thead>\n",
       "  <tbody>\n",
       "    <tr>\n",
       "      <th>0</th>\n",
       "      <td>5</td>\n",
       "      <td>test</td>\n",
       "      <td>0.999763</td>\n",
       "      <td>0.986667</td>\n",
       "      <td>0.986724</td>\n",
       "      <td>0.986667</td>\n",
       "      <td>0.986666</td>\n",
       "      <td>0.036607</td>\n",
       "    </tr>\n",
       "    <tr>\n",
       "      <th>1</th>\n",
       "      <td>5</td>\n",
       "      <td>folds_train_combined</td>\n",
       "      <td>0.999641</td>\n",
       "      <td>0.984524</td>\n",
       "      <td>0.984530</td>\n",
       "      <td>0.984524</td>\n",
       "      <td>0.984525</td>\n",
       "      <td>0.040695</td>\n",
       "    </tr>\n",
       "    <tr>\n",
       "      <th>2</th>\n",
       "      <td>5</td>\n",
       "      <td>fold_validation</td>\n",
       "      <td>1.000000</td>\n",
       "      <td>0.995238</td>\n",
       "      <td>0.995320</td>\n",
       "      <td>0.995238</td>\n",
       "      <td>0.995243</td>\n",
       "      <td>0.027615</td>\n",
       "    </tr>\n",
       "    <tr>\n",
       "      <th>3</th>\n",
       "      <td>6</td>\n",
       "      <td>test</td>\n",
       "      <td>1.000000</td>\n",
       "      <td>0.991111</td>\n",
       "      <td>0.991342</td>\n",
       "      <td>0.991111</td>\n",
       "      <td>0.991110</td>\n",
       "      <td>0.019178</td>\n",
       "    </tr>\n",
       "    <tr>\n",
       "      <th>4</th>\n",
       "      <td>6</td>\n",
       "      <td>folds_train_combined</td>\n",
       "      <td>1.000000</td>\n",
       "      <td>0.992857</td>\n",
       "      <td>0.993000</td>\n",
       "      <td>0.992857</td>\n",
       "      <td>0.992854</td>\n",
       "      <td>0.019741</td>\n",
       "    </tr>\n",
       "    <tr>\n",
       "      <th>5</th>\n",
       "      <td>6</td>\n",
       "      <td>fold_validation</td>\n",
       "      <td>1.000000</td>\n",
       "      <td>0.995238</td>\n",
       "      <td>0.995320</td>\n",
       "      <td>0.995238</td>\n",
       "      <td>0.995243</td>\n",
       "      <td>0.012979</td>\n",
       "    </tr>\n",
       "    <tr>\n",
       "      <th>6</th>\n",
       "      <td>7</td>\n",
       "      <td>test</td>\n",
       "      <td>0.999881</td>\n",
       "      <td>0.991111</td>\n",
       "      <td>0.991342</td>\n",
       "      <td>0.991111</td>\n",
       "      <td>0.991110</td>\n",
       "      <td>0.038708</td>\n",
       "    </tr>\n",
       "    <tr>\n",
       "      <th>7</th>\n",
       "      <td>7</td>\n",
       "      <td>folds_train_combined</td>\n",
       "      <td>0.999872</td>\n",
       "      <td>0.994048</td>\n",
       "      <td>0.994150</td>\n",
       "      <td>0.994048</td>\n",
       "      <td>0.994046</td>\n",
       "      <td>0.037343</td>\n",
       "    </tr>\n",
       "    <tr>\n",
       "      <th>8</th>\n",
       "      <td>7</td>\n",
       "      <td>fold_validation</td>\n",
       "      <td>0.999866</td>\n",
       "      <td>0.990476</td>\n",
       "      <td>0.990769</td>\n",
       "      <td>0.990476</td>\n",
       "      <td>0.990484</td>\n",
       "      <td>0.042127</td>\n",
       "    </tr>\n",
       "    <tr>\n",
       "      <th>9</th>\n",
       "      <td>8</td>\n",
       "      <td>test</td>\n",
       "      <td>1.000000</td>\n",
       "      <td>0.982222</td>\n",
       "      <td>0.983122</td>\n",
       "      <td>0.982222</td>\n",
       "      <td>0.982210</td>\n",
       "      <td>0.032874</td>\n",
       "    </tr>\n",
       "    <tr>\n",
       "      <th>10</th>\n",
       "      <td>8</td>\n",
       "      <td>folds_train_combined</td>\n",
       "      <td>1.000000</td>\n",
       "      <td>0.978571</td>\n",
       "      <td>0.979836</td>\n",
       "      <td>0.978571</td>\n",
       "      <td>0.978539</td>\n",
       "      <td>0.034538</td>\n",
       "    </tr>\n",
       "    <tr>\n",
       "      <th>11</th>\n",
       "      <td>8</td>\n",
       "      <td>fold_validation</td>\n",
       "      <td>1.000000</td>\n",
       "      <td>0.985714</td>\n",
       "      <td>0.986364</td>\n",
       "      <td>0.985714</td>\n",
       "      <td>0.985728</td>\n",
       "      <td>0.034122</td>\n",
       "    </tr>\n",
       "    <tr>\n",
       "      <th>12</th>\n",
       "      <td>9</td>\n",
       "      <td>test</td>\n",
       "      <td>0.999763</td>\n",
       "      <td>0.986667</td>\n",
       "      <td>0.986724</td>\n",
       "      <td>0.986667</td>\n",
       "      <td>0.986666</td>\n",
       "      <td>0.025940</td>\n",
       "    </tr>\n",
       "    <tr>\n",
       "      <th>13</th>\n",
       "      <td>9</td>\n",
       "      <td>folds_train_combined</td>\n",
       "      <td>0.999719</td>\n",
       "      <td>0.985714</td>\n",
       "      <td>0.985714</td>\n",
       "      <td>0.985714</td>\n",
       "      <td>0.985714</td>\n",
       "      <td>0.026913</td>\n",
       "    </tr>\n",
       "    <tr>\n",
       "      <th>14</th>\n",
       "      <td>9</td>\n",
       "      <td>fold_validation</td>\n",
       "      <td>0.999796</td>\n",
       "      <td>0.990476</td>\n",
       "      <td>0.990476</td>\n",
       "      <td>0.990476</td>\n",
       "      <td>0.990476</td>\n",
       "      <td>0.024996</td>\n",
       "    </tr>\n",
       "    <tr>\n",
       "      <th>15</th>\n",
       "      <td>10</td>\n",
       "      <td>test</td>\n",
       "      <td>0.999881</td>\n",
       "      <td>0.986667</td>\n",
       "      <td>0.986724</td>\n",
       "      <td>0.986667</td>\n",
       "      <td>0.986666</td>\n",
       "      <td>0.011396</td>\n",
       "    </tr>\n",
       "    <tr>\n",
       "      <th>16</th>\n",
       "      <td>10</td>\n",
       "      <td>folds_train_combined</td>\n",
       "      <td>0.999847</td>\n",
       "      <td>0.985714</td>\n",
       "      <td>0.985714</td>\n",
       "      <td>0.985714</td>\n",
       "      <td>0.985714</td>\n",
       "      <td>0.012779</td>\n",
       "    </tr>\n",
       "    <tr>\n",
       "      <th>17</th>\n",
       "      <td>10</td>\n",
       "      <td>fold_validation</td>\n",
       "      <td>0.999932</td>\n",
       "      <td>0.990476</td>\n",
       "      <td>0.990476</td>\n",
       "      <td>0.990476</td>\n",
       "      <td>0.990476</td>\n",
       "      <td>0.009154</td>\n",
       "    </tr>\n",
       "    <tr>\n",
       "      <th>18</th>\n",
       "      <td>11</td>\n",
       "      <td>test</td>\n",
       "      <td>0.999881</td>\n",
       "      <td>0.995556</td>\n",
       "      <td>0.995614</td>\n",
       "      <td>0.995556</td>\n",
       "      <td>0.995555</td>\n",
       "      <td>0.029965</td>\n",
       "    </tr>\n",
       "    <tr>\n",
       "      <th>19</th>\n",
       "      <td>11</td>\n",
       "      <td>folds_train_combined</td>\n",
       "      <td>0.999849</td>\n",
       "      <td>0.995238</td>\n",
       "      <td>0.995306</td>\n",
       "      <td>0.995238</td>\n",
       "      <td>0.995237</td>\n",
       "      <td>0.026955</td>\n",
       "    </tr>\n",
       "    <tr>\n",
       "      <th>20</th>\n",
       "      <td>11</td>\n",
       "      <td>fold_validation</td>\n",
       "      <td>0.998933</td>\n",
       "      <td>0.985714</td>\n",
       "      <td>0.986278</td>\n",
       "      <td>0.985714</td>\n",
       "      <td>0.985720</td>\n",
       "      <td>0.055276</td>\n",
       "    </tr>\n",
       "    <tr>\n",
       "      <th>21</th>\n",
       "      <td>12</td>\n",
       "      <td>test</td>\n",
       "      <td>1.000000</td>\n",
       "      <td>1.000000</td>\n",
       "      <td>1.000000</td>\n",
       "      <td>1.000000</td>\n",
       "      <td>1.000000</td>\n",
       "      <td>0.013377</td>\n",
       "    </tr>\n",
       "    <tr>\n",
       "      <th>22</th>\n",
       "      <td>12</td>\n",
       "      <td>folds_train_combined</td>\n",
       "      <td>1.000000</td>\n",
       "      <td>1.000000</td>\n",
       "      <td>1.000000</td>\n",
       "      <td>1.000000</td>\n",
       "      <td>1.000000</td>\n",
       "      <td>0.011960</td>\n",
       "    </tr>\n",
       "    <tr>\n",
       "      <th>23</th>\n",
       "      <td>12</td>\n",
       "      <td>fold_validation</td>\n",
       "      <td>1.000000</td>\n",
       "      <td>1.000000</td>\n",
       "      <td>1.000000</td>\n",
       "      <td>1.000000</td>\n",
       "      <td>1.000000</td>\n",
       "      <td>0.023287</td>\n",
       "    </tr>\n",
       "    <tr>\n",
       "      <th>24</th>\n",
       "      <td>13</td>\n",
       "      <td>test</td>\n",
       "      <td>0.999763</td>\n",
       "      <td>0.986667</td>\n",
       "      <td>0.986724</td>\n",
       "      <td>0.986667</td>\n",
       "      <td>0.986666</td>\n",
       "      <td>0.037770</td>\n",
       "    </tr>\n",
       "    <tr>\n",
       "      <th>25</th>\n",
       "      <td>13</td>\n",
       "      <td>folds_train_combined</td>\n",
       "      <td>0.999638</td>\n",
       "      <td>0.978571</td>\n",
       "      <td>0.978838</td>\n",
       "      <td>0.978571</td>\n",
       "      <td>0.978573</td>\n",
       "      <td>0.040645</td>\n",
       "    </tr>\n",
       "    <tr>\n",
       "      <th>26</th>\n",
       "      <td>13</td>\n",
       "      <td>fold_validation</td>\n",
       "      <td>0.999457</td>\n",
       "      <td>0.985714</td>\n",
       "      <td>0.985796</td>\n",
       "      <td>0.985714</td>\n",
       "      <td>0.985722</td>\n",
       "      <td>0.036220</td>\n",
       "    </tr>\n",
       "  </tbody>\n",
       "</table>\n",
       "</div>"
      ],
      "text/plain": [
       "    job_id                 split   roc_auc  accuracy  precision    recall  \\\n",
       "0        5                  test  0.999763  0.986667   0.986724  0.986667   \n",
       "1        5  folds_train_combined  0.999641  0.984524   0.984530  0.984524   \n",
       "2        5       fold_validation  1.000000  0.995238   0.995320  0.995238   \n",
       "3        6                  test  1.000000  0.991111   0.991342  0.991111   \n",
       "4        6  folds_train_combined  1.000000  0.992857   0.993000  0.992857   \n",
       "5        6       fold_validation  1.000000  0.995238   0.995320  0.995238   \n",
       "6        7                  test  0.999881  0.991111   0.991342  0.991111   \n",
       "7        7  folds_train_combined  0.999872  0.994048   0.994150  0.994048   \n",
       "8        7       fold_validation  0.999866  0.990476   0.990769  0.990476   \n",
       "9        8                  test  1.000000  0.982222   0.983122  0.982222   \n",
       "10       8  folds_train_combined  1.000000  0.978571   0.979836  0.978571   \n",
       "11       8       fold_validation  1.000000  0.985714   0.986364  0.985714   \n",
       "12       9                  test  0.999763  0.986667   0.986724  0.986667   \n",
       "13       9  folds_train_combined  0.999719  0.985714   0.985714  0.985714   \n",
       "14       9       fold_validation  0.999796  0.990476   0.990476  0.990476   \n",
       "15      10                  test  0.999881  0.986667   0.986724  0.986667   \n",
       "16      10  folds_train_combined  0.999847  0.985714   0.985714  0.985714   \n",
       "17      10       fold_validation  0.999932  0.990476   0.990476  0.990476   \n",
       "18      11                  test  0.999881  0.995556   0.995614  0.995556   \n",
       "19      11  folds_train_combined  0.999849  0.995238   0.995306  0.995238   \n",
       "20      11       fold_validation  0.998933  0.985714   0.986278  0.985714   \n",
       "21      12                  test  1.000000  1.000000   1.000000  1.000000   \n",
       "22      12  folds_train_combined  1.000000  1.000000   1.000000  1.000000   \n",
       "23      12       fold_validation  1.000000  1.000000   1.000000  1.000000   \n",
       "24      13                  test  0.999763  0.986667   0.986724  0.986667   \n",
       "25      13  folds_train_combined  0.999638  0.978571   0.978838  0.978571   \n",
       "26      13       fold_validation  0.999457  0.985714   0.985796  0.985714   \n",
       "\n",
       "          f1      loss  \n",
       "0   0.986666  0.036607  \n",
       "1   0.984525  0.040695  \n",
       "2   0.995243  0.027615  \n",
       "3   0.991110  0.019178  \n",
       "4   0.992854  0.019741  \n",
       "5   0.995243  0.012979  \n",
       "6   0.991110  0.038708  \n",
       "7   0.994046  0.037343  \n",
       "8   0.990484  0.042127  \n",
       "9   0.982210  0.032874  \n",
       "10  0.978539  0.034538  \n",
       "11  0.985728  0.034122  \n",
       "12  0.986666  0.025940  \n",
       "13  0.985714  0.026913  \n",
       "14  0.990476  0.024996  \n",
       "15  0.986666  0.011396  \n",
       "16  0.985714  0.012779  \n",
       "17  0.990476  0.009154  \n",
       "18  0.995555  0.029965  \n",
       "19  0.995237  0.026955  \n",
       "20  0.985720  0.055276  \n",
       "21  1.000000  0.013377  \n",
       "22  1.000000  0.011960  \n",
       "23  1.000000  0.023287  \n",
       "24  0.986666  0.037770  \n",
       "25  0.978573  0.040645  \n",
       "26  0.985722  0.036220  "
      ]
     },
     "execution_count": 27,
     "metadata": {},
     "output_type": "execute_result"
    }
   ],
   "source": [
    "batch.metrics_to_pandas()"
   ]
  },
  {
   "cell_type": "code",
   "execution_count": 9,
   "metadata": {},
   "outputs": [
    {
     "data": {
      "application/vnd.plotly.v1+json": {
       "config": {
        "plotlyServerURL": "https://plot.ly"
       },
       "data": [
        {
         "customdata": [
          [
           786,
           "test",
           0.049,
           0.989
          ],
          [
           786,
           "folds_train_combined",
           0.034,
           0.994
          ],
          [
           786,
           "fold_validation",
           0.052,
           0.99
          ]
         ],
         "hovertemplate": "job_id=%{customdata[0]}<br>loss=%{customdata[2]}<br>accuracy=%{customdata[3]}<br>split=%{customdata[1]}<extra></extra>",
         "legendgroup": "786",
         "line": {
          "color": "#636efa",
          "dash": "solid",
          "shape": "spline",
          "width": 2
         },
         "marker": {
          "line": {
           "color": "white",
           "width": 2
          },
          "size": 8
         },
         "mode": "markers+lines",
         "name": "786",
         "orientation": "v",
         "showlegend": true,
         "type": "scatter",
         "x": [
          0.049,
          0.034,
          0.052
         ],
         "xaxis": "x",
         "y": [
          0.989,
          0.994,
          0.99
         ],
         "yaxis": "y"
        },
        {
         "customdata": [
          [
           787,
           "test",
           0.022,
           1
          ],
          [
           787,
           "folds_train_combined",
           0.019,
           1
          ],
          [
           787,
           "fold_validation",
           0.023,
           1
          ]
         ],
         "hovertemplate": "job_id=%{customdata[0]}<br>loss=%{customdata[2]}<br>accuracy=%{customdata[3]}<br>split=%{customdata[1]}<extra></extra>",
         "legendgroup": "787",
         "line": {
          "color": "#EF553B",
          "dash": "solid",
          "shape": "spline",
          "width": 2
         },
         "marker": {
          "line": {
           "color": "white",
           "width": 2
          },
          "size": 8
         },
         "mode": "markers+lines",
         "name": "787",
         "orientation": "v",
         "showlegend": true,
         "type": "scatter",
         "x": [
          0.022,
          0.019,
          0.023
         ],
         "xaxis": "x",
         "y": [
          1,
          1,
          1
         ],
         "yaxis": "y"
        },
        {
         "customdata": [
          [
           788,
           "test",
           0.036,
           0.98
          ],
          [
           788,
           "folds_train_combined",
           0.025,
           0.987
          ],
          [
           788,
           "fold_validation",
           0.035,
           0.986
          ]
         ],
         "hovertemplate": "job_id=%{customdata[0]}<br>loss=%{customdata[2]}<br>accuracy=%{customdata[3]}<br>split=%{customdata[1]}<extra></extra>",
         "legendgroup": "788",
         "line": {
          "color": "#00cc96",
          "dash": "solid",
          "shape": "spline",
          "width": 2
         },
         "marker": {
          "line": {
           "color": "white",
           "width": 2
          },
          "size": 8
         },
         "mode": "markers+lines",
         "name": "788",
         "orientation": "v",
         "showlegend": true,
         "type": "scatter",
         "x": [
          0.036,
          0.025,
          0.035
         ],
         "xaxis": "x",
         "y": [
          0.98,
          0.987,
          0.986
         ],
         "yaxis": "y"
        },
        {
         "customdata": [
          [
           789,
           "test",
           0.035,
           0.991
          ],
          [
           789,
           "folds_train_combined",
           0.031,
           0.993
          ],
          [
           789,
           "fold_validation",
           0.03,
           0.995
          ]
         ],
         "hovertemplate": "job_id=%{customdata[0]}<br>loss=%{customdata[2]}<br>accuracy=%{customdata[3]}<br>split=%{customdata[1]}<extra></extra>",
         "legendgroup": "789",
         "line": {
          "color": "#ab63fa",
          "dash": "solid",
          "shape": "spline",
          "width": 2
         },
         "marker": {
          "line": {
           "color": "white",
           "width": 2
          },
          "size": 8
         },
         "mode": "markers+lines",
         "name": "789",
         "orientation": "v",
         "showlegend": true,
         "type": "scatter",
         "x": [
          0.035,
          0.031,
          0.03
         ],
         "xaxis": "x",
         "y": [
          0.991,
          0.993,
          0.995
         ],
         "yaxis": "y"
        },
        {
         "customdata": [
          [
           790,
           "test",
           0.035,
           0.987
          ],
          [
           790,
           "folds_train_combined",
           0.029,
           0.988
          ],
          [
           790,
           "fold_validation",
           0.048,
           0.981
          ]
         ],
         "hovertemplate": "job_id=%{customdata[0]}<br>loss=%{customdata[2]}<br>accuracy=%{customdata[3]}<br>split=%{customdata[1]}<extra></extra>",
         "legendgroup": "790",
         "line": {
          "color": "#FFA15A",
          "dash": "solid",
          "shape": "spline",
          "width": 2
         },
         "marker": {
          "line": {
           "color": "white",
           "width": 2
          },
          "size": 8
         },
         "mode": "markers+lines",
         "name": "790",
         "orientation": "v",
         "showlegend": true,
         "type": "scatter",
         "x": [
          0.035,
          0.029,
          0.048
         ],
         "xaxis": "x",
         "y": [
          0.987,
          0.988,
          0.981
         ],
         "yaxis": "y"
        },
        {
         "customdata": [
          [
           791,
           "test",
           0.022,
           0.989
          ],
          [
           791,
           "folds_train_combined",
           0.016,
           0.992
          ],
          [
           791,
           "fold_validation",
           0.008,
           1
          ]
         ],
         "hovertemplate": "job_id=%{customdata[0]}<br>loss=%{customdata[2]}<br>accuracy=%{customdata[3]}<br>split=%{customdata[1]}<extra></extra>",
         "legendgroup": "791",
         "line": {
          "color": "#19d3f3",
          "dash": "solid",
          "shape": "spline",
          "width": 2
         },
         "marker": {
          "line": {
           "color": "white",
           "width": 2
          },
          "size": 8
         },
         "mode": "markers+lines",
         "name": "791",
         "orientation": "v",
         "showlegend": true,
         "type": "scatter",
         "x": [
          0.022,
          0.016,
          0.008
         ],
         "xaxis": "x",
         "y": [
          0.989,
          0.992,
          1
         ],
         "yaxis": "y"
        },
        {
         "customdata": [
          [
           792,
           "test",
           0.055,
           0.976
          ],
          [
           792,
           "folds_train_combined",
           0.059,
           0.971
          ],
          [
           792,
           "fold_validation",
           0.055,
           0.981
          ]
         ],
         "hovertemplate": "job_id=%{customdata[0]}<br>loss=%{customdata[2]}<br>accuracy=%{customdata[3]}<br>split=%{customdata[1]}<extra></extra>",
         "legendgroup": "792",
         "line": {
          "color": "#FF6692",
          "dash": "solid",
          "shape": "spline",
          "width": 2
         },
         "marker": {
          "line": {
           "color": "white",
           "width": 2
          },
          "size": 8
         },
         "mode": "markers+lines",
         "name": "792",
         "orientation": "v",
         "showlegend": true,
         "type": "scatter",
         "x": [
          0.055,
          0.059,
          0.055
         ],
         "xaxis": "x",
         "y": [
          0.976,
          0.971,
          0.981
         ],
         "yaxis": "y"
        },
        {
         "customdata": [
          [
           793,
           "test",
           0.03,
           0.98
          ],
          [
           793,
           "folds_train_combined",
           0.029,
           0.986
          ],
          [
           793,
           "fold_validation",
           0.024,
           0.99
          ]
         ],
         "hovertemplate": "job_id=%{customdata[0]}<br>loss=%{customdata[2]}<br>accuracy=%{customdata[3]}<br>split=%{customdata[1]}<extra></extra>",
         "legendgroup": "793",
         "line": {
          "color": "#B6E880",
          "dash": "solid",
          "shape": "spline",
          "width": 2
         },
         "marker": {
          "line": {
           "color": "white",
           "width": 2
          },
          "size": 8
         },
         "mode": "markers+lines",
         "name": "793",
         "orientation": "v",
         "showlegend": true,
         "type": "scatter",
         "x": [
          0.03,
          0.029,
          0.024
         ],
         "xaxis": "x",
         "y": [
          0.98,
          0.986,
          0.99
         ],
         "yaxis": "y"
        },
        {
         "customdata": [
          [
           794,
           "test",
           0.014,
           1
          ],
          [
           794,
           "folds_train_combined",
           0.015,
           1
          ],
          [
           794,
           "fold_validation",
           0.024,
           1
          ]
         ],
         "hovertemplate": "job_id=%{customdata[0]}<br>loss=%{customdata[2]}<br>accuracy=%{customdata[3]}<br>split=%{customdata[1]}<extra></extra>",
         "legendgroup": "794",
         "line": {
          "color": "#FF97FF",
          "dash": "solid",
          "shape": "spline",
          "width": 2
         },
         "marker": {
          "line": {
           "color": "white",
           "width": 2
          },
          "size": 8
         },
         "mode": "markers+lines",
         "name": "794",
         "orientation": "v",
         "showlegend": true,
         "type": "scatter",
         "visible": true,
         "x": [
          0.014,
          0.015,
          0.024
         ],
         "xaxis": "x",
         "y": [
          1,
          1,
          1
         ],
         "yaxis": "y"
        },
        {
         "customdata": [
          [
           795,
           "test",
           0.051,
           0.976
          ],
          [
           795,
           "folds_train_combined",
           0.049,
           0.977
          ],
          [
           795,
           "fold_validation",
           0.066,
           0.957
          ]
         ],
         "hovertemplate": "job_id=%{customdata[0]}<br>loss=%{customdata[2]}<br>accuracy=%{customdata[3]}<br>split=%{customdata[1]}<extra></extra>",
         "legendgroup": "795",
         "line": {
          "color": "#FECB52",
          "dash": "solid",
          "shape": "spline",
          "width": 2
         },
         "marker": {
          "line": {
           "color": "white",
           "width": 2
          },
          "size": 8
         },
         "mode": "markers+lines",
         "name": "795",
         "orientation": "v",
         "showlegend": true,
         "type": "scatter",
         "x": [
          0.051,
          0.049,
          0.066
         ],
         "xaxis": "x",
         "y": [
          0.976,
          0.977,
          0.957
         ],
         "yaxis": "y"
        }
       ],
       "layout": {
        "autosize": true,
        "font": {
         "color": "#FAFAFA",
         "family": "Avenir"
        },
        "hoverlabel": {
         "bgcolor": "#0F0F0F",
         "font": {
          "family": "Avenir",
          "size": 15
         }
        },
        "legend": {
         "title": {
          "text": "job_id"
         },
         "tracegroupgap": 0
        },
        "paper_bgcolor": "#181B1E",
        "plot_bgcolor": "#181B1E",
        "template": {
         "data": {
          "bar": [
           {
            "error_x": {
             "color": "#2a3f5f"
            },
            "error_y": {
             "color": "#2a3f5f"
            },
            "marker": {
             "line": {
              "color": "#E5ECF6",
              "width": 0.5
             }
            },
            "type": "bar"
           }
          ],
          "barpolar": [
           {
            "marker": {
             "line": {
              "color": "#E5ECF6",
              "width": 0.5
             }
            },
            "type": "barpolar"
           }
          ],
          "carpet": [
           {
            "aaxis": {
             "endlinecolor": "#2a3f5f",
             "gridcolor": "white",
             "linecolor": "white",
             "minorgridcolor": "white",
             "startlinecolor": "#2a3f5f"
            },
            "baxis": {
             "endlinecolor": "#2a3f5f",
             "gridcolor": "white",
             "linecolor": "white",
             "minorgridcolor": "white",
             "startlinecolor": "#2a3f5f"
            },
            "type": "carpet"
           }
          ],
          "choropleth": [
           {
            "colorbar": {
             "outlinewidth": 0,
             "ticks": ""
            },
            "type": "choropleth"
           }
          ],
          "contour": [
           {
            "colorbar": {
             "outlinewidth": 0,
             "ticks": ""
            },
            "colorscale": [
             [
              0,
              "#0d0887"
             ],
             [
              0.1111111111111111,
              "#46039f"
             ],
             [
              0.2222222222222222,
              "#7201a8"
             ],
             [
              0.3333333333333333,
              "#9c179e"
             ],
             [
              0.4444444444444444,
              "#bd3786"
             ],
             [
              0.5555555555555556,
              "#d8576b"
             ],
             [
              0.6666666666666666,
              "#ed7953"
             ],
             [
              0.7777777777777778,
              "#fb9f3a"
             ],
             [
              0.8888888888888888,
              "#fdca26"
             ],
             [
              1,
              "#f0f921"
             ]
            ],
            "type": "contour"
           }
          ],
          "contourcarpet": [
           {
            "colorbar": {
             "outlinewidth": 0,
             "ticks": ""
            },
            "type": "contourcarpet"
           }
          ],
          "heatmap": [
           {
            "colorbar": {
             "outlinewidth": 0,
             "ticks": ""
            },
            "colorscale": [
             [
              0,
              "#0d0887"
             ],
             [
              0.1111111111111111,
              "#46039f"
             ],
             [
              0.2222222222222222,
              "#7201a8"
             ],
             [
              0.3333333333333333,
              "#9c179e"
             ],
             [
              0.4444444444444444,
              "#bd3786"
             ],
             [
              0.5555555555555556,
              "#d8576b"
             ],
             [
              0.6666666666666666,
              "#ed7953"
             ],
             [
              0.7777777777777778,
              "#fb9f3a"
             ],
             [
              0.8888888888888888,
              "#fdca26"
             ],
             [
              1,
              "#f0f921"
             ]
            ],
            "type": "heatmap"
           }
          ],
          "heatmapgl": [
           {
            "colorbar": {
             "outlinewidth": 0,
             "ticks": ""
            },
            "colorscale": [
             [
              0,
              "#0d0887"
             ],
             [
              0.1111111111111111,
              "#46039f"
             ],
             [
              0.2222222222222222,
              "#7201a8"
             ],
             [
              0.3333333333333333,
              "#9c179e"
             ],
             [
              0.4444444444444444,
              "#bd3786"
             ],
             [
              0.5555555555555556,
              "#d8576b"
             ],
             [
              0.6666666666666666,
              "#ed7953"
             ],
             [
              0.7777777777777778,
              "#fb9f3a"
             ],
             [
              0.8888888888888888,
              "#fdca26"
             ],
             [
              1,
              "#f0f921"
             ]
            ],
            "type": "heatmapgl"
           }
          ],
          "histogram": [
           {
            "marker": {
             "colorbar": {
              "outlinewidth": 0,
              "ticks": ""
             }
            },
            "type": "histogram"
           }
          ],
          "histogram2d": [
           {
            "colorbar": {
             "outlinewidth": 0,
             "ticks": ""
            },
            "colorscale": [
             [
              0,
              "#0d0887"
             ],
             [
              0.1111111111111111,
              "#46039f"
             ],
             [
              0.2222222222222222,
              "#7201a8"
             ],
             [
              0.3333333333333333,
              "#9c179e"
             ],
             [
              0.4444444444444444,
              "#bd3786"
             ],
             [
              0.5555555555555556,
              "#d8576b"
             ],
             [
              0.6666666666666666,
              "#ed7953"
             ],
             [
              0.7777777777777778,
              "#fb9f3a"
             ],
             [
              0.8888888888888888,
              "#fdca26"
             ],
             [
              1,
              "#f0f921"
             ]
            ],
            "type": "histogram2d"
           }
          ],
          "histogram2dcontour": [
           {
            "colorbar": {
             "outlinewidth": 0,
             "ticks": ""
            },
            "colorscale": [
             [
              0,
              "#0d0887"
             ],
             [
              0.1111111111111111,
              "#46039f"
             ],
             [
              0.2222222222222222,
              "#7201a8"
             ],
             [
              0.3333333333333333,
              "#9c179e"
             ],
             [
              0.4444444444444444,
              "#bd3786"
             ],
             [
              0.5555555555555556,
              "#d8576b"
             ],
             [
              0.6666666666666666,
              "#ed7953"
             ],
             [
              0.7777777777777778,
              "#fb9f3a"
             ],
             [
              0.8888888888888888,
              "#fdca26"
             ],
             [
              1,
              "#f0f921"
             ]
            ],
            "type": "histogram2dcontour"
           }
          ],
          "mesh3d": [
           {
            "colorbar": {
             "outlinewidth": 0,
             "ticks": ""
            },
            "type": "mesh3d"
           }
          ],
          "parcoords": [
           {
            "line": {
             "colorbar": {
              "outlinewidth": 0,
              "ticks": ""
             }
            },
            "type": "parcoords"
           }
          ],
          "pie": [
           {
            "automargin": true,
            "type": "pie"
           }
          ],
          "scatter": [
           {
            "marker": {
             "colorbar": {
              "outlinewidth": 0,
              "ticks": ""
             }
            },
            "type": "scatter"
           }
          ],
          "scatter3d": [
           {
            "line": {
             "colorbar": {
              "outlinewidth": 0,
              "ticks": ""
             }
            },
            "marker": {
             "colorbar": {
              "outlinewidth": 0,
              "ticks": ""
             }
            },
            "type": "scatter3d"
           }
          ],
          "scattercarpet": [
           {
            "marker": {
             "colorbar": {
              "outlinewidth": 0,
              "ticks": ""
             }
            },
            "type": "scattercarpet"
           }
          ],
          "scattergeo": [
           {
            "marker": {
             "colorbar": {
              "outlinewidth": 0,
              "ticks": ""
             }
            },
            "type": "scattergeo"
           }
          ],
          "scattergl": [
           {
            "marker": {
             "colorbar": {
              "outlinewidth": 0,
              "ticks": ""
             }
            },
            "type": "scattergl"
           }
          ],
          "scattermapbox": [
           {
            "marker": {
             "colorbar": {
              "outlinewidth": 0,
              "ticks": ""
             }
            },
            "type": "scattermapbox"
           }
          ],
          "scatterpolar": [
           {
            "marker": {
             "colorbar": {
              "outlinewidth": 0,
              "ticks": ""
             }
            },
            "type": "scatterpolar"
           }
          ],
          "scatterpolargl": [
           {
            "marker": {
             "colorbar": {
              "outlinewidth": 0,
              "ticks": ""
             }
            },
            "type": "scatterpolargl"
           }
          ],
          "scatterternary": [
           {
            "marker": {
             "colorbar": {
              "outlinewidth": 0,
              "ticks": ""
             }
            },
            "type": "scatterternary"
           }
          ],
          "surface": [
           {
            "colorbar": {
             "outlinewidth": 0,
             "ticks": ""
            },
            "colorscale": [
             [
              0,
              "#0d0887"
             ],
             [
              0.1111111111111111,
              "#46039f"
             ],
             [
              0.2222222222222222,
              "#7201a8"
             ],
             [
              0.3333333333333333,
              "#9c179e"
             ],
             [
              0.4444444444444444,
              "#bd3786"
             ],
             [
              0.5555555555555556,
              "#d8576b"
             ],
             [
              0.6666666666666666,
              "#ed7953"
             ],
             [
              0.7777777777777778,
              "#fb9f3a"
             ],
             [
              0.8888888888888888,
              "#fdca26"
             ],
             [
              1,
              "#f0f921"
             ]
            ],
            "type": "surface"
           }
          ],
          "table": [
           {
            "cells": {
             "fill": {
              "color": "#EBF0F8"
             },
             "line": {
              "color": "white"
             }
            },
            "header": {
             "fill": {
              "color": "#C8D4E3"
             },
             "line": {
              "color": "white"
             }
            },
            "type": "table"
           }
          ]
         },
         "layout": {
          "annotationdefaults": {
           "arrowcolor": "#2a3f5f",
           "arrowhead": 0,
           "arrowwidth": 1
          },
          "coloraxis": {
           "colorbar": {
            "outlinewidth": 0,
            "ticks": ""
           }
          },
          "colorscale": {
           "diverging": [
            [
             0,
             "#8e0152"
            ],
            [
             0.1,
             "#c51b7d"
            ],
            [
             0.2,
             "#de77ae"
            ],
            [
             0.3,
             "#f1b6da"
            ],
            [
             0.4,
             "#fde0ef"
            ],
            [
             0.5,
             "#f7f7f7"
            ],
            [
             0.6,
             "#e6f5d0"
            ],
            [
             0.7,
             "#b8e186"
            ],
            [
             0.8,
             "#7fbc41"
            ],
            [
             0.9,
             "#4d9221"
            ],
            [
             1,
             "#276419"
            ]
           ],
           "sequential": [
            [
             0,
             "#0d0887"
            ],
            [
             0.1111111111111111,
             "#46039f"
            ],
            [
             0.2222222222222222,
             "#7201a8"
            ],
            [
             0.3333333333333333,
             "#9c179e"
            ],
            [
             0.4444444444444444,
             "#bd3786"
            ],
            [
             0.5555555555555556,
             "#d8576b"
            ],
            [
             0.6666666666666666,
             "#ed7953"
            ],
            [
             0.7777777777777778,
             "#fb9f3a"
            ],
            [
             0.8888888888888888,
             "#fdca26"
            ],
            [
             1,
             "#f0f921"
            ]
           ],
           "sequentialminus": [
            [
             0,
             "#0d0887"
            ],
            [
             0.1111111111111111,
             "#46039f"
            ],
            [
             0.2222222222222222,
             "#7201a8"
            ],
            [
             0.3333333333333333,
             "#9c179e"
            ],
            [
             0.4444444444444444,
             "#bd3786"
            ],
            [
             0.5555555555555556,
             "#d8576b"
            ],
            [
             0.6666666666666666,
             "#ed7953"
            ],
            [
             0.7777777777777778,
             "#fb9f3a"
            ],
            [
             0.8888888888888888,
             "#fdca26"
            ],
            [
             1,
             "#f0f921"
            ]
           ]
          },
          "colorway": [
           "#636efa",
           "#EF553B",
           "#00cc96",
           "#ab63fa",
           "#FFA15A",
           "#19d3f3",
           "#FF6692",
           "#B6E880",
           "#FF97FF",
           "#FECB52"
          ],
          "font": {
           "color": "#2a3f5f"
          },
          "geo": {
           "bgcolor": "white",
           "lakecolor": "white",
           "landcolor": "#E5ECF6",
           "showlakes": true,
           "showland": true,
           "subunitcolor": "white"
          },
          "hoverlabel": {
           "align": "left"
          },
          "hovermode": "closest",
          "mapbox": {
           "style": "light"
          },
          "paper_bgcolor": "white",
          "plot_bgcolor": "#E5ECF6",
          "polar": {
           "angularaxis": {
            "gridcolor": "white",
            "linecolor": "white",
            "ticks": ""
           },
           "bgcolor": "#E5ECF6",
           "radialaxis": {
            "gridcolor": "white",
            "linecolor": "white",
            "ticks": ""
           }
          },
          "scene": {
           "xaxis": {
            "backgroundcolor": "#E5ECF6",
            "gridcolor": "white",
            "gridwidth": 2,
            "linecolor": "white",
            "showbackground": true,
            "ticks": "",
            "zerolinecolor": "white"
           },
           "yaxis": {
            "backgroundcolor": "#E5ECF6",
            "gridcolor": "white",
            "gridwidth": 2,
            "linecolor": "white",
            "showbackground": true,
            "ticks": "",
            "zerolinecolor": "white"
           },
           "zaxis": {
            "backgroundcolor": "#E5ECF6",
            "gridcolor": "white",
            "gridwidth": 2,
            "linecolor": "white",
            "showbackground": true,
            "ticks": "",
            "zerolinecolor": "white"
           }
          },
          "shapedefaults": {
           "line": {
            "color": "#2a3f5f"
           }
          },
          "ternary": {
           "aaxis": {
            "gridcolor": "white",
            "linecolor": "white",
            "ticks": ""
           },
           "baxis": {
            "gridcolor": "white",
            "linecolor": "white",
            "ticks": ""
           },
           "bgcolor": "#E5ECF6",
           "caxis": {
            "gridcolor": "white",
            "linecolor": "white",
            "ticks": ""
           }
          },
          "title": {
           "x": 0.05
          },
          "xaxis": {
           "automargin": true,
           "gridcolor": "white",
           "linecolor": "white",
           "ticks": "",
           "title": {
            "standoff": 15
           },
           "zerolinecolor": "white",
           "zerolinewidth": 2
          },
          "yaxis": {
           "automargin": true,
           "gridcolor": "white",
           "linecolor": "white",
           "ticks": "",
           "title": {
            "standoff": 15
           },
           "zerolinecolor": "white",
           "zerolinewidth": 2
          }
         }
        },
        "title": {
         "text": "<i>Models Metrics by Split</i>"
        },
        "xaxis": {
         "anchor": "y",
         "autorange": true,
         "domain": [
          0,
          1
         ],
         "gridcolor": "#262B2F",
         "range": [
          0.0041945701357466066,
          0.0698054298642534
         ],
         "tickfont": {
          "color": "#818487"
         },
         "title": {
          "text": "Loss"
         },
         "type": "linear",
         "zeroline": false
        },
        "yaxis": {
         "anchor": "x",
         "autorange": true,
         "domain": [
          0,
          1
         ],
         "gridcolor": "#262B2F",
         "range": [
          0.9539619565217391,
          1.0030380434782609
         ],
         "tickfont": {
          "color": "#818487"
         },
         "title": {
          "text": "Accuracy"
         },
         "type": "linear",
         "zeroline": false
        }
       }
      },
      "image/png": "[encoded data removed]",
      "text/html": [
       "<div>\n",
       "        \n",
       "        \n",
       "            <div id=\"f92bb377-42f7-481a-9d56-00c41d6b488a\" class=\"plotly-graph-div\" style=\"height:600px; width:100%;\"></div>\n",
       "            <script type=\"text/javascript\">\n",
       "                require([\"plotly\"], function(Plotly) {\n",
       "                    window.PLOTLYENV=window.PLOTLYENV || {};\n",
       "                    \n",
       "                if (document.getElementById(\"f92bb377-42f7-481a-9d56-00c41d6b488a\")) {\n",
       "                    Plotly.newPlot(\n",
       "                        'f92bb377-42f7-481a-9d56-00c41d6b488a',\n",
       "                        [{\"customdata\": [[786, \"test\", 0.049, 0.989], [786, \"folds_train_combined\", 0.034, 0.994], [786, \"fold_validation\", 0.052, 0.99]], \"hovertemplate\": \"job_id=%{customdata[0]}<br>loss=%{customdata[2]}<br>accuracy=%{customdata[3]}<br>split=%{customdata[1]}<extra></extra>\", \"legendgroup\": \"786\", \"line\": {\"color\": \"#636efa\", \"dash\": \"solid\", \"shape\": \"spline\", \"width\": 2}, \"marker\": {\"line\": {\"color\": \"white\", \"width\": 2}, \"size\": 8}, \"mode\": \"markers+lines\", \"name\": \"786\", \"orientation\": \"v\", \"showlegend\": true, \"type\": \"scatter\", \"x\": [0.049, 0.034, 0.052], \"xaxis\": \"x\", \"y\": [0.989, 0.994, 0.99], \"yaxis\": \"y\"}, {\"customdata\": [[787, \"test\", 0.022, 1.0], [787, \"folds_train_combined\", 0.019, 1.0], [787, \"fold_validation\", 0.023, 1.0]], \"hovertemplate\": \"job_id=%{customdata[0]}<br>loss=%{customdata[2]}<br>accuracy=%{customdata[3]}<br>split=%{customdata[1]}<extra></extra>\", \"legendgroup\": \"787\", \"line\": {\"color\": \"#EF553B\", \"dash\": \"solid\", \"shape\": \"spline\", \"width\": 2}, \"marker\": {\"line\": {\"color\": \"white\", \"width\": 2}, \"size\": 8}, \"mode\": \"markers+lines\", \"name\": \"787\", \"orientation\": \"v\", \"showlegend\": true, \"type\": \"scatter\", \"x\": [0.022, 0.019, 0.023], \"xaxis\": \"x\", \"y\": [1.0, 1.0, 1.0], \"yaxis\": \"y\"}, {\"customdata\": [[788, \"test\", 0.036, 0.98], [788, \"folds_train_combined\", 0.025, 0.987], [788, \"fold_validation\", 0.035, 0.986]], \"hovertemplate\": \"job_id=%{customdata[0]}<br>loss=%{customdata[2]}<br>accuracy=%{customdata[3]}<br>split=%{customdata[1]}<extra></extra>\", \"legendgroup\": \"788\", \"line\": {\"color\": \"#00cc96\", \"dash\": \"solid\", \"shape\": \"spline\", \"width\": 2}, \"marker\": {\"line\": {\"color\": \"white\", \"width\": 2}, \"size\": 8}, \"mode\": \"markers+lines\", \"name\": \"788\", \"orientation\": \"v\", \"showlegend\": true, \"type\": \"scatter\", \"x\": [0.036, 0.025, 0.035], \"xaxis\": \"x\", \"y\": [0.98, 0.987, 0.986], \"yaxis\": \"y\"}, {\"customdata\": [[789, \"test\", 0.035, 0.991], [789, \"folds_train_combined\", 0.031, 0.993], [789, \"fold_validation\", 0.03, 0.995]], \"hovertemplate\": \"job_id=%{customdata[0]}<br>loss=%{customdata[2]}<br>accuracy=%{customdata[3]}<br>split=%{customdata[1]}<extra></extra>\", \"legendgroup\": \"789\", \"line\": {\"color\": \"#ab63fa\", \"dash\": \"solid\", \"shape\": \"spline\", \"width\": 2}, \"marker\": {\"line\": {\"color\": \"white\", \"width\": 2}, \"size\": 8}, \"mode\": \"markers+lines\", \"name\": \"789\", \"orientation\": \"v\", \"showlegend\": true, \"type\": \"scatter\", \"x\": [0.035, 0.031, 0.03], \"xaxis\": \"x\", \"y\": [0.991, 0.993, 0.995], \"yaxis\": \"y\"}, {\"customdata\": [[790, \"test\", 0.035, 0.987], [790, \"folds_train_combined\", 0.029, 0.988], [790, \"fold_validation\", 0.048, 0.981]], \"hovertemplate\": \"job_id=%{customdata[0]}<br>loss=%{customdata[2]}<br>accuracy=%{customdata[3]}<br>split=%{customdata[1]}<extra></extra>\", \"legendgroup\": \"790\", \"line\": {\"color\": \"#FFA15A\", \"dash\": \"solid\", \"shape\": \"spline\", \"width\": 2}, \"marker\": {\"line\": {\"color\": \"white\", \"width\": 2}, \"size\": 8}, \"mode\": \"markers+lines\", \"name\": \"790\", \"orientation\": \"v\", \"showlegend\": true, \"type\": \"scatter\", \"x\": [0.035, 0.029, 0.048], \"xaxis\": \"x\", \"y\": [0.987, 0.988, 0.981], \"yaxis\": \"y\"}, {\"customdata\": [[791, \"test\", 0.022, 0.989], [791, \"folds_train_combined\", 0.016, 0.992], [791, \"fold_validation\", 0.008, 1.0]], \"hovertemplate\": \"job_id=%{customdata[0]}<br>loss=%{customdata[2]}<br>accuracy=%{customdata[3]}<br>split=%{customdata[1]}<extra></extra>\", \"legendgroup\": \"791\", \"line\": {\"color\": \"#19d3f3\", \"dash\": \"solid\", \"shape\": \"spline\", \"width\": 2}, \"marker\": {\"line\": {\"color\": \"white\", \"width\": 2}, \"size\": 8}, \"mode\": \"markers+lines\", \"name\": \"791\", \"orientation\": \"v\", \"showlegend\": true, \"type\": \"scatter\", \"x\": [0.022, 0.016, 0.008], \"xaxis\": \"x\", \"y\": [0.989, 0.992, 1.0], \"yaxis\": \"y\"}, {\"customdata\": [[792, \"test\", 0.055, 0.976], [792, \"folds_train_combined\", 0.059, 0.971], [792, \"fold_validation\", 0.055, 0.981]], \"hovertemplate\": \"job_id=%{customdata[0]}<br>loss=%{customdata[2]}<br>accuracy=%{customdata[3]}<br>split=%{customdata[1]}<extra></extra>\", \"legendgroup\": \"792\", \"line\": {\"color\": \"#FF6692\", \"dash\": \"solid\", \"shape\": \"spline\", \"width\": 2}, \"marker\": {\"line\": {\"color\": \"white\", \"width\": 2}, \"size\": 8}, \"mode\": \"markers+lines\", \"name\": \"792\", \"orientation\": \"v\", \"showlegend\": true, \"type\": \"scatter\", \"x\": [0.055, 0.059, 0.055], \"xaxis\": \"x\", \"y\": [0.976, 0.971, 0.981], \"yaxis\": \"y\"}, {\"customdata\": [[793, \"test\", 0.03, 0.98], [793, \"folds_train_combined\", 0.029, 0.986], [793, \"fold_validation\", 0.024, 0.99]], \"hovertemplate\": \"job_id=%{customdata[0]}<br>loss=%{customdata[2]}<br>accuracy=%{customdata[3]}<br>split=%{customdata[1]}<extra></extra>\", \"legendgroup\": \"793\", \"line\": {\"color\": \"#B6E880\", \"dash\": \"solid\", \"shape\": \"spline\", \"width\": 2}, \"marker\": {\"line\": {\"color\": \"white\", \"width\": 2}, \"size\": 8}, \"mode\": \"markers+lines\", \"name\": \"793\", \"orientation\": \"v\", \"showlegend\": true, \"type\": \"scatter\", \"x\": [0.03, 0.029, 0.024], \"xaxis\": \"x\", \"y\": [0.98, 0.986, 0.99], \"yaxis\": \"y\"}, {\"customdata\": [[794, \"test\", 0.014, 1.0], [794, \"folds_train_combined\", 0.015, 1.0], [794, \"fold_validation\", 0.024, 1.0]], \"hovertemplate\": \"job_id=%{customdata[0]}<br>loss=%{customdata[2]}<br>accuracy=%{customdata[3]}<br>split=%{customdata[1]}<extra></extra>\", \"legendgroup\": \"794\", \"line\": {\"color\": \"#FF97FF\", \"dash\": \"solid\", \"shape\": \"spline\", \"width\": 2}, \"marker\": {\"line\": {\"color\": \"white\", \"width\": 2}, \"size\": 8}, \"mode\": \"markers+lines\", \"name\": \"794\", \"orientation\": \"v\", \"showlegend\": true, \"type\": \"scatter\", \"x\": [0.014, 0.015, 0.024], \"xaxis\": \"x\", \"y\": [1.0, 1.0, 1.0], \"yaxis\": \"y\"}, {\"customdata\": [[795, \"test\", 0.051, 0.976], [795, \"folds_train_combined\", 0.049, 0.977], [795, \"fold_validation\", 0.066, 0.957]], \"hovertemplate\": \"job_id=%{customdata[0]}<br>loss=%{customdata[2]}<br>accuracy=%{customdata[3]}<br>split=%{customdata[1]}<extra></extra>\", \"legendgroup\": \"795\", \"line\": {\"color\": \"#FECB52\", \"dash\": \"solid\", \"shape\": \"spline\", \"width\": 2}, \"marker\": {\"line\": {\"color\": \"white\", \"width\": 2}, \"size\": 8}, \"mode\": \"markers+lines\", \"name\": \"795\", \"orientation\": \"v\", \"showlegend\": true, \"type\": \"scatter\", \"x\": [0.051, 0.049, 0.066], \"xaxis\": \"x\", \"y\": [0.976, 0.977, 0.957], \"yaxis\": \"y\"}],\n",
       "                        {\"font\": {\"color\": \"#FAFAFA\", \"family\": \"Avenir\"}, \"height\": 600, \"hoverlabel\": {\"bgcolor\": \"#0F0F0F\", \"font\": {\"family\": \"Avenir\", \"size\": 15}}, \"legend\": {\"title\": {\"text\": \"job_id\"}, \"tracegroupgap\": 0}, \"paper_bgcolor\": \"#181B1E\", \"plot_bgcolor\": \"#181B1E\", \"template\": {\"data\": {\"bar\": [{\"error_x\": {\"color\": \"#2a3f5f\"}, \"error_y\": {\"color\": \"#2a3f5f\"}, \"marker\": {\"line\": {\"color\": \"#E5ECF6\", \"width\": 0.5}}, \"type\": \"bar\"}], \"barpolar\": [{\"marker\": {\"line\": {\"color\": \"#E5ECF6\", \"width\": 0.5}}, \"type\": \"barpolar\"}], \"carpet\": [{\"aaxis\": {\"endlinecolor\": \"#2a3f5f\", \"gridcolor\": \"white\", \"linecolor\": \"white\", \"minorgridcolor\": \"white\", \"startlinecolor\": \"#2a3f5f\"}, \"baxis\": {\"endlinecolor\": \"#2a3f5f\", \"gridcolor\": \"white\", \"linecolor\": \"white\", \"minorgridcolor\": \"white\", \"startlinecolor\": \"#2a3f5f\"}, \"type\": \"carpet\"}], \"choropleth\": [{\"colorbar\": {\"outlinewidth\": 0, \"ticks\": \"\"}, \"type\": \"choropleth\"}], \"contour\": [{\"colorbar\": {\"outlinewidth\": 0, \"ticks\": \"\"}, \"colorscale\": [[0.0, \"#0d0887\"], [0.1111111111111111, \"#46039f\"], [0.2222222222222222, \"#7201a8\"], [0.3333333333333333, \"#9c179e\"], [0.4444444444444444, \"#bd3786\"], [0.5555555555555556, \"#d8576b\"], [0.6666666666666666, \"#ed7953\"], [0.7777777777777778, \"#fb9f3a\"], [0.8888888888888888, \"#fdca26\"], [1.0, \"#f0f921\"]], \"type\": \"contour\"}], \"contourcarpet\": [{\"colorbar\": {\"outlinewidth\": 0, \"ticks\": \"\"}, \"type\": \"contourcarpet\"}], \"heatmap\": [{\"colorbar\": {\"outlinewidth\": 0, \"ticks\": \"\"}, \"colorscale\": [[0.0, \"#0d0887\"], [0.1111111111111111, \"#46039f\"], [0.2222222222222222, \"#7201a8\"], [0.3333333333333333, \"#9c179e\"], [0.4444444444444444, \"#bd3786\"], [0.5555555555555556, \"#d8576b\"], [0.6666666666666666, \"#ed7953\"], [0.7777777777777778, \"#fb9f3a\"], [0.8888888888888888, \"#fdca26\"], [1.0, \"#f0f921\"]], \"type\": \"heatmap\"}], \"heatmapgl\": [{\"colorbar\": {\"outlinewidth\": 0, \"ticks\": \"\"}, \"colorscale\": [[0.0, \"#0d0887\"], [0.1111111111111111, \"#46039f\"], [0.2222222222222222, \"#7201a8\"], [0.3333333333333333, \"#9c179e\"], [0.4444444444444444, \"#bd3786\"], [0.5555555555555556, \"#d8576b\"], [0.6666666666666666, \"#ed7953\"], [0.7777777777777778, \"#fb9f3a\"], [0.8888888888888888, \"#fdca26\"], [1.0, \"#f0f921\"]], \"type\": \"heatmapgl\"}], \"histogram\": [{\"marker\": {\"colorbar\": {\"outlinewidth\": 0, \"ticks\": \"\"}}, \"type\": \"histogram\"}], \"histogram2d\": [{\"colorbar\": {\"outlinewidth\": 0, \"ticks\": \"\"}, \"colorscale\": [[0.0, \"#0d0887\"], [0.1111111111111111, \"#46039f\"], [0.2222222222222222, \"#7201a8\"], [0.3333333333333333, \"#9c179e\"], [0.4444444444444444, \"#bd3786\"], [0.5555555555555556, \"#d8576b\"], [0.6666666666666666, \"#ed7953\"], [0.7777777777777778, \"#fb9f3a\"], [0.8888888888888888, \"#fdca26\"], [1.0, \"#f0f921\"]], \"type\": \"histogram2d\"}], \"histogram2dcontour\": [{\"colorbar\": {\"outlinewidth\": 0, \"ticks\": \"\"}, \"colorscale\": [[0.0, \"#0d0887\"], [0.1111111111111111, \"#46039f\"], [0.2222222222222222, \"#7201a8\"], [0.3333333333333333, \"#9c179e\"], [0.4444444444444444, \"#bd3786\"], [0.5555555555555556, \"#d8576b\"], [0.6666666666666666, \"#ed7953\"], [0.7777777777777778, \"#fb9f3a\"], [0.8888888888888888, \"#fdca26\"], [1.0, \"#f0f921\"]], \"type\": \"histogram2dcontour\"}], \"mesh3d\": [{\"colorbar\": {\"outlinewidth\": 0, \"ticks\": \"\"}, \"type\": \"mesh3d\"}], \"parcoords\": [{\"line\": {\"colorbar\": {\"outlinewidth\": 0, \"ticks\": \"\"}}, \"type\": \"parcoords\"}], \"pie\": [{\"automargin\": true, \"type\": \"pie\"}], \"scatter\": [{\"marker\": {\"colorbar\": {\"outlinewidth\": 0, \"ticks\": \"\"}}, \"type\": \"scatter\"}], \"scatter3d\": [{\"line\": {\"colorbar\": {\"outlinewidth\": 0, \"ticks\": \"\"}}, \"marker\": {\"colorbar\": {\"outlinewidth\": 0, \"ticks\": \"\"}}, \"type\": \"scatter3d\"}], \"scattercarpet\": [{\"marker\": {\"colorbar\": {\"outlinewidth\": 0, \"ticks\": \"\"}}, \"type\": \"scattercarpet\"}], \"scattergeo\": [{\"marker\": {\"colorbar\": {\"outlinewidth\": 0, \"ticks\": \"\"}}, \"type\": \"scattergeo\"}], \"scattergl\": [{\"marker\": {\"colorbar\": {\"outlinewidth\": 0, \"ticks\": \"\"}}, \"type\": \"scattergl\"}], \"scattermapbox\": [{\"marker\": {\"colorbar\": {\"outlinewidth\": 0, \"ticks\": \"\"}}, \"type\": \"scattermapbox\"}], \"scatterpolar\": [{\"marker\": {\"colorbar\": {\"outlinewidth\": 0, \"ticks\": \"\"}}, \"type\": \"scatterpolar\"}], \"scatterpolargl\": [{\"marker\": {\"colorbar\": {\"outlinewidth\": 0, \"ticks\": \"\"}}, \"type\": \"scatterpolargl\"}], \"scatterternary\": [{\"marker\": {\"colorbar\": {\"outlinewidth\": 0, \"ticks\": \"\"}}, \"type\": \"scatterternary\"}], \"surface\": [{\"colorbar\": {\"outlinewidth\": 0, \"ticks\": \"\"}, \"colorscale\": [[0.0, \"#0d0887\"], [0.1111111111111111, \"#46039f\"], [0.2222222222222222, \"#7201a8\"], [0.3333333333333333, \"#9c179e\"], [0.4444444444444444, \"#bd3786\"], [0.5555555555555556, \"#d8576b\"], [0.6666666666666666, \"#ed7953\"], [0.7777777777777778, \"#fb9f3a\"], [0.8888888888888888, \"#fdca26\"], [1.0, \"#f0f921\"]], \"type\": \"surface\"}], \"table\": [{\"cells\": {\"fill\": {\"color\": \"#EBF0F8\"}, \"line\": {\"color\": \"white\"}}, \"header\": {\"fill\": {\"color\": \"#C8D4E3\"}, \"line\": {\"color\": \"white\"}}, \"type\": \"table\"}]}, \"layout\": {\"annotationdefaults\": {\"arrowcolor\": \"#2a3f5f\", \"arrowhead\": 0, \"arrowwidth\": 1}, \"coloraxis\": {\"colorbar\": {\"outlinewidth\": 0, \"ticks\": \"\"}}, \"colorscale\": {\"diverging\": [[0, \"#8e0152\"], [0.1, \"#c51b7d\"], [0.2, \"#de77ae\"], [0.3, \"#f1b6da\"], [0.4, \"#fde0ef\"], [0.5, \"#f7f7f7\"], [0.6, \"#e6f5d0\"], [0.7, \"#b8e186\"], [0.8, \"#7fbc41\"], [0.9, \"#4d9221\"], [1, \"#276419\"]], \"sequential\": [[0.0, \"#0d0887\"], [0.1111111111111111, \"#46039f\"], [0.2222222222222222, \"#7201a8\"], [0.3333333333333333, \"#9c179e\"], [0.4444444444444444, \"#bd3786\"], [0.5555555555555556, \"#d8576b\"], [0.6666666666666666, \"#ed7953\"], [0.7777777777777778, \"#fb9f3a\"], [0.8888888888888888, \"#fdca26\"], [1.0, \"#f0f921\"]], \"sequentialminus\": [[0.0, \"#0d0887\"], [0.1111111111111111, \"#46039f\"], [0.2222222222222222, \"#7201a8\"], [0.3333333333333333, \"#9c179e\"], [0.4444444444444444, \"#bd3786\"], [0.5555555555555556, \"#d8576b\"], [0.6666666666666666, \"#ed7953\"], [0.7777777777777778, \"#fb9f3a\"], [0.8888888888888888, \"#fdca26\"], [1.0, \"#f0f921\"]]}, \"colorway\": [\"#636efa\", \"#EF553B\", \"#00cc96\", \"#ab63fa\", \"#FFA15A\", \"#19d3f3\", \"#FF6692\", \"#B6E880\", \"#FF97FF\", \"#FECB52\"], \"font\": {\"color\": \"#2a3f5f\"}, \"geo\": {\"bgcolor\": \"white\", \"lakecolor\": \"white\", \"landcolor\": \"#E5ECF6\", \"showlakes\": true, \"showland\": true, \"subunitcolor\": \"white\"}, \"hoverlabel\": {\"align\": \"left\"}, \"hovermode\": \"closest\", \"mapbox\": {\"style\": \"light\"}, \"paper_bgcolor\": \"white\", \"plot_bgcolor\": \"#E5ECF6\", \"polar\": {\"angularaxis\": {\"gridcolor\": \"white\", \"linecolor\": \"white\", \"ticks\": \"\"}, \"bgcolor\": \"#E5ECF6\", \"radialaxis\": {\"gridcolor\": \"white\", \"linecolor\": \"white\", \"ticks\": \"\"}}, \"scene\": {\"xaxis\": {\"backgroundcolor\": \"#E5ECF6\", \"gridcolor\": \"white\", \"gridwidth\": 2, \"linecolor\": \"white\", \"showbackground\": true, \"ticks\": \"\", \"zerolinecolor\": \"white\"}, \"yaxis\": {\"backgroundcolor\": \"#E5ECF6\", \"gridcolor\": \"white\", \"gridwidth\": 2, \"linecolor\": \"white\", \"showbackground\": true, \"ticks\": \"\", \"zerolinecolor\": \"white\"}, \"zaxis\": {\"backgroundcolor\": \"#E5ECF6\", \"gridcolor\": \"white\", \"gridwidth\": 2, \"linecolor\": \"white\", \"showbackground\": true, \"ticks\": \"\", \"zerolinecolor\": \"white\"}}, \"shapedefaults\": {\"line\": {\"color\": \"#2a3f5f\"}}, \"ternary\": {\"aaxis\": {\"gridcolor\": \"white\", \"linecolor\": \"white\", \"ticks\": \"\"}, \"baxis\": {\"gridcolor\": \"white\", \"linecolor\": \"white\", \"ticks\": \"\"}, \"bgcolor\": \"#E5ECF6\", \"caxis\": {\"gridcolor\": \"white\", \"linecolor\": \"white\", \"ticks\": \"\"}}, \"title\": {\"x\": 0.05}, \"xaxis\": {\"automargin\": true, \"gridcolor\": \"white\", \"linecolor\": \"white\", \"ticks\": \"\", \"title\": {\"standoff\": 15}, \"zerolinecolor\": \"white\", \"zerolinewidth\": 2}, \"yaxis\": {\"automargin\": true, \"gridcolor\": \"white\", \"linecolor\": \"white\", \"ticks\": \"\", \"title\": {\"standoff\": 15}, \"zerolinecolor\": \"white\", \"zerolinewidth\": 2}}}, \"title\": {\"text\": \"<i>Models Metrics by Split</i>\"}, \"xaxis\": {\"anchor\": \"y\", \"domain\": [0.0, 1.0], \"gridcolor\": \"#262B2F\", \"tickfont\": {\"color\": \"#818487\"}, \"title\": {\"text\": \"Loss\"}, \"zeroline\": false}, \"yaxis\": {\"anchor\": \"x\", \"domain\": [0.0, 1.0], \"gridcolor\": \"#262B2F\", \"tickfont\": {\"color\": \"#818487\"}, \"title\": {\"text\": \"Accuracy\"}, \"zeroline\": false}},\n",
       "                        {\"responsive\": true}\n",
       "                    ).then(function(){\n",
       "                            \n",
       "var gd = document.getElementById('f92bb377-42f7-481a-9d56-00c41d6b488a');\n",
       "var x = new MutationObserver(function (mutations, observer) {{\n",
       "        var display = window.getComputedStyle(gd).display;\n",
       "        if (!display || display === 'none') {{\n",
       "            console.log([gd, 'removed!']);\n",
       "            Plotly.purge(gd);\n",
       "            observer.disconnect();\n",
       "        }}\n",
       "}});\n",
       "\n",
       "// Listen for the removal of the full notebook cells\n",
       "var notebookContainer = gd.closest('#notebook-container');\n",
       "if (notebookContainer) {{\n",
       "    x.observe(notebookContainer, {childList: true});\n",
       "}}\n",
       "\n",
       "// Listen for the clearing of the current output cell\n",
       "var outputEl = gd.closest('.output');\n",
       "if (outputEl) {{\n",
       "    x.observe(outputEl, {childList: true});\n",
       "}}\n",
       "\n",
       "                        })\n",
       "                };\n",
       "                });\n",
       "            </script>\n",
       "        </div>"
      ]
     },
     "metadata": {},
     "output_type": "display_data"
    }
   ],
   "source": [
    "batch.plot_performance(max_loss=0.9, min_acc=0.5)"
   ]
  },
  {
   "cell_type": "markdown",
   "metadata": {},
   "source": [
    "### API Details"
   ]
  },
  {
   "cell_type": "markdown",
   "metadata": {},
   "source": [
    "For more detailed information reference the **Low-Level API** documentation."
   ]
  },
  {
   "cell_type": "markdown",
   "metadata": {},
   "source": [
    "### Metrics & Visualization"
   ]
  },
  {
   "cell_type": "markdown",
   "metadata": {},
   "source": [
    "For more information of visualization of performance metrics, reference the **Visualization & Metrics** documentation."
   ]
  },
  {
   "cell_type": "code",
   "execution_count": 7,
   "metadata": {},
   "outputs": [],
   "source": [
    "batch = examples.make_demo_batch('regression')"
   ]
  },
  {
   "cell_type": "code",
   "execution_count": 8,
   "metadata": {},
   "outputs": [
    {
     "name": "stderr",
     "output_type": "stream",
     "text": [
      "🔮 Training Models 🔮: 100%|██████████████████████████████████████████| 4/4 [00:28<00:00,  7.11s/it]\n"
     ]
    }
   ],
   "source": [
    "batch.run_jobs()"
   ]
  },
  {
   "cell_type": "code",
   "execution_count": 10,
   "metadata": {},
   "outputs": [],
   "source": [
    "batch = examples.make_demo_batch('regression_folded')"
   ]
  },
  {
   "cell_type": "code",
   "execution_count": 11,
   "metadata": {},
   "outputs": [
    {
     "name": "stderr",
     "output_type": "stream",
     "text": [
      "🔮 Training Models 🔮:  31%|████████████▊                            | 5/16 [00:30<01:05,  5.97s/it]"
     ]
    }
   ],
   "source": [
    "batch.run_jobs()"
   ]
  },
  {
   "cell_type": "code",
   "execution_count": 13,
   "metadata": {},
   "outputs": [
    {
     "ename": "ValueError",
     "evalue": "\nYikes - Cannot use argument `min_acc` if `batch.analysis_type='regression'`.\n",
     "output_type": "error",
     "traceback": [
      "\u001b[0;31m---------------------------------------------------------------------------\u001b[0m",
      "\u001b[0;31mValueError\u001b[0m                                Traceback (most recent call last)",
      "\u001b[0;32m<ipython-input-13-90d6f6de353d>\u001b[0m in \u001b[0;36m<module>\u001b[0;34m\u001b[0m\n\u001b[0;32m----> 1\u001b[0;31m \u001b[0mbatch\u001b[0m\u001b[0;34m.\u001b[0m\u001b[0mplot_performance\u001b[0m\u001b[0;34m(\u001b[0m\u001b[0mmax_loss\u001b[0m\u001b[0;34m=\u001b[0m\u001b[0;36m10000\u001b[0m\u001b[0;34m,\u001b[0m \u001b[0mmin_acc\u001b[0m\u001b[0;34m=\u001b[0m\u001b[0;36m0\u001b[0m\u001b[0;34m)\u001b[0m\u001b[0;34m\u001b[0m\u001b[0;34m\u001b[0m\u001b[0m\n\u001b[0m",
      "\u001b[0;32m~/Desktop/aiqc/aiqc/__init__.py\u001b[0m in \u001b[0;36mplot_performance\u001b[0;34m(id, max_loss, min_acc, min_r2)\u001b[0m\n\u001b[1;32m   2296\u001b[0m                 \u001b[0;32melif\u001b[0m \u001b[0;34m(\u001b[0m\u001b[0manalysis_type\u001b[0m \u001b[0;34m==\u001b[0m \u001b[0;34m'regression'\u001b[0m\u001b[0;34m)\u001b[0m\u001b[0;34m:\u001b[0m\u001b[0;34m\u001b[0m\u001b[0;34m\u001b[0m\u001b[0m\n\u001b[1;32m   2297\u001b[0m                         \u001b[0;32mif\u001b[0m \u001b[0;34m(\u001b[0m\u001b[0mmin_acc\u001b[0m \u001b[0;32mis\u001b[0m \u001b[0;32mnot\u001b[0m \u001b[0;32mNone\u001b[0m\u001b[0;34m)\u001b[0m\u001b[0;34m:\u001b[0m\u001b[0;34m\u001b[0m\u001b[0;34m\u001b[0m\u001b[0m\n\u001b[0;32m-> 2298\u001b[0;31m                                 \u001b[0;32mraise\u001b[0m \u001b[0mValueError\u001b[0m\u001b[0;34m(\u001b[0m\u001b[0;34m\"\\nYikes - Cannot use argument `min_acc` if `batch.analysis_type='regression'`.\\n\"\u001b[0m\u001b[0;34m)\u001b[0m\u001b[0;34m\u001b[0m\u001b[0;34m\u001b[0m\u001b[0m\n\u001b[0m\u001b[1;32m   2299\u001b[0m                         \u001b[0;32mif\u001b[0m \u001b[0;34m(\u001b[0m\u001b[0mmin_r2\u001b[0m \u001b[0;32mis\u001b[0m \u001b[0;32mNone\u001b[0m\u001b[0;34m)\u001b[0m\u001b[0;34m:\u001b[0m\u001b[0;34m\u001b[0m\u001b[0;34m\u001b[0m\u001b[0m\n\u001b[1;32m   2300\u001b[0m                                 \u001b[0;32mraise\u001b[0m \u001b[0mValueError\u001b[0m\u001b[0;34m(\u001b[0m\u001b[0;34m\"\\nYikes - Must set argument `min_r2` if `batch.analysis_type='regression'`.\\n\"\u001b[0m\u001b[0;34m)\u001b[0m\u001b[0;34m\u001b[0m\u001b[0;34m\u001b[0m\u001b[0m\n",
      "\u001b[0;31mValueError\u001b[0m: \nYikes - Cannot use argument `min_acc` if `batch.analysis_type='regression'`.\n"
     ]
    }
   ],
   "source": [
    "batch.plot_performance(max_loss=10000, min_acc=0)"
   ]
  },
  {
   "cell_type": "code",
   "execution_count": null,
   "metadata": {},
   "outputs": [],
   "source": []
  }
 ],
 "metadata": {
  "kernelspec": {
   "display_name": "Python 3",
   "language": "python",
   "name": "python3"
  },
  "language_info": {
   "codemirror_mode": {
    "name": "ipython",
    "version": 3
   },
   "file_extension": ".py",
   "mimetype": "text/x-python",
   "name": "python",
   "nbconvert_exporter": "python",
   "pygments_lexer": "ipython3",
   "version": "3.7.6"
  }
 },
 "nbformat": 4,
 "nbformat_minor": 4
}
