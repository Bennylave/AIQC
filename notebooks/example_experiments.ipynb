{
 "cells": [
  {
   "cell_type": "markdown",
   "metadata": {},
   "source": [
    "# Experiments"
   ]
  },
  {
   "cell_type": "markdown",
   "metadata": {},
   "source": [
    "Just to be clear, the following examples are for demonstration and testing purposes only. Users are not supposed to make their own dummy batches using their own data. Refer to the pages **High-Level API** and/ or **Low-Level API** if you actually want to use the library. "
   ]
  },
  {
   "cell_type": "markdown",
   "metadata": {},
   "source": [
    "## Prerequisites\n",
    "* If you've already completed the instructions on the **Installation** page, then let's get started.\n",
    "* This section makes use of the data in the **Example Datasets** page."
   ]
  },
  {
   "cell_type": "code",
   "execution_count": 1,
   "metadata": {},
   "outputs": [],
   "source": [
    "import os \n",
    "os.chdir('/Users/Layne/Desktop/aiqc')"
   ]
  },
  {
   "cell_type": "code",
   "execution_count": 2,
   "metadata": {},
   "outputs": [
    {
     "name": "stderr",
     "output_type": "stream",
     "text": [
      "/Users/layne/.pyenv/versions/3.7.6/envs/jupyterlab/lib/python3.7/site-packages/pandas/compat/__init__.py:120: UserWarning: Could not import the lzma module. Your installed Python is incomplete. Attempting to use lzma compression will result in a RuntimeError.\n",
      "  warnings.warn(msg)\n"
     ]
    }
   ],
   "source": [
    "import aiqc\n",
    "from aiqc import examples"
   ]
  },
  {
   "cell_type": "markdown",
   "metadata": {},
   "source": [
    "## Dummy Experiments"
   ]
  },
  {
   "cell_type": "markdown",
   "metadata": {},
   "source": [
    "The `list_demo_batches()` method describes the predefined experiments that are available.\n",
    "\n",
    "> By default it returns a Pandas DataFrame, but you can `list_demo_files(format='list')` to change that."
   ]
  },
  {
   "cell_type": "code",
   "execution_count": 3,
   "metadata": {},
   "outputs": [
    {
     "data": {
      "text/html": [
       "<div>\n",
       "<style scoped>\n",
       "    .dataframe tbody tr th:only-of-type {\n",
       "        vertical-align: middle;\n",
       "    }\n",
       "\n",
       "    .dataframe tbody tr th {\n",
       "        vertical-align: top;\n",
       "    }\n",
       "\n",
       "    .dataframe thead th {\n",
       "        text-align: right;\n",
       "    }\n",
       "</style>\n",
       "<table border=\"1\" class=\"dataframe\">\n",
       "  <thead>\n",
       "    <tr style=\"text-align: right;\">\n",
       "      <th></th>\n",
       "      <th>batch_name</th>\n",
       "      <th>supervision</th>\n",
       "      <th>analysis</th>\n",
       "      <th>sub_analysis</th>\n",
       "      <th>validation</th>\n",
       "      <th>fileset</th>\n",
       "    </tr>\n",
       "  </thead>\n",
       "  <tbody>\n",
       "    <tr>\n",
       "      <th>0</th>\n",
       "      <td>multiclass</td>\n",
       "      <td>supervised</td>\n",
       "      <td>classification</td>\n",
       "      <td>multi label</td>\n",
       "      <td>validation split</td>\n",
       "      <td>iris.tsv</td>\n",
       "    </tr>\n",
       "    <tr>\n",
       "      <th>1</th>\n",
       "      <td>binary</td>\n",
       "      <td>supervised</td>\n",
       "      <td>classification</td>\n",
       "      <td>binary</td>\n",
       "      <td>validation split</td>\n",
       "      <td>sonar.csv</td>\n",
       "    </tr>\n",
       "    <tr>\n",
       "      <th>2</th>\n",
       "      <td>regression</td>\n",
       "      <td>supervised</td>\n",
       "      <td>regression</td>\n",
       "      <td>None</td>\n",
       "      <td>validation split</td>\n",
       "      <td>houses.csv</td>\n",
       "    </tr>\n",
       "    <tr>\n",
       "      <th>3</th>\n",
       "      <td>multiclass_folded</td>\n",
       "      <td>supervised</td>\n",
       "      <td>classification</td>\n",
       "      <td>multi label</td>\n",
       "      <td>cross-folds</td>\n",
       "      <td>iris_10x.tsv</td>\n",
       "    </tr>\n",
       "  </tbody>\n",
       "</table>\n",
       "</div>"
      ],
      "text/plain": [
       "          batch_name supervision        analysis sub_analysis  \\\n",
       "0         multiclass  supervised  classification  multi label   \n",
       "1             binary  supervised  classification       binary   \n",
       "2         regression  supervised      regression         None   \n",
       "3  multiclass_folded  supervised  classification  multi label   \n",
       "\n",
       "         validation       fileset  \n",
       "0  validation split      iris.tsv  \n",
       "1  validation split     sonar.csv  \n",
       "2  validation split    houses.csv  \n",
       "3       cross-folds  iris_10x.tsv  "
      ]
     },
     "execution_count": 3,
     "metadata": {},
     "output_type": "execute_result"
    }
   ],
   "source": [
    "examples.list_demo_batches()"
   ]
  },
  {
   "cell_type": "markdown",
   "metadata": {},
   "source": [
    "* Each `Batch` contains predefined training `Jobs` and a `Hyperparamset`.\n",
    "  * Each `Job` is comprised of:\n",
    "    * An `Algorithm` and a unique `Hyperparamcombo`.\n",
    "    * They gets fit to a `Datasets` made from a dummy data file seen above.\n",
    "      * More specifically, its `Labels, Featuresets` are sliced into `Splitsets, Foldsets`."
   ]
  },
  {
   "cell_type": "markdown",
   "metadata": {},
   "source": [
    "## Example: supervised regression"
   ]
  },
  {
   "cell_type": "markdown",
   "metadata": {},
   "source": [
    "The entries from the `name` column above, can be fed into the `make_demo_batch()` method."
   ]
  },
  {
   "cell_type": "code",
   "execution_count": 4,
   "metadata": {},
   "outputs": [],
   "source": [
    "batch = examples.make_demo_batch('regression')"
   ]
  },
  {
   "cell_type": "markdown",
   "metadata": {},
   "source": [
    "### ORM in action"
   ]
  },
  {
   "cell_type": "markdown",
   "metadata": {},
   "source": [
    "It's easy to dig into the Batches using the ORM to see how they are constructed."
   ]
  },
  {
   "cell_type": "code",
   "execution_count": 5,
   "metadata": {},
   "outputs": [
    {
     "data": {
      "text/plain": [
       "4"
      ]
     },
     "execution_count": 5,
     "metadata": {},
     "output_type": "execute_result"
    }
   ],
   "source": [
    "batch.job_count"
   ]
  },
  {
   "cell_type": "code",
   "execution_count": 6,
   "metadata": {},
   "outputs": [
    {
     "data": {
      "text/plain": [
       "{'neuron_count': 48, 'epochs': 75}"
      ]
     },
     "execution_count": 6,
     "metadata": {},
     "output_type": "execute_result"
    }
   ],
   "source": [
    "batch.jobs[3].hyperparamcombo.hyperparameters"
   ]
  },
  {
   "cell_type": "code",
   "execution_count": 7,
   "metadata": {},
   "outputs": [
    {
     "data": {
      "text/plain": [
       "'parquet'"
      ]
     },
     "execution_count": 7,
     "metadata": {},
     "output_type": "execute_result"
    }
   ],
   "source": [
    "batch.splitset.featureset.dataset.files[0].file_format"
   ]
  },
  {
   "cell_type": "code",
   "execution_count": 8,
   "metadata": {},
   "outputs": [
    {
     "data": {
      "text/plain": [
       "<function aiqc.examples.regression_model_train(model, samples_train, samples_evaluate, **hyperparameters)>"
      ]
     },
     "execution_count": 8,
     "metadata": {},
     "output_type": "execute_result"
    }
   ],
   "source": [
    "batch.algorithm.function_model_train"
   ]
  },
  {
   "cell_type": "markdown",
   "metadata": {},
   "source": [
    "### Hyperparameter tuning in action"
   ]
  },
  {
   "cell_type": "markdown",
   "metadata": {},
   "source": [
    "When you execute a Batch of Jobs, it will run the jobs on a background process, so you can continue to work in your Python shell.\n",
    "\n",
    "> It does this by spawning a `multiprocessing.Process` that lives until each Job is completed or the process is killed."
   ]
  },
  {
   "cell_type": "code",
   "execution_count": 12,
   "metadata": {},
   "outputs": [
    {
     "name": "stderr",
     "output_type": "stream",
     "text": [
      "🔮 Training Models 🔮: 100%|██████████████████████████████████████████| 4/4 [00:24<00:00,  6.20s/it]\n"
     ]
    }
   ],
   "source": [
    "batch.run_jobs()"
   ]
  },
  {
   "cell_type": "markdown",
   "metadata": {},
   "source": [
    "The execution of the Jobs can easily be stopped, and then resumed at the Job that was previously running."
   ]
  },
  {
   "cell_type": "code",
   "execution_count": null,
   "metadata": {},
   "outputs": [],
   "source": [
    "batch.stop_jobs()"
   ]
  },
  {
   "cell_type": "code",
   "execution_count": null,
   "metadata": {},
   "outputs": [],
   "source": [
    "batch.run_jobs()"
   ]
  },
  {
   "cell_type": "markdown",
   "metadata": {},
   "source": [
    "### Inspecting the Result of an Individual Job"
   ]
  },
  {
   "cell_type": "markdown",
   "metadata": {},
   "source": [
    "When each Job completes, it will create a `Result` that contains `predictions` and `metrics` attributes for each split/ fold."
   ]
  },
  {
   "cell_type": "code",
   "execution_count": 13,
   "metadata": {},
   "outputs": [
    {
     "data": {
      "text/plain": [
       "{'test': {'r2': 0.8016676929231614,\n",
       "  'mse': 0.16301016148458597,\n",
       "  'explained_variance': 0.8016679921070664,\n",
       "  'loss': 0.1630101501941681},\n",
       " 'validation': {'r2': 0.8064215016436613,\n",
       "  'mse': 0.18897737807890366,\n",
       "  'explained_variance': 0.8072795194658497,\n",
       "  'loss': 0.18897737562656403},\n",
       " 'train': {'r2': 0.7864009292051323,\n",
       "  'mse': 0.2135990707948677,\n",
       "  'explained_variance': 0.7865304609905488,\n",
       "  'loss': 0.2135990709066391}}"
      ]
     },
     "execution_count": 13,
     "metadata": {},
     "output_type": "execute_result"
    }
   ],
   "source": [
    "batch.jobs[3].results[0].metrics"
   ]
  },
  {
   "cell_type": "markdown",
   "metadata": {},
   "source": [
    "The JSON values of these attributes are interoperable with Python dictionaries."
   ]
  },
  {
   "cell_type": "code",
   "execution_count": 14,
   "metadata": {},
   "outputs": [
    {
     "data": {
      "text/plain": [
       "array([[-0.68978953],\n",
       "       [-0.14231452],\n",
       "       [ 0.06651115],\n",
       "       [ 0.23199542],\n",
       "       [ 0.41630107],\n",
       "       [ 0.79887897],\n",
       "       [ 1.4871986 ],\n",
       "       [-0.38264734],\n",
       "       [-0.6172692 ],\n",
       "       [ 0.05014512],\n",
       "       [-0.51803964],\n",
       "       [ 0.3792256 ],\n",
       "       [ 0.09406288],\n",
       "       [-0.19306827],\n",
       "       [ 1.8847973 ],\n",
       "       [-0.00461408],\n",
       "       [ 0.31235802],\n",
       "       [-0.5619943 ],\n",
       "       [ 0.09901989],\n",
       "       [ 1.659003  ],\n",
       "       [ 1.9264379 ],\n",
       "       [-0.10228682],\n",
       "       [-0.41020823],\n",
       "       [-0.8134756 ],\n",
       "       [ 0.15139169],\n",
       "       [ 0.66028714],\n",
       "       [ 0.35218498],\n",
       "       [-0.774425  ],\n",
       "       [ 0.2935084 ],\n",
       "       [ 0.1254541 ],\n",
       "       [-0.65894353],\n",
       "       [-0.17424902],\n",
       "       [ 0.06840625],\n",
       "       [ 1.5314872 ],\n",
       "       [ 0.19186011],\n",
       "       [ 0.7086599 ],\n",
       "       [-0.12144318],\n",
       "       [ 0.93836665],\n",
       "       [-0.35432696],\n",
       "       [ 0.00953457],\n",
       "       [-0.70820546],\n",
       "       [-1.2797608 ],\n",
       "       [-0.08237875],\n",
       "       [-0.7953497 ],\n",
       "       [-0.37204528],\n",
       "       [-0.50055826],\n",
       "       [-0.9165939 ],\n",
       "       [ 0.08762291],\n",
       "       [-0.34865975],\n",
       "       [-0.42690134],\n",
       "       [-0.03249055],\n",
       "       [ 0.8424431 ],\n",
       "       [-0.8667073 ],\n",
       "       [-0.4111973 ],\n",
       "       [ 0.90945375],\n",
       "       [ 1.0962315 ],\n",
       "       [ 2.0551353 ],\n",
       "       [-0.2835076 ],\n",
       "       [ 0.28265822],\n",
       "       [ 1.1175003 ],\n",
       "       [-0.38109863],\n",
       "       [-0.65078944],\n",
       "       [-1.0335555 ],\n",
       "       [-0.12674445],\n",
       "       [-0.15068471],\n",
       "       [-0.11379004],\n",
       "       [-1.2417934 ],\n",
       "       [-0.7417867 ],\n",
       "       [ 0.85883534],\n",
       "       [-0.22393602],\n",
       "       [-0.89534545]], dtype=float32)"
      ]
     },
     "execution_count": 14,
     "metadata": {},
     "output_type": "execute_result"
    }
   ],
   "source": [
    "batch.jobs[3].results[0].predictions['validation']"
   ]
  },
  {
   "cell_type": "markdown",
   "metadata": {},
   "source": [
    "### Inspecting the metrics of the entire Batch"
   ]
  },
  {
   "cell_type": "code",
   "execution_count": 15,
   "metadata": {},
   "outputs": [
    {
     "data": {
      "text/html": [
       "<div>\n",
       "<style scoped>\n",
       "    .dataframe tbody tr th:only-of-type {\n",
       "        vertical-align: middle;\n",
       "    }\n",
       "\n",
       "    .dataframe tbody tr th {\n",
       "        vertical-align: top;\n",
       "    }\n",
       "\n",
       "    .dataframe thead th {\n",
       "        text-align: right;\n",
       "    }\n",
       "</style>\n",
       "<table border=\"1\" class=\"dataframe\">\n",
       "  <thead>\n",
       "    <tr style=\"text-align: right;\">\n",
       "      <th></th>\n",
       "      <th>job_id</th>\n",
       "      <th>split</th>\n",
       "      <th>r2</th>\n",
       "      <th>mse</th>\n",
       "      <th>explained_variance</th>\n",
       "      <th>loss</th>\n",
       "    </tr>\n",
       "  </thead>\n",
       "  <tbody>\n",
       "    <tr>\n",
       "      <th>0</th>\n",
       "      <td>4</td>\n",
       "      <td>test</td>\n",
       "      <td>0.763881</td>\n",
       "      <td>0.194067</td>\n",
       "      <td>0.763940</td>\n",
       "      <td>0.194067</td>\n",
       "    </tr>\n",
       "    <tr>\n",
       "      <th>1</th>\n",
       "      <td>4</td>\n",
       "      <td>validation</td>\n",
       "      <td>0.756629</td>\n",
       "      <td>0.237587</td>\n",
       "      <td>0.757139</td>\n",
       "      <td>0.237587</td>\n",
       "    </tr>\n",
       "    <tr>\n",
       "      <th>2</th>\n",
       "      <td>4</td>\n",
       "      <td>train</td>\n",
       "      <td>0.744731</td>\n",
       "      <td>0.255269</td>\n",
       "      <td>0.745199</td>\n",
       "      <td>0.255269</td>\n",
       "    </tr>\n",
       "    <tr>\n",
       "      <th>3</th>\n",
       "      <td>5</td>\n",
       "      <td>test</td>\n",
       "      <td>0.782874</td>\n",
       "      <td>0.178456</td>\n",
       "      <td>0.791384</td>\n",
       "      <td>0.178456</td>\n",
       "    </tr>\n",
       "    <tr>\n",
       "      <th>4</th>\n",
       "      <td>5</td>\n",
       "      <td>validation</td>\n",
       "      <td>0.790559</td>\n",
       "      <td>0.204463</td>\n",
       "      <td>0.794467</td>\n",
       "      <td>0.204463</td>\n",
       "    </tr>\n",
       "    <tr>\n",
       "      <th>5</th>\n",
       "      <td>5</td>\n",
       "      <td>train</td>\n",
       "      <td>0.769850</td>\n",
       "      <td>0.230150</td>\n",
       "      <td>0.774275</td>\n",
       "      <td>0.230150</td>\n",
       "    </tr>\n",
       "    <tr>\n",
       "      <th>6</th>\n",
       "      <td>6</td>\n",
       "      <td>test</td>\n",
       "      <td>0.756108</td>\n",
       "      <td>0.200456</td>\n",
       "      <td>0.765129</td>\n",
       "      <td>0.200456</td>\n",
       "    </tr>\n",
       "    <tr>\n",
       "      <th>7</th>\n",
       "      <td>6</td>\n",
       "      <td>validation</td>\n",
       "      <td>0.773478</td>\n",
       "      <td>0.221138</td>\n",
       "      <td>0.775778</td>\n",
       "      <td>0.221138</td>\n",
       "    </tr>\n",
       "    <tr>\n",
       "      <th>8</th>\n",
       "      <td>6</td>\n",
       "      <td>train</td>\n",
       "      <td>0.755629</td>\n",
       "      <td>0.244371</td>\n",
       "      <td>0.759163</td>\n",
       "      <td>0.244371</td>\n",
       "    </tr>\n",
       "    <tr>\n",
       "      <th>9</th>\n",
       "      <td>7</td>\n",
       "      <td>test</td>\n",
       "      <td>0.801668</td>\n",
       "      <td>0.163010</td>\n",
       "      <td>0.801668</td>\n",
       "      <td>0.163010</td>\n",
       "    </tr>\n",
       "    <tr>\n",
       "      <th>10</th>\n",
       "      <td>7</td>\n",
       "      <td>validation</td>\n",
       "      <td>0.806422</td>\n",
       "      <td>0.188977</td>\n",
       "      <td>0.807280</td>\n",
       "      <td>0.188977</td>\n",
       "    </tr>\n",
       "    <tr>\n",
       "      <th>11</th>\n",
       "      <td>7</td>\n",
       "      <td>train</td>\n",
       "      <td>0.786401</td>\n",
       "      <td>0.213599</td>\n",
       "      <td>0.786530</td>\n",
       "      <td>0.213599</td>\n",
       "    </tr>\n",
       "  </tbody>\n",
       "</table>\n",
       "</div>"
      ],
      "text/plain": [
       "    job_id       split        r2       mse  explained_variance      loss\n",
       "0        4        test  0.763881  0.194067            0.763940  0.194067\n",
       "1        4  validation  0.756629  0.237587            0.757139  0.237587\n",
       "2        4       train  0.744731  0.255269            0.745199  0.255269\n",
       "3        5        test  0.782874  0.178456            0.791384  0.178456\n",
       "4        5  validation  0.790559  0.204463            0.794467  0.204463\n",
       "5        5       train  0.769850  0.230150            0.774275  0.230150\n",
       "6        6        test  0.756108  0.200456            0.765129  0.200456\n",
       "7        6  validation  0.773478  0.221138            0.775778  0.221138\n",
       "8        6       train  0.755629  0.244371            0.759163  0.244371\n",
       "9        7        test  0.801668  0.163010            0.801668  0.163010\n",
       "10       7  validation  0.806422  0.188977            0.807280  0.188977\n",
       "11       7       train  0.786401  0.213599            0.786530  0.213599"
      ]
     },
     "execution_count": 15,
     "metadata": {},
     "output_type": "execute_result"
    }
   ],
   "source": [
    "batch.metrics_to_pandas()"
   ]
  },
  {
   "cell_type": "markdown",
   "metadata": {},
   "source": [
    "## Example: supervised multi-classification with cross-fold validation"
   ]
  },
  {
   "cell_type": "markdown",
   "metadata": {},
   "source": [
    "The following method uses *demo_file* 'iris_10x.tsv', so if you see duplicate samples that is why."
   ]
  },
  {
   "cell_type": "code",
   "execution_count": 16,
   "metadata": {},
   "outputs": [],
   "source": [
    "batch = examples.make_demo_batch('multiclass_folded')"
   ]
  },
  {
   "cell_type": "code",
   "execution_count": 17,
   "metadata": {},
   "outputs": [
    {
     "name": "stderr",
     "output_type": "stream",
     "text": [
      "🔮 Training Models 🔮: 100%|████████████████████████████████████████| 10/10 [00:51<00:00,  5.16s/it]\n"
     ]
    }
   ],
   "source": [
    "batch.run_jobs()"
   ]
  },
  {
   "cell_type": "code",
   "execution_count": 18,
   "metadata": {},
   "outputs": [
    {
     "data": {
      "text/plain": [
       "10"
      ]
     },
     "execution_count": 18,
     "metadata": {},
     "output_type": "execute_result"
    }
   ],
   "source": [
    "batch.job_count"
   ]
  },
  {
   "cell_type": "code",
   "execution_count": 20,
   "metadata": {},
   "outputs": [
    {
     "data": {
      "text/html": [
       "<div>\n",
       "<style scoped>\n",
       "    .dataframe tbody tr th:only-of-type {\n",
       "        vertical-align: middle;\n",
       "    }\n",
       "\n",
       "    .dataframe tbody tr th {\n",
       "        vertical-align: top;\n",
       "    }\n",
       "\n",
       "    .dataframe thead th {\n",
       "        text-align: right;\n",
       "    }\n",
       "</style>\n",
       "<table border=\"1\" class=\"dataframe\">\n",
       "  <thead>\n",
       "    <tr style=\"text-align: right;\">\n",
       "      <th></th>\n",
       "      <th>job_id</th>\n",
       "      <th>split</th>\n",
       "      <th>roc_auc</th>\n",
       "      <th>accuracy</th>\n",
       "      <th>precision</th>\n",
       "      <th>recall</th>\n",
       "      <th>f1</th>\n",
       "      <th>loss</th>\n",
       "    </tr>\n",
       "  </thead>\n",
       "  <tbody>\n",
       "    <tr>\n",
       "      <th>0</th>\n",
       "      <td>8</td>\n",
       "      <td>test</td>\n",
       "      <td>0.999570</td>\n",
       "      <td>0.933333</td>\n",
       "      <td>0.944444</td>\n",
       "      <td>0.933333</td>\n",
       "      <td>0.932660</td>\n",
       "      <td>0.145964</td>\n",
       "    </tr>\n",
       "    <tr>\n",
       "      <th>1</th>\n",
       "      <td>8</td>\n",
       "      <td>folds_train_combined</td>\n",
       "      <td>0.998997</td>\n",
       "      <td>0.939286</td>\n",
       "      <td>0.948313</td>\n",
       "      <td>0.939286</td>\n",
       "      <td>0.938706</td>\n",
       "      <td>0.134224</td>\n",
       "    </tr>\n",
       "    <tr>\n",
       "      <th>2</th>\n",
       "      <td>8</td>\n",
       "      <td>fold_validation</td>\n",
       "      <td>0.999416</td>\n",
       "      <td>0.942857</td>\n",
       "      <td>0.952653</td>\n",
       "      <td>0.942857</td>\n",
       "      <td>0.942771</td>\n",
       "      <td>0.126636</td>\n",
       "    </tr>\n",
       "  </tbody>\n",
       "</table>\n",
       "</div>"
      ],
      "text/plain": [
       "   job_id                 split   roc_auc  accuracy  precision    recall  \\\n",
       "0       8                  test  0.999570  0.933333   0.944444  0.933333   \n",
       "1       8  folds_train_combined  0.998997  0.939286   0.948313  0.939286   \n",
       "2       8       fold_validation  0.999416  0.942857   0.952653  0.942857   \n",
       "\n",
       "         f1      loss  \n",
       "0  0.932660  0.145964  \n",
       "1  0.938706  0.134224  \n",
       "2  0.942771  0.126636  "
      ]
     },
     "execution_count": 20,
     "metadata": {},
     "output_type": "execute_result"
    }
   ],
   "source": [
    "batch.metrics_to_pandas()"
   ]
  },
  {
   "cell_type": "markdown",
   "metadata": {},
   "source": [
    "### API Details"
   ]
  },
  {
   "cell_type": "markdown",
   "metadata": {},
   "source": [
    "For more detailed information reference the **Low-Level API** documentation."
   ]
  },
  {
   "cell_type": "markdown",
   "metadata": {},
   "source": [
    "### Metrics & Visualization"
   ]
  },
  {
   "cell_type": "markdown",
   "metadata": {},
   "source": [
    "For more information of visualization of performance metrics, reference the **Visualization & Metrics** documentation."
   ]
  }
 ],
 "metadata": {
  "kernelspec": {
   "display_name": "Python 3",
   "language": "python",
   "name": "python3"
  },
  "language_info": {
   "codemirror_mode": {
    "name": "ipython",
    "version": 3
   },
   "file_extension": ".py",
   "mimetype": "text/x-python",
   "name": "python",
   "nbconvert_exporter": "python",
   "pygments_lexer": "ipython3",
   "version": "3.7.6"
  }
 },
 "nbformat": 4,
 "nbformat_minor": 4
}
