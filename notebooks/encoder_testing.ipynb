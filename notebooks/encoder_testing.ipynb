{
 "cells": [
  {
   "cell_type": "code",
   "execution_count": 1,
   "metadata": {},
   "outputs": [
    {
     "data": {
      "text/plain": [
       "'/Users/layne/Desktop/aiqc'"
      ]
     },
     "execution_count": 1,
     "metadata": {},
     "output_type": "execute_result"
    }
   ],
   "source": [
    "import os\n",
    "os.chdir('/Users/layne/Desktop/aiqc')\n",
    "os.getcwd()"
   ]
  },
  {
   "cell_type": "code",
   "execution_count": 2,
   "metadata": {},
   "outputs": [
    {
     "name": "stderr",
     "output_type": "stream",
     "text": [
      "/Users/layne/.pyenv/versions/3.7.6/envs/jupyterlab/lib/python3.7/site-packages/pandas/compat/__init__.py:97: UserWarning: Could not import the lzma module. Your installed Python is incomplete. Attempting to use lzma compression will result in a RuntimeError.\n",
      "  warnings.warn(msg)\n"
     ]
    },
    {
     "name": "stdout",
     "output_type": "stream",
     "text": [
      "\n",
      "=> Welcome to AIQC.\n",
      "To get started, run `aiqc.create_folder()` followed by `aiqc.create_config()`.\n",
      "\n",
      "\n",
      "=> Info - Cannot fetch database yet because it has not been configured.\n",
      "\n"
     ]
    }
   ],
   "source": [
    "import aiqc\n",
    "from aiqc import datum"
   ]
  },
  {
   "cell_type": "code",
   "execution_count": 3,
   "metadata": {},
   "outputs": [],
   "source": [
    "import pandas as pd\n",
    "import numpy as np\n",
    "from sklearn.preprocessing import *"
   ]
  },
  {
   "cell_type": "code",
   "execution_count": 4,
   "metadata": {},
   "outputs": [
    {
     "name": "stdout",
     "output_type": "stream",
     "text": [
      "=> Info - it appears the following folder does not exist on your system:\n",
      "/Users/layne/Library/Application Support/aiqc/\n",
      "\n",
      "=> Fix - you can attempt to fix this by running `aiqc.create_folder()`.\n",
      "\n",
      "=> Success - created folder at file path:\n",
      "/Users/layne/Library/Application Support/aiqc/\n",
      "\n",
      "=> Next try running `aiqc.create_config()`.\n",
      "\n",
      "\n",
      "=> Success - the following file path already exists on your system:\n",
      "/Users/layne/Library/Application Support/aiqc/\n",
      "\n",
      "\n",
      "=> Success - created config file for settings at path:\n",
      "/Users/layne/Library/Application Support/aiqc/config.json\n",
      "\n",
      "\n",
      "=> Success - created database file at path:\n",
      "/Users/layne/Library/Application Support/aiqc/aiqc.sqlite3\n",
      "\n",
      "\n",
      "=> Success - created the following tables within database:\n",
      "['algorithm', 'batch', 'dataset', 'encoderset', 'featurecoder', 'featureset', 'file', 'fold', 'foldset', 'hyperparamcombo', 'hyperparamset', 'image', 'job', 'jobset', 'label', 'labelcoder', 'result', 'splitset', 'tabular']\n",
      "\n"
     ]
    }
   ],
   "source": [
    "aiqc.create_folder()\n",
    "aiqc.create_config()\n",
    "aiqc.create_db()\n",
    "\n",
    "# from importlib import reload\n",
    "# aiqc.delete_db(True)\n",
    "# reload(aiqc)\n",
    "# aiqc.create_db()"
   ]
  },
  {
   "cell_type": "markdown",
   "metadata": {},
   "source": [
    "---"
   ]
  },
  {
   "cell_type": "code",
   "execution_count": 5,
   "metadata": {},
   "outputs": [],
   "source": [
    "dataset = aiqc.Dataset.Tabular.from_path(\n",
    "    examples.get_demo_file_path('exoplanets.parquet')\n",
    "    , source_file_format = 'parquet'\n",
    ")"
   ]
  },
  {
   "cell_type": "code",
   "execution_count": 6,
   "metadata": {},
   "outputs": [
    {
     "data": {
      "text/plain": [
       "TypeFlag                  int64\n",
       "PlanetaryMassJpt        float64\n",
       "PeriodDays              float64\n",
       "SurfaceTempK            float64\n",
       "DistFromSunParsec       float64\n",
       "HostStarMassSlrMass     float64\n",
       "HostStarRadiusSlrRad    float64\n",
       "HostStarMetallicity     float64\n",
       "HostStarTempK           float64\n",
       "dtype: object"
      ]
     },
     "execution_count": 6,
     "metadata": {},
     "output_type": "execute_result"
    }
   ],
   "source": [
    "dataset.to_pandas().head().dtypes"
   ]
  },
  {
   "cell_type": "code",
   "execution_count": 7,
   "metadata": {},
   "outputs": [],
   "source": [
    "label = dataset.make_label(columns=['SurfaceTempK'])"
   ]
  },
  {
   "cell_type": "code",
   "execution_count": 8,
   "metadata": {},
   "outputs": [],
   "source": [
    "featureset = dataset.make_featureset(exclude_columns=[\n",
    "    'SurfaceTempK',\n",
    "])"
   ]
  },
  {
   "cell_type": "code",
   "execution_count": 9,
   "metadata": {},
   "outputs": [
    {
     "data": {
      "text/plain": [
       "{'TypeFlag': 'int64',\n",
       " 'PlanetaryMassJpt': 'float64',\n",
       " 'PeriodDays': 'float64',\n",
       " 'DistFromSunParsec': 'float64',\n",
       " 'HostStarMassSlrMass': 'float64',\n",
       " 'HostStarRadiusSlrRad': 'float64',\n",
       " 'HostStarMetallicity': 'float64',\n",
       " 'HostStarTempK': 'float64'}"
      ]
     },
     "execution_count": 9,
     "metadata": {},
     "output_type": "execute_result"
    }
   ],
   "source": [
    "featureset.get_dtypes()"
   ]
  },
  {
   "cell_type": "code",
   "execution_count": 10,
   "metadata": {},
   "outputs": [],
   "source": [
    "splitset = featureset.make_splitset(\n",
    "    label_id=label.id\n",
    "    , size_test = 0.22\n",
    "    , size_validation = 0.12 \n",
    ")"
   ]
  },
  {
   "cell_type": "code",
   "execution_count": 11,
   "metadata": {},
   "outputs": [],
   "source": [
    "foldset = splitset.make_foldset(fold_count=3)"
   ]
  },
  {
   "cell_type": "markdown",
   "metadata": {},
   "source": [
    "---"
   ]
  },
  {
   "cell_type": "code",
   "execution_count": 12,
   "metadata": {},
   "outputs": [],
   "source": [
    "encoderset = splitset.make_encoderset()"
   ]
  },
  {
   "cell_type": "code",
   "execution_count": 13,
   "metadata": {},
   "outputs": [],
   "source": [
    "labelcoder = encoderset.make_labelcoder(\n",
    "    sklearn_preprocess = StandardScaler(copy=False)\n",
    ")"
   ]
  },
  {
   "cell_type": "markdown",
   "metadata": {
    "jupyter": {
     "outputs_hidden": true
    }
   },
   "source": [
    "---\n",
    "---\n",
    "---"
   ]
  },
  {
   "cell_type": "code",
   "execution_count": 14,
   "metadata": {},
   "outputs": [],
   "source": [
    "featurecoder_kwargs = [\n",
    "    \n",
    "    dict(# OneHotEncode the integers.\n",
    "        sklearn_preprocess = OneHotEncoder(sparse=False),\n",
    "        dtypes = ['int64']),\n",
    "\n",
    "    dict(# Scale the decimals.\n",
    "        sklearn_preprocess = StandardScaler(copy=False),\n",
    "        dtypes = ['float64'])\n",
    "]"
   ]
  },
  {
   "cell_type": "code",
   "execution_count": 15,
   "metadata": {},
   "outputs": [
    {
     "name": "stdout",
     "output_type": "stream",
     "text": [
      "\n",
      "=> The columns below matched your filters. Tested encoding them successfully.\n",
      "\n",
      "['TypeFlag']\n",
      "\n",
      "\n",
      "=> The remaining columns and dtypes can be used in your downstream Featurecoder:\n",
      "\n",
      "{'DistFromSunParsec': 'float64',\n",
      " 'HostStarMassSlrMass': 'float64',\n",
      " 'HostStarMetallicity': 'float64',\n",
      " 'HostStarRadiusSlrRad': 'float64',\n",
      " 'HostStarTempK': 'float64',\n",
      " 'PeriodDays': 'float64',\n",
      " 'PlanetaryMassJpt': 'float64'}\n",
      "\n",
      "\n",
      "=> The columns below matched your filters. Tested encoding them successfully.\n",
      "\n",
      "['PlanetaryMassJpt',\n",
      " 'PeriodDays',\n",
      " 'DistFromSunParsec',\n",
      " 'HostStarMassSlrMass',\n",
      " 'HostStarRadiusSlrRad',\n",
      " 'HostStarMetallicity',\n",
      " 'HostStarTempK']\n",
      "\n",
      "\n",
      "=> Nice! Now all columns have encoders associated with them. No more Featurecoders can be added to this Encoderset.\n",
      "\n"
     ]
    }
   ],
   "source": [
    "for fc in featurecoder_kwargs:\n",
    "    encoderset.make_featurecoder(**fc)"
   ]
  },
  {
   "cell_type": "markdown",
   "metadata": {
    "jupyter": {
     "outputs_hidden": true
    }
   },
   "source": [
    "---\n",
    "---\n",
    "---"
   ]
  },
  {
   "cell_type": "code",
   "execution_count": 22,
   "metadata": {},
   "outputs": [],
   "source": [
    "import keras\n",
    "from keras import metrics\n",
    "from keras.models import Sequential\n",
    "from keras.callbacks import History\n",
    "from keras.layers import Dense, Dropout"
   ]
  },
  {
   "cell_type": "code",
   "execution_count": 24,
   "metadata": {},
   "outputs": [],
   "source": [
    "def function_model_build(input_shape, **hyperparameters):\n",
    "    model = Sequential()\n",
    "    model.add(Dense(hyperparameters['neuron_count'], input_shape=input_shape, activation='relu'))\n",
    "    model.add(Dropout(0.2))\n",
    "    model.add(Dense(hyperparameters['neuron_count'], activation='relu'))\n",
    "    \n",
    "    if hyperparameters['2nd_dropout']:\n",
    "        model.add(Dropout(0.2))\n",
    "        \n",
    "    model.add(Dense(1, kernel_initializer='normal'))\n",
    "    \n",
    "    \n",
    "    opt = keras.optimizers.Adamax(hyperparameters['learning_rate'])\n",
    "    model.compile(\n",
    "\t\tloss='mean_squared_error'\n",
    "\t\t, optimizer=opt\n",
    "\t)\n",
    "    return model"
   ]
  },
  {
   "cell_type": "code",
   "execution_count": 25,
   "metadata": {},
   "outputs": [],
   "source": [
    "def function_model_train(model, samples_train, samples_evaluate, **hyperparameters):   \n",
    "    \n",
    "    metrics_cuttoffs = [\n",
    "        {\"metric\":\"val_loss\", \"cutoff\":0.3, \"above_or_below\":\"below\"},\n",
    "        {\"metric\":\"loss\", \"cutoff\":0.3, \"above_or_below\":\"below\"}\n",
    "    ]\n",
    "    cutoffs = aiqc.TrainingCallback.Keras.MetricCutoff(metrics_cuttoffs)\n",
    "    \n",
    "    model.fit(\n",
    "        samples_train[\"features\"]\n",
    "        , samples_train[\"labels\"]\n",
    "        , validation_data = (\n",
    "            samples_evaluate[\"features\"]\n",
    "            , samples_evaluate[\"labels\"]\n",
    "        )\n",
    "        , verbose = 0\n",
    "        , batch_size = hyperparameters['batch_size']\n",
    "        , callbacks=[History(), cutoffs]\n",
    "        , epochs = hyperparameters['epoch_count']\n",
    "    )\n",
    "\n",
    "    return model"
   ]
  },
  {
   "cell_type": "code",
   "execution_count": 26,
   "metadata": {},
   "outputs": [],
   "source": [
    "algorithm = aiqc.Algorithm.make(\n",
    "    library = \"keras\"\n",
    "    , analysis_type = \"regression\"\n",
    "    , function_model_build = function_model_build\n",
    "    , function_model_train = function_model_train\n",
    ")"
   ]
  },
  {
   "cell_type": "code",
   "execution_count": 27,
   "metadata": {},
   "outputs": [],
   "source": [
    "hyperparameters = {\n",
    "    \"batch_size\": [3, 5]\n",
    "    , \"2nd_dropout\": [True, False]\n",
    "    , \"epoch_count\": [500]\n",
    "    , \"neuron_count\": [32, 64]\n",
    "    , \"learning_rate\": [0.01]\n",
    "}"
   ]
  },
  {
   "cell_type": "code",
   "execution_count": 28,
   "metadata": {},
   "outputs": [],
   "source": [
    "hyperparamset = aiqc.Hyperparamset.from_algorithm(\n",
    "    algorithm_id = algorithm.id\n",
    "    , hyperparameters = hyperparameters\n",
    ")"
   ]
  },
  {
   "cell_type": "code",
   "execution_count": 29,
   "metadata": {},
   "outputs": [],
   "source": [
    "batch = aiqc.Batch.from_algorithm(\n",
    "    algorithm_id = algorithm.id\n",
    "    , splitset_id = splitset.id\n",
    "    , hyperparamset_id = hyperparamset.id\n",
    "    , foldset_id = None\n",
    "    , encoderset_id = encoderset.id\n",
    ")"
   ]
  },
  {
   "cell_type": "code",
   "execution_count": 30,
   "metadata": {},
   "outputs": [
    {
     "name": "stderr",
     "output_type": "stream",
     "text": [
      "🔮 Training Models 🔮:  12%|█████▎                                    | 1/8 [00:37<04:20, 37.28s/it]"
     ]
    },
    {
     "name": "stdout",
     "output_type": "stream",
     "text": [
      "\n",
      ":: Epoch #97 ::\n",
      "Satisfied thresholds defined in `MetricCutoff` callback. Stopped training early.\n",
      "\n"
     ]
    },
    {
     "name": "stderr",
     "output_type": "stream",
     "text": [
      "🔮 Training Models 🔮:  25%|██████████▌                               | 2/8 [00:46<02:52, 28.78s/it]"
     ]
    },
    {
     "name": "stdout",
     "output_type": "stream",
     "text": [
      "\n",
      ":: Epoch #67 ::\n",
      "Satisfied thresholds defined in `MetricCutoff` callback. Stopped training early.\n",
      "\n"
     ]
    },
    {
     "name": "stderr",
     "output_type": "stream",
     "text": [
      "🔮 Training Models 🔮:  50%|█████████████████████                     | 4/8 [01:29<01:46, 26.53s/it]"
     ]
    },
    {
     "name": "stdout",
     "output_type": "stream",
     "text": [
      "\n",
      ":: Epoch #118 ::\n",
      "Satisfied thresholds defined in `MetricCutoff` callback. Stopped training early.\n",
      "\n"
     ]
    },
    {
     "name": "stderr",
     "output_type": "stream",
     "text": [
      "🔮 Training Models 🔮:  62%|██████████████████████████▎               | 5/8 [01:42<01:01, 20.45s/it]\n",
      "Process aiqc_batch_1:\n",
      "Traceback (most recent call last):\n",
      "  File \"/Users/layne/.pyenv/versions/3.7.6/lib/python3.7/multiprocessing/process.py\", line 297, in _bootstrap\n",
      "    self.run()\n",
      "  File \"/Users/layne/.pyenv/versions/3.7.6/lib/python3.7/multiprocessing/process.py\", line 99, in run\n",
      "    self._target(*self._args, **self._kwargs)\n",
      "  File \"/Users/layne/Desktop/aiqc/aiqc/__init__.py\", line 3234, in background_proc\n",
      "    job.run(verbose=verbose, repeat_index=repeat_index)\n",
      "  File \"/Users/layne/Desktop/aiqc/aiqc/__init__.py\", line 3786, in run\n",
      "    , **hyperparameters\n",
      "  File \"<ipython-input-25-ea8b7976d0ab>\", line 19, in function_model_train\n",
      "    , epochs = hyperparameters['epoch_count']\n",
      "  File \"/Users/layne/.pyenv/versions/3.7.6/envs/jupyterlab/lib/python3.7/site-packages/tensorflow/python/keras/engine/training.py\", line 108, in _method_wrapper\n",
      "    return method(self, *args, **kwargs)\n",
      "  File \"/Users/layne/.pyenv/versions/3.7.6/envs/jupyterlab/lib/python3.7/site-packages/tensorflow/python/keras/engine/training.py\", line 1098, in fit\n",
      "    tmp_logs = train_function(iterator)\n",
      "  File \"/Users/layne/.pyenv/versions/3.7.6/envs/jupyterlab/lib/python3.7/site-packages/tensorflow/python/eager/def_function.py\", line 780, in __call__\n",
      "    result = self._call(*args, **kwds)\n",
      "  File \"/Users/layne/.pyenv/versions/3.7.6/envs/jupyterlab/lib/python3.7/site-packages/tensorflow/python/eager/def_function.py\", line 807, in _call\n",
      "    return self._stateless_fn(*args, **kwds)  # pylint: disable=not-callable\n",
      "  File \"/Users/layne/.pyenv/versions/3.7.6/envs/jupyterlab/lib/python3.7/site-packages/tensorflow/python/eager/function.py\", line 2829, in __call__\n",
      "    return graph_function._filtered_call(args, kwargs)  # pylint: disable=protected-access\n",
      "  File \"/Users/layne/.pyenv/versions/3.7.6/envs/jupyterlab/lib/python3.7/site-packages/tensorflow/python/eager/function.py\", line 1844, in _filtered_call\n",
      "    [t for t in nest.flatten((args, kwargs), expand_composites=True)\n",
      "  File \"/Users/layne/.pyenv/versions/3.7.6/envs/jupyterlab/lib/python3.7/site-packages/tensorflow/python/eager/function.py\", line 1845, in <listcomp>\n",
      "    if isinstance(t, (ops.Tensor,\n",
      "KeyboardInterrupt\n"
     ]
    }
   ],
   "source": [
    "batch.run_jobs()"
   ]
  },
  {
   "cell_type": "code",
   "execution_count": 17,
   "metadata": {},
   "outputs": [],
   "source": [
    "import textwrap"
   ]
  }
 ],
 "metadata": {
  "kernelspec": {
   "display_name": "Python 3",
   "language": "python",
   "name": "python3"
  },
  "language_info": {
   "codemirror_mode": {
    "name": "ipython",
    "version": 3
   },
   "file_extension": ".py",
   "mimetype": "text/x-python",
   "name": "python",
   "nbconvert_exporter": "python",
   "pygments_lexer": "ipython3",
   "version": "3.7.6"
  }
 },
 "nbformat": 4,
 "nbformat_minor": 4
}
