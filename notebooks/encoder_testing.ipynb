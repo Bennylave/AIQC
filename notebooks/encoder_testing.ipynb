{
 "cells": [
  {
   "cell_type": "code",
   "execution_count": 1,
   "metadata": {},
   "outputs": [
    {
     "data": {
      "text/plain": [
       "'/Users/layne/Desktop/aiqc'"
      ]
     },
     "execution_count": 1,
     "metadata": {},
     "output_type": "execute_result"
    }
   ],
   "source": [
    "import os\n",
    "os.chdir('/Users/layne/Desktop/aiqc')\n",
    "os.getcwd()"
   ]
  },
  {
   "cell_type": "code",
   "execution_count": 2,
   "metadata": {},
   "outputs": [
    {
     "name": "stderr",
     "output_type": "stream",
     "text": [
      "/Users/layne/.pyenv/versions/3.7.6/envs/jupyterlab/lib/python3.7/site-packages/pandas/compat/__init__.py:97: UserWarning: Could not import the lzma module. Your installed Python is incomplete. Attempting to use lzma compression will result in a RuntimeError.\n",
      "  warnings.warn(msg)\n"
     ]
    }
   ],
   "source": [
    "import aiqc\n",
    "from aiqc import examples"
   ]
  },
  {
   "cell_type": "code",
   "execution_count": 3,
   "metadata": {},
   "outputs": [],
   "source": [
    "import pandas as pd\n",
    "import numpy as np\n",
    "from sklearn.preprocessing import *"
   ]
  },
  {
   "cell_type": "code",
   "execution_count": 4,
   "metadata": {},
   "outputs": [
    {
     "name": "stdout",
     "output_type": "stream",
     "text": [
      "\n",
      "=> Success - deleted database file at path:\n",
      "/Users/layne/Library/Application Support/aiqc/aiqc.sqlite3\n",
      "\n",
      "\n",
      "=> Success - created database file at path:\n",
      "/Users/layne/Library/Application Support/aiqc/aiqc.sqlite3\n",
      "\n",
      "\n",
      "=> Success - created the following tables within database:\n",
      "['algorithm', 'batch', 'dataset', 'encoderset', 'featurecoder', 'featureset', 'file', 'fold', 'foldset', 'hyperparamcombo', 'hyperparamset', 'image', 'job', 'jobset', 'label', 'labelcoder', 'result', 'splitset', 'tabular']\n",
      "\n"
     ]
    }
   ],
   "source": [
    "from importlib import reload\n",
    "aiqc.delete_db(True)\n",
    "reload(aiqc)\n",
    "aiqc.create_db()"
   ]
  },
  {
   "cell_type": "markdown",
   "metadata": {},
   "source": [
    "---"
   ]
  },
  {
   "cell_type": "code",
   "execution_count": 6,
   "metadata": {},
   "outputs": [],
   "source": [
    "dataset = aiqc.Dataset.Tabular.from_path(\n",
    "    examples.get_demo_file_path('exoplanets.parquet')\n",
    "    , source_file_format = 'parquet'\n",
    ")"
   ]
  },
  {
   "cell_type": "code",
   "execution_count": 7,
   "metadata": {},
   "outputs": [
    {
     "data": {
      "text/plain": [
       "TypeFlag                  int64\n",
       "PlanetaryMassJpt        float64\n",
       "PeriodDays              float64\n",
       "SurfaceTempK            float64\n",
       "DistFromSunParsec       float64\n",
       "HostStarMassSlrMass     float64\n",
       "HostStarRadiusSlrRad    float64\n",
       "HostStarMetallicity     float64\n",
       "HostStarTempK           float64\n",
       "dtype: object"
      ]
     },
     "execution_count": 7,
     "metadata": {},
     "output_type": "execute_result"
    }
   ],
   "source": [
    "dataset.to_pandas().head().dtypes"
   ]
  },
  {
   "cell_type": "code",
   "execution_count": 14,
   "metadata": {},
   "outputs": [
    {
     "data": {
      "text/html": [
       "<div>\n",
       "<style scoped>\n",
       "    .dataframe tbody tr th:only-of-type {\n",
       "        vertical-align: middle;\n",
       "    }\n",
       "\n",
       "    .dataframe tbody tr th {\n",
       "        vertical-align: top;\n",
       "    }\n",
       "\n",
       "    .dataframe thead th {\n",
       "        text-align: right;\n",
       "    }\n",
       "</style>\n",
       "<table border=\"1\" class=\"dataframe\">\n",
       "  <thead>\n",
       "    <tr style=\"text-align: right;\">\n",
       "      <th></th>\n",
       "      <th>TypeFlag</th>\n",
       "      <th>PlanetaryMassJpt</th>\n",
       "      <th>PeriodDays</th>\n",
       "      <th>SurfaceTempK</th>\n",
       "      <th>DistFromSunParsec</th>\n",
       "      <th>HostStarMassSlrMass</th>\n",
       "      <th>HostStarRadiusSlrRad</th>\n",
       "      <th>HostStarMetallicity</th>\n",
       "      <th>HostStarTempK</th>\n",
       "    </tr>\n",
       "  </thead>\n",
       "  <tbody>\n",
       "    <tr>\n",
       "      <th>428</th>\n",
       "      <td>0</td>\n",
       "      <td>0.220</td>\n",
       "      <td>6.212290</td>\n",
       "      <td>783.1</td>\n",
       "      <td>380.0</td>\n",
       "      <td>0.880</td>\n",
       "      <td>0.770</td>\n",
       "      <td>0.30</td>\n",
       "      <td>5080.0</td>\n",
       "    </tr>\n",
       "    <tr>\n",
       "      <th>429</th>\n",
       "      <td>0</td>\n",
       "      <td>4.063</td>\n",
       "      <td>4.124461</td>\n",
       "      <td>1161.5</td>\n",
       "      <td>254.0</td>\n",
       "      <td>0.947</td>\n",
       "      <td>1.105</td>\n",
       "      <td>0.01</td>\n",
       "      <td>5588.0</td>\n",
       "    </tr>\n",
       "    <tr>\n",
       "      <th>430</th>\n",
       "      <td>0</td>\n",
       "      <td>3.328</td>\n",
       "      <td>5.452700</td>\n",
       "      <td>1335.3</td>\n",
       "      <td>257.0</td>\n",
       "      <td>1.392</td>\n",
       "      <td>1.535</td>\n",
       "      <td>0.22</td>\n",
       "      <td>6442.0</td>\n",
       "    </tr>\n",
       "    <tr>\n",
       "      <th>431</th>\n",
       "      <td>0</td>\n",
       "      <td>1.360</td>\n",
       "      <td>395.400000</td>\n",
       "      <td>256.8</td>\n",
       "      <td>68.5</td>\n",
       "      <td>1.000</td>\n",
       "      <td>1.220</td>\n",
       "      <td>0.14</td>\n",
       "      <td>5407.0</td>\n",
       "    </tr>\n",
       "    <tr>\n",
       "      <th>432</th>\n",
       "      <td>0</td>\n",
       "      <td>1.018</td>\n",
       "      <td>1605.800000</td>\n",
       "      <td>160.2</td>\n",
       "      <td>68.5</td>\n",
       "      <td>1.000</td>\n",
       "      <td>1.220</td>\n",
       "      <td>0.14</td>\n",
       "      <td>5407.0</td>\n",
       "    </tr>\n",
       "  </tbody>\n",
       "</table>\n",
       "</div>"
      ],
      "text/plain": [
       "     TypeFlag  PlanetaryMassJpt   PeriodDays  SurfaceTempK  DistFromSunParsec  \\\n",
       "428         0             0.220     6.212290         783.1              380.0   \n",
       "429         0             4.063     4.124461        1161.5              254.0   \n",
       "430         0             3.328     5.452700        1335.3              257.0   \n",
       "431         0             1.360   395.400000         256.8               68.5   \n",
       "432         0             1.018  1605.800000         160.2               68.5   \n",
       "\n",
       "     HostStarMassSlrMass  HostStarRadiusSlrRad  HostStarMetallicity  \\\n",
       "428                0.880                 0.770                 0.30   \n",
       "429                0.947                 1.105                 0.01   \n",
       "430                1.392                 1.535                 0.22   \n",
       "431                1.000                 1.220                 0.14   \n",
       "432                1.000                 1.220                 0.14   \n",
       "\n",
       "     HostStarTempK  \n",
       "428         5080.0  \n",
       "429         5588.0  \n",
       "430         6442.0  \n",
       "431         5407.0  \n",
       "432         5407.0  "
      ]
     },
     "execution_count": 14,
     "metadata": {},
     "output_type": "execute_result"
    }
   ],
   "source": [
    "dataset.to_pandas().tail(5)"
   ]
  },
  {
   "cell_type": "code",
   "execution_count": 15,
   "metadata": {},
   "outputs": [],
   "source": [
    "label = dataset.make_label(columns=['SurfaceTempK'])"
   ]
  },
  {
   "cell_type": "code",
   "execution_count": 16,
   "metadata": {},
   "outputs": [],
   "source": [
    "featureset = dataset.make_featureset(exclude_columns=[\n",
    "    'SurfaceTempK',\n",
    "])"
   ]
  },
  {
   "cell_type": "code",
   "execution_count": 17,
   "metadata": {},
   "outputs": [],
   "source": [
    "splitset = featureset.make_splitset(\n",
    "    label_id=label.id\n",
    "    , size_test = 0.22\n",
    "    , size_validation = 0.12 \n",
    ")"
   ]
  },
  {
   "cell_type": "code",
   "execution_count": 18,
   "metadata": {},
   "outputs": [],
   "source": [
    "foldset = splitset.make_foldset(\n",
    "    fold_count = 3\n",
    ")"
   ]
  },
  {
   "cell_type": "markdown",
   "metadata": {},
   "source": [
    "---"
   ]
  },
  {
   "cell_type": "code",
   "execution_count": 19,
   "metadata": {},
   "outputs": [],
   "source": [
    "encoderset = splitset.make_encoderset()"
   ]
  },
  {
   "cell_type": "code",
   "execution_count": 11,
   "metadata": {},
   "outputs": [],
   "source": [
    "# labelcoder = encoderset.make_labelcoder(\n",
    "#     sklearn_preprocess = OneHotEncoder(sparse=False)\n",
    "#     , only_fit_train = False\n",
    "# )"
   ]
  },
  {
   "cell_type": "code",
   "execution_count": 20,
   "metadata": {},
   "outputs": [],
   "source": [
    "labelcoder = encoderset.make_labelcoder(\n",
    "    sklearn_preprocess = StandardScaler()\n",
    "    , only_fit_train = True\n",
    ")"
   ]
  },
  {
   "cell_type": "markdown",
   "metadata": {
    "jupyter": {
     "outputs_hidden": true
    }
   },
   "source": [
    "---\n",
    "---\n",
    "---"
   ]
  },
  {
   "cell_type": "code",
   "execution_count": 21,
   "metadata": {},
   "outputs": [],
   "source": [
    "fc = encoderset.make_featurecoder(\n",
    "\tsklearn_preprocess = OneHotEncoder(sparse=False)\n",
    "\t, only_fit_train = False\n",
    "\t, include = True\n",
    "\t, dtypes = ['int64']\n",
    "\t, columns = None\n",
    ")"
   ]
  },
  {
   "cell_type": "code",
   "execution_count": 22,
   "metadata": {},
   "outputs": [],
   "source": [
    "fc = encoderset.make_featurecoder(\n",
    "\tsklearn_preprocess = StandardScaler()\n",
    "\t, only_fit_train = True\n",
    "\t, include = True\n",
    "\t, dtypes = ['float64']\n",
    "\t, columns = None\n",
    ")"
   ]
  },
  {
   "cell_type": "code",
   "execution_count": 189,
   "metadata": {},
   "outputs": [],
   "source": [
    "# fc = encoderset.make_featurecoder(\n",
    "# \tsklearn_preprocess = OneHotEncoder(sparse=False)\n",
    "# \t, only_fit_train = False\n",
    "# \t, include = True\n",
    "# \t, dtypes = ['uint8', 'int64']\n",
    "# \t, columns = None\n",
    "# )"
   ]
  },
  {
   "cell_type": "markdown",
   "metadata": {
    "jupyter": {
     "outputs_hidden": true
    }
   },
   "source": [
    "---\n",
    "---\n",
    "---"
   ]
  },
  {
   "cell_type": "code",
   "execution_count": 24,
   "metadata": {},
   "outputs": [],
   "source": [
    "import keras\n",
    "from keras import metrics\n",
    "from keras.models import Sequential\n",
    "from keras.callbacks import History\n",
    "from keras.layers import Dense, Dropout"
   ]
  },
  {
   "cell_type": "code",
   "execution_count": 25,
   "metadata": {},
   "outputs": [
    {
     "data": {
      "text/plain": [
       "8"
      ]
     },
     "execution_count": 25,
     "metadata": {},
     "output_type": "execute_result"
    }
   ],
   "source": [
    "len(featureset.columns)"
   ]
  },
  {
   "cell_type": "code",
   "execution_count": 26,
   "metadata": {},
   "outputs": [],
   "source": [
    "def function_model_build(**hyperparameters):\n",
    "    model = Sequential()\n",
    "    \n",
    "    model.add(Dense(hyperparameters['neuron_count'], activation='relu'))\n",
    "    model.add(Dropout(0.2))\n",
    "    model.add(Dense(hyperparameters['neuron_count'], activation='relu'))\n",
    "    \n",
    "    if hyperparameters['2nd_dropout']:\n",
    "        model.add(Dropout(0.2))\n",
    "        \n",
    "    model.add(Dense(1, kernel_initializer='normal'))\n",
    "    \n",
    "    \n",
    "    opt = keras.optimizers.Adamax(hyperparameters['learning_rate'])\n",
    "    model.compile(\n",
    "\t\tloss='mean_squared_error'\n",
    "\t\t, optimizer=opt\n",
    "\t)\n",
    "    return model"
   ]
  },
  {
   "cell_type": "code",
   "execution_count": 27,
   "metadata": {},
   "outputs": [],
   "source": [
    "def function_model_train(model, samples_train, samples_evaluate, **hyperparameters):   \n",
    "    \n",
    "    metrics_cuttoffs = [\n",
    "        {\"metric\":\"val_loss\", \"cutoff\":0.3, \"above_or_below\":\"below\"},\n",
    "        {\"metric\":\"loss\", \"cutoff\":0.3, \"above_or_below\":\"below\"}\n",
    "    ]\n",
    "    cutoffs = aiqc.TrainingCallback.Keras.MetricCutoff(metrics_cuttoffs)\n",
    "    \n",
    "    model.fit(\n",
    "        samples_train[\"features\"]\n",
    "        , samples_train[\"labels\"]\n",
    "        , validation_data = (\n",
    "            samples_evaluate[\"features\"]\n",
    "            , samples_evaluate[\"labels\"]\n",
    "        )\n",
    "        , verbose = 0\n",
    "        , batch_size = hyperparameters['batch_size']\n",
    "        , callbacks=[History(), cutoffs]\n",
    "        , epochs = hyperparameters['epoch_count']\n",
    "    )\n",
    "\n",
    "    return model"
   ]
  },
  {
   "cell_type": "code",
   "execution_count": 28,
   "metadata": {},
   "outputs": [],
   "source": [
    "algorithm = aiqc.Algorithm.make(\n",
    "    library = \"keras\"\n",
    "    , analysis_type = \"regression\"\n",
    "    , function_model_build = function_model_build\n",
    "    , function_model_train = function_model_train\n",
    ")"
   ]
  },
  {
   "cell_type": "code",
   "execution_count": 29,
   "metadata": {},
   "outputs": [],
   "source": [
    "hyperparameters = {\n",
    "    \"batch_size\": [3, 5]\n",
    "    , \"2nd_dropout\": [True, False]\n",
    "    , \"epoch_count\": [500]\n",
    "    , \"neuron_count\": [32, 64]\n",
    "    , \"learning_rate\": [0.01]\n",
    "}"
   ]
  },
  {
   "cell_type": "code",
   "execution_count": 31,
   "metadata": {},
   "outputs": [],
   "source": [
    "hyperparamset = aiqc.Hyperparamset.from_algorithm(\n",
    "    algorithm_id = algorithm.id\n",
    "    , hyperparameters = hyperparameters\n",
    ")"
   ]
  },
  {
   "cell_type": "code",
   "execution_count": 32,
   "metadata": {},
   "outputs": [],
   "source": [
    "batch = aiqc.Batch.from_algorithm(\n",
    "    algorithm_id = algorithm.id\n",
    "    , splitset_id = splitset.id\n",
    "    , hyperparamset_id = hyperparamset.id\n",
    "    , foldset_id = None\n",
    "    , encoderset_id = encoderset.id\n",
    ")"
   ]
  },
  {
   "cell_type": "code",
   "execution_count": 33,
   "metadata": {},
   "outputs": [
    {
     "name": "stderr",
     "output_type": "stream",
     "text": [
      "🔮 Training Models 🔮:   0%|                                                  | 0/8 [00:00<?, ?it/s]"
     ]
    },
    {
     "name": "stdout",
     "output_type": "stream",
     "text": [
      "\n",
      ":: Epoch #158 ::\n",
      "Satisfied thresholds defined in `MetricCutoff` callback. Stopped training early.\n",
      "\n"
     ]
    },
    {
     "name": "stderr",
     "output_type": "stream",
     "text": [
      "🔮 Training Models 🔮:  12%|█████▎                                    | 1/8 [00:35<04:06, 35.19s/it]"
     ]
    },
    {
     "name": "stdout",
     "output_type": "stream",
     "text": [
      "\n",
      ":: Epoch #105 ::\n",
      "Satisfied thresholds defined in `MetricCutoff` callback. Stopped training early.\n",
      "\n"
     ]
    },
    {
     "name": "stderr",
     "output_type": "stream",
     "text": [
      "🔮 Training Models 🔮:  25%|██████████▌                               | 2/8 [01:02<03:16, 32.82s/it]"
     ]
    },
    {
     "name": "stdout",
     "output_type": "stream",
     "text": [
      "\n",
      ":: Epoch #167 ::\n",
      "Satisfied thresholds defined in `MetricCutoff` callback. Stopped training early.\n",
      "\n"
     ]
    },
    {
     "name": "stderr",
     "output_type": "stream",
     "text": [
      "🔮 Training Models 🔮:  38%|███████████████▊                          | 3/8 [01:33<02:41, 32.22s/it]"
     ]
    },
    {
     "name": "stdout",
     "output_type": "stream",
     "text": [
      "\n",
      ":: Epoch #99 ::\n",
      "Satisfied thresholds defined in `MetricCutoff` callback. Stopped training early.\n",
      "\n"
     ]
    },
    {
     "name": "stderr",
     "output_type": "stream",
     "text": [
      "🔮 Training Models 🔮:  50%|█████████████████████                     | 4/8 [01:53<01:53, 28.26s/it]\n",
      "Process aiqc_batch_1:\n",
      "Traceback (most recent call last):\n",
      "  File \"/Users/layne/.pyenv/versions/3.7.6/lib/python3.7/multiprocessing/process.py\", line 297, in _bootstrap\n",
      "    self.run()\n",
      "  File \"/Users/layne/.pyenv/versions/3.7.6/lib/python3.7/multiprocessing/process.py\", line 99, in run\n",
      "    self._target(*self._args, **self._kwargs)\n",
      "  File \"/Users/layne/Desktop/aiqc/aiqc/__init__.py\", line 3187, in background_proc\n",
      "    job.run(verbose=verbose, repeat_index=repeat_index)\n",
      "  File \"/Users/layne/Desktop/aiqc/aiqc/__init__.py\", line 3736, in run\n",
      "    , **hyperparameters\n",
      "  File \"<ipython-input-27-ea8b7976d0ab>\", line 19, in function_model_train\n",
      "    , epochs = hyperparameters['epoch_count']\n",
      "  File \"/Users/layne/.pyenv/versions/3.7.6/envs/jupyterlab/lib/python3.7/site-packages/tensorflow/python/keras/engine/training.py\", line 108, in _method_wrapper\n",
      "    return method(self, *args, **kwargs)\n",
      "  File \"/Users/layne/.pyenv/versions/3.7.6/envs/jupyterlab/lib/python3.7/site-packages/tensorflow/python/keras/engine/training.py\", line 1063, in fit\n",
      "    steps_per_execution=self._steps_per_execution)\n",
      "  File \"/Users/layne/.pyenv/versions/3.7.6/envs/jupyterlab/lib/python3.7/site-packages/tensorflow/python/keras/engine/data_adapter.py\", line 1117, in __init__\n",
      "    model=model)\n",
      "  File \"/Users/layne/.pyenv/versions/3.7.6/envs/jupyterlab/lib/python3.7/site-packages/tensorflow/python/keras/engine/data_adapter.py\", line 362, in __init__\n",
      "    indices_dataset = indices_dataset.flat_map(slice_batch_indices)\n",
      "  File \"/Users/layne/.pyenv/versions/3.7.6/envs/jupyterlab/lib/python3.7/site-packages/tensorflow/python/data/ops/dataset_ops.py\", line 1727, in flat_map\n",
      "    return FlatMapDataset(self, map_func)\n",
      "  File \"/Users/layne/.pyenv/versions/3.7.6/envs/jupyterlab/lib/python3.7/site-packages/tensorflow/python/data/ops/dataset_ops.py\", line 4123, in __init__\n",
      "    map_func, self._transformation_name(), dataset=input_dataset)\n",
      "  File \"/Users/layne/.pyenv/versions/3.7.6/envs/jupyterlab/lib/python3.7/site-packages/tensorflow/python/data/ops/dataset_ops.py\", line 3371, in __init__\n",
      "    self._function = wrapper_fn.get_concrete_function()\n",
      "  File \"/Users/layne/.pyenv/versions/3.7.6/envs/jupyterlab/lib/python3.7/site-packages/tensorflow/python/eager/function.py\", line 2939, in get_concrete_function\n",
      "    *args, **kwargs)\n",
      "  File \"/Users/layne/.pyenv/versions/3.7.6/envs/jupyterlab/lib/python3.7/site-packages/tensorflow/python/eager/function.py\", line 2906, in _get_concrete_function_garbage_collected\n",
      "    graph_function, args, kwargs = self._maybe_define_function(args, kwargs)\n",
      "  File \"/Users/layne/.pyenv/versions/3.7.6/envs/jupyterlab/lib/python3.7/site-packages/tensorflow/python/eager/function.py\", line 3213, in _maybe_define_function\n",
      "    graph_function = self._create_graph_function(args, kwargs)\n",
      "  File \"/Users/layne/.pyenv/versions/3.7.6/envs/jupyterlab/lib/python3.7/site-packages/tensorflow/python/eager/function.py\", line 3075, in _create_graph_function\n",
      "    capture_by_value=self._capture_by_value),\n",
      "  File \"/Users/layne/.pyenv/versions/3.7.6/envs/jupyterlab/lib/python3.7/site-packages/tensorflow/python/framework/func_graph.py\", line 986, in func_graph_from_py_func\n",
      "    func_outputs = python_func(*func_args, **func_kwargs)\n",
      "  File \"/Users/layne/.pyenv/versions/3.7.6/envs/jupyterlab/lib/python3.7/site-packages/tensorflow/python/data/ops/dataset_ops.py\", line 3364, in wrapper_fn\n",
      "    ret = _wrapper_helper(*args)\n",
      "  File \"/Users/layne/.pyenv/versions/3.7.6/envs/jupyterlab/lib/python3.7/site-packages/tensorflow/python/data/ops/dataset_ops.py\", line 3299, in _wrapper_helper\n",
      "    ret = autograph.tf_convert(func, ag_ctx)(*nested_args)\n",
      "  File \"/Users/layne/.pyenv/versions/3.7.6/envs/jupyterlab/lib/python3.7/site-packages/tensorflow/python/autograph/impl/api.py\", line 255, in wrapper\n",
      "    return converted_call(f, args, kwargs, options=options)\n",
      "  File \"/Users/layne/.pyenv/versions/3.7.6/envs/jupyterlab/lib/python3.7/site-packages/tensorflow/python/autograph/impl/api.py\", line 532, in converted_call\n",
      "    return _call_unconverted(f, args, kwargs, options)\n",
      "  File \"/Users/layne/.pyenv/versions/3.7.6/envs/jupyterlab/lib/python3.7/site-packages/tensorflow/python/autograph/impl/api.py\", line 339, in _call_unconverted\n",
      "    return f(*args, **kwargs)\n",
      "  File \"/Users/layne/.pyenv/versions/3.7.6/envs/jupyterlab/lib/python3.7/site-packages/tensorflow/python/keras/engine/data_adapter.py\", line 349, in slice_batch_indices\n",
      "    first_k_indices, [num_full_batches, batch_size])\n",
      "  File \"/Users/layne/.pyenv/versions/3.7.6/envs/jupyterlab/lib/python3.7/site-packages/tensorflow/python/util/dispatch.py\", line 201, in wrapper\n",
      "    return target(*args, **kwargs)\n",
      "  File \"/Users/layne/.pyenv/versions/3.7.6/envs/jupyterlab/lib/python3.7/site-packages/tensorflow/python/ops/array_ops.py\", line 195, in reshape\n",
      "    result = gen_array_ops.reshape(tensor, shape, name)\n",
      "  File \"/Users/layne/.pyenv/versions/3.7.6/envs/jupyterlab/lib/python3.7/site-packages/tensorflow/python/ops/gen_array_ops.py\", line 8234, in reshape\n",
      "    \"Reshape\", tensor=tensor, shape=shape, name=name)\n",
      "  File \"/Users/layne/.pyenv/versions/3.7.6/envs/jupyterlab/lib/python3.7/site-packages/tensorflow/python/framework/op_def_library.py\", line 744, in _apply_op_helper\n",
      "    attrs=attr_protos, op_def=op_def)\n",
      "  File \"/Users/layne/.pyenv/versions/3.7.6/envs/jupyterlab/lib/python3.7/site-packages/tensorflow/python/framework/func_graph.py\", line 593, in _create_op_internal\n",
      "    compute_device)\n",
      "  File \"/Users/layne/.pyenv/versions/3.7.6/envs/jupyterlab/lib/python3.7/site-packages/tensorflow/python/framework/ops.py\", line 3485, in _create_op_internal\n",
      "    op_def=op_def)\n",
      "  File \"/Users/layne/.pyenv/versions/3.7.6/envs/jupyterlab/lib/python3.7/site-packages/tensorflow/python/framework/ops.py\", line 1976, in __init__\n",
      "    name = compat.as_str(node_def.name)\n",
      "  File \"/Users/layne/.pyenv/versions/3.7.6/envs/jupyterlab/lib/python3.7/site-packages/tensorflow/python/util/compat.py\", line 118, in as_str\n",
      "    return as_text(bytes_or_text, encoding)\n",
      "  File \"/Users/layne/.pyenv/versions/3.7.6/envs/jupyterlab/lib/python3.7/site-packages/tensorflow/python/util/compat.py\", line 106, in as_text\n",
      "    if isinstance(bytes_or_text, _six.text_type):\n",
      "KeyboardInterrupt\n"
     ]
    }
   ],
   "source": [
    "batch.run_jobs()"
   ]
  }
 ],
 "metadata": {
  "kernelspec": {
   "display_name": "Python 3",
   "language": "python",
   "name": "python3"
  },
  "language_info": {
   "codemirror_mode": {
    "name": "ipython",
    "version": 3
   },
   "file_extension": ".py",
   "mimetype": "text/x-python",
   "name": "python",
   "nbconvert_exporter": "python",
   "pygments_lexer": "ipython3",
   "version": "3.7.6"
  }
 },
 "nbformat": 4,
 "nbformat_minor": 4
}
