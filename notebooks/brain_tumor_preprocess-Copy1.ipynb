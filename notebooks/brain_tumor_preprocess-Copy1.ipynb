{
 "cells": [
  {
   "cell_type": "code",
   "execution_count": 8,
   "metadata": {},
   "outputs": [],
   "source": [
    "import os\n",
    "from PIL import Image\n",
    "from natsort import natsorted\n",
    "import io"
   ]
  },
  {
   "cell_type": "code",
   "execution_count": 9,
   "metadata": {},
   "outputs": [],
   "source": [
    "os.chdir('/Users/layne/Desktop/brain_tumor_original')"
   ]
  },
  {
   "cell_type": "code",
   "execution_count": 10,
   "metadata": {},
   "outputs": [],
   "source": [
    "mixed_file_paths = os.listdir('.')"
   ]
  },
  {
   "cell_type": "code",
   "execution_count": 11,
   "metadata": {},
   "outputs": [],
   "source": [
    "mixed_file_paths.sort()"
   ]
  },
  {
   "cell_type": "code",
   "execution_count": 12,
   "metadata": {},
   "outputs": [],
   "source": [
    "mixed_file_paths.remove('.DS_Store')"
   ]
  },
  {
   "cell_type": "code",
   "execution_count": 15,
   "metadata": {
    "collapsed": true,
    "jupyter": {
     "outputs_hidden": true
    }
   },
   "outputs": [
    {
     "data": {
      "text/plain": [
       "['healthy_0.jpg',\n",
       " 'healthy_1.jpg',\n",
       " 'healthy_10.jpg',\n",
       " 'healthy_11.jpg',\n",
       " 'healthy_12.jpg',\n",
       " 'healthy_13.jpg',\n",
       " 'healthy_14.jpg',\n",
       " 'healthy_15.jpg',\n",
       " 'healthy_16.jpg',\n",
       " 'healthy_17.jpg',\n",
       " 'healthy_18.jpg',\n",
       " 'healthy_19.jpg',\n",
       " 'healthy_2.jpg',\n",
       " 'healthy_20.jpg',\n",
       " 'healthy_21.jpg',\n",
       " 'healthy_22.jpg',\n",
       " 'healthy_23.jpg',\n",
       " 'healthy_24.jpg',\n",
       " 'healthy_25.jpg',\n",
       " 'healthy_26.jpg',\n",
       " 'healthy_27.jpg',\n",
       " 'healthy_28.jpg',\n",
       " 'healthy_29.jpg',\n",
       " 'healthy_3.jpg',\n",
       " 'healthy_30.jpg',\n",
       " 'healthy_31.jpg',\n",
       " 'healthy_32.jpg',\n",
       " 'healthy_33.jpg',\n",
       " 'healthy_34.jpg',\n",
       " 'healthy_35.jpg',\n",
       " 'healthy_36.jpg',\n",
       " 'healthy_37.jpg',\n",
       " 'healthy_38.jpg',\n",
       " 'healthy_39.jpg',\n",
       " 'healthy_4.jpg',\n",
       " 'healthy_5.jpg',\n",
       " 'healthy_6.jpg',\n",
       " 'healthy_7.jpg',\n",
       " 'healthy_8.jpg',\n",
       " 'healthy_9.jpg',\n",
       " 'tumor_0.jpg',\n",
       " 'tumor_1.jpg',\n",
       " 'tumor_10.jpg',\n",
       " 'tumor_11.jpg',\n",
       " 'tumor_12.jpg',\n",
       " 'tumor_13.jpg',\n",
       " 'tumor_14.jpg',\n",
       " 'tumor_15.jpg',\n",
       " 'tumor_16.jpg',\n",
       " 'tumor_17.jpg',\n",
       " 'tumor_18.jpg',\n",
       " 'tumor_19.jpg',\n",
       " 'tumor_2.jpg',\n",
       " 'tumor_20.jpg',\n",
       " 'tumor_21.jpg',\n",
       " 'tumor_22.jpg',\n",
       " 'tumor_23.jpg',\n",
       " 'tumor_24.jpg',\n",
       " 'tumor_25.jpg',\n",
       " 'tumor_26.jpg',\n",
       " 'tumor_27.jpg',\n",
       " 'tumor_28.jpg',\n",
       " 'tumor_29.jpg',\n",
       " 'tumor_3.jpg',\n",
       " 'tumor_30.jpg',\n",
       " 'tumor_31.jpg',\n",
       " 'tumor_32.jpg',\n",
       " 'tumor_33.jpg',\n",
       " 'tumor_34.jpg',\n",
       " 'tumor_35.jpg',\n",
       " 'tumor_36.jpg',\n",
       " 'tumor_37.jpg',\n",
       " 'tumor_38.jpg',\n",
       " 'tumor_39.jpg',\n",
       " 'tumor_4.jpg',\n",
       " 'tumor_5.jpg',\n",
       " 'tumor_6.jpg',\n",
       " 'tumor_7.jpg',\n",
       " 'tumor_8.jpg',\n",
       " 'tumor_9.jpg']"
      ]
     },
     "execution_count": 15,
     "metadata": {},
     "output_type": "execute_result"
    }
   ],
   "source": [
    "mixed_file_paths"
   ]
  },
  {
   "cell_type": "code",
   "execution_count": 13,
   "metadata": {},
   "outputs": [
    {
     "data": {
      "text/plain": [
       "80"
      ]
     },
     "execution_count": 13,
     "metadata": {},
     "output_type": "execute_result"
    }
   ],
   "source": [
    "len(mixed_file_paths)"
   ]
  },
  {
   "cell_type": "code",
   "execution_count": 16,
   "metadata": {},
   "outputs": [],
   "source": [
    "for file_path in mixed_file_paths:     \n",
    "    img = Image.open(file_path)\n",
    "    img = img.resize((120,160))\n",
    "    img = img.convert(mode='L')\n",
    "    #strip the .png\n",
    "    file_path = file_path[:-4]\n",
    "    new_path = f\"/Users/layne/Desktop/brain_tumor_preprocessed/{file_path}.jpg\"\n",
    "    img.save(new_path)"
   ]
  }
 ],
 "metadata": {
  "kernelspec": {
   "display_name": "Python 3",
   "language": "python",
   "name": "python3"
  },
  "language_info": {
   "codemirror_mode": {
    "name": "ipython",
    "version": 3
   },
   "file_extension": ".py",
   "mimetype": "text/x-python",
   "name": "python",
   "nbconvert_exporter": "python",
   "pygments_lexer": "ipython3",
   "version": "3.7.6"
  }
 },
 "nbformat": 4,
 "nbformat_minor": 4
}
