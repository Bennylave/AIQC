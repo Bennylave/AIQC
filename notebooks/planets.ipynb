{
 "cells": [
  {
   "cell_type": "code",
   "execution_count": 1,
   "metadata": {},
   "outputs": [],
   "source": [
    "import os\n",
    "os.chdir(\"/Users/Layne/Desktop/aiqc\")"
   ]
  },
  {
   "cell_type": "code",
   "execution_count": 2,
   "metadata": {},
   "outputs": [
    {
     "name": "stderr",
     "output_type": "stream",
     "text": [
      "/Users/layne/.pyenv/versions/3.7.6/envs/jupyterlab/lib/python3.7/site-packages/pandas/compat/__init__.py:120: UserWarning: Could not import the lzma module. Your installed Python is incomplete. Attempting to use lzma compression will result in a RuntimeError.\n",
      "  warnings.warn(msg)\n"
     ]
    }
   ],
   "source": [
    "import aiqc\n",
    "from aiqc import examples"
   ]
  },
  {
   "cell_type": "code",
   "execution_count": 3,
   "metadata": {},
   "outputs": [],
   "source": [
    "import pandas as pd\n",
    "import numpy as np"
   ]
  },
  {
   "cell_type": "code",
   "execution_count": 6,
   "metadata": {},
   "outputs": [],
   "source": [
    "df = pd.read_csv(\"/Users/Layne/Downloads/kepler.tsv\", sep='\\t')"
   ]
  },
  {
   "cell_type": "code",
   "execution_count": 7,
   "metadata": {},
   "outputs": [
    {
     "data": {
      "text/html": [
       "<div>\n",
       "<style scoped>\n",
       "    .dataframe tbody tr th:only-of-type {\n",
       "        vertical-align: middle;\n",
       "    }\n",
       "\n",
       "    .dataframe tbody tr th {\n",
       "        vertical-align: top;\n",
       "    }\n",
       "\n",
       "    .dataframe thead th {\n",
       "        text-align: right;\n",
       "    }\n",
       "</style>\n",
       "<table border=\"1\" class=\"dataframe\">\n",
       "  <thead>\n",
       "    <tr style=\"text-align: right;\">\n",
       "      <th></th>\n",
       "      <th>koi_score</th>\n",
       "      <th>koi_fpflag_nt</th>\n",
       "      <th>koi_fpflag_ss</th>\n",
       "      <th>koi_fpflag_co</th>\n",
       "      <th>koi_fpflag_ec</th>\n",
       "      <th>koi_impact</th>\n",
       "      <th>koi_impact_avg_err</th>\n",
       "      <th>koi_depth</th>\n",
       "      <th>koi_prad</th>\n",
       "      <th>koi_teq</th>\n",
       "      <th>koi_insol</th>\n",
       "      <th>koi_insol_avg_err</th>\n",
       "      <th>koi_model_snr</th>\n",
       "      <th>koi_steff</th>\n",
       "      <th>koi_steff_avg_err</th>\n",
       "      <th>koi_slogg</th>\n",
       "      <th>koi_srad</th>\n",
       "      <th>ra</th>\n",
       "      <th>dec</th>\n",
       "      <th>koi_kepmag</th>\n",
       "    </tr>\n",
       "  </thead>\n",
       "  <tbody>\n",
       "    <tr>\n",
       "      <th>0</th>\n",
       "      <td>1.000</td>\n",
       "      <td>0</td>\n",
       "      <td>0</td>\n",
       "      <td>0</td>\n",
       "      <td>0</td>\n",
       "      <td>0.146</td>\n",
       "      <td>0.0860</td>\n",
       "      <td>616.0</td>\n",
       "      <td>2.26</td>\n",
       "      <td>793.0</td>\n",
       "      <td>93.59</td>\n",
       "      <td>6.400</td>\n",
       "      <td>35.8</td>\n",
       "      <td>5455.0</td>\n",
       "      <td>0.0</td>\n",
       "      <td>4.467</td>\n",
       "      <td>0.927</td>\n",
       "      <td>291.93423</td>\n",
       "      <td>48.141651</td>\n",
       "      <td>15.347</td>\n",
       "    </tr>\n",
       "    <tr>\n",
       "      <th>1</th>\n",
       "      <td>0.969</td>\n",
       "      <td>0</td>\n",
       "      <td>0</td>\n",
       "      <td>0</td>\n",
       "      <td>0</td>\n",
       "      <td>0.586</td>\n",
       "      <td>-0.1920</td>\n",
       "      <td>875.0</td>\n",
       "      <td>2.83</td>\n",
       "      <td>443.0</td>\n",
       "      <td>9.11</td>\n",
       "      <td>0.625</td>\n",
       "      <td>25.8</td>\n",
       "      <td>5455.0</td>\n",
       "      <td>0.0</td>\n",
       "      <td>4.467</td>\n",
       "      <td>0.927</td>\n",
       "      <td>291.93423</td>\n",
       "      <td>48.141651</td>\n",
       "      <td>15.347</td>\n",
       "    </tr>\n",
       "    <tr>\n",
       "      <th>2</th>\n",
       "      <td>0.000</td>\n",
       "      <td>0</td>\n",
       "      <td>1</td>\n",
       "      <td>0</td>\n",
       "      <td>0</td>\n",
       "      <td>0.969</td>\n",
       "      <td>2.5245</td>\n",
       "      <td>10800.0</td>\n",
       "      <td>14.60</td>\n",
       "      <td>638.0</td>\n",
       "      <td>39.30</td>\n",
       "      <td>10.275</td>\n",
       "      <td>76.3</td>\n",
       "      <td>5853.0</td>\n",
       "      <td>-9.0</td>\n",
       "      <td>4.544</td>\n",
       "      <td>0.868</td>\n",
       "      <td>297.00482</td>\n",
       "      <td>48.134129</td>\n",
       "      <td>15.436</td>\n",
       "    </tr>\n",
       "    <tr>\n",
       "      <th>3</th>\n",
       "      <td>0.000</td>\n",
       "      <td>0</td>\n",
       "      <td>1</td>\n",
       "      <td>0</td>\n",
       "      <td>0</td>\n",
       "      <td>1.276</td>\n",
       "      <td>0.0115</td>\n",
       "      <td>8080.0</td>\n",
       "      <td>33.46</td>\n",
       "      <td>1395.0</td>\n",
       "      <td>891.96</td>\n",
       "      <td>219.300</td>\n",
       "      <td>505.6</td>\n",
       "      <td>5805.0</td>\n",
       "      <td>-8.5</td>\n",
       "      <td>4.564</td>\n",
       "      <td>0.791</td>\n",
       "      <td>285.53461</td>\n",
       "      <td>48.285210</td>\n",
       "      <td>15.597</td>\n",
       "    </tr>\n",
       "    <tr>\n",
       "      <th>4</th>\n",
       "      <td>1.000</td>\n",
       "      <td>0</td>\n",
       "      <td>0</td>\n",
       "      <td>0</td>\n",
       "      <td>0</td>\n",
       "      <td>0.701</td>\n",
       "      <td>-0.1215</td>\n",
       "      <td>603.0</td>\n",
       "      <td>2.75</td>\n",
       "      <td>1406.0</td>\n",
       "      <td>926.16</td>\n",
       "      <td>280.045</td>\n",
       "      <td>40.9</td>\n",
       "      <td>6031.0</td>\n",
       "      <td>-21.0</td>\n",
       "      <td>4.438</td>\n",
       "      <td>1.046</td>\n",
       "      <td>288.75488</td>\n",
       "      <td>48.226200</td>\n",
       "      <td>15.509</td>\n",
       "    </tr>\n",
       "    <tr>\n",
       "      <th>...</th>\n",
       "      <td>...</td>\n",
       "      <td>...</td>\n",
       "      <td>...</td>\n",
       "      <td>...</td>\n",
       "      <td>...</td>\n",
       "      <td>...</td>\n",
       "      <td>...</td>\n",
       "      <td>...</td>\n",
       "      <td>...</td>\n",
       "      <td>...</td>\n",
       "      <td>...</td>\n",
       "      <td>...</td>\n",
       "      <td>...</td>\n",
       "      <td>...</td>\n",
       "      <td>...</td>\n",
       "      <td>...</td>\n",
       "      <td>...</td>\n",
       "      <td>...</td>\n",
       "      <td>...</td>\n",
       "      <td>...</td>\n",
       "    </tr>\n",
       "    <tr>\n",
       "      <th>9559</th>\n",
       "      <td>0.000</td>\n",
       "      <td>0</td>\n",
       "      <td>0</td>\n",
       "      <td>0</td>\n",
       "      <td>1</td>\n",
       "      <td>0.765</td>\n",
       "      <td>NaN</td>\n",
       "      <td>87.7</td>\n",
       "      <td>1.11</td>\n",
       "      <td>929.0</td>\n",
       "      <td>176.40</td>\n",
       "      <td>NaN</td>\n",
       "      <td>8.4</td>\n",
       "      <td>5638.0</td>\n",
       "      <td>NaN</td>\n",
       "      <td>4.296</td>\n",
       "      <td>1.088</td>\n",
       "      <td>298.74921</td>\n",
       "      <td>46.973351</td>\n",
       "      <td>14.478</td>\n",
       "    </tr>\n",
       "    <tr>\n",
       "      <th>9560</th>\n",
       "      <td>0.000</td>\n",
       "      <td>0</td>\n",
       "      <td>1</td>\n",
       "      <td>1</td>\n",
       "      <td>0</td>\n",
       "      <td>1.252</td>\n",
       "      <td>NaN</td>\n",
       "      <td>1580.0</td>\n",
       "      <td>29.35</td>\n",
       "      <td>2088.0</td>\n",
       "      <td>4500.53</td>\n",
       "      <td>NaN</td>\n",
       "      <td>453.3</td>\n",
       "      <td>5638.0</td>\n",
       "      <td>NaN</td>\n",
       "      <td>4.529</td>\n",
       "      <td>0.903</td>\n",
       "      <td>297.18875</td>\n",
       "      <td>47.093819</td>\n",
       "      <td>14.082</td>\n",
       "    </tr>\n",
       "    <tr>\n",
       "      <th>9561</th>\n",
       "      <td>0.497</td>\n",
       "      <td>0</td>\n",
       "      <td>0</td>\n",
       "      <td>0</td>\n",
       "      <td>0</td>\n",
       "      <td>0.043</td>\n",
       "      <td>NaN</td>\n",
       "      <td>48.5</td>\n",
       "      <td>0.72</td>\n",
       "      <td>1608.0</td>\n",
       "      <td>1585.81</td>\n",
       "      <td>NaN</td>\n",
       "      <td>10.6</td>\n",
       "      <td>6119.0</td>\n",
       "      <td>NaN</td>\n",
       "      <td>4.444</td>\n",
       "      <td>1.031</td>\n",
       "      <td>286.50937</td>\n",
       "      <td>47.163219</td>\n",
       "      <td>14.757</td>\n",
       "    </tr>\n",
       "    <tr>\n",
       "      <th>9562</th>\n",
       "      <td>0.021</td>\n",
       "      <td>0</td>\n",
       "      <td>0</td>\n",
       "      <td>1</td>\n",
       "      <td>0</td>\n",
       "      <td>0.147</td>\n",
       "      <td>NaN</td>\n",
       "      <td>104.0</td>\n",
       "      <td>1.07</td>\n",
       "      <td>2218.0</td>\n",
       "      <td>5713.41</td>\n",
       "      <td>NaN</td>\n",
       "      <td>12.3</td>\n",
       "      <td>6173.0</td>\n",
       "      <td>NaN</td>\n",
       "      <td>4.447</td>\n",
       "      <td>1.041</td>\n",
       "      <td>294.16489</td>\n",
       "      <td>47.176281</td>\n",
       "      <td>15.385</td>\n",
       "    </tr>\n",
       "    <tr>\n",
       "      <th>9563</th>\n",
       "      <td>0.000</td>\n",
       "      <td>0</td>\n",
       "      <td>0</td>\n",
       "      <td>1</td>\n",
       "      <td>1</td>\n",
       "      <td>0.134</td>\n",
       "      <td>NaN</td>\n",
       "      <td>76.7</td>\n",
       "      <td>1.05</td>\n",
       "      <td>1266.0</td>\n",
       "      <td>607.42</td>\n",
       "      <td>NaN</td>\n",
       "      <td>8.2</td>\n",
       "      <td>6469.0</td>\n",
       "      <td>NaN</td>\n",
       "      <td>4.385</td>\n",
       "      <td>1.193</td>\n",
       "      <td>297.00977</td>\n",
       "      <td>47.121021</td>\n",
       "      <td>14.826</td>\n",
       "    </tr>\n",
       "  </tbody>\n",
       "</table>\n",
       "<p>9564 rows × 20 columns</p>\n",
       "</div>"
      ],
      "text/plain": [
       "      koi_score  koi_fpflag_nt  koi_fpflag_ss  koi_fpflag_co  koi_fpflag_ec  \\\n",
       "0         1.000              0              0              0              0   \n",
       "1         0.969              0              0              0              0   \n",
       "2         0.000              0              1              0              0   \n",
       "3         0.000              0              1              0              0   \n",
       "4         1.000              0              0              0              0   \n",
       "...         ...            ...            ...            ...            ...   \n",
       "9559      0.000              0              0              0              1   \n",
       "9560      0.000              0              1              1              0   \n",
       "9561      0.497              0              0              0              0   \n",
       "9562      0.021              0              0              1              0   \n",
       "9563      0.000              0              0              1              1   \n",
       "\n",
       "      koi_impact  koi_impact_avg_err  koi_depth  koi_prad  koi_teq  koi_insol  \\\n",
       "0          0.146              0.0860      616.0      2.26    793.0      93.59   \n",
       "1          0.586             -0.1920      875.0      2.83    443.0       9.11   \n",
       "2          0.969              2.5245    10800.0     14.60    638.0      39.30   \n",
       "3          1.276              0.0115     8080.0     33.46   1395.0     891.96   \n",
       "4          0.701             -0.1215      603.0      2.75   1406.0     926.16   \n",
       "...          ...                 ...        ...       ...      ...        ...   \n",
       "9559       0.765                 NaN       87.7      1.11    929.0     176.40   \n",
       "9560       1.252                 NaN     1580.0     29.35   2088.0    4500.53   \n",
       "9561       0.043                 NaN       48.5      0.72   1608.0    1585.81   \n",
       "9562       0.147                 NaN      104.0      1.07   2218.0    5713.41   \n",
       "9563       0.134                 NaN       76.7      1.05   1266.0     607.42   \n",
       "\n",
       "      koi_insol_avg_err  koi_model_snr  koi_steff  koi_steff_avg_err  \\\n",
       "0                 6.400           35.8     5455.0                0.0   \n",
       "1                 0.625           25.8     5455.0                0.0   \n",
       "2                10.275           76.3     5853.0               -9.0   \n",
       "3               219.300          505.6     5805.0               -8.5   \n",
       "4               280.045           40.9     6031.0              -21.0   \n",
       "...                 ...            ...        ...                ...   \n",
       "9559                NaN            8.4     5638.0                NaN   \n",
       "9560                NaN          453.3     5638.0                NaN   \n",
       "9561                NaN           10.6     6119.0                NaN   \n",
       "9562                NaN           12.3     6173.0                NaN   \n",
       "9563                NaN            8.2     6469.0                NaN   \n",
       "\n",
       "      koi_slogg  koi_srad         ra        dec  koi_kepmag  \n",
       "0         4.467     0.927  291.93423  48.141651      15.347  \n",
       "1         4.467     0.927  291.93423  48.141651      15.347  \n",
       "2         4.544     0.868  297.00482  48.134129      15.436  \n",
       "3         4.564     0.791  285.53461  48.285210      15.597  \n",
       "4         4.438     1.046  288.75488  48.226200      15.509  \n",
       "...         ...       ...        ...        ...         ...  \n",
       "9559      4.296     1.088  298.74921  46.973351      14.478  \n",
       "9560      4.529     0.903  297.18875  47.093819      14.082  \n",
       "9561      4.444     1.031  286.50937  47.163219      14.757  \n",
       "9562      4.447     1.041  294.16489  47.176281      15.385  \n",
       "9563      4.385     1.193  297.00977  47.121021      14.826  \n",
       "\n",
       "[9564 rows x 20 columns]"
      ]
     },
     "execution_count": 7,
     "metadata": {},
     "output_type": "execute_result"
    }
   ],
   "source": [
    "df"
   ]
  },
  {
   "cell_type": "code",
   "execution_count": 9,
   "metadata": {},
   "outputs": [],
   "source": [
    "df_clean = df.dropna(axis=0, how='any')"
   ]
  },
  {
   "cell_type": "code",
   "execution_count": 12,
   "metadata": {},
   "outputs": [
    {
     "data": {
      "text/html": [
       "<div>\n",
       "<style scoped>\n",
       "    .dataframe tbody tr th:only-of-type {\n",
       "        vertical-align: middle;\n",
       "    }\n",
       "\n",
       "    .dataframe tbody tr th {\n",
       "        vertical-align: top;\n",
       "    }\n",
       "\n",
       "    .dataframe thead th {\n",
       "        text-align: right;\n",
       "    }\n",
       "</style>\n",
       "<table border=\"1\" class=\"dataframe\">\n",
       "  <thead>\n",
       "    <tr style=\"text-align: right;\">\n",
       "      <th></th>\n",
       "      <th>koi_score</th>\n",
       "      <th>koi_fpflag_nt</th>\n",
       "      <th>koi_fpflag_ss</th>\n",
       "      <th>koi_fpflag_co</th>\n",
       "      <th>koi_fpflag_ec</th>\n",
       "      <th>koi_impact</th>\n",
       "      <th>koi_impact_avg_err</th>\n",
       "      <th>koi_depth</th>\n",
       "      <th>koi_prad</th>\n",
       "      <th>koi_teq</th>\n",
       "      <th>koi_insol</th>\n",
       "      <th>koi_insol_avg_err</th>\n",
       "      <th>koi_model_snr</th>\n",
       "      <th>koi_steff</th>\n",
       "      <th>koi_steff_avg_err</th>\n",
       "      <th>koi_slogg</th>\n",
       "      <th>koi_srad</th>\n",
       "      <th>ra</th>\n",
       "      <th>dec</th>\n",
       "      <th>koi_kepmag</th>\n",
       "    </tr>\n",
       "  </thead>\n",
       "  <tbody>\n",
       "    <tr>\n",
       "      <th>0</th>\n",
       "      <td>1.000</td>\n",
       "      <td>0</td>\n",
       "      <td>0</td>\n",
       "      <td>0</td>\n",
       "      <td>0</td>\n",
       "      <td>0.146</td>\n",
       "      <td>0.0860</td>\n",
       "      <td>616.0</td>\n",
       "      <td>2.26</td>\n",
       "      <td>793.0</td>\n",
       "      <td>93.59</td>\n",
       "      <td>6.400</td>\n",
       "      <td>35.8</td>\n",
       "      <td>5455.0</td>\n",
       "      <td>0.0</td>\n",
       "      <td>4.467</td>\n",
       "      <td>0.927</td>\n",
       "      <td>291.93423</td>\n",
       "      <td>48.141651</td>\n",
       "      <td>15.347</td>\n",
       "    </tr>\n",
       "    <tr>\n",
       "      <th>1</th>\n",
       "      <td>0.969</td>\n",
       "      <td>0</td>\n",
       "      <td>0</td>\n",
       "      <td>0</td>\n",
       "      <td>0</td>\n",
       "      <td>0.586</td>\n",
       "      <td>-0.1920</td>\n",
       "      <td>875.0</td>\n",
       "      <td>2.83</td>\n",
       "      <td>443.0</td>\n",
       "      <td>9.11</td>\n",
       "      <td>0.625</td>\n",
       "      <td>25.8</td>\n",
       "      <td>5455.0</td>\n",
       "      <td>0.0</td>\n",
       "      <td>4.467</td>\n",
       "      <td>0.927</td>\n",
       "      <td>291.93423</td>\n",
       "      <td>48.141651</td>\n",
       "      <td>15.347</td>\n",
       "    </tr>\n",
       "    <tr>\n",
       "      <th>2</th>\n",
       "      <td>0.000</td>\n",
       "      <td>0</td>\n",
       "      <td>1</td>\n",
       "      <td>0</td>\n",
       "      <td>0</td>\n",
       "      <td>0.969</td>\n",
       "      <td>2.5245</td>\n",
       "      <td>10800.0</td>\n",
       "      <td>14.60</td>\n",
       "      <td>638.0</td>\n",
       "      <td>39.30</td>\n",
       "      <td>10.275</td>\n",
       "      <td>76.3</td>\n",
       "      <td>5853.0</td>\n",
       "      <td>-9.0</td>\n",
       "      <td>4.544</td>\n",
       "      <td>0.868</td>\n",
       "      <td>297.00482</td>\n",
       "      <td>48.134129</td>\n",
       "      <td>15.436</td>\n",
       "    </tr>\n",
       "    <tr>\n",
       "      <th>3</th>\n",
       "      <td>0.000</td>\n",
       "      <td>0</td>\n",
       "      <td>1</td>\n",
       "      <td>0</td>\n",
       "      <td>0</td>\n",
       "      <td>1.276</td>\n",
       "      <td>0.0115</td>\n",
       "      <td>8080.0</td>\n",
       "      <td>33.46</td>\n",
       "      <td>1395.0</td>\n",
       "      <td>891.96</td>\n",
       "      <td>219.300</td>\n",
       "      <td>505.6</td>\n",
       "      <td>5805.0</td>\n",
       "      <td>-8.5</td>\n",
       "      <td>4.564</td>\n",
       "      <td>0.791</td>\n",
       "      <td>285.53461</td>\n",
       "      <td>48.285210</td>\n",
       "      <td>15.597</td>\n",
       "    </tr>\n",
       "    <tr>\n",
       "      <th>4</th>\n",
       "      <td>1.000</td>\n",
       "      <td>0</td>\n",
       "      <td>0</td>\n",
       "      <td>0</td>\n",
       "      <td>0</td>\n",
       "      <td>0.701</td>\n",
       "      <td>-0.1215</td>\n",
       "      <td>603.0</td>\n",
       "      <td>2.75</td>\n",
       "      <td>1406.0</td>\n",
       "      <td>926.16</td>\n",
       "      <td>280.045</td>\n",
       "      <td>40.9</td>\n",
       "      <td>6031.0</td>\n",
       "      <td>-21.0</td>\n",
       "      <td>4.438</td>\n",
       "      <td>1.046</td>\n",
       "      <td>288.75488</td>\n",
       "      <td>48.226200</td>\n",
       "      <td>15.509</td>\n",
       "    </tr>\n",
       "    <tr>\n",
       "      <th>...</th>\n",
       "      <td>...</td>\n",
       "      <td>...</td>\n",
       "      <td>...</td>\n",
       "      <td>...</td>\n",
       "      <td>...</td>\n",
       "      <td>...</td>\n",
       "      <td>...</td>\n",
       "      <td>...</td>\n",
       "      <td>...</td>\n",
       "      <td>...</td>\n",
       "      <td>...</td>\n",
       "      <td>...</td>\n",
       "      <td>...</td>\n",
       "      <td>...</td>\n",
       "      <td>...</td>\n",
       "      <td>...</td>\n",
       "      <td>...</td>\n",
       "      <td>...</td>\n",
       "      <td>...</td>\n",
       "      <td>...</td>\n",
       "    </tr>\n",
       "    <tr>\n",
       "      <th>324</th>\n",
       "      <td>0.000</td>\n",
       "      <td>0</td>\n",
       "      <td>1</td>\n",
       "      <td>0</td>\n",
       "      <td>0</td>\n",
       "      <td>0.994</td>\n",
       "      <td>0.1180</td>\n",
       "      <td>4510.0</td>\n",
       "      <td>13.66</td>\n",
       "      <td>804.0</td>\n",
       "      <td>98.77</td>\n",
       "      <td>26.700</td>\n",
       "      <td>322.3</td>\n",
       "      <td>6224.0</td>\n",
       "      <td>-22.0</td>\n",
       "      <td>4.330</td>\n",
       "      <td>1.132</td>\n",
       "      <td>287.61633</td>\n",
       "      <td>39.127239</td>\n",
       "      <td>12.336</td>\n",
       "    </tr>\n",
       "    <tr>\n",
       "      <th>325</th>\n",
       "      <td>0.000</td>\n",
       "      <td>0</td>\n",
       "      <td>1</td>\n",
       "      <td>0</td>\n",
       "      <td>0</td>\n",
       "      <td>0.060</td>\n",
       "      <td>0.1520</td>\n",
       "      <td>674.0</td>\n",
       "      <td>34.39</td>\n",
       "      <td>3145.0</td>\n",
       "      <td>23135.72</td>\n",
       "      <td>-2713.650</td>\n",
       "      <td>37.1</td>\n",
       "      <td>4813.0</td>\n",
       "      <td>-35.5</td>\n",
       "      <td>2.472</td>\n",
       "      <td>13.652</td>\n",
       "      <td>289.09323</td>\n",
       "      <td>49.424484</td>\n",
       "      <td>6.974</td>\n",
       "    </tr>\n",
       "    <tr>\n",
       "      <th>326</th>\n",
       "      <td>1.000</td>\n",
       "      <td>0</td>\n",
       "      <td>0</td>\n",
       "      <td>0</td>\n",
       "      <td>0</td>\n",
       "      <td>1.263</td>\n",
       "      <td>0.0000</td>\n",
       "      <td>1500.0</td>\n",
       "      <td>133.56</td>\n",
       "      <td>5862.0</td>\n",
       "      <td>277887.70</td>\n",
       "      <td>-32956.815</td>\n",
       "      <td>179.6</td>\n",
       "      <td>8523.0</td>\n",
       "      <td>-29.5</td>\n",
       "      <td>3.559</td>\n",
       "      <td>4.051</td>\n",
       "      <td>286.01920</td>\n",
       "      <td>48.866741</td>\n",
       "      <td>7.748</td>\n",
       "    </tr>\n",
       "    <tr>\n",
       "      <th>327</th>\n",
       "      <td>0.000</td>\n",
       "      <td>0</td>\n",
       "      <td>1</td>\n",
       "      <td>1</td>\n",
       "      <td>0</td>\n",
       "      <td>1.226</td>\n",
       "      <td>0.1580</td>\n",
       "      <td>748.0</td>\n",
       "      <td>23.61</td>\n",
       "      <td>2073.0</td>\n",
       "      <td>4391.51</td>\n",
       "      <td>832.005</td>\n",
       "      <td>116.1</td>\n",
       "      <td>5582.0</td>\n",
       "      <td>8.5</td>\n",
       "      <td>4.497</td>\n",
       "      <td>0.846</td>\n",
       "      <td>295.09866</td>\n",
       "      <td>41.007038</td>\n",
       "      <td>15.058</td>\n",
       "    </tr>\n",
       "    <tr>\n",
       "      <th>328</th>\n",
       "      <td>0.000</td>\n",
       "      <td>0</td>\n",
       "      <td>0</td>\n",
       "      <td>1</td>\n",
       "      <td>1</td>\n",
       "      <td>1.258</td>\n",
       "      <td>0.0780</td>\n",
       "      <td>598.0</td>\n",
       "      <td>27.85</td>\n",
       "      <td>1610.0</td>\n",
       "      <td>1595.19</td>\n",
       "      <td>394.925</td>\n",
       "      <td>140.6</td>\n",
       "      <td>5758.0</td>\n",
       "      <td>0.0</td>\n",
       "      <td>4.475</td>\n",
       "      <td>0.902</td>\n",
       "      <td>298.13589</td>\n",
       "      <td>41.332062</td>\n",
       "      <td>13.555</td>\n",
       "    </tr>\n",
       "  </tbody>\n",
       "</table>\n",
       "<p>323 rows × 20 columns</p>\n",
       "</div>"
      ],
      "text/plain": [
       "     koi_score  koi_fpflag_nt  koi_fpflag_ss  koi_fpflag_co  koi_fpflag_ec  \\\n",
       "0        1.000              0              0              0              0   \n",
       "1        0.969              0              0              0              0   \n",
       "2        0.000              0              1              0              0   \n",
       "3        0.000              0              1              0              0   \n",
       "4        1.000              0              0              0              0   \n",
       "..         ...            ...            ...            ...            ...   \n",
       "324      0.000              0              1              0              0   \n",
       "325      0.000              0              1              0              0   \n",
       "326      1.000              0              0              0              0   \n",
       "327      0.000              0              1              1              0   \n",
       "328      0.000              0              0              1              1   \n",
       "\n",
       "     koi_impact  koi_impact_avg_err  koi_depth  koi_prad  koi_teq  koi_insol  \\\n",
       "0         0.146              0.0860      616.0      2.26    793.0      93.59   \n",
       "1         0.586             -0.1920      875.0      2.83    443.0       9.11   \n",
       "2         0.969              2.5245    10800.0     14.60    638.0      39.30   \n",
       "3         1.276              0.0115     8080.0     33.46   1395.0     891.96   \n",
       "4         0.701             -0.1215      603.0      2.75   1406.0     926.16   \n",
       "..          ...                 ...        ...       ...      ...        ...   \n",
       "324       0.994              0.1180     4510.0     13.66    804.0      98.77   \n",
       "325       0.060              0.1520      674.0     34.39   3145.0   23135.72   \n",
       "326       1.263              0.0000     1500.0    133.56   5862.0  277887.70   \n",
       "327       1.226              0.1580      748.0     23.61   2073.0    4391.51   \n",
       "328       1.258              0.0780      598.0     27.85   1610.0    1595.19   \n",
       "\n",
       "     koi_insol_avg_err  koi_model_snr  koi_steff  koi_steff_avg_err  \\\n",
       "0                6.400           35.8     5455.0                0.0   \n",
       "1                0.625           25.8     5455.0                0.0   \n",
       "2               10.275           76.3     5853.0               -9.0   \n",
       "3              219.300          505.6     5805.0               -8.5   \n",
       "4              280.045           40.9     6031.0              -21.0   \n",
       "..                 ...            ...        ...                ...   \n",
       "324             26.700          322.3     6224.0              -22.0   \n",
       "325          -2713.650           37.1     4813.0              -35.5   \n",
       "326         -32956.815          179.6     8523.0              -29.5   \n",
       "327            832.005          116.1     5582.0                8.5   \n",
       "328            394.925          140.6     5758.0                0.0   \n",
       "\n",
       "     koi_slogg  koi_srad         ra        dec  koi_kepmag  \n",
       "0        4.467     0.927  291.93423  48.141651      15.347  \n",
       "1        4.467     0.927  291.93423  48.141651      15.347  \n",
       "2        4.544     0.868  297.00482  48.134129      15.436  \n",
       "3        4.564     0.791  285.53461  48.285210      15.597  \n",
       "4        4.438     1.046  288.75488  48.226200      15.509  \n",
       "..         ...       ...        ...        ...         ...  \n",
       "324      4.330     1.132  287.61633  39.127239      12.336  \n",
       "325      2.472    13.652  289.09323  49.424484       6.974  \n",
       "326      3.559     4.051  286.01920  48.866741       7.748  \n",
       "327      4.497     0.846  295.09866  41.007038      15.058  \n",
       "328      4.475     0.902  298.13589  41.332062      13.555  \n",
       "\n",
       "[323 rows x 20 columns]"
      ]
     },
     "execution_count": 12,
     "metadata": {},
     "output_type": "execute_result"
    }
   ],
   "source": [
    "df_clean.isna()"
   ]
  },
  {
   "cell_type": "code",
   "execution_count": 13,
   "metadata": {},
   "outputs": [
    {
     "data": {
      "text/plain": [
       "koi_score             float64\n",
       "koi_fpflag_nt           int64\n",
       "koi_fpflag_ss           int64\n",
       "koi_fpflag_co           int64\n",
       "koi_fpflag_ec           int64\n",
       "koi_impact            float64\n",
       "koi_impact_avg_err    float64\n",
       "koi_depth             float64\n",
       "koi_prad              float64\n",
       "koi_teq               float64\n",
       "koi_insol             float64\n",
       "koi_insol_avg_err     float64\n",
       "koi_model_snr         float64\n",
       "koi_steff             float64\n",
       "koi_steff_avg_err     float64\n",
       "koi_slogg             float64\n",
       "koi_srad              float64\n",
       "ra                    float64\n",
       "dec                   float64\n",
       "koi_kepmag            float64\n",
       "dtype: object"
      ]
     },
     "execution_count": 13,
     "metadata": {},
     "output_type": "execute_result"
    }
   ],
   "source": [
    "df_clean.dtypes"
   ]
  },
  {
   "cell_type": "code",
   "execution_count": 14,
   "metadata": {},
   "outputs": [],
   "source": []
  },
  {
   "cell_type": "code",
   "execution_count": 16,
   "metadata": {},
   "outputs": [],
   "source": [
    "planets = pd.read_parquet(\"/Users/Layne/Desktop/aiqc/aiqc/data/kepler_exoplanets.parquet\")"
   ]
  },
  {
   "cell_type": "code",
   "execution_count": 19,
   "metadata": {},
   "outputs": [
    {
     "data": {
      "text/plain": [
       "koi_score             float64\n",
       "koi_fpflag_nt           int64\n",
       "koi_fpflag_ss           int64\n",
       "koi_fpflag_co           int64\n",
       "koi_fpflag_ec           int64\n",
       "koi_impact            float64\n",
       "koi_impact_avg_err    float64\n",
       "koi_depth             float64\n",
       "koi_prad              float64\n",
       "koi_teq               float64\n",
       "koi_insol             float64\n",
       "koi_insol_avg_err     float64\n",
       "koi_model_snr         float64\n",
       "koi_steff             float64\n",
       "koi_steff_avg_err     float64\n",
       "koi_slogg             float64\n",
       "koi_srad              float64\n",
       "ra                    float64\n",
       "dec                   float64\n",
       "koi_kepmag            float64\n",
       "dtype: object"
      ]
     },
     "execution_count": 19,
     "metadata": {},
     "output_type": "execute_result"
    }
   ],
   "source": [
    "planets.dtypes"
   ]
  },
  {
   "cell_type": "code",
   "execution_count": 32,
   "metadata": {},
   "outputs": [],
   "source": [
    "planets = planets.round(5) "
   ]
  },
  {
   "cell_type": "code",
   "execution_count": 34,
   "metadata": {},
   "outputs": [],
   "source": [
    "planets_clean = planets.dropna(axis=0, how='any')"
   ]
  },
  {
   "cell_type": "code",
   "execution_count": 45,
   "metadata": {},
   "outputs": [
    {
     "data": {
      "text/html": [
       "<div>\n",
       "<style scoped>\n",
       "    .dataframe tbody tr th:only-of-type {\n",
       "        vertical-align: middle;\n",
       "    }\n",
       "\n",
       "    .dataframe tbody tr th {\n",
       "        vertical-align: top;\n",
       "    }\n",
       "\n",
       "    .dataframe thead th {\n",
       "        text-align: right;\n",
       "    }\n",
       "</style>\n",
       "<table border=\"1\" class=\"dataframe\">\n",
       "  <thead>\n",
       "    <tr style=\"text-align: right;\">\n",
       "      <th></th>\n",
       "      <th>koi_score</th>\n",
       "      <th>koi_fpflag_nt</th>\n",
       "      <th>koi_fpflag_ss</th>\n",
       "      <th>koi_fpflag_co</th>\n",
       "      <th>koi_fpflag_ec</th>\n",
       "      <th>koi_impact</th>\n",
       "      <th>koi_impact_avg_err</th>\n",
       "      <th>koi_depth</th>\n",
       "      <th>koi_prad</th>\n",
       "      <th>koi_teq</th>\n",
       "      <th>koi_insol</th>\n",
       "      <th>koi_insol_avg_err</th>\n",
       "      <th>koi_model_snr</th>\n",
       "      <th>koi_steff</th>\n",
       "      <th>koi_steff_avg_err</th>\n",
       "      <th>koi_slogg</th>\n",
       "      <th>koi_srad</th>\n",
       "      <th>ra</th>\n",
       "      <th>dec</th>\n",
       "      <th>koi_kepmag</th>\n",
       "    </tr>\n",
       "  </thead>\n",
       "  <tbody>\n",
       "    <tr>\n",
       "      <th>0</th>\n",
       "      <td>1.000</td>\n",
       "      <td>0</td>\n",
       "      <td>0</td>\n",
       "      <td>0</td>\n",
       "      <td>0</td>\n",
       "      <td>0.146</td>\n",
       "      <td>0.0860</td>\n",
       "      <td>616.0</td>\n",
       "      <td>2.26</td>\n",
       "      <td>793.0</td>\n",
       "      <td>93.59</td>\n",
       "      <td>6.400</td>\n",
       "      <td>35.8</td>\n",
       "      <td>5455.0</td>\n",
       "      <td>0.0</td>\n",
       "      <td>4.467</td>\n",
       "      <td>0.927</td>\n",
       "      <td>291.93423</td>\n",
       "      <td>48.14165</td>\n",
       "      <td>15.347</td>\n",
       "    </tr>\n",
       "    <tr>\n",
       "      <th>1</th>\n",
       "      <td>0.969</td>\n",
       "      <td>0</td>\n",
       "      <td>0</td>\n",
       "      <td>0</td>\n",
       "      <td>0</td>\n",
       "      <td>0.586</td>\n",
       "      <td>-0.1920</td>\n",
       "      <td>875.0</td>\n",
       "      <td>2.83</td>\n",
       "      <td>443.0</td>\n",
       "      <td>9.11</td>\n",
       "      <td>0.625</td>\n",
       "      <td>25.8</td>\n",
       "      <td>5455.0</td>\n",
       "      <td>0.0</td>\n",
       "      <td>4.467</td>\n",
       "      <td>0.927</td>\n",
       "      <td>291.93423</td>\n",
       "      <td>48.14165</td>\n",
       "      <td>15.347</td>\n",
       "    </tr>\n",
       "    <tr>\n",
       "      <th>2</th>\n",
       "      <td>0.000</td>\n",
       "      <td>0</td>\n",
       "      <td>1</td>\n",
       "      <td>0</td>\n",
       "      <td>0</td>\n",
       "      <td>0.969</td>\n",
       "      <td>2.5245</td>\n",
       "      <td>10800.0</td>\n",
       "      <td>14.60</td>\n",
       "      <td>638.0</td>\n",
       "      <td>39.30</td>\n",
       "      <td>10.275</td>\n",
       "      <td>76.3</td>\n",
       "      <td>5853.0</td>\n",
       "      <td>-9.0</td>\n",
       "      <td>4.544</td>\n",
       "      <td>0.868</td>\n",
       "      <td>297.00482</td>\n",
       "      <td>48.13413</td>\n",
       "      <td>15.436</td>\n",
       "    </tr>\n",
       "    <tr>\n",
       "      <th>3</th>\n",
       "      <td>0.000</td>\n",
       "      <td>0</td>\n",
       "      <td>1</td>\n",
       "      <td>0</td>\n",
       "      <td>0</td>\n",
       "      <td>1.276</td>\n",
       "      <td>0.0115</td>\n",
       "      <td>8080.0</td>\n",
       "      <td>33.46</td>\n",
       "      <td>1395.0</td>\n",
       "      <td>891.96</td>\n",
       "      <td>219.300</td>\n",
       "      <td>505.6</td>\n",
       "      <td>5805.0</td>\n",
       "      <td>-8.5</td>\n",
       "      <td>4.564</td>\n",
       "      <td>0.791</td>\n",
       "      <td>285.53461</td>\n",
       "      <td>48.28521</td>\n",
       "      <td>15.597</td>\n",
       "    </tr>\n",
       "    <tr>\n",
       "      <th>4</th>\n",
       "      <td>1.000</td>\n",
       "      <td>0</td>\n",
       "      <td>0</td>\n",
       "      <td>0</td>\n",
       "      <td>0</td>\n",
       "      <td>0.701</td>\n",
       "      <td>-0.1215</td>\n",
       "      <td>603.0</td>\n",
       "      <td>2.75</td>\n",
       "      <td>1406.0</td>\n",
       "      <td>926.16</td>\n",
       "      <td>280.045</td>\n",
       "      <td>40.9</td>\n",
       "      <td>6031.0</td>\n",
       "      <td>-21.0</td>\n",
       "      <td>4.438</td>\n",
       "      <td>1.046</td>\n",
       "      <td>288.75488</td>\n",
       "      <td>48.22620</td>\n",
       "      <td>15.509</td>\n",
       "    </tr>\n",
       "    <tr>\n",
       "      <th>...</th>\n",
       "      <td>...</td>\n",
       "      <td>...</td>\n",
       "      <td>...</td>\n",
       "      <td>...</td>\n",
       "      <td>...</td>\n",
       "      <td>...</td>\n",
       "      <td>...</td>\n",
       "      <td>...</td>\n",
       "      <td>...</td>\n",
       "      <td>...</td>\n",
       "      <td>...</td>\n",
       "      <td>...</td>\n",
       "      <td>...</td>\n",
       "      <td>...</td>\n",
       "      <td>...</td>\n",
       "      <td>...</td>\n",
       "      <td>...</td>\n",
       "      <td>...</td>\n",
       "      <td>...</td>\n",
       "      <td>...</td>\n",
       "    </tr>\n",
       "    <tr>\n",
       "      <th>324</th>\n",
       "      <td>0.000</td>\n",
       "      <td>0</td>\n",
       "      <td>1</td>\n",
       "      <td>0</td>\n",
       "      <td>0</td>\n",
       "      <td>0.994</td>\n",
       "      <td>0.1180</td>\n",
       "      <td>4510.0</td>\n",
       "      <td>13.66</td>\n",
       "      <td>804.0</td>\n",
       "      <td>98.77</td>\n",
       "      <td>26.700</td>\n",
       "      <td>322.3</td>\n",
       "      <td>6224.0</td>\n",
       "      <td>-22.0</td>\n",
       "      <td>4.330</td>\n",
       "      <td>1.132</td>\n",
       "      <td>287.61633</td>\n",
       "      <td>39.12724</td>\n",
       "      <td>12.336</td>\n",
       "    </tr>\n",
       "    <tr>\n",
       "      <th>325</th>\n",
       "      <td>0.000</td>\n",
       "      <td>0</td>\n",
       "      <td>1</td>\n",
       "      <td>0</td>\n",
       "      <td>0</td>\n",
       "      <td>0.060</td>\n",
       "      <td>0.1520</td>\n",
       "      <td>674.0</td>\n",
       "      <td>34.39</td>\n",
       "      <td>3145.0</td>\n",
       "      <td>23135.72</td>\n",
       "      <td>-2713.650</td>\n",
       "      <td>37.1</td>\n",
       "      <td>4813.0</td>\n",
       "      <td>-35.5</td>\n",
       "      <td>2.472</td>\n",
       "      <td>13.652</td>\n",
       "      <td>289.09323</td>\n",
       "      <td>49.42448</td>\n",
       "      <td>6.974</td>\n",
       "    </tr>\n",
       "    <tr>\n",
       "      <th>326</th>\n",
       "      <td>1.000</td>\n",
       "      <td>0</td>\n",
       "      <td>0</td>\n",
       "      <td>0</td>\n",
       "      <td>0</td>\n",
       "      <td>1.263</td>\n",
       "      <td>0.0000</td>\n",
       "      <td>1500.0</td>\n",
       "      <td>133.56</td>\n",
       "      <td>5862.0</td>\n",
       "      <td>277887.70</td>\n",
       "      <td>-32956.815</td>\n",
       "      <td>179.6</td>\n",
       "      <td>8523.0</td>\n",
       "      <td>-29.5</td>\n",
       "      <td>3.559</td>\n",
       "      <td>4.051</td>\n",
       "      <td>286.01920</td>\n",
       "      <td>48.86674</td>\n",
       "      <td>7.748</td>\n",
       "    </tr>\n",
       "    <tr>\n",
       "      <th>327</th>\n",
       "      <td>0.000</td>\n",
       "      <td>0</td>\n",
       "      <td>1</td>\n",
       "      <td>1</td>\n",
       "      <td>0</td>\n",
       "      <td>1.226</td>\n",
       "      <td>0.1580</td>\n",
       "      <td>748.0</td>\n",
       "      <td>23.61</td>\n",
       "      <td>2073.0</td>\n",
       "      <td>4391.51</td>\n",
       "      <td>832.005</td>\n",
       "      <td>116.1</td>\n",
       "      <td>5582.0</td>\n",
       "      <td>8.5</td>\n",
       "      <td>4.497</td>\n",
       "      <td>0.846</td>\n",
       "      <td>295.09866</td>\n",
       "      <td>41.00704</td>\n",
       "      <td>15.058</td>\n",
       "    </tr>\n",
       "    <tr>\n",
       "      <th>328</th>\n",
       "      <td>0.000</td>\n",
       "      <td>0</td>\n",
       "      <td>0</td>\n",
       "      <td>1</td>\n",
       "      <td>1</td>\n",
       "      <td>1.258</td>\n",
       "      <td>0.0780</td>\n",
       "      <td>598.0</td>\n",
       "      <td>27.85</td>\n",
       "      <td>1610.0</td>\n",
       "      <td>1595.19</td>\n",
       "      <td>394.925</td>\n",
       "      <td>140.6</td>\n",
       "      <td>5758.0</td>\n",
       "      <td>0.0</td>\n",
       "      <td>4.475</td>\n",
       "      <td>0.902</td>\n",
       "      <td>298.13589</td>\n",
       "      <td>41.33206</td>\n",
       "      <td>13.555</td>\n",
       "    </tr>\n",
       "  </tbody>\n",
       "</table>\n",
       "<p>323 rows × 20 columns</p>\n",
       "</div>"
      ],
      "text/plain": [
       "     koi_score  koi_fpflag_nt  koi_fpflag_ss  koi_fpflag_co  koi_fpflag_ec  \\\n",
       "0        1.000              0              0              0              0   \n",
       "1        0.969              0              0              0              0   \n",
       "2        0.000              0              1              0              0   \n",
       "3        0.000              0              1              0              0   \n",
       "4        1.000              0              0              0              0   \n",
       "..         ...            ...            ...            ...            ...   \n",
       "324      0.000              0              1              0              0   \n",
       "325      0.000              0              1              0              0   \n",
       "326      1.000              0              0              0              0   \n",
       "327      0.000              0              1              1              0   \n",
       "328      0.000              0              0              1              1   \n",
       "\n",
       "     koi_impact  koi_impact_avg_err  koi_depth  koi_prad  koi_teq  koi_insol  \\\n",
       "0         0.146              0.0860      616.0      2.26    793.0      93.59   \n",
       "1         0.586             -0.1920      875.0      2.83    443.0       9.11   \n",
       "2         0.969              2.5245    10800.0     14.60    638.0      39.30   \n",
       "3         1.276              0.0115     8080.0     33.46   1395.0     891.96   \n",
       "4         0.701             -0.1215      603.0      2.75   1406.0     926.16   \n",
       "..          ...                 ...        ...       ...      ...        ...   \n",
       "324       0.994              0.1180     4510.0     13.66    804.0      98.77   \n",
       "325       0.060              0.1520      674.0     34.39   3145.0   23135.72   \n",
       "326       1.263              0.0000     1500.0    133.56   5862.0  277887.70   \n",
       "327       1.226              0.1580      748.0     23.61   2073.0    4391.51   \n",
       "328       1.258              0.0780      598.0     27.85   1610.0    1595.19   \n",
       "\n",
       "     koi_insol_avg_err  koi_model_snr  koi_steff  koi_steff_avg_err  \\\n",
       "0                6.400           35.8     5455.0                0.0   \n",
       "1                0.625           25.8     5455.0                0.0   \n",
       "2               10.275           76.3     5853.0               -9.0   \n",
       "3              219.300          505.6     5805.0               -8.5   \n",
       "4              280.045           40.9     6031.0              -21.0   \n",
       "..                 ...            ...        ...                ...   \n",
       "324             26.700          322.3     6224.0              -22.0   \n",
       "325          -2713.650           37.1     4813.0              -35.5   \n",
       "326         -32956.815          179.6     8523.0              -29.5   \n",
       "327            832.005          116.1     5582.0                8.5   \n",
       "328            394.925          140.6     5758.0                0.0   \n",
       "\n",
       "     koi_slogg  koi_srad         ra       dec  koi_kepmag  \n",
       "0        4.467     0.927  291.93423  48.14165      15.347  \n",
       "1        4.467     0.927  291.93423  48.14165      15.347  \n",
       "2        4.544     0.868  297.00482  48.13413      15.436  \n",
       "3        4.564     0.791  285.53461  48.28521      15.597  \n",
       "4        4.438     1.046  288.75488  48.22620      15.509  \n",
       "..         ...       ...        ...       ...         ...  \n",
       "324      4.330     1.132  287.61633  39.12724      12.336  \n",
       "325      2.472    13.652  289.09323  49.42448       6.974  \n",
       "326      3.559     4.051  286.01920  48.86674       7.748  \n",
       "327      4.497     0.846  295.09866  41.00704      15.058  \n",
       "328      4.475     0.902  298.13589  41.33206      13.555  \n",
       "\n",
       "[323 rows x 20 columns]"
      ]
     },
     "execution_count": 45,
     "metadata": {},
     "output_type": "execute_result"
    }
   ],
   "source": [
    "planets_clean"
   ]
  },
  {
   "cell_type": "code",
   "execution_count": 47,
   "metadata": {},
   "outputs": [
    {
     "data": {
      "text/plain": [
       "[dtype('float64'),\n",
       " dtype('int64'),\n",
       " dtype('int64'),\n",
       " dtype('int64'),\n",
       " dtype('int64'),\n",
       " dtype('float64'),\n",
       " dtype('float64'),\n",
       " dtype('float64'),\n",
       " dtype('float64'),\n",
       " dtype('float64'),\n",
       " dtype('float64'),\n",
       " dtype('float64'),\n",
       " dtype('float64'),\n",
       " dtype('float64'),\n",
       " dtype('float64'),\n",
       " dtype('float64'),\n",
       " dtype('float64'),\n",
       " dtype('float64'),\n",
       " dtype('float64'),\n",
       " dtype('float64')]"
      ]
     },
     "execution_count": 47,
     "metadata": {},
     "output_type": "execute_result"
    }
   ],
   "source": [
    "list(planets_clean.dtypes)"
   ]
  },
  {
   "cell_type": "code",
   "execution_count": 52,
   "metadata": {},
   "outputs": [],
   "source": [
    "dataset = aiqc.Dataset.Tabular.from_path(\"/Users/Layne/Desktop/aiqc/aiqc/data/kepler_exoplanets.parquet\", source_file_format=\"parquet\")"
   ]
  },
  {
   "cell_type": "code",
   "execution_count": 53,
   "metadata": {},
   "outputs": [],
   "source": [
    "label = dataset.make_label(columns=['koi_score'])"
   ]
  },
  {
   "cell_type": "code",
   "execution_count": 54,
   "metadata": {},
   "outputs": [],
   "source": [
    "featureset = dataset.make_featureset(exclude_columns=['koi_score'])"
   ]
  },
  {
   "cell_type": "code",
   "execution_count": 63,
   "metadata": {},
   "outputs": [
    {
     "ename": "ValueError",
     "evalue": "Input contains NaN, infinity or a value too large for dtype('float64').",
     "output_type": "error",
     "traceback": [
      "\u001b[0;31m---------------------------------------------------------------------------\u001b[0m",
      "\u001b[0;31mValueError\u001b[0m                                Traceback (most recent call last)",
      "\u001b[0;32m<ipython-input-63-e3f600e30dbf>\u001b[0m in \u001b[0;36m<module>\u001b[0;34m\u001b[0m\n\u001b[1;32m      2\u001b[0m     \u001b[0mlabel_id\u001b[0m \u001b[0;34m=\u001b[0m \u001b[0mlabel\u001b[0m\u001b[0;34m.\u001b[0m\u001b[0mid\u001b[0m\u001b[0;34m\u001b[0m\u001b[0;34m\u001b[0m\u001b[0m\n\u001b[1;32m      3\u001b[0m     \u001b[0;34m,\u001b[0m \u001b[0msize_test\u001b[0m \u001b[0;34m=\u001b[0m \u001b[0;36m0.25\u001b[0m\u001b[0;34m\u001b[0m\u001b[0;34m\u001b[0m\u001b[0m\n\u001b[0;32m----> 4\u001b[0;31m     \u001b[0;34m,\u001b[0m \u001b[0mbin_count\u001b[0m \u001b[0;34m=\u001b[0m \u001b[0;36m2\u001b[0m\u001b[0;34m\u001b[0m\u001b[0;34m\u001b[0m\u001b[0m\n\u001b[0m\u001b[1;32m      5\u001b[0m )\n",
      "\u001b[0;32m~/Desktop/aiqc/aiqc/__init__.py\u001b[0m in \u001b[0;36mmake_splitset\u001b[0;34m(id, label_id, size_test, size_validation, bin_count)\u001b[0m\n\u001b[1;32m   1311\u001b[0m                         \u001b[0;34m,\u001b[0m \u001b[0msize_test\u001b[0m \u001b[0;34m=\u001b[0m \u001b[0msize_test\u001b[0m\u001b[0;34m\u001b[0m\u001b[0;34m\u001b[0m\u001b[0m\n\u001b[1;32m   1312\u001b[0m                         \u001b[0;34m,\u001b[0m \u001b[0msize_validation\u001b[0m \u001b[0;34m=\u001b[0m \u001b[0msize_validation\u001b[0m\u001b[0;34m\u001b[0m\u001b[0;34m\u001b[0m\u001b[0m\n\u001b[0;32m-> 1313\u001b[0;31m                         \u001b[0;34m,\u001b[0m \u001b[0mbin_count\u001b[0m \u001b[0;34m=\u001b[0m \u001b[0mbin_count\u001b[0m\u001b[0;34m\u001b[0m\u001b[0;34m\u001b[0m\u001b[0m\n\u001b[0m\u001b[1;32m   1314\u001b[0m \t\t)\n\u001b[1;32m   1315\u001b[0m                 \u001b[0;32mreturn\u001b[0m \u001b[0ms\u001b[0m\u001b[0;34m\u001b[0m\u001b[0;34m\u001b[0m\u001b[0m\n",
      "\u001b[0;32m~/Desktop/aiqc/aiqc/__init__.py\u001b[0m in \u001b[0;36mfrom_featureset\u001b[0;34m(featureset_id, label_id, size_test, size_validation, bin_count)\u001b[0m\n\u001b[1;32m   1452\u001b[0m                                         \u001b[0;34m,\u001b[0m \u001b[0mtest_size\u001b[0m \u001b[0;34m=\u001b[0m \u001b[0msize_test\u001b[0m\u001b[0;34m\u001b[0m\u001b[0;34m\u001b[0m\u001b[0m\n\u001b[1;32m   1453\u001b[0m                                         \u001b[0;34m,\u001b[0m \u001b[0mstratify\u001b[0m \u001b[0;34m=\u001b[0m \u001b[0mstratify1\u001b[0m\u001b[0;34m\u001b[0m\u001b[0;34m\u001b[0m\u001b[0m\n\u001b[0;32m-> 1454\u001b[0;31m                                         \u001b[0;34m,\u001b[0m \u001b[0mshuffle\u001b[0m \u001b[0;34m=\u001b[0m \u001b[0;32mTrue\u001b[0m\u001b[0;34m\u001b[0m\u001b[0;34m\u001b[0m\u001b[0m\n\u001b[0m\u001b[1;32m   1455\u001b[0m \t\t\t\t)\n\u001b[1;32m   1456\u001b[0m \u001b[0;34m\u001b[0m\u001b[0m\n",
      "\u001b[0;32m~/.pyenv/versions/3.7.6/envs/jupyterlab/lib/python3.7/site-packages/sklearn/model_selection/_split.py\u001b[0m in \u001b[0;36mtrain_test_split\u001b[0;34m(*arrays, **options)\u001b[0m\n\u001b[1;32m   2150\u001b[0m                      random_state=random_state)\n\u001b[1;32m   2151\u001b[0m \u001b[0;34m\u001b[0m\u001b[0m\n\u001b[0;32m-> 2152\u001b[0;31m         \u001b[0mtrain\u001b[0m\u001b[0;34m,\u001b[0m \u001b[0mtest\u001b[0m \u001b[0;34m=\u001b[0m \u001b[0mnext\u001b[0m\u001b[0;34m(\u001b[0m\u001b[0mcv\u001b[0m\u001b[0;34m.\u001b[0m\u001b[0msplit\u001b[0m\u001b[0;34m(\u001b[0m\u001b[0mX\u001b[0m\u001b[0;34m=\u001b[0m\u001b[0marrays\u001b[0m\u001b[0;34m[\u001b[0m\u001b[0;36m0\u001b[0m\u001b[0;34m]\u001b[0m\u001b[0;34m,\u001b[0m \u001b[0my\u001b[0m\u001b[0;34m=\u001b[0m\u001b[0mstratify\u001b[0m\u001b[0;34m)\u001b[0m\u001b[0;34m)\u001b[0m\u001b[0;34m\u001b[0m\u001b[0;34m\u001b[0m\u001b[0m\n\u001b[0m\u001b[1;32m   2153\u001b[0m \u001b[0;34m\u001b[0m\u001b[0m\n\u001b[1;32m   2154\u001b[0m     return list(chain.from_iterable((_safe_indexing(a, train),\n",
      "\u001b[0;32m~/.pyenv/versions/3.7.6/envs/jupyterlab/lib/python3.7/site-packages/sklearn/model_selection/_split.py\u001b[0m in \u001b[0;36msplit\u001b[0;34m(self, X, y, groups)\u001b[0m\n\u001b[1;32m   1744\u001b[0m         \u001b[0mto\u001b[0m \u001b[0man\u001b[0m \u001b[0minteger\u001b[0m\u001b[0;34m.\u001b[0m\u001b[0;34m\u001b[0m\u001b[0;34m\u001b[0m\u001b[0m\n\u001b[1;32m   1745\u001b[0m         \"\"\"\n\u001b[0;32m-> 1746\u001b[0;31m         \u001b[0my\u001b[0m \u001b[0;34m=\u001b[0m \u001b[0mcheck_array\u001b[0m\u001b[0;34m(\u001b[0m\u001b[0my\u001b[0m\u001b[0;34m,\u001b[0m \u001b[0mensure_2d\u001b[0m\u001b[0;34m=\u001b[0m\u001b[0;32mFalse\u001b[0m\u001b[0;34m,\u001b[0m \u001b[0mdtype\u001b[0m\u001b[0;34m=\u001b[0m\u001b[0;32mNone\u001b[0m\u001b[0;34m)\u001b[0m\u001b[0;34m\u001b[0m\u001b[0;34m\u001b[0m\u001b[0m\n\u001b[0m\u001b[1;32m   1747\u001b[0m         \u001b[0;32mreturn\u001b[0m \u001b[0msuper\u001b[0m\u001b[0;34m(\u001b[0m\u001b[0;34m)\u001b[0m\u001b[0;34m.\u001b[0m\u001b[0msplit\u001b[0m\u001b[0;34m(\u001b[0m\u001b[0mX\u001b[0m\u001b[0;34m,\u001b[0m \u001b[0my\u001b[0m\u001b[0;34m,\u001b[0m \u001b[0mgroups\u001b[0m\u001b[0;34m)\u001b[0m\u001b[0;34m\u001b[0m\u001b[0;34m\u001b[0m\u001b[0m\n\u001b[1;32m   1748\u001b[0m \u001b[0;34m\u001b[0m\u001b[0m\n",
      "\u001b[0;32m~/.pyenv/versions/3.7.6/envs/jupyterlab/lib/python3.7/site-packages/sklearn/utils/validation.py\u001b[0m in \u001b[0;36minner_f\u001b[0;34m(*args, **kwargs)\u001b[0m\n\u001b[1;32m     70\u001b[0m                           FutureWarning)\n\u001b[1;32m     71\u001b[0m         \u001b[0mkwargs\u001b[0m\u001b[0;34m.\u001b[0m\u001b[0mupdate\u001b[0m\u001b[0;34m(\u001b[0m\u001b[0;34m{\u001b[0m\u001b[0mk\u001b[0m\u001b[0;34m:\u001b[0m \u001b[0marg\u001b[0m \u001b[0;32mfor\u001b[0m \u001b[0mk\u001b[0m\u001b[0;34m,\u001b[0m \u001b[0marg\u001b[0m \u001b[0;32min\u001b[0m \u001b[0mzip\u001b[0m\u001b[0;34m(\u001b[0m\u001b[0msig\u001b[0m\u001b[0;34m.\u001b[0m\u001b[0mparameters\u001b[0m\u001b[0;34m,\u001b[0m \u001b[0margs\u001b[0m\u001b[0;34m)\u001b[0m\u001b[0;34m}\u001b[0m\u001b[0;34m)\u001b[0m\u001b[0;34m\u001b[0m\u001b[0;34m\u001b[0m\u001b[0m\n\u001b[0;32m---> 72\u001b[0;31m         \u001b[0;32mreturn\u001b[0m \u001b[0mf\u001b[0m\u001b[0;34m(\u001b[0m\u001b[0;34m**\u001b[0m\u001b[0mkwargs\u001b[0m\u001b[0;34m)\u001b[0m\u001b[0;34m\u001b[0m\u001b[0;34m\u001b[0m\u001b[0m\n\u001b[0m\u001b[1;32m     73\u001b[0m     \u001b[0;32mreturn\u001b[0m \u001b[0minner_f\u001b[0m\u001b[0;34m\u001b[0m\u001b[0;34m\u001b[0m\u001b[0m\n\u001b[1;32m     74\u001b[0m \u001b[0;34m\u001b[0m\u001b[0m\n",
      "\u001b[0;32m~/.pyenv/versions/3.7.6/envs/jupyterlab/lib/python3.7/site-packages/sklearn/utils/validation.py\u001b[0m in \u001b[0;36mcheck_array\u001b[0;34m(array, accept_sparse, accept_large_sparse, dtype, order, copy, force_all_finite, ensure_2d, allow_nd, ensure_min_samples, ensure_min_features, estimator)\u001b[0m\n\u001b[1;32m    643\u001b[0m         \u001b[0;32mif\u001b[0m \u001b[0mforce_all_finite\u001b[0m\u001b[0;34m:\u001b[0m\u001b[0;34m\u001b[0m\u001b[0;34m\u001b[0m\u001b[0m\n\u001b[1;32m    644\u001b[0m             _assert_all_finite(array,\n\u001b[0;32m--> 645\u001b[0;31m                                allow_nan=force_all_finite == 'allow-nan')\n\u001b[0m\u001b[1;32m    646\u001b[0m \u001b[0;34m\u001b[0m\u001b[0m\n\u001b[1;32m    647\u001b[0m     \u001b[0;32mif\u001b[0m \u001b[0mensure_min_samples\u001b[0m \u001b[0;34m>\u001b[0m \u001b[0;36m0\u001b[0m\u001b[0;34m:\u001b[0m\u001b[0;34m\u001b[0m\u001b[0;34m\u001b[0m\u001b[0m\n",
      "\u001b[0;32m~/.pyenv/versions/3.7.6/envs/jupyterlab/lib/python3.7/site-packages/sklearn/utils/validation.py\u001b[0m in \u001b[0;36m_assert_all_finite\u001b[0;34m(X, allow_nan, msg_dtype)\u001b[0m\n\u001b[1;32m     97\u001b[0m                     \u001b[0mmsg_err\u001b[0m\u001b[0;34m.\u001b[0m\u001b[0mformat\u001b[0m\u001b[0;34m\u001b[0m\u001b[0;34m\u001b[0m\u001b[0m\n\u001b[1;32m     98\u001b[0m                     (type_err,\n\u001b[0;32m---> 99\u001b[0;31m                      msg_dtype if msg_dtype is not None else X.dtype)\n\u001b[0m\u001b[1;32m    100\u001b[0m             )\n\u001b[1;32m    101\u001b[0m     \u001b[0;31m# for object dtype data, we only check for NaNs (GH-13254)\u001b[0m\u001b[0;34m\u001b[0m\u001b[0;34m\u001b[0m\u001b[0;34m\u001b[0m\u001b[0m\n",
      "\u001b[0;31mValueError\u001b[0m: Input contains NaN, infinity or a value too large for dtype('float64')."
     ]
    }
   ],
   "source": [
    "splitset = featureset.make_splitset(\n",
    "    label_id = label.id\n",
    "    , size_test = 0.25\n",
    "    , bin_count = 2\n",
    ")"
   ]
  },
  {
   "cell_type": "code",
   "execution_count": 67,
   "metadata": {},
   "outputs": [],
   "source": [
    "planets_clean = planets_clean.replace([np.inf, -np.inf], np.nan)"
   ]
  },
  {
   "cell_type": "code",
   "execution_count": 68,
   "metadata": {},
   "outputs": [],
   "source": [
    "planets_clean = planets_clean.dropna(axis=0, how='any')"
   ]
  },
  {
   "cell_type": "code",
   "execution_count": 70,
   "metadata": {},
   "outputs": [
    {
     "data": {
      "text/html": [
       "<div>\n",
       "<style scoped>\n",
       "    .dataframe tbody tr th:only-of-type {\n",
       "        vertical-align: middle;\n",
       "    }\n",
       "\n",
       "    .dataframe tbody tr th {\n",
       "        vertical-align: top;\n",
       "    }\n",
       "\n",
       "    .dataframe thead th {\n",
       "        text-align: right;\n",
       "    }\n",
       "</style>\n",
       "<table border=\"1\" class=\"dataframe\">\n",
       "  <thead>\n",
       "    <tr style=\"text-align: right;\">\n",
       "      <th></th>\n",
       "      <th>koi_score</th>\n",
       "      <th>koi_fpflag_nt</th>\n",
       "      <th>koi_fpflag_ss</th>\n",
       "      <th>koi_fpflag_co</th>\n",
       "      <th>koi_fpflag_ec</th>\n",
       "      <th>koi_impact</th>\n",
       "      <th>koi_impact_avg_err</th>\n",
       "      <th>koi_depth</th>\n",
       "      <th>koi_prad</th>\n",
       "      <th>koi_teq</th>\n",
       "      <th>koi_insol</th>\n",
       "      <th>koi_insol_avg_err</th>\n",
       "      <th>koi_model_snr</th>\n",
       "      <th>koi_steff</th>\n",
       "      <th>koi_steff_avg_err</th>\n",
       "      <th>koi_slogg</th>\n",
       "      <th>koi_srad</th>\n",
       "      <th>ra</th>\n",
       "      <th>dec</th>\n",
       "      <th>koi_kepmag</th>\n",
       "    </tr>\n",
       "  </thead>\n",
       "  <tbody>\n",
       "    <tr>\n",
       "      <th>0</th>\n",
       "      <td>1.000</td>\n",
       "      <td>0</td>\n",
       "      <td>0</td>\n",
       "      <td>0</td>\n",
       "      <td>0</td>\n",
       "      <td>0.146</td>\n",
       "      <td>0.0860</td>\n",
       "      <td>616.0</td>\n",
       "      <td>2.26</td>\n",
       "      <td>793.0</td>\n",
       "      <td>93.59</td>\n",
       "      <td>6.400</td>\n",
       "      <td>35.8</td>\n",
       "      <td>5455.0</td>\n",
       "      <td>0.0</td>\n",
       "      <td>4.467</td>\n",
       "      <td>0.927</td>\n",
       "      <td>291.93423</td>\n",
       "      <td>48.14165</td>\n",
       "      <td>15.347</td>\n",
       "    </tr>\n",
       "    <tr>\n",
       "      <th>1</th>\n",
       "      <td>0.969</td>\n",
       "      <td>0</td>\n",
       "      <td>0</td>\n",
       "      <td>0</td>\n",
       "      <td>0</td>\n",
       "      <td>0.586</td>\n",
       "      <td>-0.1920</td>\n",
       "      <td>875.0</td>\n",
       "      <td>2.83</td>\n",
       "      <td>443.0</td>\n",
       "      <td>9.11</td>\n",
       "      <td>0.625</td>\n",
       "      <td>25.8</td>\n",
       "      <td>5455.0</td>\n",
       "      <td>0.0</td>\n",
       "      <td>4.467</td>\n",
       "      <td>0.927</td>\n",
       "      <td>291.93423</td>\n",
       "      <td>48.14165</td>\n",
       "      <td>15.347</td>\n",
       "    </tr>\n",
       "    <tr>\n",
       "      <th>2</th>\n",
       "      <td>0.000</td>\n",
       "      <td>0</td>\n",
       "      <td>1</td>\n",
       "      <td>0</td>\n",
       "      <td>0</td>\n",
       "      <td>0.969</td>\n",
       "      <td>2.5245</td>\n",
       "      <td>10800.0</td>\n",
       "      <td>14.60</td>\n",
       "      <td>638.0</td>\n",
       "      <td>39.30</td>\n",
       "      <td>10.275</td>\n",
       "      <td>76.3</td>\n",
       "      <td>5853.0</td>\n",
       "      <td>-9.0</td>\n",
       "      <td>4.544</td>\n",
       "      <td>0.868</td>\n",
       "      <td>297.00482</td>\n",
       "      <td>48.13413</td>\n",
       "      <td>15.436</td>\n",
       "    </tr>\n",
       "    <tr>\n",
       "      <th>3</th>\n",
       "      <td>0.000</td>\n",
       "      <td>0</td>\n",
       "      <td>1</td>\n",
       "      <td>0</td>\n",
       "      <td>0</td>\n",
       "      <td>1.276</td>\n",
       "      <td>0.0115</td>\n",
       "      <td>8080.0</td>\n",
       "      <td>33.46</td>\n",
       "      <td>1395.0</td>\n",
       "      <td>891.96</td>\n",
       "      <td>219.300</td>\n",
       "      <td>505.6</td>\n",
       "      <td>5805.0</td>\n",
       "      <td>-8.5</td>\n",
       "      <td>4.564</td>\n",
       "      <td>0.791</td>\n",
       "      <td>285.53461</td>\n",
       "      <td>48.28521</td>\n",
       "      <td>15.597</td>\n",
       "    </tr>\n",
       "    <tr>\n",
       "      <th>4</th>\n",
       "      <td>1.000</td>\n",
       "      <td>0</td>\n",
       "      <td>0</td>\n",
       "      <td>0</td>\n",
       "      <td>0</td>\n",
       "      <td>0.701</td>\n",
       "      <td>-0.1215</td>\n",
       "      <td>603.0</td>\n",
       "      <td>2.75</td>\n",
       "      <td>1406.0</td>\n",
       "      <td>926.16</td>\n",
       "      <td>280.045</td>\n",
       "      <td>40.9</td>\n",
       "      <td>6031.0</td>\n",
       "      <td>-21.0</td>\n",
       "      <td>4.438</td>\n",
       "      <td>1.046</td>\n",
       "      <td>288.75488</td>\n",
       "      <td>48.22620</td>\n",
       "      <td>15.509</td>\n",
       "    </tr>\n",
       "    <tr>\n",
       "      <th>...</th>\n",
       "      <td>...</td>\n",
       "      <td>...</td>\n",
       "      <td>...</td>\n",
       "      <td>...</td>\n",
       "      <td>...</td>\n",
       "      <td>...</td>\n",
       "      <td>...</td>\n",
       "      <td>...</td>\n",
       "      <td>...</td>\n",
       "      <td>...</td>\n",
       "      <td>...</td>\n",
       "      <td>...</td>\n",
       "      <td>...</td>\n",
       "      <td>...</td>\n",
       "      <td>...</td>\n",
       "      <td>...</td>\n",
       "      <td>...</td>\n",
       "      <td>...</td>\n",
       "      <td>...</td>\n",
       "      <td>...</td>\n",
       "    </tr>\n",
       "    <tr>\n",
       "      <th>324</th>\n",
       "      <td>0.000</td>\n",
       "      <td>0</td>\n",
       "      <td>1</td>\n",
       "      <td>0</td>\n",
       "      <td>0</td>\n",
       "      <td>0.994</td>\n",
       "      <td>0.1180</td>\n",
       "      <td>4510.0</td>\n",
       "      <td>13.66</td>\n",
       "      <td>804.0</td>\n",
       "      <td>98.77</td>\n",
       "      <td>26.700</td>\n",
       "      <td>322.3</td>\n",
       "      <td>6224.0</td>\n",
       "      <td>-22.0</td>\n",
       "      <td>4.330</td>\n",
       "      <td>1.132</td>\n",
       "      <td>287.61633</td>\n",
       "      <td>39.12724</td>\n",
       "      <td>12.336</td>\n",
       "    </tr>\n",
       "    <tr>\n",
       "      <th>325</th>\n",
       "      <td>0.000</td>\n",
       "      <td>0</td>\n",
       "      <td>1</td>\n",
       "      <td>0</td>\n",
       "      <td>0</td>\n",
       "      <td>0.060</td>\n",
       "      <td>0.1520</td>\n",
       "      <td>674.0</td>\n",
       "      <td>34.39</td>\n",
       "      <td>3145.0</td>\n",
       "      <td>23135.72</td>\n",
       "      <td>-2713.650</td>\n",
       "      <td>37.1</td>\n",
       "      <td>4813.0</td>\n",
       "      <td>-35.5</td>\n",
       "      <td>2.472</td>\n",
       "      <td>13.652</td>\n",
       "      <td>289.09323</td>\n",
       "      <td>49.42448</td>\n",
       "      <td>6.974</td>\n",
       "    </tr>\n",
       "    <tr>\n",
       "      <th>326</th>\n",
       "      <td>1.000</td>\n",
       "      <td>0</td>\n",
       "      <td>0</td>\n",
       "      <td>0</td>\n",
       "      <td>0</td>\n",
       "      <td>1.263</td>\n",
       "      <td>0.0000</td>\n",
       "      <td>1500.0</td>\n",
       "      <td>133.56</td>\n",
       "      <td>5862.0</td>\n",
       "      <td>277887.70</td>\n",
       "      <td>-32956.815</td>\n",
       "      <td>179.6</td>\n",
       "      <td>8523.0</td>\n",
       "      <td>-29.5</td>\n",
       "      <td>3.559</td>\n",
       "      <td>4.051</td>\n",
       "      <td>286.01920</td>\n",
       "      <td>48.86674</td>\n",
       "      <td>7.748</td>\n",
       "    </tr>\n",
       "    <tr>\n",
       "      <th>327</th>\n",
       "      <td>0.000</td>\n",
       "      <td>0</td>\n",
       "      <td>1</td>\n",
       "      <td>1</td>\n",
       "      <td>0</td>\n",
       "      <td>1.226</td>\n",
       "      <td>0.1580</td>\n",
       "      <td>748.0</td>\n",
       "      <td>23.61</td>\n",
       "      <td>2073.0</td>\n",
       "      <td>4391.51</td>\n",
       "      <td>832.005</td>\n",
       "      <td>116.1</td>\n",
       "      <td>5582.0</td>\n",
       "      <td>8.5</td>\n",
       "      <td>4.497</td>\n",
       "      <td>0.846</td>\n",
       "      <td>295.09866</td>\n",
       "      <td>41.00704</td>\n",
       "      <td>15.058</td>\n",
       "    </tr>\n",
       "    <tr>\n",
       "      <th>328</th>\n",
       "      <td>0.000</td>\n",
       "      <td>0</td>\n",
       "      <td>0</td>\n",
       "      <td>1</td>\n",
       "      <td>1</td>\n",
       "      <td>1.258</td>\n",
       "      <td>0.0780</td>\n",
       "      <td>598.0</td>\n",
       "      <td>27.85</td>\n",
       "      <td>1610.0</td>\n",
       "      <td>1595.19</td>\n",
       "      <td>394.925</td>\n",
       "      <td>140.6</td>\n",
       "      <td>5758.0</td>\n",
       "      <td>0.0</td>\n",
       "      <td>4.475</td>\n",
       "      <td>0.902</td>\n",
       "      <td>298.13589</td>\n",
       "      <td>41.33206</td>\n",
       "      <td>13.555</td>\n",
       "    </tr>\n",
       "  </tbody>\n",
       "</table>\n",
       "<p>323 rows × 20 columns</p>\n",
       "</div>"
      ],
      "text/plain": [
       "     koi_score  koi_fpflag_nt  koi_fpflag_ss  koi_fpflag_co  koi_fpflag_ec  \\\n",
       "0        1.000              0              0              0              0   \n",
       "1        0.969              0              0              0              0   \n",
       "2        0.000              0              1              0              0   \n",
       "3        0.000              0              1              0              0   \n",
       "4        1.000              0              0              0              0   \n",
       "..         ...            ...            ...            ...            ...   \n",
       "324      0.000              0              1              0              0   \n",
       "325      0.000              0              1              0              0   \n",
       "326      1.000              0              0              0              0   \n",
       "327      0.000              0              1              1              0   \n",
       "328      0.000              0              0              1              1   \n",
       "\n",
       "     koi_impact  koi_impact_avg_err  koi_depth  koi_prad  koi_teq  koi_insol  \\\n",
       "0         0.146              0.0860      616.0      2.26    793.0      93.59   \n",
       "1         0.586             -0.1920      875.0      2.83    443.0       9.11   \n",
       "2         0.969              2.5245    10800.0     14.60    638.0      39.30   \n",
       "3         1.276              0.0115     8080.0     33.46   1395.0     891.96   \n",
       "4         0.701             -0.1215      603.0      2.75   1406.0     926.16   \n",
       "..          ...                 ...        ...       ...      ...        ...   \n",
       "324       0.994              0.1180     4510.0     13.66    804.0      98.77   \n",
       "325       0.060              0.1520      674.0     34.39   3145.0   23135.72   \n",
       "326       1.263              0.0000     1500.0    133.56   5862.0  277887.70   \n",
       "327       1.226              0.1580      748.0     23.61   2073.0    4391.51   \n",
       "328       1.258              0.0780      598.0     27.85   1610.0    1595.19   \n",
       "\n",
       "     koi_insol_avg_err  koi_model_snr  koi_steff  koi_steff_avg_err  \\\n",
       "0                6.400           35.8     5455.0                0.0   \n",
       "1                0.625           25.8     5455.0                0.0   \n",
       "2               10.275           76.3     5853.0               -9.0   \n",
       "3              219.300          505.6     5805.0               -8.5   \n",
       "4              280.045           40.9     6031.0              -21.0   \n",
       "..                 ...            ...        ...                ...   \n",
       "324             26.700          322.3     6224.0              -22.0   \n",
       "325          -2713.650           37.1     4813.0              -35.5   \n",
       "326         -32956.815          179.6     8523.0              -29.5   \n",
       "327            832.005          116.1     5582.0                8.5   \n",
       "328            394.925          140.6     5758.0                0.0   \n",
       "\n",
       "     koi_slogg  koi_srad         ra       dec  koi_kepmag  \n",
       "0        4.467     0.927  291.93423  48.14165      15.347  \n",
       "1        4.467     0.927  291.93423  48.14165      15.347  \n",
       "2        4.544     0.868  297.00482  48.13413      15.436  \n",
       "3        4.564     0.791  285.53461  48.28521      15.597  \n",
       "4        4.438     1.046  288.75488  48.22620      15.509  \n",
       "..         ...       ...        ...       ...         ...  \n",
       "324      4.330     1.132  287.61633  39.12724      12.336  \n",
       "325      2.472    13.652  289.09323  49.42448       6.974  \n",
       "326      3.559     4.051  286.01920  48.86674       7.748  \n",
       "327      4.497     0.846  295.09866  41.00704      15.058  \n",
       "328      4.475     0.902  298.13589  41.33206      13.555  \n",
       "\n",
       "[323 rows x 20 columns]"
      ]
     },
     "execution_count": 70,
     "metadata": {},
     "output_type": "execute_result"
    }
   ],
   "source": [
    "planets_clean.head(323)"
   ]
  },
  {
   "cell_type": "code",
   "execution_count": 71,
   "metadata": {},
   "outputs": [],
   "source": [
    "planets_clean = planets_clean.reset_index()"
   ]
  },
  {
   "cell_type": "code",
   "execution_count": 72,
   "metadata": {},
   "outputs": [],
   "source": [
    "planets_clean.to_parquet(\"/Users/Layne/Desktop/aiqc/aiqc/data/kepler_exoplanets.parquet\")"
   ]
  },
  {
   "cell_type": "code",
   "execution_count": 3,
   "metadata": {},
   "outputs": [],
   "source": [
    "dataset = aiqc.Dataset.Tabular.from_path(\"/Users/Layne/Desktop/aiqc/aiqc/data/kepler_exoplanets.parquet\", source_file_format=\"parquet\")"
   ]
  },
  {
   "cell_type": "code",
   "execution_count": 4,
   "metadata": {},
   "outputs": [],
   "source": [
    "label = dataset.make_label(columns=['koi_score'])"
   ]
  },
  {
   "cell_type": "code",
   "execution_count": 5,
   "metadata": {},
   "outputs": [],
   "source": [
    "featureset = dataset.make_featureset(exclude_columns=['koi_score'])"
   ]
  },
  {
   "cell_type": "code",
   "execution_count": 6,
   "metadata": {},
   "outputs": [],
   "source": [
    "splitset = featureset.make_splitset(\n",
    "    label_id = label.id\n",
    "    , size_test = 0.25\n",
    "    , bin_count = 3\n",
    ")"
   ]
  },
  {
   "cell_type": "code",
   "execution_count": 10,
   "metadata": {},
   "outputs": [
    {
     "name": "stdout",
     "output_type": "stream",
     "text": [
      "\n",
      "Warning - The number of samples <242> in your training Split \n",
      "is not evenly divisible by the `fold_count` <3> you specified.\n",
      "This can result in misleading performance metrics for the last Fold.\n",
      "\n"
     ]
    }
   ],
   "source": [
    "foldset = splitset.make_foldset(\n",
    "    fold_count = 3\n",
    ")"
   ]
  },
  {
   "cell_type": "code",
   "execution_count": 11,
   "metadata": {},
   "outputs": [
    {
     "data": {
      "text/plain": [
       "[<Fold: 24>, <Fold: 25>, <Fold: 26>]"
      ]
     },
     "execution_count": 11,
     "metadata": {},
     "output_type": "execute_result"
    }
   ],
   "source": [
    "list(foldset.folds)"
   ]
  },
  {
   "cell_type": "code",
   "execution_count": null,
   "metadata": {},
   "outputs": [],
   "source": [
    "batch = splitset.make_batch(\n",
    "    \n",
    "    foldset_id = foldset.id\n",
    ")"
   ]
  },
  {
   "cell_type": "markdown",
   "metadata": {},
   "source": [
    "---"
   ]
  },
  {
   "cell_type": "markdown",
   "metadata": {},
   "source": [
    "---"
   ]
  },
  {
   "cell_type": "markdown",
   "metadata": {},
   "source": [
    "---"
   ]
  },
  {
   "cell_type": "markdown",
   "metadata": {},
   "source": [
    "---"
   ]
  },
  {
   "cell_type": "markdown",
   "metadata": {},
   "source": [
    "---"
   ]
  },
  {
   "cell_type": "code",
   "execution_count": 13,
   "metadata": {},
   "outputs": [],
   "source": [
    "import pandas as pd"
   ]
  },
  {
   "cell_type": "code",
   "execution_count": 14,
   "metadata": {},
   "outputs": [],
   "source": [
    "exos = pd.read_csv(\"/Users/Layne/Downloads/exoplanet_catalogue.csv\", sep=',')"
   ]
  },
  {
   "cell_type": "code",
   "execution_count": 36,
   "metadata": {},
   "outputs": [],
   "source": [
    "exos = exos.drop(columns=['PeriastronDeg'])"
   ]
  },
  {
   "cell_type": "code",
   "execution_count": 53,
   "metadata": {},
   "outputs": [
    {
     "data": {
      "text/plain": [
       "<AxesSubplot:ylabel='Frequency'>"
      ]
     },
     "execution_count": 53,
     "metadata": {},
     "output_type": "execute_result"
    },
    {
     "data": {
      "image/png": "[encoded data removed]",
      "text/plain": [
       "<Figure size 432x288 with 1 Axes>"
      ]
     },
     "metadata": {
      "needs_background": "light"
     },
     "output_type": "display_data"
    }
   ],
   "source": [
    "exos['PlanetaryMassJpt'].plot.hist()"
   ]
  },
  {
   "cell_type": "code",
   "execution_count": 54,
   "metadata": {},
   "outputs": [],
   "source": [
    "exos = exos.drop(columns=['RadiusJpt']).dropna(axis=0, how='any')"
   ]
  },
  {
   "cell_type": "code",
   "execution_count": 55,
   "metadata": {},
   "outputs": [
    {
     "data": {
      "text/html": [
       "<div>\n",
       "<style scoped>\n",
       "    .dataframe tbody tr th:only-of-type {\n",
       "        vertical-align: middle;\n",
       "    }\n",
       "\n",
       "    .dataframe tbody tr th {\n",
       "        vertical-align: top;\n",
       "    }\n",
       "\n",
       "    .dataframe thead th {\n",
       "        text-align: right;\n",
       "    }\n",
       "</style>\n",
       "<table border=\"1\" class=\"dataframe\">\n",
       "  <thead>\n",
       "    <tr style=\"text-align: right;\">\n",
       "      <th></th>\n",
       "      <th>TypeFlag</th>\n",
       "      <th>PlanetaryMassJpt</th>\n",
       "      <th>PeriodDays</th>\n",
       "      <th>SurfaceTempK</th>\n",
       "      <th>DistFromSunParsec</th>\n",
       "      <th>HostStarMassSlrMass</th>\n",
       "      <th>HostStarRadiusSlrRad</th>\n",
       "      <th>HostStarMetallicity</th>\n",
       "      <th>HostStarTempK</th>\n",
       "    </tr>\n",
       "  </thead>\n",
       "  <tbody>\n",
       "    <tr>\n",
       "      <th>5</th>\n",
       "      <td>0</td>\n",
       "      <td>0.2500</td>\n",
       "      <td>19.224180</td>\n",
       "      <td>707.2</td>\n",
       "      <td>650.00</td>\n",
       "      <td>1.070</td>\n",
       "      <td>1.0200</td>\n",
       "      <td>0.12</td>\n",
       "      <td>5777.0</td>\n",
       "    </tr>\n",
       "    <tr>\n",
       "      <th>6</th>\n",
       "      <td>0</td>\n",
       "      <td>0.1700</td>\n",
       "      <td>39.031060</td>\n",
       "      <td>557.9</td>\n",
       "      <td>650.00</td>\n",
       "      <td>1.070</td>\n",
       "      <td>1.0200</td>\n",
       "      <td>0.12</td>\n",
       "      <td>5777.0</td>\n",
       "    </tr>\n",
       "    <tr>\n",
       "      <th>7</th>\n",
       "      <td>0</td>\n",
       "      <td>0.0220</td>\n",
       "      <td>1.592851</td>\n",
       "      <td>1601.5</td>\n",
       "      <td>650.00</td>\n",
       "      <td>1.070</td>\n",
       "      <td>1.0200</td>\n",
       "      <td>0.12</td>\n",
       "      <td>5777.0</td>\n",
       "    </tr>\n",
       "    <tr>\n",
       "      <th>15</th>\n",
       "      <td>0</td>\n",
       "      <td>1.2400</td>\n",
       "      <td>2.705782</td>\n",
       "      <td>2190.0</td>\n",
       "      <td>200.00</td>\n",
       "      <td>1.630</td>\n",
       "      <td>2.1800</td>\n",
       "      <td>0.12</td>\n",
       "      <td>6490.0</td>\n",
       "    </tr>\n",
       "    <tr>\n",
       "      <th>16</th>\n",
       "      <td>0</td>\n",
       "      <td>0.0195</td>\n",
       "      <td>1.580404</td>\n",
       "      <td>604.0</td>\n",
       "      <td>14.55</td>\n",
       "      <td>0.176</td>\n",
       "      <td>0.2213</td>\n",
       "      <td>0.10</td>\n",
       "      <td>3250.0</td>\n",
       "    </tr>\n",
       "    <tr>\n",
       "      <th>...</th>\n",
       "      <td>...</td>\n",
       "      <td>...</td>\n",
       "      <td>...</td>\n",
       "      <td>...</td>\n",
       "      <td>...</td>\n",
       "      <td>...</td>\n",
       "      <td>...</td>\n",
       "      <td>...</td>\n",
       "      <td>...</td>\n",
       "    </tr>\n",
       "    <tr>\n",
       "      <th>3557</th>\n",
       "      <td>0</td>\n",
       "      <td>0.2200</td>\n",
       "      <td>6.212290</td>\n",
       "      <td>783.1</td>\n",
       "      <td>380.00</td>\n",
       "      <td>0.880</td>\n",
       "      <td>0.7700</td>\n",
       "      <td>0.30</td>\n",
       "      <td>5080.0</td>\n",
       "    </tr>\n",
       "    <tr>\n",
       "      <th>3574</th>\n",
       "      <td>0</td>\n",
       "      <td>4.0630</td>\n",
       "      <td>4.124461</td>\n",
       "      <td>1161.5</td>\n",
       "      <td>254.00</td>\n",
       "      <td>0.947</td>\n",
       "      <td>1.1050</td>\n",
       "      <td>0.01</td>\n",
       "      <td>5588.0</td>\n",
       "    </tr>\n",
       "    <tr>\n",
       "      <th>3577</th>\n",
       "      <td>0</td>\n",
       "      <td>3.3280</td>\n",
       "      <td>5.452700</td>\n",
       "      <td>1335.3</td>\n",
       "      <td>257.00</td>\n",
       "      <td>1.392</td>\n",
       "      <td>1.5350</td>\n",
       "      <td>0.22</td>\n",
       "      <td>6442.0</td>\n",
       "    </tr>\n",
       "    <tr>\n",
       "      <th>3581</th>\n",
       "      <td>0</td>\n",
       "      <td>1.3600</td>\n",
       "      <td>395.400000</td>\n",
       "      <td>256.8</td>\n",
       "      <td>68.50</td>\n",
       "      <td>1.000</td>\n",
       "      <td>1.2200</td>\n",
       "      <td>0.14</td>\n",
       "      <td>5407.0</td>\n",
       "    </tr>\n",
       "    <tr>\n",
       "      <th>3582</th>\n",
       "      <td>0</td>\n",
       "      <td>1.0180</td>\n",
       "      <td>1605.800000</td>\n",
       "      <td>160.2</td>\n",
       "      <td>68.50</td>\n",
       "      <td>1.000</td>\n",
       "      <td>1.2200</td>\n",
       "      <td>0.14</td>\n",
       "      <td>5407.0</td>\n",
       "    </tr>\n",
       "  </tbody>\n",
       "</table>\n",
       "<p>433 rows × 9 columns</p>\n",
       "</div>"
      ],
      "text/plain": [
       "      TypeFlag  PlanetaryMassJpt   PeriodDays  SurfaceTempK  \\\n",
       "5            0            0.2500    19.224180         707.2   \n",
       "6            0            0.1700    39.031060         557.9   \n",
       "7            0            0.0220     1.592851        1601.5   \n",
       "15           0            1.2400     2.705782        2190.0   \n",
       "16           0            0.0195     1.580404         604.0   \n",
       "...        ...               ...          ...           ...   \n",
       "3557         0            0.2200     6.212290         783.1   \n",
       "3574         0            4.0630     4.124461        1161.5   \n",
       "3577         0            3.3280     5.452700        1335.3   \n",
       "3581         0            1.3600   395.400000         256.8   \n",
       "3582         0            1.0180  1605.800000         160.2   \n",
       "\n",
       "      DistFromSunParsec  HostStarMassSlrMass  HostStarRadiusSlrRad  \\\n",
       "5                650.00                1.070                1.0200   \n",
       "6                650.00                1.070                1.0200   \n",
       "7                650.00                1.070                1.0200   \n",
       "15               200.00                1.630                2.1800   \n",
       "16                14.55                0.176                0.2213   \n",
       "...                 ...                  ...                   ...   \n",
       "3557             380.00                0.880                0.7700   \n",
       "3574             254.00                0.947                1.1050   \n",
       "3577             257.00                1.392                1.5350   \n",
       "3581              68.50                1.000                1.2200   \n",
       "3582              68.50                1.000                1.2200   \n",
       "\n",
       "      HostStarMetallicity  HostStarTempK  \n",
       "5                    0.12         5777.0  \n",
       "6                    0.12         5777.0  \n",
       "7                    0.12         5777.0  \n",
       "15                   0.12         6490.0  \n",
       "16                   0.10         3250.0  \n",
       "...                   ...            ...  \n",
       "3557                 0.30         5080.0  \n",
       "3574                 0.01         5588.0  \n",
       "3577                 0.22         6442.0  \n",
       "3581                 0.14         5407.0  \n",
       "3582                 0.14         5407.0  \n",
       "\n",
       "[433 rows x 9 columns]"
      ]
     },
     "execution_count": 55,
     "metadata": {},
     "output_type": "execute_result"
    }
   ],
   "source": [
    "exos"
   ]
  },
  {
   "cell_type": "code",
   "execution_count": 56,
   "metadata": {},
   "outputs": [
    {
     "data": {
      "text/html": [
       "<div>\n",
       "<style scoped>\n",
       "    .dataframe tbody tr th:only-of-type {\n",
       "        vertical-align: middle;\n",
       "    }\n",
       "\n",
       "    .dataframe tbody tr th {\n",
       "        vertical-align: top;\n",
       "    }\n",
       "\n",
       "    .dataframe thead th {\n",
       "        text-align: right;\n",
       "    }\n",
       "</style>\n",
       "<table border=\"1\" class=\"dataframe\">\n",
       "  <thead>\n",
       "    <tr style=\"text-align: right;\">\n",
       "      <th></th>\n",
       "      <th>TypeFlag</th>\n",
       "      <th>PlanetaryMassJpt</th>\n",
       "      <th>PeriodDays</th>\n",
       "      <th>SurfaceTempK</th>\n",
       "      <th>DistFromSunParsec</th>\n",
       "      <th>HostStarMassSlrMass</th>\n",
       "      <th>HostStarRadiusSlrRad</th>\n",
       "      <th>HostStarMetallicity</th>\n",
       "      <th>HostStarTempK</th>\n",
       "    </tr>\n",
       "  </thead>\n",
       "  <tbody>\n",
       "    <tr>\n",
       "      <th>5</th>\n",
       "      <td>0</td>\n",
       "      <td>0.2500</td>\n",
       "      <td>19.224180</td>\n",
       "      <td>707.2</td>\n",
       "      <td>650.00</td>\n",
       "      <td>1.070</td>\n",
       "      <td>1.0200</td>\n",
       "      <td>0.12</td>\n",
       "      <td>5777.0</td>\n",
       "    </tr>\n",
       "    <tr>\n",
       "      <th>6</th>\n",
       "      <td>0</td>\n",
       "      <td>0.1700</td>\n",
       "      <td>39.031060</td>\n",
       "      <td>557.9</td>\n",
       "      <td>650.00</td>\n",
       "      <td>1.070</td>\n",
       "      <td>1.0200</td>\n",
       "      <td>0.12</td>\n",
       "      <td>5777.0</td>\n",
       "    </tr>\n",
       "    <tr>\n",
       "      <th>7</th>\n",
       "      <td>0</td>\n",
       "      <td>0.0220</td>\n",
       "      <td>1.592851</td>\n",
       "      <td>1601.5</td>\n",
       "      <td>650.00</td>\n",
       "      <td>1.070</td>\n",
       "      <td>1.0200</td>\n",
       "      <td>0.12</td>\n",
       "      <td>5777.0</td>\n",
       "    </tr>\n",
       "    <tr>\n",
       "      <th>15</th>\n",
       "      <td>0</td>\n",
       "      <td>1.2400</td>\n",
       "      <td>2.705782</td>\n",
       "      <td>2190.0</td>\n",
       "      <td>200.00</td>\n",
       "      <td>1.630</td>\n",
       "      <td>2.1800</td>\n",
       "      <td>0.12</td>\n",
       "      <td>6490.0</td>\n",
       "    </tr>\n",
       "    <tr>\n",
       "      <th>16</th>\n",
       "      <td>0</td>\n",
       "      <td>0.0195</td>\n",
       "      <td>1.580404</td>\n",
       "      <td>604.0</td>\n",
       "      <td>14.55</td>\n",
       "      <td>0.176</td>\n",
       "      <td>0.2213</td>\n",
       "      <td>0.10</td>\n",
       "      <td>3250.0</td>\n",
       "    </tr>\n",
       "    <tr>\n",
       "      <th>...</th>\n",
       "      <td>...</td>\n",
       "      <td>...</td>\n",
       "      <td>...</td>\n",
       "      <td>...</td>\n",
       "      <td>...</td>\n",
       "      <td>...</td>\n",
       "      <td>...</td>\n",
       "      <td>...</td>\n",
       "      <td>...</td>\n",
       "    </tr>\n",
       "    <tr>\n",
       "      <th>3557</th>\n",
       "      <td>0</td>\n",
       "      <td>0.2200</td>\n",
       "      <td>6.212290</td>\n",
       "      <td>783.1</td>\n",
       "      <td>380.00</td>\n",
       "      <td>0.880</td>\n",
       "      <td>0.7700</td>\n",
       "      <td>0.30</td>\n",
       "      <td>5080.0</td>\n",
       "    </tr>\n",
       "    <tr>\n",
       "      <th>3574</th>\n",
       "      <td>0</td>\n",
       "      <td>4.0630</td>\n",
       "      <td>4.124461</td>\n",
       "      <td>1161.5</td>\n",
       "      <td>254.00</td>\n",
       "      <td>0.947</td>\n",
       "      <td>1.1050</td>\n",
       "      <td>0.01</td>\n",
       "      <td>5588.0</td>\n",
       "    </tr>\n",
       "    <tr>\n",
       "      <th>3577</th>\n",
       "      <td>0</td>\n",
       "      <td>3.3280</td>\n",
       "      <td>5.452700</td>\n",
       "      <td>1335.3</td>\n",
       "      <td>257.00</td>\n",
       "      <td>1.392</td>\n",
       "      <td>1.5350</td>\n",
       "      <td>0.22</td>\n",
       "      <td>6442.0</td>\n",
       "    </tr>\n",
       "    <tr>\n",
       "      <th>3581</th>\n",
       "      <td>0</td>\n",
       "      <td>1.3600</td>\n",
       "      <td>395.400000</td>\n",
       "      <td>256.8</td>\n",
       "      <td>68.50</td>\n",
       "      <td>1.000</td>\n",
       "      <td>1.2200</td>\n",
       "      <td>0.14</td>\n",
       "      <td>5407.0</td>\n",
       "    </tr>\n",
       "    <tr>\n",
       "      <th>3582</th>\n",
       "      <td>0</td>\n",
       "      <td>1.0180</td>\n",
       "      <td>1605.800000</td>\n",
       "      <td>160.2</td>\n",
       "      <td>68.50</td>\n",
       "      <td>1.000</td>\n",
       "      <td>1.2200</td>\n",
       "      <td>0.14</td>\n",
       "      <td>5407.0</td>\n",
       "    </tr>\n",
       "  </tbody>\n",
       "</table>\n",
       "<p>433 rows × 9 columns</p>\n",
       "</div>"
      ],
      "text/plain": [
       "      TypeFlag  PlanetaryMassJpt   PeriodDays  SurfaceTempK  \\\n",
       "5            0            0.2500    19.224180         707.2   \n",
       "6            0            0.1700    39.031060         557.9   \n",
       "7            0            0.0220     1.592851        1601.5   \n",
       "15           0            1.2400     2.705782        2190.0   \n",
       "16           0            0.0195     1.580404         604.0   \n",
       "...        ...               ...          ...           ...   \n",
       "3557         0            0.2200     6.212290         783.1   \n",
       "3574         0            4.0630     4.124461        1161.5   \n",
       "3577         0            3.3280     5.452700        1335.3   \n",
       "3581         0            1.3600   395.400000         256.8   \n",
       "3582         0            1.0180  1605.800000         160.2   \n",
       "\n",
       "      DistFromSunParsec  HostStarMassSlrMass  HostStarRadiusSlrRad  \\\n",
       "5                650.00                1.070                1.0200   \n",
       "6                650.00                1.070                1.0200   \n",
       "7                650.00                1.070                1.0200   \n",
       "15               200.00                1.630                2.1800   \n",
       "16                14.55                0.176                0.2213   \n",
       "...                 ...                  ...                   ...   \n",
       "3557             380.00                0.880                0.7700   \n",
       "3574             254.00                0.947                1.1050   \n",
       "3577             257.00                1.392                1.5350   \n",
       "3581              68.50                1.000                1.2200   \n",
       "3582              68.50                1.000                1.2200   \n",
       "\n",
       "      HostStarMetallicity  HostStarTempK  \n",
       "5                    0.12         5777.0  \n",
       "6                    0.12         5777.0  \n",
       "7                    0.12         5777.0  \n",
       "15                   0.12         6490.0  \n",
       "16                   0.10         3250.0  \n",
       "...                   ...            ...  \n",
       "3557                 0.30         5080.0  \n",
       "3574                 0.01         5588.0  \n",
       "3577                 0.22         6442.0  \n",
       "3581                 0.14         5407.0  \n",
       "3582                 0.14         5407.0  \n",
       "\n",
       "[433 rows x 9 columns]"
      ]
     },
     "execution_count": 56,
     "metadata": {},
     "output_type": "execute_result"
    }
   ],
   "source": [
    "exos"
   ]
  },
  {
   "cell_type": "code",
   "execution_count": 58,
   "metadata": {},
   "outputs": [],
   "source": [
    "exos.to_parquet(\"/Users/Layne/Desktop/aiqc/aiqc/data/open_exoplanet_catalogue.parquet\")"
   ]
  },
  {
   "cell_type": "code",
   "execution_count": 59,
   "metadata": {},
   "outputs": [
    {
     "data": {
      "text/plain": [
       "TypeFlag                  int64\n",
       "PlanetaryMassJpt        float64\n",
       "PeriodDays              float64\n",
       "SurfaceTempK            float64\n",
       "DistFromSunParsec       float64\n",
       "HostStarMassSlrMass     float64\n",
       "HostStarRadiusSlrRad    float64\n",
       "HostStarMetallicity     float64\n",
       "HostStarTempK           float64\n",
       "dtype: object"
      ]
     },
     "execution_count": 59,
     "metadata": {},
     "output_type": "execute_result"
    }
   ],
   "source": [
    "exos.dtypes"
   ]
  },
  {
   "cell_type": "code",
   "execution_count": 59,
   "metadata": {},
   "outputs": [
    {
     "data": {
      "text/plain": [
       "TypeFlag                  int64\n",
       "PlanetaryMassJpt        float64\n",
       "PeriodDays              float64\n",
       "SurfaceTempK            float64\n",
       "DistFromSunParsec       float64\n",
       "HostStarMassSlrMass     float64\n",
       "HostStarRadiusSlrRad    float64\n",
       "HostStarMetallicity     float64\n",
       "HostStarTempK           float64\n",
       "dtype: object"
      ]
     },
     "execution_count": 59,
     "metadata": {},
     "output_type": "execute_result"
    }
   ],
   "source": [
    "exos.dtypes"
   ]
  },
  {
   "cell_type": "code",
   "execution_count": 61,
   "metadata": {},
   "outputs": [],
   "source": [
    "dataset = aiqc.Dataset.Tabular.from_path(\"/Users/Layne/Desktop/aiqc/aiqc/data/exoplanets.parquet\", source_file_format='parquet')"
   ]
  },
  {
   "cell_type": "code",
   "execution_count": 180,
   "metadata": {},
   "outputs": [
    {
     "data": {
      "text/plain": [
       "{'rows': 433, 'columns': 9}"
      ]
     },
     "execution_count": 180,
     "metadata": {},
     "output_type": "execute_result"
    }
   ],
   "source": [
    "dataset.files[0].shape"
   ]
  },
  {
   "cell_type": "code",
   "execution_count": 62,
   "metadata": {},
   "outputs": [],
   "source": [
    "label = dataset.make_label(columns=['SurfaceTempK'])"
   ]
  },
  {
   "cell_type": "code",
   "execution_count": 63,
   "metadata": {},
   "outputs": [],
   "source": [
    "featureset = dataset.make_featureset(exclude_columns=['SurfaceTempK'])"
   ]
  },
  {
   "cell_type": "code",
   "execution_count": 66,
   "metadata": {},
   "outputs": [],
   "source": [
    "splitset = featureset.make_splitset(\n",
    "    label_id = label.id\n",
    "    , size_test = 0.28\n",
    "    , bin_count=3\n",
    ")"
   ]
  },
  {
   "cell_type": "code",
   "execution_count": 67,
   "metadata": {},
   "outputs": [
    {
     "name": "stdout",
     "output_type": "stream",
     "text": [
      "\n",
      "Warning - The number of samples <311> in your training Split \n",
      "is not evenly divisible by the `fold_count` <5> you specified.\n",
      "This can result in misleading performance metrics for the last Fold.\n",
      "\n"
     ]
    }
   ],
   "source": [
    "foldset = splitset.make_foldset(fold_count=5)"
   ]
  },
  {
   "cell_type": "code",
   "execution_count": 127,
   "metadata": {},
   "outputs": [],
   "source": [
    "from sklearn.preprocessing import *"
   ]
  },
  {
   "cell_type": "code",
   "execution_count": 129,
   "metadata": {},
   "outputs": [],
   "source": [
    "encoder_features = StandardScaler()\n",
    "encoder_labels = StandardScaler()"
   ]
  },
  {
   "cell_type": "code",
   "execution_count": 130,
   "metadata": {},
   "outputs": [],
   "source": [
    "preprocess = splitset.make_preprocess(\n",
    "    encoder_features = encoder_features\n",
    "    , encoder_labels = encoder_labels\n",
    ")"
   ]
  },
  {
   "cell_type": "code",
   "execution_count": 87,
   "metadata": {},
   "outputs": [],
   "source": [
    "import keras\n",
    "from keras import metrics\n",
    "from keras.models import Sequential\n",
    "from keras.callbacks import Callback, History\n",
    "from keras.layers import Conv1D, Dense, Dropout\n",
    "from keras.constraints import maxnorm\n",
    "from keras.layers.convolutional import MaxPooling1D\n",
    "from keras.layers import Flatten"
   ]
  },
  {
   "cell_type": "code",
   "execution_count": 153,
   "metadata": {},
   "outputs": [],
   "source": [
    "def function_model_build(**hyperparameters):\n",
    "    model = Sequential()\n",
    "    \n",
    "    model.add(Dense(hyperparameters['neuron_count'], activation='relu'))\n",
    "    model.add(Dropout(0.2))\n",
    "    model.add(Dense(hyperparameters['neuron_count'], activation='relu'))\n",
    "    \n",
    "    if hyperparameters['2nd_dropout']:\n",
    "        model.add(Dropout(0.2))\n",
    "        \n",
    "    model.add(Dense(1, kernel_initializer='normal'))\n",
    "    \n",
    "    \n",
    "    opt = keras.optimizers.Adamax(hyperparameters['learning_rate'])\n",
    "    model.compile(\n",
    "\t\tloss='mean_squared_error'\n",
    "\t\t, optimizer=opt\n",
    "\t)\n",
    "    return model"
   ]
  },
  {
   "cell_type": "code",
   "execution_count": 161,
   "metadata": {},
   "outputs": [],
   "source": [
    "def function_model_train(model, samples_train, samples_evaluate, **hyperparameters):   \n",
    "    \n",
    "    metrics_cuttoffs = [\n",
    "        {\"metric\":\"val_loss\", \"cutoff\":0.3, \"above_or_below\":\"below\"},\n",
    "        {\"metric\":\"loss\", \"cutoff\":0.3, \"above_or_below\":\"below\"}\n",
    "    ]\n",
    "    cutoffs = aiqc.TrainingCallback.Keras.MetricCutoff(metrics_cuttoffs)\n",
    "    \n",
    "    model.fit(\n",
    "        samples_train[\"features\"]\n",
    "        , samples_train[\"labels\"]\n",
    "        , validation_data = (\n",
    "            samples_evaluate[\"features\"]\n",
    "            , samples_evaluate[\"labels\"]\n",
    "        )\n",
    "        , verbose = 0\n",
    "        , batch_size = hyperparameters['batch_size']\n",
    "        , callbacks=[History(), cutoffs]\n",
    "        , epochs = hyperparameters['epoch_count']\n",
    "    )\n",
    "\n",
    "    return model"
   ]
  },
  {
   "cell_type": "code",
   "execution_count": 162,
   "metadata": {},
   "outputs": [],
   "source": [
    "algorithm = aiqc.Algorithm.make(\n",
    "    library = \"keras\"\n",
    "    , analysis_type = \"regression\"\n",
    "    , function_model_build = function_model_build\n",
    "    , function_model_train = function_model_train\n",
    ")"
   ]
  },
  {
   "cell_type": "code",
   "execution_count": 163,
   "metadata": {},
   "outputs": [],
   "source": [
    "hyperparameters = {\n",
    "    \"batch_size\": [3, 5]\n",
    "    , \"2nd_dropout\": [True, False]\n",
    "    , \"epoch_count\": [500]\n",
    "    , \"neuron_count\": [32, 64]\n",
    "    , \"learning_rate\": [0.01]\n",
    "}"
   ]
  },
  {
   "cell_type": "code",
   "execution_count": 164,
   "metadata": {},
   "outputs": [],
   "source": [
    "hyperparamset = aiqc.Hyperparamset.from_algorithm(\n",
    "    algorithm_id = algorithm.id\n",
    "    , hyperparameters = hyperparameters\n",
    ")"
   ]
  },
  {
   "cell_type": "code",
   "execution_count": 165,
   "metadata": {},
   "outputs": [],
   "source": [
    "batch = aiqc.Batch.from_algorithm(\n",
    "    algorithm_id = algorithm.id\n",
    "    , splitset_id = splitset.id\n",
    "    , hyperparamset_id = hyperparamset.id\n",
    "    , foldset_id = foldset.id\n",
    "    , preprocess_id = preprocess.id\n",
    ")"
   ]
  },
  {
   "cell_type": "code",
   "execution_count": 156,
   "metadata": {},
   "outputs": [
    {
     "name": "stderr",
     "output_type": "stream",
     "text": [
      "🔮 Training Models 🔮:  50%|████████████████████                    | 20/40 [12:34<13:21, 40.08s/it]"
     ]
    },
    {
     "name": "stdout",
     "output_type": "stream",
     "text": [
      "\n",
      ":: Epoch #302 ::\n",
      "Satisfied thresholds defined in `MetricCutoff` callback. Stopped training early.\n",
      "\n"
     ]
    },
    {
     "name": "stderr",
     "output_type": "stream",
     "text": [
      "🔮 Training Models 🔮:  60%|████████████████████████                | 24/40 [14:26<08:28, 31.79s/it]"
     ]
    },
    {
     "name": "stdout",
     "output_type": "stream",
     "text": [
      "\n",
      ":: Epoch #368 ::\n",
      "Satisfied thresholds defined in `MetricCutoff` callback. Stopped training early.\n",
      "\n"
     ]
    },
    {
     "name": "stderr",
     "output_type": "stream",
     "text": [
      "🔮 Training Models 🔮:  65%|██████████████████████████              | 26/40 [15:39<08:05, 34.67s/it]"
     ]
    },
    {
     "name": "stdout",
     "output_type": "stream",
     "text": [
      "\n",
      ":: Epoch #132 ::\n",
      "Satisfied thresholds defined in `MetricCutoff` callback. Stopped training early.\n",
      "\n"
     ]
    },
    {
     "name": "stderr",
     "output_type": "stream",
     "text": [
      "🔮 Training Models 🔮:  68%|███████████████████████████             | 27/40 [15:51<06:03, 27.96s/it]"
     ]
    },
    {
     "name": "stdout",
     "output_type": "stream",
     "text": [
      "\n",
      ":: Epoch #66 ::\n",
      "Satisfied thresholds defined in `MetricCutoff` callback. Stopped training early.\n",
      "\n"
     ]
    },
    {
     "name": "stderr",
     "output_type": "stream",
     "text": [
      "🔮 Training Models 🔮:  72%|█████████████████████████████           | 29/40 [16:30<04:31, 24.64s/it]"
     ]
    },
    {
     "name": "stdout",
     "output_type": "stream",
     "text": [
      "\n",
      ":: Epoch #95 ::\n",
      "Satisfied thresholds defined in `MetricCutoff` callback. Stopped training early.\n",
      "\n"
     ]
    },
    {
     "name": "stderr",
     "output_type": "stream",
     "text": [
      "🔮 Training Models 🔮:  80%|████████████████████████████████        | 32/40 [17:39<03:21, 25.24s/it]"
     ]
    },
    {
     "name": "stdout",
     "output_type": "stream",
     "text": [
      "\n",
      ":: Epoch #132 ::\n",
      "Satisfied thresholds defined in `MetricCutoff` callback. Stopped training early.\n",
      "\n"
     ]
    },
    {
     "name": "stderr",
     "output_type": "stream",
     "text": [
      "🔮 Training Models 🔮:  82%|█████████████████████████████████       | 33/40 [17:51<02:29, 21.34s/it]"
     ]
    },
    {
     "name": "stdout",
     "output_type": "stream",
     "text": [
      "\n",
      ":: Epoch #91 ::\n",
      "Satisfied thresholds defined in `MetricCutoff` callback. Stopped training early.\n",
      "\n"
     ]
    },
    {
     "name": "stderr",
     "output_type": "stream",
     "text": [
      "🔮 Training Models 🔮:  90%|████████████████████████████████████    | 36/40 [19:23<01:58, 29.54s/it]"
     ]
    },
    {
     "name": "stdout",
     "output_type": "stream",
     "text": [
      "\n",
      ":: Epoch #90 ::\n",
      "Satisfied thresholds defined in `MetricCutoff` callback. Stopped training early.\n",
      "\n"
     ]
    },
    {
     "name": "stderr",
     "output_type": "stream",
     "text": [
      "🔮 Training Models 🔮:  92%|█████████████████████████████████████   | 37/40 [19:30<01:08, 22.84s/it]"
     ]
    },
    {
     "name": "stdout",
     "output_type": "stream",
     "text": [
      "\n",
      ":: Epoch #186 ::\n",
      "Satisfied thresholds defined in `MetricCutoff` callback. Stopped training early.\n",
      "\n"
     ]
    },
    {
     "name": "stderr",
     "output_type": "stream",
     "text": [
      "🔮 Training Models 🔮: 100%|████████████████████████████████████████| 40/40 [20:44<00:00, 31.11s/it]\n"
     ]
    }
   ],
   "source": [
    "batch.run_jobs()"
   ]
  },
  {
   "cell_type": "code",
   "execution_count": 169,
   "metadata": {},
   "outputs": [
    {
     "data": {
      "text/html": [
       "<style  type=\"text/css\" >\n",
       "</style><table id=\"T_d1b63d32_48b9_11eb_8a0b_985aeb8da1aa\" ><thead>    <tr>        <th class=\"col_heading level0 col0\" >job_id</th>        <th class=\"col_heading level0 col1\" >status</th>    </tr></thead><tbody>\n",
       "                <tr>\n",
       "                                <td id=\"T_d1b63d32_48b9_11eb_8a0b_985aeb8da1aarow0_col0\" class=\"data row0 col0\" >1042</td>\n",
       "                        <td id=\"T_d1b63d32_48b9_11eb_8a0b_985aeb8da1aarow0_col1\" class=\"data row0 col1\" >Succeeded</td>\n",
       "            </tr>\n",
       "            <tr>\n",
       "                                <td id=\"T_d1b63d32_48b9_11eb_8a0b_985aeb8da1aarow1_col0\" class=\"data row1 col0\" >1043</td>\n",
       "                        <td id=\"T_d1b63d32_48b9_11eb_8a0b_985aeb8da1aarow1_col1\" class=\"data row1 col1\" >Succeeded</td>\n",
       "            </tr>\n",
       "            <tr>\n",
       "                                <td id=\"T_d1b63d32_48b9_11eb_8a0b_985aeb8da1aarow2_col0\" class=\"data row2 col0\" >1044</td>\n",
       "                        <td id=\"T_d1b63d32_48b9_11eb_8a0b_985aeb8da1aarow2_col1\" class=\"data row2 col1\" >Succeeded</td>\n",
       "            </tr>\n",
       "            <tr>\n",
       "                                <td id=\"T_d1b63d32_48b9_11eb_8a0b_985aeb8da1aarow3_col0\" class=\"data row3 col0\" >1045</td>\n",
       "                        <td id=\"T_d1b63d32_48b9_11eb_8a0b_985aeb8da1aarow3_col1\" class=\"data row3 col1\" >Succeeded</td>\n",
       "            </tr>\n",
       "            <tr>\n",
       "                                <td id=\"T_d1b63d32_48b9_11eb_8a0b_985aeb8da1aarow4_col0\" class=\"data row4 col0\" >1046</td>\n",
       "                        <td id=\"T_d1b63d32_48b9_11eb_8a0b_985aeb8da1aarow4_col1\" class=\"data row4 col1\" >Succeeded</td>\n",
       "            </tr>\n",
       "            <tr>\n",
       "                                <td id=\"T_d1b63d32_48b9_11eb_8a0b_985aeb8da1aarow5_col0\" class=\"data row5 col0\" >1047</td>\n",
       "                        <td id=\"T_d1b63d32_48b9_11eb_8a0b_985aeb8da1aarow5_col1\" class=\"data row5 col1\" >Succeeded</td>\n",
       "            </tr>\n",
       "            <tr>\n",
       "                                <td id=\"T_d1b63d32_48b9_11eb_8a0b_985aeb8da1aarow6_col0\" class=\"data row6 col0\" >1048</td>\n",
       "                        <td id=\"T_d1b63d32_48b9_11eb_8a0b_985aeb8da1aarow6_col1\" class=\"data row6 col1\" >Succeeded</td>\n",
       "            </tr>\n",
       "            <tr>\n",
       "                                <td id=\"T_d1b63d32_48b9_11eb_8a0b_985aeb8da1aarow7_col0\" class=\"data row7 col0\" >1049</td>\n",
       "                        <td id=\"T_d1b63d32_48b9_11eb_8a0b_985aeb8da1aarow7_col1\" class=\"data row7 col1\" >Succeeded</td>\n",
       "            </tr>\n",
       "            <tr>\n",
       "                                <td id=\"T_d1b63d32_48b9_11eb_8a0b_985aeb8da1aarow8_col0\" class=\"data row8 col0\" >1050</td>\n",
       "                        <td id=\"T_d1b63d32_48b9_11eb_8a0b_985aeb8da1aarow8_col1\" class=\"data row8 col1\" >Succeeded</td>\n",
       "            </tr>\n",
       "            <tr>\n",
       "                                <td id=\"T_d1b63d32_48b9_11eb_8a0b_985aeb8da1aarow9_col0\" class=\"data row9 col0\" >1051</td>\n",
       "                        <td id=\"T_d1b63d32_48b9_11eb_8a0b_985aeb8da1aarow9_col1\" class=\"data row9 col1\" >Succeeded</td>\n",
       "            </tr>\n",
       "            <tr>\n",
       "                                <td id=\"T_d1b63d32_48b9_11eb_8a0b_985aeb8da1aarow10_col0\" class=\"data row10 col0\" >1052</td>\n",
       "                        <td id=\"T_d1b63d32_48b9_11eb_8a0b_985aeb8da1aarow10_col1\" class=\"data row10 col1\" >Succeeded</td>\n",
       "            </tr>\n",
       "            <tr>\n",
       "                                <td id=\"T_d1b63d32_48b9_11eb_8a0b_985aeb8da1aarow11_col0\" class=\"data row11 col0\" >1053</td>\n",
       "                        <td id=\"T_d1b63d32_48b9_11eb_8a0b_985aeb8da1aarow11_col1\" class=\"data row11 col1\" >Succeeded</td>\n",
       "            </tr>\n",
       "            <tr>\n",
       "                                <td id=\"T_d1b63d32_48b9_11eb_8a0b_985aeb8da1aarow12_col0\" class=\"data row12 col0\" >1054</td>\n",
       "                        <td id=\"T_d1b63d32_48b9_11eb_8a0b_985aeb8da1aarow12_col1\" class=\"data row12 col1\" >Succeeded</td>\n",
       "            </tr>\n",
       "            <tr>\n",
       "                                <td id=\"T_d1b63d32_48b9_11eb_8a0b_985aeb8da1aarow13_col0\" class=\"data row13 col0\" >1055</td>\n",
       "                        <td id=\"T_d1b63d32_48b9_11eb_8a0b_985aeb8da1aarow13_col1\" class=\"data row13 col1\" >Queued</td>\n",
       "            </tr>\n",
       "            <tr>\n",
       "                                <td id=\"T_d1b63d32_48b9_11eb_8a0b_985aeb8da1aarow14_col0\" class=\"data row14 col0\" >1056</td>\n",
       "                        <td id=\"T_d1b63d32_48b9_11eb_8a0b_985aeb8da1aarow14_col1\" class=\"data row14 col1\" >Queued</td>\n",
       "            </tr>\n",
       "            <tr>\n",
       "                                <td id=\"T_d1b63d32_48b9_11eb_8a0b_985aeb8da1aarow15_col0\" class=\"data row15 col0\" >1057</td>\n",
       "                        <td id=\"T_d1b63d32_48b9_11eb_8a0b_985aeb8da1aarow15_col1\" class=\"data row15 col1\" >Queued</td>\n",
       "            </tr>\n",
       "            <tr>\n",
       "                                <td id=\"T_d1b63d32_48b9_11eb_8a0b_985aeb8da1aarow16_col0\" class=\"data row16 col0\" >1058</td>\n",
       "                        <td id=\"T_d1b63d32_48b9_11eb_8a0b_985aeb8da1aarow16_col1\" class=\"data row16 col1\" >Queued</td>\n",
       "            </tr>\n",
       "            <tr>\n",
       "                                <td id=\"T_d1b63d32_48b9_11eb_8a0b_985aeb8da1aarow17_col0\" class=\"data row17 col0\" >1059</td>\n",
       "                        <td id=\"T_d1b63d32_48b9_11eb_8a0b_985aeb8da1aarow17_col1\" class=\"data row17 col1\" >Queued</td>\n",
       "            </tr>\n",
       "            <tr>\n",
       "                                <td id=\"T_d1b63d32_48b9_11eb_8a0b_985aeb8da1aarow18_col0\" class=\"data row18 col0\" >1060</td>\n",
       "                        <td id=\"T_d1b63d32_48b9_11eb_8a0b_985aeb8da1aarow18_col1\" class=\"data row18 col1\" >Queued</td>\n",
       "            </tr>\n",
       "            <tr>\n",
       "                                <td id=\"T_d1b63d32_48b9_11eb_8a0b_985aeb8da1aarow19_col0\" class=\"data row19 col0\" >1061</td>\n",
       "                        <td id=\"T_d1b63d32_48b9_11eb_8a0b_985aeb8da1aarow19_col1\" class=\"data row19 col1\" >Queued</td>\n",
       "            </tr>\n",
       "            <tr>\n",
       "                                <td id=\"T_d1b63d32_48b9_11eb_8a0b_985aeb8da1aarow20_col0\" class=\"data row20 col0\" >1062</td>\n",
       "                        <td id=\"T_d1b63d32_48b9_11eb_8a0b_985aeb8da1aarow20_col1\" class=\"data row20 col1\" >Queued</td>\n",
       "            </tr>\n",
       "            <tr>\n",
       "                                <td id=\"T_d1b63d32_48b9_11eb_8a0b_985aeb8da1aarow21_col0\" class=\"data row21 col0\" >1063</td>\n",
       "                        <td id=\"T_d1b63d32_48b9_11eb_8a0b_985aeb8da1aarow21_col1\" class=\"data row21 col1\" >Queued</td>\n",
       "            </tr>\n",
       "            <tr>\n",
       "                                <td id=\"T_d1b63d32_48b9_11eb_8a0b_985aeb8da1aarow22_col0\" class=\"data row22 col0\" >1064</td>\n",
       "                        <td id=\"T_d1b63d32_48b9_11eb_8a0b_985aeb8da1aarow22_col1\" class=\"data row22 col1\" >Queued</td>\n",
       "            </tr>\n",
       "            <tr>\n",
       "                                <td id=\"T_d1b63d32_48b9_11eb_8a0b_985aeb8da1aarow23_col0\" class=\"data row23 col0\" >1065</td>\n",
       "                        <td id=\"T_d1b63d32_48b9_11eb_8a0b_985aeb8da1aarow23_col1\" class=\"data row23 col1\" >Queued</td>\n",
       "            </tr>\n",
       "            <tr>\n",
       "                                <td id=\"T_d1b63d32_48b9_11eb_8a0b_985aeb8da1aarow24_col0\" class=\"data row24 col0\" >1066</td>\n",
       "                        <td id=\"T_d1b63d32_48b9_11eb_8a0b_985aeb8da1aarow24_col1\" class=\"data row24 col1\" >Queued</td>\n",
       "            </tr>\n",
       "            <tr>\n",
       "                                <td id=\"T_d1b63d32_48b9_11eb_8a0b_985aeb8da1aarow25_col0\" class=\"data row25 col0\" >1067</td>\n",
       "                        <td id=\"T_d1b63d32_48b9_11eb_8a0b_985aeb8da1aarow25_col1\" class=\"data row25 col1\" >Queued</td>\n",
       "            </tr>\n",
       "            <tr>\n",
       "                                <td id=\"T_d1b63d32_48b9_11eb_8a0b_985aeb8da1aarow26_col0\" class=\"data row26 col0\" >1068</td>\n",
       "                        <td id=\"T_d1b63d32_48b9_11eb_8a0b_985aeb8da1aarow26_col1\" class=\"data row26 col1\" >Queued</td>\n",
       "            </tr>\n",
       "            <tr>\n",
       "                                <td id=\"T_d1b63d32_48b9_11eb_8a0b_985aeb8da1aarow27_col0\" class=\"data row27 col0\" >1069</td>\n",
       "                        <td id=\"T_d1b63d32_48b9_11eb_8a0b_985aeb8da1aarow27_col1\" class=\"data row27 col1\" >Queued</td>\n",
       "            </tr>\n",
       "            <tr>\n",
       "                                <td id=\"T_d1b63d32_48b9_11eb_8a0b_985aeb8da1aarow28_col0\" class=\"data row28 col0\" >1070</td>\n",
       "                        <td id=\"T_d1b63d32_48b9_11eb_8a0b_985aeb8da1aarow28_col1\" class=\"data row28 col1\" >Queued</td>\n",
       "            </tr>\n",
       "            <tr>\n",
       "                                <td id=\"T_d1b63d32_48b9_11eb_8a0b_985aeb8da1aarow29_col0\" class=\"data row29 col0\" >1071</td>\n",
       "                        <td id=\"T_d1b63d32_48b9_11eb_8a0b_985aeb8da1aarow29_col1\" class=\"data row29 col1\" >Queued</td>\n",
       "            </tr>\n",
       "            <tr>\n",
       "                                <td id=\"T_d1b63d32_48b9_11eb_8a0b_985aeb8da1aarow30_col0\" class=\"data row30 col0\" >1072</td>\n",
       "                        <td id=\"T_d1b63d32_48b9_11eb_8a0b_985aeb8da1aarow30_col1\" class=\"data row30 col1\" >Queued</td>\n",
       "            </tr>\n",
       "            <tr>\n",
       "                                <td id=\"T_d1b63d32_48b9_11eb_8a0b_985aeb8da1aarow31_col0\" class=\"data row31 col0\" >1073</td>\n",
       "                        <td id=\"T_d1b63d32_48b9_11eb_8a0b_985aeb8da1aarow31_col1\" class=\"data row31 col1\" >Queued</td>\n",
       "            </tr>\n",
       "            <tr>\n",
       "                                <td id=\"T_d1b63d32_48b9_11eb_8a0b_985aeb8da1aarow32_col0\" class=\"data row32 col0\" >1074</td>\n",
       "                        <td id=\"T_d1b63d32_48b9_11eb_8a0b_985aeb8da1aarow32_col1\" class=\"data row32 col1\" >Queued</td>\n",
       "            </tr>\n",
       "            <tr>\n",
       "                                <td id=\"T_d1b63d32_48b9_11eb_8a0b_985aeb8da1aarow33_col0\" class=\"data row33 col0\" >1075</td>\n",
       "                        <td id=\"T_d1b63d32_48b9_11eb_8a0b_985aeb8da1aarow33_col1\" class=\"data row33 col1\" >Queued</td>\n",
       "            </tr>\n",
       "            <tr>\n",
       "                                <td id=\"T_d1b63d32_48b9_11eb_8a0b_985aeb8da1aarow34_col0\" class=\"data row34 col0\" >1076</td>\n",
       "                        <td id=\"T_d1b63d32_48b9_11eb_8a0b_985aeb8da1aarow34_col1\" class=\"data row34 col1\" >Queued</td>\n",
       "            </tr>\n",
       "            <tr>\n",
       "                                <td id=\"T_d1b63d32_48b9_11eb_8a0b_985aeb8da1aarow35_col0\" class=\"data row35 col0\" >1077</td>\n",
       "                        <td id=\"T_d1b63d32_48b9_11eb_8a0b_985aeb8da1aarow35_col1\" class=\"data row35 col1\" >Queued</td>\n",
       "            </tr>\n",
       "            <tr>\n",
       "                                <td id=\"T_d1b63d32_48b9_11eb_8a0b_985aeb8da1aarow36_col0\" class=\"data row36 col0\" >1078</td>\n",
       "                        <td id=\"T_d1b63d32_48b9_11eb_8a0b_985aeb8da1aarow36_col1\" class=\"data row36 col1\" >Queued</td>\n",
       "            </tr>\n",
       "            <tr>\n",
       "                                <td id=\"T_d1b63d32_48b9_11eb_8a0b_985aeb8da1aarow37_col0\" class=\"data row37 col0\" >1079</td>\n",
       "                        <td id=\"T_d1b63d32_48b9_11eb_8a0b_985aeb8da1aarow37_col1\" class=\"data row37 col1\" >Queued</td>\n",
       "            </tr>\n",
       "            <tr>\n",
       "                                <td id=\"T_d1b63d32_48b9_11eb_8a0b_985aeb8da1aarow38_col0\" class=\"data row38 col0\" >1080</td>\n",
       "                        <td id=\"T_d1b63d32_48b9_11eb_8a0b_985aeb8da1aarow38_col1\" class=\"data row38 col1\" >Queued</td>\n",
       "            </tr>\n",
       "            <tr>\n",
       "                                <td id=\"T_d1b63d32_48b9_11eb_8a0b_985aeb8da1aarow39_col0\" class=\"data row39 col0\" >1081</td>\n",
       "                        <td id=\"T_d1b63d32_48b9_11eb_8a0b_985aeb8da1aarow39_col1\" class=\"data row39 col1\" >Queued</td>\n",
       "            </tr>\n",
       "    </tbody></table>"
      ],
      "text/plain": [
       "<pandas.io.formats.style.Styler at 0x1539b3050>"
      ]
     },
     "execution_count": 169,
     "metadata": {},
     "output_type": "execute_result"
    }
   ],
   "source": [
    "batch.statuses_to_pandas()"
   ]
  },
  {
   "cell_type": "code",
   "execution_count": 171,
   "metadata": {},
   "outputs": [
    {
     "data": {
      "text/html": [
       "<style  type=\"text/css\" >\n",
       "</style><table id=\"T_770c4ee8_48ba_11eb_8a0b_985aeb8da1aa\" ><thead>    <tr>        <th class=\"col_heading level0 col0\" >job_id</th>        <th class=\"col_heading level0 col1\" >split</th>        <th class=\"col_heading level0 col2\" >explained_variance</th>        <th class=\"col_heading level0 col3\" >loss</th>        <th class=\"col_heading level0 col4\" >mse</th>        <th class=\"col_heading level0 col5\" >r2</th>    </tr></thead><tbody>\n",
       "                <tr>\n",
       "                                <td id=\"T_770c4ee8_48ba_11eb_8a0b_985aeb8da1aarow0_col0\" class=\"data row0 col0\" >1042</td>\n",
       "                        <td id=\"T_770c4ee8_48ba_11eb_8a0b_985aeb8da1aarow0_col1\" class=\"data row0 col1\" >test</td>\n",
       "                        <td id=\"T_770c4ee8_48ba_11eb_8a0b_985aeb8da1aarow0_col2\" class=\"data row0 col2\" >0.827359</td>\n",
       "                        <td id=\"T_770c4ee8_48ba_11eb_8a0b_985aeb8da1aarow0_col3\" class=\"data row0 col3\" >0.170363</td>\n",
       "                        <td id=\"T_770c4ee8_48ba_11eb_8a0b_985aeb8da1aarow0_col4\" class=\"data row0 col4\" >0.170363</td>\n",
       "                        <td id=\"T_770c4ee8_48ba_11eb_8a0b_985aeb8da1aarow0_col5\" class=\"data row0 col5\" >0.826235</td>\n",
       "            </tr>\n",
       "            <tr>\n",
       "                                <td id=\"T_770c4ee8_48ba_11eb_8a0b_985aeb8da1aarow1_col0\" class=\"data row1 col0\" >1042</td>\n",
       "                        <td id=\"T_770c4ee8_48ba_11eb_8a0b_985aeb8da1aarow1_col1\" class=\"data row1 col1\" >folds_train_combined</td>\n",
       "                        <td id=\"T_770c4ee8_48ba_11eb_8a0b_985aeb8da1aarow1_col2\" class=\"data row1 col2\" >0.918574</td>\n",
       "                        <td id=\"T_770c4ee8_48ba_11eb_8a0b_985aeb8da1aarow1_col3\" class=\"data row1 col3\" >0.084633</td>\n",
       "                        <td id=\"T_770c4ee8_48ba_11eb_8a0b_985aeb8da1aarow1_col4\" class=\"data row1 col4\" >0.084633</td>\n",
       "                        <td id=\"T_770c4ee8_48ba_11eb_8a0b_985aeb8da1aarow1_col5\" class=\"data row1 col5\" >0.915367</td>\n",
       "            </tr>\n",
       "            <tr>\n",
       "                                <td id=\"T_770c4ee8_48ba_11eb_8a0b_985aeb8da1aarow2_col0\" class=\"data row2 col0\" >1042</td>\n",
       "                        <td id=\"T_770c4ee8_48ba_11eb_8a0b_985aeb8da1aarow2_col1\" class=\"data row2 col1\" >fold_validation</td>\n",
       "                        <td id=\"T_770c4ee8_48ba_11eb_8a0b_985aeb8da1aarow2_col2\" class=\"data row2 col2\" >0.695141</td>\n",
       "                        <td id=\"T_770c4ee8_48ba_11eb_8a0b_985aeb8da1aarow2_col3\" class=\"data row2 col3\" >0.286068</td>\n",
       "                        <td id=\"T_770c4ee8_48ba_11eb_8a0b_985aeb8da1aarow2_col4\" class=\"data row2 col4\" >0.286068</td>\n",
       "                        <td id=\"T_770c4ee8_48ba_11eb_8a0b_985aeb8da1aarow2_col5\" class=\"data row2 col5\" >0.692252</td>\n",
       "            </tr>\n",
       "            <tr>\n",
       "                                <td id=\"T_770c4ee8_48ba_11eb_8a0b_985aeb8da1aarow3_col0\" class=\"data row3 col0\" >1043</td>\n",
       "                        <td id=\"T_770c4ee8_48ba_11eb_8a0b_985aeb8da1aarow3_col1\" class=\"data row3 col1\" >test</td>\n",
       "                        <td id=\"T_770c4ee8_48ba_11eb_8a0b_985aeb8da1aarow3_col2\" class=\"data row3 col2\" >0.806267</td>\n",
       "                        <td id=\"T_770c4ee8_48ba_11eb_8a0b_985aeb8da1aarow3_col3\" class=\"data row3 col3\" >0.211475</td>\n",
       "                        <td id=\"T_770c4ee8_48ba_11eb_8a0b_985aeb8da1aarow3_col4\" class=\"data row3 col4\" >0.211475</td>\n",
       "                        <td id=\"T_770c4ee8_48ba_11eb_8a0b_985aeb8da1aarow3_col5\" class=\"data row3 col5\" >0.784302</td>\n",
       "            </tr>\n",
       "            <tr>\n",
       "                                <td id=\"T_770c4ee8_48ba_11eb_8a0b_985aeb8da1aarow4_col0\" class=\"data row4 col0\" >1043</td>\n",
       "                        <td id=\"T_770c4ee8_48ba_11eb_8a0b_985aeb8da1aarow4_col1\" class=\"data row4 col1\" >folds_train_combined</td>\n",
       "                        <td id=\"T_770c4ee8_48ba_11eb_8a0b_985aeb8da1aarow4_col2\" class=\"data row4 col2\" >0.949338</td>\n",
       "                        <td id=\"T_770c4ee8_48ba_11eb_8a0b_985aeb8da1aarow4_col3\" class=\"data row4 col3\" >0.051814</td>\n",
       "                        <td id=\"T_770c4ee8_48ba_11eb_8a0b_985aeb8da1aarow4_col4\" class=\"data row4 col4\" >0.051814</td>\n",
       "                        <td id=\"T_770c4ee8_48ba_11eb_8a0b_985aeb8da1aarow4_col5\" class=\"data row4 col5\" >0.948186</td>\n",
       "            </tr>\n",
       "            <tr>\n",
       "                                <td id=\"T_770c4ee8_48ba_11eb_8a0b_985aeb8da1aarow5_col0\" class=\"data row5 col0\" >1043</td>\n",
       "                        <td id=\"T_770c4ee8_48ba_11eb_8a0b_985aeb8da1aarow5_col1\" class=\"data row5 col1\" >fold_validation</td>\n",
       "                        <td id=\"T_770c4ee8_48ba_11eb_8a0b_985aeb8da1aarow5_col2\" class=\"data row5 col2\" >0.586368</td>\n",
       "                        <td id=\"T_770c4ee8_48ba_11eb_8a0b_985aeb8da1aarow5_col3\" class=\"data row5 col3\" >0.407521</td>\n",
       "                        <td id=\"T_770c4ee8_48ba_11eb_8a0b_985aeb8da1aarow5_col4\" class=\"data row5 col4\" >0.407521</td>\n",
       "                        <td id=\"T_770c4ee8_48ba_11eb_8a0b_985aeb8da1aarow5_col5\" class=\"data row5 col5\" >0.561594</td>\n",
       "            </tr>\n",
       "            <tr>\n",
       "                                <td id=\"T_770c4ee8_48ba_11eb_8a0b_985aeb8da1aarow6_col0\" class=\"data row6 col0\" >1044</td>\n",
       "                        <td id=\"T_770c4ee8_48ba_11eb_8a0b_985aeb8da1aarow6_col1\" class=\"data row6 col1\" >test</td>\n",
       "                        <td id=\"T_770c4ee8_48ba_11eb_8a0b_985aeb8da1aarow6_col2\" class=\"data row6 col2\" >0.818197</td>\n",
       "                        <td id=\"T_770c4ee8_48ba_11eb_8a0b_985aeb8da1aarow6_col3\" class=\"data row6 col3\" >0.196326</td>\n",
       "                        <td id=\"T_770c4ee8_48ba_11eb_8a0b_985aeb8da1aarow6_col4\" class=\"data row6 col4\" >0.196326</td>\n",
       "                        <td id=\"T_770c4ee8_48ba_11eb_8a0b_985aeb8da1aarow6_col5\" class=\"data row6 col5\" >0.799753</td>\n",
       "            </tr>\n",
       "            <tr>\n",
       "                                <td id=\"T_770c4ee8_48ba_11eb_8a0b_985aeb8da1aarow7_col0\" class=\"data row7 col0\" >1044</td>\n",
       "                        <td id=\"T_770c4ee8_48ba_11eb_8a0b_985aeb8da1aarow7_col1\" class=\"data row7 col1\" >folds_train_combined</td>\n",
       "                        <td id=\"T_770c4ee8_48ba_11eb_8a0b_985aeb8da1aarow7_col2\" class=\"data row7 col2\" >0.954708</td>\n",
       "                        <td id=\"T_770c4ee8_48ba_11eb_8a0b_985aeb8da1aarow7_col3\" class=\"data row7 col3\" >0.046143</td>\n",
       "                        <td id=\"T_770c4ee8_48ba_11eb_8a0b_985aeb8da1aarow7_col4\" class=\"data row7 col4\" >0.046143</td>\n",
       "                        <td id=\"T_770c4ee8_48ba_11eb_8a0b_985aeb8da1aarow7_col5\" class=\"data row7 col5\" >0.953857</td>\n",
       "            </tr>\n",
       "            <tr>\n",
       "                                <td id=\"T_770c4ee8_48ba_11eb_8a0b_985aeb8da1aarow8_col0\" class=\"data row8 col0\" >1044</td>\n",
       "                        <td id=\"T_770c4ee8_48ba_11eb_8a0b_985aeb8da1aarow8_col1\" class=\"data row8 col1\" >fold_validation</td>\n",
       "                        <td id=\"T_770c4ee8_48ba_11eb_8a0b_985aeb8da1aarow8_col2\" class=\"data row8 col2\" >0.571459</td>\n",
       "                        <td id=\"T_770c4ee8_48ba_11eb_8a0b_985aeb8da1aarow8_col3\" class=\"data row8 col3\" >0.405766</td>\n",
       "                        <td id=\"T_770c4ee8_48ba_11eb_8a0b_985aeb8da1aarow8_col4\" class=\"data row8 col4\" >0.405766</td>\n",
       "                        <td id=\"T_770c4ee8_48ba_11eb_8a0b_985aeb8da1aarow8_col5\" class=\"data row8 col5\" >0.563482</td>\n",
       "            </tr>\n",
       "            <tr>\n",
       "                                <td id=\"T_770c4ee8_48ba_11eb_8a0b_985aeb8da1aarow9_col0\" class=\"data row9 col0\" >1045</td>\n",
       "                        <td id=\"T_770c4ee8_48ba_11eb_8a0b_985aeb8da1aarow9_col1\" class=\"data row9 col1\" >test</td>\n",
       "                        <td id=\"T_770c4ee8_48ba_11eb_8a0b_985aeb8da1aarow9_col2\" class=\"data row9 col2\" >0.786478</td>\n",
       "                        <td id=\"T_770c4ee8_48ba_11eb_8a0b_985aeb8da1aarow9_col3\" class=\"data row9 col3\" >0.226604</td>\n",
       "                        <td id=\"T_770c4ee8_48ba_11eb_8a0b_985aeb8da1aarow9_col4\" class=\"data row9 col4\" >0.226604</td>\n",
       "                        <td id=\"T_770c4ee8_48ba_11eb_8a0b_985aeb8da1aarow9_col5\" class=\"data row9 col5\" >0.768871</td>\n",
       "            </tr>\n",
       "            <tr>\n",
       "                                <td id=\"T_770c4ee8_48ba_11eb_8a0b_985aeb8da1aarow10_col0\" class=\"data row10 col0\" >1045</td>\n",
       "                        <td id=\"T_770c4ee8_48ba_11eb_8a0b_985aeb8da1aarow10_col1\" class=\"data row10 col1\" >folds_train_combined</td>\n",
       "                        <td id=\"T_770c4ee8_48ba_11eb_8a0b_985aeb8da1aarow10_col2\" class=\"data row10 col2\" >0.977247</td>\n",
       "                        <td id=\"T_770c4ee8_48ba_11eb_8a0b_985aeb8da1aarow10_col3\" class=\"data row10 col3\" >0.022796</td>\n",
       "                        <td id=\"T_770c4ee8_48ba_11eb_8a0b_985aeb8da1aarow10_col4\" class=\"data row10 col4\" >0.022796</td>\n",
       "                        <td id=\"T_770c4ee8_48ba_11eb_8a0b_985aeb8da1aarow10_col5\" class=\"data row10 col5\" >0.977204</td>\n",
       "            </tr>\n",
       "            <tr>\n",
       "                                <td id=\"T_770c4ee8_48ba_11eb_8a0b_985aeb8da1aarow11_col0\" class=\"data row11 col0\" >1045</td>\n",
       "                        <td id=\"T_770c4ee8_48ba_11eb_8a0b_985aeb8da1aarow11_col1\" class=\"data row11 col1\" >fold_validation</td>\n",
       "                        <td id=\"T_770c4ee8_48ba_11eb_8a0b_985aeb8da1aarow11_col2\" class=\"data row11 col2\" >0.490448</td>\n",
       "                        <td id=\"T_770c4ee8_48ba_11eb_8a0b_985aeb8da1aarow11_col3\" class=\"data row11 col3\" >0.485465</td>\n",
       "                        <td id=\"T_770c4ee8_48ba_11eb_8a0b_985aeb8da1aarow11_col4\" class=\"data row11 col4\" >0.485465</td>\n",
       "                        <td id=\"T_770c4ee8_48ba_11eb_8a0b_985aeb8da1aarow11_col5\" class=\"data row11 col5\" >0.477743</td>\n",
       "            </tr>\n",
       "            <tr>\n",
       "                                <td id=\"T_770c4ee8_48ba_11eb_8a0b_985aeb8da1aarow12_col0\" class=\"data row12 col0\" >1046</td>\n",
       "                        <td id=\"T_770c4ee8_48ba_11eb_8a0b_985aeb8da1aarow12_col1\" class=\"data row12 col1\" >test</td>\n",
       "                        <td id=\"T_770c4ee8_48ba_11eb_8a0b_985aeb8da1aarow12_col2\" class=\"data row12 col2\" >0.829295</td>\n",
       "                        <td id=\"T_770c4ee8_48ba_11eb_8a0b_985aeb8da1aarow12_col3\" class=\"data row12 col3\" >0.176981</td>\n",
       "                        <td id=\"T_770c4ee8_48ba_11eb_8a0b_985aeb8da1aarow12_col4\" class=\"data row12 col4\" >0.176981</td>\n",
       "                        <td id=\"T_770c4ee8_48ba_11eb_8a0b_985aeb8da1aarow12_col5\" class=\"data row12 col5\" >0.819484</td>\n",
       "            </tr>\n",
       "            <tr>\n",
       "                                <td id=\"T_770c4ee8_48ba_11eb_8a0b_985aeb8da1aarow13_col0\" class=\"data row13 col0\" >1046</td>\n",
       "                        <td id=\"T_770c4ee8_48ba_11eb_8a0b_985aeb8da1aarow13_col1\" class=\"data row13 col1\" >folds_train_combined</td>\n",
       "                        <td id=\"T_770c4ee8_48ba_11eb_8a0b_985aeb8da1aarow13_col2\" class=\"data row13 col2\" >0.912504</td>\n",
       "                        <td id=\"T_770c4ee8_48ba_11eb_8a0b_985aeb8da1aarow13_col3\" class=\"data row13 col3\" >0.087911</td>\n",
       "                        <td id=\"T_770c4ee8_48ba_11eb_8a0b_985aeb8da1aarow13_col4\" class=\"data row13 col4\" >0.087911</td>\n",
       "                        <td id=\"T_770c4ee8_48ba_11eb_8a0b_985aeb8da1aarow13_col5\" class=\"data row13 col5\" >0.912089</td>\n",
       "            </tr>\n",
       "            <tr>\n",
       "                                <td id=\"T_770c4ee8_48ba_11eb_8a0b_985aeb8da1aarow14_col0\" class=\"data row14 col0\" >1046</td>\n",
       "                        <td id=\"T_770c4ee8_48ba_11eb_8a0b_985aeb8da1aarow14_col1\" class=\"data row14 col1\" >fold_validation</td>\n",
       "                        <td id=\"T_770c4ee8_48ba_11eb_8a0b_985aeb8da1aarow14_col2\" class=\"data row14 col2\" >0.657717</td>\n",
       "                        <td id=\"T_770c4ee8_48ba_11eb_8a0b_985aeb8da1aarow14_col3\" class=\"data row14 col3\" >0.324238</td>\n",
       "                        <td id=\"T_770c4ee8_48ba_11eb_8a0b_985aeb8da1aarow14_col4\" class=\"data row14 col4\" >0.324238</td>\n",
       "                        <td id=\"T_770c4ee8_48ba_11eb_8a0b_985aeb8da1aarow14_col5\" class=\"data row14 col5\" >0.651189</td>\n",
       "            </tr>\n",
       "            <tr>\n",
       "                                <td id=\"T_770c4ee8_48ba_11eb_8a0b_985aeb8da1aarow15_col0\" class=\"data row15 col0\" >1047</td>\n",
       "                        <td id=\"T_770c4ee8_48ba_11eb_8a0b_985aeb8da1aarow15_col1\" class=\"data row15 col1\" >test</td>\n",
       "                        <td id=\"T_770c4ee8_48ba_11eb_8a0b_985aeb8da1aarow15_col2\" class=\"data row15 col2\" >0.821456</td>\n",
       "                        <td id=\"T_770c4ee8_48ba_11eb_8a0b_985aeb8da1aarow15_col3\" class=\"data row15 col3\" >0.194435</td>\n",
       "                        <td id=\"T_770c4ee8_48ba_11eb_8a0b_985aeb8da1aarow15_col4\" class=\"data row15 col4\" >0.194435</td>\n",
       "                        <td id=\"T_770c4ee8_48ba_11eb_8a0b_985aeb8da1aarow15_col5\" class=\"data row15 col5\" >0.801682</td>\n",
       "            </tr>\n",
       "            <tr>\n",
       "                                <td id=\"T_770c4ee8_48ba_11eb_8a0b_985aeb8da1aarow16_col0\" class=\"data row16 col0\" >1047</td>\n",
       "                        <td id=\"T_770c4ee8_48ba_11eb_8a0b_985aeb8da1aarow16_col1\" class=\"data row16 col1\" >folds_train_combined</td>\n",
       "                        <td id=\"T_770c4ee8_48ba_11eb_8a0b_985aeb8da1aarow16_col2\" class=\"data row16 col2\" >0.944088</td>\n",
       "                        <td id=\"T_770c4ee8_48ba_11eb_8a0b_985aeb8da1aarow16_col3\" class=\"data row16 col3\" >0.056634</td>\n",
       "                        <td id=\"T_770c4ee8_48ba_11eb_8a0b_985aeb8da1aarow16_col4\" class=\"data row16 col4\" >0.056634</td>\n",
       "                        <td id=\"T_770c4ee8_48ba_11eb_8a0b_985aeb8da1aarow16_col5\" class=\"data row16 col5\" >0.943366</td>\n",
       "            </tr>\n",
       "            <tr>\n",
       "                                <td id=\"T_770c4ee8_48ba_11eb_8a0b_985aeb8da1aarow17_col0\" class=\"data row17 col0\" >1047</td>\n",
       "                        <td id=\"T_770c4ee8_48ba_11eb_8a0b_985aeb8da1aarow17_col1\" class=\"data row17 col1\" >fold_validation</td>\n",
       "                        <td id=\"T_770c4ee8_48ba_11eb_8a0b_985aeb8da1aarow17_col2\" class=\"data row17 col2\" >0.567623</td>\n",
       "                        <td id=\"T_770c4ee8_48ba_11eb_8a0b_985aeb8da1aarow17_col3\" class=\"data row17 col3\" >0.428170</td>\n",
       "                        <td id=\"T_770c4ee8_48ba_11eb_8a0b_985aeb8da1aarow17_col4\" class=\"data row17 col4\" >0.428170</td>\n",
       "                        <td id=\"T_770c4ee8_48ba_11eb_8a0b_985aeb8da1aarow17_col5\" class=\"data row17 col5\" >0.539381</td>\n",
       "            </tr>\n",
       "            <tr>\n",
       "                                <td id=\"T_770c4ee8_48ba_11eb_8a0b_985aeb8da1aarow18_col0\" class=\"data row18 col0\" >1048</td>\n",
       "                        <td id=\"T_770c4ee8_48ba_11eb_8a0b_985aeb8da1aarow18_col1\" class=\"data row18 col1\" >test</td>\n",
       "                        <td id=\"T_770c4ee8_48ba_11eb_8a0b_985aeb8da1aarow18_col2\" class=\"data row18 col2\" >0.828324</td>\n",
       "                        <td id=\"T_770c4ee8_48ba_11eb_8a0b_985aeb8da1aarow18_col3\" class=\"data row18 col3\" >0.172029</td>\n",
       "                        <td id=\"T_770c4ee8_48ba_11eb_8a0b_985aeb8da1aarow18_col4\" class=\"data row18 col4\" >0.172029</td>\n",
       "                        <td id=\"T_770c4ee8_48ba_11eb_8a0b_985aeb8da1aarow18_col5\" class=\"data row18 col5\" >0.824535</td>\n",
       "            </tr>\n",
       "            <tr>\n",
       "                                <td id=\"T_770c4ee8_48ba_11eb_8a0b_985aeb8da1aarow19_col0\" class=\"data row19 col0\" >1048</td>\n",
       "                        <td id=\"T_770c4ee8_48ba_11eb_8a0b_985aeb8da1aarow19_col1\" class=\"data row19 col1\" >folds_train_combined</td>\n",
       "                        <td id=\"T_770c4ee8_48ba_11eb_8a0b_985aeb8da1aarow19_col2\" class=\"data row19 col2\" >0.943296</td>\n",
       "                        <td id=\"T_770c4ee8_48ba_11eb_8a0b_985aeb8da1aarow19_col3\" class=\"data row19 col3\" >0.058665</td>\n",
       "                        <td id=\"T_770c4ee8_48ba_11eb_8a0b_985aeb8da1aarow19_col4\" class=\"data row19 col4\" >0.058665</td>\n",
       "                        <td id=\"T_770c4ee8_48ba_11eb_8a0b_985aeb8da1aarow19_col5\" class=\"data row19 col5\" >0.941335</td>\n",
       "            </tr>\n",
       "            <tr>\n",
       "                                <td id=\"T_770c4ee8_48ba_11eb_8a0b_985aeb8da1aarow20_col0\" class=\"data row20 col0\" >1048</td>\n",
       "                        <td id=\"T_770c4ee8_48ba_11eb_8a0b_985aeb8da1aarow20_col1\" class=\"data row20 col1\" >fold_validation</td>\n",
       "                        <td id=\"T_770c4ee8_48ba_11eb_8a0b_985aeb8da1aarow20_col2\" class=\"data row20 col2\" >0.661394</td>\n",
       "                        <td id=\"T_770c4ee8_48ba_11eb_8a0b_985aeb8da1aarow20_col3\" class=\"data row20 col3\" >0.321294</td>\n",
       "                        <td id=\"T_770c4ee8_48ba_11eb_8a0b_985aeb8da1aarow20_col4\" class=\"data row20 col4\" >0.321294</td>\n",
       "                        <td id=\"T_770c4ee8_48ba_11eb_8a0b_985aeb8da1aarow20_col5\" class=\"data row20 col5\" >0.654356</td>\n",
       "            </tr>\n",
       "            <tr>\n",
       "                                <td id=\"T_770c4ee8_48ba_11eb_8a0b_985aeb8da1aarow21_col0\" class=\"data row21 col0\" >1049</td>\n",
       "                        <td id=\"T_770c4ee8_48ba_11eb_8a0b_985aeb8da1aarow21_col1\" class=\"data row21 col1\" >test</td>\n",
       "                        <td id=\"T_770c4ee8_48ba_11eb_8a0b_985aeb8da1aarow21_col2\" class=\"data row21 col2\" >0.784594</td>\n",
       "                        <td id=\"T_770c4ee8_48ba_11eb_8a0b_985aeb8da1aarow21_col3\" class=\"data row21 col3\" >0.228190</td>\n",
       "                        <td id=\"T_770c4ee8_48ba_11eb_8a0b_985aeb8da1aarow21_col4\" class=\"data row21 col4\" >0.228190</td>\n",
       "                        <td id=\"T_770c4ee8_48ba_11eb_8a0b_985aeb8da1aarow21_col5\" class=\"data row21 col5\" >0.767253</td>\n",
       "            </tr>\n",
       "            <tr>\n",
       "                                <td id=\"T_770c4ee8_48ba_11eb_8a0b_985aeb8da1aarow22_col0\" class=\"data row22 col0\" >1049</td>\n",
       "                        <td id=\"T_770c4ee8_48ba_11eb_8a0b_985aeb8da1aarow22_col1\" class=\"data row22 col1\" >folds_train_combined</td>\n",
       "                        <td id=\"T_770c4ee8_48ba_11eb_8a0b_985aeb8da1aarow22_col2\" class=\"data row22 col2\" >0.970923</td>\n",
       "                        <td id=\"T_770c4ee8_48ba_11eb_8a0b_985aeb8da1aarow22_col3\" class=\"data row22 col3\" >0.029079</td>\n",
       "                        <td id=\"T_770c4ee8_48ba_11eb_8a0b_985aeb8da1aarow22_col4\" class=\"data row22 col4\" >0.029079</td>\n",
       "                        <td id=\"T_770c4ee8_48ba_11eb_8a0b_985aeb8da1aarow22_col5\" class=\"data row22 col5\" >0.970921</td>\n",
       "            </tr>\n",
       "            <tr>\n",
       "                                <td id=\"T_770c4ee8_48ba_11eb_8a0b_985aeb8da1aarow23_col0\" class=\"data row23 col0\" >1049</td>\n",
       "                        <td id=\"T_770c4ee8_48ba_11eb_8a0b_985aeb8da1aarow23_col1\" class=\"data row23 col1\" >fold_validation</td>\n",
       "                        <td id=\"T_770c4ee8_48ba_11eb_8a0b_985aeb8da1aarow23_col2\" class=\"data row23 col2\" >0.459987</td>\n",
       "                        <td id=\"T_770c4ee8_48ba_11eb_8a0b_985aeb8da1aarow23_col3\" class=\"data row23 col3\" >0.529797</td>\n",
       "                        <td id=\"T_770c4ee8_48ba_11eb_8a0b_985aeb8da1aarow23_col4\" class=\"data row23 col4\" >0.529797</td>\n",
       "                        <td id=\"T_770c4ee8_48ba_11eb_8a0b_985aeb8da1aarow23_col5\" class=\"data row23 col5\" >0.430051</td>\n",
       "            </tr>\n",
       "            <tr>\n",
       "                                <td id=\"T_770c4ee8_48ba_11eb_8a0b_985aeb8da1aarow24_col0\" class=\"data row24 col0\" >1050</td>\n",
       "                        <td id=\"T_770c4ee8_48ba_11eb_8a0b_985aeb8da1aarow24_col1\" class=\"data row24 col1\" >test</td>\n",
       "                        <td id=\"T_770c4ee8_48ba_11eb_8a0b_985aeb8da1aarow24_col2\" class=\"data row24 col2\" >0.824601</td>\n",
       "                        <td id=\"T_770c4ee8_48ba_11eb_8a0b_985aeb8da1aarow24_col3\" class=\"data row24 col3\" >0.182526</td>\n",
       "                        <td id=\"T_770c4ee8_48ba_11eb_8a0b_985aeb8da1aarow24_col4\" class=\"data row24 col4\" >0.182526</td>\n",
       "                        <td id=\"T_770c4ee8_48ba_11eb_8a0b_985aeb8da1aarow24_col5\" class=\"data row24 col5\" >0.824481</td>\n",
       "            </tr>\n",
       "            <tr>\n",
       "                                <td id=\"T_770c4ee8_48ba_11eb_8a0b_985aeb8da1aarow25_col0\" class=\"data row25 col0\" >1050</td>\n",
       "                        <td id=\"T_770c4ee8_48ba_11eb_8a0b_985aeb8da1aarow25_col1\" class=\"data row25 col1\" >folds_train_combined</td>\n",
       "                        <td id=\"T_770c4ee8_48ba_11eb_8a0b_985aeb8da1aarow25_col2\" class=\"data row25 col2\" >0.931261</td>\n",
       "                        <td id=\"T_770c4ee8_48ba_11eb_8a0b_985aeb8da1aarow25_col3\" class=\"data row25 col3\" >0.068833</td>\n",
       "                        <td id=\"T_770c4ee8_48ba_11eb_8a0b_985aeb8da1aarow25_col4\" class=\"data row25 col4\" >0.068833</td>\n",
       "                        <td id=\"T_770c4ee8_48ba_11eb_8a0b_985aeb8da1aarow25_col5\" class=\"data row25 col5\" >0.931167</td>\n",
       "            </tr>\n",
       "            <tr>\n",
       "                                <td id=\"T_770c4ee8_48ba_11eb_8a0b_985aeb8da1aarow26_col0\" class=\"data row26 col0\" >1050</td>\n",
       "                        <td id=\"T_770c4ee8_48ba_11eb_8a0b_985aeb8da1aarow26_col1\" class=\"data row26 col1\" >fold_validation</td>\n",
       "                        <td id=\"T_770c4ee8_48ba_11eb_8a0b_985aeb8da1aarow26_col2\" class=\"data row26 col2\" >0.717683</td>\n",
       "                        <td id=\"T_770c4ee8_48ba_11eb_8a0b_985aeb8da1aarow26_col3\" class=\"data row26 col3\" >0.369576</td>\n",
       "                        <td id=\"T_770c4ee8_48ba_11eb_8a0b_985aeb8da1aarow26_col4\" class=\"data row26 col4\" >0.369576</td>\n",
       "                        <td id=\"T_770c4ee8_48ba_11eb_8a0b_985aeb8da1aarow26_col5\" class=\"data row26 col5\" >0.711952</td>\n",
       "            </tr>\n",
       "            <tr>\n",
       "                                <td id=\"T_770c4ee8_48ba_11eb_8a0b_985aeb8da1aarow27_col0\" class=\"data row27 col0\" >1051</td>\n",
       "                        <td id=\"T_770c4ee8_48ba_11eb_8a0b_985aeb8da1aarow27_col1\" class=\"data row27 col1\" >test</td>\n",
       "                        <td id=\"T_770c4ee8_48ba_11eb_8a0b_985aeb8da1aarow27_col2\" class=\"data row27 col2\" >0.805453</td>\n",
       "                        <td id=\"T_770c4ee8_48ba_11eb_8a0b_985aeb8da1aarow27_col3\" class=\"data row27 col3\" >0.205120</td>\n",
       "                        <td id=\"T_770c4ee8_48ba_11eb_8a0b_985aeb8da1aarow27_col4\" class=\"data row27 col4\" >0.205120</td>\n",
       "                        <td id=\"T_770c4ee8_48ba_11eb_8a0b_985aeb8da1aarow27_col5\" class=\"data row27 col5\" >0.802754</td>\n",
       "            </tr>\n",
       "            <tr>\n",
       "                                <td id=\"T_770c4ee8_48ba_11eb_8a0b_985aeb8da1aarow28_col0\" class=\"data row28 col0\" >1051</td>\n",
       "                        <td id=\"T_770c4ee8_48ba_11eb_8a0b_985aeb8da1aarow28_col1\" class=\"data row28 col1\" >folds_train_combined</td>\n",
       "                        <td id=\"T_770c4ee8_48ba_11eb_8a0b_985aeb8da1aarow28_col2\" class=\"data row28 col2\" >0.957337</td>\n",
       "                        <td id=\"T_770c4ee8_48ba_11eb_8a0b_985aeb8da1aarow28_col3\" class=\"data row28 col3\" >0.046548</td>\n",
       "                        <td id=\"T_770c4ee8_48ba_11eb_8a0b_985aeb8da1aarow28_col4\" class=\"data row28 col4\" >0.046548</td>\n",
       "                        <td id=\"T_770c4ee8_48ba_11eb_8a0b_985aeb8da1aarow28_col5\" class=\"data row28 col5\" >0.953452</td>\n",
       "            </tr>\n",
       "            <tr>\n",
       "                                <td id=\"T_770c4ee8_48ba_11eb_8a0b_985aeb8da1aarow29_col0\" class=\"data row29 col0\" >1051</td>\n",
       "                        <td id=\"T_770c4ee8_48ba_11eb_8a0b_985aeb8da1aarow29_col1\" class=\"data row29 col1\" >fold_validation</td>\n",
       "                        <td id=\"T_770c4ee8_48ba_11eb_8a0b_985aeb8da1aarow29_col2\" class=\"data row29 col2\" >0.640772</td>\n",
       "                        <td id=\"T_770c4ee8_48ba_11eb_8a0b_985aeb8da1aarow29_col3\" class=\"data row29 col3\" >0.483762</td>\n",
       "                        <td id=\"T_770c4ee8_48ba_11eb_8a0b_985aeb8da1aarow29_col4\" class=\"data row29 col4\" >0.483762</td>\n",
       "                        <td id=\"T_770c4ee8_48ba_11eb_8a0b_985aeb8da1aarow29_col5\" class=\"data row29 col5\" >0.622956</td>\n",
       "            </tr>\n",
       "            <tr>\n",
       "                                <td id=\"T_770c4ee8_48ba_11eb_8a0b_985aeb8da1aarow30_col0\" class=\"data row30 col0\" >1052</td>\n",
       "                        <td id=\"T_770c4ee8_48ba_11eb_8a0b_985aeb8da1aarow30_col1\" class=\"data row30 col1\" >test</td>\n",
       "                        <td id=\"T_770c4ee8_48ba_11eb_8a0b_985aeb8da1aarow30_col2\" class=\"data row30 col2\" >0.835539</td>\n",
       "                        <td id=\"T_770c4ee8_48ba_11eb_8a0b_985aeb8da1aarow30_col3\" class=\"data row30 col3\" >0.171952</td>\n",
       "                        <td id=\"T_770c4ee8_48ba_11eb_8a0b_985aeb8da1aarow30_col4\" class=\"data row30 col4\" >0.171952</td>\n",
       "                        <td id=\"T_770c4ee8_48ba_11eb_8a0b_985aeb8da1aarow30_col5\" class=\"data row30 col5\" >0.834650</td>\n",
       "            </tr>\n",
       "            <tr>\n",
       "                                <td id=\"T_770c4ee8_48ba_11eb_8a0b_985aeb8da1aarow31_col0\" class=\"data row31 col0\" >1052</td>\n",
       "                        <td id=\"T_770c4ee8_48ba_11eb_8a0b_985aeb8da1aarow31_col1\" class=\"data row31 col1\" >folds_train_combined</td>\n",
       "                        <td id=\"T_770c4ee8_48ba_11eb_8a0b_985aeb8da1aarow31_col2\" class=\"data row31 col2\" >0.957531</td>\n",
       "                        <td id=\"T_770c4ee8_48ba_11eb_8a0b_985aeb8da1aarow31_col3\" class=\"data row31 col3\" >0.043077</td>\n",
       "                        <td id=\"T_770c4ee8_48ba_11eb_8a0b_985aeb8da1aarow31_col4\" class=\"data row31 col4\" >0.043077</td>\n",
       "                        <td id=\"T_770c4ee8_48ba_11eb_8a0b_985aeb8da1aarow31_col5\" class=\"data row31 col5\" >0.956923</td>\n",
       "            </tr>\n",
       "            <tr>\n",
       "                                <td id=\"T_770c4ee8_48ba_11eb_8a0b_985aeb8da1aarow32_col0\" class=\"data row32 col0\" >1052</td>\n",
       "                        <td id=\"T_770c4ee8_48ba_11eb_8a0b_985aeb8da1aarow32_col1\" class=\"data row32 col1\" >fold_validation</td>\n",
       "                        <td id=\"T_770c4ee8_48ba_11eb_8a0b_985aeb8da1aarow32_col2\" class=\"data row32 col2\" >0.669373</td>\n",
       "                        <td id=\"T_770c4ee8_48ba_11eb_8a0b_985aeb8da1aarow32_col3\" class=\"data row32 col3\" >0.428017</td>\n",
       "                        <td id=\"T_770c4ee8_48ba_11eb_8a0b_985aeb8da1aarow32_col4\" class=\"data row32 col4\" >0.428017</td>\n",
       "                        <td id=\"T_770c4ee8_48ba_11eb_8a0b_985aeb8da1aarow32_col5\" class=\"data row32 col5\" >0.666403</td>\n",
       "            </tr>\n",
       "            <tr>\n",
       "                                <td id=\"T_770c4ee8_48ba_11eb_8a0b_985aeb8da1aarow33_col0\" class=\"data row33 col0\" >1053</td>\n",
       "                        <td id=\"T_770c4ee8_48ba_11eb_8a0b_985aeb8da1aarow33_col1\" class=\"data row33 col1\" >test</td>\n",
       "                        <td id=\"T_770c4ee8_48ba_11eb_8a0b_985aeb8da1aarow33_col2\" class=\"data row33 col2\" >0.786366</td>\n",
       "                        <td id=\"T_770c4ee8_48ba_11eb_8a0b_985aeb8da1aarow33_col3\" class=\"data row33 col3\" >0.222273</td>\n",
       "                        <td id=\"T_770c4ee8_48ba_11eb_8a0b_985aeb8da1aarow33_col4\" class=\"data row33 col4\" >0.222273</td>\n",
       "                        <td id=\"T_770c4ee8_48ba_11eb_8a0b_985aeb8da1aarow33_col5\" class=\"data row33 col5\" >0.786260</td>\n",
       "            </tr>\n",
       "            <tr>\n",
       "                                <td id=\"T_770c4ee8_48ba_11eb_8a0b_985aeb8da1aarow34_col0\" class=\"data row34 col0\" >1053</td>\n",
       "                        <td id=\"T_770c4ee8_48ba_11eb_8a0b_985aeb8da1aarow34_col1\" class=\"data row34 col1\" >folds_train_combined</td>\n",
       "                        <td id=\"T_770c4ee8_48ba_11eb_8a0b_985aeb8da1aarow34_col2\" class=\"data row34 col2\" >0.970901</td>\n",
       "                        <td id=\"T_770c4ee8_48ba_11eb_8a0b_985aeb8da1aarow34_col3\" class=\"data row34 col3\" >0.029153</td>\n",
       "                        <td id=\"T_770c4ee8_48ba_11eb_8a0b_985aeb8da1aarow34_col4\" class=\"data row34 col4\" >0.029153</td>\n",
       "                        <td id=\"T_770c4ee8_48ba_11eb_8a0b_985aeb8da1aarow34_col5\" class=\"data row34 col5\" >0.970847</td>\n",
       "            </tr>\n",
       "            <tr>\n",
       "                                <td id=\"T_770c4ee8_48ba_11eb_8a0b_985aeb8da1aarow35_col0\" class=\"data row35 col0\" >1053</td>\n",
       "                        <td id=\"T_770c4ee8_48ba_11eb_8a0b_985aeb8da1aarow35_col1\" class=\"data row35 col1\" >fold_validation</td>\n",
       "                        <td id=\"T_770c4ee8_48ba_11eb_8a0b_985aeb8da1aarow35_col2\" class=\"data row35 col2\" >0.578704</td>\n",
       "                        <td id=\"T_770c4ee8_48ba_11eb_8a0b_985aeb8da1aarow35_col3\" class=\"data row35 col3\" >0.550322</td>\n",
       "                        <td id=\"T_770c4ee8_48ba_11eb_8a0b_985aeb8da1aarow35_col4\" class=\"data row35 col4\" >0.550322</td>\n",
       "                        <td id=\"T_770c4ee8_48ba_11eb_8a0b_985aeb8da1aarow35_col5\" class=\"data row35 col5\" >0.571078</td>\n",
       "            </tr>\n",
       "            <tr>\n",
       "                                <td id=\"T_770c4ee8_48ba_11eb_8a0b_985aeb8da1aarow36_col0\" class=\"data row36 col0\" >1054</td>\n",
       "                        <td id=\"T_770c4ee8_48ba_11eb_8a0b_985aeb8da1aarow36_col1\" class=\"data row36 col1\" >test</td>\n",
       "                        <td id=\"T_770c4ee8_48ba_11eb_8a0b_985aeb8da1aarow36_col2\" class=\"data row36 col2\" >0.822550</td>\n",
       "                        <td id=\"T_770c4ee8_48ba_11eb_8a0b_985aeb8da1aarow36_col3\" class=\"data row36 col3\" >0.184652</td>\n",
       "                        <td id=\"T_770c4ee8_48ba_11eb_8a0b_985aeb8da1aarow36_col4\" class=\"data row36 col4\" >0.184652</td>\n",
       "                        <td id=\"T_770c4ee8_48ba_11eb_8a0b_985aeb8da1aarow36_col5\" class=\"data row36 col5\" >0.822436</td>\n",
       "            </tr>\n",
       "            <tr>\n",
       "                                <td id=\"T_770c4ee8_48ba_11eb_8a0b_985aeb8da1aarow37_col0\" class=\"data row37 col0\" >1054</td>\n",
       "                        <td id=\"T_770c4ee8_48ba_11eb_8a0b_985aeb8da1aarow37_col1\" class=\"data row37 col1\" >folds_train_combined</td>\n",
       "                        <td id=\"T_770c4ee8_48ba_11eb_8a0b_985aeb8da1aarow37_col2\" class=\"data row37 col2\" >0.937981</td>\n",
       "                        <td id=\"T_770c4ee8_48ba_11eb_8a0b_985aeb8da1aarow37_col3\" class=\"data row37 col3\" >0.062019</td>\n",
       "                        <td id=\"T_770c4ee8_48ba_11eb_8a0b_985aeb8da1aarow37_col4\" class=\"data row37 col4\" >0.062019</td>\n",
       "                        <td id=\"T_770c4ee8_48ba_11eb_8a0b_985aeb8da1aarow37_col5\" class=\"data row37 col5\" >0.937981</td>\n",
       "            </tr>\n",
       "            <tr>\n",
       "                                <td id=\"T_770c4ee8_48ba_11eb_8a0b_985aeb8da1aarow38_col0\" class=\"data row38 col0\" >1054</td>\n",
       "                        <td id=\"T_770c4ee8_48ba_11eb_8a0b_985aeb8da1aarow38_col1\" class=\"data row38 col1\" >fold_validation</td>\n",
       "                        <td id=\"T_770c4ee8_48ba_11eb_8a0b_985aeb8da1aarow38_col2\" class=\"data row38 col2\" >0.702828</td>\n",
       "                        <td id=\"T_770c4ee8_48ba_11eb_8a0b_985aeb8da1aarow38_col3\" class=\"data row38 col3\" >0.392705</td>\n",
       "                        <td id=\"T_770c4ee8_48ba_11eb_8a0b_985aeb8da1aarow38_col4\" class=\"data row38 col4\" >0.392705</td>\n",
       "                        <td id=\"T_770c4ee8_48ba_11eb_8a0b_985aeb8da1aarow38_col5\" class=\"data row38 col5\" >0.693925</td>\n",
       "            </tr>\n",
       "            <tr>\n",
       "                                <td id=\"T_770c4ee8_48ba_11eb_8a0b_985aeb8da1aarow39_col0\" class=\"data row39 col0\" >1055</td>\n",
       "                        <td id=\"T_770c4ee8_48ba_11eb_8a0b_985aeb8da1aarow39_col1\" class=\"data row39 col1\" >test</td>\n",
       "                        <td id=\"T_770c4ee8_48ba_11eb_8a0b_985aeb8da1aarow39_col2\" class=\"data row39 col2\" >0.838845</td>\n",
       "                        <td id=\"T_770c4ee8_48ba_11eb_8a0b_985aeb8da1aarow39_col3\" class=\"data row39 col3\" >0.167636</td>\n",
       "                        <td id=\"T_770c4ee8_48ba_11eb_8a0b_985aeb8da1aarow39_col4\" class=\"data row39 col4\" >0.167636</td>\n",
       "                        <td id=\"T_770c4ee8_48ba_11eb_8a0b_985aeb8da1aarow39_col5\" class=\"data row39 col5\" >0.838800</td>\n",
       "            </tr>\n",
       "            <tr>\n",
       "                                <td id=\"T_770c4ee8_48ba_11eb_8a0b_985aeb8da1aarow40_col0\" class=\"data row40 col0\" >1055</td>\n",
       "                        <td id=\"T_770c4ee8_48ba_11eb_8a0b_985aeb8da1aarow40_col1\" class=\"data row40 col1\" >folds_train_combined</td>\n",
       "                        <td id=\"T_770c4ee8_48ba_11eb_8a0b_985aeb8da1aarow40_col2\" class=\"data row40 col2\" >0.966103</td>\n",
       "                        <td id=\"T_770c4ee8_48ba_11eb_8a0b_985aeb8da1aarow40_col3\" class=\"data row40 col3\" >0.034231</td>\n",
       "                        <td id=\"T_770c4ee8_48ba_11eb_8a0b_985aeb8da1aarow40_col4\" class=\"data row40 col4\" >0.034231</td>\n",
       "                        <td id=\"T_770c4ee8_48ba_11eb_8a0b_985aeb8da1aarow40_col5\" class=\"data row40 col5\" >0.965769</td>\n",
       "            </tr>\n",
       "            <tr>\n",
       "                                <td id=\"T_770c4ee8_48ba_11eb_8a0b_985aeb8da1aarow41_col0\" class=\"data row41 col0\" >1055</td>\n",
       "                        <td id=\"T_770c4ee8_48ba_11eb_8a0b_985aeb8da1aarow41_col1\" class=\"data row41 col1\" >fold_validation</td>\n",
       "                        <td id=\"T_770c4ee8_48ba_11eb_8a0b_985aeb8da1aarow41_col2\" class=\"data row41 col2\" >0.697868</td>\n",
       "                        <td id=\"T_770c4ee8_48ba_11eb_8a0b_985aeb8da1aarow41_col3\" class=\"data row41 col3\" >0.397009</td>\n",
       "                        <td id=\"T_770c4ee8_48ba_11eb_8a0b_985aeb8da1aarow41_col4\" class=\"data row41 col4\" >0.397009</td>\n",
       "                        <td id=\"T_770c4ee8_48ba_11eb_8a0b_985aeb8da1aarow41_col5\" class=\"data row41 col5\" >0.690571</td>\n",
       "            </tr>\n",
       "            <tr>\n",
       "                                <td id=\"T_770c4ee8_48ba_11eb_8a0b_985aeb8da1aarow42_col0\" class=\"data row42 col0\" >1056</td>\n",
       "                        <td id=\"T_770c4ee8_48ba_11eb_8a0b_985aeb8da1aarow42_col1\" class=\"data row42 col1\" >test</td>\n",
       "                        <td id=\"T_770c4ee8_48ba_11eb_8a0b_985aeb8da1aarow42_col2\" class=\"data row42 col2\" >0.831318</td>\n",
       "                        <td id=\"T_770c4ee8_48ba_11eb_8a0b_985aeb8da1aarow42_col3\" class=\"data row42 col3\" >0.179150</td>\n",
       "                        <td id=\"T_770c4ee8_48ba_11eb_8a0b_985aeb8da1aarow42_col4\" class=\"data row42 col4\" >0.179150</td>\n",
       "                        <td id=\"T_770c4ee8_48ba_11eb_8a0b_985aeb8da1aarow42_col5\" class=\"data row42 col5\" >0.827728</td>\n",
       "            </tr>\n",
       "            <tr>\n",
       "                                <td id=\"T_770c4ee8_48ba_11eb_8a0b_985aeb8da1aarow43_col0\" class=\"data row43 col0\" >1056</td>\n",
       "                        <td id=\"T_770c4ee8_48ba_11eb_8a0b_985aeb8da1aarow43_col1\" class=\"data row43 col1\" >folds_train_combined</td>\n",
       "                        <td id=\"T_770c4ee8_48ba_11eb_8a0b_985aeb8da1aarow43_col2\" class=\"data row43 col2\" >0.947020</td>\n",
       "                        <td id=\"T_770c4ee8_48ba_11eb_8a0b_985aeb8da1aarow43_col3\" class=\"data row43 col3\" >0.057361</td>\n",
       "                        <td id=\"T_770c4ee8_48ba_11eb_8a0b_985aeb8da1aarow43_col4\" class=\"data row43 col4\" >0.057361</td>\n",
       "                        <td id=\"T_770c4ee8_48ba_11eb_8a0b_985aeb8da1aarow43_col5\" class=\"data row43 col5\" >0.942639</td>\n",
       "            </tr>\n",
       "            <tr>\n",
       "                                <td id=\"T_770c4ee8_48ba_11eb_8a0b_985aeb8da1aarow44_col0\" class=\"data row44 col0\" >1056</td>\n",
       "                        <td id=\"T_770c4ee8_48ba_11eb_8a0b_985aeb8da1aarow44_col1\" class=\"data row44 col1\" >fold_validation</td>\n",
       "                        <td id=\"T_770c4ee8_48ba_11eb_8a0b_985aeb8da1aarow44_col2\" class=\"data row44 col2\" >0.654110</td>\n",
       "                        <td id=\"T_770c4ee8_48ba_11eb_8a0b_985aeb8da1aarow44_col3\" class=\"data row44 col3\" >0.443792</td>\n",
       "                        <td id=\"T_770c4ee8_48ba_11eb_8a0b_985aeb8da1aarow44_col4\" class=\"data row44 col4\" >0.443792</td>\n",
       "                        <td id=\"T_770c4ee8_48ba_11eb_8a0b_985aeb8da1aarow44_col5\" class=\"data row44 col5\" >0.654108</td>\n",
       "            </tr>\n",
       "            <tr>\n",
       "                                <td id=\"T_770c4ee8_48ba_11eb_8a0b_985aeb8da1aarow45_col0\" class=\"data row45 col0\" >1057</td>\n",
       "                        <td id=\"T_770c4ee8_48ba_11eb_8a0b_985aeb8da1aarow45_col1\" class=\"data row45 col1\" >test</td>\n",
       "                        <td id=\"T_770c4ee8_48ba_11eb_8a0b_985aeb8da1aarow45_col2\" class=\"data row45 col2\" >0.818403</td>\n",
       "                        <td id=\"T_770c4ee8_48ba_11eb_8a0b_985aeb8da1aarow45_col3\" class=\"data row45 col3\" >0.188941</td>\n",
       "                        <td id=\"T_770c4ee8_48ba_11eb_8a0b_985aeb8da1aarow45_col4\" class=\"data row45 col4\" >0.188941</td>\n",
       "                        <td id=\"T_770c4ee8_48ba_11eb_8a0b_985aeb8da1aarow45_col5\" class=\"data row45 col5\" >0.818313</td>\n",
       "            </tr>\n",
       "            <tr>\n",
       "                                <td id=\"T_770c4ee8_48ba_11eb_8a0b_985aeb8da1aarow46_col0\" class=\"data row46 col0\" >1057</td>\n",
       "                        <td id=\"T_770c4ee8_48ba_11eb_8a0b_985aeb8da1aarow46_col1\" class=\"data row46 col1\" >folds_train_combined</td>\n",
       "                        <td id=\"T_770c4ee8_48ba_11eb_8a0b_985aeb8da1aarow46_col2\" class=\"data row46 col2\" >0.975421</td>\n",
       "                        <td id=\"T_770c4ee8_48ba_11eb_8a0b_985aeb8da1aarow46_col3\" class=\"data row46 col3\" >0.024582</td>\n",
       "                        <td id=\"T_770c4ee8_48ba_11eb_8a0b_985aeb8da1aarow46_col4\" class=\"data row46 col4\" >0.024582</td>\n",
       "                        <td id=\"T_770c4ee8_48ba_11eb_8a0b_985aeb8da1aarow46_col5\" class=\"data row46 col5\" >0.975418</td>\n",
       "            </tr>\n",
       "            <tr>\n",
       "                                <td id=\"T_770c4ee8_48ba_11eb_8a0b_985aeb8da1aarow47_col0\" class=\"data row47 col0\" >1057</td>\n",
       "                        <td id=\"T_770c4ee8_48ba_11eb_8a0b_985aeb8da1aarow47_col1\" class=\"data row47 col1\" >fold_validation</td>\n",
       "                        <td id=\"T_770c4ee8_48ba_11eb_8a0b_985aeb8da1aarow47_col2\" class=\"data row47 col2\" >0.665668</td>\n",
       "                        <td id=\"T_770c4ee8_48ba_11eb_8a0b_985aeb8da1aarow47_col3\" class=\"data row47 col3\" >0.432662</td>\n",
       "                        <td id=\"T_770c4ee8_48ba_11eb_8a0b_985aeb8da1aarow47_col4\" class=\"data row47 col4\" >0.432663</td>\n",
       "                        <td id=\"T_770c4ee8_48ba_11eb_8a0b_985aeb8da1aarow47_col5\" class=\"data row47 col5\" >0.662782</td>\n",
       "            </tr>\n",
       "            <tr>\n",
       "                                <td id=\"T_770c4ee8_48ba_11eb_8a0b_985aeb8da1aarow48_col0\" class=\"data row48 col0\" >1058</td>\n",
       "                        <td id=\"T_770c4ee8_48ba_11eb_8a0b_985aeb8da1aarow48_col1\" class=\"data row48 col1\" >test</td>\n",
       "                        <td id=\"T_770c4ee8_48ba_11eb_8a0b_985aeb8da1aarow48_col2\" class=\"data row48 col2\" >0.832270</td>\n",
       "                        <td id=\"T_770c4ee8_48ba_11eb_8a0b_985aeb8da1aarow48_col3\" class=\"data row48 col3\" >0.163417</td>\n",
       "                        <td id=\"T_770c4ee8_48ba_11eb_8a0b_985aeb8da1aarow48_col4\" class=\"data row48 col4\" >0.163417</td>\n",
       "                        <td id=\"T_770c4ee8_48ba_11eb_8a0b_985aeb8da1aarow48_col5\" class=\"data row48 col5\" >0.830693</td>\n",
       "            </tr>\n",
       "            <tr>\n",
       "                                <td id=\"T_770c4ee8_48ba_11eb_8a0b_985aeb8da1aarow49_col0\" class=\"data row49 col0\" >1058</td>\n",
       "                        <td id=\"T_770c4ee8_48ba_11eb_8a0b_985aeb8da1aarow49_col1\" class=\"data row49 col1\" >folds_train_combined</td>\n",
       "                        <td id=\"T_770c4ee8_48ba_11eb_8a0b_985aeb8da1aarow49_col2\" class=\"data row49 col2\" >0.915353</td>\n",
       "                        <td id=\"T_770c4ee8_48ba_11eb_8a0b_985aeb8da1aarow49_col3\" class=\"data row49 col3\" >0.085333</td>\n",
       "                        <td id=\"T_770c4ee8_48ba_11eb_8a0b_985aeb8da1aarow49_col4\" class=\"data row49 col4\" >0.085333</td>\n",
       "                        <td id=\"T_770c4ee8_48ba_11eb_8a0b_985aeb8da1aarow49_col5\" class=\"data row49 col5\" >0.914667</td>\n",
       "            </tr>\n",
       "            <tr>\n",
       "                                <td id=\"T_770c4ee8_48ba_11eb_8a0b_985aeb8da1aarow50_col0\" class=\"data row50 col0\" >1058</td>\n",
       "                        <td id=\"T_770c4ee8_48ba_11eb_8a0b_985aeb8da1aarow50_col1\" class=\"data row50 col1\" >fold_validation</td>\n",
       "                        <td id=\"T_770c4ee8_48ba_11eb_8a0b_985aeb8da1aarow50_col2\" class=\"data row50 col2\" >0.675794</td>\n",
       "                        <td id=\"T_770c4ee8_48ba_11eb_8a0b_985aeb8da1aarow50_col3\" class=\"data row50 col3\" >0.285863</td>\n",
       "                        <td id=\"T_770c4ee8_48ba_11eb_8a0b_985aeb8da1aarow50_col4\" class=\"data row50 col4\" >0.285863</td>\n",
       "                        <td id=\"T_770c4ee8_48ba_11eb_8a0b_985aeb8da1aarow50_col5\" class=\"data row50 col5\" >0.675738</td>\n",
       "            </tr>\n",
       "            <tr>\n",
       "                                <td id=\"T_770c4ee8_48ba_11eb_8a0b_985aeb8da1aarow51_col0\" class=\"data row51 col0\" >1059</td>\n",
       "                        <td id=\"T_770c4ee8_48ba_11eb_8a0b_985aeb8da1aarow51_col1\" class=\"data row51 col1\" >test</td>\n",
       "                        <td id=\"T_770c4ee8_48ba_11eb_8a0b_985aeb8da1aarow51_col2\" class=\"data row51 col2\" >0.827783</td>\n",
       "                        <td id=\"T_770c4ee8_48ba_11eb_8a0b_985aeb8da1aarow51_col3\" class=\"data row51 col3\" >0.166366</td>\n",
       "                        <td id=\"T_770c4ee8_48ba_11eb_8a0b_985aeb8da1aarow51_col4\" class=\"data row51 col4\" >0.166366</td>\n",
       "                        <td id=\"T_770c4ee8_48ba_11eb_8a0b_985aeb8da1aarow51_col5\" class=\"data row51 col5\" >0.827639</td>\n",
       "            </tr>\n",
       "            <tr>\n",
       "                                <td id=\"T_770c4ee8_48ba_11eb_8a0b_985aeb8da1aarow52_col0\" class=\"data row52 col0\" >1059</td>\n",
       "                        <td id=\"T_770c4ee8_48ba_11eb_8a0b_985aeb8da1aarow52_col1\" class=\"data row52 col1\" >folds_train_combined</td>\n",
       "                        <td id=\"T_770c4ee8_48ba_11eb_8a0b_985aeb8da1aarow52_col2\" class=\"data row52 col2\" >0.959189</td>\n",
       "                        <td id=\"T_770c4ee8_48ba_11eb_8a0b_985aeb8da1aarow52_col3\" class=\"data row52 col3\" >0.048534</td>\n",
       "                        <td id=\"T_770c4ee8_48ba_11eb_8a0b_985aeb8da1aarow52_col4\" class=\"data row52 col4\" >0.048534</td>\n",
       "                        <td id=\"T_770c4ee8_48ba_11eb_8a0b_985aeb8da1aarow52_col5\" class=\"data row52 col5\" >0.951466</td>\n",
       "            </tr>\n",
       "            <tr>\n",
       "                                <td id=\"T_770c4ee8_48ba_11eb_8a0b_985aeb8da1aarow53_col0\" class=\"data row53 col0\" >1059</td>\n",
       "                        <td id=\"T_770c4ee8_48ba_11eb_8a0b_985aeb8da1aarow53_col1\" class=\"data row53 col1\" >fold_validation</td>\n",
       "                        <td id=\"T_770c4ee8_48ba_11eb_8a0b_985aeb8da1aarow53_col2\" class=\"data row53 col2\" >0.727190</td>\n",
       "                        <td id=\"T_770c4ee8_48ba_11eb_8a0b_985aeb8da1aarow53_col3\" class=\"data row53 col3\" >0.240578</td>\n",
       "                        <td id=\"T_770c4ee8_48ba_11eb_8a0b_985aeb8da1aarow53_col4\" class=\"data row53 col4\" >0.240578</td>\n",
       "                        <td id=\"T_770c4ee8_48ba_11eb_8a0b_985aeb8da1aarow53_col5\" class=\"data row53 col5\" >0.727105</td>\n",
       "            </tr>\n",
       "            <tr>\n",
       "                                <td id=\"T_770c4ee8_48ba_11eb_8a0b_985aeb8da1aarow54_col0\" class=\"data row54 col0\" >1060</td>\n",
       "                        <td id=\"T_770c4ee8_48ba_11eb_8a0b_985aeb8da1aarow54_col1\" class=\"data row54 col1\" >test</td>\n",
       "                        <td id=\"T_770c4ee8_48ba_11eb_8a0b_985aeb8da1aarow54_col2\" class=\"data row54 col2\" >0.789560</td>\n",
       "                        <td id=\"T_770c4ee8_48ba_11eb_8a0b_985aeb8da1aarow54_col3\" class=\"data row54 col3\" >0.212463</td>\n",
       "                        <td id=\"T_770c4ee8_48ba_11eb_8a0b_985aeb8da1aarow54_col4\" class=\"data row54 col4\" >0.212463</td>\n",
       "                        <td id=\"T_770c4ee8_48ba_11eb_8a0b_985aeb8da1aarow54_col5\" class=\"data row54 col5\" >0.779879</td>\n",
       "            </tr>\n",
       "            <tr>\n",
       "                                <td id=\"T_770c4ee8_48ba_11eb_8a0b_985aeb8da1aarow55_col0\" class=\"data row55 col0\" >1060</td>\n",
       "                        <td id=\"T_770c4ee8_48ba_11eb_8a0b_985aeb8da1aarow55_col1\" class=\"data row55 col1\" >folds_train_combined</td>\n",
       "                        <td id=\"T_770c4ee8_48ba_11eb_8a0b_985aeb8da1aarow55_col2\" class=\"data row55 col2\" >0.923752</td>\n",
       "                        <td id=\"T_770c4ee8_48ba_11eb_8a0b_985aeb8da1aarow55_col3\" class=\"data row55 col3\" >0.078461</td>\n",
       "                        <td id=\"T_770c4ee8_48ba_11eb_8a0b_985aeb8da1aarow55_col4\" class=\"data row55 col4\" >0.078461</td>\n",
       "                        <td id=\"T_770c4ee8_48ba_11eb_8a0b_985aeb8da1aarow55_col5\" class=\"data row55 col5\" >0.921539</td>\n",
       "            </tr>\n",
       "            <tr>\n",
       "                                <td id=\"T_770c4ee8_48ba_11eb_8a0b_985aeb8da1aarow56_col0\" class=\"data row56 col0\" >1060</td>\n",
       "                        <td id=\"T_770c4ee8_48ba_11eb_8a0b_985aeb8da1aarow56_col1\" class=\"data row56 col1\" >fold_validation</td>\n",
       "                        <td id=\"T_770c4ee8_48ba_11eb_8a0b_985aeb8da1aarow56_col2\" class=\"data row56 col2\" >0.608055</td>\n",
       "                        <td id=\"T_770c4ee8_48ba_11eb_8a0b_985aeb8da1aarow56_col3\" class=\"data row56 col3\" >0.345701</td>\n",
       "                        <td id=\"T_770c4ee8_48ba_11eb_8a0b_985aeb8da1aarow56_col4\" class=\"data row56 col4\" >0.345701</td>\n",
       "                        <td id=\"T_770c4ee8_48ba_11eb_8a0b_985aeb8da1aarow56_col5\" class=\"data row56 col5\" >0.607862</td>\n",
       "            </tr>\n",
       "            <tr>\n",
       "                                <td id=\"T_770c4ee8_48ba_11eb_8a0b_985aeb8da1aarow57_col0\" class=\"data row57 col0\" >1061</td>\n",
       "                        <td id=\"T_770c4ee8_48ba_11eb_8a0b_985aeb8da1aarow57_col1\" class=\"data row57 col1\" >test</td>\n",
       "                        <td id=\"T_770c4ee8_48ba_11eb_8a0b_985aeb8da1aarow57_col2\" class=\"data row57 col2\" >0.815099</td>\n",
       "                        <td id=\"T_770c4ee8_48ba_11eb_8a0b_985aeb8da1aarow57_col3\" class=\"data row57 col3\" >0.178599</td>\n",
       "                        <td id=\"T_770c4ee8_48ba_11eb_8a0b_985aeb8da1aarow57_col4\" class=\"data row57 col4\" >0.178599</td>\n",
       "                        <td id=\"T_770c4ee8_48ba_11eb_8a0b_985aeb8da1aarow57_col5\" class=\"data row57 col5\" >0.814964</td>\n",
       "            </tr>\n",
       "            <tr>\n",
       "                                <td id=\"T_770c4ee8_48ba_11eb_8a0b_985aeb8da1aarow58_col0\" class=\"data row58 col0\" >1061</td>\n",
       "                        <td id=\"T_770c4ee8_48ba_11eb_8a0b_985aeb8da1aarow58_col1\" class=\"data row58 col1\" >folds_train_combined</td>\n",
       "                        <td id=\"T_770c4ee8_48ba_11eb_8a0b_985aeb8da1aarow58_col2\" class=\"data row58 col2\" >0.964923</td>\n",
       "                        <td id=\"T_770c4ee8_48ba_11eb_8a0b_985aeb8da1aarow58_col3\" class=\"data row58 col3\" >0.037596</td>\n",
       "                        <td id=\"T_770c4ee8_48ba_11eb_8a0b_985aeb8da1aarow58_col4\" class=\"data row58 col4\" >0.037596</td>\n",
       "                        <td id=\"T_770c4ee8_48ba_11eb_8a0b_985aeb8da1aarow58_col5\" class=\"data row58 col5\" >0.962404</td>\n",
       "            </tr>\n",
       "            <tr>\n",
       "                                <td id=\"T_770c4ee8_48ba_11eb_8a0b_985aeb8da1aarow59_col0\" class=\"data row59 col0\" >1061</td>\n",
       "                        <td id=\"T_770c4ee8_48ba_11eb_8a0b_985aeb8da1aarow59_col1\" class=\"data row59 col1\" >fold_validation</td>\n",
       "                        <td id=\"T_770c4ee8_48ba_11eb_8a0b_985aeb8da1aarow59_col2\" class=\"data row59 col2\" >0.657911</td>\n",
       "                        <td id=\"T_770c4ee8_48ba_11eb_8a0b_985aeb8da1aarow59_col3\" class=\"data row59 col3\" >0.302207</td>\n",
       "                        <td id=\"T_770c4ee8_48ba_11eb_8a0b_985aeb8da1aarow59_col4\" class=\"data row59 col4\" >0.302207</td>\n",
       "                        <td id=\"T_770c4ee8_48ba_11eb_8a0b_985aeb8da1aarow59_col5\" class=\"data row59 col5\" >0.657198</td>\n",
       "            </tr>\n",
       "            <tr>\n",
       "                                <td id=\"T_770c4ee8_48ba_11eb_8a0b_985aeb8da1aarow60_col0\" class=\"data row60 col0\" >1062</td>\n",
       "                        <td id=\"T_770c4ee8_48ba_11eb_8a0b_985aeb8da1aarow60_col1\" class=\"data row60 col1\" >test</td>\n",
       "                        <td id=\"T_770c4ee8_48ba_11eb_8a0b_985aeb8da1aarow60_col2\" class=\"data row60 col2\" >0.835041</td>\n",
       "                        <td id=\"T_770c4ee8_48ba_11eb_8a0b_985aeb8da1aarow60_col3\" class=\"data row60 col3\" >0.159238</td>\n",
       "                        <td id=\"T_770c4ee8_48ba_11eb_8a0b_985aeb8da1aarow60_col4\" class=\"data row60 col4\" >0.159239</td>\n",
       "                        <td id=\"T_770c4ee8_48ba_11eb_8a0b_985aeb8da1aarow60_col5\" class=\"data row60 col5\" >0.835023</td>\n",
       "            </tr>\n",
       "            <tr>\n",
       "                                <td id=\"T_770c4ee8_48ba_11eb_8a0b_985aeb8da1aarow61_col0\" class=\"data row61 col0\" >1062</td>\n",
       "                        <td id=\"T_770c4ee8_48ba_11eb_8a0b_985aeb8da1aarow61_col1\" class=\"data row61 col1\" >folds_train_combined</td>\n",
       "                        <td id=\"T_770c4ee8_48ba_11eb_8a0b_985aeb8da1aarow61_col2\" class=\"data row61 col2\" >0.903399</td>\n",
       "                        <td id=\"T_770c4ee8_48ba_11eb_8a0b_985aeb8da1aarow61_col3\" class=\"data row61 col3\" >0.099124</td>\n",
       "                        <td id=\"T_770c4ee8_48ba_11eb_8a0b_985aeb8da1aarow61_col4\" class=\"data row61 col4\" >0.099124</td>\n",
       "                        <td id=\"T_770c4ee8_48ba_11eb_8a0b_985aeb8da1aarow61_col5\" class=\"data row61 col5\" >0.900876</td>\n",
       "            </tr>\n",
       "            <tr>\n",
       "                                <td id=\"T_770c4ee8_48ba_11eb_8a0b_985aeb8da1aarow62_col0\" class=\"data row62 col0\" >1062</td>\n",
       "                        <td id=\"T_770c4ee8_48ba_11eb_8a0b_985aeb8da1aarow62_col1\" class=\"data row62 col1\" >fold_validation</td>\n",
       "                        <td id=\"T_770c4ee8_48ba_11eb_8a0b_985aeb8da1aarow62_col2\" class=\"data row62 col2\" >0.777362</td>\n",
       "                        <td id=\"T_770c4ee8_48ba_11eb_8a0b_985aeb8da1aarow62_col3\" class=\"data row62 col3\" >0.196657</td>\n",
       "                        <td id=\"T_770c4ee8_48ba_11eb_8a0b_985aeb8da1aarow62_col4\" class=\"data row62 col4\" >0.196657</td>\n",
       "                        <td id=\"T_770c4ee8_48ba_11eb_8a0b_985aeb8da1aarow62_col5\" class=\"data row62 col5\" >0.776926</td>\n",
       "            </tr>\n",
       "    </tbody></table>"
      ],
      "text/plain": [
       "<pandas.io.formats.style.Styler at 0x153b9d9d0>"
      ]
     },
     "execution_count": 171,
     "metadata": {},
     "output_type": "execute_result"
    }
   ],
   "source": [
    "batch.metrics_to_pandas()"
   ]
  },
  {
   "cell_type": "code",
   "execution_count": 172,
   "metadata": {},
   "outputs": [
    {
     "data": {
      "text/html": [
       "<style  type=\"text/css\" >\n",
       "</style><table id=\"T_7afa5608_48ba_11eb_8a0b_985aeb8da1aa\" ><thead>    <tr>        <th class=\"col_heading level0 col0\" >param</th>        <th class=\"col_heading level0 col1\" >value</th>    </tr></thead><tbody>\n",
       "                <tr>\n",
       "                                <td id=\"T_7afa5608_48ba_11eb_8a0b_985aeb8da1aarow0_col0\" class=\"data row0 col0\" >batch_size</td>\n",
       "                        <td id=\"T_7afa5608_48ba_11eb_8a0b_985aeb8da1aarow0_col1\" class=\"data row0 col1\" >5</td>\n",
       "            </tr>\n",
       "            <tr>\n",
       "                                <td id=\"T_7afa5608_48ba_11eb_8a0b_985aeb8da1aarow1_col0\" class=\"data row1 col0\" >2nd_dropout</td>\n",
       "                        <td id=\"T_7afa5608_48ba_11eb_8a0b_985aeb8da1aarow1_col1\" class=\"data row1 col1\" >True</td>\n",
       "            </tr>\n",
       "            <tr>\n",
       "                                <td id=\"T_7afa5608_48ba_11eb_8a0b_985aeb8da1aarow2_col0\" class=\"data row2 col0\" >epoch_count</td>\n",
       "                        <td id=\"T_7afa5608_48ba_11eb_8a0b_985aeb8da1aarow2_col1\" class=\"data row2 col1\" >500</td>\n",
       "            </tr>\n",
       "            <tr>\n",
       "                                <td id=\"T_7afa5608_48ba_11eb_8a0b_985aeb8da1aarow3_col0\" class=\"data row3 col0\" >neuron_count</td>\n",
       "                        <td id=\"T_7afa5608_48ba_11eb_8a0b_985aeb8da1aarow3_col1\" class=\"data row3 col1\" >32</td>\n",
       "            </tr>\n",
       "            <tr>\n",
       "                                <td id=\"T_7afa5608_48ba_11eb_8a0b_985aeb8da1aarow4_col0\" class=\"data row4 col0\" >learning_rate</td>\n",
       "                        <td id=\"T_7afa5608_48ba_11eb_8a0b_985aeb8da1aarow4_col1\" class=\"data row4 col1\" >0.010000</td>\n",
       "            </tr>\n",
       "    </tbody></table>"
      ],
      "text/plain": [
       "<pandas.io.formats.style.Styler at 0x152719590>"
      ]
     },
     "execution_count": 172,
     "metadata": {},
     "output_type": "execute_result"
    }
   ],
   "source": [
    "aiqc.Job.get_by_id(1062).hyperparamcombo.hyperparameters_to_pandas()"
   ]
  },
  {
   "cell_type": "code",
   "execution_count": 120,
   "metadata": {},
   "outputs": [
    {
     "data": {
      "text/html": [
       "<style  type=\"text/css\" >\n",
       "</style><table id=\"T_d299c774_48b3_11eb_8a0b_985aeb8da1aa\" ><thead>    <tr>        <th class=\"col_heading level0 col0\" >param</th>        <th class=\"col_heading level0 col1\" >value</th>    </tr></thead><tbody>\n",
       "                <tr>\n",
       "                                <td id=\"T_d299c774_48b3_11eb_8a0b_985aeb8da1aarow0_col0\" class=\"data row0 col0\" >batch_size</td>\n",
       "                        <td id=\"T_d299c774_48b3_11eb_8a0b_985aeb8da1aarow0_col1\" class=\"data row0 col1\" >5</td>\n",
       "            </tr>\n",
       "            <tr>\n",
       "                                <td id=\"T_d299c774_48b3_11eb_8a0b_985aeb8da1aarow1_col0\" class=\"data row1 col0\" >2nd_dropout</td>\n",
       "                        <td id=\"T_d299c774_48b3_11eb_8a0b_985aeb8da1aarow1_col1\" class=\"data row1 col1\" >True</td>\n",
       "            </tr>\n",
       "            <tr>\n",
       "                                <td id=\"T_d299c774_48b3_11eb_8a0b_985aeb8da1aarow2_col0\" class=\"data row2 col0\" >epoch_count</td>\n",
       "                        <td id=\"T_d299c774_48b3_11eb_8a0b_985aeb8da1aarow2_col1\" class=\"data row2 col1\" >200</td>\n",
       "            </tr>\n",
       "            <tr>\n",
       "                                <td id=\"T_d299c774_48b3_11eb_8a0b_985aeb8da1aarow3_col0\" class=\"data row3 col0\" >neuron_count</td>\n",
       "                        <td id=\"T_d299c774_48b3_11eb_8a0b_985aeb8da1aarow3_col1\" class=\"data row3 col1\" >64</td>\n",
       "            </tr>\n",
       "            <tr>\n",
       "                                <td id=\"T_d299c774_48b3_11eb_8a0b_985aeb8da1aarow4_col0\" class=\"data row4 col0\" >learning_rate</td>\n",
       "                        <td id=\"T_d299c774_48b3_11eb_8a0b_985aeb8da1aarow4_col1\" class=\"data row4 col1\" >0.010000</td>\n",
       "            </tr>\n",
       "    </tbody></table>"
      ],
      "text/plain": [
       "<pandas.io.formats.style.Styler at 0x152a39490>"
      ]
     },
     "execution_count": 120,
     "metadata": {},
     "output_type": "execute_result"
    }
   ],
   "source": [
    "aiqc.Job.get_by_id(826).hyperparamcombo.hyperparameters_to_pandas()"
   ]
  },
  {
   "cell_type": "code",
   "execution_count": 176,
   "metadata": {},
   "outputs": [
    {
     "data": {
      "application/vnd.plotly.v1+json": {
       "config": {
        "plotlyServerURL": "https://plot.ly"
       },
       "data": [
        {
         "customdata": [
          [
           1062,
           "test",
           0.159,
           0.835
          ],
          [
           1062,
           "folds_train_combined",
           0.099,
           0.901
          ],
          [
           1062,
           "fold_validation",
           0.197,
           0.777
          ]
         ],
         "hovertemplate": "job_id=%{customdata[0]}<br>loss=%{customdata[2]}<br>r2=%{customdata[3]}<br>split=%{customdata[1]}<extra></extra>",
         "legendgroup": "1062",
         "line": {
          "color": "#636efa",
          "dash": "solid",
          "shape": "spline",
          "width": 2
         },
         "marker": {
          "line": {
           "color": "white",
           "width": 2
          },
          "size": 8
         },
         "mode": "markers+lines",
         "name": "1062",
         "orientation": "v",
         "showlegend": true,
         "type": "scatter",
         "x": [
          0.159,
          0.099,
          0.197
         ],
         "xaxis": "x",
         "y": [
          0.835,
          0.901,
          0.777
         ],
         "yaxis": "y"
        },
        {
         "customdata": [
          [
           1066,
           "test",
           0.155,
           0.843
          ],
          [
           1066,
           "folds_train_combined",
           0.091,
           0.909
          ],
          [
           1066,
           "fold_validation",
           0.198,
           0.807
          ]
         ],
         "hovertemplate": "job_id=%{customdata[0]}<br>loss=%{customdata[2]}<br>r2=%{customdata[3]}<br>split=%{customdata[1]}<extra></extra>",
         "legendgroup": "1066",
         "line": {
          "color": "#EF553B",
          "dash": "solid",
          "shape": "spline",
          "width": 2
         },
         "marker": {
          "line": {
           "color": "white",
           "width": 2
          },
          "size": 8
         },
         "mode": "markers+lines",
         "name": "1066",
         "orientation": "v",
         "showlegend": true,
         "type": "scatter",
         "x": [
          0.155,
          0.091,
          0.198
         ],
         "xaxis": "x",
         "y": [
          0.843,
          0.909,
          0.807
         ],
         "yaxis": "y"
        },
        {
         "customdata": [
          [
           1068,
           "test",
           0.188,
           0.81
          ],
          [
           1068,
           "folds_train_combined",
           0.14,
           0.86
          ],
          [
           1068,
           "fold_validation",
           0.196,
           0.809
          ]
         ],
         "hovertemplate": "job_id=%{customdata[0]}<br>loss=%{customdata[2]}<br>r2=%{customdata[3]}<br>split=%{customdata[1]}<extra></extra>",
         "legendgroup": "1068",
         "line": {
          "color": "#00cc96",
          "dash": "solid",
          "shape": "spline",
          "width": 2
         },
         "marker": {
          "line": {
           "color": "white",
           "width": 2
          },
          "size": 8
         },
         "mode": "markers+lines",
         "name": "1068",
         "orientation": "v",
         "showlegend": true,
         "type": "scatter",
         "x": [
          0.188,
          0.14,
          0.196
         ],
         "xaxis": "x",
         "y": [
          0.81,
          0.86,
          0.809
         ],
         "yaxis": "y"
        },
        {
         "customdata": [
          [
           1069,
           "test",
           0.184,
           0.814
          ],
          [
           1069,
           "folds_train_combined",
           0.171,
           0.829
          ],
          [
           1069,
           "fold_validation",
           0.2,
           0.805
          ]
         ],
         "hovertemplate": "job_id=%{customdata[0]}<br>loss=%{customdata[2]}<br>r2=%{customdata[3]}<br>split=%{customdata[1]}<extra></extra>",
         "legendgroup": "1069",
         "line": {
          "color": "#ab63fa",
          "dash": "solid",
          "shape": "spline",
          "width": 2
         },
         "marker": {
          "line": {
           "color": "white",
           "width": 2
          },
          "size": 8
         },
         "mode": "markers+lines",
         "name": "1069",
         "orientation": "v",
         "showlegend": true,
         "type": "scatter",
         "x": [
          0.184,
          0.171,
          0.2
         ],
         "xaxis": "x",
         "y": [
          0.814,
          0.829,
          0.805
         ],
         "yaxis": "y"
        },
        {
         "customdata": [
          [
           1071,
           "test",
           0.164,
           0.834
          ],
          [
           1071,
           "folds_train_combined",
           0.139,
           0.861
          ],
          [
           1071,
           "fold_validation",
           0.197,
           0.808
          ]
         ],
         "hovertemplate": "job_id=%{customdata[0]}<br>loss=%{customdata[2]}<br>r2=%{customdata[3]}<br>split=%{customdata[1]}<extra></extra>",
         "legendgroup": "1071",
         "line": {
          "color": "#FFA15A",
          "dash": "solid",
          "shape": "spline",
          "width": 2
         },
         "marker": {
          "line": {
           "color": "white",
           "width": 2
          },
          "size": 8
         },
         "mode": "markers+lines",
         "name": "1071",
         "orientation": "v",
         "showlegend": true,
         "type": "scatter",
         "x": [
          0.164,
          0.139,
          0.197
         ],
         "xaxis": "x",
         "y": [
          0.834,
          0.861,
          0.808
         ],
         "yaxis": "y"
        },
        {
         "customdata": [
          [
           1074,
           "test",
           0.151,
           0.841
          ],
          [
           1074,
           "folds_train_combined",
           0.132,
           0.868
          ],
          [
           1074,
           "fold_validation",
           0.194,
           0.766
          ]
         ],
         "hovertemplate": "job_id=%{customdata[0]}<br>loss=%{customdata[2]}<br>r2=%{customdata[3]}<br>split=%{customdata[1]}<extra></extra>",
         "legendgroup": "1074",
         "line": {
          "color": "#19d3f3",
          "dash": "solid",
          "shape": "spline",
          "width": 2
         },
         "marker": {
          "line": {
           "color": "white",
           "width": 2
          },
          "size": 8
         },
         "mode": "markers+lines",
         "name": "1074",
         "orientation": "v",
         "showlegend": true,
         "type": "scatter",
         "x": [
          0.151,
          0.132,
          0.194
         ],
         "xaxis": "x",
         "y": [
          0.841,
          0.868,
          0.766
         ],
         "yaxis": "y"
        }
       ],
       "layout": {
        "autosize": true,
        "font": {
         "color": "#FAFAFA",
         "family": "Avenir"
        },
        "hoverlabel": {
         "bgcolor": "#0F0F0F",
         "font": {
          "family": "Avenir",
          "size": 15
         }
        },
        "legend": {
         "title": {
          "text": "job_id"
         },
         "tracegroupgap": 0
        },
        "paper_bgcolor": "#181B1E",
        "plot_bgcolor": "#181B1E",
        "template": {
         "data": {
          "bar": [
           {
            "error_x": {
             "color": "#2a3f5f"
            },
            "error_y": {
             "color": "#2a3f5f"
            },
            "marker": {
             "line": {
              "color": "#E5ECF6",
              "width": 0.5
             }
            },
            "type": "bar"
           }
          ],
          "barpolar": [
           {
            "marker": {
             "line": {
              "color": "#E5ECF6",
              "width": 0.5
             }
            },
            "type": "barpolar"
           }
          ],
          "carpet": [
           {
            "aaxis": {
             "endlinecolor": "#2a3f5f",
             "gridcolor": "white",
             "linecolor": "white",
             "minorgridcolor": "white",
             "startlinecolor": "#2a3f5f"
            },
            "baxis": {
             "endlinecolor": "#2a3f5f",
             "gridcolor": "white",
             "linecolor": "white",
             "minorgridcolor": "white",
             "startlinecolor": "#2a3f5f"
            },
            "type": "carpet"
           }
          ],
          "choropleth": [
           {
            "colorbar": {
             "outlinewidth": 0,
             "ticks": ""
            },
            "type": "choropleth"
           }
          ],
          "contour": [
           {
            "colorbar": {
             "outlinewidth": 0,
             "ticks": ""
            },
            "colorscale": [
             [
              0,
              "#0d0887"
             ],
             [
              0.1111111111111111,
              "#46039f"
             ],
             [
              0.2222222222222222,
              "#7201a8"
             ],
             [
              0.3333333333333333,
              "#9c179e"
             ],
             [
              0.4444444444444444,
              "#bd3786"
             ],
             [
              0.5555555555555556,
              "#d8576b"
             ],
             [
              0.6666666666666666,
              "#ed7953"
             ],
             [
              0.7777777777777778,
              "#fb9f3a"
             ],
             [
              0.8888888888888888,
              "#fdca26"
             ],
             [
              1,
              "#f0f921"
             ]
            ],
            "type": "contour"
           }
          ],
          "contourcarpet": [
           {
            "colorbar": {
             "outlinewidth": 0,
             "ticks": ""
            },
            "type": "contourcarpet"
           }
          ],
          "heatmap": [
           {
            "colorbar": {
             "outlinewidth": 0,
             "ticks": ""
            },
            "colorscale": [
             [
              0,
              "#0d0887"
             ],
             [
              0.1111111111111111,
              "#46039f"
             ],
             [
              0.2222222222222222,
              "#7201a8"
             ],
             [
              0.3333333333333333,
              "#9c179e"
             ],
             [
              0.4444444444444444,
              "#bd3786"
             ],
             [
              0.5555555555555556,
              "#d8576b"
             ],
             [
              0.6666666666666666,
              "#ed7953"
             ],
             [
              0.7777777777777778,
              "#fb9f3a"
             ],
             [
              0.8888888888888888,
              "#fdca26"
             ],
             [
              1,
              "#f0f921"
             ]
            ],
            "type": "heatmap"
           }
          ],
          "heatmapgl": [
           {
            "colorbar": {
             "outlinewidth": 0,
             "ticks": ""
            },
            "colorscale": [
             [
              0,
              "#0d0887"
             ],
             [
              0.1111111111111111,
              "#46039f"
             ],
             [
              0.2222222222222222,
              "#7201a8"
             ],
             [
              0.3333333333333333,
              "#9c179e"
             ],
             [
              0.4444444444444444,
              "#bd3786"
             ],
             [
              0.5555555555555556,
              "#d8576b"
             ],
             [
              0.6666666666666666,
              "#ed7953"
             ],
             [
              0.7777777777777778,
              "#fb9f3a"
             ],
             [
              0.8888888888888888,
              "#fdca26"
             ],
             [
              1,
              "#f0f921"
             ]
            ],
            "type": "heatmapgl"
           }
          ],
          "histogram": [
           {
            "marker": {
             "colorbar": {
              "outlinewidth": 0,
              "ticks": ""
             }
            },
            "type": "histogram"
           }
          ],
          "histogram2d": [
           {
            "colorbar": {
             "outlinewidth": 0,
             "ticks": ""
            },
            "colorscale": [
             [
              0,
              "#0d0887"
             ],
             [
              0.1111111111111111,
              "#46039f"
             ],
             [
              0.2222222222222222,
              "#7201a8"
             ],
             [
              0.3333333333333333,
              "#9c179e"
             ],
             [
              0.4444444444444444,
              "#bd3786"
             ],
             [
              0.5555555555555556,
              "#d8576b"
             ],
             [
              0.6666666666666666,
              "#ed7953"
             ],
             [
              0.7777777777777778,
              "#fb9f3a"
             ],
             [
              0.8888888888888888,
              "#fdca26"
             ],
             [
              1,
              "#f0f921"
             ]
            ],
            "type": "histogram2d"
           }
          ],
          "histogram2dcontour": [
           {
            "colorbar": {
             "outlinewidth": 0,
             "ticks": ""
            },
            "colorscale": [
             [
              0,
              "#0d0887"
             ],
             [
              0.1111111111111111,
              "#46039f"
             ],
             [
              0.2222222222222222,
              "#7201a8"
             ],
             [
              0.3333333333333333,
              "#9c179e"
             ],
             [
              0.4444444444444444,
              "#bd3786"
             ],
             [
              0.5555555555555556,
              "#d8576b"
             ],
             [
              0.6666666666666666,
              "#ed7953"
             ],
             [
              0.7777777777777778,
              "#fb9f3a"
             ],
             [
              0.8888888888888888,
              "#fdca26"
             ],
             [
              1,
              "#f0f921"
             ]
            ],
            "type": "histogram2dcontour"
           }
          ],
          "mesh3d": [
           {
            "colorbar": {
             "outlinewidth": 0,
             "ticks": ""
            },
            "type": "mesh3d"
           }
          ],
          "parcoords": [
           {
            "line": {
             "colorbar": {
              "outlinewidth": 0,
              "ticks": ""
             }
            },
            "type": "parcoords"
           }
          ],
          "pie": [
           {
            "automargin": true,
            "type": "pie"
           }
          ],
          "scatter": [
           {
            "marker": {
             "colorbar": {
              "outlinewidth": 0,
              "ticks": ""
             }
            },
            "type": "scatter"
           }
          ],
          "scatter3d": [
           {
            "line": {
             "colorbar": {
              "outlinewidth": 0,
              "ticks": ""
             }
            },
            "marker": {
             "colorbar": {
              "outlinewidth": 0,
              "ticks": ""
             }
            },
            "type": "scatter3d"
           }
          ],
          "scattercarpet": [
           {
            "marker": {
             "colorbar": {
              "outlinewidth": 0,
              "ticks": ""
             }
            },
            "type": "scattercarpet"
           }
          ],
          "scattergeo": [
           {
            "marker": {
             "colorbar": {
              "outlinewidth": 0,
              "ticks": ""
             }
            },
            "type": "scattergeo"
           }
          ],
          "scattergl": [
           {
            "marker": {
             "colorbar": {
              "outlinewidth": 0,
              "ticks": ""
             }
            },
            "type": "scattergl"
           }
          ],
          "scattermapbox": [
           {
            "marker": {
             "colorbar": {
              "outlinewidth": 0,
              "ticks": ""
             }
            },
            "type": "scattermapbox"
           }
          ],
          "scatterpolar": [
           {
            "marker": {
             "colorbar": {
              "outlinewidth": 0,
              "ticks": ""
             }
            },
            "type": "scatterpolar"
           }
          ],
          "scatterpolargl": [
           {
            "marker": {
             "colorbar": {
              "outlinewidth": 0,
              "ticks": ""
             }
            },
            "type": "scatterpolargl"
           }
          ],
          "scatterternary": [
           {
            "marker": {
             "colorbar": {
              "outlinewidth": 0,
              "ticks": ""
             }
            },
            "type": "scatterternary"
           }
          ],
          "surface": [
           {
            "colorbar": {
             "outlinewidth": 0,
             "ticks": ""
            },
            "colorscale": [
             [
              0,
              "#0d0887"
             ],
             [
              0.1111111111111111,
              "#46039f"
             ],
             [
              0.2222222222222222,
              "#7201a8"
             ],
             [
              0.3333333333333333,
              "#9c179e"
             ],
             [
              0.4444444444444444,
              "#bd3786"
             ],
             [
              0.5555555555555556,
              "#d8576b"
             ],
             [
              0.6666666666666666,
              "#ed7953"
             ],
             [
              0.7777777777777778,
              "#fb9f3a"
             ],
             [
              0.8888888888888888,
              "#fdca26"
             ],
             [
              1,
              "#f0f921"
             ]
            ],
            "type": "surface"
           }
          ],
          "table": [
           {
            "cells": {
             "fill": {
              "color": "#EBF0F8"
             },
             "line": {
              "color": "white"
             }
            },
            "header": {
             "fill": {
              "color": "#C8D4E3"
             },
             "line": {
              "color": "white"
             }
            },
            "type": "table"
           }
          ]
         },
         "layout": {
          "annotationdefaults": {
           "arrowcolor": "#2a3f5f",
           "arrowhead": 0,
           "arrowwidth": 1
          },
          "coloraxis": {
           "colorbar": {
            "outlinewidth": 0,
            "ticks": ""
           }
          },
          "colorscale": {
           "diverging": [
            [
             0,
             "#8e0152"
            ],
            [
             0.1,
             "#c51b7d"
            ],
            [
             0.2,
             "#de77ae"
            ],
            [
             0.3,
             "#f1b6da"
            ],
            [
             0.4,
             "#fde0ef"
            ],
            [
             0.5,
             "#f7f7f7"
            ],
            [
             0.6,
             "#e6f5d0"
            ],
            [
             0.7,
             "#b8e186"
            ],
            [
             0.8,
             "#7fbc41"
            ],
            [
             0.9,
             "#4d9221"
            ],
            [
             1,
             "#276419"
            ]
           ],
           "sequential": [
            [
             0,
             "#0d0887"
            ],
            [
             0.1111111111111111,
             "#46039f"
            ],
            [
             0.2222222222222222,
             "#7201a8"
            ],
            [
             0.3333333333333333,
             "#9c179e"
            ],
            [
             0.4444444444444444,
             "#bd3786"
            ],
            [
             0.5555555555555556,
             "#d8576b"
            ],
            [
             0.6666666666666666,
             "#ed7953"
            ],
            [
             0.7777777777777778,
             "#fb9f3a"
            ],
            [
             0.8888888888888888,
             "#fdca26"
            ],
            [
             1,
             "#f0f921"
            ]
           ],
           "sequentialminus": [
            [
             0,
             "#0d0887"
            ],
            [
             0.1111111111111111,
             "#46039f"
            ],
            [
             0.2222222222222222,
             "#7201a8"
            ],
            [
             0.3333333333333333,
             "#9c179e"
            ],
            [
             0.4444444444444444,
             "#bd3786"
            ],
            [
             0.5555555555555556,
             "#d8576b"
            ],
            [
             0.6666666666666666,
             "#ed7953"
            ],
            [
             0.7777777777777778,
             "#fb9f3a"
            ],
            [
             0.8888888888888888,
             "#fdca26"
            ],
            [
             1,
             "#f0f921"
            ]
           ]
          },
          "colorway": [
           "#636efa",
           "#EF553B",
           "#00cc96",
           "#ab63fa",
           "#FFA15A",
           "#19d3f3",
           "#FF6692",
           "#B6E880",
           "#FF97FF",
           "#FECB52"
          ],
          "font": {
           "color": "#2a3f5f"
          },
          "geo": {
           "bgcolor": "white",
           "lakecolor": "white",
           "landcolor": "#E5ECF6",
           "showlakes": true,
           "showland": true,
           "subunitcolor": "white"
          },
          "hoverlabel": {
           "align": "left"
          },
          "hovermode": "closest",
          "mapbox": {
           "style": "light"
          },
          "paper_bgcolor": "white",
          "plot_bgcolor": "#E5ECF6",
          "polar": {
           "angularaxis": {
            "gridcolor": "white",
            "linecolor": "white",
            "ticks": ""
           },
           "bgcolor": "#E5ECF6",
           "radialaxis": {
            "gridcolor": "white",
            "linecolor": "white",
            "ticks": ""
           }
          },
          "scene": {
           "xaxis": {
            "backgroundcolor": "#E5ECF6",
            "gridcolor": "white",
            "gridwidth": 2,
            "linecolor": "white",
            "showbackground": true,
            "ticks": "",
            "zerolinecolor": "white"
           },
           "yaxis": {
            "backgroundcolor": "#E5ECF6",
            "gridcolor": "white",
            "gridwidth": 2,
            "linecolor": "white",
            "showbackground": true,
            "ticks": "",
            "zerolinecolor": "white"
           },
           "zaxis": {
            "backgroundcolor": "#E5ECF6",
            "gridcolor": "white",
            "gridwidth": 2,
            "linecolor": "white",
            "showbackground": true,
            "ticks": "",
            "zerolinecolor": "white"
           }
          },
          "shapedefaults": {
           "line": {
            "color": "#2a3f5f"
           }
          },
          "ternary": {
           "aaxis": {
            "gridcolor": "white",
            "linecolor": "white",
            "ticks": ""
           },
           "baxis": {
            "gridcolor": "white",
            "linecolor": "white",
            "ticks": ""
           },
           "bgcolor": "#E5ECF6",
           "caxis": {
            "gridcolor": "white",
            "linecolor": "white",
            "ticks": ""
           }
          },
          "title": {
           "x": 0.05
          },
          "xaxis": {
           "automargin": true,
           "gridcolor": "white",
           "linecolor": "white",
           "ticks": "",
           "title": {
            "standoff": 15
           },
           "zerolinecolor": "white",
           "zerolinewidth": 2
          },
          "yaxis": {
           "automargin": true,
           "gridcolor": "white",
           "linecolor": "white",
           "ticks": "",
           "title": {
            "standoff": 15
           },
           "zerolinecolor": "white",
           "zerolinewidth": 2
          }
         }
        },
        "title": {
         "text": "<i>Models Metrics by Split</i>"
        },
        "xaxis": {
         "anchor": "y",
         "autorange": true,
         "domain": [
          0,
          1
         ],
         "gridcolor": "#262B2F",
         "range": [
          0.08395335515548281,
          0.2070466448445172
         ],
         "tickfont": {
          "color": "#818487"
         },
         "title": {
          "text": "Loss"
         },
         "type": "linear",
         "zeroline": false
        },
        "yaxis": {
         "anchor": "x",
         "autorange": true,
         "domain": [
          0,
          1
         ],
         "gridcolor": "#262B2F",
         "range": [
          0.7558967391304348,
          0.9191032608695653
         ],
         "tickfont": {
          "color": "#818487"
         },
         "title": {
          "text": "R²"
         },
         "type": "linear",
         "zeroline": false
        }
       }
      },
      "image/png": "[encoded data removed]",
      "text/html": [
       "<div>\n",
       "        \n",
       "        \n",
       "            <div id=\"e00aa2b1-42f8-4cf9-b6a8-444d7c68b4a4\" class=\"plotly-graph-div\" style=\"height:600px; width:100%;\"></div>\n",
       "            <script type=\"text/javascript\">\n",
       "                require([\"plotly\"], function(Plotly) {\n",
       "                    window.PLOTLYENV=window.PLOTLYENV || {};\n",
       "                    \n",
       "                if (document.getElementById(\"e00aa2b1-42f8-4cf9-b6a8-444d7c68b4a4\")) {\n",
       "                    Plotly.newPlot(\n",
       "                        'e00aa2b1-42f8-4cf9-b6a8-444d7c68b4a4',\n",
       "                        [{\"customdata\": [[1062, \"test\", 0.159, 0.835], [1062, \"folds_train_combined\", 0.099, 0.901], [1062, \"fold_validation\", 0.197, 0.777]], \"hovertemplate\": \"job_id=%{customdata[0]}<br>loss=%{customdata[2]}<br>r2=%{customdata[3]}<br>split=%{customdata[1]}<extra></extra>\", \"legendgroup\": \"1062\", \"line\": {\"color\": \"#636efa\", \"dash\": \"solid\", \"shape\": \"spline\", \"width\": 2}, \"marker\": {\"line\": {\"color\": \"white\", \"width\": 2}, \"size\": 8}, \"mode\": \"markers+lines\", \"name\": \"1062\", \"orientation\": \"v\", \"showlegend\": true, \"type\": \"scatter\", \"x\": [0.159, 0.099, 0.197], \"xaxis\": \"x\", \"y\": [0.835, 0.901, 0.777], \"yaxis\": \"y\"}, {\"customdata\": [[1066, \"test\", 0.155, 0.843], [1066, \"folds_train_combined\", 0.091, 0.909], [1066, \"fold_validation\", 0.198, 0.807]], \"hovertemplate\": \"job_id=%{customdata[0]}<br>loss=%{customdata[2]}<br>r2=%{customdata[3]}<br>split=%{customdata[1]}<extra></extra>\", \"legendgroup\": \"1066\", \"line\": {\"color\": \"#EF553B\", \"dash\": \"solid\", \"shape\": \"spline\", \"width\": 2}, \"marker\": {\"line\": {\"color\": \"white\", \"width\": 2}, \"size\": 8}, \"mode\": \"markers+lines\", \"name\": \"1066\", \"orientation\": \"v\", \"showlegend\": true, \"type\": \"scatter\", \"x\": [0.155, 0.091, 0.198], \"xaxis\": \"x\", \"y\": [0.843, 0.909, 0.807], \"yaxis\": \"y\"}, {\"customdata\": [[1068, \"test\", 0.188, 0.81], [1068, \"folds_train_combined\", 0.14, 0.86], [1068, \"fold_validation\", 0.196, 0.809]], \"hovertemplate\": \"job_id=%{customdata[0]}<br>loss=%{customdata[2]}<br>r2=%{customdata[3]}<br>split=%{customdata[1]}<extra></extra>\", \"legendgroup\": \"1068\", \"line\": {\"color\": \"#00cc96\", \"dash\": \"solid\", \"shape\": \"spline\", \"width\": 2}, \"marker\": {\"line\": {\"color\": \"white\", \"width\": 2}, \"size\": 8}, \"mode\": \"markers+lines\", \"name\": \"1068\", \"orientation\": \"v\", \"showlegend\": true, \"type\": \"scatter\", \"x\": [0.188, 0.14, 0.196], \"xaxis\": \"x\", \"y\": [0.81, 0.86, 0.809], \"yaxis\": \"y\"}, {\"customdata\": [[1069, \"test\", 0.184, 0.814], [1069, \"folds_train_combined\", 0.171, 0.829], [1069, \"fold_validation\", 0.2, 0.805]], \"hovertemplate\": \"job_id=%{customdata[0]}<br>loss=%{customdata[2]}<br>r2=%{customdata[3]}<br>split=%{customdata[1]}<extra></extra>\", \"legendgroup\": \"1069\", \"line\": {\"color\": \"#ab63fa\", \"dash\": \"solid\", \"shape\": \"spline\", \"width\": 2}, \"marker\": {\"line\": {\"color\": \"white\", \"width\": 2}, \"size\": 8}, \"mode\": \"markers+lines\", \"name\": \"1069\", \"orientation\": \"v\", \"showlegend\": true, \"type\": \"scatter\", \"x\": [0.184, 0.171, 0.2], \"xaxis\": \"x\", \"y\": [0.814, 0.829, 0.805], \"yaxis\": \"y\"}, {\"customdata\": [[1071, \"test\", 0.164, 0.834], [1071, \"folds_train_combined\", 0.139, 0.861], [1071, \"fold_validation\", 0.197, 0.808]], \"hovertemplate\": \"job_id=%{customdata[0]}<br>loss=%{customdata[2]}<br>r2=%{customdata[3]}<br>split=%{customdata[1]}<extra></extra>\", \"legendgroup\": \"1071\", \"line\": {\"color\": \"#FFA15A\", \"dash\": \"solid\", \"shape\": \"spline\", \"width\": 2}, \"marker\": {\"line\": {\"color\": \"white\", \"width\": 2}, \"size\": 8}, \"mode\": \"markers+lines\", \"name\": \"1071\", \"orientation\": \"v\", \"showlegend\": true, \"type\": \"scatter\", \"x\": [0.164, 0.139, 0.197], \"xaxis\": \"x\", \"y\": [0.834, 0.861, 0.808], \"yaxis\": \"y\"}, {\"customdata\": [[1074, \"test\", 0.151, 0.841], [1074, \"folds_train_combined\", 0.132, 0.868], [1074, \"fold_validation\", 0.194, 0.766]], \"hovertemplate\": \"job_id=%{customdata[0]}<br>loss=%{customdata[2]}<br>r2=%{customdata[3]}<br>split=%{customdata[1]}<extra></extra>\", \"legendgroup\": \"1074\", \"line\": {\"color\": \"#19d3f3\", \"dash\": \"solid\", \"shape\": \"spline\", \"width\": 2}, \"marker\": {\"line\": {\"color\": \"white\", \"width\": 2}, \"size\": 8}, \"mode\": \"markers+lines\", \"name\": \"1074\", \"orientation\": \"v\", \"showlegend\": true, \"type\": \"scatter\", \"x\": [0.151, 0.132, 0.194], \"xaxis\": \"x\", \"y\": [0.841, 0.868, 0.766], \"yaxis\": \"y\"}],\n",
       "                        {\"font\": {\"color\": \"#FAFAFA\", \"family\": \"Avenir\"}, \"height\": 600, \"hoverlabel\": {\"bgcolor\": \"#0F0F0F\", \"font\": {\"family\": \"Avenir\", \"size\": 15}}, \"legend\": {\"title\": {\"text\": \"job_id\"}, \"tracegroupgap\": 0}, \"paper_bgcolor\": \"#181B1E\", \"plot_bgcolor\": \"#181B1E\", \"template\": {\"data\": {\"bar\": [{\"error_x\": {\"color\": \"#2a3f5f\"}, \"error_y\": {\"color\": \"#2a3f5f\"}, \"marker\": {\"line\": {\"color\": \"#E5ECF6\", \"width\": 0.5}}, \"type\": \"bar\"}], \"barpolar\": [{\"marker\": {\"line\": {\"color\": \"#E5ECF6\", \"width\": 0.5}}, \"type\": \"barpolar\"}], \"carpet\": [{\"aaxis\": {\"endlinecolor\": \"#2a3f5f\", \"gridcolor\": \"white\", \"linecolor\": \"white\", \"minorgridcolor\": \"white\", \"startlinecolor\": \"#2a3f5f\"}, \"baxis\": {\"endlinecolor\": \"#2a3f5f\", \"gridcolor\": \"white\", \"linecolor\": \"white\", \"minorgridcolor\": \"white\", \"startlinecolor\": \"#2a3f5f\"}, \"type\": \"carpet\"}], \"choropleth\": [{\"colorbar\": {\"outlinewidth\": 0, \"ticks\": \"\"}, \"type\": \"choropleth\"}], \"contour\": [{\"colorbar\": {\"outlinewidth\": 0, \"ticks\": \"\"}, \"colorscale\": [[0.0, \"#0d0887\"], [0.1111111111111111, \"#46039f\"], [0.2222222222222222, \"#7201a8\"], [0.3333333333333333, \"#9c179e\"], [0.4444444444444444, \"#bd3786\"], [0.5555555555555556, \"#d8576b\"], [0.6666666666666666, \"#ed7953\"], [0.7777777777777778, \"#fb9f3a\"], [0.8888888888888888, \"#fdca26\"], [1.0, \"#f0f921\"]], \"type\": \"contour\"}], \"contourcarpet\": [{\"colorbar\": {\"outlinewidth\": 0, \"ticks\": \"\"}, \"type\": \"contourcarpet\"}], \"heatmap\": [{\"colorbar\": {\"outlinewidth\": 0, \"ticks\": \"\"}, \"colorscale\": [[0.0, \"#0d0887\"], [0.1111111111111111, \"#46039f\"], [0.2222222222222222, \"#7201a8\"], [0.3333333333333333, \"#9c179e\"], [0.4444444444444444, \"#bd3786\"], [0.5555555555555556, \"#d8576b\"], [0.6666666666666666, \"#ed7953\"], [0.7777777777777778, \"#fb9f3a\"], [0.8888888888888888, \"#fdca26\"], [1.0, \"#f0f921\"]], \"type\": \"heatmap\"}], \"heatmapgl\": [{\"colorbar\": {\"outlinewidth\": 0, \"ticks\": \"\"}, \"colorscale\": [[0.0, \"#0d0887\"], [0.1111111111111111, \"#46039f\"], [0.2222222222222222, \"#7201a8\"], [0.3333333333333333, \"#9c179e\"], [0.4444444444444444, \"#bd3786\"], [0.5555555555555556, \"#d8576b\"], [0.6666666666666666, \"#ed7953\"], [0.7777777777777778, \"#fb9f3a\"], [0.8888888888888888, \"#fdca26\"], [1.0, \"#f0f921\"]], \"type\": \"heatmapgl\"}], \"histogram\": [{\"marker\": {\"colorbar\": {\"outlinewidth\": 0, \"ticks\": \"\"}}, \"type\": \"histogram\"}], \"histogram2d\": [{\"colorbar\": {\"outlinewidth\": 0, \"ticks\": \"\"}, \"colorscale\": [[0.0, \"#0d0887\"], [0.1111111111111111, \"#46039f\"], [0.2222222222222222, \"#7201a8\"], [0.3333333333333333, \"#9c179e\"], [0.4444444444444444, \"#bd3786\"], [0.5555555555555556, \"#d8576b\"], [0.6666666666666666, \"#ed7953\"], [0.7777777777777778, \"#fb9f3a\"], [0.8888888888888888, \"#fdca26\"], [1.0, \"#f0f921\"]], \"type\": \"histogram2d\"}], \"histogram2dcontour\": [{\"colorbar\": {\"outlinewidth\": 0, \"ticks\": \"\"}, \"colorscale\": [[0.0, \"#0d0887\"], [0.1111111111111111, \"#46039f\"], [0.2222222222222222, \"#7201a8\"], [0.3333333333333333, \"#9c179e\"], [0.4444444444444444, \"#bd3786\"], [0.5555555555555556, \"#d8576b\"], [0.6666666666666666, \"#ed7953\"], [0.7777777777777778, \"#fb9f3a\"], [0.8888888888888888, \"#fdca26\"], [1.0, \"#f0f921\"]], \"type\": \"histogram2dcontour\"}], \"mesh3d\": [{\"colorbar\": {\"outlinewidth\": 0, \"ticks\": \"\"}, \"type\": \"mesh3d\"}], \"parcoords\": [{\"line\": {\"colorbar\": {\"outlinewidth\": 0, \"ticks\": \"\"}}, \"type\": \"parcoords\"}], \"pie\": [{\"automargin\": true, \"type\": \"pie\"}], \"scatter\": [{\"marker\": {\"colorbar\": {\"outlinewidth\": 0, \"ticks\": \"\"}}, \"type\": \"scatter\"}], \"scatter3d\": [{\"line\": {\"colorbar\": {\"outlinewidth\": 0, \"ticks\": \"\"}}, \"marker\": {\"colorbar\": {\"outlinewidth\": 0, \"ticks\": \"\"}}, \"type\": \"scatter3d\"}], \"scattercarpet\": [{\"marker\": {\"colorbar\": {\"outlinewidth\": 0, \"ticks\": \"\"}}, \"type\": \"scattercarpet\"}], \"scattergeo\": [{\"marker\": {\"colorbar\": {\"outlinewidth\": 0, \"ticks\": \"\"}}, \"type\": \"scattergeo\"}], \"scattergl\": [{\"marker\": {\"colorbar\": {\"outlinewidth\": 0, \"ticks\": \"\"}}, \"type\": \"scattergl\"}], \"scattermapbox\": [{\"marker\": {\"colorbar\": {\"outlinewidth\": 0, \"ticks\": \"\"}}, \"type\": \"scattermapbox\"}], \"scatterpolar\": [{\"marker\": {\"colorbar\": {\"outlinewidth\": 0, \"ticks\": \"\"}}, \"type\": \"scatterpolar\"}], \"scatterpolargl\": [{\"marker\": {\"colorbar\": {\"outlinewidth\": 0, \"ticks\": \"\"}}, \"type\": \"scatterpolargl\"}], \"scatterternary\": [{\"marker\": {\"colorbar\": {\"outlinewidth\": 0, \"ticks\": \"\"}}, \"type\": \"scatterternary\"}], \"surface\": [{\"colorbar\": {\"outlinewidth\": 0, \"ticks\": \"\"}, \"colorscale\": [[0.0, \"#0d0887\"], [0.1111111111111111, \"#46039f\"], [0.2222222222222222, \"#7201a8\"], [0.3333333333333333, \"#9c179e\"], [0.4444444444444444, \"#bd3786\"], [0.5555555555555556, \"#d8576b\"], [0.6666666666666666, \"#ed7953\"], [0.7777777777777778, \"#fb9f3a\"], [0.8888888888888888, \"#fdca26\"], [1.0, \"#f0f921\"]], \"type\": \"surface\"}], \"table\": [{\"cells\": {\"fill\": {\"color\": \"#EBF0F8\"}, \"line\": {\"color\": \"white\"}}, \"header\": {\"fill\": {\"color\": \"#C8D4E3\"}, \"line\": {\"color\": \"white\"}}, \"type\": \"table\"}]}, \"layout\": {\"annotationdefaults\": {\"arrowcolor\": \"#2a3f5f\", \"arrowhead\": 0, \"arrowwidth\": 1}, \"coloraxis\": {\"colorbar\": {\"outlinewidth\": 0, \"ticks\": \"\"}}, \"colorscale\": {\"diverging\": [[0, \"#8e0152\"], [0.1, \"#c51b7d\"], [0.2, \"#de77ae\"], [0.3, \"#f1b6da\"], [0.4, \"#fde0ef\"], [0.5, \"#f7f7f7\"], [0.6, \"#e6f5d0\"], [0.7, \"#b8e186\"], [0.8, \"#7fbc41\"], [0.9, \"#4d9221\"], [1, \"#276419\"]], \"sequential\": [[0.0, \"#0d0887\"], [0.1111111111111111, \"#46039f\"], [0.2222222222222222, \"#7201a8\"], [0.3333333333333333, \"#9c179e\"], [0.4444444444444444, \"#bd3786\"], [0.5555555555555556, \"#d8576b\"], [0.6666666666666666, \"#ed7953\"], [0.7777777777777778, \"#fb9f3a\"], [0.8888888888888888, \"#fdca26\"], [1.0, \"#f0f921\"]], \"sequentialminus\": [[0.0, \"#0d0887\"], [0.1111111111111111, \"#46039f\"], [0.2222222222222222, \"#7201a8\"], [0.3333333333333333, \"#9c179e\"], [0.4444444444444444, \"#bd3786\"], [0.5555555555555556, \"#d8576b\"], [0.6666666666666666, \"#ed7953\"], [0.7777777777777778, \"#fb9f3a\"], [0.8888888888888888, \"#fdca26\"], [1.0, \"#f0f921\"]]}, \"colorway\": [\"#636efa\", \"#EF553B\", \"#00cc96\", \"#ab63fa\", \"#FFA15A\", \"#19d3f3\", \"#FF6692\", \"#B6E880\", \"#FF97FF\", \"#FECB52\"], \"font\": {\"color\": \"#2a3f5f\"}, \"geo\": {\"bgcolor\": \"white\", \"lakecolor\": \"white\", \"landcolor\": \"#E5ECF6\", \"showlakes\": true, \"showland\": true, \"subunitcolor\": \"white\"}, \"hoverlabel\": {\"align\": \"left\"}, \"hovermode\": \"closest\", \"mapbox\": {\"style\": \"light\"}, \"paper_bgcolor\": \"white\", \"plot_bgcolor\": \"#E5ECF6\", \"polar\": {\"angularaxis\": {\"gridcolor\": \"white\", \"linecolor\": \"white\", \"ticks\": \"\"}, \"bgcolor\": \"#E5ECF6\", \"radialaxis\": {\"gridcolor\": \"white\", \"linecolor\": \"white\", \"ticks\": \"\"}}, \"scene\": {\"xaxis\": {\"backgroundcolor\": \"#E5ECF6\", \"gridcolor\": \"white\", \"gridwidth\": 2, \"linecolor\": \"white\", \"showbackground\": true, \"ticks\": \"\", \"zerolinecolor\": \"white\"}, \"yaxis\": {\"backgroundcolor\": \"#E5ECF6\", \"gridcolor\": \"white\", \"gridwidth\": 2, \"linecolor\": \"white\", \"showbackground\": true, \"ticks\": \"\", \"zerolinecolor\": \"white\"}, \"zaxis\": {\"backgroundcolor\": \"#E5ECF6\", \"gridcolor\": \"white\", \"gridwidth\": 2, \"linecolor\": \"white\", \"showbackground\": true, \"ticks\": \"\", \"zerolinecolor\": \"white\"}}, \"shapedefaults\": {\"line\": {\"color\": \"#2a3f5f\"}}, \"ternary\": {\"aaxis\": {\"gridcolor\": \"white\", \"linecolor\": \"white\", \"ticks\": \"\"}, \"baxis\": {\"gridcolor\": \"white\", \"linecolor\": \"white\", \"ticks\": \"\"}, \"bgcolor\": \"#E5ECF6\", \"caxis\": {\"gridcolor\": \"white\", \"linecolor\": \"white\", \"ticks\": \"\"}}, \"title\": {\"x\": 0.05}, \"xaxis\": {\"automargin\": true, \"gridcolor\": \"white\", \"linecolor\": \"white\", \"ticks\": \"\", \"title\": {\"standoff\": 15}, \"zerolinecolor\": \"white\", \"zerolinewidth\": 2}, \"yaxis\": {\"automargin\": true, \"gridcolor\": \"white\", \"linecolor\": \"white\", \"ticks\": \"\", \"title\": {\"standoff\": 15}, \"zerolinecolor\": \"white\", \"zerolinewidth\": 2}}}, \"title\": {\"text\": \"<i>Models Metrics by Split</i>\"}, \"xaxis\": {\"anchor\": \"y\", \"domain\": [0.0, 1.0], \"gridcolor\": \"#262B2F\", \"tickfont\": {\"color\": \"#818487\"}, \"title\": {\"text\": \"Loss\"}, \"zeroline\": false}, \"yaxis\": {\"anchor\": \"x\", \"domain\": [0.0, 1.0], \"gridcolor\": \"#262B2F\", \"tickfont\": {\"color\": \"#818487\"}, \"title\": {\"text\": \"R\\u00b2\"}, \"zeroline\": false}},\n",
       "                        {\"responsive\": true}\n",
       "                    ).then(function(){\n",
       "                            \n",
       "var gd = document.getElementById('e00aa2b1-42f8-4cf9-b6a8-444d7c68b4a4');\n",
       "var x = new MutationObserver(function (mutations, observer) {{\n",
       "        var display = window.getComputedStyle(gd).display;\n",
       "        if (!display || display === 'none') {{\n",
       "            console.log([gd, 'removed!']);\n",
       "            Plotly.purge(gd);\n",
       "            observer.disconnect();\n",
       "        }}\n",
       "}});\n",
       "\n",
       "// Listen for the removal of the full notebook cells\n",
       "var notebookContainer = gd.closest('#notebook-container');\n",
       "if (notebookContainer) {{\n",
       "    x.observe(notebookContainer, {childList: true});\n",
       "}}\n",
       "\n",
       "// Listen for the clearing of the current output cell\n",
       "var outputEl = gd.closest('.output');\n",
       "if (outputEl) {{\n",
       "    x.observe(outputEl, {childList: true});\n",
       "}}\n",
       "\n",
       "                        })\n",
       "                };\n",
       "                });\n",
       "            </script>\n",
       "        </div>"
      ]
     },
     "metadata": {},
     "output_type": "display_data"
    }
   ],
   "source": [
    "batch.plot_performance(max_loss=0.20, min_r2=0.70)"
   ]
  },
  {
   "cell_type": "code",
   "execution_count": 125,
   "metadata": {},
   "outputs": [
    {
     "ename": "IndexError",
     "evalue": "list index out of range",
     "output_type": "error",
     "traceback": [
      "\u001b[0;31m---------------------------------------------------------------------------\u001b[0m",
      "\u001b[0;31mIndexError\u001b[0m                                Traceback (most recent call last)",
      "\u001b[0;32m<ipython-input-125-2721eb4ac03a>\u001b[0m in \u001b[0;36m<module>\u001b[0;34m\u001b[0m\n\u001b[0;32m----> 1\u001b[0;31m \u001b[0maiqc\u001b[0m\u001b[0;34m.\u001b[0m\u001b[0mJob\u001b[0m\u001b[0;34m.\u001b[0m\u001b[0mget_by_id\u001b[0m\u001b[0;34m(\u001b[0m\u001b[0;36m930\u001b[0m\u001b[0;34m)\u001b[0m\u001b[0;34m.\u001b[0m\u001b[0mresults\u001b[0m\u001b[0;34m[\u001b[0m\u001b[0;36m0\u001b[0m\u001b[0;34m]\u001b[0m\u001b[0;34m.\u001b[0m\u001b[0mplot_learning_curve\u001b[0m\u001b[0;34m(\u001b[0m\u001b[0mloss_last_85pct\u001b[0m\u001b[0;34m=\u001b[0m\u001b[0;32mTrue\u001b[0m\u001b[0;34m)\u001b[0m\u001b[0;34m\u001b[0m\u001b[0;34m\u001b[0m\u001b[0m\n\u001b[0m",
      "\u001b[0;32m~/.pyenv/versions/3.7.6/envs/jupyterlab/lib/python3.7/site-packages/peewee.py\u001b[0m in \u001b[0;36m__getitem__\u001b[0;34m(self, value)\u001b[0m\n\u001b[1;32m   1982\u001b[0m             \u001b[0mindex\u001b[0m \u001b[0;34m=\u001b[0m \u001b[0mindex\u001b[0m \u001b[0;34m+\u001b[0m \u001b[0;36m1\u001b[0m \u001b[0;32mif\u001b[0m \u001b[0mindex\u001b[0m \u001b[0;34m>=\u001b[0m \u001b[0;36m0\u001b[0m \u001b[0;32melse\u001b[0m \u001b[0;36m0\u001b[0m\u001b[0;34m\u001b[0m\u001b[0;34m\u001b[0m\u001b[0m\n\u001b[1;32m   1983\u001b[0m         \u001b[0mself\u001b[0m\u001b[0;34m.\u001b[0m\u001b[0m_cursor_wrapper\u001b[0m\u001b[0;34m.\u001b[0m\u001b[0mfill_cache\u001b[0m\u001b[0;34m(\u001b[0m\u001b[0mindex\u001b[0m\u001b[0;34m)\u001b[0m\u001b[0;34m\u001b[0m\u001b[0;34m\u001b[0m\u001b[0m\n\u001b[0;32m-> 1984\u001b[0;31m         \u001b[0;32mreturn\u001b[0m \u001b[0mself\u001b[0m\u001b[0;34m.\u001b[0m\u001b[0m_cursor_wrapper\u001b[0m\u001b[0;34m.\u001b[0m\u001b[0mrow_cache\u001b[0m\u001b[0;34m[\u001b[0m\u001b[0mvalue\u001b[0m\u001b[0;34m]\u001b[0m\u001b[0;34m\u001b[0m\u001b[0;34m\u001b[0m\u001b[0m\n\u001b[0m\u001b[1;32m   1985\u001b[0m \u001b[0;34m\u001b[0m\u001b[0m\n\u001b[1;32m   1986\u001b[0m     \u001b[0;32mdef\u001b[0m \u001b[0m__len__\u001b[0m\u001b[0;34m(\u001b[0m\u001b[0mself\u001b[0m\u001b[0;34m)\u001b[0m\u001b[0;34m:\u001b[0m\u001b[0;34m\u001b[0m\u001b[0;34m\u001b[0m\u001b[0m\n",
      "\u001b[0;31mIndexError\u001b[0m: list index out of range"
     ]
    }
   ],
   "source": [
    "aiqc.Job.get_by_id(937).results[0].plot_learning_curve(loss_last_85pct=True)"
   ]
  }
 ],
 "metadata": {
  "kernelspec": {
   "display_name": "Python 3",
   "language": "python",
   "name": "python3"
  },
  "language_info": {
   "codemirror_mode": {
    "name": "ipython",
    "version": 3
   },
   "file_extension": ".py",
   "mimetype": "text/x-python",
   "name": "python",
   "nbconvert_exporter": "python",
   "pygments_lexer": "ipython3",
   "version": "3.7.6"
  }
 },
 "nbformat": 4,
 "nbformat_minor": 4
}
