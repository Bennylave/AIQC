{
 "cells": [
  {
   "cell_type": "code",
   "execution_count": 19,
   "metadata": {},
   "outputs": [],
   "source": [
    "from natsort import natsorted"
   ]
  },
  {
   "cell_type": "code",
   "execution_count": 62,
   "metadata": {},
   "outputs": [],
   "source": [
    "feats = [\"a\", \"b\", \"c\", \"d\", \"e\", \"f\", \"g\", \"h\", \"i\", \"j\", \"k\", \"l\", \"m\", \"n\", \"o\", \"p\", \"q\", \"r\", \"s\", \"t\", \"u\", \"v\", \"w\", \"x\", \"y\", \"z\"]\n",
    "labels = natsorted([1234, 23466, 93456, 14754, 3829, 92027, 97384, 4849, 2345, 6783, 9397, 54350, 16718, 4123, 23487, 9748, 9383, 6353, 1267, 18364, 2643, 1234, 2637, 4562, 9393, 8172])"
   ]
  },
  {
   "cell_type": "code",
   "execution_count": 63,
   "metadata": {},
   "outputs": [
    {
     "data": {
      "text/plain": [
       "26"
      ]
     },
     "execution_count": 63,
     "metadata": {},
     "output_type": "execute_result"
    }
   ],
   "source": [
    "len(feats)"
   ]
  },
  {
   "cell_type": "code",
   "execution_count": 64,
   "metadata": {},
   "outputs": [
    {
     "data": {
      "text/plain": [
       "26"
      ]
     },
     "execution_count": 64,
     "metadata": {},
     "output_type": "execute_result"
    }
   ],
   "source": [
    "len(labels)"
   ]
  },
  {
   "cell_type": "code",
   "execution_count": 65,
   "metadata": {},
   "outputs": [],
   "source": [
    "from sklearn.model_selection import train_test_split"
   ]
  },
  {
   "cell_type": "markdown",
   "metadata": {},
   "source": [
    "hmmm. sort them."
   ]
  },
  {
   "cell_type": "code",
   "execution_count": 66,
   "metadata": {},
   "outputs": [],
   "source": [
    "tr_feat, tst_feat, tr_lab, tst_lab = train_test_split(feats, labels, test_size=0.3, random_state=0)"
   ]
  },
  {
   "cell_type": "code",
   "execution_count": 67,
   "metadata": {},
   "outputs": [
    {
     "data": {
      "text/plain": [
       "[16718,\n",
       " 18364,\n",
       " 9748,\n",
       " 1234,\n",
       " 6353,\n",
       " 97384,\n",
       " 93456,\n",
       " 4562,\n",
       " 3829,\n",
       " 2637,\n",
       " 4849,\n",
       " 4123,\n",
       " 92027,\n",
       " 2345,\n",
       " 1234,\n",
       " 23487,\n",
       " 9397,\n",
       " 8172]"
      ]
     },
     "execution_count": 67,
     "metadata": {},
     "output_type": "execute_result"
    }
   ],
   "source": [
    "tr_lab"
   ]
  },
  {
   "cell_type": "code",
   "execution_count": 68,
   "metadata": {},
   "outputs": [
    {
     "data": {
      "text/plain": [
       "[1267, 23466, 9393, 14754, 2643, 6783, 54350, 9383]"
      ]
     },
     "execution_count": 68,
     "metadata": {},
     "output_type": "execute_result"
    }
   ],
   "source": [
    "tst_lab"
   ]
  },
  {
   "cell_type": "code",
   "execution_count": 69,
   "metadata": {},
   "outputs": [],
   "source": [
    "import numpy as np"
   ]
  },
  {
   "cell_type": "code",
   "execution_count": 70,
   "metadata": {},
   "outputs": [
    {
     "data": {
      "text/plain": [
       "(array([12,  2,  1,  0,  0,  0,  0,  0,  0,  3]),\n",
       " array([ 1234., 10849., 20464., 30079., 39694., 49309., 58924., 68539.,\n",
       "        78154., 87769., 97384.]))"
      ]
     },
     "execution_count": 70,
     "metadata": {},
     "output_type": "execute_result"
    }
   ],
   "source": [
    "np.histogram(np.array(tr_lab))"
   ]
  },
  {
   "cell_type": "code",
   "execution_count": 71,
   "metadata": {},
   "outputs": [],
   "source": [
    "import matplotlib.pyplot as plt"
   ]
  },
  {
   "cell_type": "code",
   "execution_count": 72,
   "metadata": {},
   "outputs": [
    {
     "data": {
      "image/png": "[encoded data removed]",
      "text/plain": [
       "<Figure size 432x288 with 1 Axes>"
      ]
     },
     "metadata": {
      "needs_background": "light"
     },
     "output_type": "display_data"
    }
   ],
   "source": [
    "_ = plt.hist(tr_lab, bins=5)  # arguments are passed to np.histogram\n",
    "plt.title(\"Histogram with 'auto' bins\")\n",
    "\n",
    "plt.show()"
   ]
  },
  {
   "cell_type": "code",
   "execution_count": 73,
   "metadata": {},
   "outputs": [
    {
     "data": {
      "image/png": "[encoded data removed]",
      "text/plain": [
       "<Figure size 432x288 with 1 Axes>"
      ]
     },
     "metadata": {
      "needs_background": "light"
     },
     "output_type": "display_data"
    }
   ],
   "source": [
    "_ = plt.hist(tst_lab, bins=5)  # arguments are passed to np.histogram\n",
    "plt.title(\"Histogram with 'auto' bins\")\n",
    "\n",
    "plt.show()"
   ]
  },
  {
   "cell_type": "markdown",
   "metadata": {},
   "source": [
    "---"
   ]
  },
  {
   "cell_type": "code",
   "execution_count": 76,
   "metadata": {},
   "outputs": [
    {
     "data": {
      "text/plain": [
       "'/Users/layne/Desktop/aiqc'"
      ]
     },
     "execution_count": 76,
     "metadata": {},
     "output_type": "execute_result"
    }
   ],
   "source": [
    "import os\n",
    "os.chdir('/Users/layne/Desktop/aiqc')\n",
    "os.getcwd()"
   ]
  },
  {
   "cell_type": "code",
   "execution_count": 77,
   "metadata": {},
   "outputs": [
    {
     "name": "stderr",
     "output_type": "stream",
     "text": [
      "/Users/layne/.pyenv/versions/3.7.6/envs/jupyterlab/lib/python3.7/site-packages/pandas/compat/__init__.py:97: UserWarning: Could not import the lzma module. Your installed Python is incomplete. Attempting to use lzma compression will result in a RuntimeError.\n",
      "  warnings.warn(msg)\n"
     ]
    }
   ],
   "source": [
    "import aiqc\n",
    "from aiqc import datum"
   ]
  },
  {
   "cell_type": "code",
   "execution_count": 224,
   "metadata": {},
   "outputs": [],
   "source": [
    "df = datum.to_pandas('exoplanets.parquet')"
   ]
  },
  {
   "cell_type": "code",
   "execution_count": 225,
   "metadata": {},
   "outputs": [
    {
     "data": {
      "text/html": [
       "<div>\n",
       "<style scoped>\n",
       "    .dataframe tbody tr th:only-of-type {\n",
       "        vertical-align: middle;\n",
       "    }\n",
       "\n",
       "    .dataframe tbody tr th {\n",
       "        vertical-align: top;\n",
       "    }\n",
       "\n",
       "    .dataframe thead th {\n",
       "        text-align: right;\n",
       "    }\n",
       "</style>\n",
       "<table border=\"1\" class=\"dataframe\">\n",
       "  <thead>\n",
       "    <tr style=\"text-align: right;\">\n",
       "      <th></th>\n",
       "      <th>TypeFlag</th>\n",
       "      <th>PlanetaryMassJpt</th>\n",
       "      <th>PeriodDays</th>\n",
       "      <th>SurfaceTempK</th>\n",
       "      <th>DistFromSunParsec</th>\n",
       "      <th>HostStarMassSlrMass</th>\n",
       "      <th>HostStarRadiusSlrRad</th>\n",
       "      <th>HostStarMetallicity</th>\n",
       "      <th>HostStarTempK</th>\n",
       "    </tr>\n",
       "  </thead>\n",
       "  <tbody>\n",
       "    <tr>\n",
       "      <th>5</th>\n",
       "      <td>0</td>\n",
       "      <td>0.2500</td>\n",
       "      <td>19.224180</td>\n",
       "      <td>707.2</td>\n",
       "      <td>650.00</td>\n",
       "      <td>1.070</td>\n",
       "      <td>1.0200</td>\n",
       "      <td>0.12</td>\n",
       "      <td>5777.0</td>\n",
       "    </tr>\n",
       "    <tr>\n",
       "      <th>6</th>\n",
       "      <td>0</td>\n",
       "      <td>0.1700</td>\n",
       "      <td>39.031060</td>\n",
       "      <td>557.9</td>\n",
       "      <td>650.00</td>\n",
       "      <td>1.070</td>\n",
       "      <td>1.0200</td>\n",
       "      <td>0.12</td>\n",
       "      <td>5777.0</td>\n",
       "    </tr>\n",
       "    <tr>\n",
       "      <th>7</th>\n",
       "      <td>0</td>\n",
       "      <td>0.0220</td>\n",
       "      <td>1.592851</td>\n",
       "      <td>1601.5</td>\n",
       "      <td>650.00</td>\n",
       "      <td>1.070</td>\n",
       "      <td>1.0200</td>\n",
       "      <td>0.12</td>\n",
       "      <td>5777.0</td>\n",
       "    </tr>\n",
       "    <tr>\n",
       "      <th>15</th>\n",
       "      <td>0</td>\n",
       "      <td>1.2400</td>\n",
       "      <td>2.705782</td>\n",
       "      <td>2190.0</td>\n",
       "      <td>200.00</td>\n",
       "      <td>1.630</td>\n",
       "      <td>2.1800</td>\n",
       "      <td>0.12</td>\n",
       "      <td>6490.0</td>\n",
       "    </tr>\n",
       "    <tr>\n",
       "      <th>16</th>\n",
       "      <td>0</td>\n",
       "      <td>0.0195</td>\n",
       "      <td>1.580404</td>\n",
       "      <td>604.0</td>\n",
       "      <td>14.55</td>\n",
       "      <td>0.176</td>\n",
       "      <td>0.2213</td>\n",
       "      <td>0.10</td>\n",
       "      <td>3250.0</td>\n",
       "    </tr>\n",
       "    <tr>\n",
       "      <th>...</th>\n",
       "      <td>...</td>\n",
       "      <td>...</td>\n",
       "      <td>...</td>\n",
       "      <td>...</td>\n",
       "      <td>...</td>\n",
       "      <td>...</td>\n",
       "      <td>...</td>\n",
       "      <td>...</td>\n",
       "      <td>...</td>\n",
       "    </tr>\n",
       "    <tr>\n",
       "      <th>3557</th>\n",
       "      <td>0</td>\n",
       "      <td>0.2200</td>\n",
       "      <td>6.212290</td>\n",
       "      <td>783.1</td>\n",
       "      <td>380.00</td>\n",
       "      <td>0.880</td>\n",
       "      <td>0.7700</td>\n",
       "      <td>0.30</td>\n",
       "      <td>5080.0</td>\n",
       "    </tr>\n",
       "    <tr>\n",
       "      <th>3574</th>\n",
       "      <td>0</td>\n",
       "      <td>4.0630</td>\n",
       "      <td>4.124461</td>\n",
       "      <td>1161.5</td>\n",
       "      <td>254.00</td>\n",
       "      <td>0.947</td>\n",
       "      <td>1.1050</td>\n",
       "      <td>0.01</td>\n",
       "      <td>5588.0</td>\n",
       "    </tr>\n",
       "    <tr>\n",
       "      <th>3577</th>\n",
       "      <td>0</td>\n",
       "      <td>3.3280</td>\n",
       "      <td>5.452700</td>\n",
       "      <td>1335.3</td>\n",
       "      <td>257.00</td>\n",
       "      <td>1.392</td>\n",
       "      <td>1.5350</td>\n",
       "      <td>0.22</td>\n",
       "      <td>6442.0</td>\n",
       "    </tr>\n",
       "    <tr>\n",
       "      <th>3581</th>\n",
       "      <td>0</td>\n",
       "      <td>1.3600</td>\n",
       "      <td>395.400000</td>\n",
       "      <td>256.8</td>\n",
       "      <td>68.50</td>\n",
       "      <td>1.000</td>\n",
       "      <td>1.2200</td>\n",
       "      <td>0.14</td>\n",
       "      <td>5407.0</td>\n",
       "    </tr>\n",
       "    <tr>\n",
       "      <th>3582</th>\n",
       "      <td>0</td>\n",
       "      <td>1.0180</td>\n",
       "      <td>1605.800000</td>\n",
       "      <td>160.2</td>\n",
       "      <td>68.50</td>\n",
       "      <td>1.000</td>\n",
       "      <td>1.2200</td>\n",
       "      <td>0.14</td>\n",
       "      <td>5407.0</td>\n",
       "    </tr>\n",
       "  </tbody>\n",
       "</table>\n",
       "<p>433 rows × 9 columns</p>\n",
       "</div>"
      ],
      "text/plain": [
       "      TypeFlag  PlanetaryMassJpt   PeriodDays  SurfaceTempK  \\\n",
       "5            0            0.2500    19.224180         707.2   \n",
       "6            0            0.1700    39.031060         557.9   \n",
       "7            0            0.0220     1.592851        1601.5   \n",
       "15           0            1.2400     2.705782        2190.0   \n",
       "16           0            0.0195     1.580404         604.0   \n",
       "...        ...               ...          ...           ...   \n",
       "3557         0            0.2200     6.212290         783.1   \n",
       "3574         0            4.0630     4.124461        1161.5   \n",
       "3577         0            3.3280     5.452700        1335.3   \n",
       "3581         0            1.3600   395.400000         256.8   \n",
       "3582         0            1.0180  1605.800000         160.2   \n",
       "\n",
       "      DistFromSunParsec  HostStarMassSlrMass  HostStarRadiusSlrRad  \\\n",
       "5                650.00                1.070                1.0200   \n",
       "6                650.00                1.070                1.0200   \n",
       "7                650.00                1.070                1.0200   \n",
       "15               200.00                1.630                2.1800   \n",
       "16                14.55                0.176                0.2213   \n",
       "...                 ...                  ...                   ...   \n",
       "3557             380.00                0.880                0.7700   \n",
       "3574             254.00                0.947                1.1050   \n",
       "3577             257.00                1.392                1.5350   \n",
       "3581              68.50                1.000                1.2200   \n",
       "3582              68.50                1.000                1.2200   \n",
       "\n",
       "      HostStarMetallicity  HostStarTempK  \n",
       "5                    0.12         5777.0  \n",
       "6                    0.12         5777.0  \n",
       "7                    0.12         5777.0  \n",
       "15                   0.12         6490.0  \n",
       "16                   0.10         3250.0  \n",
       "...                   ...            ...  \n",
       "3557                 0.30         5080.0  \n",
       "3574                 0.01         5588.0  \n",
       "3577                 0.22         6442.0  \n",
       "3581                 0.14         5407.0  \n",
       "3582                 0.14         5407.0  \n",
       "\n",
       "[433 rows x 9 columns]"
      ]
     },
     "execution_count": 225,
     "metadata": {},
     "output_type": "execute_result"
    }
   ],
   "source": [
    "df"
   ]
  },
  {
   "cell_type": "code",
   "execution_count": 226,
   "metadata": {},
   "outputs": [],
   "source": [
    "df = df[df['PeriodDays'] < 10000]"
   ]
  },
  {
   "cell_type": "code",
   "execution_count": 227,
   "metadata": {},
   "outputs": [],
   "source": [
    "period = df['PeriodDays'].to_list()"
   ]
  },
  {
   "cell_type": "code",
   "execution_count": 228,
   "metadata": {},
   "outputs": [],
   "source": [
    "flag = df['TypeFlag'].to_list()"
   ]
  },
  {
   "cell_type": "code",
   "execution_count": 229,
   "metadata": {},
   "outputs": [
    {
     "data": {
      "text/plain": [
       "429"
      ]
     },
     "execution_count": 229,
     "metadata": {},
     "output_type": "execute_result"
    }
   ],
   "source": [
    "len(period)"
   ]
  },
  {
   "cell_type": "code",
   "execution_count": 230,
   "metadata": {},
   "outputs": [
    {
     "data": {
      "text/plain": [
       "429"
      ]
     },
     "execution_count": 230,
     "metadata": {},
     "output_type": "execute_result"
    }
   ],
   "source": [
    "len(flag)"
   ]
  },
  {
   "cell_type": "code",
   "execution_count": 231,
   "metadata": {},
   "outputs": [],
   "source": [
    "period_round = [round(i) for i in period]"
   ]
  },
  {
   "cell_type": "code",
   "execution_count": 232,
   "metadata": {},
   "outputs": [],
   "source": [
    "import pandas as pd"
   ]
  },
  {
   "cell_type": "code",
   "execution_count": 235,
   "metadata": {},
   "outputs": [
    {
     "data": {
      "text/plain": [
       "429"
      ]
     },
     "execution_count": 235,
     "metadata": {},
     "output_type": "execute_result"
    }
   ],
   "source": [
    "len(period_round)"
   ]
  },
  {
   "cell_type": "code",
   "execution_count": 236,
   "metadata": {},
   "outputs": [
    {
     "data": {
      "image/png": "[encoded data removed]",
      "text/plain": [
       "<Figure size 432x288 with 1 Axes>"
      ]
     },
     "metadata": {
      "needs_background": "light"
     },
     "output_type": "display_data"
    }
   ],
   "source": [
    "_ = plt.hist(period_round, bins=5)  # arguments are passed to np.histogram\n",
    "\n",
    "plt.show()"
   ]
  },
  {
   "cell_type": "code",
   "execution_count": 238,
   "metadata": {},
   "outputs": [
    {
     "data": {
      "text/html": [
       "<div>\n",
       "<style scoped>\n",
       "    .dataframe tbody tr th:only-of-type {\n",
       "        vertical-align: middle;\n",
       "    }\n",
       "\n",
       "    .dataframe tbody tr th {\n",
       "        vertical-align: top;\n",
       "    }\n",
       "\n",
       "    .dataframe thead th {\n",
       "        text-align: right;\n",
       "    }\n",
       "</style>\n",
       "<table border=\"1\" class=\"dataframe\">\n",
       "  <thead>\n",
       "    <tr style=\"text-align: right;\">\n",
       "      <th></th>\n",
       "      <th>TypeFlag</th>\n",
       "      <th>PlanetaryMassJpt</th>\n",
       "      <th>PeriodDays</th>\n",
       "      <th>SurfaceTempK</th>\n",
       "      <th>DistFromSunParsec</th>\n",
       "      <th>HostStarMassSlrMass</th>\n",
       "      <th>HostStarRadiusSlrRad</th>\n",
       "      <th>HostStarMetallicity</th>\n",
       "      <th>HostStarTempK</th>\n",
       "    </tr>\n",
       "  </thead>\n",
       "  <tbody>\n",
       "    <tr>\n",
       "      <th>5</th>\n",
       "      <td>0</td>\n",
       "      <td>0.2500</td>\n",
       "      <td>437.0</td>\n",
       "      <td>707.2</td>\n",
       "      <td>650.00</td>\n",
       "      <td>1.070</td>\n",
       "      <td>1.0200</td>\n",
       "      <td>0.12</td>\n",
       "      <td>5777.0</td>\n",
       "    </tr>\n",
       "    <tr>\n",
       "      <th>6</th>\n",
       "      <td>0</td>\n",
       "      <td>0.1700</td>\n",
       "      <td>14.0</td>\n",
       "      <td>557.9</td>\n",
       "      <td>650.00</td>\n",
       "      <td>1.070</td>\n",
       "      <td>1.0200</td>\n",
       "      <td>0.12</td>\n",
       "      <td>5777.0</td>\n",
       "    </tr>\n",
       "    <tr>\n",
       "      <th>7</th>\n",
       "      <td>0</td>\n",
       "      <td>0.0220</td>\n",
       "      <td>12.0</td>\n",
       "      <td>1601.5</td>\n",
       "      <td>650.00</td>\n",
       "      <td>1.070</td>\n",
       "      <td>1.0200</td>\n",
       "      <td>0.12</td>\n",
       "      <td>5777.0</td>\n",
       "    </tr>\n",
       "    <tr>\n",
       "      <th>15</th>\n",
       "      <td>0</td>\n",
       "      <td>1.2400</td>\n",
       "      <td>4.0</td>\n",
       "      <td>2190.0</td>\n",
       "      <td>200.00</td>\n",
       "      <td>1.630</td>\n",
       "      <td>2.1800</td>\n",
       "      <td>0.12</td>\n",
       "      <td>6490.0</td>\n",
       "    </tr>\n",
       "    <tr>\n",
       "      <th>16</th>\n",
       "      <td>0</td>\n",
       "      <td>0.0195</td>\n",
       "      <td>4.0</td>\n",
       "      <td>604.0</td>\n",
       "      <td>14.55</td>\n",
       "      <td>0.176</td>\n",
       "      <td>0.2213</td>\n",
       "      <td>0.10</td>\n",
       "      <td>3250.0</td>\n",
       "    </tr>\n",
       "  </tbody>\n",
       "</table>\n",
       "</div>"
      ],
      "text/plain": [
       "    TypeFlag  PlanetaryMassJpt  PeriodDays  SurfaceTempK  DistFromSunParsec  \\\n",
       "5          0            0.2500       437.0         707.2             650.00   \n",
       "6          0            0.1700        14.0         557.9             650.00   \n",
       "7          0            0.0220        12.0        1601.5             650.00   \n",
       "15         0            1.2400         4.0        2190.0             200.00   \n",
       "16         0            0.0195         4.0         604.0              14.55   \n",
       "\n",
       "    HostStarMassSlrMass  HostStarRadiusSlrRad  HostStarMetallicity  \\\n",
       "5                 1.070                1.0200                 0.12   \n",
       "6                 1.070                1.0200                 0.12   \n",
       "7                 1.070                1.0200                 0.12   \n",
       "15                1.630                2.1800                 0.12   \n",
       "16                0.176                0.2213                 0.10   \n",
       "\n",
       "    HostStarTempK  \n",
       "5          5777.0  \n",
       "6          5777.0  \n",
       "7          5777.0  \n",
       "15         6490.0  \n",
       "16         3250.0  "
      ]
     },
     "execution_count": 238,
     "metadata": {},
     "output_type": "execute_result"
    }
   ],
   "source": [
    "df.head()"
   ]
  },
  {
   "cell_type": "code",
   "execution_count": 240,
   "metadata": {},
   "outputs": [],
   "source": [
    "period_round = [round(i) for i in df['PeriodDays'].to_list()]"
   ]
  },
  {
   "cell_type": "code",
   "execution_count": 241,
   "metadata": {},
   "outputs": [],
   "source": [
    "df['PeriodDays'] = period_round"
   ]
  },
  {
   "cell_type": "code",
   "execution_count": 249,
   "metadata": {},
   "outputs": [],
   "source": [
    "df = df.astype({'PeriodDays':'int64'})"
   ]
  },
  {
   "cell_type": "code",
   "execution_count": 256,
   "metadata": {
    "collapsed": true,
    "jupyter": {
     "outputs_hidden": true
    }
   },
   "outputs": [
    {
     "data": {
      "text/plain": [
       "[437,\n",
       " 14,\n",
       " 12,\n",
       " 4,\n",
       " 4,\n",
       " 264,\n",
       " 460,\n",
       " 480,\n",
       " 4,\n",
       " 5,\n",
       " 2,\n",
       " 4,\n",
       " 1733,\n",
       " 4,\n",
       " 280,\n",
       " 626,\n",
       " 2,\n",
       " 2,\n",
       " 10,\n",
       " 990,\n",
       " 3,\n",
       " 1,\n",
       " 2049,\n",
       " 4,\n",
       " 1,\n",
       " 2231,\n",
       " 45,\n",
       " 4,\n",
       " 6,\n",
       " 3,\n",
       " 4,\n",
       " 883,\n",
       " 5,\n",
       " 1283,\n",
       " 3849,\n",
       " 4,\n",
       " 4,\n",
       " 5,\n",
       " 13,\n",
       " 3,\n",
       " 36,\n",
       " 76,\n",
       " 377,\n",
       " 29,\n",
       " 60,\n",
       " 143,\n",
       " 2627,\n",
       " 54,\n",
       " 111,\n",
       " 11,\n",
       " 4,\n",
       " 8,\n",
       " 4,\n",
       " 3,\n",
       " 4,\n",
       " 507,\n",
       " 6,\n",
       " 1600,\n",
       " 2,\n",
       " 356]"
      ]
     },
     "execution_count": 256,
     "metadata": {},
     "output_type": "execute_result"
    }
   ],
   "source": [
    "flat_period"
   ]
  },
  {
   "cell_type": "code",
   "execution_count": 255,
   "metadata": {},
   "outputs": [
    {
     "data": {
      "text/plain": [
       "[(87.667, 3849.0], (4.0, 87.667], (4.0, 87.667], (0.999, 4.0], (0.999, 4.0], ..., (87.667, 3849.0], (4.0, 87.667], (87.667, 3849.0], (0.999, 4.0], (87.667, 3849.0]]\n",
       "Length: 60\n",
       "Categories (3, interval[float64]): [(0.999, 4.0] < (4.0, 87.667] < (87.667, 3849.0]]"
      ]
     },
     "execution_count": 255,
     "metadata": {},
     "output_type": "execute_result"
    }
   ],
   "source": [
    "pd.qcut(x=flat_period, q=3)"
   ]
  },
  {
   "cell_type": "code",
   "execution_count": 246,
   "metadata": {},
   "outputs": [
    {
     "ename": "ValueError",
     "evalue": "The least populated class in y has only 1 member, which is too few. The minimum number of groups for any class cannot be less than 2.",
     "output_type": "error",
     "traceback": [
      "\u001b[0;31m---------------------------------------------------------------------------\u001b[0m",
      "\u001b[0;31mValueError\u001b[0m                                Traceback (most recent call last)",
      "\u001b[0;32m<ipython-input-246-b3bc7a06d9be>\u001b[0m in \u001b[0;36m<module>\u001b[0;34m\u001b[0m\n\u001b[1;32m      2\u001b[0m     \u001b[0mperiod_round\u001b[0m\u001b[0;34m,\u001b[0m \u001b[0mperiod_round\u001b[0m\u001b[0;34m,\u001b[0m\u001b[0;34m\u001b[0m\u001b[0;34m\u001b[0m\u001b[0m\n\u001b[1;32m      3\u001b[0m     \u001b[0mtest_size\u001b[0m\u001b[0;34m=\u001b[0m\u001b[0;36m0.6\u001b[0m\u001b[0;34m,\u001b[0m \u001b[0mrandom_state\u001b[0m\u001b[0;34m=\u001b[0m\u001b[0;36m0\u001b[0m\u001b[0;34m,\u001b[0m\u001b[0;34m\u001b[0m\u001b[0;34m\u001b[0m\u001b[0m\n\u001b[0;32m----> 4\u001b[0;31m     \u001b[0mstratify\u001b[0m \u001b[0;34m=\u001b[0m \u001b[0mperiod_round\u001b[0m\u001b[0;34m\u001b[0m\u001b[0;34m\u001b[0m\u001b[0m\n\u001b[0m\u001b[1;32m      5\u001b[0m )\n",
      "\u001b[0;32m~/.pyenv/versions/3.7.6/envs/jupyterlab/lib/python3.7/site-packages/sklearn/model_selection/_split.py\u001b[0m in \u001b[0;36mtrain_test_split\u001b[0;34m(*arrays, **options)\u001b[0m\n\u001b[1;32m   2150\u001b[0m                      random_state=random_state)\n\u001b[1;32m   2151\u001b[0m \u001b[0;34m\u001b[0m\u001b[0m\n\u001b[0;32m-> 2152\u001b[0;31m         \u001b[0mtrain\u001b[0m\u001b[0;34m,\u001b[0m \u001b[0mtest\u001b[0m \u001b[0;34m=\u001b[0m \u001b[0mnext\u001b[0m\u001b[0;34m(\u001b[0m\u001b[0mcv\u001b[0m\u001b[0;34m.\u001b[0m\u001b[0msplit\u001b[0m\u001b[0;34m(\u001b[0m\u001b[0mX\u001b[0m\u001b[0;34m=\u001b[0m\u001b[0marrays\u001b[0m\u001b[0;34m[\u001b[0m\u001b[0;36m0\u001b[0m\u001b[0;34m]\u001b[0m\u001b[0;34m,\u001b[0m \u001b[0my\u001b[0m\u001b[0;34m=\u001b[0m\u001b[0mstratify\u001b[0m\u001b[0;34m)\u001b[0m\u001b[0;34m)\u001b[0m\u001b[0;34m\u001b[0m\u001b[0;34m\u001b[0m\u001b[0m\n\u001b[0m\u001b[1;32m   2153\u001b[0m \u001b[0;34m\u001b[0m\u001b[0m\n\u001b[1;32m   2154\u001b[0m     return list(chain.from_iterable((_safe_indexing(a, train),\n",
      "\u001b[0;32m~/.pyenv/versions/3.7.6/envs/jupyterlab/lib/python3.7/site-packages/sklearn/model_selection/_split.py\u001b[0m in \u001b[0;36msplit\u001b[0;34m(self, X, y, groups)\u001b[0m\n\u001b[1;32m   1339\u001b[0m         \"\"\"\n\u001b[1;32m   1340\u001b[0m         \u001b[0mX\u001b[0m\u001b[0;34m,\u001b[0m \u001b[0my\u001b[0m\u001b[0;34m,\u001b[0m \u001b[0mgroups\u001b[0m \u001b[0;34m=\u001b[0m \u001b[0mindexable\u001b[0m\u001b[0;34m(\u001b[0m\u001b[0mX\u001b[0m\u001b[0;34m,\u001b[0m \u001b[0my\u001b[0m\u001b[0;34m,\u001b[0m \u001b[0mgroups\u001b[0m\u001b[0;34m)\u001b[0m\u001b[0;34m\u001b[0m\u001b[0;34m\u001b[0m\u001b[0m\n\u001b[0;32m-> 1341\u001b[0;31m         \u001b[0;32mfor\u001b[0m \u001b[0mtrain\u001b[0m\u001b[0;34m,\u001b[0m \u001b[0mtest\u001b[0m \u001b[0;32min\u001b[0m \u001b[0mself\u001b[0m\u001b[0;34m.\u001b[0m\u001b[0m_iter_indices\u001b[0m\u001b[0;34m(\u001b[0m\u001b[0mX\u001b[0m\u001b[0;34m,\u001b[0m \u001b[0my\u001b[0m\u001b[0;34m,\u001b[0m \u001b[0mgroups\u001b[0m\u001b[0;34m)\u001b[0m\u001b[0;34m:\u001b[0m\u001b[0;34m\u001b[0m\u001b[0;34m\u001b[0m\u001b[0m\n\u001b[0m\u001b[1;32m   1342\u001b[0m             \u001b[0;32myield\u001b[0m \u001b[0mtrain\u001b[0m\u001b[0;34m,\u001b[0m \u001b[0mtest\u001b[0m\u001b[0;34m\u001b[0m\u001b[0;34m\u001b[0m\u001b[0m\n\u001b[1;32m   1343\u001b[0m \u001b[0;34m\u001b[0m\u001b[0m\n",
      "\u001b[0;32m~/.pyenv/versions/3.7.6/envs/jupyterlab/lib/python3.7/site-packages/sklearn/model_selection/_split.py\u001b[0m in \u001b[0;36m_iter_indices\u001b[0;34m(self, X, y, groups)\u001b[0m\n\u001b[1;32m   1666\u001b[0m         \u001b[0mclass_counts\u001b[0m \u001b[0;34m=\u001b[0m \u001b[0mnp\u001b[0m\u001b[0;34m.\u001b[0m\u001b[0mbincount\u001b[0m\u001b[0;34m(\u001b[0m\u001b[0my_indices\u001b[0m\u001b[0;34m)\u001b[0m\u001b[0;34m\u001b[0m\u001b[0;34m\u001b[0m\u001b[0m\n\u001b[1;32m   1667\u001b[0m         \u001b[0;32mif\u001b[0m \u001b[0mnp\u001b[0m\u001b[0;34m.\u001b[0m\u001b[0mmin\u001b[0m\u001b[0;34m(\u001b[0m\u001b[0mclass_counts\u001b[0m\u001b[0;34m)\u001b[0m \u001b[0;34m<\u001b[0m \u001b[0;36m2\u001b[0m\u001b[0;34m:\u001b[0m\u001b[0;34m\u001b[0m\u001b[0;34m\u001b[0m\u001b[0m\n\u001b[0;32m-> 1668\u001b[0;31m             raise ValueError(\"The least populated class in y has only 1\"\n\u001b[0m\u001b[1;32m   1669\u001b[0m                              \u001b[0;34m\" member, which is too few. The minimum\"\u001b[0m\u001b[0;34m\u001b[0m\u001b[0;34m\u001b[0m\u001b[0m\n\u001b[1;32m   1670\u001b[0m                              \u001b[0;34m\" number of groups for any class cannot\"\u001b[0m\u001b[0;34m\u001b[0m\u001b[0;34m\u001b[0m\u001b[0m\n",
      "\u001b[0;31mValueError\u001b[0m: The least populated class in y has only 1 member, which is too few. The minimum number of groups for any class cannot be less than 2."
     ]
    }
   ],
   "source": [
    "tr_feat, tst_feat, tr_lab, tst_lab = train_test_split(\n",
    "    period_round, period_round, \n",
    "    test_size=0.6, random_state=0, \n",
    "    stratify = period_round\n",
    ")"
   ]
  },
  {
   "cell_type": "code",
   "execution_count": 244,
   "metadata": {},
   "outputs": [
    {
     "data": {
      "image/png": "[encoded data removed]",
      "text/plain": [
       "<Figure size 432x288 with 1 Axes>"
      ]
     },
     "metadata": {
      "needs_background": "light"
     },
     "output_type": "display_data"
    }
   ],
   "source": [
    "_ = plt.hist(tr_lab, bins=5)  # arguments are passed to np.histogram\n",
    "\n",
    "plt.show()"
   ]
  },
  {
   "cell_type": "code",
   "execution_count": 245,
   "metadata": {},
   "outputs": [
    {
     "data": {
      "image/png": "[encoded data removed]",
      "text/plain": [
       "<Figure size 432x288 with 1 Axes>"
      ]
     },
     "metadata": {
      "needs_background": "light"
     },
     "output_type": "display_data"
    }
   ],
   "source": [
    "_ = plt.hist(tst_lab, bins=5)  # arguments are passed to np.histogram\n",
    "\n",
    "plt.show()"
   ]
  },
  {
   "cell_type": "code",
   "execution_count": 199,
   "metadata": {},
   "outputs": [],
   "source": [
    "dataset = aiqc.Dataset.Tabular.from_pandas(df)"
   ]
  },
  {
   "cell_type": "code",
   "execution_count": 200,
   "metadata": {},
   "outputs": [],
   "source": [
    "label_col = 'PeriodDays'"
   ]
  },
  {
   "cell_type": "code",
   "execution_count": 201,
   "metadata": {},
   "outputs": [],
   "source": [
    "label = dataset.make_label(columns=[label_col])"
   ]
  },
  {
   "cell_type": "code",
   "execution_count": 202,
   "metadata": {},
   "outputs": [],
   "source": [
    "featureset = dataset.make_featureset(exclude_columns=[label_col])"
   ]
  },
  {
   "cell_type": "code",
   "execution_count": null,
   "metadata": {},
   "outputs": [],
   "source": [
    "splitset = featureset.make_splitset(\n",
    "    label_id = label.id\n",
    "    , size_test = 0.3\n",
    "    , \n",
    ")"
   ]
  }
 ],
 "metadata": {
  "kernelspec": {
   "display_name": "Python 3",
   "language": "python",
   "name": "python3"
  },
  "language_info": {
   "codemirror_mode": {
    "name": "ipython",
    "version": 3
   },
   "file_extension": ".py",
   "mimetype": "text/x-python",
   "name": "python",
   "nbconvert_exporter": "python",
   "pygments_lexer": "ipython3",
   "version": "3.7.6"
  }
 },
 "nbformat": 4,
 "nbformat_minor": 4
}
