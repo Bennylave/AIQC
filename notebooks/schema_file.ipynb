{
 "cells": [
  {
   "cell_type": "markdown",
   "metadata": {},
   "source": [
    "# REFACTOR FILE SCHEMA"
   ]
  },
  {
   "cell_type": "markdown",
   "metadata": {},
   "source": [
    "## Prerequisites\n",
    "If you've already completed the instructions on the **Installation** page, then let's get started."
   ]
  },
  {
   "cell_type": "code",
   "execution_count": 1,
   "metadata": {},
   "outputs": [
    {
     "name": "stdout",
     "output_type": "stream",
     "text": [
      "\u001b[33mWARNING: Skipping aiqc as it is not installed.\u001b[0m\n",
      "Note: you may need to restart the kernel to use updated packages.\n"
     ]
    }
   ],
   "source": [
    "pip uninstall aiqc -y"
   ]
  },
  {
   "cell_type": "code",
   "execution_count": 2,
   "metadata": {},
   "outputs": [],
   "source": [
    "import os\n",
    "os.chdir('/Users/layne/Desktop/aiqc')"
   ]
  },
  {
   "cell_type": "code",
   "execution_count": 3,
   "metadata": {},
   "outputs": [
    {
     "name": "stderr",
     "output_type": "stream",
     "text": [
      "/Users/layne/.pyenv/versions/3.7.6/envs/jupyterlab/lib/python3.7/site-packages/pandas/compat/__init__.py:120: UserWarning: Could not import the lzma module. Your installed Python is incomplete. Attempting to use lzma compression will result in a RuntimeError.\n",
      "  warnings.warn(msg)\n"
     ]
    }
   ],
   "source": [
    "import aiqc\n",
    "from aiqc import examples"
   ]
  },
  {
   "cell_type": "code",
   "execution_count": 4,
   "metadata": {},
   "outputs": [
    {
     "name": "stdout",
     "output_type": "stream",
     "text": [
      "\n",
      "=> Success - deleted database file at path:\n",
      "/Users/layne/Library/Application Support/aiqc/aiqc.sqlite3\n",
      "\n"
     ]
    }
   ],
   "source": [
    "aiqc.delete_db(True)"
   ]
  },
  {
   "cell_type": "code",
   "execution_count": 5,
   "metadata": {},
   "outputs": [
    {
     "data": {
      "text/plain": [
       "<module 'aiqc' from '/Users/layne/Desktop/aiqc/aiqc/__init__.py'>"
      ]
     },
     "execution_count": 5,
     "metadata": {},
     "output_type": "execute_result"
    }
   ],
   "source": [
    "from importlib import reload\n",
    "reload(aiqc)"
   ]
  },
  {
   "cell_type": "code",
   "execution_count": 6,
   "metadata": {},
   "outputs": [
    {
     "name": "stdout",
     "output_type": "stream",
     "text": [
      "\n",
      "=> Success - created database file for machine learning metrics at path:\n",
      "/Users/layne/Library/Application Support/aiqc/aiqc.sqlite3\n",
      "\n",
      "\n",
      "=> Success - created the following tables within database:\n",
      "['algorithm', 'batch', 'datapipeline', 'dataset', 'datasetfile', 'experiment', 'featureset', 'file', 'fold', 'foldset', 'hyperparamcombo', 'hyperparamset', 'image', 'job', 'label', 'preprocess', 'result', 'splitset', 'tabular']\n",
      "\n"
     ]
    }
   ],
   "source": [
    "aiqc.create_db()"
   ]
  },
  {
   "cell_type": "markdown",
   "metadata": {},
   "source": [
    "---"
   ]
  },
  {
   "cell_type": "code",
   "execution_count": 7,
   "metadata": {},
   "outputs": [],
   "source": [
    "dir_path = 'notebooks/demo_pics'"
   ]
  },
  {
   "cell_type": "code",
   "execution_count": 8,
   "metadata": {},
   "outputs": [],
   "source": [
    "dataset_images = aiqc.Dataset.Image.from_folder(dir_path)"
   ]
  },
  {
   "cell_type": "code",
   "execution_count": 13,
   "metadata": {
    "collapsed": true,
    "jupyter": {
     "outputs_hidden": true
    }
   },
   "outputs": [
    {
     "data": {
      "text/plain": [
       "b'\\x89PNG\\r\\n\\x1a\\n\\x00\\x00\\x00\\rIHDR\\x00\\x00\\x00c\\x00\\x00\\x00Y\\x08\\x06\\x00\\x00\\x00*\\xda\\x9a^\\x00\\x00\\n\\xe6iCCPICC Profile\\x00\\x00x\\x9c\\x95\\x97\\x07TS\\xd9\\x16\\x86\\xcf\\xbd7\\xbd\\xd0\\x02\\xa1H\\t\\xbdIo\\x01\\xa4\\x84\\x1e\\x8a \\x1dD%$!\\t%\\x84\\x14Tl\\xa8\\x0c\\x8e\\xe0XP\\x11\\x01uDGD\\x14\\x1c\\x1d\\x01\\x19\\x0bb\\xc16\\x08\\xf6> \\xa2\\xa2>\\x07\\x0b6T\\xde\\x05\\x1eaf\\xdez\\xef\\xad\\xb7\\xd7:9_\\xf6\\xddg\\x9f\\xbd\\xef:g\\xad\\xff\\x02@M\\xe3H$9\\xb0\\x1a\\x00\\xb9b\\xb9464\\x80\\x91\\x9c\\x92\\xca\\xc0?\\x06\\x14@\\x06D`\\x01\\x10\\x0eW&a\\xc5\\xc4D\\x02\\xd4&\\xe7\\xbf\\xda\\xfb\\x9b\\x00\\x1a\\x9b\\xaf\\xd9\\x8d\\xe5\\xfa\\xf7\\xe7\\xff\\xd54x|\\x19\\x17\\x00(\\r\\xe5\\x0c\\x9e\\x8c\\x9b\\x8br;:\\xbeq%R9\\x00\\x08\\xca\\xc0t\\xbe\\\\2\\xc6\\x8fQ\\xd6\\x94\\xa2\\x05\\xa2\\xfcq\\x8c\\x05\\xe3\\x8c\\xa1\\x8cq\\xc6\\x043\\xc6c\\xe2c\\x03Qv\\x05\\x80@\\xe1p\\xa4\\x02\\x00(\\xfe\\xa8\\x9fQ\\xc0\\x15\\xa0y(\\xe9(;\\x8ay\"1\\xca\\xebQ\\xf6\\xe5\\n9<\\x94\\xbbQ\\x9e\\x9e\\x9b\\x9b7\\xc6_P\\xb6B\\xe3%\\x00P\\xcdPff\\xfc)\\xa7\\xe0/\\xf93\\x94\\xf99\\x1c\\x81\\x92\\'\\xfa\\x1a7B\\x90H&\\xc9\\xe1,\\xfc?_\\xcd\\xff\\xb6\\xdc\\x1c\\xc5\\xe4\\x1e\\x16\\xe8\\xa0\\x08\\xa5a\\xb1\\x13\\x0c\\xdd\\xce\\xce\\x8bP\\xb28cf\\xf4$\\x8bx\\x93\\xf1\\xd0m\\xa1\",a\\x92\\xb9\\xb2\\xc0\\xd4I\\xe6q\\x82\"\\x94ksfFNr\\xa6(\\x84\\xad\\xcc#g\\xc7O2_\\x16\\x1c7\\xc9\\xd2\\xbcX\\xe5^\\x99\\xd2@\\xd6$s\\xa4S\\xfb*\\xb2\\x13\\x94~!\\x9f\\xad\\xcc_(\\x8cO\\x9a\\xe4\\x02Q\\xe2\\xccI\\x96e\\xc7EL\\xc5\\x04*\\xfdRE\\xac\\xb2~\\xbe84`j\\xdf\\x10e\\xef\\xb9\\xb2?\\xf5+b+\\xd7\\xca\\x85\\xf1a\\xca\\xde9S\\xf5\\xf3\\xc5\\xac\\xa9\\x9c\\xb2dem<~P\\xf0TL\\x822^\"\\x0fP\\xee%\\xc9\\x89Q\\xc6\\xf3sB\\x95~YA\\x9cr\\xad\\x1c=\\x9cSkc\\x94\\xef0\\x8b\\x13\\x1e3\\xc9 \\x1e\\x08\\x81\\x02\\x88\\x01\\x0f\\xf0\\x81\\x14d\\x80<\\x90\\x03\\xe4\\x80\\x01\\x82\\x80\\x08\\xc8\\x80\\x04\\xfd\\xc7\\x01\\xe8q\\x92\\xf3\\x17\\xc8\\xc7\\x9a\\x0b\\xcc\\x93,\\x94\\x8a\\x04B9\\x83\\x85\\xde@>\\x83-\\xe6\\xdaOg8;:;\\x020v\\x9f\\'\\x8e\\xc8[\\xfa\\xf8=\\x85\\xe8\\x17\\xa7|\\xf9\\xed\\x00x\\x96\\xa2N\\xc1\\x94\\x8fc\\n\\xc0\\xd1\\'\\x00\\xd0\\xdeO\\xf9L\\xdfL\\xdc\\x95\\xe3\\xdd\\\\\\x85\\xb4`\\xc2\\x87\\x19\\xfb\\xc1\\x02\\x12P\\x05\\x9a@\\x17\\x18\\x02S`\\x05\\xec\\x803p\\x07\\xde\\xc0\\x1f\\x04\\x83p\\x10\\x8dv\\x92\\x02\\xe6\\x02.\\xdaO.\\xda\\xc9|\\xb0\\x18,\\x07%\\xa0\\x0c\\xac\\x07\\x9bA\\x15\\xd8\\x01v\\x81\\xbd\\xe0\\x008\\x04Z\\xc01p\\n\\x9c\\x03\\x97@7\\xb8\\x01\\xee\\x81^0\\x00^\\x80!\\xf0\\x1e\\x8c@\\x10\\x84\\x87\\xa8\\x10\\r\\xd2\\x85\\x8c s\\xc8\\x16r\\x86\\x98\\x90/\\x14\\x0cEB\\xb1P\\n\\x94\\x0e\\t 1\\xa4\\x80\\x16C+\\xa12\\xa8\\x1c\\xaa\\x82vB\\xf5\\xd0\\xcf\\xd0Q\\xe8\\x14t\\x01\\xea\\x81\\xee@}\\xd0 \\xf4\\x06\\xfa\\x0c#0\\x05\\xd6\\x84\\r`\\x0b\\xd8\\x01f\\xc2,8\\x02\\x8e\\x87\\xe7\\xc0\\x028\\x1f.\\x84\\x8b\\xe1\\xb5p%\\\\\\x0b\\xef\\x87\\x9b\\xe1S\\xf0%\\xf8\\x06\\xdc\\x0b\\xbf\\x80\\x87\\x11\\x80\\x90\\x11:b\\x8c\\xd8!L$\\x10\\x89FR\\x91LD\\x8a,EJ\\x91\\n\\xa4\\x16iD\\xda\\x90N\\xe4\\x1a\\xd2\\x8b\\xbcD>ap\\x18\\x1a\\x86\\x81\\xb1\\xc3xc\\xc20\\t\\x18.&\\x1f\\xb3\\x14\\xb3\\x06S\\x85\\xd9\\x8bi\\xc6\\x9c\\xc1\\\\\\xc3\\xf4a\\x860\\xdf\\xb0T\\xac>\\xd6\\x16\\xeb\\x85ec\\x93\\xb1\\x02\\xec|l\\t\\xb6\\x02\\xbb\\x07{\\x04{\\x16{\\x03;\\x80}\\x8f\\xc3\\xe1\\xe88K\\x9c\\x07.\\x0c\\x97\\x82\\xcb\\xc2-\\xc2\\xad\\xc1m\\xc35\\xe1\\xdaq=\\xb8~\\xdc0\\x1e\\x8f\\xd7\\xc5\\xdb\\xe2}\\xf0\\xd1x\\x0e^\\x8e/\\xc1o\\xc5\\xef\\xc7\\x9f\\xc4_\\xc5\\x0f\\xe0?\\x12\\xc8\\x04#\\x823!\\x84\\x90J\\x10\\x13V\\x10*\\x08\\xfb\\x08\\'\\x08W\\tO\\t#D5\\xa29\\xd1\\x8b\\x18M\\xe4\\x11\\x17\\x12\\xd7\\x11w\\x13\\xdb\\x88W\\x88\\x03\\xc4\\x11\\x92:\\xc9\\x92\\xe4C\\x8a\\'e\\x91\\x96\\x93*I\\x8d\\xa4\\xb3\\xa4\\xfb\\xa4\\xb7d2\\xd9\\x84\\xecI\\x9eE\\x16\\x91\\x8b\\xc8\\x95\\xe4\\x83\\xe4\\xf3\\xe4>\\xf2\\'\\x8a\\x06\\xc5\\x86\\x12HI\\xa3((k)u\\x94v\\xca\\x1d\\xca[*\\x95jA\\xf5\\xa7\\xa6R\\xe5\\xd4\\xb5\\xd4z\\xeai\\xeaC\\xeaG\\x15\\x9a\\x8a\\xbd\\n[\\x85\\xa7\\xb2L\\xa5Z\\xa5Y\\xe5\\xaa\\xca+U\\xa2\\xaa\\xb9*Ku\\xaej\\xa1j\\x85\\xeaa\\xd5+\\xaa/\\xd5\\x88j\\x16j\\x81j\\x1c\\xb5\\xa5j\\xd5jG\\xd5n\\xa9\\r\\xab\\xd3\\xd4\\x9d\\xd4\\xa3\\xd5s\\xd5\\xd7\\xa8\\xefS\\xbf\\xa0\\xfeL\\x03\\xafa\\xa1\\x11\\xac\\xc1\\xd3(\\xd6\\xd8\\xa5qZ\\xa3\\x9f\\x86\\xd0Li\\x814.m%m7\\xed,m@\\x13\\xa7i\\xa9\\xc9\\xd6\\xcc\\xd2,\\xd3<\\xa0\\xd9\\xa59\\xa4\\xa5\\xa1\\xe5\\xaa\\x95\\xa8\\xb5@\\xabZ\\xeb\\xb8V/\\x1d\\xa1[\\xd0\\xd9\\xf4\\x1c\\xfa:\\xfa!\\xfaM\\xfagm\\x03m\\x966_{\\xb5v\\xa3\\xf6U\\xed\\x0f:\\xd3t\\xfcu\\xf8:\\xa5:M:7t>\\xeb2t\\x83u\\xb3u7\\xe8\\xb6\\xe8>\\xd0\\xc3\\xe8\\xd9\\xe8\\xcd\\xd2\\x9b\\xaf\\xb7]\\xef\\xac\\xde\\xcbi\\x9a\\xd3\\xbc\\xa7q\\xa7\\x95N;4\\xed\\xae>\\xaco\\xa3\\x1f\\xab\\xbfH\\x7f\\x97\\xfee\\xfda\\x03C\\x83P\\x03\\x89\\xc1V\\x83\\xd3\\x06/\\r\\xe9\\x86\\xfe\\x86Y\\x86\\x9b\\x0cO\\x18\\x0e\\x1a\\xd1\\x8c|\\x8dDF\\x9b\\x8cN\\x1a=gh1X\\x8c\\x1cF%\\xe3\\x0cc\\xc8X\\xdf8\\xccXa\\xbc\\xd3\\xb8\\xcbx\\xc4\\xc4\\xd2$\\xc1d\\x85I\\x93\\xc9\\x03S\\x92)\\xd34\\xd3t\\x93i\\x87\\xe9\\x90\\x99\\x91Y\\x94\\xd9b\\xb3\\x06\\xb3\\xbb\\xe6Ds\\xa6\\xb9\\xd0|\\x8by\\xa7\\xf9\\x07\\x0bK\\x8b$\\x8bU\\x16-\\x16\\xcf,u,\\xd9\\x96\\x85\\x96\\r\\x96\\xf7\\xad\\xa8V~V\\xf9V\\xb5V\\xd7\\xadq\\xd6L\\xebl\\xebm\\xd6\\xdd6\\xb0\\x8d\\x9b\\x8d\\xd0\\xa6\\xda\\xe6\\x8a-l\\xebn+\\xb2\\xddf\\xdb3\\x1d;\\xdds\\xbaxz\\xed\\xf4[v\\x14;\\x96]\\x81]\\x83]\\x9f=\\xdd>\\xd2~\\x85}\\x8b\\xfd+\\x073\\x87T\\x87\\r\\x0e\\x9d\\x0e\\xdf\\x1c\\xdd\\x1cs\\x1cw;\\xdes\\xd2p\\nwZ\\xe1\\xd4\\xe6\\xf4\\xc6\\xd9\\xc6\\x99\\xeb\\\\\\xed|\\xdd\\x85\\xea\\x12\\xe2\\xb2\\xcc\\xa5\\xd5\\xe5\\xb5\\xab\\xad+\\xdfu\\xbb\\xebm7\\x9a[\\x94\\xdb*\\xb7\\x0e\\xb7\\xaf\\xee\\x1e\\xeeR\\xf7F\\xf7A\\x0f3\\x8ft\\x8f\\x1a\\x8f[LMf\\x0cs\\r\\xf3\\xbc\\'\\xd63\\xc0s\\x99\\xe71\\xcfO^\\xee^r\\xafC^\\x7fx\\xdbyg{\\xef\\xf3~6\\xc3r\\x06\\x7f\\xc6\\xee\\x19\\xfd>&>\\x1c\\x9f\\x9d>\\xbd\\xbe\\x0c\\xdft\\xdf\\x1f}{\\xfd\\x8c\\xfd8~\\xb5~\\x8f\\xfcM\\xfdy\\xfe{\\xfc\\x9f\\xb2\\xacYY\\xac\\xfd\\xacW\\x01\\x8e\\x01\\xd2\\x80#\\x01\\x1f\\x02\\xbd\\x02\\x97\\x04\\xb6\\x07!A\\xa1A\\xa5A]\\xc1\\x1a\\xc1\\t\\xc1U\\xc1\\x0fCLB\\x04!\\r!C\\xa1n\\xa1\\x8bB\\xdb\\xc3\\xb0a\\x11a\\x1b\\xc2n\\xb1\\r\\xd8\\\\v={(\\xdc#|I\\xf8\\x99\\x08JD\\\\DU\\xc4\\xa3H\\x9bHid[\\x14\\x1c\\x15\\x1e\\xb51\\xea\\xfeL\\xf3\\x99\\xe2\\x99-\\xd1 \\x9a\\x1d\\xbd1\\xfaA\\x8ceL~\\xcc\\xaf\\xb3p\\xb3bfU\\xcfz\\x12\\xeb\\x14\\xbb8\\xb63\\x8e\\x167/n_\\xdc\\xfb\\xf8\\x80\\xf8u\\xf1\\xf7\\x12\\xac\\x12\\x14\\t\\x1d\\x89\\xaa\\x89i\\x89\\xf5\\x89\\x1f\\x92\\x82\\x92\\xca\\x93z\\x93\\x1d\\x92\\x97$_J\\xd1K\\x11\\xa5\\xb4\\xa6\\xe2S\\x13S\\xf7\\xa4\\x0e\\xcf\\x0e\\x9e\\xbdy\\xf6@\\x9a[ZI\\xda\\xcd9\\x96s\\x16\\xcc\\xb90Won\\xce\\xdc\\xe3\\xf3T\\xe7q\\xe6\\x1dN\\xc7\\xa6\\'\\xa5\\xefK\\xff\\xc2\\x89\\xe6\\xd4r\\x863\\xd8\\x195\\x19C\\xdc@\\xee\\x16\\xee\\x0b\\x9e?o\\x13o\\x90\\xef\\xc3/\\xe7?\\xcd\\xf4\\xc9,\\xcf|&\\xf0\\x11l\\x14\\x0c\\n\\xfd\\x84\\x15\\xc2\\x97\\xa2@Q\\x95\\xe8uVX\\xd6\\x8e\\xac\\x0f\\xd9\\xd1\\xd9u\\xd9\\xa39I9M\\xb9\\x84\\xdc\\xf4\\xdc\\xa3b\\rq\\xb6\\xf8L\\x9ea\\xde\\x82\\xbc\\x1e\\x89\\xad\\xa4D\\xd2\\x9b\\xef\\x95\\xbf9\\x7fH\\x1a!\\xdd#\\x83dsd\\xadrMT8]VX)\\xbeS\\xf4\\x15\\xf8\\x16T\\x17|\\x9c\\x9f8\\xff\\xf0\\x02\\xf5\\x05\\xe2\\x05\\x97\\x17\\xda,\\\\\\xbd\\xf0iaH\\xe1O\\x8b0\\x8b\\xb8\\x8b:\\x16\\x1b/^\\xbe\\xb8o\\tk\\xc9\\xce\\xa5\\xd0\\xd2\\x8c\\xa5\\x1d\\xcbL\\x97\\x15/\\x1b(\\n-\\xda\\xbb\\x9c\\xb4<{\\xf9o+\\x1cW\\x94\\xafx\\xb72ie[\\xb1AqQq\\xffw\\xa1\\xdf5\\x94\\xa8\\x94HKn\\xad\\xf2^\\xb5\\xe3{\\xcc\\xf7\\xa2\\xef\\xbbV\\xbb\\xac\\xde\\xba\\xfa[)\\xaf\\xf4b\\x99cYE\\xd9\\x975\\xdc5\\x17\\x7fp\\xfa\\xa1\\xf2\\x87\\xd1\\xb5\\x99k\\xbb\\xd6\\xb9\\xaf\\xdb\\xbe\\x1e\\xb7^\\xbc\\xfe\\xe6\\x06\\xbf\\r{\\xcb\\xd5\\xcb\\x0b\\xcb\\xfb7Fml\\xde\\xc4\\xd8T\\xba\\xe9\\xdd\\xe6y\\x9b/T\\xb8V\\xec\\xd8B\\xda\\xa2\\xd8\\xd2[\\x19Y\\xd9\\xba\\xd5l\\xeb\\xfa\\xad_\\xaa\\x84U7\\xaa\\x03\\xaa\\x9bj\\xf4kV\\xd7|\\xd8\\xc6\\xdbvu\\xbb\\xff\\xf6\\xc6\\x1d\\x06;\\xcav|\\xfeQ\\xf4\\xe3\\xed\\x9d\\xa1;\\x9bk-j+v\\xe1v\\x15\\xecz\\xb2;qw\\xe7O\\xcc\\x9f\\xea\\xf7\\xe8\\xed)\\xdb\\xf3\\xb5N\\\\\\xd7\\xbb7v\\xef\\x99z\\x8f\\xfa\\xfa}\\xfa\\xfb\\xd65\\xc0\\r\\x8a\\x86\\xc1\\xfdi\\xfb\\xbb\\x0f\\x04\\x1dhm\\xb4k\\xdc\\xd9Do*;\\x08\\x0e*\\x0e>\\xff9\\xfd\\xe7\\x9b\\x87\"\\x0eu\\x1cf\\x1en\\xfc\\xc5\\xfc\\x97\\x9a#\\xb4#\\xa5\\xcdP\\xf3\\xc2\\xe6\\xa1\\x16aKokJk\\xcf\\xd1\\xf0\\xa3\\x1dm\\xdemG~\\xb5\\xff\\xb5\\xee\\x98\\xf1\\xb1\\xea\\xe3Z\\xc7\\xd7\\x9d \\x9d(>1z\\xb2\\xf0\\xe4p\\xbb\\xa4\\xfd\\xe5)\\xc1\\xa9\\xfe\\x8ey\\x1d\\xf7N\\'\\x9f\\xbe~f\\xd6\\x99\\xae\\xb3\\x11g\\xcf\\x9f\\x0b9w\\xba\\x93\\xd5y\\xf2\\xbc\\xcf\\xf9c\\x17\\xbc.\\x1c\\xbd\\xc8\\xbc\\xd8r\\xc9\\xfdR\\xf3e\\xb7\\xcbG~s\\xfb\\xedH\\x97{W\\xf3\\x15\\x8f+\\xad\\xdd\\x9e\\xddm=3zN\\\\\\xf5\\xbbz\\xeaZ\\xd0\\xb5s\\xd7\\xd9\\xd7/\\xdd\\x98y\\xa3\\xe7f\\xc2\\xcd\\xdb\\xb7\\xd2n\\xf5\\xde\\xe6\\xdd~v\\'\\xe7\\xce\\xeb\\xbb\\x05wG\\xee\\x15\\xdd\\xc7\\xde/}\\xa0\\xf6\\xa0\\xe2\\xa1\\xfe\\xc3\\xda\\xdf\\xad\\x7fo\\xeau\\xef=\\xde\\x17\\xd4w\\xf9Q\\xdc\\xa3{\\xfd\\xdc\\xfe\\x17\\x8fe\\x8f\\xbf\\x0c\\x14?\\xa1>\\xa9xj\\xf4\\xb4\\xfe\\x99\\xf3\\xb3c\\x83!\\x83\\xdd\\xcfg?\\x1fx!y1\\xf2\\xb2\\xe4\\x1f\\xea\\xff\\xa8ye\\xf5\\xea\\x97?\\xfc\\xff\\xb8<\\x94<4\\xf0Z\\xfaz\\xf4\\xcd\\x9a\\xb7\\xbao\\xeb\\xde\\xb9\\xbe\\xeb\\x18\\x8e\\x19~\\xf8>\\xf7\\xfd\\xc8\\x87\\xd2\\x8f\\xba\\x1f\\xf7~b~\\xea\\xfc\\x9c\\xf4\\xf9\\xe9\\xc8\\xfc/\\xf8/\\x95_\\xad\\xbf\\xb6}\\x8b\\xf8v\\x7f4wtT\\xc2\\x91r\\xc6\\xa5\\x00\\x82\\x0e83\\x13\\x807u\\xa8^NA\\xb5\\x03\\xaa\\xa5I\\xb3\\'\\xf4\\xf6\\xb8A\\x13\\xdf\\x08\\xe3\\x04\\xfe\\x13Oh\\xf2qs\\x07\\xa0\\xce\\x1f\\x80\\x84\"\\x00\"Q\\x8d\\xb2\\x1d\\x1d\\xe6(S\\xd0yL&\\xc5\\xfb\\x03\\xd8\\xc5E9\\xfee\\xb2L\\x17\\xe7\\x89\\\\\\x14Tmb?\\x8e\\x8e\\xbe5\\x00\\x00\\xdf\\x06\\xc0W\\xe9\\xe8\\xe8\\xc8\\xb6\\xd1\\xd1\\xaf\\xbb\\xd1b\\xef\\x00\\xd0\\x9e?\\xa1\\xf3\\xc7\\x0c\\x87~\\xfd\\x94[\\xea\\xe0\\xb0\\xddW\\xb4\\x1d\\x8a\\xc0\\xdfl\\xe2\\x1b\\xe0O=\\xfe}\\x06c\\x15\\xb8\\x82\\xbf\\xcf\\xff\\x04\\xec\\x8f\"\\x17\\xaf^\\xba\\x1e\\x00\\x00\\x00VeXIfMM\\x00*\\x00\\x00\\x00\\x08\\x00\\x01\\x87i\\x00\\x04\\x00\\x00\\x00\\x01\\x00\\x00\\x00\\x1a\\x00\\x00\\x00\\x00\\x00\\x03\\x92\\x86\\x00\\x07\\x00\\x00\\x00\\x12\\x00\\x00\\x00D\\xa0\\x02\\x00\\x04\\x00\\x00\\x00\\x01\\x00\\x00\\x00c\\xa0\\x03\\x00\\x04\\x00\\x00\\x00\\x01\\x00\\x00\\x00Y\\x00\\x00\\x00\\x00ASCII\\x00\\x00\\x00Screenshot\\x16L\\x05\\x8a\\x00\\x00,\\x9cIDATx\\x9c\\xed\\xbdW\\x8f\\x1d[\\x96\\xa0\\xf7m\\x13\\xee\\xd8\\xf4I2\\x99\\xbc\\xbc\\x86\\xd7\\x94\\xed2\\xad*\\xdd\\xaa\\xa9\\x19\\x08#\\t\\x82\\x80\\xd1\\xe3\\xbc\\xcd_\\xd2\\x93\\xe6i\\xa0\\x07\\xfd\\x07\\x01\\x82\\x80\\x06\\xbagZS]\\xae\\xab\\xcd\\xf5\\x86\\xf7\\xf2\\x92Lo\\x8e\\r\\xb7\\x9d\\x1e\\xe2\\x9c\\xcc\\x93\\xc9\\xa4g\\x99\\x06f\\x01\\xc9sN\\xc4\\x8e\\x88\\x1dk\\xed\\xe5\\xd7\\xda\\x14\\xff\\xf1\\xff\\xfc\\xdf\\x03W\\x80\\x10\\xe2\\xaa\\xc3/\\x0cO\\xbb_\\x08\\x17\\xa7qy\\xfc\\xa3\\xd7\\xbf\\xc8\\xfc\\x02 \\x08\\x04\\xc2\\x13\\xe6#\\xc2\\xb3\\xde=<\\xf3<\\x9a\\xf9\\x9f\\x8f\\xbf\\n\\xe9\\xfa\\xe2\\xe0\\xcb\\x17?a\\x1a\\xe1J\\x1a>\\xf3\\xf8\\xa7=\\xef\\xc9\\xcf\\x17\\xcf\\xfd\\xfc\\x85\\x994\\x88x%k\\xedyorN\\x88p\\xe9R!\\x04\\xf2UL\\xe9\\xbf\\xc1\\xab\\x01\\xfd\\xb8\\x13/\\xbe\\xf2\\x9e\\r^5\\xe7=/<\\xf1\\xfe\\xe1\\xd5\\x8b\\xe9g\\x81\\xff\\xc6\\x19\\x7fF\\xf0X\\xce\\xf8s\\x87\\xa71\\xce\\x93\\x17\\xb6xTh?\\xd7\\xfd\\xc3S\\xee\\xffb\\xf0\\'#\\xc6\\x1fZ\\x0c\\xfdK\\x84\\x17\\xd6\\x19/+S_\\x9e\\x18/\\xb94\\x17\\x9e\\x7f\\xd5L\\xfe\\x14:\\xe3\\x89\\x9c\\xf18N~\\xf4px\\xec\\x99\\xc7\\xc3\\x8b\\xfb\\t/\\x0b\\x01\\xf0b\\xfe\\xed\\xd1\\xd9\\x84 \\x08\\x08\\xc4#T\\xf2\\xcc\\x0f\\x86g\\x98\\xc7\\xf3\\xceT\\x0b9\\x7f\\xe2e?\\xe0\\xaa\\xa3\\x8bp\\xc5\\x99g6\\xe0\\x1f\\xf5\\x13\\x84\\x90\\x97~_}\\xdd\\xf9\\xe7\\xccf\\xbf\\xd2\\x7f\\tx\\xef\\xae\\xb8\\xbe\\x19\\xeb\\x85 Hu\\xc9\\x05\\x9b\\xfd\\n\\x02!\\x04>\\x08D\\x10\\x88\\xb3\\xf7\\xf4\\xc8\\x19\\x01\\x03\\x02\\xbfH\\xc8+&\\x1bB@\\x04\\x90\\xf3s>\\x9c\\x8f\\x15\\x8fb/\\x84\\x80~\\xdab\\x9b\\xfb\\x8dO\\x87\\xa7\\x11\\xe1\\xd5\\xb3\\xfd\"!B\\x08\\x08!\\x08\\xc17O\\x13\\x97\\r\\xc5E\\xe4\\xc9\\xc6|={;1\\x9b\\xdd\\xe2\\nl\\xdc\\xf0\\xf93\\x84\\x143w\\xf1\\xc2\\xc8\\x0b\\x84\\x08\\x97\\x8e=\\x123X\\x18{\\x81\\x13g\\x9fZ0\\x13\\x9fW\\xe0\\xea\\xaa\\x0b\\xae\\x84p\\xbeR\\xaf\\x86\\xab\\xce\\xbf\\x9c\\xce\\xb8L\\x88\\xe6\\xd3\\x9f\\x11CJu\\xe9Y\\xe7\\xe3e\\x00\\x7f\\xf6\\xd2sq\\xb4\\x80T\\x11@\\xccP\\xbf\\x10\\xc6\\xb8 \\x9a\\x16\\x9e\\x7f\\xe1\\xcd\\xe4\\xa3xX\\xe4\\x86\\xb9\\xe8\\xbb,\\x02\\x83\\x00\\xfd\\xcc\\xb1\\x15.\\xa3\\xefE\\xf4\\xc4\\xf3\\xc0\\xc5\\xfb^\\x14GsD\\xceY\\x7f~~N\\x14\\x9e(\\xa6\\xceE\\x92d\\x8e\\xe4\\xb3\\xbb\\x8b@\\x08\\x1e)\\x9b\\xfb\\x9f\\x1f\\x9f\\xe9\\x11\\x04\"\\x84+\\x97\\xd7\\xb3\\xc0\\x93,\\xeasb<a\\xa1\\x8a\\x85/s\\xf5u~\\xe7\\x17#\\xc6e12_\\xd1\\xf3\\x07\\t!/\\x11\\xe0\\xb2\\x9e\\xb9h\\xeb7\"\\xeai\\xdcv\\x8e`q6\\xf5\\x86(\\x02A\\x10\\x81\\x80\\x07\\x01\\x1e\\x0f\\xb8\\xd9s\\x14\\x81F\\xb4\\x05@\\xb1\\xb0\\xb2C \\x88s\\x11t\\xd5\\x1c\\xe6\"\\xf4i\\xa0\\xcf\\xa7\\xf8lp\\xb5\\xd4{\\xb6+\\x9e\\x07\\xe6\\xc49\\x17A\\x8b\\xe7\\xce\\x11\\xda\\xfc5\\x84\\rg\\x7f\\xe1\\n\\x9d1\\x1f!\\xce/\\x9c\\x1f\\x0b\\xe7\\x9c&D\\xf3\\xdd\\x07\\x8b\\xc07\\xc3\\x82\\x9b\\x8d\\x91\\xb3E\\xb20/!fD\\xba\\xb0LY\\xfcqy\\xa1\\\\E\\x18\\xc1b\\xd4\\xf6\\xf2\\x8d\\xae\\x80s9\\xf7<\\x84x1\\x13\\xf6\\x9c\\x083y=g\\xc6\\x19!\\xbco\\x10%\\xa5D\\x88s\\xae\\n3\\xdc\\xfa\\xab\\xb8$\\x9c+\\xe5 \\xce\\xad\\xa7\\xf3y\\xce\\x05\\x96\\x07\\xe1\\xcf\\xc67\\xe0/X\\xd6\\x9e\\x8bRB \\xcf\\xf4\\xfe\\xe2\\xdb\\x9f\\xbfCC\\x04\\x11\\xe6\\x8b\\xe5\\xd2\\xb2\\x0e\\x97\\xfc\\x8c\\xe7\\xe1\\x90\\xa7\\xc3\\xd3\\x88\\xf0\\x88qw\\xf1\\xd7eNX N\\x00\\xacwH\\xd9\\xacRy\\xc9\\xa2\\t\\x04\\x82\\xbbJg\\\\5\\x87K\\xfag\\xf6\\xa9T#\\xba\\x98\\xd1\\xb9\\xe14\\x01!4\\x87\\xe6\\n\\xf9\\xcc\\xc4~\\xd4\\x8a\\x9b\\xbf\\xc3\\xd9\\xf4\\xfc|E\\x01\\xeaQ\\xfc<\\xe2\\xf4I\\xd1L\\xe7\\xe5<\\xe4f\\xa55\\x13\\x0c\\x17V\\xc6\\xfc\\xb3\\xb1|\\x16,\\x1c)\\x17VK\\xf3\\xe9\\x9c\\xc39\\x87\\x10\\x12)\\x05R*B\\xf0\\x18\\xe7\\x89\\x93\\x14\\x00k-UY\\xe2\\xbdGJ\\x89\\xd6\\x1a!\\x04\\xc64\\xd7FQ\\x841\\x06\\x808\\x8e1\\xc6\\x10)\\x8dB d\\x83D\\xef\\x1dB6\\x04PJ5\\x8a=\\x08\\x9c\\xf3\\x0b\\xf73\\x08\\x01J)\\x9c\\xf7 \\xe5l\\xa6\\x97\\xcd\"\\x87\\xa0\\x19\\xb7(\\x17\\xe6>\\x87\\xa0\\x11mWa\\xf7J\\x0f\\xfc\\xe58\\xe4\\x19\\xad\\xb3E6\\x15bA\\x01B\\x08\\x0e\\xa5\\xf4\\x99y\\xdaXG\\x01\\xe7jB\\x00\\xeb\\x03\\xa64H\\xa9\\x90R\\xa0d\\xd4\\xb8a!P\\x95\\x06\\xe7\\x1cJ)\\xaa\\xca@\\x90(\\x15\\xa1\\x94B\\nI\\xf0\\x16\\x94\\xa2\\xaa\\rsq\\xa4\\x94@\\xcd\\xac\\xa5\\xb26X\\xeb\\x89t\\x82\\xf7\\xe0\\t(%qA\\x9c\\xadp\\xdf\\xa8\\xf3\\x99\\xeai\\x8c\\r\\x04\\x04?c\\xa3\\x10X0\\xee.\\x18\\x1aO\\xc2\\xebc\\xc3!/F\\x90g\\xf77.ZO\\xe7\\xba\\xc1{\\xdf \\xdcVH\\xa9f/\\xdb\\x9c\\xf7\\x1e\\x9c\\xb38\\x0fq\\x94\\xcc\\xb8\\xa2\\xc6Z\\x07\\x08\\xa4lVv\\xa4\\x1b\\x0e\\xb0\\xc6\\xe1]\\xc35\\xc6\\x18\\x9c\\xb3h\\x1d\\xd1\\xef-\\xe1\\x83D*\\x89\\x94\\x1e/\\x02\\xceZ\\x94\\x16\\xa8(\\xa6\\xddJ(\\xf2\\x1a/  q\\x80\\x97\\x12!\\xc2\\\\j\\xe1\\xea\\n!\\x9a\\xe7\\t\\x19\\x10\\x92\\x0b\\xeeL\\x08\\x8d\\x8e\\x99+\\xfc\\x0b\\xf8\\x0caf\\xbd]\\xc4\\x8e^p\\x1b\\xcf\\x11\\x16\\xce\\xbe=\\x86 \\x17M\\xce\\x17\\x850[As\\x0bfQ~GQ\\x8cs\\x1eg\\x03\\xde{\\xbc\\xf7gb\\xcb\\xba@\\x91\\x9b\\xb3c\\xd6Z\\xf2\\xbc`8\\x1c2\\x1c\\x0e)\\x8a\\x82<\\xcf\\xa9\\xeb\\x1ak-\\xde7\\xa2RIE\\xab\\xdd\\xa2\\xd3\\xed\\xd3[Z\\xa6\\xd5N\\xe9\\xf7;\\xf4\\xfa\\x1d\\x92XQ\\xdb\\nks\\xbc\\x0b\\xb4\\xdb]@\\xe0\\xb1\\x04\\x0f\\xc1;\\x82\\x08H\\x012\\x04b\\xa5g\\x96V\\x00\\xef\\ta&\\x82f\\xdc\\x11\\x98q5\\xfe\\\\\\x8f\\\\\\xe1\\xf8-\\x12D\\xcb\\x99\\x15\\xf0H\\x8c\\xe7\\x92\\xdb\\x0f\\x8b\\x17\\xce\\xf5\\xc1\\xb3ZK\\x8b\\x16\\xcb\\xec\\x88\\x900\\x13-af\\x86\\xcc\\xc5\\x95\\x10\\x12g\\x03\\xd6\\xba\\x192\\x9b\\x17t\\xceSU5\\xc68N\\x07CNNN\\xd8\\xdf\\xdf\\xe7\\xf4d\\xc0t\\xda ?\\x84\\x80\\x94r\\xc6aav\\x0c\\x928!\\x8ecNOG\\x14\\xf57\\xe8(F(A\\xaf\\xd7fkk\\x93[\\xdb7X[[\\xa1\\xd5\\xca\\xd0\\xb1\\xc6\\x9b\\x1a)%\\xf8fN\\xb2a\\xcfY\\xaeZ`\\xabz\\xf6\\x1e\\xcd?B\\xa9F\\xef\\xc9f|\\xf0\\r\\x11\\xc2\\xcc\\x1f\\xba\\xc0\\x05\\x8b\\xfe\\xd1\\x02A\\x16L\\xdby\\xec\\xe5\\x8f\\x03s\\xeb\\xa41K\\xcf\\xbd\\xf9\\xe0\\x1b\\xa2\\xcd\\x11\\xdb\\xd8\\xfc\\x82<\\xcf9=9\\xe1\\xe0\\xe0\\x90\\xe1`\\xcc\\xdd\\xbb_S\\x14\\x05\\xc64\\xbaC\\xab\\x08\\x98\\x8b3O\\x14E\\xb4\\xdb\\x1d\\xbco\\x08X\\xd7\\x06o\\x03:\\x8a\\x88\\xa4\\'I\\x12\\xea\\xbabx|\\xcat0\\xe4\\xe1\\xdd{l\\xac\\xaf\\xf2\\xfak\\xdb\\xdc\\xb8\\xbeA\\x1a\\xc7(\\xad\\x903\\xe4G*>3n\\x84V\\x18\\xdfT\\x98\\x9c\\xc9\\x933\\x8e\\x90gx\\xf4\\xa2\\xd1]Wa\\xf5\\x02mf\\x04\\xd1\\x17O\\xbc\\xea\\xd0\\xc6lI\\x84\\x05\\xb97\\xfb\\xe2\\xdc\\\\\\xd9\\x893\\xdb\\xdf{\\x8f\\xb3\\x16\\xe7\\xe6z\\xc30\\xcdsNN\\x06\\xec\\xed\\xed\\xb3\\xf3\\xf0\\x01\\x07\\x07\\x07L\\xc79Y\\xda\\xc6\\x19\\x8bD\\xd0\\xebtY^^\\xa5\\xddn\\x93$1q\\x1c\\xb3\\xb4\\xb4D\\xab\\xd5\\xa6(J\\x8e\\x0e\\x8fx\\xf0\\xe0\\x01\\x87\\x87\\x87\\x18c0\\xd6`L\\x8dV\\x92Hk\\xb0\\x9e\\xe1\\xc1)\\xd3\\xc3\\x13\\xf2\\xc3#N6\\xd7\\xd8\\xba\\xb6N\\xac\\x9b\\xd0\\x87B\\x12\\xabd&\\xae\\x04>\\x8dh\\xad-!\\xb5F\\xeb\\xa8!\\x9a\\xd6\\xe7\\xafKc\\xb9\\x05\\xb9\\xa0/\\x16\\x04\\xc3\\xa3\\xa1\\xf9\\xe6\\x98~\\x19\\xab\\xe9\\xaa(\\xe6\\xa2>\\t\\xcc\\xacD\\xcf,\\xaa3?\\x1d\\xb0\\xd6\\xcc\\xcc\\x11\\x89D\\x11\\\\\\xc0\\x9a\\x9a\\xaa\\xae0\\xd6ST5\\xe3\\xc1\\x84\\xfd\\x9d]\\x1e|\\xf35{{;L\\xca\\n\\x19\\xa5d\\xed%LQ\\x93\\xc4\\x19\\xabk+\\xbc\\xf6\\xda-\\xaemn\\x10\\xc7\\t\\xcey\\xac\\xf3\\xac\\xadm\\x000\\x99Lhw\\xda,\\xad\\xf4\\xd9\\xd9\\xd9\\xe1\\xf4t\\xc0\\xe0\\xf4\\x18kjl\\xed\\xa8*A\\xa45\\x91\\xca\\x10\\xa1f8\\x18b\\x8a\\x9c\\x93\\xfd\\x03\\x12\\xad\\xc1y\\x82\\x0f(\\xa5\\xf0\\xce\\xe3\\\\\\x80X#\\x92\\x98,\\xcbX^\\xea\\xb3\\xb2\\xb2B\\x7fi\\x89V\\xb7M\\xd4J\\x10Z\\xcd\\x94\\xf4\\xcc\\xeb\\t\\x1e\\x89\\xbc\\x84\\xa7GA?\"\\x9a\\x02\\x8f\\x14x]\\x8e\\x01\\x9d\\r\\r\\x02\\xbf\\xe0\\xa4\\xce\\x15Z `\\xbdCE1\\x08\\x89u\\x96\\xe0\\x1d\\x91T\\xe8\\x99<\\xd5ZS{\\x87\\x17\\x01a\\x03\\xaep\\x08\\x01\\xde9\\x86\\x93)_\\xde{\\xc0\\xc3/\\x1f0><\\xa5\\x98\\x1c#\\x84\\xa1\\xdb\\xe9\\xa1;\\xcbl\\xae^\\xa3\\x13\\xa7\\\\\\xdb\\\\g\\xfb\\xb5\\x1b\\xf4\\xba\\x19`QR\\x11\\x82`<\\xae\\x08h\\xe24am}\\x8d\\xdd\\xfd\\x87\\x9c\\x0c\\x0f\\xb8\\xf5\\xc66w\\xa2;\\xe4\\xe3S\\xbe\\xfc\\xf43\\x8e\\x8fr\\xa6SO]\\x19\\xe2$\"\\x89%\\xce\\xe78!\\x18O+N\\xca)Y\\xd2\\xc6yGe&\\xc8H!\\x94$q\\x81\\xeahD$\\x04{\\xe1\\x1e\\xddN\\x9bn\\xaf\\xcb\\x8d\\xd7\\xb6x\\xfd\\x9d;\\xe8V\\x8a\\xf5\\x9e\\xb8\\x9d\\xe1\\xbd\\xc3;GLc^{\\x1f\\x10\\xf2<\\x1f\\xb2\\x88\\xcfg\\xca\\x817\\x16\\xcf\\xfc\\xfby\\x90p1\\xa8,\\x04\\x88\\xe0\\x113\\x93UI\\x8ds\\x1eO@+\\x85\\x90\\nA\\xc0yG\\xf0\\x12\\x81F\\x12\\xf0\\xb6\\xa2*\\x1c\\xc1H\\x9c7\\xec\\xec\\xef\\xf2\\xd9\\xdd\\xaf\\xf8\\xe4\\x8b\\xbb\\x98q\\x8d\\x0e\\x92N\\xd6b{{\\x83\\xd5k7\\xf1:#KS6VW\\xe8\\xf7\\x97Y]]#K\\x13\\xbc7\\x98\\xba\\xa4,\\x0b\\xd2,\\xa6\\xd3\\xe9\\x02p|z\\x88\\xd6\\xb0\\xb5u\\x9d\\xbc\\xa8Y]]g\\xe5\\xdd\\xf7\\xb8}\\xfb\\x1d\\xfe\\xbf\\xbf\\xfd\\r\\xff\\xf8\\x0f\\x1fb\\x9d\\xa1\\xd5\\xeb\\xe1\\x83#\\xcfK\\x82\\x97$Q\\xc6\\xa4\\xaa\\x99\\xd4S\\\\\\xb08<\\xca\\xa78\\xefPaJ\\xbf\\x95\\x92\\x17\\x05\\xc2;\\xac\\x1b3\\x9a\\x8c\\x19WS\\xac\\x84\\xd7\\xdf}\\x9bXgM\\x80P\\xca\\x99O\"\\x1fY\\xd8\\x97\\xe1\\xc5\\n\\x12\\xc2\\\\qI\\xa4\\x08g\\nK0\\x0b\\xe7\\xfb\\x86\\x82\\xc1\\x87\\x99\\xa5!\\t\\x02\\x8c\\xb3Xk\\x086&\\x18O\\xa4\\x1cZ\\x1ajSs|4fg\\x7f\\x9f\\xcf\\xef~\\xc9\\x17_\\xdd\\xa5\\xdb\\xeb\\xe11\\xb4\\x97V\\xb9}{\\x9b\\xf5\\xb5e\\x94\\xd0\\xb4\\xb3\\x0e[\\xaf]\\xa3\\xbd\\xd4F\\x86\\x94\\xba\\xf2\\x98\\xaaq\\xf4\\x0e\\x8f\\x0f\\xd9?\\xb8\\x8f\\xb3%\\xafm\\xdf\\xe0\\xfa\\xb5\\xeb,w3\\xda\\xbdM*k\\xd9\\xdd?\\xa2\\xbf\\xb4\\x8a\\x8a;|\\xb3\\x7f\\x97{\\xbb\\xfbx\\x05\\xbd^\\x9b\\xa2\\x1cQ\\xe5Sn\\xdf\\xba\\xc5_\\xfe\\xf8\\'|\\xfc\\xd1gL\\xeb{L\\xf21RK\\x94\\x8e1\"\\xa6\\xb6\\x10k\\x18YK\\xc0\\xd3N\\x13Jg\\x10\\xcea\\xc7c\\xb8\\x7f\\x8f\\xee\\xb55\\xae\\xb5o\\x10\\x9co\\xac\\xaf\\x99s\\xfa\\xb4\\xc8\\xf23\\x13\\xe3r:\\xe1<R\\xba\\xa0\\x9c\\xc5\\xdc\\x1a\\x02!\\x14r\\xa6/\\\\m\\xf1\\xb8\\xc6\\xdb\\r\\x0e\\xe5+\\xb47L\\x06\\xbb\\x0c\\x87\\xbb\\x1c\\x9e\\xe4\\xdc\\xdb\\x19qo\\xef\\x98\\xc1$\\'\\xd5m\\x94\\x03[\\x1bZ\\x9d\\x16\\x9b7o!\\xa5\\xc4L\\xa6\\xf4;\\x1d6\\xd7\\xd6)]IU\\xd5L\\x86S\\x94\\x8aH\\xb3\\x14\\xebkj[\\x12i\\xc1p4\\xa4\\xd7\\xed\\xd2nu89\\x1dq2\\x9a\\x12T\\xca\\xe9\\xd4\\xf3\\xc5\\x87\\x9f\\xf17\\x7f\\xfb\\xcfL\\xa6\\x81\\xb4\\xb3\\xcc\\xc9\\xe4\\x18\\xbc\\xe1g\\xef\\xff\\x9c\\x1f}\\xff\\x07(\\xa9\\xa9\\x83fb+\\x8a\\x9d\\x9a\\x80\\'(EUX\\xaa:\\x10%-\\xa6\\xa6\"\\x92\\x1a\\x99fTSK+KI\\xda)yQ2\\x1e\\x8f\\xd9\\x0c\\xa1\\t\\xe5(\\xd9x\\xf7Wd%_\\x98\\x18\\x17\\xa117\\x03\\x8d~\\x11B\\x10\\x84?;\\x06\\x82H\\xea&\\x0f`\\x1c\\xce5\\xe1h\\xb0\\x94\\x93!\\xf6\\xe4\\x94\\xe9\\xfe\\x1e\\xe3\\xe1\\x1e\\'\\x83C\\x86e\\xc40O\\xb1\\x05h\\xda$1(Q\\xd3kuX_\\xdb\\xa0\\xb7\\xbcJQ\\xd7t\\xb26\\x1b\\x1b\\x9b\\x14\\xd3\\xaa\\xc94\\xd8\\x80\\xa9sj\\x1c.h\\xf2\\xe2\\x84 \\x0c\\xed\\xce2\\xdb\\xdb\\xb7\\x91AP\\x1b\\xcf\\xee\\xfe\\t\\xb9\\x81\\xd6R\\x9f\\x0f>\\xf9\\x86\\xdf~p\\x97\\xa1\\xcd\\x10\\x89\\xa6p\\x13&\\xe6\\x94^\\xab\\x83\\x88[\\x0c\\xa69\\xa6\\xaa\\xd9\\xba\\xb5\\xcd\\xb4\\x9eB\\x04\\xbb\\xbb;TeE\\x08\\x1a)D#ju\\x84\\x0b\\x8eim)\\xcb\\x12!\\x13T\\xac\\xd0B\\x9f-T\\xe7\\x1c*\\xcc\\x9d\\xc3y\\x10\\xe5\\xa2\\xd8\\x7f!b\\\\\\x08_\\x84\\x06\\xe1\\xf3\\x9cB\\x98\\xb9\\xf7>\\x04|\\x90\\x04\\x04\\xd68\\xb4\\x92\\xb3\\x87xl1a|\\xb2\\xcf\\xee\\xbd/8\\xb9\\xff\\t\\xaa\\x1a\\xd3\\xeb\\xb7X\\xe9u\\xc8\\xfa\\xcb\\xb4\\xc3*Ku\\xc2\\xb4\\x0c\\x04;A\\xb81E]\\xb2\\xba\\xdc\\xa6\\xd3N(MMP\\x82\\xb4\\xdf\"V)\\x82\\x86\\xf3\\xb24\\xa2\\xac\\xa7x\\x1c\\xbd\\xbaC\\x92d\\xac\\xafl\\xb2\\xdc\\xdb\\xa0\\xcc\\'8\\xef\\x88tJ\\x1a\\xa5\\xec\\x1c\\x96\\xfc\\xfa\\x1f\\xefs\\x9a+\\x1c\\x11\\xe0P(\\xb2\\xe5\\x08I\\xc1_\\xfd\\xe7_\\xf3\\xc9\\xe6g\\xfc/\\xff\\xd3\\xbf%/\\'\\xdc\\xb8q\\x8d\\x80cpz\\xcat\\x9c\\xd3\\xce2\\x04\\x92\\xdaZ\\xb4\\xd2\\x04\\xe31u\\x8dR\\x1a\\xe7\\x1c\\xe3\\xc9\\x98\\x95\\xf5\\x15Z\\xed\\xd6\\x05\\xff\\xa2\\x11O\\r\\x0e\\x85\\x94\\x8f\\xf5\\xe6^\\xbc\\x88m\\x9e\\xfc\\xf1 \\xe4B\\xcc\\x89\\x80\\x0bP\\x1b\\x8b\\xa8\\x0c\\xd2\\xd6\\x98\\xe11\\x83\\x9d\\xbb\\x1c\\xde\\xff\\x8a\\xf2t\\x8f\\xc8\\x1d\\xf3\\xfav\\x97\\xeeZ\\x8f\\x90\\xad1\\x0c\\xabt\\xc5&N.!eJ\\xaa\\r\\xc2\\x8d\\x19OG\\xa4\\x9d.\\x8a\\x8a\\xaa\\x1c3*s\\x1e\\xf43V{\\x9b\\xb8\\x12\\xb2T\\x80\\xacI3\\x85\\xd2\\tR&\\xe4S\\x8f\\xa6\\xcd\\xfe\\xc3\\x13\\x9c-(\\xab\\t\\xfb\\xa7#\\xf6G\\x96O\\xee\\x97\\x1c\\x1eY\\xdak\\xebL\\'\\xa7DI\\x17\\xe9Z\\xd8\\\\\\xa1\\xa4F\\'\\x05\\x93\\xa2\\xe2\\xcb\\xaf\\xbf`\\xa9\\xdbb\\xfb\\xc6M\\xd6W\\xd6Y\\xea,1:\\x1e\"\\xb1\\rB\\x83@X\\x89\\x96\\x12\\x1d<Q\\x12\\xa3d@E\\xb0\\xb9\\xb9\\xc9\\xf2\\xf2\\x12ZK\\xecLg $!8\\xc2,9%\\xcfm\\xfc\\xe7\\'\\xc6\"W4%(\\x1e9\\xab-\\x9a\\x9b\\xc1\\xf3\\xa4\\x0e! =\\xb4\\x94\\xa2*&L\\x8f\\xf79\\xb9\\xff)\\x0f?\\xff\\'\\xea\\xe3cn_o\\xf3\\xeewo\\xe2dI.\\x1d\\xe3\\xba\\xc6\\xa61\\x9d\\xde2^v\\x08\\x0e\\x92H\\xb3\\xb6\\xbc\\x8c\\x10\\x82\\xe1x\\xc28\\xafYnw\\xc96\\xd6Y^^\\xc1\\x18C\\xd2J@5/\\xabu\\x84\\xd612\\x14\\x0c\\x0e\\x0f898@\\x0bK\\x14W\\xd4a\\xc2\\xe9\\xd4p\\x7fw\\xc2\\xc9IB\\x9cm\\x91O\\x07\\xb4\\xbb]\\xa6\\xa7\\x13\\x10\\x9a4\\xee\\x12\\xbcB$\\x15\\xd3\\xfa\\x80_\\xfd\\xe6\\xef\\xf9\\x1f\\xfe\\xf5O\\xd1Q\\xc4z\\xbb\\xcf\\xcd\\x1b\\xb7\\x18\\r&\\x14\\xd5\\x14\\xeb\\xca&HY\\x19\\xb24\\xa6.\\njkH\\x12\\xc5\\xf2\\xd2\\n\\xdb\\xb7\\xb7Y^]&H1S\\xa3\\xf3\\x88t\\x13q\\x90B\\xd1$\\xaa\\x9e\\x93\\x18\\x97\\x13&\\xb3\\xe0\\x04\\xd2\\x07\\x84\\xf7\\xe8(\\xa2\\xf6\\x1eg\\x02Rk\\xbcu\\x98\\xb2B:\\x8f\\x06\\xcc\\xf1!{\\x9f\\x7f\\xc0\\xfeW\\x1f\\x90\\xfa!\\xef\\xbc\\xd9\\xe3\\xfaZ\\n\\x14\\x18\\x15(e\\xc4\\xb8\\x8eY\\xea\\xaf\\x93t\\x97\\xa8*H;\\tU5\\xc5\\xe9\\x84\\xe9x\\xc2p\\\\\\xd2\\xed,q\\xf3\\xc6\\x1a2R\\xa8X\\x93W9Q\\xdc\\xf8$\\xc1K\\x9c\\x17\\x98iM>\\x1ec\\x8a\\x01\\xb6\\xda\\'\\xc81:\\xaa\\xa9\\xebS\\xa28\\xe6\\xc6\\x8d6Fy\\x0e\\x06\\x03\\x86S\\x8d/\\x04I\\x1a\\xe1m\\xc0:\\x8fF\\xa3\\xa3\\x0eBV`\\x02\\x93i\\xc9\\xe1\\xe11\\xde\\x1cr\\xfd\\xc6M\\x0e\\x8f\\x06\\xfc\\xfe\\x9f~\\xcf\\xea\\xda\\x12\\xae\\xaa\\x88d\\xa0\\x9c\\x8e\\x108\\x94\\x86V\\'\\xe3\\x8d\\xb7\\xde\\xe0\\xfa\\xd6u\\x1c\\x01)$q\\x9a \\x85\\xc29\\x07H$\\x12\\xef<R\\xf2\\xea\\x14\\xb8\\'\\xa0\\xa4\\xa04\\x15h\\r\\x91 /s\\x821D.\\xa0+\\xc3\\xf1\\x83\\x07<\\xfc\\xf2C\\x1e\\xde\\xfd\\x90\\x98\\x92\\xad[)[7\\x12\\x92\\xd81q\\x96\\xb8\\x95\\xa0\\xbdB\\x87\\x18\\x89\\xc0\\xd7\\x15\\xd5\\xd4\\xe2\\x8d\\xa7\\xf2\\nY%\\x0c&%y\\x11\\x91e\\tX\\xb0\\xbe$\\x00Z\\x06\\xbc\\xb1\\xd4U\\x8d\\xab,ZH\"%h\\xc5\\x8e\\xa5\\xaeC\\xba\\xc0`0\" \\x91:B\\x90\\xe2\\xeb\\x04!b\\xe2(\\xa1\\x9d\\xc6x<\"X\\xbc\\x0c\\xb8&\\xb6:CG\\x8a\"\\xe6\\x97\\xbf\\xfe\\x07:\\xbfh\\xf3\\xc6\\xad[\\x0cN\\x86\\xd4uI\\xaf\\xb7\\x841\\x82\\xb2(\\xc8t@\\xeb&\\xec\\xd1_\\xea\\xf0\\xe6\\x9d\\xd7\\xb9\\xf3\\xee\\xdbt\\x97\\xfa\\xe4UI\\xbb\\xdda\\xb1\\x86\\xe4B\\xe0u!}\\xfb\\xdc\\xc4\\x08a\\x16\\x06^\\xc8\\xce\\t-\\xb1\\xd6!\\xb5\\xc4\\x89@\\xe9*\\x12@X\\xc3po\\x97\\xdd\\xcf?f\\xb2\\xf7\\x80\\x96\\xaf\\xd8\\\\\\x8f\\xd8Xo\\xa3\\xb2\\x80Q\\x8d\\x88s\\xd6\\xa0\\xa4%\\x16\\x01e+\\xd28 \\xe3\\x16Nf\\x0c\\n\\xcb\\xc3\\xafN\\xf9\\xfa\\xebo(\\xc7#~\\xf8\\x9eb}i\\x19\\x11\\n\\x0e\\xf7\\x1er:\\x18\\xb3\\xb9q\\x93rj(\\xa7\\x05\\xce\\xe4\\x08_`\\xcd\\ty\\xbeO\\x91\\x0f\\xa8m\\x85+Z\\x14.el[\\x9cLR\\x86\\x03EQk\\x1c\\x8a \\x03N\\xd8\\xa6\\nd\\x96]\\xad\\x91h\\x12\\x10)Y\\xe2y\\xb8\\xbb\\xcb\\xc6r\\x972\\x1fc\\xaa)\\xc1Z\\x02\\x92v\\xbb\\x8d5C\\x9c\\x84\\xf6R\\x9fw\\xbe\\xfd\\x0e\\xef~\\xeb]\\xda\\xbd\\x0e\\xb5\\xb3\\xc4i\\x8a\\x17\\x02%d\\x93\\xa7?\\xeb\\xbcxrQ\\xe8\\x13\\n\\x9f/\\'\\x7f\\xe6\\xd5\\x1a\\rg\\xf8\\xe0AI\\xacw\\x18S\\x13\\x11HB`\\xbc\\xbf\\xc7\\xd7\\x1f\\xfc\\x13\\xc3o\\xee\\xd3V\\x96\\x8d\\xd5\\x1567\\x12\\xd2\\xc4S\\xd9\\x1aT \\xcd$\\xc6\\x04Z\\xc2QSB> \\xc8\\x1e.(\\xf6Gc>zx\\xca\\xef?\\xfb\\x9a\\xb2\\xaaX\\xea$\\xac\\x1f\\x0e\\x80\\xcf\\xb0v\\x1fc\\x8f\\xc8\\x94g\\xaf\\xd8\\xc3\\xd6\\x9e\\xba\\xaa1\\xf5\\x14\\xef\\xc6\\xe0\\'\\x04Q\\xe1\\x83@%\\x1d&6cP\\xb4\\x18\\x14\\x19\\xc7\\x93\\x88q%\\xa9\\xad\"hI\\xf0\\xe0\\xc5\\xac\\xf8\\x80&l\\xef\\x83\"\\x88\\x08DL^\\x9cr\\xef\\xde=\\xdey\\xfd:\\xaf\\xdd\\xbeI]\\xd7\\x8c\\xc7S\\xa6E\\x8d\\x0f\\x868\\x8b\\xd8\\xdcX\\xe3\\xf5\\xd7_\\xe7\\xf5\\xb7\\xde\\xa4\\xbb\\xd4\\xa7\\xb65\\xce{\\xfa\\xdd\\x1e\\xd6\\xba\\x05]\\xd1\\x80\\x98\\xb3\\x85\\x80\\xabXC_Y\\xcf\\xb3\\x10h\\xbd\\xec1\\x86\\xd0\\xb0ue\\xaa3\\x93\\x8e\\xda\\xa0j\\xcb\\xe8\\xe0\\x90{\\x1f~\\xcc\\xee\\xdd\\xaf\\xe9\\t\\xd0\\x12\\xa4\\x17\\xd4\\xb5G\\xd7\\x8d\\xa2\\r\\xceP\\x17\\x9eTKjS\\x93\\x98).\\x8c\\x98\\x98\\x03\\x1e\\x0eG|\\xb2[\\xf3\\xe9\\xee\\x90\\xb8\\xbf\\xc6\\xa8>`\\x7f8\\xe0\\x93o\\xc0\\xf9%z\\x9d\\x1a|\\x8e/\\x8eq~\\x8as\\x0e\\xe3!\\x84\\x12)-Z{\\xb4VX\\xda\\x14.\\xe1h\\xaa9\\x18F\\x0c\\x8a\\x98Q\\x15S\\x1b\\t\\xa8YhuV\\x86#f\\x85\\x074V\\x8eP\\x1a\\x85&n\\xb5\\xb8\\xb5\\xbdB\\xbb\\xdb\\xc1\\xb9FY{S\\xa0\\xbc%\\xca\\x14\\xd7\\xb67\\xf9\\x8b\\xef\\x7f\\x97[[7\\xf1\\xc1SU\\x15Y\\xbb\\x85\\x90\\x12k-B4\\x96S\\x13\\x80\\x9f\\xe3\\xb8\\xa9J\\x11\\x8f\\xe1\\x8f\\xc7\\xe6\\xc0\\xaf&D\\xc3!M\\xe0U\\x80\\xf3D6\\x109\\xc8\\x8fG\\xec~\\xf4\\x05\\xc7_\\xdc#\\xad\\x1ci\\x1c\\xa1\\x9c\\xa7\\x9a:\\x86\\xc2\\x81HX\\x8e[\\xa4\\x89@R\\x13\\x05A=\\x85\\xc8k\\x82\\xd0\\x1c\\rs>\\xfcz\\xc0g\\xc7\\x8a\\x81\\x8f\\x08\\x07\\xa7\\xa05iw\\x85\\x83Q\\xc5\\xc1\\xef\\xbe$\\x8br6\\x97j\\xeelZ\\xb2\\xa4$8\\x87s\\xb2I\\x02\\x11\\x13\\x82\\xa46\\x9a\\xdc\\xf5\\x99\\xb8\\x15v\\x8f`?O\\xc8\\xcd\\xac\\xc8@)\\x98W\\x8d\\x84@\\x10\\xf2\\\\\\x92{\\x81\\x14\\x0e\\x8dCJ\\xcf\\xf1\\xbd{\\xbc~k\\x95\\xb2\\xf6\\xa4\\x11\\xbc\\xfe\\xc6[|\\xfc\\xc9\\xa7\\xec\\xee=`}}\\x95\\xef\\x7f\\xef{\\xdc\\xdc\\xda\\xa2\\xd3\\xe9R\\x959A\\x08\\xb4\\xd4\\x08)\\xa8jC\\x14\\xeb\\xa6kv\\xee\\x14\\x07\\xdf\\x94\\x07Iq\\xe6\\x97=\\x91\\x18O\\xca{\\x9fq\\xca\\xec\\xbbF!m q\\x92\\xead\\xc2\\xfe\\xa7_s\\xf4\\xf9=\\xd4\\xa4\\xa6\\x1bgT\\xe3\\t!\\x96\\x04\\xa7\\x9a\\xfc\\x84\\xab\\x91V \\x963\\x92V\\x8fa\\xed\\xc8\\xa7\\x96\\xd2z\\x8e\\xc2\\x98/F9_\\x1fkN\\xab>\"\\xcb\\xd0Y\\x8a\\xab\\xc7X\\x02\\x10\\xa1\\x93\\x0eR\\x95L&G\\xec\\x87]:\\x9b e\\x8cV=\\xbc\\x87\\xba\\x12\\xb8Z\\x12|\\x9bZ\\xac12m\\xc6yE\\x1d\\x12D\"A\\x82T\\x12\\x8cCKIU94\\x12\\x81j\\\\&\\xef\\x89\\x84G\\x8a\\x1a\\xa8\\xe8\\\\_\\x03)\\xb1^\\xb3w8\\xc4XIQW8a\\xb9\\xfd\\xfa6\\xdb7\\xb6\\xc0\\x05l]\\xd3\\xce\\xda\\x10\\x02\\xceX\\xbc\\x90DB\\xa1CS\\xed2\\xf7\\xbe\\x90\\xb3\\xaa\\x9fg\\xe1\\x8c \\xceJ\\x84\\x1eK\\x08\\xbcG6\\xfa\\x8e\\xda\\x18Z.\\x10\\xd7\\x8e\\xd3\\x87{\\xec~\\xf29\\xd3\\xd3\\x01\\xad8\\xa2\\xf0\\x02\\x9fu\\xb1J0!\\xe0\\xea\\n{\\\\\"Or\\xd2d\\x8a\\xca:\\xd42\\xa2v\\x9a\\xc2zv\\xca!\\x07.f\\xa2\\xd7!k\\x81\\xca\\xb0\\xd3\\n\\\\\\x80\\x8e\\x06\\xed(\\xcb\\x12S9\\xacla\\xbam\\x06\\xf9.\\xddv\\x07\\xadS\\xf2B\\xb3\\x7fb\\x18L\\x02Ai\\xa2LP\\xd8\\x8aa^\\xe0\\xb4\\x06\\x19\\x83\\x17\\x04a\\xf1\\xb6\\xc4\\t\\x8bT\\tR\\x04d\\xf08\\xd1D\\r\\x9ch\\xc4\\x98\\xf6PN\\xc6\\xd4\\xd3\\t\\xb7\\xb7or\\xb0w\\xc4\\xf1\\xc9)\\xb55@\\x98\\xe5\\xe2-Z7a\\xfa8I\\xa8\\xcb\\xa6\\x80BG\\x11\\xde\\x9fW&4\\xa1\"\\xce\\xbe\\x9f\\xa9\\x8c\\xab\\x88\\xa1\\x84\\xc0\\xcd\\xeaE\\xdd,\\xfd\\'\\x03H!\\xcf\\x1e\\x18\\x00kj\\xf4\\x8cb\\xb9\\xad\\xa9\\xad\\xa1\\x1b\\x04;\\x9f}\\xca\\xe7\\xbf\\xfd\\x07\\xechL\\xb7\\xd7\\xa5\\xc23qP{\\x89eF`-0\\x01\\xf0\\x8aPD\\x14E\\xc4T$\\xf8l\\x99\\xa9O\\x99(\\x81o\\xa5\\x18\\xa7\\xc0\\x94h\\x11\\xe3C\\x8aH#\\xbc\\x9d\\xe2\\x99\\xa2SC\\x92\\xf6\\x106\\xe3`t\\x97\\xd7\\xb7{8\\xe3\\x91B\\xf1\\xe1\\x97{\\x9c\\x9a%do\\x83Zi\\xec\\xf4\\x94L\\x0b\\xe2TC\\x95c\\x0bEP\\x19A:\\x90 Tc\\xef{\\xe1gU(\\x19Q\\xd6\\xc1\\x18\\x811\\x9a\\xd5\\xa4\\xcd\\xb46\\xacvZ\\x94\\xe3Sz\\x9d\\x94\\xc9d\\x82\\x94\\x1a\\x82\\xa0\\xd7\\xeb\\xa1\"M\\x9c$X\\xef\\x98\\x149R\\xca&\\xbb\\x07\\xb8\\xe0\\x9b\\xfa+A\\xa3#f\\xe1\\x10\\x19\\xce\\xadZ\\x7f\\xe6\\xc3]\\xcag\\xccS\\x85\\x97KG\\xa4\\xbcXl\\xe6\\x9cC\\xcc\\x1c\\xbaTH\\x0e\\x1e>d\\xf7\\xfe7L\\x8a\\x02+\\xa0\\xaa*&\\xdeP\\x04I\\xe5%&\\x08jc)\\xcc\\x18\\xa1\\x02\\xadt\\t)3\\xa6$\\x14q\\x17k{X\\xd5\\xc2\"\\xc1\\n\\x94\\x16h-\\xc0;D,\\xa8m\\x8d\\x10\\x92vg\\x05\\xa5<\\xa3a\\x05\\x95A\\xb4o\\xf0\\xc9\\xc1\\x90\\xf5^\\x9b\\xd5h\\x93\\xe5\\xeb\\x1d\\xfa\\xf1*{\\xc3\\x8a\\xe3\\x83\\x13\\xda\\xa9\\x86\\x00\\xde\\x04T\\x10\\xe84&\\xe8\\x84\\xdaUM\\x89\\x0e\\x12\\x8f8\\xabT\\xf7!\\xe0\\x9cA\\x08\\x8fV\\x12\\xe7\\x1d\\xfd^\\x8f\\xe3\\x93c\\x0e\\x8e\\xf6Y\\xdb\\xb8\\xc1\\xa4\\x982)\\xa6,\\xad.\\xd3_^:/\\xd7\\x15\\xb2\\xb14g\\x08\\xbfP\\xc6{\\x05\\xcc\\xbd\\xf2G\\x8e\\x0b1\\xcb\\x81\\xcf\\xc8\\xb5XB\"B@K\\x85\\xb5\\x960\\xb3\\x99\\xad\\xb7x\\xdb8Y\\xa1\\xb6\\xec>\\xdc\\xe5\\x9b\\xfd\\x03\\x8c\\x0fX!\\x19U%S_S\\tM\\xe9\\x04\\xc6z\\xa4\\x90\\xa4\\xed\\x1eRAY\\x8315u\\xdaFd=\\x10\\tZF\\xe0\\x04\\xb6vM\\xa1Z\\xe4\\xb06G\\xe8\\x18\\xa1c\\x82UL\\x07\\x01\\x11EM\\x0c\\xac\\xa3)\\x93m\\xbe8\\xeap8\\xb2t\\x8f&\\xe0\\r\\xd77\\xe1zK\\xe1\\x94 \\xd4PV\\x8e\\x10R\\xac\\x92`k\\x1c\\x9e\\xe0\\x1d\\x04\\x81\\xb3\\x8d\\xde\\xf0\\x1e\\xa4\\x88@H\\xbc3h\\x19\\x90\\xd2QW9J\\nV67\\xe9.-1)r\\xbe\\xfe\\xe6+\\x06\\xa3\\x01\\xd7\\xb6^\\xc7s^\\x01\\xd9 W^\\xd0\\x03\\x97\\x0b\\xf4\\xe6\\x9fO\\xab\\xd2|\\xbc\\xd37+yiJN\\xc4\\xac\\xae\\xb5\\t@Ic\\x19?<\\xe0t\\xff\\x90qQ\\xe1\\x85dbj\\xc6\\xc6a\\xb5\\xa6DP+\\x89PQ\\x13F\\x8f4A\\n\\x8c\\x15\\xd4\\xa2\\x85U\\xcb\\x18\\xd7ED\\xf1\\x99#\\xa9\\x058\\xebp\\xc1#\\xe3\\x18\\xef,JG\\xa4i\\x0cV\\xe0\\xbc\\'$i\\x13F)\\rIt\\x8d\\xd3r\\xc8\\xb8\\x9a\\xa2BE\\x90G\\xac\\xb63\\xb6V\\x15\\xc3\\x93\\x01i\\x04*\\x0b\\xd4\\xc2rZ\\x0e\\xb1U\\x84\\xd4]\\xa4la\\xadiR\\x9fN \"\\x8d@\\xe1\\x9c%\\xc2\\xa1\\xa8\\xc8\\xab\\t+\\xed\\x84;\\xef\\xbc\\xcd\\xea\\xda\\x1a_}u\\x8f\\xba\\x9c\\x92\\xc5\\x11+\\xfd%\\xb24m*\\x14\\xa5:\\xab\\x82\\x7f\\xdcj\\x7f\\xdc\\xb1g\\x0e\\x87\\x88918g\\xbd33\\xca\\x07\\xec\\xa4`\\xf7\\xf3\\xaf\\x18\\x1c\\r\\x98\\xd6\\x15\\xa5\\x81qQ\\xe3\\xa5\\x04\\xa9\\xc9\\xab\\x12\\x95\\xb6\\x88u\\x82\\xad-\\xa3\\xf1\\x948NPq\\x1fd\\x17+:\\x04\\xfaH\\xa9pn\\x8cp5:x\\x9c1\\x04+\\x90QF\\x92u\\xa8\\xa6#\\x9c(\\xe9D\\x11\\xb5\\xa9\\x19\\xd7\\x1a\\x926\\x12\\x8f39i\\xab\\x8b\\xa3\\x8d\\xf7\\x03\\x0e\\x06\\x07\\xf8\\xf2\\x88k\\x1d\\xc1\\xcduK\\x9a\\xc4\\x88\\xa4\\xa6\\xc0q2\\x15\\x1c\\x8c=\\x93\\xb2\\x8b\\r-\\xe2\\xc8\\xe2)@\\t\\xbc\\x8af5Q\\x16\\x89\\x01[\\x80-YZ\\xded\\x9a\\x17\\xec\\xec\\xee3\\x1e\\x0c\\x88\\x81~\\xab\\xcdr\\xa7G\\xbf\\xd3Ek=\\xe3\\x0eyV\\xf5x\\x8ep\\xf9H\\xdd\\xc0\\xb3\\xf4h\\\\h\\tX\\x84y\\x0f\\x82\\x08 \\x11\\x8d\\x05\\xe1=\\xc19&\\xc7\\'\\x9c\\xec\\x1e\\x90Or\\xa6\\xb5cZ{\\xaa I\\xe3\\x14\\x94\\xc0\\xf9\\x82Dk\\x9cw,\\xf7zl]{\\x9b8\\xc9\\xf8jw\\xc0`\\xe8\\x10-\\x8d\\x88<B\\x82\\xf4\\x0e\\xe1\\x07$\\xe4t\\xd3\\xa6\\x8e\\xb6\\xae\\xc7\\x18\\x97\\xb0\\x9aB\\xec\\xa7(\\x9b\\xd3K4\\x9dh\\x95\\x91\\x93\\xc8\\xfa\\x94\\xa5\\xd4\\x92\\xae,q\\xff\\xc4\\xe0B\\x8c\\xd0\\x11y\\xb5\\x8bKKnn\\xaf\\x11\\xc9\\x12\\x13\\xa6X\\x19\\xd3\\xef\\xb4Ic\\xcf7\\xbb\\x03F\\x85\\x828\"\\xa8\\x80\\x90\\xba\\x11Q\\x04\\xb4\\n\\x08W\"}A\\xaa\\x05\\xab\\xcb\\xcbXk)\\x83gpz\\xcc\\xf0\\xe4\\x90\\xd5\\xd5e\\xd6WV\\xd1J\\xa3TS\\x9a\\xd3H\\x8dy\\xe4\\xda\\xd3\\xf4p<\\x11\\xe7W\\x12\\xa5i\\xb0\\x9c\\x0f\\xb8dr\\xcd+=\\xe4\\xec\\x81\\xc6\\xd48\\xe7\\xf0\\xd6rtpH9\\x9dR\\x1bC\\xe5<\\x06EP\\x12\\x1f$:\\x08:I\\x8675\\xbdN\\x97\\xf7\\xee\\xbc\\xc9\\x0f\\x7f\\xf0\\x17\\xe4\\xa5\\xe1\\xe1\\xf0\\xb7\\xd8\\xc3\\x13\\xb2eO\\xe9N\\xf0e@JO,\\x86t\\xf4\\x807\\xb6\\x97I\\x92\\x98\\xcf\\xbf9b\\xef\\xc4\\xf0\\xee[o\\x93RP\\x8e\\xc6l]\\xdb`L\\x87\\x0f\\xbe\\x9c`\\'\\xf7\\xf8\\xe9\\xb7oQ\\xa4\\x11\\x07\\x83\\x8a\\xc2\\x0bT\\x14\\xd1\\xe9\\xc4t\\xfa9:\\x1e\\x13L\\x8d\\x16\\x82HeD*\\xe0Z\\t\\xa6\\xaf\\x90L\\x18\\xd9\\x08+bPIS\\xa6\\x1f\\x0cR8$\\x86\\x08C\\xd6JY]^b\\xeb\\xc6\\r\\\\]\\xf1\\xe1\\xefO\\xf0\\xb6\\xe6\\x8d\\xdb\\xaf\\xb1\\xb1\\xb1\\x81\\x94\\x8d\\xa39\\xaf\\x16<\\x8bj/XH\\x97+\\xef\\x9f\\x05.\\xb4\\xf7\\xcc\\xfa\\ng=k\\xe7\\r*\\xd0\\x94V\\xcek[\\xc7\\xa3\\x11EYQ[K\\xed\\x1dN\\x80\\x05\\xa6EA]\\xd7\\xa4iJ\\x9eO\\xd8X_\\xe5\\xb5[7QJr:\\x1cP\\xd45\"R8i\\x89\\xb3\\xc6\\xa6\\x8ft\\x9fD\\xb7\\x89B\\xe0\\xd6J\\xca\\xbb\\x9b\\x8a\\x9e\\xdf\\xe7\\xdd\\x1b\\x19on\\xf4I\\\\\\xc0\\xe7%m\\x1dAUPON\\xb8\\xb6\\x12\\x133\\xc6U#p\\x96\\xe0\\x1ce>\\xa2\\xd3Rl\\xac\\xb6\\xa8\\xeb\\x82\\xb26DQB\\x1c\\xc5(W\\xb0\\x9c\\xe4\\xbc\\xbd\\xe5\\xb9s\\xa3\\xa0\\x9fM\\x91s\\xaf\\xca\\xd5\\x04[\\x11Q\\xa3}I\\x14\\x0c\\xdd,A\\x01Z)\\x86\\xe3!\\xbb\\x07\\xbb\\xb4\\xfa-n\\xbc\\xb6\\x05\\x91:K5\\xcb+\\xbb\\xa3\\xae\\x86\\xab\\xb6p\\xba\\xac\\xe8\\xf5Y\\xcb\\xee\\x8c\\xcas\\xdd g=\\x11\\xce5\\xa9\\xc2$\\x8e\\x9b\\x976\\x06\\xa4\\xc0K\\x81\\t\\x8e\\xca\\xd5X\\x04Zw\\xd0QL\\xf0\\x86<\\x9f\\x92$\\t\\xe3\\xf1\\x88\\xa2\\xc8\\x19\\x8c\\x86\\xec\\x1d\\x1d2\\x9aN\\x1aoWI\\xea\\xda \\xa2ej\\xdb\"u\\xcb(F\\xe4\\'cV\\x15l/\\'t\\xd6W\\xa9GS\\x8evs\\xb4\\\\A\\xe9\\r\\xaaY\\xb9\\xbe\\xd41K\\xab\\x1b|\\xfe\\xc5\\x10o[H[\\xd3N\"ZJ\\xa0\\x83@\\xeb6\"Jq>\\xc6\\x94\\xa0\\xa5#\\x8d@\\xd7\\x07\\xacf\\x11b\\xfb-\\xea\\xdd\\x84a\\x15p\\x12\\xa8\\x0b\\xd2\\x18\\x8a\\xd1)\\xc2O\\xf8\\xdf\\xfe\\xfd\\x7f ie|\\xf1\\xd5\\x17\\xfc\\xf2\\xef\\xfe\\x96\\xda[n\\xddy\\x9d\\xb8\\xd7Bf1q\\x96\\xcc\\x10\\xb8\\xa8\\x90\\x179$\\xccB4\\\\\\xe0\\x90E\\xe4\\xcf\\xeb\\x87/p\\xc6\\xd5\\x1a_\\x9e\\xf9\\x17\\xf3\\xa2]/ H\\x81\\xd4\\x9a8K\\x89\\x92\\x88V+\\xa3\\xdf\\xe9\\xd0mg(\\x110uIm\\xaaF\\x17H\\x89\\xa9k\\xa2(\"\\x8a\\x9b:&\\x1d\\xc5\\x88$\\xc1\\x94e\\xd3\\xb8\\x13\\x0cH\\x8b\\x95\\x8aQ%8\\x1e\\x07\\xbc^b\\xeb\\xf6;\\x84(\\xe1\\xcb\\x87\\xfb\\x1cL=\\xad\\x8d\\xb7\\xb0\\xd1\\x06\\xfb\\xc7\\x13\\x8cs,m\\xbc\\xc6\\x84e&.\\xc5\\xcb\\x14\\x1d\\xa7\\x08\\xc0\\xd4\\x0eoA\\xc9\\x88\\xbaj|\\x08%\\xc1\\xbb\\n\\xe7rd\\xe4H2I\\x92)\\xb4\\x06\\\\I0S:\\xa9`t\\xbcKK\\xc3O\\xff\\xf2\\x07\\x14\\xe3\\x11\\x07\\xbb\\xbb\\x1c\\xee\\xefQ\\xd7%k\\xeb\\xab\\xdc\\xba\\xbd\\xcd\\xca\\xfa\\x1a*\\xd2\\xd8g\\xea\\x8az~\\x900\\xabw\\xba\\x1419\\xb3\\x89\\x85l\\x1c\\x9aY)\\x8eNb\\xbaK}\\x82\\xf0\\xe0-\\x18\\x830\\x06\\xe1\\x0cx\\x83R\\x10\\xc7\\x11eY\\xb2\\xb2\\xb2F\\x08\\xf0\\xe0\\xc1C\\xba\\xdd\\x1eJ(BY\\xd3\\x8a\\x12b!\\x08~\\n\\x0c\\xf1\\x89\\'\\x97\\x11\\xf7\\x87\\x92\\x9dq\\x8b*\\xde\\xe4\\xeeq\\xce\\xd7\\xc3\\x9c\\x81\\x8c8\\xf1\\t_\\xec\\xe5\\x1cOjd\\x141\\xaa#>~`\\xb8\\x7f\\x12\\x98:\\t2\\xa66\\x96|Za\\xadD\\xab\\x88H\\x05\"i\\xc0\\xe7TvJ\\xe9\\rF&\\x18\\xdd\\xc3\\xc9\\x18\\x1d\\tb\\xed\\xe8&\\x90i\\x8f\\xb79\\xddn\\xca\\xd6\\x8dk\\xa4ID\\x99O\\xd8}p\\x1fE\\xe0\\xcd7^g}m\\x8d8\\x8aH\\xa2\\xf8\\xb1\\xe2\\xe9\\xbc\\x8a\\xfe\\xe9zbq\\xec\\xfc\\xef\\x91\\x1d\\x12\\xceD\\x15\\x8dg*\\xd4\\x9c\\x10\\x12\\xa1\\x14:\\xd2tV\\xfa\\xaco\\xdf\\xa4\\xda\\xdb\\xe1\\xf4\\xa8h\\x8a\\x88\\x89\\x9aP\\x83l6s\\xb0UE\\xa7\\xd5B+\\xc5d4\\xa2\\xbb\\xbcB\\x84\\x85`\\x89\\x9c\\xc0\\x8b\\x08\\\\E\\x08\\x05!m\\xe1\\xb25\\x0e\\xea\\x9c\\x7fz\\x10\\x13\\x9fXvN\\x14%\\xab\\x884\\xe3\\xfe\\xc0#\\xed\\x94\\xd2\\xb5\\x112\\xe5\\xde~Ma-\\xe3\\xa9D\\xa4\\x9e\\x10J\\xbc-QR\\xa0\\x94\\xc6\\xfb&\\x15\\x1a\\x84\\xc3\\xc9\\x00I\\x86\\x8b;L\\xec\\x12\\x87\\xa3\\x94\\xe3i\\xc1\\xc3\\x87\\xa7diF\\x16k\\x06\\x87\\xf7Y\\xed\\xa7|\\xeb[w@B\\x92\\xc4\\x0c\\x8e\\x8f\\x18\\x1c\\x1fq\\xed\\xe6&\\xdfz\\xf7]ZYF\\x9d\\x17,\\xf5Sl\\xb8\\xdc\\xf6\\xfc\\x8cK\\xff)\\xa0\\xe7\\xf9\\x8ey/s\\x98\\xd5\\xca\\xce\\x8b\\xd2D\\x93\\xb0m\\xfa\\x0e\\xa4@D\\x11\\xad\\xa5%\\xb6\\xdf~\\x0b\\x1f+Jg\\x18\\x8er\\x9c\\x17\\xd4A\\xe0UC\\xdc,\\x8e8\\xdc\\xdb\\xe3\\x9d7\\xde\\xe2\\xe6\\xd6u*S\"\\xbda\\xb9\\x9dQ\\x8e\\xa6\\xc4\\x9d\\x8d\\x19\\xd5k\\x8c\\x97\\x10\\xf5)M\\x97o\\x06\\x11\\xf5\\xb1Ae\\xd7\\tZ\\x10\\x82\\xc5\\xd5\\x92$H\\x9co\\x13j\\x87\\xd31SjH\\x14\\x91r`\\'\\xb4\\x12\\xcf\\xeaJ\\x97\\xb4%\\xa8\\xaa\\x11q\\xac\\xb1\\xc2\\x13\\xe2\\x08\\xa1\\xbb\\x14\\xae\\xc7\\xee0\\xe3\\xde\\xbeb\\x92W\\xac\\xae,Q\\xe7#\\x8e\\xf7\\x1e\\x10\\xea1?\\xfc\\xf9/\\xf8\\xd7\\xbfx\\x9f\\xaf\\xbf\\xf8\\x9c\\xbf\\xfe\\xcf\\x7f\\xcd\\xfe\\xce\\x0e\\xbdN\\x8b\\xf7\\xde\\xbe\\xc3\\xf6\\xd6\\x16B\\x06\\\\\\xedP3\\x1d\\xea\\x98UK\\x9e\\x95m\\xbe<E\\x16\\x92K\\xe7\\xa6\\x93\\x10\\x021\\xdb\\xe8\\x04)\\x9a\\x1dh\\xa4DjE\\xc0!\\xbbm:\\xb7\\xb6\\xb8\\xa6\\xc0K8\\xdc=d8lJi\\n_\\xe1\\r\\xf4\\xda\\x19\\xd3\\xf1\\x80\\x07\\xf7\\xbf\\xe6\\xcdw\\xde\\xc0\\x1aC\\xac,ccPIFI\\x85\\x88\"\\x82Wx\\'\\x9b\\x1b\\xc9\\x80W\\x12D\\x8cw\\x12\\x15\\xe9\\xa6\\xd8\\xa06\\x04\\xad\\xd0q\\x0b\\xe7\\x1d\\xa5\\x93\\x88,A\\xd49\\xb2<\\xa2#\\x8f\\xb8\\xb5\\xea\\xd8^\\x8e\\xc9\\xb4cTi\\x9c^aj$\\xe3RS\\xb8\\x8ca\\x91\\xf2\\xf08\\xe2d\\x1a\\x13K\\xcdtxL\\x8b\\x8a\\xb5\\xb6\\xe6[?\\xfc!\\xcb\\xed\\x98\\xdf\\xfc\\xea\\x97\\xe4y\\xce\\xde\\xfe>e\\x91\\xf3\\xb3\\x1f\\xbf\\xcf\\xdb\\xef\\xdc\\xc1\\x06G\\x12\\'h\\x15a\\x8d%J\\x13\\x9c\\xb3/\\x8d\\xfcG\\x88\\xb1H\\x80\\xc5\\x8at9\\x8b\\xe6\\xce\\x9b\\x07\\x85\\xf2\\xe0$H\\x8f\\xcf\"\\xa2N\\x9b\\xf5X\\xd1mgl\\xac\\x1ertx\\xc2\\xfe\\xe0\\x90\\xa3\\xf1\\t\\xd3I\\x81D!\\x90<\\xb8\\xff\\x15[\\xb77HZ)\\xd7\\xae-s<\\xda\\x81\\xb8\\xa6\\x96\\x13\\x84^E\\x98d\\xc6\\x965\\xa8)Q\\\\\\x90\\xc9\\x94\\xf1\\xd8\\xa2B\\x07/\\xc0;\\x83\\xc5\\xa2\\x93.\\x08M\\xa8j\\x84\\xd7\\x04W\\x91\\xba\\x01\\xdb}\\xc3\\xbbk\\x8av\\x18c\\xa6\\x06!\\xfb\\x9cV\\x1d\\x0eF\\t{\\'\\x82q\\xa1p\\xa4\\xe4&!\\x04\\x89\\n\\x01\\xe1<\\xd5\\xf8\\x94\\xd1\\xe8\\x80\\xe4\\xedm\\xae\\xaf\\xaf\\xf0\\x8f\\xff\\xfc\\x01w\\xef}CQW|\\xf7\\xfb\\xdf\\xe3\\x9do\\xbdK\\x7fe\\x99i\\x9d\\x13\\x9c&S\\x11\\xf8\\x8b\\xb5\\xc5\\x8b\\xf0<\\xdcqe8\\xe4\\xaah-4\\x96\\xd3\\xbcpw\\x96\\x94D\\n\\x81\\r\\x01%!\\xaf\\xa6d\\x89\\xa6}m\\x93\\xa5\\xe5\\x15\\xae\\xe7%\\xdb\\x93!\\xfb\\xc7\\x87\\x9c\\x9c\\x9c\\xf2\\xe5\\xe7w\\x99\\x8cs\\xb4\\x8b\\xe8\\xf6\\x96\\xa8\\x9c\\xe5\\xf6\\xf66\\xc3a\\xcdG;G\\xd0\\x97\\x08Y5\\xbe\\x8cL\\x902\\xc6\\xd9\\x12\\xe3\\x02\"\\x04\\xba\\x9d\\x16\\xd3\\xbaB\\xa8\\x88\\xb8\\xd5\\xc68Ce,\\n\\x89\\xd05\\xc1\\ri\\x8bc\\x96\\xfb5\\xd7n.\\xd3^\\x8d8>=\\xe68w\\xa4\\xebo\\xf2\\xf9\\x9e\\xe5x\\xac995`\\x04\\x9dvB\\'\\xd2\\x94\\x93\\x11\\xd5d\\x0f\\xea#\\xfe\\xe2\\xbd7\\t\\xd5\\x1a\\xc6\\xd4M\\x05`\\xf0<|\\xf0\\r?{\\xff\\xbf\\xe7\\xdb\\xdf\\xfd6q\\x1a\\x83\\x80v\\xab\\x83\\x9b\\x15eD\\xe9y+\\xf3\\xab\\x06\\xed\\xc5\\x82-\\xcc\\xac\\xa4D6E\\x07M\\x8a\\x10\\xc4Y0O\\xa2\\xa2\\x04B V\\xaai&\\x8c\\x14Q\\x12\\x13\\xf5\\xda$u\\x8fly\\x89\\xcd\\xbc\\xc0\\x05\\xc9\\xaf\\x7f\\xfd[R!y\\xf8\\xf0\\x90\\xd5\\xb5\\r\\x14\\x8a7n\\xdd\\xe4\\xb3\\xbb\\x0f\\xd1I\\x891\\x03\\x92\\xf6*U\\x10\\xb8\\xa9G\\xc4]\\xa4\\x96\\xe4y\\x81P5B\\x08\\xbc7\\xb8\\x12 \\xa04H,I8%6\\x87t\\xb2\\x82\\xcd\\xad%d\\xbf\\xcb\\xd7e\\xe0\\xa8\\xbe\\xce\\xfdS\\xcb\\xfe\\xd7CP\\x1d@\\x92n\\xde\\xa0\\x1e\\x0c\\x88u\\x8d\\x9c\\x1c\\xa0\\x87\\x07d\\xd2\\xf2\\xee\\xf7\\xdf\\xe5\\xbdw\\xef\\xb0\\xbe\\xbeB^L\\xf8\\xcd\\xef~\\xcf\\xc7\\x1f\\x7f\\xc4w\\xbe\\xfd-\\xdey\\xe7\\x0e+k\\xcb\\xa4Y\\x82\\x92\\x8ays\\xbe\\xad,^6\\x9b\\xbc(uy\\xef\\x93K=\\x91\\x8f\\t\\x08>i\\x8f\\x11=\\x1fp\\xa1Jz\\xe1\\xef\\xec&\\x0b\\xbf\\x05\\x81HJ\\xbc\\x108q\\xd6\\x01@\\x10\\x82(JpI`k{\\x9bk\\xf7w\\x18\\x8d\\xc6\\xec\\xec\\xee\\xd3\\xeb\\xaf\\xb0\\xd4_\\xa6\\xd7]\\xe6\\'?\\xfa.\\xbf\\xfb\\xf0S\\xd2\\x96\\xc4\\x1bM\\x1c\\xf5\\x11\\xfd>\\xc5$\\xa7\\x9e\\xd6d\\xcb=\\x9ck\\xb2jB\\x08\\x9c\\x0fM\\xcb\\xb1\\xb3\\x04\\xe1iIGbk\\xdez\\xe3Mt+\\xe6\\xa3\\x07\\'\\x1c\\r,&\\xac\\x10\\xc4\\n\"\\x0e\\xc4iL5>\\xc6\\x9c\\x1e!\\xcb\\x11u()\\x87{\\xbc\\xb9\\xb5\\xce\\x8f\\xbe\\xff=\\xd2$fo\\xef!\\x0fv\\xee1\\x1a\\r\\xf8\\xe4\\x93\\x8f\\xd8\\xd8X\\xe1\\xe7?\\x7f\\x9f\\x1b[\\xd7\\x08\\x84Y0\\xb0Y\\xa2Z\\xc9K\\xa6\\xeb\\xd5\\xc8\\x7f\\x19xb\\x1f\\xf8\\xf9\\x97\\xa63\\xf5<O\\xd5\\xf4P\\x07\\xe7\\x90\\xb3^<f\\xd9\\xc18\\x8e\\x91\\xa2)u\\xbcv\\xed\\x1a\\xa7\\xa7\\x03v\\xf7v\\xd8\\xde\\xbeE\\xaf\\xdb\\x03\\xa1\\xd8\\xbe\\xb5\\xc9\\xef>\\xfa{\\xca\\xc2\\xa3\\x03\\x08\\xa1)jG\\x14\\xb7\\x89Z]\\xf2\\xf1\\x10\\x99\\xe8Y\\xbd\\x96@*\\x8dV\\x1akg\\x9ekPt:\\xab\\x94\\xa6\\xc5\\xfe\\xc3\\x92\\xfd\\xd3\\x16\\x95m\\x13\\n\\x8d\\x90\\x9a8\\x16\\xc8\\xc1\\x88\\xb6\\x1d\\xb3\\x9aHF\\xf6\\x88\\xf1\\xf8\\x90[o\\xdc\\xe0\\'\\xbf\\xf8K\\xec\\xb4f<\\x1c\\xb3\\xb9\\xb9\\xc1\\x7f\\xfd\\xe5\\xdfr\\xf7\\xee\\x97\\xfc\\xe4\\xa7?\\xe6G?\\xfa\\x01+\\xab}\\xe2\\xb8i\\xd6TJ\\x9d9\\xc0B\\xf0L=\\x16\\xaf\\x84\\x18W=\\xe4\\xeac\\xe7u\\xb5R\\xa8&\\x97\\x88\\xc4\\xfb\\x80\\x94M\\xa6N)M\\x96e\\\\\\xbbv\\x8d\\x87\\x0fw89\\x19\\xf0\\xe5\\x97_\\xe2} M[xS\\xf3?\\xff\\x9b\\x7f\\xc5?\\x7ft\\x97\\x07{\\x03d\\x10$\\xaa\\x8d\\xf7ST\\x96\\xa1\\xd5\\x94N\\xd6\\xa2,\\xf2\\xc6gP)Z\\xa5\\x14\\x16lm1B\\xb2\\xb4\\xf6\\x06\\xfbGc\\xbe9\\x9a\\x12uViu\\xfa\\xe4\\xd4\\xc4\\xd2\\x91Q\\xa1\\xdd\\x90\\xba\\xd8g4\\x9d\\xe2CI\\xe4\\r\\xd3\\xc1\\x00\\xe1a\\xfb\\xe6\\x16\\x9f\\x9f~\\xcc\\xef\\xfe\\xfe\\xd7\\x14\\xc5\\x84\\x7f\\xf5\\x8b\\xf7\\xf9\\xf6\\xb7\\xdfccc\\x8d^\\xbf\\x83\\xb5\\xf6,\\x12\\xeb\\xbd\\xbb\\x10\\xfe\\x9e7\\x82\\xce\\xc3\\x1ds<]\\xc6\\xdb\\x0b\\x11\\xe3\\xaa\\x08\\xe3\\xe5>?q\\x81;\\x1ap~6A\\xd9(v\\x84?\\xcb9\\x86\\x00I\\x96r\\xe3\\xe6\\x16\\x83\\xd1\\x88\\xf2\\x83\\x8f\\xf9\\xe6\\xc1}\\xe24\\xe5\\xcd7\\xde\\xe2\\xd6\\xd6M\\x94\\x94\\xac\\xf56\\xf9\\x7f\\xfe\\xdf\\xbf\\xe1\\xfe7_\\xd2\\xbf\\xb1M\\xd0\\x9a\\xe2t\\x8f\\xac\\x1d\\x11\\xd9\\x11Q\\xd4(\\xcd$\\x93 4\\xd2{*\\'Hu\\x9f\\xaf\\xbe\\x992\\xa9JT\\xdc\"\\x12\\x90\\x8fw\\x11\\xc1\\xa0E`2\\xdcC\\x991\\xaf][e|<bue\\x93\\x1f\\xff\\xe5O\\xf8\\xe7\\x8f>\\xe6\\xaf\\xfe\\xef\\xbf\\xe6\\xd6\\xf6u\\x8e\\xf6\\x1e2\\x99\\x8e\\xf9\\xfe\\xf7\\xbf\\xc7\\xcf\\x7f\\xfe\\xfel\\xfe\\x9e4M\\x98L\\xccY2\\xedI\\\\\\xf02Dxlr\\xe9\\xaa\\xfd\\x90\\x16\\tt\\xfe]\\x9e\\x89\\x8e\\xf9\\xceg\\xf3-\\xdf\\xe4B\\x00\\xd8\\xcf\\x08\\xb5\\xbc\\xbc\\xcc\\x9d;w\\xc8\\xa7\\x05\\x1f~\\xf8\\x11\\xbb\\xbb;\\xb4\\xdbmV\\x96\\x97\\x10\\x1e\\xba\\xad\\x8c\\xb7\\xdf\\xd8\\xa6\\x93%\\x18\\x1f8\\x19\\x9e\\x10\\x07\\x83(`ui\\x85~\\xafM\\xa7\\xdb#I\\xba\\xe4\\x95\\xe0\\xeb\\x87\\xa7\\x1c\\x16\\x15\\xc1{\\xe2\\xacM\\xe4-i\\xaa\\xa8\\xf3\\x03\\xfc\\xf8\\x18!\\x1cDpc\\xb5\\xc5;o\\xfd\\x88;\\xaf\\xdd\\xe6\\xf3\\x8f>\\xe5\\xb3O>c\\xf7\\xc1\\x0e\\x18\\xc3\\xf4\\xe4\\x90O\\x86\\x07,-w\\xf9w\\xff\\xee\\x7fecc\\x1d\\xe7\\r\\x9b\\x9b\\x1b\\x84\\xe0\\x19\\x0c\\x063q\\xa4\\xcf\\n\\t\\x9awVg\\x04\\xba\\xb8\\xe9\\xcc\\xf3\\x13\\xe2q\\xf0\\xcc\\x85\\xcfs\\xf14\\xf78\\xa5\\x9c\\x97{\\xcevJ\\x10\\x02\\xa9\\xce\\xb3\\xf1Z7\\xf2\\xb6\\xdf\\xef\\xf1\\xe6[\\xafs:8awg\\x9f\\xdf\\xfc\\xe6\\xd7\\x0c\\x07#\\xde\\x7f\\xffg\\x1c\\x1f\\x1f\\xf2\\xd6\\xed[\\xfc\\xfc\\xa7\\xff\\x1d\\xbf\\xfd\\xfb\\xdf\\xf1W\\x7f\\xfd\\t:\\xd1\\xb4\\x92\\x8c\\xdd\\xbb\\x9f\\x92\\xf7Z\\xb4[\\x19Q\\xd2\\xc5\\x8b\\x94bPc\\xa7\\x1e\\xd26U\\x11(F\\'\\xe4\\xc1\\x82-\\xd8X[A\\xc9\\x80\\xf7\\x96\\x7f\\xfb\\x8b\\xff\\x91\\xeb\\xd7o0\\x1e\\x15\\xac]\\xbf\\xcdW\\xf7\\xf6\\xf8\\xbb_\\xfd\\n\\xe1+n\\xdd\\xda`\\xeb\\xd66?\\xfe\\xe9Oiw\\xdb\\x8d1\\x12ETU\\x85s\\x964M\\xd0Z\\xcfD\\x95\\x9a\\xbd\\xf7\\xd5\\xf9\\xedW\\r\\x8f\\xd5\\x19Wq\\xc7\\x9c \\xc0Y\\x1bm\\x08\\xee\\xec\\xdc<\\xfd(\\x15\\xa4YLU\\xd6H\\t\\xdb\\xdb7\\xb1\\xd6\\xa2\\xe4\\x87|\\xfe\\xf9\\x17L\\x8a\\x11\\xbf\\xfa\\xdd/y\\xf7\\xad\\xb7X[\\xed\\x93\\x17C\\xcab\\xc2R\\xaf\\x8f\\xd0\\x9ar2\\xe5{\\xdf\\xf9!u9\\xe6\\xf8p\\x8f\\xe3\\xfd\\x07\\xc8(\\xc3\\x92\\x90\\xa8\\x84Nj@8\\xae\\xbd\\xfe&k+\\xab\\xd8\\xb2\\xe2\\xcd\\xdb\\xaf\\xf1\\xd5\\xdd/\\xf8/\\xff\\xe5o(Gc\\x96\\xef\\xf4x\\xf8\\xf5\\x0e\\'\\x87\\x87\\x98\\xba\\xa0\\xbf\\xd4ek\\xeb5\\xbe\\xf3\\x9d\\xb7y\\xf3\\xce\\x1d\\xa4\\x8a\\x11\\x12\\xa2(&Ib\\xea\\xbaFkM\\x92\\xa4\\x8c\\xc7\\xa3&\\x93\\x87\\xb8\\xa0\\x1b\\x16\\xf7\\xbc\\xba\\xaa\\xe8\\xe0eA\\xfc\\xa7\\xff\\xeb\\xff\\x08\\x8b\\x0f\\x82Y\\xc8\\xfc\\x8ax\\xfb\\xf9\\x90\\xb9\\xe1+.Lpq\\xcc\\xdc$\\xac\\xaa\\x9a|ZP\\x96\\x15GG\\'|\\xf0\\xc1\\x87|\\xf4\\xc9G$\\xad\\x98,N\\xf8\\xe1\\xf7~@\\x1a\\xb7\\x19O*:\\xbdU>\\xf9\\xf4K6\\xd6\\xd6\\xf9\\xf9\\xcf\\xde\\xe7\\xe4`\\x87\\x93\\xe3}t\\xac\\x1a\\'4\\x8aQi\\xc6\\xe8t\\x8f\\xd5\\xa5\\x16+\\xcb\\x9b\\x9c\\x9c\\x16\\xec\\xec\\x1c\\xd2\\xeb\\xf6\\xd9\\xdc\\xdcd<\\x1a\\xb0\\xfb\\xf0>\\xfb{\\xbb\\x1c\\xee\\x1fPU\\x15[\\xdb\\xd7y\\xe7\\xbd\\xb7\\xd8\\xba\\xb5A\\xb7\\xdf&\\x8e\\x93\\xa6\\xf7\\x0e1\\xdbYG\\x9c-\\xb4fq5\\x8b\\xed\\x1c\\xd9\\xb3\\x8d\\xbf\\xce1qep\\xf0IDy\\xe6=\\n\\x9ft\\xf1Eny\\xb4\\xe1\\xe6\\xb2\\x1e\\x113\\'\\xd2\\x98\\x86\\xcd\\x95\\x92\\xb4\\xda\\x19I\\xd2l\\xa4\\x02\\xb0\\xb2\\xba\\xc4\\xdd\\xaf\\xbe\\xe4\\xdeW_\\xf1\\xcb\\xbf\\xfb\\xaf\\xf4{+\\xe4\\x85%\\xce\\xfaDI\\x87;\\xdf\\xfa6\\xb5\\x13\\x0csC\\xe5$Y\\xdcF\\xc7\\x92V\\xafG\\xab\\xd3\\xe6\\xd0\\x97\\xf4Z\\t:(\\xb0\\x01S\\xd5\\xec\\x8c\\x1fr\\xff\\xc1W\\x1c\\x1f\\xedqr\\xb4\\x0f\\xc1s\\xfb\\xd6k\\xbc\\xf7\\xde\\xb7\\xb8q\\xf3\\xc6\\xac\\xd3\\t\\xe24\"Kb\\\\m\\xce\\xf2\\xd7\\x17}\\x075C\\xf4\\x93\\x9d\\xb6?\\xaa\\x9f\\xf188\\xd7\\x1d\\xe2\\x11\\xc2\\x9c\\x8f\\x99\\x17\\xbf5QM\\xad\\x15J)\\x94V\\xbc\\xf6\\xda6\\xd777\\xd9Z\\xbf\\xc6\\x8d\\xb5M\\x0e\\x0f\\x0f\\x98\\xe4\\x15\\x83\\xd1\\x10;\\x9a\\xd2\\xee-\\xf3\\xd1\\xe7\\x1f\\xb3\\xb6\\xba\\xc6\\xfe\\xce\\x0e\\x89\\x92\\xa8XCn)\\x8da:\\x99\\xb0\\xf3\\xe0\\x80\\xcf\\x86c\\xd2\\xac\\xc7$/\\xd9\\xd9\\xdb\\xe5tx\\x88\\x905k\\xeb=\\xbe\\xf3\\xfd\\xb7x\\xeb\\xcd7\\xe9u{t\\xbbKDQ\\x8cNR\\xa28%\\x04\\xa8\\xca)q\\xb3\\xa3\\xef\\x82x\\x95g\\xbf_$\\x7f\\xfd*\\xe0\\xb1b\\xea\\xaaM|\\x1f\\x07s\\x8bcq\\xfc\\xf9\\xbe\\xb2\\r\\xc7x\\x07nVD\\x16\\xa1Q^2\\x9eN\\xb8\\xbf\\xf3\\x80\\xfd\\xa3C\\xf6\\x8e\\x8e8\\x1d\\x8d\\x98\\x96\\x15EiP2\\xa2\\xcasZiF;\\xcb\\xa8\\x8a)\\x12A\\x12\\xc7\\x0cG#t\\x14\\x91$-\\xb2\\xacM\\xbf\\xdfa}c\\x89\\x95\\xd5\\x0ek\\x1b+lln d#\\xff\\x11\\x82\\xaa\\xaa\\x08\\xce\\x13G\\x11J(\\xac\\xab\\xcf\\xc2\\x19\\x8b\\xe9\\xd297\\xcc9\\xfd\\x11d\\x89\\x8b\\xa2\\xea\\xea\\xe3\\x8f\\xf7\\xd9\\x9e\\x06\\xcf\\xc4\\x19W\\xdd\\\\r.\\xb2fk\\xecB\\x8cK\\xaay/[\\xb3\\xe9\\x16R\\xe2\\\\\\xb3\\xcbL\\x1cb$\\x92v\\xd6\\xe5\\xda\\xb5-\\xae\\xdd\\xbc\\xc9\\xbb\\xae\\xe4\\xe0p\\x17cj&\\xd3)\\xd3\\xbc$\\x84f\\xbf\\'g\\x1c\\xde8\"4i\\x92\\x90tS\\xd2~\\x8b4\\xce\\xe8$m\\xfa\\x9d\\x16\\xfd^\\x86T\\x02\\x1b<>DL\\xa7\\x0e\\x13\\x02Y\\x96\\x90f\\noK\\x84\\xab\\x91\\xbe\\xd9\\xb8\\xcbq\\x1eO8_H\\x82s\\xddp\\x152\\x9f\\x8c\\xe0\\x97\\xe5\\xa4\\'\\xea\\x8c\\xc7YW\\r\\x9c\\xd7\\x07\\x9d[\\x17\\xe7{\\xd16\\x9b;6\\xaf+\\x85D\\x88\\xc6\\xd4\\xf5\\xde\\xe3\\x9d\\xc5\\t\\x87L4\\xbd\\xb4\\x8f\\xd0\\x12\\xa5\\x04\\x9dvJ\\xa7\\x95`\\xadi\\xf6\\x10\\x94\\x8a\\xcax\\xaa\\xd2\\x92D)\\xb1lv\\xb9\\xe9\\xaet\\x99T\\x13\\xb2\\xa4M\\xa2\\x12\\xbc\\xad\\xa8\\xab\\x1c\\xe7\\x1c:\\x8e\\x88\\x92\\x16\\xedvBQ\\xe6\\x94\\x93\\x11q,Hb\\x85\\x141\\xc1\\xfaf{%5\\'\\xc4\\xfc\\xfd\\xe6\\xef\\xf5\\xa8\\x14x\\x16\\xa4\\xff\\xc1u\\xc6U\\x04\\x01f\\xbd\\xdf\\x97wd\\x863\\x1e\\x99m\\xfc.\\x85\\x9a\\x89\\xac\\x008\\xe6\\xbbbZYC\\xd4 .U\\x19\\xa3\\xd1\\x04\\xe5\\x04Jh\\xa4\\x13\\xf8\\xca\\xd2\\x8a#L\\x10D\\xad\\x94\\xac%\\x89\\xa2\\x04\\x85\\xa0\\xcas\\xbc3\\xf4\\xb3\\x16\\xd6AU5;\\xa6%\\xed.Z\\x811\\x15\\xc5tL\\xa4\\r\\xb1\\x08\\xb4\\xb3\\xa8\\xa9r\\xf1\\x0ec@\\x88\\x14\\x1d\\x0b\\x9c/\\xcff}\\xd66}\\xc1J\\xba\\x9c\\xcb\\xfe\\xc3\\xeb\\x91\\xa7\\x8a\\xa9+\\xe5\\x1f\\xb0\\xa8\\xec\\xce?\\xcf\\xc7:\\xe7.\\x95\\xab\\x84\\xd9N\\x9b\\x12)c\\x82pTUE\\x12k\\xb4\\x12\\xb4\\xd2\\x8cjv\\xcf4k#\\x95\\xc0\\x94%i\\x12\\xe3\\x85<\\xdb\\xd6T\\xb6\\x12\\xb4\\x92xg\\x11\\x08t\\xa4A\\x08\\x8c58\\x17\\x88\\xb4\\xa2\\xdbM\\x1bkN\\x88\\xb3Z\\xaf \\x04B6\\xc5\\xd3\\xce\\xbb\\xf3\\x85\\x15\\xae6S\\xaf\\xc0\\xc4\\x05+\\xeb2\\x8e^\\x05\\xe83e}\\xf9~~\\x81#f\\x9f\\x17\\x95\\xfaE?\\xe4\\x02A\\xc4\\xf9.\\xfd\\x02\\xc1\\xdcd\\x0fa\\xb6\\xc7\\xb8o\\x8a\\x8ec\\x11\\xe1\\x8d!\\x92\\x02k*t\\xa4f+\\xb4\\xc91\\'Y\\x8b\\xe0C\\xd3k\\rx\\xdb\\xec\\x0bh\\x9d\\x9fU\\xf5\\xc1\\xbc7OF\\r\\xe1=4\\x84R3ko&\\x1e\\xcf\\xa5\\x90m\\xe2Pg\\xf3\\xbe\\x1a\\x91\\xf3\\xb8\\xd4\\xc5\\xf3s\\xbdq\\x9e\\xfb\\x9e\\x8f\\xbd|\\x9bG\\xaf{F\\x05\\xfe$\\xed\\xff$\\xaf\\xfc\\xf9\\xcf\\xb3\\xa0G4\\xcc;\\xa5\\x17\\xe6\\x1afff\\xf0~a\\xfa\\x8fk\\xd9\\x9dmaza\\xde\\x0b{\\x9a\\x8a\\xe6\\xca\\x0bEH\\xe2Qg\\xf6*\\xf8C\\xc4\\x9e\\x9e\\x06/\\xe0g<9\\x9e\\x7f9\\x97~\\xf5\\xf54q\\xac+P<\\xdfJ[H\\xf9\\xc8\\xb9E\\x08\\xf3\\xfc\\xfc\\xd5O\\xb9\\xe2\\xdb\\xe2\\x91?L>\\xe2e\\xe1\\x89\\xf9\\x8c\\xc7\\x1d\\xbf\\x1c\\x97y\\x91\\xf3/\\xbb\\xd2\\xfeP\\x16\\xcd\\x1f\\xe2^\\xcf\\nW\\xe73\\x9e!\\xc9\\xf4*\\xcf_\\xf5\\xcc\\xe7\\x85\\xe7C\\xde\\xb3\\xc8\\xf0?>1\\x9a\\xf2\\xce+\\xe4\\xe3\\xd3d\\xe6\\xcb\\xfe^\\x84WM\\x88W\\xb1\\xaa\\x17\\xf3\\xdd\\x7f,.y\\xa2`~\\x1a\\x91^\\xe6\\xfc\\xe5q/\\xf2\\xc2\\xcf\\xb2h\\xfe%\\xc1\\x0b\\xe9\\x8cWu~\\x11q\\x97\\xf3\\xccOC\\xea\\xe3\\xe6\\xfa\\xaa\\xe0\\xb2\\xc8~\\x16Q\\xfb\\xb2p\\xde\\x94\\x7f\\xe9A/\\x93\\xfb\\x95\\x8f\\xf1\\xdc\\x1f\\xf7\\xfbE\\x82j\\xf3\\xeb\\x1e7\\xf6e\\t\\xf3\\xbc\\xc4~4\\xe1tY\\xe8<\\xf9\\x9d\\xe1\\xcf\\xe4?\\xda}\\x91U\\xf7\\xe7&\\x9e\\x1e]`\\x17\\xffC\\xafg\\x81?\\x0bb\\\\\\x05/\"\\xa6\\xfe\\xa5\\xc3\\x9f\\x8c\\x18O\\x8f\\n?\\xfd\\xfa\\x17\\x87WA\\xc8\\xcb\\x86\\xca\\xe2\\xbb\\xc8\\xc7\\xfc?\\x81\\x0bW_1\\xff\\xa7\\xa6]_\\x14\\x9e|\\xfdE\\x8b\\xeai~\\xce\\xab\\x7f><\\x8d O\\xbe|\\xde\\x1f\\x7f1\\xf7\\xf1\\xf8\\x88\\xc0\\xb3\\xc1\\x9f\\x85\\x98z\\\\\\xa8\\xfei\\xd7,\\xc2\\x1f[l=\\xaa\\xb3.\\xffG\\xc1/\\x18(\\xfcs\\x84?\\xb5B\\xfeS\\xc0\\x13wb{Qx\\xb6P\\xdcU5\\xbc\\xcf\\xaf3\\xceE\\xdc\\x1f\\x9b;\\x9e\\xcc\\xc9/b\\xda\\xfe\\xff4P>3eb \\x04\\x00\\x00\\x00\\x00IEND\\xaeB`\\x82'"
      ]
     },
     "execution_count": 13,
     "metadata": {},
     "output_type": "execute_result"
    }
   ],
   "source": [
    "dataset_images.datasetfiles[0].file.blob"
   ]
  },
  {
   "cell_type": "code",
   "execution_count": 7,
   "metadata": {},
   "outputs": [],
   "source": [
    "df = examples.demo_file_to_pandas('iris.tsv')"
   ]
  },
  {
   "cell_type": "code",
   "execution_count": 8,
   "metadata": {},
   "outputs": [],
   "source": [
    "dataset_tab_df = aiqc.Dataset.Tabular.from_pandas(dataframe=df)"
   ]
  },
  {
   "cell_type": "code",
   "execution_count": 11,
   "metadata": {},
   "outputs": [
    {
     "data": {
      "text/html": [
       "<div>\n",
       "<style scoped>\n",
       "    .dataframe tbody tr th:only-of-type {\n",
       "        vertical-align: middle;\n",
       "    }\n",
       "\n",
       "    .dataframe tbody tr th {\n",
       "        vertical-align: top;\n",
       "    }\n",
       "\n",
       "    .dataframe thead th {\n",
       "        text-align: right;\n",
       "    }\n",
       "</style>\n",
       "<table border=\"1\" class=\"dataframe\">\n",
       "  <thead>\n",
       "    <tr style=\"text-align: right;\">\n",
       "      <th></th>\n",
       "      <th>sepal_length</th>\n",
       "      <th>sepal_width</th>\n",
       "      <th>petal_length</th>\n",
       "      <th>petal_width</th>\n",
       "      <th>species</th>\n",
       "    </tr>\n",
       "  </thead>\n",
       "  <tbody>\n",
       "    <tr>\n",
       "      <th>0</th>\n",
       "      <td>5.1</td>\n",
       "      <td>3.5</td>\n",
       "      <td>1.4</td>\n",
       "      <td>0.2</td>\n",
       "      <td>0</td>\n",
       "    </tr>\n",
       "    <tr>\n",
       "      <th>1</th>\n",
       "      <td>4.9</td>\n",
       "      <td>3.0</td>\n",
       "      <td>1.4</td>\n",
       "      <td>0.2</td>\n",
       "      <td>0</td>\n",
       "    </tr>\n",
       "    <tr>\n",
       "      <th>2</th>\n",
       "      <td>4.7</td>\n",
       "      <td>3.2</td>\n",
       "      <td>1.3</td>\n",
       "      <td>0.2</td>\n",
       "      <td>0</td>\n",
       "    </tr>\n",
       "    <tr>\n",
       "      <th>3</th>\n",
       "      <td>4.6</td>\n",
       "      <td>3.1</td>\n",
       "      <td>1.5</td>\n",
       "      <td>0.2</td>\n",
       "      <td>0</td>\n",
       "    </tr>\n",
       "    <tr>\n",
       "      <th>4</th>\n",
       "      <td>5.0</td>\n",
       "      <td>3.6</td>\n",
       "      <td>1.4</td>\n",
       "      <td>0.2</td>\n",
       "      <td>0</td>\n",
       "    </tr>\n",
       "    <tr>\n",
       "      <th>...</th>\n",
       "      <td>...</td>\n",
       "      <td>...</td>\n",
       "      <td>...</td>\n",
       "      <td>...</td>\n",
       "      <td>...</td>\n",
       "    </tr>\n",
       "    <tr>\n",
       "      <th>145</th>\n",
       "      <td>6.7</td>\n",
       "      <td>3.0</td>\n",
       "      <td>5.2</td>\n",
       "      <td>2.3</td>\n",
       "      <td>2</td>\n",
       "    </tr>\n",
       "    <tr>\n",
       "      <th>146</th>\n",
       "      <td>6.3</td>\n",
       "      <td>2.5</td>\n",
       "      <td>5.0</td>\n",
       "      <td>1.9</td>\n",
       "      <td>2</td>\n",
       "    </tr>\n",
       "    <tr>\n",
       "      <th>147</th>\n",
       "      <td>6.5</td>\n",
       "      <td>3.0</td>\n",
       "      <td>5.2</td>\n",
       "      <td>2.0</td>\n",
       "      <td>2</td>\n",
       "    </tr>\n",
       "    <tr>\n",
       "      <th>148</th>\n",
       "      <td>6.2</td>\n",
       "      <td>3.4</td>\n",
       "      <td>5.4</td>\n",
       "      <td>2.3</td>\n",
       "      <td>2</td>\n",
       "    </tr>\n",
       "    <tr>\n",
       "      <th>149</th>\n",
       "      <td>5.9</td>\n",
       "      <td>3.0</td>\n",
       "      <td>5.1</td>\n",
       "      <td>1.8</td>\n",
       "      <td>2</td>\n",
       "    </tr>\n",
       "  </tbody>\n",
       "</table>\n",
       "<p>150 rows × 5 columns</p>\n",
       "</div>"
      ],
      "text/plain": [
       "     sepal_length  sepal_width  petal_length  petal_width  species\n",
       "0             5.1          3.5           1.4          0.2        0\n",
       "1             4.9          3.0           1.4          0.2        0\n",
       "2             4.7          3.2           1.3          0.2        0\n",
       "3             4.6          3.1           1.5          0.2        0\n",
       "4             5.0          3.6           1.4          0.2        0\n",
       "..            ...          ...           ...          ...      ...\n",
       "145           6.7          3.0           5.2          2.3        2\n",
       "146           6.3          2.5           5.0          1.9        2\n",
       "147           6.5          3.0           5.2          2.0        2\n",
       "148           6.2          3.4           5.4          2.3        2\n",
       "149           5.9          3.0           5.1          1.8        2\n",
       "\n",
       "[150 rows x 5 columns]"
      ]
     },
     "execution_count": 11,
     "metadata": {},
     "output_type": "execute_result"
    }
   ],
   "source": [
    "dataset_tab_df.to_pandas()"
   ]
  },
  {
   "cell_type": "code",
   "execution_count": 7,
   "metadata": {},
   "outputs": [],
   "source": [
    "df = examples.demo_file_to_pandas('iris.tsv')"
   ]
  },
  {
   "cell_type": "code",
   "execution_count": 6,
   "metadata": {},
   "outputs": [],
   "source": [
    "dataset_tab_path = aiqc.Dataset.Tabular.from_path('notebooks/sequences/a.txt', source_file_format='tsv')"
   ]
  },
  {
   "cell_type": "code",
   "execution_count": 7,
   "metadata": {},
   "outputs": [
    {
     "data": {
      "text/plain": [
       "['1.0']"
      ]
     },
     "execution_count": 7,
     "metadata": {},
     "output_type": "execute_result"
    }
   ],
   "source": [
    "dataset_tab_path.files[0].tabulars[0].columns"
   ]
  },
  {
   "cell_type": "code",
   "execution_count": 8,
   "metadata": {},
   "outputs": [],
   "source": [
    "import numpy as np\n",
    "import pandas as pd"
   ]
  },
  {
   "cell_type": "code",
   "execution_count": 9,
   "metadata": {},
   "outputs": [],
   "source": [
    "arr = np.array([np.array([1,2]),np.array([3,4]),np.array([5,6])])"
   ]
  },
  {
   "cell_type": "code",
   "execution_count": 10,
   "metadata": {},
   "outputs": [],
   "source": [
    "dataset_tab_np = aiqc.Dataset.Tabular.from_numpy(ndarray=arr)"
   ]
  },
  {
   "cell_type": "code",
   "execution_count": 11,
   "metadata": {},
   "outputs": [],
   "source": [
    "df = pd.DataFrame(arr)"
   ]
  },
  {
   "cell_type": "code",
   "execution_count": 16,
   "metadata": {},
   "outputs": [
    {
     "data": {
      "text/plain": [
       "['0', '1']"
      ]
     },
     "execution_count": 16,
     "metadata": {},
     "output_type": "execute_result"
    }
   ],
   "source": [
    "dataset_tab_df.files[0].tabulars[0].columns"
   ]
  },
  {
   "cell_type": "code",
   "execution_count": 14,
   "metadata": {},
   "outputs": [
    {
     "data": {
      "text/plain": [
       "array([[1, 2],\n",
       "       [3, 4],\n",
       "       [5, 6]])"
      ]
     },
     "execution_count": 14,
     "metadata": {},
     "output_type": "execute_result"
    }
   ],
   "source": [
    "dataset_tab_df.to_numpy()"
   ]
  },
  {
   "cell_type": "markdown",
   "metadata": {},
   "source": [
    "---"
   ]
  },
  {
   "cell_type": "markdown",
   "metadata": {},
   "source": [
    "## Usage"
   ]
  },
  {
   "cell_type": "markdown",
   "metadata": {},
   "source": [
    "### 1. Make a `Fileset`"
   ]
  },
  {
   "cell_type": "markdown",
   "metadata": {},
   "source": [
    "A `Fileset` consists of one or more files that are made from either:\n",
    "* In-memory data structures like Pandas DataFrame and NumPy Array\n",
    "* Files like CSV and TSV.\n",
    "\n",
    "This ensures that your data is: persistent, immutable, compressed, and transferable - all of which greatly increases reproducibility."
   ]
  },
  {
   "cell_type": "markdown",
   "metadata": {},
   "source": [
    "- `perform_gzip=True` will reduce the size of the large files by ~25% to 90%."
   ]
  },
  {
   "cell_type": "code",
   "execution_count": 7,
   "metadata": {},
   "outputs": [],
   "source": [
    "path = examples.get_demo_file_path('iris.tsv')"
   ]
  },
  {
   "cell_type": "code",
   "execution_count": 8,
   "metadata": {},
   "outputs": [],
   "source": [
    "dataset = aiqc.Dataset.Tabular.from_path(file_path=path, file_format='tsv', column_names=['a','b','c','d','e'])"
   ]
  },
  {
   "cell_type": "markdown",
   "metadata": {},
   "source": [
    "### From a Pandas DataFrame"
   ]
  },
  {
   "cell_type": "markdown",
   "metadata": {},
   "source": [
    "### From a File or Folder"
   ]
  },
  {
   "cell_type": "markdown",
   "metadata": {},
   "source": [
    "**Optional**; sometimes files either have no column names or you want to provide your own column names. To make it easy to deal with these scenarios, we expose the following arguments: \n",
    "- `column_names` behaves exactly the same as `Pandas.read_csv(names)`.\n",
    "- `skip_header_rows`  exactly the same as `Pandas.read_csv(header)`.\n",
    "\n",
    "> For more detail on things like overriding column names, visit the Pandas docs https://pandas.pydata.org/pandas-docs/stable/reference/api/pandas.read_csv.html. "
   ]
  },
  {
   "cell_type": "markdown",
   "metadata": {},
   "source": [
    "### From Numpy Array(s)"
   ]
  },
  {
   "cell_type": "markdown",
   "metadata": {},
   "source": [
    "---"
   ]
  },
  {
   "cell_type": "markdown",
   "metadata": {},
   "source": [
    "#### Pandas DataFrame"
   ]
  },
  {
   "cell_type": "code",
   "execution_count": 6,
   "metadata": {},
   "outputs": [],
   "source": [
    "df = examples.demo_file_to_pandas('iris.tsv')"
   ]
  },
  {
   "cell_type": "code",
   "execution_count": 7,
   "metadata": {},
   "outputs": [],
   "source": [
    "dataset = aiqc.Dataset.Tabular.from_pandas(dataframe=df)"
   ]
  },
  {
   "cell_type": "markdown",
   "metadata": {},
   "source": [
    "#### NumPy Array"
   ]
  },
  {
   "cell_type": "markdown",
   "metadata": {},
   "source": [
    "Regular *ndarrays* don't have column names, and I didn't like the API for *structured arrays* so you have to pass in columns names as a list. If you don't then column names will be numerically assigned in ascending order (zero-based index)."
   ]
  },
  {
   "cell_type": "code",
   "execution_count": null,
   "metadata": {},
   "outputs": [],
   "source": [
    "arr =  df.to_numpy()\n",
    "cols = list(df.columns)\n",
    "\n",
    "file = aiqc.File.from_numpy(\n",
    "\tndarray = arr\n",
    "\t, file_format = 'parquet'\n",
    "\t, name = 'chunking plants'\n",
    "\t, perform_gzip = True\n",
    "\t, column_names = cols\n",
    ")"
   ]
  },
  {
   "cell_type": "markdown",
   "metadata": {},
   "source": [
    "#### File"
   ]
  },
  {
   "cell_type": "code",
   "execution_count": null,
   "metadata": {},
   "outputs": [],
   "source": [
    "demo_file_path = examples.get_demo_file_path('iris_10x.tsv')\n",
    "\n",
    "# we'll keep this one handy for later.\n",
    "big_dataset = aiqc.Dataset.from_file(\n",
    "\tpath = demo_file_path # files must have column names as their first row\n",
    "\t, file_format = 'tsv'\n",
    "\t, perform_gzip = True\n",
    ")"
   ]
  },
  {
   "cell_type": "markdown",
   "metadata": {},
   "source": [
    "> The bytes of the data will be stored as a BlobField in the SQLite database file. Storing the data in the database not only (a) provides an entity that we can use to keep track of experiments and link relational data to but also (b) makes the data less mutable than keeping it in the open filesystem.\n",
    "\n",
    "> You can choose whether or not you want to gzip compress the file when importing it with the `perform_gzip=bool` parameter. This compression not only enables you to store up to 90% more data on your local machine, but also helps overcome the maximum BlobField size of 2.147 GB. We handle the zipping and unzipping on the fly for you, so you don't even notice it.\n",
    "\n",
    "> Optionally, `dtype`, as seen in [`pandas.DataFrame.astype(dtype)`](https://pandas.pydata.org/pandas-docs/stable/reference/api/pandas.DataFrame.astype.html), can be specified as either a single type for all columns, or as a dict that maps a specific type to each column name. This encodes features for analysis. We read NumPy into Pandas before persisting it, so `columns` and `dtype` are read directly by `pd.DataFrame()`.\n",
    "\n",
    "> At this point, the project's support for Parquet is extremely minimal.\n",
    "\n",
    "> If you leave `name` blank, it will default to a human-readble timestamp with the appropriate file extension (e.g. '2020_10_13-01_28_13_PM.tsv')."
   ]
  },
  {
   "cell_type": "markdown",
   "metadata": {},
   "source": [
    "#### Fetch a `Dataset` with either **Pandas** or **NumPy**."
   ]
  },
  {
   "cell_type": "markdown",
   "metadata": {},
   "source": [
    "All of the data-oriented objects in the API have `to_numpy()` and `to_pandas()` methods that accept the following arguments:\n",
    "\n",
    "* `samples=[]` list of indeces to fetch.\n",
    "* `columns=[]` list of columns to fetch.\n",
    "\n",
    "Later, we'll see how these arguments allow downstream objects like `Splitset` and `Foldset` to slice up the data."
   ]
  },
  {
   "cell_type": "markdown",
   "metadata": {},
   "source": [
    "Implicit IDs"
   ]
  },
  {
   "cell_type": "code",
   "execution_count": null,
   "metadata": {},
   "outputs": [],
   "source": [
    "df = dataset.to_pandas()\n",
    "df.head()"
   ]
  },
  {
   "cell_type": "code",
   "execution_count": null,
   "metadata": {},
   "outputs": [],
   "source": [
    "arr = dataset.to_numpy(\n",
    "    samples = [0,13,29,79] \n",
    "    , columns = ['petal_length', 'petal_width']\n",
    ")\n",
    "arr[:4]"
   ]
  },
  {
   "cell_type": "markdown",
   "metadata": {},
   "source": [
    "Explicit IDs"
   ]
  },
  {
   "cell_type": "code",
   "execution_count": null,
   "metadata": {},
   "outputs": [],
   "source": [
    "df = aiqc.Dataset.to_pandas(\n",
    "    id = dataset.id \n",
    "    , samples = [0,13,29,79]\n",
    "    , columns = ['sepal_length', 'sepal_width']\n",
    ")\n",
    "df.tail()"
   ]
  },
  {
   "cell_type": "code",
   "execution_count": null,
   "metadata": {},
   "outputs": [],
   "source": [
    "arr = aiqc.Dataset.to_numpy(id=dataset.id)\n",
    "arr[:4]"
   ]
  },
  {
   "cell_type": "markdown",
   "metadata": {},
   "source": [
    "### 2. Select the `Label` column(s)."
   ]
  },
  {
   "cell_type": "markdown",
   "metadata": {},
   "source": [
    "From a Dataset, pick the column(s) that you want to train against/ predict. If you are planning on training an unsupervised model, then you don't need to do this."
   ]
  },
  {
   "cell_type": "markdown",
   "metadata": {},
   "source": [
    "Creating a `Label` won't duplicate your data! It simply records the `columns` to be used for supervised learning. "
   ]
  },
  {
   "cell_type": "code",
   "execution_count": 8,
   "metadata": {},
   "outputs": [],
   "source": [
    "label_column = 'species'"
   ]
  },
  {
   "cell_type": "markdown",
   "metadata": {},
   "source": [
    "Implicit IDs"
   ]
  },
  {
   "cell_type": "code",
   "execution_count": 9,
   "metadata": {},
   "outputs": [],
   "source": [
    "label = dataset.make_label(columns=[label_column])"
   ]
  },
  {
   "cell_type": "markdown",
   "metadata": {},
   "source": [
    "Explicit IDs"
   ]
  },
  {
   "cell_type": "code",
   "execution_count": null,
   "metadata": {},
   "outputs": [],
   "source": [
    "label = aiqc.Label.from_dataset(\n",
    "\tdataset_id=1 # cannot duplicate labels on the same dataset\n",
    "\t, columns=[label_column]\n",
    ")"
   ]
  },
  {
   "cell_type": "markdown",
   "metadata": {},
   "source": [
    "> `columns=[label_column]` is a list in case we want to do something with raw OHE/ tensors in the future."
   ]
  },
  {
   "cell_type": "markdown",
   "metadata": {},
   "source": [
    "#### Fetch a `Label` with either **Pandas** or **NumPy**."
   ]
  },
  {
   "cell_type": "markdown",
   "metadata": {},
   "source": [
    "The `Label` comes in handy when we need to fetch *Y* splits. It accepts a `samples` argument. "
   ]
  },
  {
   "cell_type": "code",
   "execution_count": 12,
   "metadata": {
    "collapsed": true,
    "jupyter": {
     "outputs_hidden": true
    }
   },
   "outputs": [
    {
     "data": {
      "text/html": [
       "<div>\n",
       "<style scoped>\n",
       "    .dataframe tbody tr th:only-of-type {\n",
       "        vertical-align: middle;\n",
       "    }\n",
       "\n",
       "    .dataframe tbody tr th {\n",
       "        vertical-align: top;\n",
       "    }\n",
       "\n",
       "    .dataframe thead th {\n",
       "        text-align: right;\n",
       "    }\n",
       "</style>\n",
       "<table border=\"1\" class=\"dataframe\">\n",
       "  <thead>\n",
       "    <tr style=\"text-align: right;\">\n",
       "      <th></th>\n",
       "      <th>species</th>\n",
       "    </tr>\n",
       "  </thead>\n",
       "  <tbody>\n",
       "    <tr>\n",
       "      <th>145</th>\n",
       "      <td>2</td>\n",
       "    </tr>\n",
       "    <tr>\n",
       "      <th>146</th>\n",
       "      <td>2</td>\n",
       "    </tr>\n",
       "    <tr>\n",
       "      <th>147</th>\n",
       "      <td>2</td>\n",
       "    </tr>\n",
       "    <tr>\n",
       "      <th>148</th>\n",
       "      <td>2</td>\n",
       "    </tr>\n",
       "    <tr>\n",
       "      <th>149</th>\n",
       "      <td>2</td>\n",
       "    </tr>\n",
       "  </tbody>\n",
       "</table>\n",
       "</div>"
      ],
      "text/plain": [
       "     species\n",
       "145        2\n",
       "146        2\n",
       "147        2\n",
       "148        2\n",
       "149        2"
      ]
     },
     "execution_count": 12,
     "metadata": {},
     "output_type": "execute_result"
    }
   ],
   "source": [
    "label.to_pandas().tail()"
   ]
  },
  {
   "cell_type": "code",
   "execution_count": null,
   "metadata": {},
   "outputs": [],
   "source": [
    "label.to_numpy(samples=[0,33,66,99,132])[:5]"
   ]
  },
  {
   "cell_type": "markdown",
   "metadata": {},
   "source": [
    "### 3. Select the `Featureset` column(s)."
   ]
  },
  {
   "cell_type": "markdown",
   "metadata": {},
   "source": [
    "Creating a Featureset won't duplicate your data! It simply records the `columns` to be used in training. \n",
    "\n",
    "There are three ways to define which columns you want to use as features:\n",
    "\n",
    "- `exclude_columns=[]` e.g. use all columns except the label column.\n",
    "- `include_columns=[]` e.g. only use these columns that I think are informative.\n",
    "- Leave both of the above blank and all columns will be used e.g. unsupervised leanring."
   ]
  },
  {
   "cell_type": "markdown",
   "metadata": {},
   "source": [
    "Implicit IDs w `exclude_columns=[]`"
   ]
  },
  {
   "cell_type": "code",
   "execution_count": 13,
   "metadata": {},
   "outputs": [],
   "source": [
    "featureset = dataset.make_featureset(exclude_columns=[label_column])"
   ]
  },
  {
   "cell_type": "markdown",
   "metadata": {},
   "source": [
    "Explicit IDs w `include_columns=[]`"
   ]
  },
  {
   "cell_type": "code",
   "execution_count": 14,
   "metadata": {},
   "outputs": [],
   "source": [
    "include_columns = [\n",
    "    'sepal_length',\n",
    "    'petal_length',\n",
    "    'petal_width'\n",
    "]"
   ]
  },
  {
   "cell_type": "code",
   "execution_count": 15,
   "metadata": {},
   "outputs": [],
   "source": [
    "featureset = aiqc.Featureset.from_dataset(\n",
    "\tdataset_id = 1 # cannot duplicate featureset on a dataset\n",
    "\t, include_columns = include_columns\n",
    "\t, exclude_columns = None\n",
    ")"
   ]
  },
  {
   "cell_type": "code",
   "execution_count": 16,
   "metadata": {},
   "outputs": [
    {
     "data": {
      "text/plain": [
       "['sepal_length', 'petal_length', 'petal_width']"
      ]
     },
     "execution_count": 16,
     "metadata": {},
     "output_type": "execute_result"
    }
   ],
   "source": [
    "featureset.columns"
   ]
  },
  {
   "cell_type": "code",
   "execution_count": 17,
   "metadata": {},
   "outputs": [
    {
     "data": {
      "text/plain": [
       "['sepal_width', 'species']"
      ]
     },
     "execution_count": 17,
     "metadata": {},
     "output_type": "execute_result"
    }
   ],
   "source": [
    "featureset.columns_excluded"
   ]
  },
  {
   "cell_type": "markdown",
   "metadata": {},
   "source": [
    "#### Fetch a `Featureset` with either **Pandas** or **NumPy**."
   ]
  },
  {
   "cell_type": "code",
   "execution_count": 18,
   "metadata": {},
   "outputs": [
    {
     "data": {
      "text/plain": [
       "array([[5.1, 1.4, 0.2],\n",
       "       [4.9, 1.4, 0.2],\n",
       "       [4.7, 1.3, 0.2],\n",
       "       [4.6, 1.5, 0.2]])"
      ]
     },
     "execution_count": 18,
     "metadata": {},
     "output_type": "execute_result"
    }
   ],
   "source": [
    "featureset.to_numpy()[:4]"
   ]
  },
  {
   "cell_type": "code",
   "execution_count": 19,
   "metadata": {},
   "outputs": [
    {
     "data": {
      "text/html": [
       "<div>\n",
       "<style scoped>\n",
       "    .dataframe tbody tr th:only-of-type {\n",
       "        vertical-align: middle;\n",
       "    }\n",
       "\n",
       "    .dataframe tbody tr th {\n",
       "        vertical-align: top;\n",
       "    }\n",
       "\n",
       "    .dataframe thead th {\n",
       "        text-align: right;\n",
       "    }\n",
       "</style>\n",
       "<table border=\"1\" class=\"dataframe\">\n",
       "  <thead>\n",
       "    <tr style=\"text-align: right;\">\n",
       "      <th></th>\n",
       "      <th>sepal_length</th>\n",
       "      <th>petal_length</th>\n",
       "      <th>petal_width</th>\n",
       "    </tr>\n",
       "  </thead>\n",
       "  <tbody>\n",
       "    <tr>\n",
       "      <th>0</th>\n",
       "      <td>5.1</td>\n",
       "      <td>1.4</td>\n",
       "      <td>0.2</td>\n",
       "    </tr>\n",
       "    <tr>\n",
       "      <th>16</th>\n",
       "      <td>5.4</td>\n",
       "      <td>1.3</td>\n",
       "      <td>0.4</td>\n",
       "    </tr>\n",
       "    <tr>\n",
       "      <th>32</th>\n",
       "      <td>5.2</td>\n",
       "      <td>1.5</td>\n",
       "      <td>0.1</td>\n",
       "    </tr>\n",
       "    <tr>\n",
       "      <th>64</th>\n",
       "      <td>5.6</td>\n",
       "      <td>3.6</td>\n",
       "      <td>1.3</td>\n",
       "    </tr>\n",
       "  </tbody>\n",
       "</table>\n",
       "</div>"
      ],
      "text/plain": [
       "    sepal_length  petal_length  petal_width\n",
       "0            5.1           1.4          0.2\n",
       "16           5.4           1.3          0.4\n",
       "32           5.2           1.5          0.1\n",
       "64           5.6           3.6          1.3"
      ]
     },
     "execution_count": 19,
     "metadata": {},
     "output_type": "execute_result"
    }
   ],
   "source": [
    "featureset.to_pandas(samples=[0,16,32,64]).tail()"
   ]
  },
  {
   "cell_type": "markdown",
   "metadata": {},
   "source": [
    "### 4. Slice samples with a `Splitset`."
   ]
  },
  {
   "cell_type": "markdown",
   "metadata": {},
   "source": [
    "A `Splitset` divides a the samples of the Dataset into the following *splits*:"
   ]
  },
  {
   "cell_type": "markdown",
   "metadata": {},
   "source": [
    "| Split                 | Description                                                                                                                                                                                             |\n",
    "|-----------------------|---------------------------------------------------------------------------------------------------------------------------------------------------------------------------------------------------------|\n",
    "| train                 | The samples that the model will be trained upon. <br/>Later, we’ll see how we can make cross-folds from our training split. <br/>Unsupervised learning will only have a training split.                 |\n",
    "| validation (optional) | The samples used for training evaluation. <br/>Ensures that the test set is not revealed to the model during training.                                                                                  |\n",
    "| test (optional)       | The samples the model has never seen during training. <br/>Used to assess how well the model will perform on unobserved, natural data when it is applied in the real world aka how generalizable it is. |"
   ]
  },
  {
   "cell_type": "markdown",
   "metadata": {},
   "source": [
    "Again, creating a Splitset won't duplicate your data. It simply records the sample indeces (aka rows) to be used in the splits that you specify."
   ]
  },
  {
   "cell_type": "markdown",
   "metadata": {},
   "source": [
    "#### Ways to split a Dataset"
   ]
  },
  {
   "cell_type": "markdown",
   "metadata": {},
   "source": [
    "##### a) Default supervised 70-30 split."
   ]
  },
  {
   "cell_type": "markdown",
   "metadata": {},
   "source": [
    "If you only provide a Label, then 70:30 train:test splits will be generated."
   ]
  },
  {
   "cell_type": "code",
   "execution_count": 20,
   "metadata": {},
   "outputs": [],
   "source": [
    "splitset = featureset.make_splitset(label_id=label.id)"
   ]
  },
  {
   "cell_type": "markdown",
   "metadata": {},
   "source": [
    "##### b) Specifying test size."
   ]
  },
  {
   "cell_type": "code",
   "execution_count": null,
   "metadata": {},
   "outputs": [],
   "source": [
    "splitset = featureset.make_splitset(\n",
    "\tlabel_id = label.id\n",
    "\t, size_test = 0.30\n",
    ")"
   ]
  },
  {
   "cell_type": "markdown",
   "metadata": {},
   "source": [
    "##### c) Specifying validation size."
   ]
  },
  {
   "cell_type": "code",
   "execution_count": null,
   "metadata": {},
   "outputs": [],
   "source": [
    "splitset = featureset.make_splitset(\n",
    "\tlabel_id = label.id\n",
    "\t, size_test = 0.20\n",
    "\t, size_validation = 0.12\n",
    ")"
   ]
  },
  {
   "cell_type": "markdown",
   "metadata": {},
   "source": [
    "##### d) Taking the whole dataset as a training split."
   ]
  },
  {
   "cell_type": "code",
   "execution_count": null,
   "metadata": {},
   "outputs": [],
   "source": [
    "splitset_unsupervised = featureset.make_splitset()"
   ]
  },
  {
   "cell_type": "markdown",
   "metadata": {},
   "source": [
    "> Label-based stratification is used to ensure equally distributed label classes for both categorical and continuous data.\n",
    ">\n",
    "> If you want more control over stratification of continuous splits, specify the number of `continuous_bin_count` for grouping."
   ]
  },
  {
   "cell_type": "markdown",
   "metadata": {},
   "source": [
    "##### Sizes"
   ]
  },
  {
   "cell_type": "markdown",
   "metadata": {},
   "source": [
    "You can verify the actual size of your splits."
   ]
  },
  {
   "cell_type": "code",
   "execution_count": null,
   "metadata": {},
   "outputs": [],
   "source": [
    "splitset.sizes"
   ]
  },
  {
   "cell_type": "markdown",
   "metadata": {},
   "source": [
    "#### Fetching a `Splitset` into memory"
   ]
  },
  {
   "cell_type": "markdown",
   "metadata": {},
   "source": [
    "This is where things start to get interesting."
   ]
  },
  {
   "cell_type": "markdown",
   "metadata": {},
   "source": [
    "* Given that there are potentially multiple splits, `Splitset` methods return dictionaries where each entry corresponds with a split.\n",
    "  * Additionally, each split will contain *features* and, potentially, *labels*."
   ]
  },
  {
   "cell_type": "code",
   "execution_count": null,
   "metadata": {},
   "outputs": [],
   "source": [
    "splitset.to_numpy()['train']['features'][:4]"
   ]
  },
  {
   "cell_type": "code",
   "execution_count": null,
   "metadata": {},
   "outputs": [],
   "source": [
    "splitset.to_pandas()['test']['labels'].head()"
   ]
  },
  {
   "cell_type": "markdown",
   "metadata": {},
   "source": [
    "### 5. Optionally, create a `Foldset` for cross-fold validation."
   ]
  },
  {
   "cell_type": "markdown",
   "metadata": {},
   "source": [
    "*Reference the [scikit-learn documentation](https://scikit-learn.org/stable/modules/cross_validation.html) to learn more about folding.*\n",
    "\n",
    "![Cross Folds](../images/cross_fold.png)"
   ]
  },
  {
   "cell_type": "markdown",
   "metadata": {},
   "source": [
    "We refer to the left out fold as the `fold_validation` and the remaining training data as the `folds_train_combined`. The sample indeces of the validation fold are still recorded."
   ]
  },
  {
   "cell_type": "markdown",
   "metadata": {},
   "source": [
    "> Don't use `fold_count` unless your (total sample count / fold_count) still gives you an accurate representation of your sample population.\n",
    "\n",
    "> In a scenario where a validation split was specified in the original Splitset, the validation split is not included in the Folds. Only the training data is folded. The implication is that you can have 2 validations in the form of the validation split and the validation fold."
   ]
  },
  {
   "cell_type": "code",
   "execution_count": null,
   "metadata": {},
   "outputs": [],
   "source": [
    "# cross-folding takes many samples, especially when stratified.\n",
    "# which is why we set aside the 'big_dataset' made from 'iris_10x.tsv' earlier.\n",
    "big_label = big_dataset.make_label(columns=[label_column])\n",
    "big_fset = big_dataset.make_featureset(exclude_columns=[label_column])\n",
    "big_splits = big_fset.make_splitset(\n",
    "\tlabel_id = big_label.id\n",
    "\t, size_test = 0.30\n",
    ")"
   ]
  },
  {
   "cell_type": "markdown",
   "metadata": {},
   "source": [
    "This generates 5 `Fold` objects that belong to the `Foldset`."
   ]
  },
  {
   "cell_type": "code",
   "execution_count": null,
   "metadata": {},
   "outputs": [],
   "source": [
    "foldset = big_splits.make_foldset(fold_count=5)"
   ]
  },
  {
   "cell_type": "markdown",
   "metadata": {},
   "source": [
    "#### `Fold` objects"
   ]
  },
  {
   "cell_type": "markdown",
   "metadata": {},
   "source": [
    "For the sake of determining which samples get trained upon, the only thing that matters is the slice of data that gets left out."
   ]
  },
  {
   "cell_type": "markdown",
   "metadata": {},
   "source": [
    "We took a slightly simplified approach in that each `Fold` has a dictionary that contains:\n",
    "* `samples['folds_train_combined']` - all the included folds.\n",
    "* `samples['fold_validation']` - the fold that got left out."
   ]
  },
  {
   "cell_type": "markdown",
   "metadata": {},
   "source": [
    "![cross fold objects](../images/cross_fold_objects.png)"
   ]
  },
  {
   "cell_type": "code",
   "execution_count": null,
   "metadata": {},
   "outputs": [],
   "source": [
    "list(foldset.folds)"
   ]
  },
  {
   "cell_type": "markdown",
   "metadata": {},
   "source": [
    "##### Sample indeces of each Fold:"
   ]
  },
  {
   "cell_type": "code",
   "execution_count": null,
   "metadata": {},
   "outputs": [],
   "source": [
    "foldset.folds[0].samples['folds_train_combined'][:10]"
   ]
  },
  {
   "cell_type": "code",
   "execution_count": null,
   "metadata": {},
   "outputs": [],
   "source": [
    "foldset.folds[0].samples['fold_validation'][:10]"
   ]
  },
  {
   "cell_type": "markdown",
   "metadata": {},
   "source": [
    "#### Fetching a `Foldset` into memory"
   ]
  },
  {
   "cell_type": "markdown",
   "metadata": {},
   "source": [
    "In order to reduce memory footprint the `to_numpy()` and `to_pandas()` methods introduce the `fold_index` argument."
   ]
  },
  {
   "cell_type": "markdown",
   "metadata": {},
   "source": [
    "If no fold_index is specified, then it will fetch all folds and give each fold a numeric key according to its index."
   ]
  },
  {
   "cell_type": "code",
   "execution_count": null,
   "metadata": {},
   "outputs": [],
   "source": [
    "foldset.to_numpy().keys()"
   ]
  },
  {
   "cell_type": "markdown",
   "metadata": {
    "jupyter": {
     "outputs_hidden": true
    }
   },
   "source": [
    "So you need to specify the `fold_index` as the first key when accessing the dictionary."
   ]
  },
  {
   "cell_type": "code",
   "execution_count": null,
   "metadata": {},
   "outputs": [],
   "source": [
    "foldset.to_numpy(fold_index=0)[0]['fold_validation']['features'][:4]"
   ]
  },
  {
   "cell_type": "code",
   "execution_count": null,
   "metadata": {},
   "outputs": [],
   "source": [
    "foldset.to_pandas(fold_index=0)[0]['folds_train_combined']['labels'].tail()"
   ]
  },
  {
   "cell_type": "markdown",
   "metadata": {},
   "source": [
    "### 6. Optionally, create a `Preprocess` for features & labels."
   ]
  },
  {
   "cell_type": "markdown",
   "metadata": {},
   "source": [
    "Certain algorithms need features and/ or labels formatted a certain way. For example, converting categorical data `[dog, cat, fish]` to one-hot encoded format `[[1,0,0][0,1,0][0,0,1]]`.\n",
    "\n",
    "The tricky thing about preprocessing is that you are supposed to `fit` it to the training data (train, folds_train_combined), and then `transform` each of the other splits (fold_validation, validation, test) in order to avoid bias. So the dataset itself should not be stored in preprocessed format.\n",
    "\n",
    "So you simply defined the encoders that you want to use and then they will automatically be applied to the appropriate splits/ folds during training.\n",
    "\n",
    "> For now, only `sklearn.preprocessing` methods are supported. That may change as we add support for more low-level tensor-based frameworks. And if people want to be able to run multiple encoders on their features of different data types."
   ]
  },
  {
   "cell_type": "code",
   "execution_count": null,
   "metadata": {},
   "outputs": [],
   "source": [
    "from sklearn.preprocessing import *"
   ]
  },
  {
   "cell_type": "code",
   "execution_count": null,
   "metadata": {},
   "outputs": [],
   "source": [
    "encoder_features = StandardScaler()\n",
    "encoder_labels = OneHotEncoder(sparse=False)"
   ]
  },
  {
   "cell_type": "code",
   "execution_count": null,
   "metadata": {},
   "outputs": [],
   "source": [
    "preprocess = aiqc.Preprocess.from_splitset(\n",
    "    splitset_id = splitset.id\n",
    "    , description = \"standard scaling on features\"\n",
    "    , encoder_features = encoder_features\n",
    "    , encoder_labels = encoder_labels\n",
    ")"
   ]
  },
  {
   "cell_type": "markdown",
   "metadata": {},
   "source": [
    "### 7. Create an `Algorithm` aka model."
   ]
  },
  {
   "cell_type": "markdown",
   "metadata": {},
   "source": [
    "An `Algorithm` is the ORM's codename for a machine learning model since *Model* is the most important *reserved word* for ORMs."
   ]
  },
  {
   "cell_type": "markdown",
   "metadata": {},
   "source": [
    "Let's define functions to **build** and **train** our model.\n",
    "\n",
    "You can name the functions whatever you want, but do not change the predetermined `*args` (e.g. `**hyperparameters`, `model`, etc.).\n",
    "\n",
    "Put a placeholder anywhere you want to try out different hyperparameters: `hyperparameters['<some_variable_name>']`. You'll get a chance to define the hyperparameters in a minute."
   ]
  },
  {
   "cell_type": "code",
   "execution_count": null,
   "metadata": {},
   "outputs": [],
   "source": [
    "import keras\n",
    "from keras import metrics\n",
    "from keras.models import Sequential\n",
    "from keras.callbacks import History\n",
    "from keras.layers import Dense, Dropout"
   ]
  },
  {
   "cell_type": "markdown",
   "metadata": {},
   "source": [
    "An `Algorithm` is the ORM's codename for a machine learning model since *Model* is the most important *reserved word* for ORMs."
   ]
  },
  {
   "cell_type": "markdown",
   "metadata": {},
   "source": [
    "#### Function to build model"
   ]
  },
  {
   "cell_type": "code",
   "execution_count": null,
   "metadata": {},
   "outputs": [],
   "source": [
    "def function_model_build(**hyperparameters):\n",
    "    \n",
    "\tmodel = Sequential()\n",
    "\tmodel.add(Dense(hyperparameters['neuron_count'], input_shape=(3,), activation='relu', kernel_initializer='he_uniform'))\n",
    "\tmodel.add(Dropout(0.2))\n",
    "\tmodel.add(Dense(hyperparameters['neuron_count'], activation='relu', kernel_initializer='he_uniform'))\n",
    "\tmodel.add(Dense(3, activation='softmax'))\n",
    "\n",
    "\topt = keras.optimizers.Adamax(hyperparameters['learning_rate'])\n",
    "\tmodel.compile(\n",
    "\t\tloss = 'categorical_crossentropy'\n",
    "\t\t, optimizer = opt\n",
    "\t\t, metrics = ['accuracy']\n",
    "\t)\n",
    "    \n",
    "\treturn model"
   ]
  },
  {
   "cell_type": "markdown",
   "metadata": {},
   "source": [
    "#### Function to train model"
   ]
  },
  {
   "cell_type": "code",
   "execution_count": null,
   "metadata": {},
   "outputs": [],
   "source": [
    "def function_model_train(model, samples_train, samples_evaluate, **hyperparameters):\n",
    "    \n",
    "\tmodel.fit(\n",
    "\t\tsamples_train[\"features\"]\n",
    "\t\t, samples_train[\"labels\"]\n",
    "\t\t, validation_data = (\n",
    "\t\t\tsamples_evaluate[\"features\"]\n",
    "\t\t\t, samples_evaluate[\"labels\"]\n",
    "\t\t)\n",
    "\t\t, verbose = 0\n",
    "\t\t, batch_size = 3\n",
    "\t\t, epochs = hyperparameters['epoch_count']\n",
    "\t\t, callbacks=[History()]\n",
    "\t)\n",
    "    \n",
    "\treturn model"
   ]
  },
  {
   "cell_type": "markdown",
   "metadata": {},
   "source": [
    "#### Optional, functions to predict samples"
   ]
  },
  {
   "cell_type": "markdown",
   "metadata": {},
   "source": [
    "When creating an `Algorithm`, the predict function will be generated for you automatically if set to `None`.\n",
    "\n",
    "> The `analysis_type` and `library` of the Algorithm help determine how to handle the predictions."
   ]
  },
  {
   "cell_type": "markdown",
   "metadata": {},
   "source": [
    "##### a) Regression"
   ]
  },
  {
   "cell_type": "code",
   "execution_count": null,
   "metadata": {},
   "outputs": [],
   "source": [
    "def function_model_predict(model, samples_predict):\n",
    "    predictions = model.predict(samples_predict['features'])\n",
    "    return predictions"
   ]
  },
  {
   "cell_type": "markdown",
   "metadata": {},
   "source": [
    "##### b) Classification binary"
   ]
  },
  {
   "cell_type": "markdown",
   "metadata": {},
   "source": [
    "All classification `predictions`, both mutliclass and binary, must be returned in ordinal format. \n",
    "\n",
    "> For most libraries, classification algorithms output probabilities as opposed to actual predictions when running `model.predict()`. We want to return both of these object `predictions, probabilities` (the order matters) to generate performance metrics behind the scenes."
   ]
  },
  {
   "cell_type": "code",
   "execution_count": null,
   "metadata": {},
   "outputs": [],
   "source": [
    "def function_model_predict(model, samples_predict):\n",
    "    probabilities = model.predict(samples_predict['features'])\n",
    "    # This is the official keras replacement for binary classes `.predict_classes()`\n",
    "    # It returns one array per sample: `[[0][1][0][1]]` \n",
    "    predictions = (probabilities > 0.5).astype(\"int32\")\n",
    "    \n",
    "    return predictions, probabilities"
   ]
  },
  {
   "cell_type": "markdown",
   "metadata": {},
   "source": [
    "##### c) Classification multiclass"
   ]
  },
  {
   "cell_type": "code",
   "execution_count": null,
   "metadata": {},
   "outputs": [],
   "source": [
    "import numpy as np"
   ]
  },
  {
   "cell_type": "code",
   "execution_count": null,
   "metadata": {},
   "outputs": [],
   "source": [
    "def function_model_predict(model, samples_predict):\n",
    "    probabilities = model.predict(samples_predict['features'])\n",
    "    # This is the official keras replacement for multiclass `.predict_classes()`\n",
    "    # It returns one ordinal array per sample: `[[0][2][1][2]]` \n",
    "    predictions = np.argmax(probabilities, axis=-1)\n",
    "    \n",
    "    return predictions, probabilities"
   ]
  },
  {
   "cell_type": "markdown",
   "metadata": {},
   "source": [
    "#### Optional, functions to calculate loss"
   ]
  },
  {
   "cell_type": "markdown",
   "metadata": {},
   "source": [
    "When creating an `Algorithm`, the evaluate function will be generated for you automatically if set to `None`.\n",
    "\n",
    "> The `analysis_type` and `library` of the Algorithm help determine how to handle the predictions."
   ]
  },
  {
   "cell_type": "markdown",
   "metadata": {},
   "source": [
    "The only trick thing here is when `keras.metrics` returns multiple metrics, like *accuracy* or *R^2*. All we are after in this case is the loss for the split/ fold in question."
   ]
  },
  {
   "cell_type": "code",
   "execution_count": null,
   "metadata": {},
   "outputs": [],
   "source": [
    "def function_model_loss(model, samples_evaluate):\n",
    "    metrics = model.evaluate(samples_evaluate['features'], samples_evaluate['labels'], verbose=0)\n",
    "    if (isinstance(metrics, list)):\n",
    "        loss = metrics[0]\n",
    "    elif (isinstance(metrics, float)):\n",
    "        loss = metrics\n",
    "    else:\n",
    "        raise ValueError(f\"\\nYikes - The 'metrics' returned are neither a list nor a float:\\n{metrics}\\n\")\n",
    "    return loss"
   ]
  },
  {
   "cell_type": "markdown",
   "metadata": {},
   "source": [
    "> In contrast to openly specifying a loss function, for example `keras.losses.<loss_fn>()`, the use of `.evaluate()` is consistent because it comes from the compiled model. Also, although `model.compiled_loss` would be more efficient, it requires making encoded `y_true` and `y_pred` available to the user, whereas `.evaluate()` can be called with the same arugments as the other `function_model_*` and many deep learning libraries support this approach. "
   ]
  },
  {
   "cell_type": "markdown",
   "metadata": {},
   "source": [
    "#### Group the functions together in an `Algorithm`!"
   ]
  },
  {
   "cell_type": "code",
   "execution_count": null,
   "metadata": {},
   "outputs": [],
   "source": [
    "algorithm = aiqc.Algorithm.create(\n",
    "    library = \"keras\"\n",
    "\t, analysis_type = \"classification_multi\"\n",
    "\t, function_model_build = function_model_build\n",
    "\t, function_model_train = function_model_train\n",
    "\t, function_model_predict = function_model_predict\n",
    "\t, function_model_loss = function_model_loss\n",
    ")"
   ]
  },
  {
   "cell_type": "markdown",
   "metadata": {},
   "source": [
    "### 8. Optional, associate `hyperparameters` with your model."
   ]
  },
  {
   "cell_type": "markdown",
   "metadata": {},
   "source": [
    "The `hyperparameters` below will be automatically fed into the functions above as `**kwargs` via the `**hyperparameters` argument we saw earlier.\n",
    "\n",
    "For example, wherever you see `hyperparameters['neuron_count']`, it will pull from the *key:value* pair `\"neuron_count\": [9, 12]` seen below. Where model A will have 9 neurons and model B will have 12 neurons."
   ]
  },
  {
   "cell_type": "code",
   "execution_count": null,
   "metadata": {},
   "outputs": [],
   "source": [
    "hyperparameters = {\n",
    "\t\"neuron_count\": [9, 12]\n",
    "\t, \"epoch_count\": [30, 60]\n",
    "    , \"learning_rate\": [0.03, 0.05]\n",
    "}\n",
    "\n",
    "hyperparamset = aiqc.Hyperparamset.from_algorithm(\n",
    "\talgorithm_id = algorithm.id\n",
    "\t, description = \"experimenting with neuron count, layers, and epoch count\"\n",
    "\t, hyperparameters = hyperparameters\n",
    ")"
   ]
  },
  {
   "cell_type": "markdown",
   "metadata": {},
   "source": [
    "> In the future, we will provide different strategies for generating and selecting parameters to experiment with.\n"
   ]
  },
  {
   "cell_type": "markdown",
   "metadata": {},
   "source": [
    "#### `Hyperparamcombo` objects."
   ]
  },
  {
   "cell_type": "markdown",
   "metadata": {},
   "source": [
    "Each unique combination of hyperparameters is recorded. A separate training `Job` will be made for each."
   ]
  },
  {
   "cell_type": "code",
   "execution_count": null,
   "metadata": {},
   "outputs": [],
   "source": [
    "hyperparamset.hyperparamcombo_count"
   ]
  },
  {
   "cell_type": "code",
   "execution_count": null,
   "metadata": {},
   "outputs": [],
   "source": [
    "hyperparamcombos = hyperparamset.hyperparamcombos\n",
    "\n",
    "for h in hyperparamcombos:\n",
    "    print(h.hyperparameters)"
   ]
  },
  {
   "cell_type": "markdown",
   "metadata": {},
   "source": [
    "### 9. Create a `Batch` of `Jobs` to keep track of training."
   ]
  },
  {
   "cell_type": "markdown",
   "metadata": {},
   "source": [
    "A `Batch` ties together everything you need for hypertuning."
   ]
  },
  {
   "cell_type": "code",
   "execution_count": null,
   "metadata": {},
   "outputs": [],
   "source": [
    "batch = aiqc.Batch.from_algorithm(\n",
    "\talgorithm_id = algorithm.id\n",
    "\t, splitset_id = splitset.id\n",
    "\t, hyperparamset_id = hyperparamset.id\n",
    "\t, foldset_id = None\n",
    "\t, preprocess_id = preprocess.id\n",
    ")"
   ]
  },
  {
   "cell_type": "markdown",
   "metadata": {},
   "source": [
    "#### `Job` objects."
   ]
  },
  {
   "cell_type": "markdown",
   "metadata": {},
   "source": [
    "Each `Job` in the Batch represents a training run. It contains the information needed to execute the training run. Its `status` keeps track of its phase of execution."
   ]
  },
  {
   "cell_type": "code",
   "execution_count": null,
   "metadata": {},
   "outputs": [],
   "source": [
    "batch.jobs[0].status"
   ]
  },
  {
   "cell_type": "code",
   "execution_count": null,
   "metadata": {},
   "outputs": [],
   "source": [
    "batch.get_statuses()"
   ]
  },
  {
   "cell_type": "markdown",
   "metadata": {},
   "source": [
    "#### Execute the `Batch`.\n",
    "The Jobs will be asynchronously executed on a background process, so that you can continue to code on the main process. You can poll the Job status."
   ]
  },
  {
   "cell_type": "code",
   "execution_count": null,
   "metadata": {},
   "outputs": [],
   "source": [
    "batch.run_jobs()"
   ]
  },
  {
   "cell_type": "markdown",
   "metadata": {},
   "source": [
    "You can stop the execution of a batch if you need to, and later resume it. If your kernel crashes then you can likewise resume the execution."
   ]
  },
  {
   "cell_type": "code",
   "execution_count": null,
   "metadata": {},
   "outputs": [],
   "source": [
    "from time import sleep\n",
    "sleep(7)"
   ]
  },
  {
   "cell_type": "code",
   "execution_count": null,
   "metadata": {},
   "outputs": [],
   "source": [
    "batch.stop_jobs()"
   ]
  },
  {
   "cell_type": "code",
   "execution_count": null,
   "metadata": {},
   "outputs": [],
   "source": [
    "batch.get_statuses()"
   ]
  },
  {
   "cell_type": "markdown",
   "metadata": {},
   "source": [
    "Before resuming them again. In this way, if your system crashes for any reason, you can pick up right back where you left off."
   ]
  },
  {
   "cell_type": "code",
   "execution_count": null,
   "metadata": {},
   "outputs": [],
   "source": [
    "batch.run_jobs()"
   ]
  },
  {
   "cell_type": "markdown",
   "metadata": {},
   "source": [
    "### 10. Assess the `Results`."
   ]
  },
  {
   "cell_type": "markdown",
   "metadata": {},
   "source": [
    "Each Job has a `Result`. The following artifacts are automatically written to the Result after training.\n",
    "    \n",
    "* `model_file`: hdf5 bytes of the model.\n",
    "* `history`: per epoch metrics recorded during training.\n",
    "* `predictions`: dictionary of predictions per split/ fold.\n",
    "* `probabilities`: dictionary of prediction probabilities per split/ fold.\n",
    "* `metrics`: dictionary of single-value metrics depending on the analysis_type.\n",
    "* `plot_data`: metrics readily formatted for plotting."
   ]
  },
  {
   "cell_type": "markdown",
   "metadata": {},
   "source": [
    "All of the dictionaries have split/ fold based keys."
   ]
  },
  {
   "cell_type": "markdown",
   "metadata": {},
   "source": [
    "#### Fetching the trained model."
   ]
  },
  {
   "cell_type": "code",
   "execution_count": null,
   "metadata": {},
   "outputs": [],
   "source": [
    "compiled_model = batch.jobs[0].results[0].get_model()\n",
    "compiled_model"
   ]
  },
  {
   "cell_type": "markdown",
   "metadata": {},
   "source": [
    "#### Fetching metrics."
   ]
  },
  {
   "cell_type": "code",
   "execution_count": null,
   "metadata": {},
   "outputs": [],
   "source": [
    "batch.jobs[0].results[0].metrics"
   ]
  },
  {
   "cell_type": "markdown",
   "metadata": {},
   "source": [
    "### Metrics & Visualization"
   ]
  },
  {
   "cell_type": "markdown",
   "metadata": {},
   "source": [
    "For more information of visualization of performance metrics, reference the **Visualization & Metrics** documentation."
   ]
  }
 ],
 "metadata": {
  "kernelspec": {
   "display_name": "Python 3",
   "language": "python",
   "name": "python3"
  },
  "language_info": {
   "codemirror_mode": {
    "name": "ipython",
    "version": 3
   },
   "file_extension": ".py",
   "mimetype": "text/x-python",
   "name": "python",
   "nbconvert_exporter": "python",
   "pygments_lexer": "ipython3",
   "version": "3.7.6"
  }
 },
 "nbformat": 4,
 "nbformat_minor": 4
}
