{
 "cells": [
  {
   "cell_type": "code",
   "execution_count": 46,
   "metadata": {},
   "outputs": [],
   "source": [
    "import numpy as np"
   ]
  },
  {
   "cell_type": "code",
   "execution_count": 47,
   "metadata": {},
   "outputs": [],
   "source": [
    "array2D_2 = np.arange(10,16).reshape(3,2)"
   ]
  },
  {
   "cell_type": "code",
   "execution_count": 48,
   "metadata": {},
   "outputs": [
    {
     "data": {
      "text/plain": [
       "array([[10, 11],\n",
       "       [12, 13],\n",
       "       [14, 15]])"
      ]
     },
     "execution_count": 48,
     "metadata": {},
     "output_type": "execute_result"
    }
   ],
   "source": [
    "array2D_2"
   ]
  },
  {
   "cell_type": "code",
   "execution_count": 49,
   "metadata": {},
   "outputs": [],
   "source": [
    "array2D_1 = np.arange(10,13).reshape(3,1)"
   ]
  },
  {
   "cell_type": "code",
   "execution_count": 50,
   "metadata": {},
   "outputs": [
    {
     "data": {
      "text/plain": [
       "array([[10, 11, 10],\n",
       "       [12, 13, 11],\n",
       "       [14, 15, 12]])"
      ]
     },
     "execution_count": 50,
     "metadata": {},
     "output_type": "execute_result"
    }
   ],
   "source": [
    "np.concatenate((array2D_2,array2D_1),axis=1)"
   ]
  },
  {
   "cell_type": "markdown",
   "metadata": {},
   "source": [
    "---"
   ]
  },
  {
   "cell_type": "code",
   "execution_count": 70,
   "metadata": {},
   "outputs": [],
   "source": [
    "encoded_features = {}"
   ]
  },
  {
   "cell_type": "code",
   "execution_count": 71,
   "metadata": {},
   "outputs": [],
   "source": [
    "intermediate_features = {\n",
    "    'train': array2D_2\n",
    "    , 'validation': array2D_2\n",
    "    , 'test': array2D_2\n",
    "}"
   ]
  },
  {
   "cell_type": "code",
   "execution_count": 72,
   "metadata": {},
   "outputs": [],
   "source": [
    "featurecoders = [intermediate_features, intermediate_features, intermediate_features, intermediate_features]"
   ]
  },
  {
   "cell_type": "code",
   "execution_count": 73,
   "metadata": {},
   "outputs": [],
   "source": [
    "#first wipe out the samples[split][features]\n",
    "\n",
    "for i, fc in enumerate(featurecoders): # don't use enumerate\n",
    "    # get the fitted_encoders.\n",
    "    \n",
    "    # write straight to samples[split][features]\n",
    "    for split, data in intermediate_features.items():\n",
    "        if (i == 0): # use encoder_index\n",
    "            # transform the data.\n",
    "            encoded_features[split] = data\n",
    "        elif (i > 0): # use encoder_index\n",
    "            # transform the data.\n",
    "            encoded_features[split] = np.concatenate(\n",
    "                (encoded_features[split], data)\n",
    "                , axis = 1\n",
    "            )"
   ]
  },
  {
   "cell_type": "code",
   "execution_count": 74,
   "metadata": {},
   "outputs": [
    {
     "data": {
      "text/plain": [
       "{'train': array([[10, 11, 10, 11, 10, 11, 10, 11],\n",
       "        [12, 13, 12, 13, 12, 13, 12, 13],\n",
       "        [14, 15, 14, 15, 14, 15, 14, 15]]),\n",
       " 'validation': array([[10, 11, 10, 11, 10, 11, 10, 11],\n",
       "        [12, 13, 12, 13, 12, 13, 12, 13],\n",
       "        [14, 15, 14, 15, 14, 15, 14, 15]]),\n",
       " 'test': array([[10, 11, 10, 11, 10, 11, 10, 11],\n",
       "        [12, 13, 12, 13, 12, 13, 12, 13],\n",
       "        [14, 15, 14, 15, 14, 15, 14, 15]])}"
      ]
     },
     "execution_count": 74,
     "metadata": {},
     "output_type": "execute_result"
    }
   ],
   "source": [
    "encoded_features"
   ]
  }
 ],
 "metadata": {
  "kernelspec": {
   "display_name": "Python 3",
   "language": "python",
   "name": "python3"
  },
  "language_info": {
   "codemirror_mode": {
    "name": "ipython",
    "version": 3
   },
   "file_extension": ".py",
   "mimetype": "text/x-python",
   "name": "python",
   "nbconvert_exporter": "python",
   "pygments_lexer": "ipython3",
   "version": "3.7.6"
  }
 },
 "nbformat": 4,
 "nbformat_minor": 4
}
