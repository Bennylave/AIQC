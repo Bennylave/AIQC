{
 "cells": [
  {
   "cell_type": "code",
   "execution_count": 16,
   "metadata": {},
   "outputs": [],
   "source": [
    "import os\n",
    "os.chdir(\"/Users/Layne/Downloads\")"
   ]
  },
  {
   "cell_type": "code",
   "execution_count": 5,
   "metadata": {},
   "outputs": [
    {
     "name": "stdout",
     "output_type": "stream",
     "text": [
      "Found existing installation: gitdir 1.2.4\n",
      "Uninstalling gitdir-1.2.4:\n",
      "  Successfully uninstalled gitdir-1.2.4\n",
      "Note: you may need to restart the kernel to use updated packages.\n"
     ]
    }
   ],
   "source": [
    "pip uninstall gitdir -y"
   ]
  },
  {
   "cell_type": "code",
   "execution_count": 13,
   "metadata": {},
   "outputs": [
    {
     "data": {
      "text/plain": [
       "0"
      ]
     },
     "execution_count": 13,
     "metadata": {},
     "output_type": "execute_result"
    }
   ],
   "source": [
    "os.system(\"curl https://raw.githubusercontent.com/aiqc/aiqc/main/aiqc/data/iris.tsv > iris.tsv\")"
   ]
  },
  {
   "cell_type": "code",
   "execution_count": 17,
   "metadata": {},
   "outputs": [
    {
     "ename": "FileExistsError",
     "evalue": "[Errno 17] File exists: 'brain_tumor_images'",
     "output_type": "error",
     "traceback": [
      "\u001b[0;31m---------------------------------------------------------------------------\u001b[0m",
      "\u001b[0;31mFileExistsError\u001b[0m                           Traceback (most recent call last)",
      "\u001b[0;32m<ipython-input-17-89cc080dc6a0>\u001b[0m in \u001b[0;36m<module>\u001b[0;34m\u001b[0m\n\u001b[0;32m----> 1\u001b[0;31m \u001b[0mos\u001b[0m\u001b[0;34m.\u001b[0m\u001b[0mmkdir\u001b[0m\u001b[0;34m(\u001b[0m\u001b[0;34m\"brain_tumor_images\"\u001b[0m\u001b[0;34m)\u001b[0m\u001b[0;34m\u001b[0m\u001b[0;34m\u001b[0m\u001b[0m\n\u001b[0m\u001b[1;32m      2\u001b[0m \u001b[0mos\u001b[0m\u001b[0;34m.\u001b[0m\u001b[0mchdir\u001b[0m\u001b[0;34m(\u001b[0m\u001b[0;34m\"brain_tumor_images\"\u001b[0m\u001b[0;34m)\u001b[0m\u001b[0;34m\u001b[0m\u001b[0;34m\u001b[0m\u001b[0m\n",
      "\u001b[0;31mFileExistsError\u001b[0m: [Errno 17] File exists: 'brain_tumor_images'"
     ]
    }
   ],
   "source": [
    "os.mkdir(\"images_brain\")"
   ]
  },
  {
   "cell_type": "code",
   "execution_count": 18,
   "metadata": {},
   "outputs": [],
   "source": [
    "os.chdir(\"images_brain\")"
   ]
  },
  {
   "cell_type": "markdown",
   "metadata": {},
   "source": [
    "Windows10 includes curl by default\n",
    "https://superuser.com/a/755581/542414"
   ]
  },
  {
   "cell_type": "code",
   "execution_count": 19,
   "metadata": {},
   "outputs": [
    {
     "data": {
      "text/plain": [
       "0"
      ]
     },
     "execution_count": 19,
     "metadata": {},
     "output_type": "execute_result"
    }
   ],
   "source": [
    "os.system(\"curl https://raw.githubusercontent.com/aiqc/aiqc/main/aiqc/data/iris.tsv > iris.tsv\")"
   ]
  },
  {
   "cell_type": "code",
   "execution_count": 11,
   "metadata": {},
   "outputs": [
    {
     "data": {
      "text/plain": [
       "['  % Total    % Received % Xferd  Average Speed   Time    Time     Time  Current',\n",
       " '                                 Dload  Upload   Total   Spent    Left  Speed',\n",
       " '',\n",
       " '  0     0    0     0    0     0      0      0 --:--:-- --:--:-- --:--:--     0',\n",
       " '100  2616  100  2616    0     0  42193      0 --:--:-- --:--:-- --:--:-- 42193',\n",
       " 'sepal_length\\tsepal_width\\tpetal_length\\tpetal_width\\tspecies',\n",
       " '5.1\\t3.5\\t1.4\\t0.2\\t0',\n",
       " '4.9\\t3\\t1.4\\t0.2\\t0',\n",
       " '4.7\\t3.2\\t1.3\\t0.2\\t0',\n",
       " '4.6\\t3.1\\t1.5\\t0.2\\t0',\n",
       " '5\\t3.6\\t1.4\\t0.2\\t0',\n",
       " '5.4\\t3.9\\t1.7\\t0.4\\t0',\n",
       " '4.6\\t3.4\\t1.4\\t0.3\\t0',\n",
       " '5\\t3.4\\t1.5\\t0.2\\t0',\n",
       " '4.4\\t2.9\\t1.4\\t0.2\\t0',\n",
       " '4.9\\t3.1\\t1.5\\t0.1\\t0',\n",
       " '5.4\\t3.7\\t1.5\\t0.2\\t0',\n",
       " '4.8\\t3.4\\t1.6\\t0.2\\t0',\n",
       " '4.8\\t3\\t1.4\\t0.1\\t0',\n",
       " '4.3\\t3\\t1.1\\t0.1\\t0',\n",
       " '5.8\\t4\\t1.2\\t0.2\\t0',\n",
       " '5.7\\t4.4\\t1.5\\t0.4\\t0',\n",
       " '5.4\\t3.9\\t1.3\\t0.4\\t0',\n",
       " '5.1\\t3.5\\t1.4\\t0.3\\t0',\n",
       " '5.7\\t3.8\\t1.7\\t0.3\\t0',\n",
       " '5.1\\t3.8\\t1.5\\t0.3\\t0',\n",
       " '5.4\\t3.4\\t1.7\\t0.2\\t0',\n",
       " '5.1\\t3.7\\t1.5\\t0.4\\t0',\n",
       " '4.6\\t3.6\\t1\\t0.2\\t0',\n",
       " '5.1\\t3.3\\t1.7\\t0.5\\t0',\n",
       " '4.8\\t3.4\\t1.9\\t0.2\\t0',\n",
       " '5\\t3\\t1.6\\t0.2\\t0',\n",
       " '5\\t3.4\\t1.6\\t0.4\\t0',\n",
       " '5.2\\t3.5\\t1.5\\t0.2\\t0',\n",
       " '5.2\\t3.4\\t1.4\\t0.2\\t0',\n",
       " '4.7\\t3.2\\t1.6\\t0.2\\t0',\n",
       " '4.8\\t3.1\\t1.6\\t0.2\\t0',\n",
       " '5.4\\t3.4\\t1.5\\t0.4\\t0',\n",
       " '5.2\\t4.1\\t1.5\\t0.1\\t0',\n",
       " '5.5\\t4.2\\t1.4\\t0.2\\t0',\n",
       " '4.9\\t3.1\\t1.5\\t0.2\\t0',\n",
       " '5\\t3.2\\t1.2\\t0.2\\t0',\n",
       " '5.5\\t3.5\\t1.3\\t0.2\\t0',\n",
       " '4.9\\t3.6\\t1.4\\t0.1\\t0',\n",
       " '4.4\\t3\\t1.3\\t0.2\\t0',\n",
       " '5.1\\t3.4\\t1.5\\t0.2\\t0',\n",
       " '5\\t3.5\\t1.3\\t0.3\\t0',\n",
       " '4.5\\t2.3\\t1.3\\t0.3\\t0',\n",
       " '4.4\\t3.2\\t1.3\\t0.2\\t0',\n",
       " '5\\t3.5\\t1.6\\t0.6\\t0',\n",
       " '5.1\\t3.8\\t1.9\\t0.4\\t0',\n",
       " '4.8\\t3\\t1.4\\t0.3\\t0',\n",
       " '5.1\\t3.8\\t1.6\\t0.2\\t0',\n",
       " '4.6\\t3.2\\t1.4\\t0.2\\t0',\n",
       " '5.3\\t3.7\\t1.5\\t0.2\\t0',\n",
       " '5\\t3.3\\t1.4\\t0.2\\t0',\n",
       " '7\\t3.2\\t4.7\\t1.4\\t1',\n",
       " '6.4\\t3.2\\t4.5\\t1.5\\t1',\n",
       " '6.9\\t3.1\\t4.9\\t1.5\\t1',\n",
       " '5.5\\t2.3\\t4\\t1.3\\t1',\n",
       " '6.5\\t2.8\\t4.6\\t1.5\\t1',\n",
       " '5.7\\t2.8\\t4.5\\t1.3\\t1',\n",
       " '6.3\\t3.3\\t4.7\\t1.6\\t1',\n",
       " '4.9\\t2.4\\t3.3\\t1\\t1',\n",
       " '6.6\\t2.9\\t4.6\\t1.3\\t1',\n",
       " '5.2\\t2.7\\t3.9\\t1.4\\t1',\n",
       " '5\\t2\\t3.5\\t1\\t1',\n",
       " '5.9\\t3\\t4.2\\t1.5\\t1',\n",
       " '6\\t2.2\\t4\\t1\\t1',\n",
       " '6.1\\t2.9\\t4.7\\t1.4\\t1',\n",
       " '5.6\\t2.9\\t3.6\\t1.3\\t1',\n",
       " '6.7\\t3.1\\t4.4\\t1.4\\t1',\n",
       " '5.6\\t3\\t4.5\\t1.5\\t1',\n",
       " '5.8\\t2.7\\t4.1\\t1\\t1',\n",
       " '6.2\\t2.2\\t4.5\\t1.5\\t1',\n",
       " '5.6\\t2.5\\t3.9\\t1.1\\t1',\n",
       " '5.9\\t3.2\\t4.8\\t1.8\\t1',\n",
       " '6.1\\t2.8\\t4\\t1.3\\t1',\n",
       " '6.3\\t2.5\\t4.9\\t1.5\\t1',\n",
       " '6.1\\t2.8\\t4.7\\t1.2\\t1',\n",
       " '6.4\\t2.9\\t4.3\\t1.3\\t1',\n",
       " '6.6\\t3\\t4.4\\t1.4\\t1',\n",
       " '6.8\\t2.8\\t4.8\\t1.4\\t1',\n",
       " '6.7\\t3\\t5\\t1.7\\t1',\n",
       " '6\\t2.9\\t4.5\\t1.5\\t1',\n",
       " '5.7\\t2.6\\t3.5\\t1\\t1',\n",
       " '5.5\\t2.4\\t3.8\\t1.1\\t1',\n",
       " '5.5\\t2.4\\t3.7\\t1\\t1',\n",
       " '5.8\\t2.7\\t3.9\\t1.2\\t1',\n",
       " '6\\t2.7\\t5.1\\t1.6\\t1',\n",
       " '5.4\\t3\\t4.5\\t1.5\\t1',\n",
       " '6\\t3.4\\t4.5\\t1.6\\t1',\n",
       " '6.7\\t3.1\\t4.7\\t1.5\\t1',\n",
       " '6.3\\t2.3\\t4.4\\t1.3\\t1',\n",
       " '5.6\\t3\\t4.1\\t1.3\\t1',\n",
       " '5.5\\t2.5\\t4\\t1.3\\t1',\n",
       " '5.5\\t2.6\\t4.4\\t1.2\\t1',\n",
       " '6.1\\t3\\t4.6\\t1.4\\t1',\n",
       " '5.8\\t2.6\\t4\\t1.2\\t1',\n",
       " '5\\t2.3\\t3.3\\t1\\t1',\n",
       " '5.6\\t2.7\\t4.2\\t1.3\\t1',\n",
       " '5.7\\t3\\t4.2\\t1.2\\t1',\n",
       " '5.7\\t2.9\\t4.2\\t1.3\\t1',\n",
       " '6.2\\t2.9\\t4.3\\t1.3\\t1',\n",
       " '5.1\\t2.5\\t3\\t1.1\\t1',\n",
       " '5.7\\t2.8\\t4.1\\t1.3\\t1',\n",
       " '6.3\\t3.3\\t6\\t2.5\\t2',\n",
       " '5.8\\t2.7\\t5.1\\t1.9\\t2',\n",
       " '7.1\\t3\\t5.9\\t2.1\\t2',\n",
       " '6.3\\t2.9\\t5.6\\t1.8\\t2',\n",
       " '6.5\\t3\\t5.8\\t2.2\\t2',\n",
       " '7.6\\t3\\t6.6\\t2.1\\t2',\n",
       " '4.9\\t2.5\\t4.5\\t1.7\\t2',\n",
       " '7.3\\t2.9\\t6.3\\t1.8\\t2',\n",
       " '6.7\\t2.5\\t5.8\\t1.8\\t2',\n",
       " '7.2\\t3.6\\t6.1\\t2.5\\t2',\n",
       " '6.5\\t3.2\\t5.1\\t2\\t2',\n",
       " '6.4\\t2.7\\t5.3\\t1.9\\t2',\n",
       " '6.8\\t3\\t5.5\\t2.1\\t2',\n",
       " '5.7\\t2.5\\t5\\t2\\t2',\n",
       " '5.8\\t2.8\\t5.1\\t2.4\\t2',\n",
       " '6.4\\t3.2\\t5.3\\t2.3\\t2',\n",
       " '6.5\\t3\\t5.5\\t1.8\\t2',\n",
       " '7.7\\t3.8\\t6.7\\t2.2\\t2',\n",
       " '7.7\\t2.6\\t6.9\\t2.3\\t2',\n",
       " '6\\t2.2\\t5\\t1.5\\t2',\n",
       " '6.9\\t3.2\\t5.7\\t2.3\\t2',\n",
       " '5.6\\t2.8\\t4.9\\t2\\t2',\n",
       " '7.7\\t2.8\\t6.7\\t2\\t2',\n",
       " '6.3\\t2.7\\t4.9\\t1.8\\t2',\n",
       " '6.7\\t3.3\\t5.7\\t2.1\\t2',\n",
       " '7.2\\t3.2\\t6\\t1.8\\t2',\n",
       " '6.2\\t2.8\\t4.8\\t1.8\\t2',\n",
       " '6.1\\t3\\t4.9\\t1.8\\t2',\n",
       " '6.4\\t2.8\\t5.6\\t2.1\\t2',\n",
       " '7.2\\t3\\t5.8\\t1.6\\t2',\n",
       " '7.4\\t2.8\\t6.1\\t1.9\\t2',\n",
       " '7.9\\t3.8\\t6.4\\t2\\t2',\n",
       " '6.4\\t2.8\\t5.6\\t2.2\\t2',\n",
       " '6.3\\t2.8\\t5.1\\t1.5\\t2',\n",
       " '6.1\\t2.6\\t5.6\\t1.4\\t2',\n",
       " '7.7\\t3\\t6.1\\t2.3\\t2',\n",
       " '6.3\\t3.4\\t5.6\\t2.4\\t2',\n",
       " '6.4\\t3.1\\t5.5\\t1.8\\t2',\n",
       " '6\\t3\\t4.8\\t1.8\\t2',\n",
       " '6.9\\t3.1\\t5.4\\t2.1\\t2',\n",
       " '6.7\\t3.1\\t5.6\\t2.4\\t2',\n",
       " '6.9\\t3.1\\t5.1\\t2.3\\t2',\n",
       " '5.8\\t2.7\\t5.1\\t1.9\\t2',\n",
       " '6.8\\t3.2\\t5.9\\t2.3\\t2',\n",
       " '6.7\\t3.3\\t5.7\\t2.5\\t2',\n",
       " '6.7\\t3\\t5.2\\t2.3\\t2',\n",
       " '6.3\\t2.5\\t5\\t1.9\\t2',\n",
       " '6.5\\t3\\t5.2\\t2\\t2',\n",
       " '6.2\\t3.4\\t5.4\\t2.3\\t2',\n",
       " '5.9\\t3\\t5.1\\t1.8\\t2']"
      ]
     },
     "execution_count": 11,
     "metadata": {},
     "output_type": "execute_result"
    }
   ],
   "source": [
    "d"
   ]
  },
  {
   "cell_type": "code",
   "execution_count": 18,
   "metadata": {},
   "outputs": [
    {
     "name": "stdout",
     "output_type": "stream",
     "text": [
      "Requirement already satisfied: gitpython in /Users/layne/.pyenv/versions/3.7.6/envs/jupyterlab/lib/python3.7/site-packages (3.1.7)\n",
      "Requirement already satisfied: gitdb<5,>=4.0.1 in /Users/layne/.pyenv/versions/3.7.6/envs/jupyterlab/lib/python3.7/site-packages (from gitpython) (4.0.5)\n",
      "Requirement already satisfied: smmap<4,>=3.0.1 in /Users/layne/.pyenv/versions/3.7.6/envs/jupyterlab/lib/python3.7/site-packages (from gitdb<5,>=4.0.1->gitpython) (3.0.4)\n",
      "WARNING: You are using pip version 20.2.3; however, version 20.3.3 is available.\n",
      "You should consider upgrading via the '/Users/layne/.pyenv/versions/3.7.6/envs/jupyterlab/bin/python3.7 -m pip install --upgrade pip' command.\n",
      "Note: you may need to restart the kernel to use updated packages.\n"
     ]
    }
   ],
   "source": [
    "pip install gitpython"
   ]
  },
  {
   "cell_type": "code",
   "execution_count": 20,
   "metadata": {},
   "outputs": [],
   "source": [
    "import os\n",
    "from git.repo.base import Repo"
   ]
  },
  {
   "cell_type": "code",
   "execution_count": 26,
   "metadata": {},
   "outputs": [
    {
     "ename": "GitCommandError",
     "evalue": "Cmd('git') failed due to: exit code(128)\n  cmdline: git clone --branch=main -v https://github.com/aiqc/aiqc /images\n  stderr: 'fatal: could not create work tree dir '/images': Read-only file system\n'",
     "output_type": "error",
     "traceback": [
      "\u001b[0;31m---------------------------------------------------------------------------\u001b[0m",
      "\u001b[0;31mGitCommandError\u001b[0m                           Traceback (most recent call last)",
      "\u001b[0;32m<ipython-input-26-c6faf88aa299>\u001b[0m in \u001b[0;36m<module>\u001b[0;34m\u001b[0m\n\u001b[0;32m----> 1\u001b[0;31m \u001b[0mRepo\u001b[0m\u001b[0;34m.\u001b[0m\u001b[0mclone_from\u001b[0m\u001b[0;34m(\u001b[0m\u001b[0;34m\"https://github.com/aiqc/aiqc\"\u001b[0m\u001b[0;34m,\u001b[0m \u001b[0;34m\"/images\"\u001b[0m\u001b[0;34m,\u001b[0m \u001b[0mbranch\u001b[0m\u001b[0;34m=\u001b[0m\u001b[0;34m'main'\u001b[0m\u001b[0;34m)\u001b[0m\u001b[0;34m\u001b[0m\u001b[0;34m\u001b[0m\u001b[0m\n\u001b[0m",
      "\u001b[0;32m~/.pyenv/versions/3.7.6/envs/jupyterlab/lib/python3.7/site-packages/git/repo/base.py\u001b[0m in \u001b[0;36mclone_from\u001b[0;34m(cls, url, to_path, progress, env, multi_options, **kwargs)\u001b[0m\n\u001b[1;32m   1017\u001b[0m         \u001b[0;32mif\u001b[0m \u001b[0menv\u001b[0m \u001b[0;32mis\u001b[0m \u001b[0;32mnot\u001b[0m \u001b[0;32mNone\u001b[0m\u001b[0;34m:\u001b[0m\u001b[0;34m\u001b[0m\u001b[0;34m\u001b[0m\u001b[0m\n\u001b[1;32m   1018\u001b[0m             \u001b[0mgit\u001b[0m\u001b[0;34m.\u001b[0m\u001b[0mupdate_environment\u001b[0m\u001b[0;34m(\u001b[0m\u001b[0;34m**\u001b[0m\u001b[0menv\u001b[0m\u001b[0;34m)\u001b[0m\u001b[0;34m\u001b[0m\u001b[0;34m\u001b[0m\u001b[0m\n\u001b[0;32m-> 1019\u001b[0;31m         \u001b[0;32mreturn\u001b[0m \u001b[0mcls\u001b[0m\u001b[0;34m.\u001b[0m\u001b[0m_clone\u001b[0m\u001b[0;34m(\u001b[0m\u001b[0mgit\u001b[0m\u001b[0;34m,\u001b[0m \u001b[0murl\u001b[0m\u001b[0;34m,\u001b[0m \u001b[0mto_path\u001b[0m\u001b[0;34m,\u001b[0m \u001b[0mGitCmdObjectDB\u001b[0m\u001b[0;34m,\u001b[0m \u001b[0mprogress\u001b[0m\u001b[0;34m,\u001b[0m \u001b[0mmulti_options\u001b[0m\u001b[0;34m,\u001b[0m \u001b[0;34m**\u001b[0m\u001b[0mkwargs\u001b[0m\u001b[0;34m)\u001b[0m\u001b[0;34m\u001b[0m\u001b[0;34m\u001b[0m\u001b[0m\n\u001b[0m\u001b[1;32m   1020\u001b[0m \u001b[0;34m\u001b[0m\u001b[0m\n\u001b[1;32m   1021\u001b[0m     \u001b[0;32mdef\u001b[0m \u001b[0marchive\u001b[0m\u001b[0;34m(\u001b[0m\u001b[0mself\u001b[0m\u001b[0;34m,\u001b[0m \u001b[0mostream\u001b[0m\u001b[0;34m,\u001b[0m \u001b[0mtreeish\u001b[0m\u001b[0;34m=\u001b[0m\u001b[0;32mNone\u001b[0m\u001b[0;34m,\u001b[0m \u001b[0mprefix\u001b[0m\u001b[0;34m=\u001b[0m\u001b[0;32mNone\u001b[0m\u001b[0;34m,\u001b[0m \u001b[0;34m**\u001b[0m\u001b[0mkwargs\u001b[0m\u001b[0;34m)\u001b[0m\u001b[0;34m:\u001b[0m\u001b[0;34m\u001b[0m\u001b[0;34m\u001b[0m\u001b[0m\n",
      "\u001b[0;32m~/.pyenv/versions/3.7.6/envs/jupyterlab/lib/python3.7/site-packages/git/repo/base.py\u001b[0m in \u001b[0;36m_clone\u001b[0;34m(cls, git, url, path, odb_default_type, progress, multi_options, **kwargs)\u001b[0m\n\u001b[1;32m    958\u001b[0m             \u001b[0;34m(\u001b[0m\u001b[0mstdout\u001b[0m\u001b[0;34m,\u001b[0m \u001b[0mstderr\u001b[0m\u001b[0;34m)\u001b[0m \u001b[0;34m=\u001b[0m \u001b[0mproc\u001b[0m\u001b[0;34m.\u001b[0m\u001b[0mcommunicate\u001b[0m\u001b[0;34m(\u001b[0m\u001b[0;34m)\u001b[0m\u001b[0;34m\u001b[0m\u001b[0;34m\u001b[0m\u001b[0m\n\u001b[1;32m    959\u001b[0m             \u001b[0mlog\u001b[0m\u001b[0;34m.\u001b[0m\u001b[0mdebug\u001b[0m\u001b[0;34m(\u001b[0m\u001b[0;34m\"Cmd(%s)'s unused stdout: %s\"\u001b[0m\u001b[0;34m,\u001b[0m \u001b[0mgetattr\u001b[0m\u001b[0;34m(\u001b[0m\u001b[0mproc\u001b[0m\u001b[0;34m,\u001b[0m \u001b[0;34m'args'\u001b[0m\u001b[0;34m,\u001b[0m \u001b[0;34m''\u001b[0m\u001b[0;34m)\u001b[0m\u001b[0;34m,\u001b[0m \u001b[0mstdout\u001b[0m\u001b[0;34m)\u001b[0m\u001b[0;34m\u001b[0m\u001b[0;34m\u001b[0m\u001b[0m\n\u001b[0;32m--> 960\u001b[0;31m             \u001b[0mfinalize_process\u001b[0m\u001b[0;34m(\u001b[0m\u001b[0mproc\u001b[0m\u001b[0;34m,\u001b[0m \u001b[0mstderr\u001b[0m\u001b[0;34m=\u001b[0m\u001b[0mstderr\u001b[0m\u001b[0;34m)\u001b[0m\u001b[0;34m\u001b[0m\u001b[0;34m\u001b[0m\u001b[0m\n\u001b[0m\u001b[1;32m    961\u001b[0m \u001b[0;34m\u001b[0m\u001b[0m\n\u001b[1;32m    962\u001b[0m         \u001b[0;31m# our git command could have a different working dir than our actual\u001b[0m\u001b[0;34m\u001b[0m\u001b[0;34m\u001b[0m\u001b[0;34m\u001b[0m\u001b[0m\n",
      "\u001b[0;32m~/.pyenv/versions/3.7.6/envs/jupyterlab/lib/python3.7/site-packages/git/util.py\u001b[0m in \u001b[0;36mfinalize_process\u001b[0;34m(proc, **kwargs)\u001b[0m\n\u001b[1;32m    326\u001b[0m     \u001b[0;34m\"\"\"Wait for the process (clone, fetch, pull or push) and handle its errors accordingly\"\"\"\u001b[0m\u001b[0;34m\u001b[0m\u001b[0;34m\u001b[0m\u001b[0m\n\u001b[1;32m    327\u001b[0m     \u001b[0;31m## TODO: No close proc-streams??\u001b[0m\u001b[0;34m\u001b[0m\u001b[0;34m\u001b[0m\u001b[0;34m\u001b[0m\u001b[0m\n\u001b[0;32m--> 328\u001b[0;31m     \u001b[0mproc\u001b[0m\u001b[0;34m.\u001b[0m\u001b[0mwait\u001b[0m\u001b[0;34m(\u001b[0m\u001b[0;34m**\u001b[0m\u001b[0mkwargs\u001b[0m\u001b[0;34m)\u001b[0m\u001b[0;34m\u001b[0m\u001b[0;34m\u001b[0m\u001b[0m\n\u001b[0m\u001b[1;32m    329\u001b[0m \u001b[0;34m\u001b[0m\u001b[0m\n\u001b[1;32m    330\u001b[0m \u001b[0;34m\u001b[0m\u001b[0m\n",
      "\u001b[0;32m~/.pyenv/versions/3.7.6/envs/jupyterlab/lib/python3.7/site-packages/git/cmd.py\u001b[0m in \u001b[0;36mwait\u001b[0;34m(self, stderr)\u001b[0m\n\u001b[1;32m    406\u001b[0m                 \u001b[0merrstr\u001b[0m \u001b[0;34m=\u001b[0m \u001b[0mread_all_from_possibly_closed_stream\u001b[0m\u001b[0;34m(\u001b[0m\u001b[0mself\u001b[0m\u001b[0;34m.\u001b[0m\u001b[0mproc\u001b[0m\u001b[0;34m.\u001b[0m\u001b[0mstderr\u001b[0m\u001b[0;34m)\u001b[0m\u001b[0;34m\u001b[0m\u001b[0;34m\u001b[0m\u001b[0m\n\u001b[1;32m    407\u001b[0m                 \u001b[0mlog\u001b[0m\u001b[0;34m.\u001b[0m\u001b[0mdebug\u001b[0m\u001b[0;34m(\u001b[0m\u001b[0;34m'AutoInterrupt wait stderr: %r'\u001b[0m \u001b[0;34m%\u001b[0m \u001b[0;34m(\u001b[0m\u001b[0merrstr\u001b[0m\u001b[0;34m,\u001b[0m\u001b[0;34m)\u001b[0m\u001b[0;34m)\u001b[0m\u001b[0;34m\u001b[0m\u001b[0;34m\u001b[0m\u001b[0m\n\u001b[0;32m--> 408\u001b[0;31m                 \u001b[0;32mraise\u001b[0m \u001b[0mGitCommandError\u001b[0m\u001b[0;34m(\u001b[0m\u001b[0mself\u001b[0m\u001b[0;34m.\u001b[0m\u001b[0margs\u001b[0m\u001b[0;34m,\u001b[0m \u001b[0mstatus\u001b[0m\u001b[0;34m,\u001b[0m \u001b[0merrstr\u001b[0m\u001b[0;34m)\u001b[0m\u001b[0;34m\u001b[0m\u001b[0;34m\u001b[0m\u001b[0m\n\u001b[0m\u001b[1;32m    409\u001b[0m             \u001b[0;31m# END status handling\u001b[0m\u001b[0;34m\u001b[0m\u001b[0;34m\u001b[0m\u001b[0;34m\u001b[0m\u001b[0m\n\u001b[1;32m    410\u001b[0m             \u001b[0;32mreturn\u001b[0m \u001b[0mstatus\u001b[0m\u001b[0;34m\u001b[0m\u001b[0;34m\u001b[0m\u001b[0m\n",
      "\u001b[0;31mGitCommandError\u001b[0m: Cmd('git') failed due to: exit code(128)\n  cmdline: git clone --branch=main -v https://github.com/aiqc/aiqc /images\n  stderr: 'fatal: could not create work tree dir '/images': Read-only file system\n'"
     ]
    }
   ],
   "source": [
    "Repo.clone_from(\"https://github.com/aiqc/aiqc\", \"/tree/main/images\", branch='main')"
   ]
  },
  {
   "cell_type": "code",
   "execution_count": 28,
   "metadata": {},
   "outputs": [
    {
     "name": "stderr",
     "output_type": "stream",
     "text": [
      "/Users/layne/.pyenv/versions/3.7.6/envs/jupyterlab/lib/python3.7/site-packages/pandas/compat/__init__.py:120: UserWarning: Could not import the lzma module. Your installed Python is incomplete. Attempting to use lzma compression will result in a RuntimeError.\n",
      "  warnings.warn(msg)\n"
     ]
    }
   ],
   "source": [
    "import numpy as np\n",
    "import pandas as pd"
   ]
  },
  {
   "cell_type": "code",
   "execution_count": null,
   "metadata": {},
   "outputs": [],
   "source": []
  }
 ],
 "metadata": {
  "kernelspec": {
   "display_name": "Python 3",
   "language": "python",
   "name": "python3"
  },
  "language_info": {
   "codemirror_mode": {
    "name": "ipython",
    "version": 3
   },
   "file_extension": ".py",
   "mimetype": "text/x-python",
   "name": "python",
   "nbconvert_exporter": "python",
   "pygments_lexer": "ipython3",
   "version": "3.7.6"
  }
 },
 "nbformat": 4,
 "nbformat_minor": 4
}
